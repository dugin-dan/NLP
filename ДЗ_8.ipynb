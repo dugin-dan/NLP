{
  "nbformat": 4,
  "nbformat_minor": 0,
  "metadata": {
    "colab": {
      "provenance": []
    },
    "kernelspec": {
      "name": "python3",
      "display_name": "Python 3"
    },
    "language_info": {
      "name": "python"
    }
  },
  "cells": [
    {
      "cell_type": "markdown",
      "source": [
        "# Домашнее задание №8. Рекуррентные нейронные сети RNN LSTM GRU"
      ],
      "metadata": {
        "id": "yF4M0IQGgz-N"
      }
    },
    {
      "cell_type": "markdown",
      "source": [
        "## Задание:\n",
        "\n",
        "На вебинаре мы говорили, что долгое время CNN и RNN архитектуры были конурируещими. Выяснить, какая архитектура больше подходит для нашей задачи:\n",
        "\n",
        "построить свёрточные архитектуры\n",
        "построить различные архитектуры с RNN\n",
        "построить совместные архитектуры CNN -> RNN или (RNN -> CNN)"
      ],
      "metadata": {
        "id": "tXvcQr6Bg5FB"
      }
    },
    {
      "cell_type": "markdown",
      "source": [
        "## Подготовка"
      ],
      "metadata": {
        "id": "9glpQgg5hBzz"
      }
    },
    {
      "cell_type": "code",
      "source": [
        "pip install stop_words"
      ],
      "metadata": {
        "colab": {
          "base_uri": "https://localhost:8080/"
        },
        "id": "pTeNFZLwhSIJ",
        "outputId": "ba3764b9-5d2f-4679-8382-fb2ee2d5ca14"
      },
      "execution_count": 3,
      "outputs": [
        {
          "output_type": "stream",
          "name": "stdout",
          "text": [
            "Looking in indexes: https://pypi.org/simple, https://us-python.pkg.dev/colab-wheels/public/simple/\n",
            "Collecting stop_words\n",
            "  Downloading stop-words-2018.7.23.tar.gz (31 kB)\n",
            "  Preparing metadata (setup.py) ... \u001b[?25l\u001b[?25hdone\n",
            "Building wheels for collected packages: stop_words\n",
            "  Building wheel for stop_words (setup.py) ... \u001b[?25l\u001b[?25hdone\n",
            "  Created wheel for stop_words: filename=stop_words-2018.7.23-py3-none-any.whl size=32910 sha256=c16c86045be893990aba9c678205b178683829c6b703de72be82d4e29a6348fd\n",
            "  Stored in directory: /root/.cache/pip/wheels/eb/03/0d/3bd31c983789aeb0b4d5e2ca48590288d9db1586cf5f225062\n",
            "Successfully built stop_words\n",
            "Installing collected packages: stop_words\n",
            "Successfully installed stop_words-2018.7.23\n"
          ]
        }
      ]
    },
    {
      "cell_type": "code",
      "source": [
        "pip install pymorphy2"
      ],
      "metadata": {
        "colab": {
          "base_uri": "https://localhost:8080/"
        },
        "id": "C-tLboUnhn2K",
        "outputId": "2e5deb8e-360d-41b8-b309-86f683114303"
      },
      "execution_count": 4,
      "outputs": [
        {
          "output_type": "stream",
          "name": "stdout",
          "text": [
            "Looking in indexes: https://pypi.org/simple, https://us-python.pkg.dev/colab-wheels/public/simple/\n",
            "Collecting pymorphy2\n",
            "  Downloading pymorphy2-0.9.1-py3-none-any.whl (55 kB)\n",
            "\u001b[2K     \u001b[90m━━━━━━━━━━━━━━━━━━━━━━━━━━━━━━━━━━━━━━━━\u001b[0m \u001b[32m55.5/55.5 KB\u001b[0m \u001b[31m2.1 MB/s\u001b[0m eta \u001b[36m0:00:00\u001b[0m\n",
            "\u001b[?25hCollecting pymorphy2-dicts-ru<3.0,>=2.4\n",
            "  Downloading pymorphy2_dicts_ru-2.4.417127.4579844-py2.py3-none-any.whl (8.2 MB)\n",
            "\u001b[2K     \u001b[90m━━━━━━━━━━━━━━━━━━━━━━━━━━━━━━━━━━━━━━━━\u001b[0m \u001b[32m8.2/8.2 MB\u001b[0m \u001b[31m50.5 MB/s\u001b[0m eta \u001b[36m0:00:00\u001b[0m\n",
            "\u001b[?25hCollecting docopt>=0.6\n",
            "  Downloading docopt-0.6.2.tar.gz (25 kB)\n",
            "  Preparing metadata (setup.py) ... \u001b[?25l\u001b[?25hdone\n",
            "Collecting dawg-python>=0.7.1\n",
            "  Downloading DAWG_Python-0.7.2-py2.py3-none-any.whl (11 kB)\n",
            "Building wheels for collected packages: docopt\n",
            "  Building wheel for docopt (setup.py) ... \u001b[?25l\u001b[?25hdone\n",
            "  Created wheel for docopt: filename=docopt-0.6.2-py2.py3-none-any.whl size=13723 sha256=bc2e0c7f5cfeb9ef7032ddf7cc7b629530213bf3cfb929799b3e9e9dd9704165\n",
            "  Stored in directory: /root/.cache/pip/wheels/56/ea/58/ead137b087d9e326852a851351d1debf4ada529b6ac0ec4e8c\n",
            "Successfully built docopt\n",
            "Installing collected packages: pymorphy2-dicts-ru, docopt, dawg-python, pymorphy2\n",
            "Successfully installed dawg-python-0.7.2 docopt-0.6.2 pymorphy2-0.9.1 pymorphy2-dicts-ru-2.4.417127.4579844\n"
          ]
        }
      ]
    },
    {
      "cell_type": "code",
      "source": [
        "pip install keras_preprocessing"
      ],
      "metadata": {
        "colab": {
          "base_uri": "https://localhost:8080/"
        },
        "id": "Xw9RbVuRigR8",
        "outputId": "40cdb8e3-d2f7-4b7f-eaf5-93eb1e0e1564"
      },
      "execution_count": 9,
      "outputs": [
        {
          "output_type": "stream",
          "name": "stdout",
          "text": [
            "Looking in indexes: https://pypi.org/simple, https://us-python.pkg.dev/colab-wheels/public/simple/\n",
            "Collecting keras_preprocessing\n",
            "  Downloading Keras_Preprocessing-1.1.2-py2.py3-none-any.whl (42 kB)\n",
            "\u001b[2K     \u001b[90m━━━━━━━━━━━━━━━━━━━━━━━━━━━━━━━━━━━━━━━━\u001b[0m \u001b[32m42.6/42.6 KB\u001b[0m \u001b[31m2.1 MB/s\u001b[0m eta \u001b[36m0:00:00\u001b[0m\n",
            "\u001b[?25hRequirement already satisfied: six>=1.9.0 in /usr/local/lib/python3.8/dist-packages (from keras_preprocessing) (1.15.0)\n",
            "Requirement already satisfied: numpy>=1.9.1 in /usr/local/lib/python3.8/dist-packages (from keras_preprocessing) (1.21.6)\n",
            "Installing collected packages: keras_preprocessing\n",
            "Successfully installed keras_preprocessing-1.1.2\n"
          ]
        }
      ]
    },
    {
      "cell_type": "code",
      "execution_count": 14,
      "metadata": {
        "id": "hdfHcKDngy95"
      },
      "outputs": [],
      "source": [
        "import pandas as pd\n",
        "from sklearn.model_selection import train_test_split\n",
        "\n",
        "from string import punctuation\n",
        "from stop_words import get_stop_words\n",
        "from pymorphy2 import MorphAnalyzer\n",
        "import re\n",
        "from keras.preprocessing.text import Tokenizer\n",
        "from keras_preprocessing.sequence import pad_sequences\n",
        "from sklearn.preprocessing import LabelEncoder\n",
        "import tensorflow as tf\n",
        "\n",
        "from keras.losses import SparseCategoricalCrossentropy\n",
        "from keras.models import Sequential, Model\n",
        "from keras.layers import Dense, Dropout, Activation, Input, Embedding, Conv1D, GlobalMaxPool1D, SimpleRNN, LSTM, GRU, Masking\n",
        "from keras.callbacks import TensorBoard \n",
        "from keras.callbacks import EarlyStopping\n",
        "from pathlib import Path"
      ]
    },
    {
      "cell_type": "code",
      "source": [
        "# Функция подсчета f1_score\n",
        "import keras.backend as K\n",
        "def get_f1(y_true, y_pred): #taken from old keras source code\n",
        "    true_positives = K.sum(K.round(K.clip(y_true * y_pred, 0, 1)))\n",
        "    possible_positives = K.sum(K.round(K.clip(y_true, 0, 1)))\n",
        "    predicted_positives = K.sum(K.round(K.clip(y_pred, 0, 1)))\n",
        "    precision = true_positives / (predicted_positives + K.epsilon())\n",
        "    recall = true_positives / (possible_positives + K.epsilon())\n",
        "    f1_val = 2*(precision*recall)/(precision+recall+K.epsilon())\n",
        "    return f1_val"
      ],
      "metadata": {
        "id": "zTSGyOWwhmmz"
      },
      "execution_count": 11,
      "outputs": []
    },
    {
      "cell_type": "markdown",
      "source": [
        "## Загрузка данных"
      ],
      "metadata": {
        "id": "JqNHSO_2iwoZ"
      }
    },
    {
      "cell_type": "code",
      "source": [
        "# Подключаем диск\n",
        "from google.colab import drive\n",
        "drive.mount('/gdrive')\n",
        "# Устанавливаем путь к папке проекта\n",
        "ROOT_PATH = '/gdrive/MyDrive/Colab Notebooks/NLP/Захаров Роман/7_Нейронки_для_анализа_текста'"
      ],
      "metadata": {
        "colab": {
          "base_uri": "https://localhost:8080/"
        },
        "id": "RwzXCf6Civ1R",
        "outputId": "d52df733-9960-49a5-8c84-66e42d7c341c"
      },
      "execution_count": 12,
      "outputs": [
        {
          "output_type": "stream",
          "name": "stdout",
          "text": [
            "Mounted at /gdrive\n"
          ]
        }
      ]
    },
    {
      "cell_type": "code",
      "source": [
        "# Загружаем данные\n",
        "df = pd.read_excel(Path(ROOT_PATH).joinpath('отзывы за лето.xls'))\n",
        "df.head(10)"
      ],
      "metadata": {
        "colab": {
          "base_uri": "https://localhost:8080/",
          "height": 363
        },
        "id": "3jt6no3Ri8-y",
        "outputId": "b9684a49-ebc2-458a-d608-d9b1af693dc1"
      },
      "execution_count": 15,
      "outputs": [
        {
          "output_type": "execute_result",
          "data": {
            "text/plain": [
              "   Rating                                            Content        Date\n",
              "0       5                                     It just works!  2017-08-14\n",
              "1       4  В целом удобноное приложение...из минусов хотя...  2017-08-14\n",
              "2       5                                        Отлично все  2017-08-14\n",
              "3       5  Стал зависать на 1% работы антивируса. Дальше ...  2017-08-14\n",
              "4       5                     Очень удобно, работает быстро.  2017-08-14\n",
              "5       5                                Всё удобно норм 👍👍👍  2017-08-14\n",
              "6       5                          Очень удобное приложение.  2017-08-14\n",
              "7       5                                     Все устраивает  2017-08-14\n",
              "8       5  У меня работает все четко. В отличии от банком...  2017-08-14\n",
              "9       5                                  Очень все хорошо👍  2017-08-14"
            ],
            "text/html": [
              "\n",
              "  <div id=\"df-44516be8-f957-4496-8123-7adc4cdbaba8\">\n",
              "    <div class=\"colab-df-container\">\n",
              "      <div>\n",
              "<style scoped>\n",
              "    .dataframe tbody tr th:only-of-type {\n",
              "        vertical-align: middle;\n",
              "    }\n",
              "\n",
              "    .dataframe tbody tr th {\n",
              "        vertical-align: top;\n",
              "    }\n",
              "\n",
              "    .dataframe thead th {\n",
              "        text-align: right;\n",
              "    }\n",
              "</style>\n",
              "<table border=\"1\" class=\"dataframe\">\n",
              "  <thead>\n",
              "    <tr style=\"text-align: right;\">\n",
              "      <th></th>\n",
              "      <th>Rating</th>\n",
              "      <th>Content</th>\n",
              "      <th>Date</th>\n",
              "    </tr>\n",
              "  </thead>\n",
              "  <tbody>\n",
              "    <tr>\n",
              "      <th>0</th>\n",
              "      <td>5</td>\n",
              "      <td>It just works!</td>\n",
              "      <td>2017-08-14</td>\n",
              "    </tr>\n",
              "    <tr>\n",
              "      <th>1</th>\n",
              "      <td>4</td>\n",
              "      <td>В целом удобноное приложение...из минусов хотя...</td>\n",
              "      <td>2017-08-14</td>\n",
              "    </tr>\n",
              "    <tr>\n",
              "      <th>2</th>\n",
              "      <td>5</td>\n",
              "      <td>Отлично все</td>\n",
              "      <td>2017-08-14</td>\n",
              "    </tr>\n",
              "    <tr>\n",
              "      <th>3</th>\n",
              "      <td>5</td>\n",
              "      <td>Стал зависать на 1% работы антивируса. Дальше ...</td>\n",
              "      <td>2017-08-14</td>\n",
              "    </tr>\n",
              "    <tr>\n",
              "      <th>4</th>\n",
              "      <td>5</td>\n",
              "      <td>Очень удобно, работает быстро.</td>\n",
              "      <td>2017-08-14</td>\n",
              "    </tr>\n",
              "    <tr>\n",
              "      <th>5</th>\n",
              "      <td>5</td>\n",
              "      <td>Всё удобно норм 👍👍👍</td>\n",
              "      <td>2017-08-14</td>\n",
              "    </tr>\n",
              "    <tr>\n",
              "      <th>6</th>\n",
              "      <td>5</td>\n",
              "      <td>Очень удобное приложение.</td>\n",
              "      <td>2017-08-14</td>\n",
              "    </tr>\n",
              "    <tr>\n",
              "      <th>7</th>\n",
              "      <td>5</td>\n",
              "      <td>Все устраивает</td>\n",
              "      <td>2017-08-14</td>\n",
              "    </tr>\n",
              "    <tr>\n",
              "      <th>8</th>\n",
              "      <td>5</td>\n",
              "      <td>У меня работает все четко. В отличии от банком...</td>\n",
              "      <td>2017-08-14</td>\n",
              "    </tr>\n",
              "    <tr>\n",
              "      <th>9</th>\n",
              "      <td>5</td>\n",
              "      <td>Очень все хорошо👍</td>\n",
              "      <td>2017-08-14</td>\n",
              "    </tr>\n",
              "  </tbody>\n",
              "</table>\n",
              "</div>\n",
              "      <button class=\"colab-df-convert\" onclick=\"convertToInteractive('df-44516be8-f957-4496-8123-7adc4cdbaba8')\"\n",
              "              title=\"Convert this dataframe to an interactive table.\"\n",
              "              style=\"display:none;\">\n",
              "        \n",
              "  <svg xmlns=\"http://www.w3.org/2000/svg\" height=\"24px\"viewBox=\"0 0 24 24\"\n",
              "       width=\"24px\">\n",
              "    <path d=\"M0 0h24v24H0V0z\" fill=\"none\"/>\n",
              "    <path d=\"M18.56 5.44l.94 2.06.94-2.06 2.06-.94-2.06-.94-.94-2.06-.94 2.06-2.06.94zm-11 1L8.5 8.5l.94-2.06 2.06-.94-2.06-.94L8.5 2.5l-.94 2.06-2.06.94zm10 10l.94 2.06.94-2.06 2.06-.94-2.06-.94-.94-2.06-.94 2.06-2.06.94z\"/><path d=\"M17.41 7.96l-1.37-1.37c-.4-.4-.92-.59-1.43-.59-.52 0-1.04.2-1.43.59L10.3 9.45l-7.72 7.72c-.78.78-.78 2.05 0 2.83L4 21.41c.39.39.9.59 1.41.59.51 0 1.02-.2 1.41-.59l7.78-7.78 2.81-2.81c.8-.78.8-2.07 0-2.86zM5.41 20L4 18.59l7.72-7.72 1.47 1.35L5.41 20z\"/>\n",
              "  </svg>\n",
              "      </button>\n",
              "      \n",
              "  <style>\n",
              "    .colab-df-container {\n",
              "      display:flex;\n",
              "      flex-wrap:wrap;\n",
              "      gap: 12px;\n",
              "    }\n",
              "\n",
              "    .colab-df-convert {\n",
              "      background-color: #E8F0FE;\n",
              "      border: none;\n",
              "      border-radius: 50%;\n",
              "      cursor: pointer;\n",
              "      display: none;\n",
              "      fill: #1967D2;\n",
              "      height: 32px;\n",
              "      padding: 0 0 0 0;\n",
              "      width: 32px;\n",
              "    }\n",
              "\n",
              "    .colab-df-convert:hover {\n",
              "      background-color: #E2EBFA;\n",
              "      box-shadow: 0px 1px 2px rgba(60, 64, 67, 0.3), 0px 1px 3px 1px rgba(60, 64, 67, 0.15);\n",
              "      fill: #174EA6;\n",
              "    }\n",
              "\n",
              "    [theme=dark] .colab-df-convert {\n",
              "      background-color: #3B4455;\n",
              "      fill: #D2E3FC;\n",
              "    }\n",
              "\n",
              "    [theme=dark] .colab-df-convert:hover {\n",
              "      background-color: #434B5C;\n",
              "      box-shadow: 0px 1px 3px 1px rgba(0, 0, 0, 0.15);\n",
              "      filter: drop-shadow(0px 1px 2px rgba(0, 0, 0, 0.3));\n",
              "      fill: #FFFFFF;\n",
              "    }\n",
              "  </style>\n",
              "\n",
              "      <script>\n",
              "        const buttonEl =\n",
              "          document.querySelector('#df-44516be8-f957-4496-8123-7adc4cdbaba8 button.colab-df-convert');\n",
              "        buttonEl.style.display =\n",
              "          google.colab.kernel.accessAllowed ? 'block' : 'none';\n",
              "\n",
              "        async function convertToInteractive(key) {\n",
              "          const element = document.querySelector('#df-44516be8-f957-4496-8123-7adc4cdbaba8');\n",
              "          const dataTable =\n",
              "            await google.colab.kernel.invokeFunction('convertToInteractive',\n",
              "                                                     [key], {});\n",
              "          if (!dataTable) return;\n",
              "\n",
              "          const docLinkHtml = 'Like what you see? Visit the ' +\n",
              "            '<a target=\"_blank\" href=https://colab.research.google.com/notebooks/data_table.ipynb>data table notebook</a>'\n",
              "            + ' to learn more about interactive tables.';\n",
              "          element.innerHTML = '';\n",
              "          dataTable['output_type'] = 'display_data';\n",
              "          await google.colab.output.renderOutput(dataTable, element);\n",
              "          const docLink = document.createElement('div');\n",
              "          docLink.innerHTML = docLinkHtml;\n",
              "          element.appendChild(docLink);\n",
              "        }\n",
              "      </script>\n",
              "    </div>\n",
              "  </div>\n",
              "  "
            ]
          },
          "metadata": {},
          "execution_count": 15
        }
      ]
    },
    {
      "cell_type": "code",
      "source": [
        "df['Rating'].value_counts()"
      ],
      "metadata": {
        "colab": {
          "base_uri": "https://localhost:8080/"
        },
        "id": "bgoBtj1QjQ_S",
        "outputId": "4be6d734-0ecc-4f57-f1ec-b99de076a43c"
      },
      "execution_count": 16,
      "outputs": [
        {
          "output_type": "execute_result",
          "data": {
            "text/plain": [
              "5    14586\n",
              "1     2276\n",
              "4     2138\n",
              "3      911\n",
              "2      748\n",
              "Name: Rating, dtype: int64"
            ]
          },
          "metadata": {},
          "execution_count": 16
        }
      ]
    },
    {
      "cell_type": "code",
      "source": [
        "df_train, df_test = train_test_split(df, test_size=0.33, random_state=42)\n",
        "df_train = df_train.reset_index(drop=True)\n",
        "df_test = df_test.reset_index(drop=True)\n",
        "df_train.shape, df_test.shape"
      ],
      "metadata": {
        "colab": {
          "base_uri": "https://localhost:8080/"
        },
        "id": "EI8JrI4ojTgq",
        "outputId": "d0330cd0-4453-4f76-b063-cca79a411971"
      },
      "execution_count": 17,
      "outputs": [
        {
          "output_type": "execute_result",
          "data": {
            "text/plain": [
              "((13841, 3), (6818, 3))"
            ]
          },
          "metadata": {},
          "execution_count": 17
        }
      ]
    },
    {
      "cell_type": "code",
      "source": [
        "df_train.head()"
      ],
      "metadata": {
        "id": "XwUKBQ0qjUoq"
      },
      "execution_count": null,
      "outputs": []
    },
    {
      "cell_type": "markdown",
      "source": [
        "## Предобработка данных"
      ],
      "metadata": {
        "id": "j29n3KVCjYAu"
      }
    },
    {
      "cell_type": "code",
      "source": [
        "sw = set(get_stop_words(\"ru\"))\n",
        "exclude = set(punctuation)\n",
        "morpher = MorphAnalyzer()\n",
        "\n",
        "def preprocess_text(txt):\n",
        "    txt = str(txt)\n",
        "    txt = \"\".join(c for c in txt if c not in exclude)\n",
        "    txt = txt.lower()\n",
        "    txt = re.sub(\"\\sне\", \"не\", txt)\n",
        "    txt = [morpher.parse(word)[0].normal_form for word in txt.split() if word not in sw]\n",
        "    return \" \".join(txt)\n",
        "\n",
        "df_train['Content'] = df_train['Content'].apply(preprocess_text)\n",
        "df_test['Content'] = df_test['Content'].apply(preprocess_text)"
      ],
      "metadata": {
        "id": "w82yM66AjXbI"
      },
      "execution_count": 18,
      "outputs": []
    },
    {
      "cell_type": "code",
      "source": [
        "# Готовим словарь\n",
        "\n",
        "text_corpus_train = df_train['Content'].values\n",
        "text_corpus_test = df_test['Content'].values\n",
        "len(text_corpus_train), text_corpus_train # список текстов"
      ],
      "metadata": {
        "colab": {
          "base_uri": "https://localhost:8080/"
        },
        "id": "gMe7fv0ljeTf",
        "outputId": "6cb05468-9788-4082-afc3-5c76c9aaca1f"
      },
      "execution_count": 19,
      "outputs": [
        {
          "output_type": "execute_result",
          "data": {
            "text/plain": [
              "(13841,\n",
              " array(['наконецтый исправить чушь снеоргинальный прошивка приложение удобно пользоваться',\n",
              "        'удобно использование', 'отлично', ...,\n",
              "        'мочь скачать ошибка номер 24', 'сбербанк', 'целое отлично'],\n",
              "       dtype=object))"
            ]
          },
          "metadata": {},
          "execution_count": 19
        }
      ]
    },
    {
      "cell_type": "code",
      "source": [
        "# Векторизируем текстовый корпус, превращая каждый текст в последовательность целых чисел (индексы токенов в словаре)\n",
        "tokenizer = Tokenizer(num_words=None, \n",
        "                     filters='#$%&()*+-<=>@[\\\\]^_`{|}~\\t\\n', #символы для удаления из текстов\n",
        "                     lower = False, #перевод к нижнему регистру\n",
        "                      split = ' ') #разделитель для слов\n",
        "\n",
        "# Обновляем внутренний словарь на основе списка токенов (используется перед text_to_sequences)\n",
        "tokenizer.fit_on_texts(text_corpus_train)\n",
        "\n",
        "# Словарь из токенов\n",
        "len(tokenizer.index_word), tokenizer.index_word"
      ],
      "metadata": {
        "colab": {
          "base_uri": "https://localhost:8080/"
        },
        "id": "7Sv03YG0jl3Z",
        "outputId": "17c828be-8492-442d-9031-a8e4598aad44"
      },
      "execution_count": 20,
      "outputs": [
        {
          "output_type": "execute_result",
          "data": {
            "text/plain": [
              "(10292,\n",
              " {1: 'приложение',\n",
              "  2: 'удобно',\n",
              "  3: 'работать',\n",
              "  4: 'удобный',\n",
              "  5: 'отлично',\n",
              "  6: 'нравиться',\n",
              "  7: 'хороший',\n",
              "  8: 'отличный',\n",
              "  9: 'телефон',\n",
              "  10: 'супер',\n",
              "  11: 'быстро',\n",
              "  12: 'обновление',\n",
              "  13: 'пароль',\n",
              "  14: 'мочь',\n",
              "  15: 'пользоваться',\n",
              "  16: 'антивирус',\n",
              "  17: 'банк',\n",
              "  18: 'вход',\n",
              "  19: 'устраивать',\n",
              "  20: 'сбербанк',\n",
              "  21: 'раз',\n",
              "  22: 'прошивка',\n",
              "  23: 'карта',\n",
              "  24: 'проблема',\n",
              "  25: 'рута',\n",
              "  26: 'программа',\n",
              "  27: 'ошибка',\n",
              "  28: 'разработчик',\n",
              "  29: 'сделать',\n",
              "  30: 'приходиться',\n",
              "  31: 'вводить',\n",
              "  32: 'перевод',\n",
              "  33: 'счёт',\n",
              "  34: 'писать',\n",
              "  35: 'норма',\n",
              "  36: 'деньга',\n",
              "  37: 'довольный',\n",
              "  38: 'около',\n",
              "  39: 'постоянно',\n",
              "  40: 'нормально',\n",
              "  41: 'код',\n",
              "  42: 'исправить',\n",
              "  43: 'смс',\n",
              "  44: 'платёж',\n",
              "  45: 'понятно',\n",
              "  46: 'последний',\n",
              "  47: 'функция',\n",
              "  48: 'зайти',\n",
              "  49: 'свой',\n",
              "  50: 'вылетать',\n",
              "  51: 'мобильный',\n",
              "  52: 'стать',\n",
              "  53: 'шаблон',\n",
              "  54: 'приходить',\n",
              "  55: 'возможность',\n",
              "  56: 'право',\n",
              "  57: 'делать',\n",
              "  58: 'иня',\n",
              "  59: 'проверка',\n",
              "  60: 'класс',\n",
              "  61: 'установить',\n",
              "  62: 'root',\n",
              "  63: 'заходить',\n",
              "  64: '5',\n",
              "  65: 'meizu',\n",
              "  66: 'работа',\n",
              "  67: 'операция',\n",
              "  68: 'оплата',\n",
              "  69: 'нужный',\n",
              "  70: 'онлайн',\n",
              "  71: 'войти',\n",
              "  72: 'ввод',\n",
              "  73: 'функционал',\n",
              "  74: 'мой',\n",
              "  75: 'доступ',\n",
              "  76: 'версия',\n",
              "  77: 'первый',\n",
              "  78: 'молодец',\n",
              "  79: 'один',\n",
              "  80: 'отпечаток',\n",
              "  81: 'удалить',\n",
              "  82: 'полный',\n",
              "  83: 'вообще',\n",
              "  84: 'номер',\n",
              "  85: 'новый',\n",
              "  86: 'интернет',\n",
              "  87: 'самый',\n",
              "  88: '2',\n",
              "  89: 'изз',\n",
              "  90: 'круто',\n",
              "  91: 'уведомление',\n",
              "  92: 'убрать',\n",
              "  93: 'просить',\n",
              "  94: 'какой',\n",
              "  95: 'запуск',\n",
              "  96: 'приложениен',\n",
              "  97: 'перестать',\n",
              "  98: 'ян',\n",
              "  99: 'клиент',\n",
              "  100: 'понравиться',\n",
              "  101: 'ваш',\n",
              "  102: 'оплатить',\n",
              "  103: 'рука',\n",
              "  104: 'устройство',\n",
              "  105: 'кредит',\n",
              "  106: 'простой',\n",
              "  107: 'легко',\n",
              "  108: 'плохо',\n",
              "  109: 'удалять',\n",
              "  110: 'выдавать',\n",
              "  111: 'оплачивать',\n",
              "  112: 'вирус',\n",
              "  113: 'целое',\n",
              "  114: 'сбер',\n",
              "  115: 'палец',\n",
              "  116: 'запускаться',\n",
              "  117: 'дом',\n",
              "  118: 'выходить',\n",
              "  119: 'плохой',\n",
              "  120: '3',\n",
              "  121: 'добавить',\n",
              "  122: 'сразу',\n",
              "  123: 'большой',\n",
              "  124: 'ждать',\n",
              "  125: 'нормальный',\n",
              "  126: 'открываться',\n",
              "  127: 'замечательный',\n",
              "  128: 'другой',\n",
              "  129: 'безопасность',\n",
              "  130: 'быстрый',\n",
              "  131: 'минус',\n",
              "  132: 'любой',\n",
              "  133: 'ввести',\n",
              "  134: 'оригинальный',\n",
              "  135: 'никакой',\n",
              "  136: 'интерфейс',\n",
              "  137: 'каждый',\n",
              "  138: 'дать',\n",
              "  139: 'услуга',\n",
              "  140: 'ничегон',\n",
              "  141: 'идти',\n",
              "  142: 'грузиться',\n",
              "  143: 'месяц',\n",
              "  144: 'знать',\n",
              "  145: 'проверять',\n",
              "  146: 'отзыв',\n",
              "  147: 'переводить',\n",
              "  148: 'инициализация',\n",
              "  149: 'сообщение',\n",
              "  150: 'хотеть',\n",
              "  151: 'звезда',\n",
              "  152: 'установка',\n",
              "  153: '4',\n",
              "  154: 'сервис',\n",
              "  155: 'устанавливаться',\n",
              "  156: 'дело',\n",
              "  157: 'банкомат',\n",
              "  158: 'контакт',\n",
              "  159: 'классный',\n",
              "  160: 'главное',\n",
              "  161: 'видеть',\n",
              "  162: 'загружаться',\n",
              "  163: 'минута',\n",
              "  164: 'скачать',\n",
              "  165: 'давать',\n",
              "  166: 'вернуть',\n",
              "  167: 'андроид',\n",
              "  168: 'ставить',\n",
              "  169: 'долгий',\n",
              "  170: 'попытка',\n",
              "  171: 'перевести',\n",
              "  172: 'загрузка',\n",
              "  173: 'остальной',\n",
              "  174: 'тормозить',\n",
              "  175: 'смартфон',\n",
              "  176: 'финансы',\n",
              "  177: 'найти',\n",
              "  178: 'решить',\n",
              "  179: 'встроить',\n",
              "  180: 'чётко',\n",
              "  181: 'использование',\n",
              "  182: 'прийтись',\n",
              "  183: 'сумма',\n",
              "  184: 'классно',\n",
              "  185: 'зависать',\n",
              "  186: 'хотеться',\n",
              "  187: 'история',\n",
              "  188: 'полезный',\n",
              "  189: 'получаться',\n",
              "  190: '10',\n",
              "  191: 'доступно',\n",
              "  192: 'система',\n",
              "  193: 'средство',\n",
              "  194: 'ужасный',\n",
              "  195: 'связь',\n",
              "  196: 'прога',\n",
              "  197: 'пин',\n",
              "  198: 'общий',\n",
              "  199: 'заново',\n",
              "  200: 'вообщен',\n",
              "  201: 'старый',\n",
              "  202: 'пользователь',\n",
              "  203: 'возможно',\n",
              "  204: 'такой',\n",
              "  205: 'входить',\n",
              "  206: 'пропасть',\n",
              "  207: 'вроде',\n",
              "  208: 'настройка',\n",
              "  209: 'информация',\n",
              "  210: 'бесить',\n",
              "  211: 'смочь',\n",
              "  212: 'понятный',\n",
              "  213: 'дважды',\n",
              "  214: 'второй',\n",
              "  215: 'сайт',\n",
              "  216: 'помогать',\n",
              "  217: 'думать',\n",
              "  218: 'сеть',\n",
              "  219: 'который',\n",
              "  220: 'глючить',\n",
              "  221: 'чтоня',\n",
              "  222: 'баланс',\n",
              "  223: '24',\n",
              "  224: 'пытаться',\n",
              "  225: 'открыть',\n",
              "  226: 'экономить',\n",
              "  227: 'посмотреть',\n",
              "  228: 'выкидывать',\n",
              "  229: 'требовать',\n",
              "  230: 'управлять',\n",
              "  231: 'момент',\n",
              "  232: 'гуд',\n",
              "  233: 'происходить',\n",
              "  234: 'день',\n",
              "  235: 'лишний',\n",
              "  236: 'поставить',\n",
              "  237: '1',\n",
              "  238: 'показывать',\n",
              "  239: 'оценка',\n",
              "  240: 'сервер',\n",
              "  241: 'этоня',\n",
              "  242: 'отправить',\n",
              "  243: 'ужасно',\n",
              "  244: 'рекомендовать',\n",
              "  245: 'данный',\n",
              "  246: 'ноне',\n",
              "  247: 'стабильно',\n",
              "  248: 'должный',\n",
              "  249: 'постоянный',\n",
              "  250: 'android',\n",
              "  251: 'советовать',\n",
              "  252: 'здорово',\n",
              "  253: 'вклад',\n",
              "  254: 'память',\n",
              "  255: 'чтоть',\n",
              "  256: 'либо',\n",
              "  257: 'тупить',\n",
              "  258: 'заработать',\n",
              "  259: 'тк',\n",
              "  260: 'личный',\n",
              "  261: 'регистрация',\n",
              "  262: 'обновить',\n",
              "  263: 'стоить',\n",
              "  264: 'раздражать',\n",
              "  265: 'появиться',\n",
              "  266: 'приятно',\n",
              "  267: 'экран',\n",
              "  268: 'покан',\n",
              "  269: 'разобраться',\n",
              "  270: 'висеть',\n",
              "  271: 'запрашивать',\n",
              "  272: 'вопрос',\n",
              "  273: 'сбой',\n",
              "  274: 'ребята',\n",
              "  275: 'виснуть',\n",
              "  276: 'доступный',\n",
              "  277: 'подтверждение',\n",
              "  278: 'надёжно',\n",
              "  279: 'бесполезный',\n",
              "  280: 'читать',\n",
              "  281: 'совершать',\n",
              "  282: 'место',\n",
              "  283: 'официальный',\n",
              "  284: 'выручать',\n",
              "  285: 'использовать',\n",
              "  286: 'полностью',\n",
              "  287: 'соединение',\n",
              "  288: 'ограничение',\n",
              "  289: 'ограничить',\n",
              "  290: 'страница',\n",
              "  291: 'redmi',\n",
              "  292: 'написать',\n",
              "  293: 'огромный',\n",
              "  294: 'ругаться',\n",
              "  295: 'глюк',\n",
              "  296: 'слово',\n",
              "  297: 'ана',\n",
              "  298: 'samsung',\n",
              "  299: 'логин',\n",
              "  300: 'дажена',\n",
              "  301: 'проверить',\n",
              "  302: 'набирать',\n",
              "  303: 'помощь',\n",
              "  304: 'менять',\n",
              "  305: 'держать',\n",
              "  306: 'человек',\n",
              "  307: 'кабинет',\n",
              "  308: 'понимать',\n",
              "  309: 'вполне',\n",
              "  310: 'xiaomi',\n",
              "  311: 'отвратительный',\n",
              "  312: 'сканер',\n",
              "  313: 'хватать',\n",
              "  314: 'список',\n",
              "  315: 'ответ',\n",
              "  316: '👍',\n",
              "  317: 'банковский',\n",
              "  318: 'мейза',\n",
              "  319: 'управление',\n",
              "  320: 'получить',\n",
              "  321: 'поэтому',\n",
              "  322: 'нарекание',\n",
              "  323: 'платить',\n",
              "  324: 'уважаемый',\n",
              "  325: 'помочь',\n",
              "  326: 'находить',\n",
              "  327: 'начинать',\n",
              "  328: 'появляться',\n",
              "  329: 'повторный',\n",
              "  330: 'очередь',\n",
              "  331: 'лично',\n",
              "  332: 'самсунг',\n",
              "  333: 'предложение',\n",
              "  334: 'обновляться',\n",
              "  335: 'удобство',\n",
              "  336: 'штрихкод',\n",
              "  337: 'радовать',\n",
              "  338: 'прекрасный',\n",
              "  339: 'проходить',\n",
              "  340: 'смысл',\n",
              "  341: 'обновлениян',\n",
              "  342: 'браузер',\n",
              "  343: 'исправлять',\n",
              "  344: '👍👍👍',\n",
              "  345: 'равно',\n",
              "  346: 'подключение',\n",
              "  347: 'единственный',\n",
              "  348: 'исправт',\n",
              "  349: 'достаточно',\n",
              "  350: 'грузить',\n",
              "  351: '23',\n",
              "  352: 'отображаться',\n",
              "  353: 'ужас',\n",
              "  354: 'надеяться',\n",
              "  355: 'час',\n",
              "  356: 'плюс',\n",
              "  357: 'защита',\n",
              "  358: 'илинет',\n",
              "  359: 'раздел',\n",
              "  360: 'приятный',\n",
              "  361: 'начать',\n",
              "  362: 'подключить',\n",
              "  363: 'файл',\n",
              "  364: 'расход',\n",
              "  365: 'косяк',\n",
              "  366: 'сильно',\n",
              "  367: 'оперативно',\n",
              "  368: 'ходить',\n",
              "  369: 'обслуживание',\n",
              "  370: 'note',\n",
              "  371: 'выбрасывать',\n",
              "  372: 'открывать',\n",
              "  373: 'хрень',\n",
              "  374: 'отключить',\n",
              "  375: 'выполнять',\n",
              "  376: 'итог',\n",
              "  377: 'удобноне',\n",
              "  378: 'pay',\n",
              "  379: 'почемуть',\n",
              "  380: '6',\n",
              "  381: 'меню',\n",
              "  382: 'понесколько',\n",
              "  383: 'многий',\n",
              "  384: 'авторизация',\n",
              "  385: 'какойтый',\n",
              "  386: 'пинкод',\n",
              "  387: '100',\n",
              "  388: 'бред',\n",
              "  389: 'пользование',\n",
              "  390: 'действие',\n",
              "  391: 'тд',\n",
              "  392: 'разраб',\n",
              "  393: 'стоять',\n",
              "  394: 'планшет',\n",
              "  395: 'срочно',\n",
              "  396: 'больший',\n",
              "  397: 'напрягать',\n",
              "  398: 'безопасно',\n",
              "  399: 'крутой',\n",
              "  400: 'удаление',\n",
              "  401: 'считать',\n",
              "  402: 'друг',\n",
              "  403: 'например',\n",
              "  404: 'заводский',\n",
              "  405: 'скачивать',\n",
              "  406: 'занимать',\n",
              "  407: 'good',\n",
              "  408: 'скачиваться',\n",
              "  409: 'жаль',\n",
              "  410: 'третий',\n",
              "  411: 'устанавливать',\n",
              "  412: 'данные',\n",
              "  413: 'пройти',\n",
              "  414: 'скорость',\n",
              "  415: 'практично',\n",
              "  416: 'пара',\n",
              "  417: 'почемун',\n",
              "  418: 'кнопка',\n",
              "  419: 'видно',\n",
              "  420: 'выписка',\n",
              "  421: 'проблемень',\n",
              "  422: 'причина',\n",
              "  423: 'погашение',\n",
              "  424: 'огонь',\n",
              "  425: 'штука',\n",
              "  426: 'хорошоя',\n",
              "  427: 'пополнить',\n",
              "  428: 'медленно',\n",
              "  429: 'жкх',\n",
              "  430: 'понять',\n",
              "  431: 'm5',\n",
              "  432: 'выбор',\n",
              "  433: 'корректно',\n",
              "  434: 'сканировать',\n",
              "  435: 'прочитать',\n",
              "  436: 'возникать',\n",
              "  437: 'переустановка',\n",
              "  438: 'режим',\n",
              "  439: 'купить',\n",
              "  440: 'остаться',\n",
              "  441: 'случай',\n",
              "  442: 'зарегистрироваться',\n",
              "  443: 'жить',\n",
              "  444: 'инет',\n",
              "  445: 'sony',\n",
              "  446: 'поддержка',\n",
              "  447: 'мнен',\n",
              "  448: 'ok',\n",
              "  449: 'автоплатёж',\n",
              "  450: 'принцип',\n",
              "  451: 'оповещение',\n",
              "  452: 'досрочный',\n",
              "  453: 'super',\n",
              "  454: 'отправлять',\n",
              "  455: 'преложение',\n",
              "  456: 'намного',\n",
              "  457: 'хрен',\n",
              "  458: 'pro',\n",
              "  459: 'квитанция',\n",
              "  460: 'невозможно',\n",
              "  461: 'пропадать',\n",
              "  462: 'штраф',\n",
              "  463: 'сказать',\n",
              "  464: 'пойти',\n",
              "  465: 'баг',\n",
              "  466: 'штрих',\n",
              "  467: 'приветствие',\n",
              "  468: 'неплохо',\n",
              "  469: 'вещь',\n",
              "  470: 'изменить',\n",
              "  471: 'получать',\n",
              "  472: 'оченьнеудобный',\n",
              "  473: 'иначе',\n",
              "  474: 'сброс',\n",
              "  475: 'карман',\n",
              "  476: 'достать',\n",
              "  477: 'нафиг',\n",
              "  478: 'блокировать',\n",
              "  479: 'главный',\n",
              "  480: 'наличие',\n",
              "  481: 'исчезнуть',\n",
              "  482: 'меняня',\n",
              "  483: 'комиссия',\n",
              "  484: 'периодически',\n",
              "  485: 'увидеть',\n",
              "  486: 'создать',\n",
              "  487: 'лёгкий',\n",
              "  488: 'тупой',\n",
              "  489: 'обнова',\n",
              "  490: 'смсон',\n",
              "  491: 'большен',\n",
              "  492: 'приложениян',\n",
              "  493: 'урезать',\n",
              "  494: 'звонить',\n",
              "  495: 'прийти',\n",
              "  496: 'обновлять',\n",
              "  497: 'еслина',\n",
              "  498: 'компьютер',\n",
              "  499: 'выполнить',\n",
              "  500: 'работаетний',\n",
              "  501: 'начало',\n",
              "  502: 'мобильно',\n",
              "  503: 'мешать',\n",
              "  504: 'чтонуть',\n",
              "  505: 'запустить',\n",
              "  506: 'вний',\n",
              "  507: 'отделение',\n",
              "  508: 'открытие',\n",
              "  509: 'быня',\n",
              "  510: 'копилка',\n",
              "  511: 'отказываться',\n",
              "  512: 'разуна',\n",
              "  513: 'galaxy',\n",
              "  514: 'заблокировать',\n",
              "  515: 'прошивкан',\n",
              "  516: 'смотреть',\n",
              "  517: 'секунда',\n",
              "  518: 'якобы',\n",
              "  519: 'задолбать',\n",
              "  520: 'пополнение',\n",
              "  521: 'надоесть',\n",
              "  522: 'обращение',\n",
              "  523: 'ограничивать',\n",
              "  524: 'обратно',\n",
              "  525: 'узнать',\n",
              "  526: 'аппарат',\n",
              "  527: 'включить',\n",
              "  528: 'следить',\n",
              "  529: 'стабильный',\n",
              "  530: 'предлагать',\n",
              "  531: 'совершить',\n",
              "  532: 'добрый',\n",
              "  533: 'теперьня',\n",
              "  534: 'качественно',\n",
              "  535: 'положить',\n",
              "  536: 'дизайн',\n",
              "  537: 'flyme',\n",
              "  538: 'значок',\n",
              "  539: 'сменить',\n",
              "  540: 'сканирование',\n",
              "  541: 'удаться',\n",
              "  542: 'говорить',\n",
              "  543: 'куча',\n",
              "  544: 'сб',\n",
              "  545: 'подряд',\n",
              "  546: 'остаток',\n",
              "  547: 'уровень',\n",
              "  548: 'страна',\n",
              "  549: 'жена',\n",
              "  550: 'никогдан',\n",
              "  551: 'следующий',\n",
              "  552: 'разан',\n",
              "  553: 'прежний',\n",
              "  554: 'здравствуйте',\n",
              "  555: 'создавать',\n",
              "  556: 'повторно',\n",
              "  557: 'окно',\n",
              "  558: 'скачивание',\n",
              "  559: 'переустановить',\n",
              "  560: 'бывать',\n",
              "  561: 'оператор',\n",
              "  562: 'пробовать',\n",
              "  563: 'балл',\n",
              "  564: 'оченьня',\n",
              "  565: 'тело',\n",
              "  566: 'всякий',\n",
              "  567: 'функционально',\n",
              "  568: 'решать',\n",
              "  569: 'россия',\n",
              "  570: 'удача',\n",
              "  571: 'цель',\n",
              "  572: 'rootправо',\n",
              "  573: 'продолжать',\n",
              "  574: 'денежный',\n",
              "  575: 'бесполезно',\n",
              "  576: 'отвечать',\n",
              "  577: 'решение',\n",
              "  578: 'иметься',\n",
              "  579: 'батарея',\n",
              "  580: 'приложениемень',\n",
              "  581: 'медленный',\n",
              "  582: 'китайский',\n",
              "  583: 'пусть',\n",
              "  584: 'пол',\n",
              "  585: 'лагаета',\n",
              "  586: 'требоваться',\n",
              "  587: 'зависание',\n",
              "  588: 'жизнь',\n",
              "  589: 'закрыть',\n",
              "  590: 'запускать',\n",
              "  591: 'качество',\n",
              "  592: 'подключиться',\n",
              "  593: 'предыдущий',\n",
              "  594: 'жрать',\n",
              "  595: 'позволять',\n",
              "  596: 'рутправо',\n",
              "  597: 'простон',\n",
              "  598: 'комфортно',\n",
              "  599: '7',\n",
              "  600: 'закрываться',\n",
              "  601: 'воспользоваться',\n",
              "  602: 'становиться',\n",
              "  603: 'звонок',\n",
              "  604: 'телефонна',\n",
              "  605: 'придумать',\n",
              "  606: 'возможный',\n",
              "  607: 'двойной',\n",
              "  608: 'тон',\n",
              "  609: 'сидеть',\n",
              "  610: 'наконецтый',\n",
              "  611: 'asus',\n",
              "  612: 'правда',\n",
              "  613: 'многие',\n",
              "  614: 'интуитивно',\n",
              "  615: 'ещён',\n",
              "  616: 'пишетний',\n",
              "  617: 'короче',\n",
              "  618: 'поменять',\n",
              "  619: 'оставаться',\n",
              "  620: 'вечно',\n",
              "  621: 'поиск',\n",
              "  622: 'безний',\n",
              "  623: 'господин',\n",
              "  624: 'рутировать',\n",
              "  625: 'изменение',\n",
              "  626: 'рутом',\n",
              "  627: 'брать',\n",
              "  628: 'вид',\n",
              "  629: 'подсказать',\n",
              "  630: 'исправно',\n",
              "  631: 'служба',\n",
              "  632: 'бесконтактный',\n",
              "  633: 'желать',\n",
              "  634: 'целый',\n",
              "  635: 'облегчать',\n",
              "  636: 'произойти',\n",
              "  637: 'модифицированный',\n",
              "  638: 'замечание',\n",
              "  639: 'переустанавливать',\n",
              "  640: 'опция',\n",
              "  641: 'фигня',\n",
              "  642: 'получиться',\n",
              "  643: 'зайтина',\n",
              "  644: 'внимание',\n",
              "  645: 'весь',\n",
              "  646: 'вылет',\n",
              "  647: 'онон',\n",
              "  648: 'абсолютно',\n",
              "  649: 'спрашивать',\n",
              "  650: 'кредитный',\n",
              "  651: 'практически',\n",
              "  652: 'сравнение',\n",
              "  653: 'проводить',\n",
              "  654: 'урезанный',\n",
              "  655: 'прямо',\n",
              "  656: 'исправление',\n",
              "  657: 'ужена',\n",
              "  658: 'подводить',\n",
              "  659: 'высокий',\n",
              "  660: 'антивирусный',\n",
              "  661: 'снести',\n",
              "  662: '2017',\n",
              "  663: 'что',\n",
              "  664: 'ситуация',\n",
              "  665: 'бегать',\n",
              "  666: 'рабочий',\n",
              "  667: 'обнаружить',\n",
              "  668: 'вместо',\n",
              "  669: 'надёжный',\n",
              "  670: 'текущий',\n",
              "  671: 'фон',\n",
              "  672: 'искать',\n",
              "  673: 'видимо',\n",
              "  674: 'видный',\n",
              "  675: 'дерьмо',\n",
              "  676: 'комп',\n",
              "  677: 'останавливаться',\n",
              "  678: 'испортить',\n",
              "  679: 'пополнять',\n",
              "  680: 'доработать',\n",
              "  681: 'снимать',\n",
              "  682: 'мера',\n",
              "  683: 'qr',\n",
              "  684: 'покупка',\n",
              "  685: 'ранее',\n",
              "  686: 'the',\n",
              "  687: 'отсутствовать',\n",
              "  688: 'нажимать',\n",
              "  689: 'аккаунт',\n",
              "  690: 'коммунальный',\n",
              "  691: 'разный',\n",
              "  692: 'правильно',\n",
              "  693: 'этогон',\n",
              "  694: 'набор',\n",
              "  695: 'отстой',\n",
              "  696: 'помощник',\n",
              "  697: 'добавлять',\n",
              "  698: 'контроль',\n",
              "  699: 'вручную',\n",
              "  700: 'какиеть',\n",
              "  701: 'повторить',\n",
              "  702: 'защитить',\n",
              "  703: 'сносить',\n",
              "  704: 'неплохой',\n",
              "  705: 'стабильность',\n",
              "  706: 'просьба',\n",
              "  707: 'чегон',\n",
              "  708: 'менянета',\n",
              "  709: 'конец',\n",
              "  710: 'пункт',\n",
              "  711: 'просмотр',\n",
              "  712: 'произвести',\n",
              "  713: 'красиво',\n",
              "  714: 'установленный',\n",
              "  715: 'lenovo',\n",
              "  716: 'ограниченный',\n",
              "  717: 'запрос',\n",
              "  718: 'ноль',\n",
              "  719: 'весить',\n",
              "  720: 'выйти',\n",
              "  721: 'банкно',\n",
              "  722: 'владелец',\n",
              "  723: 'ресурс',\n",
              "  724: 'привязать',\n",
              "  725: '963',\n",
              "  726: 'списание',\n",
              "  727: 'окей',\n",
              "  728: 'вкладка',\n",
              "  729: 'загружать',\n",
              "  730: 'введение',\n",
              "  731: 'сутки',\n",
              "  732: 'гораздо',\n",
              "  733: 'качать',\n",
              "  734: 'число',\n",
              "  735: 'рутанета',\n",
              "  736: 'слетать',\n",
              "  737: 'весьма',\n",
              "  738: 'телефонана',\n",
              "  739: 'отключение',\n",
              "  740: 'провести',\n",
              "  741: 'любить',\n",
              "  742: 'заметить',\n",
              "  743: 'толк',\n",
              "  744: 'удаваться',\n",
              "  745: 'благодарить',\n",
              "  746: 'состояние',\n",
              "  747: 'отчёт',\n",
              "  748: 'htc',\n",
              "  749: 'редко',\n",
              "  750: 'девайс',\n",
              "  751: 'откуда',\n",
              "  752: 'попасть',\n",
              "  753: 'находиться',\n",
              "  754: 'вайфай',\n",
              "  755: 'регулярно',\n",
              "  756: 'причём',\n",
              "  757: 'регистрироваться',\n",
              "  758: 'кошелёк',\n",
              "  759: 'отображать',\n",
              "  760: 'ништяк',\n",
              "  761: 'перезагрузка',\n",
              "  762: 'принять',\n",
              "  763: 'полноценно',\n",
              "  764: 'удовольствие',\n",
              "  765: 'приложениина',\n",
              "  766: 'функциональный',\n",
              "  767: 'остановить',\n",
              "  768: 'верный',\n",
              "  769: 'попробовать',\n",
              "  770: 'понесколька',\n",
              "  771: 'создатель',\n",
              "  772: 'забыть',\n",
              "  773: 'телефонный',\n",
              "  774: 'порадовать',\n",
              "  775: 'чушь',\n",
              "  776: 'экономия',\n",
              "  777: 'тормоз',\n",
              "  778: 'взять',\n",
              "  779: 'push',\n",
              "  780: 'ура',\n",
              "  781: 'предупреждение',\n",
              "  782: 'тп',\n",
              "  783: 'прошлый',\n",
              "  784: 'криворукий',\n",
              "  785: 'левый',\n",
              "  786: 'разрешение',\n",
              "  787: 'реально',\n",
              "  788: 'загрузить',\n",
              "  789: 'появление',\n",
              "  790: 'дорога',\n",
              "  791: 'комментарий',\n",
              "  792: 'оставлять',\n",
              "  793: 'ожидание',\n",
              "  794: 'поправить',\n",
              "  795: 'устранить',\n",
              "  796: 'безопасный',\n",
              "  797: 'бесконечный',\n",
              "  798: 'контролировать',\n",
              "  799: 'ссылаться',\n",
              "  800: 'лезть',\n",
              "  801: 'дождаться',\n",
              "  802: 'rootдоступ',\n",
              "  803: '0',\n",
              "  804: 'порядок',\n",
              "  805: 'они',\n",
              "  806: 'программист',\n",
              "  807: 'ответить',\n",
              "  808: 'родный',\n",
              "  809: 'спс',\n",
              "  810: 'мнение',\n",
              "  811: 'потерять',\n",
              "  812: 'ерунда',\n",
              "  813: 'xperia',\n",
              "  814: 'иногдан',\n",
              "  815: 'вариант',\n",
              "  816: 'начинаться',\n",
              "  817: 'процесс',\n",
              "  818: 'книга',\n",
              "  819: 'твёрдый',\n",
              "  820: 'похоже',\n",
              "  821: '😊',\n",
              "  822: 'операциина',\n",
              "  823: 'никто',\n",
              "  824: 'осуществлять',\n",
              "  825: 'риск',\n",
              "  826: 'справляться',\n",
              "  827: 'офис',\n",
              "  828: 'запуститься',\n",
              "  829: 'доходить',\n",
              "  830: 'както',\n",
              "  831: 'тема',\n",
              "  832: 'чистый',\n",
              "  833: 'заранее',\n",
              "  834: 'удобнобыстро',\n",
              "  835: 'мелочь',\n",
              "  836: 'ясно',\n",
              "  837: 'сталкиваться',\n",
              "  838: 'егон',\n",
              "  839: 'присутствовать',\n",
              "  840: 'столкнуться',\n",
              "  841: 'удобноспасибо',\n",
              "  842: 'поход',\n",
              "  843: 'надпись',\n",
              "  844: 'зависнуть',\n",
              "  845: 'подвисать',\n",
              "  846: 'заплатить',\n",
              "  847: 'платежина',\n",
              "  848: 'собираться',\n",
              "  849: 'обновиться',\n",
              "  850: 'гута',\n",
              "  851: 'wifi',\n",
              "  852: 'сбрасываться',\n",
              "  853: 'компания',\n",
              "  854: 'единица',\n",
              "  855: 'глючный',\n",
              "  856: 'объяснить',\n",
              "  857: 'производить',\n",
              "  858: 'большинство',\n",
              "  859: 'обидно',\n",
              "  860: 'реквизит',\n",
              "  861: 'чек',\n",
              "  862: 'айфон',\n",
              "  863: 'плач',\n",
              "  864: 'разница',\n",
              "  865: 'чёрт',\n",
              "  866: 'сие',\n",
              "  867: 'просмотреть',\n",
              "  868: 'таки',\n",
              "  869: 'сожаление',\n",
              "  870: 'порн',\n",
              "  871: 'досрочно',\n",
              "  872: 'смена',\n",
              "  873: 'картын',\n",
              "  874: 'спосибо',\n",
              "  875: 'позвонить',\n",
              "  876: 'уженесколько',\n",
              "  877: 'магазин',\n",
              "  878: 'толькон',\n",
              "  879: 'финансовый',\n",
              "  880: 'половина',\n",
              "  881: 'включать',\n",
              "  882: 'указать',\n",
              "  883: 'претензия',\n",
              "  884: 'проблемнуть',\n",
              "  885: 'нареканийнуть',\n",
              "  886: 'оч',\n",
              "  887: 'отключать',\n",
              "  888: 'поработать',\n",
              "  889: 'поступление',\n",
              "  890: 'увы',\n",
              "  891: 'уходить',\n",
              "  892: 'сбросить',\n",
              "  893: 'никак',\n",
              "  894: 'выполняться',\n",
              "  895: 'вынудить',\n",
              "  896: 'отдельный',\n",
              "  897: 'включаться',\n",
              "  898: 'ооочень',\n",
              "  899: 'тип',\n",
              "  900: 'письмо',\n",
              "  901: 'мб',\n",
              "  902: 'избранный',\n",
              "  903: 'результат',\n",
              "  904: 'прислать',\n",
              "  905: 'лаг',\n",
              "  906: 'никтоня',\n",
              "  907: 'крайний',\n",
              "  908: 'достойный',\n",
              "  909: 'открытый',\n",
              "  910: 'm3',\n",
              "  911: 'включение',\n",
              "  912: 'идеально',\n",
              "  913: 'объём',\n",
              "  914: 'рутованный',\n",
              "  915: 'красивый',\n",
              "  916: 'меняться',\n",
              "  917: 'and',\n",
              "  918: 'процент',\n",
              "  919: 'близкий',\n",
              "  920: 'полезно',\n",
              "  921: 'закрывать',\n",
              "  922: 'рутень',\n",
              "  923: 'регион',\n",
              "  924: 'которогонет',\n",
              "  925: 'приложениеочень',\n",
              "  926: 'приложениевсё',\n",
              "  927: 'входящий',\n",
              "  928: 'выскакивать',\n",
              "  929: 'обновленияневозможный',\n",
              "  930: 'приложениевсе',\n",
              "  931: 'погасить',\n",
              "  932: 'точно',\n",
              "  933: '👍👍👍👍',\n",
              "  934: 'годный',\n",
              "  935: 'снять',\n",
              "  936: 'взгляд',\n",
              "  937: 'потратить',\n",
              "  938: 'заморочка',\n",
              "  939: 'сидя',\n",
              "  940: 'загрузиться',\n",
              "  941: 'паролемень',\n",
              "  942: 'подобный',\n",
              "  943: 'этап',\n",
              "  944: 'сталоневозможный',\n",
              "  945: 'качественный',\n",
              "  946: 'упрощать',\n",
              "  947: 'app',\n",
              "  948: 'сообщать',\n",
              "  949: 'оперативный',\n",
              "  950: 'задача',\n",
              "  951: 'мошенник',\n",
              "  952: 'тинькофф',\n",
              "  953: 'никакна',\n",
              "  954: 'течение',\n",
              "  955: 'перезапускаться',\n",
              "  956: 'др',\n",
              "  957: 'антивирусникнуть',\n",
              "  958: 'сотрудник',\n",
              "  959: 'развиваться',\n",
              "  960: 'естьнебольшой',\n",
              "  961: '4x',\n",
              "  962: 'sms',\n",
              "  963: 'срабатывать',\n",
              "  964: 'поддерживать',\n",
              "  965: 'гибдд',\n",
              "  966: 'терпеть',\n",
              "  967: 'учёт',\n",
              "  968: 'какна',\n",
              "  969: 'подтверждать',\n",
              "  970: 'влиять',\n",
              "  971: 'клавиатура',\n",
              "  972: 'сечь',\n",
              "  973: 'нахрен',\n",
              "  974: 'иной',\n",
              "  975: 'ибо',\n",
              "  976: 'странно',\n",
              "  977: 'откатить',\n",
              "  978: 'терять',\n",
              "  979: 'среди',\n",
              "  980: 'факт',\n",
              "  981: 'пк',\n",
              "  982: 'лицензия',\n",
              "  983: 'сохраняться',\n",
              "  984: 'выбрать',\n",
              "  985: 'сохранять',\n",
              "  986: 'создание',\n",
              "  987: 'техподдержка',\n",
              "  988: 'важный',\n",
              "  989: 'ипотека',\n",
              "  990: 'honor',\n",
              "  991: 'топ',\n",
              "  992: 'нормуля',\n",
              "  993: 'деньня',\n",
              "  994: 'утро',\n",
              "  995: 'a5',\n",
              "  996: 'цифра',\n",
              "  997: 'знакомый',\n",
              "  998: 'чудо',\n",
              "  999: 'полёт',\n",
              "  1000: 'возникнуть',\n",
              "  ...})"
            ]
          },
          "metadata": {},
          "execution_count": 20
        }
      ]
    },
    {
      "cell_type": "markdown",
      "source": [
        "**Преобразуем значения X**"
      ],
      "metadata": {
        "id": "VbIO1uPGkC4m"
      }
    },
    {
      "cell_type": "code",
      "source": [
        "# Преобразует каждый текст из списка в последовательность целых чисел\n",
        "sequences_train = tokenizer.texts_to_sequences(text_corpus_train)\n",
        "sequences_test = tokenizer.texts_to_sequences(text_corpus_test)\n",
        "\n",
        "sequences_train[:10] # представление первый 10 текстов в виде последовательности целых чисел"
      ],
      "metadata": {
        "colab": {
          "base_uri": "https://localhost:8080/"
        },
        "id": "kA_LqLV0ju8y",
        "outputId": "eb3eaee6-9ead-4cb2-a0d6-cda23fdafea2"
      },
      "execution_count": 21,
      "outputs": [
        {
          "output_type": "execute_result",
          "data": {
            "text/plain": [
              "[[610, 42, 775, 3539, 22, 1, 2, 15],\n",
              " [2, 181],\n",
              " [5],\n",
              " [60],\n",
              " [2],\n",
              " [127, 1],\n",
              " [37, 970, 66, 104, 30, 484, 887],\n",
              " [102, 51, 1, 690, 139, 732, 106, 1968, 53, 1969, 1625, 2],\n",
              " [463, 206, 147, 128, 99, 20, 111, 1059, 51, 9],\n",
              " [26, 1371, 888, 5, 3540, 733]]"
            ]
          },
          "metadata": {},
          "execution_count": 21
        }
      ]
    },
    {
      "cell_type": "code",
      "source": [
        "word_count = len(tokenizer.index_word) + 1  #количество слов в словаре\n",
        "training_length = max([len(i.split()) for i in text_corpus_train]) #максимальная длина списка токентов из тренировочного датасета\n",
        "word_count, training_length"
      ],
      "metadata": {
        "colab": {
          "base_uri": "https://localhost:8080/"
        },
        "id": "X5MIHJEvkG5L",
        "outputId": "2f6d7164-8443-4d34-935a-7ae1e0412ddc"
      },
      "execution_count": 22,
      "outputs": [
        {
          "output_type": "execute_result",
          "data": {
            "text/plain": [
              "(10293, 113)"
            ]
          },
          "metadata": {},
          "execution_count": 22
        }
      ]
    },
    {
      "cell_type": "code",
      "source": [
        "# Преобразуем списки последовательностей в 2D-массив (количество текстов n_samples, maxlen)\n",
        "# (короткие последовательности добавляются, длинные -- усекаются. По умолчанию - с начала последовательности)\n",
        "X_train = pad_sequences(sequences_train, maxlen=training_length)\n",
        "X_test = pad_sequences(sequences_test, maxlen=training_length)\n",
        "X_train"
      ],
      "metadata": {
        "colab": {
          "base_uri": "https://localhost:8080/"
        },
        "id": "R4v7WR4vkKGY",
        "outputId": "a9083298-8333-4c66-87b7-efd089c3d958"
      },
      "execution_count": 23,
      "outputs": [
        {
          "output_type": "execute_result",
          "data": {
            "text/plain": [
              "array([[  0,   0,   0, ...,   1,   2,  15],\n",
              "       [  0,   0,   0, ...,   0,   2, 181],\n",
              "       [  0,   0,   0, ...,   0,   0,   5],\n",
              "       ...,\n",
              "       [  0,   0,   0, ...,  27,  84, 223],\n",
              "       [  0,   0,   0, ...,   0,   0,  20],\n",
              "       [  0,   0,   0, ...,   0, 113,   5]], dtype=int32)"
            ]
          },
          "metadata": {},
          "execution_count": 23
        }
      ]
    },
    {
      "cell_type": "markdown",
      "source": [
        "** Преобразуем значения y**\n",
        "Для подсчета функции потерь y_train и y_test должны быть представлены one-hot кодированием"
      ],
      "metadata": {
        "id": "U5kjFkmIkP3u"
      }
    },
    {
      "cell_type": "code",
      "source": [
        "le = LabelEncoder()\n",
        "train_enc_labels = le.fit_transform(df_train['Rating']) \n",
        "test_enc_labels = le.transform(df_test['Rating'])\n",
        "le.classes_"
      ],
      "metadata": {
        "colab": {
          "base_uri": "https://localhost:8080/"
        },
        "id": "1i4QnDrbkOoM",
        "outputId": "9c4b35b2-02ec-4f77-d9ff-a086a4844783"
      },
      "execution_count": 24,
      "outputs": [
        {
          "output_type": "execute_result",
          "data": {
            "text/plain": [
              "array([1, 2, 3, 4, 5])"
            ]
          },
          "metadata": {},
          "execution_count": 24
        }
      ]
    },
    {
      "cell_type": "code",
      "source": [
        "train_enc_labels"
      ],
      "metadata": {
        "colab": {
          "base_uri": "https://localhost:8080/"
        },
        "id": "hnR8IcigkYbQ",
        "outputId": "f09c7d22-9616-4f37-a13e-6b14665a40af"
      },
      "execution_count": 25,
      "outputs": [
        {
          "output_type": "execute_result",
          "data": {
            "text/plain": [
              "array([4, 4, 4, ..., 0, 4, 4])"
            ]
          },
          "metadata": {},
          "execution_count": 25
        }
      ]
    },
    {
      "cell_type": "code",
      "source": [
        "num_classes = 5\n",
        "y_train = tf.keras.utils.to_categorical(train_enc_labels, num_classes=num_classes)\n",
        "y_test = tf.keras.utils.to_categorical(test_enc_labels, num_classes=num_classes)\n",
        "y_train"
      ],
      "metadata": {
        "colab": {
          "base_uri": "https://localhost:8080/"
        },
        "id": "jvwYRWt1kajB",
        "outputId": "c55adbc3-3cbb-4ea8-caeb-1af97243cea4"
      },
      "execution_count": 26,
      "outputs": [
        {
          "output_type": "execute_result",
          "data": {
            "text/plain": [
              "array([[0., 0., 0., 0., 1.],\n",
              "       [0., 0., 0., 0., 1.],\n",
              "       [0., 0., 0., 0., 1.],\n",
              "       ...,\n",
              "       [1., 0., 0., 0., 0.],\n",
              "       [0., 0., 0., 0., 1.],\n",
              "       [0., 0., 0., 0., 1.]], dtype=float32)"
            ]
          },
          "metadata": {},
          "execution_count": 26
        }
      ]
    },
    {
      "cell_type": "markdown",
      "source": [
        "## Сверточные ахритектуры\n",
        "CONV модель Keras"
      ],
      "metadata": {
        "id": "OVYU89oVkeCW"
      }
    },
    {
      "cell_type": "code",
      "source": [
        "model = Sequential()\n",
        "model.add(Embedding(input_dim=word_count, output_dim=128, input_length=training_length)) \n",
        "                    # inputdim -- размер словаря, outputdim -- длина вектора, input_length -- длина входной последовательности\n",
        "                    # на вход: (батч, inputlen), на выходе: (батч, inputlen, outputdim)\n",
        "model.add(Conv1D(128, 3))\n",
        "                   # 128 -- длина 1D-фильтра, шаг -- 3\n",
        "                   # на выходе ([128/3], 128)\n",
        "model.add(GlobalMaxPool1D())\n",
        "                    # в каждой свертке оставляет максимальный элемент\n",
        "                    # на выходе ([128/3], 1)\n",
        "model.add(Dense(10))\n",
        "               # 10-количество выходов\n",
        "model.add(Dense(5))\n",
        "                # num_classes = 5 -- количество выходов\n",
        "model.add(Activation('softmax'))\n",
        "                # преобразуем вектор в рапределение вероятностей"
      ],
      "metadata": {
        "id": "6b2Ha7VkkcUZ"
      },
      "execution_count": 27,
      "outputs": []
    },
    {
      "cell_type": "code",
      "source": [
        "model.compile(loss='categorical_crossentropy', # y_pred должен быть распределением вероятностей, y_true -- one-hot кодированный тензор\n",
        "              optimizer='adam',\n",
        "              metrics=[get_f1])"
      ],
      "metadata": {
        "id": "0Y1Ay5CYkuBJ"
      },
      "execution_count": 28,
      "outputs": []
    },
    {
      "cell_type": "code",
      "source": [
        "tensorboard=TensorBoard(log_dir='./logs', write_graph=True, write_images=True)\n",
        "early_stopping=EarlyStopping(monitor='val_loss')  \n",
        "\n",
        "epochs = 20\n",
        "batch_size = 512\n",
        "\n",
        "history = model.fit(X_train, y_train,\n",
        "                    batch_size=batch_size,\n",
        "                    epochs=epochs,\n",
        "                    verbose=1,\n",
        "                    validation_split=0.1,\n",
        "                    callbacks=[tensorboard, early_stopping])"
      ],
      "metadata": {
        "colab": {
          "base_uri": "https://localhost:8080/"
        },
        "id": "pcBkRs5Ckwzp",
        "outputId": "c52d2b8f-77a4-4866-a697-76b97d6e9d95"
      },
      "execution_count": 29,
      "outputs": [
        {
          "output_type": "stream",
          "name": "stdout",
          "text": [
            "Epoch 1/20\n",
            "25/25 [==============================] - 19s 615ms/step - loss: 1.1372 - get_f1: 0.4072 - val_loss: 0.8624 - val_get_f1: 0.7071\n",
            "Epoch 2/20\n",
            "25/25 [==============================] - 16s 654ms/step - loss: 0.7602 - get_f1: 0.7467 - val_loss: 0.7421 - val_get_f1: 0.7415\n"
          ]
        }
      ]
    },
    {
      "cell_type": "code",
      "source": [
        "score_conv = model.evaluate(X_test, y_test, batch_size=batch_size, verbose=1)\n",
        "print('\\n')\n",
        "print('Test loss:', score_conv[0])\n",
        "print('Test f1_score:', score_conv[1])"
      ],
      "metadata": {
        "colab": {
          "base_uri": "https://localhost:8080/"
        },
        "id": "JcxIepsUoqH9",
        "outputId": "641568e8-a64c-4bab-fc3d-da5f440581c7"
      },
      "execution_count": 53,
      "outputs": [
        {
          "output_type": "stream",
          "name": "stdout",
          "text": [
            "14/14 [==============================] - 7s 484ms/step - loss: 0.9554 - get_f1: 0.7151\n",
            "\n",
            "\n",
            "Test loss: 0.9554319381713867\n",
            "Test f1_score: 0.7151089310646057\n"
          ]
        }
      ]
    },
    {
      "cell_type": "markdown",
      "source": [
        "## Реккурентные сети\n",
        "Обучим рекуррентные нейронные сети SimpleRNN, LSTM и GRU на одних и тех же параментрах сети и сравним показатели метрики f1_score."
      ],
      "metadata": {
        "id": "6ybmMeX1k1ju"
      }
    },
    {
      "cell_type": "markdown",
      "source": [
        "### SimpleRNN"
      ],
      "metadata": {
        "id": "FZgjtjQJk9Dq"
      }
    },
    {
      "cell_type": "code",
      "source": [
        "model = Sequential()\n",
        "\n",
        "model.add(Embedding(input_dim=word_count,\n",
        "              input_length=training_length,\n",
        "              output_dim=30,\n",
        "              trainable=True,\n",
        "              mask_zero=True))\n",
        "model.add(Masking(mask_value=0.0))\n",
        "\n",
        "model.add(SimpleRNN(64))  #64 -- количество ячеек, размер выходного пространства\n",
        "model.add(Dense(64, activation='relu'))\n",
        "model.add(Dropout(0.5))\n",
        "model.add(Dense(5, activation='softmax'))"
      ],
      "metadata": {
        "id": "jGbYnoJ7k0E2"
      },
      "execution_count": 30,
      "outputs": []
    },
    {
      "cell_type": "code",
      "source": [
        "model.compile(loss='categorical_crossentropy', #y_pred должен быть распределением вероятностей, y_true -- one-hot кодированный тензор\n",
        "              optimizer='adam',\n",
        "              metrics=[get_f1])"
      ],
      "metadata": {
        "id": "noo15wbNlCbb"
      },
      "execution_count": 31,
      "outputs": []
    },
    {
      "cell_type": "code",
      "source": [
        "%%time\n",
        "\n",
        "history = model.fit(X_train, y_train,\n",
        "                    batch_size=batch_size,\n",
        "                    epochs=epochs,\n",
        "                    verbose=1,\n",
        "                    validation_split=0.1,\n",
        "                    callbacks=[tensorboard, early_stopping])"
      ],
      "metadata": {
        "colab": {
          "base_uri": "https://localhost:8080/"
        },
        "id": "TXXy46gXlEdL",
        "outputId": "19a15aab-db01-4767-9379-9d48df16f7b2"
      },
      "execution_count": 32,
      "outputs": [
        {
          "output_type": "stream",
          "name": "stdout",
          "text": [
            "Epoch 1/20\n",
            "25/25 [==============================] - 14s 469ms/step - loss: 1.1314 - get_f1: 0.4793 - val_loss: 0.8569 - val_get_f1: 0.7262\n",
            "Epoch 2/20\n",
            "25/25 [==============================] - 9s 359ms/step - loss: 0.8584 - get_f1: 0.7204 - val_loss: 0.7886 - val_get_f1: 0.7353\n",
            "CPU times: user 25.3 s, sys: 924 ms, total: 26.2 s\n",
            "Wall time: 22.8 s\n"
          ]
        }
      ]
    },
    {
      "cell_type": "code",
      "source": [
        "score_simplernn= model.evaluate(X_test, y_test, batch_size=batch_size, verbose=1)\n",
        "print('\\n')\n",
        "print('Test loss:', score_simplernn[0])\n",
        "print('Test f1_score:', score_simplernn[1])"
      ],
      "metadata": {
        "colab": {
          "base_uri": "https://localhost:8080/"
        },
        "id": "EDTbR8cxlJjQ",
        "outputId": "cc50d861-09ba-4f19-d952-8afec0fdc8ba"
      },
      "execution_count": 33,
      "outputs": [
        {
          "output_type": "stream",
          "name": "stdout",
          "text": [
            "14/14 [==============================] - 1s 89ms/step - loss: 0.7795 - get_f1: 0.7438\n",
            "\n",
            "\n",
            "Test loss: 0.7795130014419556\n",
            "Test f1_score: 0.7438198328018188\n"
          ]
        }
      ]
    },
    {
      "cell_type": "markdown",
      "source": [
        "### LSTM"
      ],
      "metadata": {
        "id": "njtGDI5PlNKC"
      }
    },
    {
      "cell_type": "code",
      "source": [
        "model = Sequential()\n",
        "\n",
        "model.add(Embedding(input_dim=word_count,\n",
        "              input_length=training_length,\n",
        "              output_dim=30,\n",
        "              trainable=True,\n",
        "              mask_zero=True))\n",
        "model.add(Masking(mask_value=0.0))\n",
        "\n",
        "model.add(LSTM(64, recurrent_dropout=0.2))  #64 -- количество ячеек, размер выходного пространства\n",
        "model.add(Dense(64, activation='relu'))\n",
        "model.add(Dropout(0.5))\n",
        "model.add(Dense(5, activation='softmax'))"
      ],
      "metadata": {
        "id": "VUZz1uLNlMNc"
      },
      "execution_count": 34,
      "outputs": []
    },
    {
      "cell_type": "code",
      "source": [
        "model.compile(loss='categorical_crossentropy', #y_pred должен быть распределением вероятностей, y_true -- one-hot кодированный тензор\n",
        "              optimizer='adam',\n",
        "              metrics=[get_f1])"
      ],
      "metadata": {
        "id": "UntkmgSElSTb"
      },
      "execution_count": 35,
      "outputs": []
    },
    {
      "cell_type": "code",
      "source": [
        "%%time\n",
        "\n",
        "history = model.fit(X_train, y_train,\n",
        "                    batch_size=batch_size,\n",
        "                    epochs=epochs,\n",
        "                    verbose=1,\n",
        "                    validation_split=0.1,\n",
        "                    callbacks=[tensorboard, early_stopping])"
      ],
      "metadata": {
        "colab": {
          "base_uri": "https://localhost:8080/"
        },
        "id": "6onIz5yflUhu",
        "outputId": "3e1d53d7-5475-4924-a2af-97585dcbbdbc"
      },
      "execution_count": 36,
      "outputs": [
        {
          "output_type": "stream",
          "name": "stdout",
          "text": [
            "Epoch 1/20\n",
            "25/25 [==============================] - 41s 1s/step - loss: 1.3604 - get_f1: 0.2451 - val_loss: 0.9648 - val_get_f1: 0.7008\n",
            "Epoch 2/20\n",
            "25/25 [==============================] - 39s 2s/step - loss: 0.9726 - get_f1: 0.6700 - val_loss: 0.8438 - val_get_f1: 0.7319\n",
            "CPU times: user 1min 33s, sys: 3.42 s, total: 1min 36s\n",
            "Wall time: 1min 20s\n"
          ]
        }
      ]
    },
    {
      "cell_type": "code",
      "source": [
        "score_lstm= model.evaluate(X_test, y_test, batch_size=batch_size, verbose=1)\n",
        "print('\\n')\n",
        "print('Test loss:', score_lstm[0])\n",
        "print('Test f1_score:', score_lstm[1])"
      ],
      "metadata": {
        "colab": {
          "base_uri": "https://localhost:8080/"
        },
        "id": "u20b5hZBlXkO",
        "outputId": "2cbff26c-78ff-4e48-eee2-1aa1d94fc7e2"
      },
      "execution_count": 37,
      "outputs": [
        {
          "output_type": "stream",
          "name": "stdout",
          "text": [
            "14/14 [==============================] - 7s 500ms/step - loss: 0.8276 - get_f1: 0.7413\n",
            "\n",
            "\n",
            "Test loss: 0.8276181817054749\n",
            "Test f1_score: 0.7412915825843811\n"
          ]
        }
      ]
    },
    {
      "cell_type": "markdown",
      "source": [
        "### GRU"
      ],
      "metadata": {
        "id": "5cfzpRejlZ_L"
      }
    },
    {
      "cell_type": "code",
      "source": [
        "model = Sequential()\n",
        "\n",
        "model.add(Embedding(input_dim=word_count,\n",
        "              input_length=training_length,\n",
        "              output_dim=30,\n",
        "              trainable=True,\n",
        "              mask_zero=True))\n",
        "model.add(Masking(mask_value=0.0))\n",
        "\n",
        "model.add(GRU(64,recurrent_dropout=0.2))  #64 -- количество ячеек, размер выходного пространства\n",
        "model.add(Dense(64, activation='relu'))\n",
        "model.add(Dropout(0.5))\n",
        "model.add(Dense(5, activation='softmax'))"
      ],
      "metadata": {
        "id": "5SsPQlFRlcg4"
      },
      "execution_count": 38,
      "outputs": []
    },
    {
      "cell_type": "code",
      "source": [
        "model.compile(loss='categorical_crossentropy', #y_pred должен быть распределением вероятностей, y_true -- one-hot кодированный тензор\n",
        "              optimizer='adam',\n",
        "              metrics=[get_f1])"
      ],
      "metadata": {
        "id": "3qH5qGMXler1"
      },
      "execution_count": 39,
      "outputs": []
    },
    {
      "cell_type": "code",
      "source": [
        "%%time\n",
        "\n",
        "history = model.fit(X_train, y_train,\n",
        "                    batch_size=batch_size,\n",
        "                    epochs=epochs,\n",
        "                    verbose=1,\n",
        "                    validation_split=0.1,\n",
        "                    callbacks=[tensorboard, early_stopping])"
      ],
      "metadata": {
        "colab": {
          "base_uri": "https://localhost:8080/"
        },
        "id": "mL-7GvMOlgcv",
        "outputId": "d4baabd3-5fac-4f90-d776-e0a0fe073a70"
      },
      "execution_count": 40,
      "outputs": [
        {
          "output_type": "stream",
          "name": "stdout",
          "text": [
            "Epoch 1/20\n",
            "25/25 [==============================] - 40s 1s/step - loss: 1.3969 - get_f1: 0.1094 - val_loss: 0.9430 - val_get_f1: 0.7005\n",
            "Epoch 2/20\n",
            "25/25 [==============================] - 32s 1s/step - loss: 0.9082 - get_f1: 0.7156 - val_loss: 0.8057 - val_get_f1: 0.7359\n",
            "CPU times: user 1min 15s, sys: 2.56 s, total: 1min 17s\n",
            "Wall time: 1min 12s\n"
          ]
        }
      ]
    },
    {
      "cell_type": "code",
      "source": [
        "score_gru = model.evaluate(X_test, y_test, batch_size=batch_size, verbose=1)\n",
        "print('\\n')\n",
        "print('Test loss:', score_gru[0])\n",
        "print('Test f1_score:', score_gru[1])"
      ],
      "metadata": {
        "colab": {
          "base_uri": "https://localhost:8080/"
        },
        "id": "9i2ZmV_plio7",
        "outputId": "3057ccf8-1f00-4dc5-cf72-1da731087b47"
      },
      "execution_count": 41,
      "outputs": [
        {
          "output_type": "stream",
          "name": "stdout",
          "text": [
            "14/14 [==============================] - 2s 176ms/step - loss: 0.7838 - get_f1: 0.7459\n",
            "\n",
            "\n",
            "Test loss: 0.7837982773780823\n",
            "Test f1_score: 0.7458855509757996\n"
          ]
        }
      ]
    },
    {
      "cell_type": "code",
      "source": [
        "# Сравним показатели метрик всех трёх реккурентных моделей\n",
        "\n",
        "result_RNN = pd.DataFrame({'model': ['SimpleRNN', 'LSTM', 'GRU'], 'f1_score': [score_simplernn[1], score_lstm[1], score_gru[1]]})\n",
        "result_RNN.sort_values(by='f1_score', ascending=False)"
      ],
      "metadata": {
        "colab": {
          "base_uri": "https://localhost:8080/",
          "height": 143
        },
        "id": "DVM11Jodlnt-",
        "outputId": "5e024be3-da6f-4622-f41f-e133ab775579"
      },
      "execution_count": 42,
      "outputs": [
        {
          "output_type": "execute_result",
          "data": {
            "text/plain": [
              "       model  f1_score\n",
              "2        GRU  0.745886\n",
              "0  SimpleRNN  0.743820\n",
              "1       LSTM  0.741292"
            ],
            "text/html": [
              "\n",
              "  <div id=\"df-12060272-081a-43cf-94d0-3080e9870bb1\">\n",
              "    <div class=\"colab-df-container\">\n",
              "      <div>\n",
              "<style scoped>\n",
              "    .dataframe tbody tr th:only-of-type {\n",
              "        vertical-align: middle;\n",
              "    }\n",
              "\n",
              "    .dataframe tbody tr th {\n",
              "        vertical-align: top;\n",
              "    }\n",
              "\n",
              "    .dataframe thead th {\n",
              "        text-align: right;\n",
              "    }\n",
              "</style>\n",
              "<table border=\"1\" class=\"dataframe\">\n",
              "  <thead>\n",
              "    <tr style=\"text-align: right;\">\n",
              "      <th></th>\n",
              "      <th>model</th>\n",
              "      <th>f1_score</th>\n",
              "    </tr>\n",
              "  </thead>\n",
              "  <tbody>\n",
              "    <tr>\n",
              "      <th>2</th>\n",
              "      <td>GRU</td>\n",
              "      <td>0.745886</td>\n",
              "    </tr>\n",
              "    <tr>\n",
              "      <th>0</th>\n",
              "      <td>SimpleRNN</td>\n",
              "      <td>0.743820</td>\n",
              "    </tr>\n",
              "    <tr>\n",
              "      <th>1</th>\n",
              "      <td>LSTM</td>\n",
              "      <td>0.741292</td>\n",
              "    </tr>\n",
              "  </tbody>\n",
              "</table>\n",
              "</div>\n",
              "      <button class=\"colab-df-convert\" onclick=\"convertToInteractive('df-12060272-081a-43cf-94d0-3080e9870bb1')\"\n",
              "              title=\"Convert this dataframe to an interactive table.\"\n",
              "              style=\"display:none;\">\n",
              "        \n",
              "  <svg xmlns=\"http://www.w3.org/2000/svg\" height=\"24px\"viewBox=\"0 0 24 24\"\n",
              "       width=\"24px\">\n",
              "    <path d=\"M0 0h24v24H0V0z\" fill=\"none\"/>\n",
              "    <path d=\"M18.56 5.44l.94 2.06.94-2.06 2.06-.94-2.06-.94-.94-2.06-.94 2.06-2.06.94zm-11 1L8.5 8.5l.94-2.06 2.06-.94-2.06-.94L8.5 2.5l-.94 2.06-2.06.94zm10 10l.94 2.06.94-2.06 2.06-.94-2.06-.94-.94-2.06-.94 2.06-2.06.94z\"/><path d=\"M17.41 7.96l-1.37-1.37c-.4-.4-.92-.59-1.43-.59-.52 0-1.04.2-1.43.59L10.3 9.45l-7.72 7.72c-.78.78-.78 2.05 0 2.83L4 21.41c.39.39.9.59 1.41.59.51 0 1.02-.2 1.41-.59l7.78-7.78 2.81-2.81c.8-.78.8-2.07 0-2.86zM5.41 20L4 18.59l7.72-7.72 1.47 1.35L5.41 20z\"/>\n",
              "  </svg>\n",
              "      </button>\n",
              "      \n",
              "  <style>\n",
              "    .colab-df-container {\n",
              "      display:flex;\n",
              "      flex-wrap:wrap;\n",
              "      gap: 12px;\n",
              "    }\n",
              "\n",
              "    .colab-df-convert {\n",
              "      background-color: #E8F0FE;\n",
              "      border: none;\n",
              "      border-radius: 50%;\n",
              "      cursor: pointer;\n",
              "      display: none;\n",
              "      fill: #1967D2;\n",
              "      height: 32px;\n",
              "      padding: 0 0 0 0;\n",
              "      width: 32px;\n",
              "    }\n",
              "\n",
              "    .colab-df-convert:hover {\n",
              "      background-color: #E2EBFA;\n",
              "      box-shadow: 0px 1px 2px rgba(60, 64, 67, 0.3), 0px 1px 3px 1px rgba(60, 64, 67, 0.15);\n",
              "      fill: #174EA6;\n",
              "    }\n",
              "\n",
              "    [theme=dark] .colab-df-convert {\n",
              "      background-color: #3B4455;\n",
              "      fill: #D2E3FC;\n",
              "    }\n",
              "\n",
              "    [theme=dark] .colab-df-convert:hover {\n",
              "      background-color: #434B5C;\n",
              "      box-shadow: 0px 1px 3px 1px rgba(0, 0, 0, 0.15);\n",
              "      filter: drop-shadow(0px 1px 2px rgba(0, 0, 0, 0.3));\n",
              "      fill: #FFFFFF;\n",
              "    }\n",
              "  </style>\n",
              "\n",
              "      <script>\n",
              "        const buttonEl =\n",
              "          document.querySelector('#df-12060272-081a-43cf-94d0-3080e9870bb1 button.colab-df-convert');\n",
              "        buttonEl.style.display =\n",
              "          google.colab.kernel.accessAllowed ? 'block' : 'none';\n",
              "\n",
              "        async function convertToInteractive(key) {\n",
              "          const element = document.querySelector('#df-12060272-081a-43cf-94d0-3080e9870bb1');\n",
              "          const dataTable =\n",
              "            await google.colab.kernel.invokeFunction('convertToInteractive',\n",
              "                                                     [key], {});\n",
              "          if (!dataTable) return;\n",
              "\n",
              "          const docLinkHtml = 'Like what you see? Visit the ' +\n",
              "            '<a target=\"_blank\" href=https://colab.research.google.com/notebooks/data_table.ipynb>data table notebook</a>'\n",
              "            + ' to learn more about interactive tables.';\n",
              "          element.innerHTML = '';\n",
              "          dataTable['output_type'] = 'display_data';\n",
              "          await google.colab.output.renderOutput(dataTable, element);\n",
              "          const docLink = document.createElement('div');\n",
              "          docLink.innerHTML = docLinkHtml;\n",
              "          element.appendChild(docLink);\n",
              "        }\n",
              "      </script>\n",
              "    </div>\n",
              "  </div>\n",
              "  "
            ]
          },
          "metadata": {},
          "execution_count": 42
        }
      ]
    },
    {
      "cell_type": "markdown",
      "source": [
        "### Вывод:\n",
        "SimpleRNN обучалась 22.8 s, LSTM -- 1min 20s, GRU -- 1min 12s.\n",
        "Лучшие показатели метрики f1_score у модели GRU, время обучения - среднне. Значительно быстрее всех работает SimpleRNN, при этом показатели метрики у неё отличаются на 0.002 от GRU.\n",
        "При отсутствии требования наилучшей метрики сетью выбора является SimpleRNN!"
      ],
      "metadata": {
        "id": "0m2NsRTolxot"
      }
    },
    {
      "cell_type": "markdown",
      "source": [
        "## Совместные архитектуры\n",
        "\n",
        "Рассмотрим совместные архитектуры CNN + RNN и оценим показатели метрики таких моделей. В качестве RNN модели возьмем архитектуру LSTM.\n",
        "\n"
      ],
      "metadata": {
        "id": "DmvrT6cPl9p8"
      }
    },
    {
      "cell_type": "markdown",
      "source": [
        "### CNN --> RNN"
      ],
      "metadata": {
        "id": "ijj9mCBtmH0P"
      }
    },
    {
      "cell_type": "code",
      "source": [
        "model = Sequential()\n",
        "\n",
        "model.add(Embedding(input_dim=word_count,\n",
        "              input_length=training_length,\n",
        "              output_dim=30,\n",
        "              trainable=True,\n",
        "              mask_zero=True))\n",
        "model.add(Masking(mask_value=0.0))\n",
        "\n",
        "model.add(Conv1D(128, 3))\n",
        "model.add(Activation(\"relu\"))\n",
        "model.add(LSTM(64,recurrent_dropout=0.2))  #64 -- количество ячеек, размер выходного пространства\n",
        "model.add(Dense(32, activation='relu'))\n",
        "model.add(Dropout(0.5))\n",
        "model.add(Dense(5, activation='softmax'))"
      ],
      "metadata": {
        "id": "aP1fuCn1l-G_"
      },
      "execution_count": 43,
      "outputs": []
    },
    {
      "cell_type": "code",
      "source": [
        "model.compile(loss='categorical_crossentropy', #y_pred должен быть распределением вероятностей, y_true -- one-hot кодированный тензор\n",
        "              optimizer='adam',\n",
        "              metrics=[get_f1])"
      ],
      "metadata": {
        "id": "fW4m22YDlwlg"
      },
      "execution_count": 44,
      "outputs": []
    },
    {
      "cell_type": "code",
      "source": [
        "%%time\n",
        "\n",
        "history = model.fit(X_train, y_train,\n",
        "                    batch_size=batch_size,\n",
        "                    epochs=epochs,\n",
        "                    verbose=1,\n",
        "                    validation_split=0.1,\n",
        "                    callbacks=[tensorboard, early_stopping])"
      ],
      "metadata": {
        "colab": {
          "base_uri": "https://localhost:8080/"
        },
        "id": "9NjX1T70nQN1",
        "outputId": "3f46718e-6a41-4f77-8195-36bcdfd01f9d"
      },
      "execution_count": 45,
      "outputs": [
        {
          "output_type": "stream",
          "name": "stdout",
          "text": [
            "Epoch 1/20\n",
            "25/25 [==============================] - 50s 2s/step - loss: 1.1806 - get_f1: 0.4105 - val_loss: 0.8803 - val_get_f1: 0.7304\n",
            "Epoch 2/20\n",
            "25/25 [==============================] - 40s 2s/step - loss: 0.8735 - get_f1: 0.7065 - val_loss: 0.7746 - val_get_f1: 0.7367\n",
            "CPU times: user 1min 46s, sys: 5.31 s, total: 1min 51s\n",
            "Wall time: 1min 30s\n"
          ]
        }
      ]
    },
    {
      "cell_type": "code",
      "source": [
        "score_cnnrnn= model.evaluate(X_test, y_test, batch_size=batch_size, verbose=1)\n",
        "print('\\n')\n",
        "print('Test loss:', score_cnnrnn[0])\n",
        "print('Test f1_score:', score_cnnrnn[1])"
      ],
      "metadata": {
        "colab": {
          "base_uri": "https://localhost:8080/"
        },
        "id": "0Tfw04c9nT2k",
        "outputId": "a5950c7d-46bc-4db8-e991-c2db13c0c2d7"
      },
      "execution_count": 46,
      "outputs": [
        {
          "output_type": "stream",
          "name": "stdout",
          "text": [
            "14/14 [==============================] - 4s 292ms/step - loss: 0.7658 - get_f1: 0.7432\n",
            "\n",
            "\n",
            "Test loss: 0.7658165693283081\n",
            "Test f1_score: 0.7432032227516174\n"
          ]
        }
      ]
    },
    {
      "cell_type": "markdown",
      "source": [
        "## RNN --> CNN"
      ],
      "metadata": {
        "id": "25iQY_XInU-6"
      }
    },
    {
      "cell_type": "code",
      "source": [
        "model = Sequential()\n",
        "\n",
        "model.add(Embedding(input_dim=word_count,\n",
        "              input_length=training_length,\n",
        "              output_dim=30,\n",
        "              trainable=True,\n",
        "              mask_zero=True))\n",
        "model.add(Masking(mask_value=0.0))\n",
        "\n",
        "model.add(LSTM(64,recurrent_dropout=0.2, return_sequences=True))\n",
        "  #return_sequences -- слоит ли возвращать последний вывод выходной последовательности или целую последовательность\n",
        "model.add(Conv1D(64, 3))\n",
        "model.add(GlobalMaxPool1D())\n",
        "#model.add(Activation(\"relu\"))\n",
        "model.add(Dense(32, activation='relu'))\n",
        "model.add(Dropout(0.5))\n",
        "model.add(Dense(5, activation='softmax'))"
      ],
      "metadata": {
        "id": "kZzDPlj3nXb_"
      },
      "execution_count": 47,
      "outputs": []
    },
    {
      "cell_type": "code",
      "source": [
        "model.compile(loss='categorical_crossentropy', #y_pred должен быть распределением вероятностей, y_true -- one-hot кодированный тензор\n",
        "              optimizer='adam',\n",
        "              metrics=[get_f1])"
      ],
      "metadata": {
        "id": "fTuG08pLnZmL"
      },
      "execution_count": 48,
      "outputs": []
    },
    {
      "cell_type": "code",
      "source": [
        "%%time\n",
        "\n",
        "history = model.fit(X_train, y_train,\n",
        "                    batch_size=batch_size,\n",
        "                    epochs=epochs,\n",
        "                    verbose=1,\n",
        "                    validation_split=0.1,\n",
        "                    callbacks=[tensorboard, early_stopping])"
      ],
      "metadata": {
        "colab": {
          "base_uri": "https://localhost:8080/"
        },
        "id": "K38Kh-GMnb2-",
        "outputId": "490735e6-b485-45bf-a4c2-f4872a70b558"
      },
      "execution_count": 49,
      "outputs": [
        {
          "output_type": "stream",
          "name": "stdout",
          "text": [
            "Epoch 1/20\n",
            "25/25 [==============================] - 45s 1s/step - loss: 1.2593 - get_f1: 0.3501 - val_loss: 1.0366 - val_get_f1: 0.7005\n",
            "Epoch 2/20\n",
            "25/25 [==============================] - 34s 1s/step - loss: 1.0772 - get_f1: 0.6137 - val_loss: 0.9788 - val_get_f1: 0.7005\n",
            "CPU times: user 1min 46s, sys: 3.36 s, total: 1min 49s\n",
            "Wall time: 1min 19s\n"
          ]
        }
      ]
    },
    {
      "cell_type": "code",
      "source": [
        "score_rnncnn= model.evaluate(X_test, y_test, batch_size=batch_size, verbose=1)\n",
        "print('\\n')\n",
        "print('Test loss:', score_rnncnn[0])\n",
        "print('Test f1_score:', score_rnncnn[1])"
      ],
      "metadata": {
        "colab": {
          "base_uri": "https://localhost:8080/"
        },
        "id": "vNnivG_tndtB",
        "outputId": "6150580e-2320-4a03-809e-463e96559bae"
      },
      "execution_count": 50,
      "outputs": [
        {
          "output_type": "stream",
          "name": "stdout",
          "text": [
            "14/14 [==============================] - 6s 439ms/step - loss: 0.9554 - get_f1: 0.7151\n",
            "\n",
            "\n",
            "Test loss: 0.9554319381713867\n",
            "Test f1_score: 0.7151089310646057\n"
          ]
        }
      ]
    },
    {
      "cell_type": "code",
      "source": [
        "result_CNN_RNN = pd.DataFrame({'model': ['CNN_RNN', 'RNN_CNN'], 'f1_score': [score_cnnrnn[1], score_rnncnn[1]]})\n",
        "result_CNN_RNN.sort_values(by='f1_score', ascending=False)"
      ],
      "metadata": {
        "colab": {
          "base_uri": "https://localhost:8080/",
          "height": 112
        },
        "id": "35i4orhLoM9A",
        "outputId": "5dd25c82-591b-49e3-8309-88ca969b2999"
      },
      "execution_count": 52,
      "outputs": [
        {
          "output_type": "execute_result",
          "data": {
            "text/plain": [
              "     model  f1_score\n",
              "0  CNN_RNN  0.743203\n",
              "1  RNN_CNN  0.715109"
            ],
            "text/html": [
              "\n",
              "  <div id=\"df-558eb8c7-ff68-43a3-9c32-0c6b6bfec2cf\">\n",
              "    <div class=\"colab-df-container\">\n",
              "      <div>\n",
              "<style scoped>\n",
              "    .dataframe tbody tr th:only-of-type {\n",
              "        vertical-align: middle;\n",
              "    }\n",
              "\n",
              "    .dataframe tbody tr th {\n",
              "        vertical-align: top;\n",
              "    }\n",
              "\n",
              "    .dataframe thead th {\n",
              "        text-align: right;\n",
              "    }\n",
              "</style>\n",
              "<table border=\"1\" class=\"dataframe\">\n",
              "  <thead>\n",
              "    <tr style=\"text-align: right;\">\n",
              "      <th></th>\n",
              "      <th>model</th>\n",
              "      <th>f1_score</th>\n",
              "    </tr>\n",
              "  </thead>\n",
              "  <tbody>\n",
              "    <tr>\n",
              "      <th>0</th>\n",
              "      <td>CNN_RNN</td>\n",
              "      <td>0.743203</td>\n",
              "    </tr>\n",
              "    <tr>\n",
              "      <th>1</th>\n",
              "      <td>RNN_CNN</td>\n",
              "      <td>0.715109</td>\n",
              "    </tr>\n",
              "  </tbody>\n",
              "</table>\n",
              "</div>\n",
              "      <button class=\"colab-df-convert\" onclick=\"convertToInteractive('df-558eb8c7-ff68-43a3-9c32-0c6b6bfec2cf')\"\n",
              "              title=\"Convert this dataframe to an interactive table.\"\n",
              "              style=\"display:none;\">\n",
              "        \n",
              "  <svg xmlns=\"http://www.w3.org/2000/svg\" height=\"24px\"viewBox=\"0 0 24 24\"\n",
              "       width=\"24px\">\n",
              "    <path d=\"M0 0h24v24H0V0z\" fill=\"none\"/>\n",
              "    <path d=\"M18.56 5.44l.94 2.06.94-2.06 2.06-.94-2.06-.94-.94-2.06-.94 2.06-2.06.94zm-11 1L8.5 8.5l.94-2.06 2.06-.94-2.06-.94L8.5 2.5l-.94 2.06-2.06.94zm10 10l.94 2.06.94-2.06 2.06-.94-2.06-.94-.94-2.06-.94 2.06-2.06.94z\"/><path d=\"M17.41 7.96l-1.37-1.37c-.4-.4-.92-.59-1.43-.59-.52 0-1.04.2-1.43.59L10.3 9.45l-7.72 7.72c-.78.78-.78 2.05 0 2.83L4 21.41c.39.39.9.59 1.41.59.51 0 1.02-.2 1.41-.59l7.78-7.78 2.81-2.81c.8-.78.8-2.07 0-2.86zM5.41 20L4 18.59l7.72-7.72 1.47 1.35L5.41 20z\"/>\n",
              "  </svg>\n",
              "      </button>\n",
              "      \n",
              "  <style>\n",
              "    .colab-df-container {\n",
              "      display:flex;\n",
              "      flex-wrap:wrap;\n",
              "      gap: 12px;\n",
              "    }\n",
              "\n",
              "    .colab-df-convert {\n",
              "      background-color: #E8F0FE;\n",
              "      border: none;\n",
              "      border-radius: 50%;\n",
              "      cursor: pointer;\n",
              "      display: none;\n",
              "      fill: #1967D2;\n",
              "      height: 32px;\n",
              "      padding: 0 0 0 0;\n",
              "      width: 32px;\n",
              "    }\n",
              "\n",
              "    .colab-df-convert:hover {\n",
              "      background-color: #E2EBFA;\n",
              "      box-shadow: 0px 1px 2px rgba(60, 64, 67, 0.3), 0px 1px 3px 1px rgba(60, 64, 67, 0.15);\n",
              "      fill: #174EA6;\n",
              "    }\n",
              "\n",
              "    [theme=dark] .colab-df-convert {\n",
              "      background-color: #3B4455;\n",
              "      fill: #D2E3FC;\n",
              "    }\n",
              "\n",
              "    [theme=dark] .colab-df-convert:hover {\n",
              "      background-color: #434B5C;\n",
              "      box-shadow: 0px 1px 3px 1px rgba(0, 0, 0, 0.15);\n",
              "      filter: drop-shadow(0px 1px 2px rgba(0, 0, 0, 0.3));\n",
              "      fill: #FFFFFF;\n",
              "    }\n",
              "  </style>\n",
              "\n",
              "      <script>\n",
              "        const buttonEl =\n",
              "          document.querySelector('#df-558eb8c7-ff68-43a3-9c32-0c6b6bfec2cf button.colab-df-convert');\n",
              "        buttonEl.style.display =\n",
              "          google.colab.kernel.accessAllowed ? 'block' : 'none';\n",
              "\n",
              "        async function convertToInteractive(key) {\n",
              "          const element = document.querySelector('#df-558eb8c7-ff68-43a3-9c32-0c6b6bfec2cf');\n",
              "          const dataTable =\n",
              "            await google.colab.kernel.invokeFunction('convertToInteractive',\n",
              "                                                     [key], {});\n",
              "          if (!dataTable) return;\n",
              "\n",
              "          const docLinkHtml = 'Like what you see? Visit the ' +\n",
              "            '<a target=\"_blank\" href=https://colab.research.google.com/notebooks/data_table.ipynb>data table notebook</a>'\n",
              "            + ' to learn more about interactive tables.';\n",
              "          element.innerHTML = '';\n",
              "          dataTable['output_type'] = 'display_data';\n",
              "          await google.colab.output.renderOutput(dataTable, element);\n",
              "          const docLink = document.createElement('div');\n",
              "          docLink.innerHTML = docLinkHtml;\n",
              "          element.appendChild(docLink);\n",
              "        }\n",
              "      </script>\n",
              "    </div>\n",
              "  </div>\n",
              "  "
            ]
          },
          "metadata": {},
          "execution_count": 52
        }
      ]
    },
    {
      "cell_type": "markdown",
      "source": [
        "### Вывод:\n",
        "\n",
        "Модель CNN_RNN обучалась 1min 30s, модель RNN_CNN -- 1min 19s.\n",
        "\n",
        "Лучшие показатели метрики f1_score у модели CNN + LSTM, но обучается она дольше, чем LSTM + CNN."
      ],
      "metadata": {
        "id": "Hh6LLqF_ngiR"
      }
    },
    {
      "cell_type": "markdown",
      "source": [
        "## Выводы:"
      ],
      "metadata": {
        "id": "1VQygLJInwdG"
      }
    },
    {
      "cell_type": "markdown",
      "source": [
        "Оценим сводную таблицу метрик всех рассмотренных в задании моделей."
      ],
      "metadata": {
        "id": "sFdC6Mg-n2EL"
      }
    },
    {
      "cell_type": "code",
      "source": [
        "result_CNN = pd.DataFrame({'model': 'CNN', 'f1_score': [score_conv[1]]})\n",
        "result_models = pd.concat([result_CNN, result_RNN, result_CNN_RNN], ignore_index=True)\n",
        "result_models.sort_values(by='f1_score', ascending=False)"
      ],
      "metadata": {
        "colab": {
          "base_uri": "https://localhost:8080/",
          "height": 238
        },
        "id": "0LJM42kon2u-",
        "outputId": "83400272-728f-4143-90ef-45efb6f87c1f"
      },
      "execution_count": 54,
      "outputs": [
        {
          "output_type": "execute_result",
          "data": {
            "text/plain": [
              "       model  f1_score\n",
              "3        GRU  0.745886\n",
              "1  SimpleRNN  0.743820\n",
              "4    CNN_RNN  0.743203\n",
              "2       LSTM  0.741292\n",
              "0        CNN  0.715109\n",
              "5    RNN_CNN  0.715109"
            ],
            "text/html": [
              "\n",
              "  <div id=\"df-70911eed-f1e8-48e6-b98d-75738d06f6a3\">\n",
              "    <div class=\"colab-df-container\">\n",
              "      <div>\n",
              "<style scoped>\n",
              "    .dataframe tbody tr th:only-of-type {\n",
              "        vertical-align: middle;\n",
              "    }\n",
              "\n",
              "    .dataframe tbody tr th {\n",
              "        vertical-align: top;\n",
              "    }\n",
              "\n",
              "    .dataframe thead th {\n",
              "        text-align: right;\n",
              "    }\n",
              "</style>\n",
              "<table border=\"1\" class=\"dataframe\">\n",
              "  <thead>\n",
              "    <tr style=\"text-align: right;\">\n",
              "      <th></th>\n",
              "      <th>model</th>\n",
              "      <th>f1_score</th>\n",
              "    </tr>\n",
              "  </thead>\n",
              "  <tbody>\n",
              "    <tr>\n",
              "      <th>3</th>\n",
              "      <td>GRU</td>\n",
              "      <td>0.745886</td>\n",
              "    </tr>\n",
              "    <tr>\n",
              "      <th>1</th>\n",
              "      <td>SimpleRNN</td>\n",
              "      <td>0.743820</td>\n",
              "    </tr>\n",
              "    <tr>\n",
              "      <th>4</th>\n",
              "      <td>CNN_RNN</td>\n",
              "      <td>0.743203</td>\n",
              "    </tr>\n",
              "    <tr>\n",
              "      <th>2</th>\n",
              "      <td>LSTM</td>\n",
              "      <td>0.741292</td>\n",
              "    </tr>\n",
              "    <tr>\n",
              "      <th>0</th>\n",
              "      <td>CNN</td>\n",
              "      <td>0.715109</td>\n",
              "    </tr>\n",
              "    <tr>\n",
              "      <th>5</th>\n",
              "      <td>RNN_CNN</td>\n",
              "      <td>0.715109</td>\n",
              "    </tr>\n",
              "  </tbody>\n",
              "</table>\n",
              "</div>\n",
              "      <button class=\"colab-df-convert\" onclick=\"convertToInteractive('df-70911eed-f1e8-48e6-b98d-75738d06f6a3')\"\n",
              "              title=\"Convert this dataframe to an interactive table.\"\n",
              "              style=\"display:none;\">\n",
              "        \n",
              "  <svg xmlns=\"http://www.w3.org/2000/svg\" height=\"24px\"viewBox=\"0 0 24 24\"\n",
              "       width=\"24px\">\n",
              "    <path d=\"M0 0h24v24H0V0z\" fill=\"none\"/>\n",
              "    <path d=\"M18.56 5.44l.94 2.06.94-2.06 2.06-.94-2.06-.94-.94-2.06-.94 2.06-2.06.94zm-11 1L8.5 8.5l.94-2.06 2.06-.94-2.06-.94L8.5 2.5l-.94 2.06-2.06.94zm10 10l.94 2.06.94-2.06 2.06-.94-2.06-.94-.94-2.06-.94 2.06-2.06.94z\"/><path d=\"M17.41 7.96l-1.37-1.37c-.4-.4-.92-.59-1.43-.59-.52 0-1.04.2-1.43.59L10.3 9.45l-7.72 7.72c-.78.78-.78 2.05 0 2.83L4 21.41c.39.39.9.59 1.41.59.51 0 1.02-.2 1.41-.59l7.78-7.78 2.81-2.81c.8-.78.8-2.07 0-2.86zM5.41 20L4 18.59l7.72-7.72 1.47 1.35L5.41 20z\"/>\n",
              "  </svg>\n",
              "      </button>\n",
              "      \n",
              "  <style>\n",
              "    .colab-df-container {\n",
              "      display:flex;\n",
              "      flex-wrap:wrap;\n",
              "      gap: 12px;\n",
              "    }\n",
              "\n",
              "    .colab-df-convert {\n",
              "      background-color: #E8F0FE;\n",
              "      border: none;\n",
              "      border-radius: 50%;\n",
              "      cursor: pointer;\n",
              "      display: none;\n",
              "      fill: #1967D2;\n",
              "      height: 32px;\n",
              "      padding: 0 0 0 0;\n",
              "      width: 32px;\n",
              "    }\n",
              "\n",
              "    .colab-df-convert:hover {\n",
              "      background-color: #E2EBFA;\n",
              "      box-shadow: 0px 1px 2px rgba(60, 64, 67, 0.3), 0px 1px 3px 1px rgba(60, 64, 67, 0.15);\n",
              "      fill: #174EA6;\n",
              "    }\n",
              "\n",
              "    [theme=dark] .colab-df-convert {\n",
              "      background-color: #3B4455;\n",
              "      fill: #D2E3FC;\n",
              "    }\n",
              "\n",
              "    [theme=dark] .colab-df-convert:hover {\n",
              "      background-color: #434B5C;\n",
              "      box-shadow: 0px 1px 3px 1px rgba(0, 0, 0, 0.15);\n",
              "      filter: drop-shadow(0px 1px 2px rgba(0, 0, 0, 0.3));\n",
              "      fill: #FFFFFF;\n",
              "    }\n",
              "  </style>\n",
              "\n",
              "      <script>\n",
              "        const buttonEl =\n",
              "          document.querySelector('#df-70911eed-f1e8-48e6-b98d-75738d06f6a3 button.colab-df-convert');\n",
              "        buttonEl.style.display =\n",
              "          google.colab.kernel.accessAllowed ? 'block' : 'none';\n",
              "\n",
              "        async function convertToInteractive(key) {\n",
              "          const element = document.querySelector('#df-70911eed-f1e8-48e6-b98d-75738d06f6a3');\n",
              "          const dataTable =\n",
              "            await google.colab.kernel.invokeFunction('convertToInteractive',\n",
              "                                                     [key], {});\n",
              "          if (!dataTable) return;\n",
              "\n",
              "          const docLinkHtml = 'Like what you see? Visit the ' +\n",
              "            '<a target=\"_blank\" href=https://colab.research.google.com/notebooks/data_table.ipynb>data table notebook</a>'\n",
              "            + ' to learn more about interactive tables.';\n",
              "          element.innerHTML = '';\n",
              "          dataTable['output_type'] = 'display_data';\n",
              "          await google.colab.output.renderOutput(dataTable, element);\n",
              "          const docLink = document.createElement('div');\n",
              "          docLink.innerHTML = docLinkHtml;\n",
              "          element.appendChild(docLink);\n",
              "        }\n",
              "      </script>\n",
              "    </div>\n",
              "  </div>\n",
              "  "
            ]
          },
          "metadata": {},
          "execution_count": 54
        }
      ]
    },
    {
      "cell_type": "markdown",
      "source": [
        "**Лучшие показатели метрики f1_score у модели GRU.**"
      ],
      "metadata": {
        "id": "J6sF7tIRn5pr"
      }
    }
  ]
}