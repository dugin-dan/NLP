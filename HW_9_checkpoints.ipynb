{
 "cells": [
  {
   "cell_type": "markdown",
   "metadata": {
    "cellId": "ab9rjmggtbqxhfwq155v",
    "execution_id": "d1b09511-468f-497a-a724-7102ded7bd5c"
   },
   "source": [
    "# Задание:\n",
    "\n",
    "Разобраться с моделькой генерации текста, собрать самим или взять датасет с вебинара и обучить генератор текстов"
   ]
  },
  {
   "cell_type": "markdown",
   "metadata": {
    "cellId": "ce7r4mszykv6m6e3cvdg1r",
    "execution_id": "7fb11976-0438-4bdf-86d8-f7a4750438db"
   },
   "source": [
    "## Загрузка библиотек и модулей"
   ]
  },
  {
   "cell_type": "code",
   "execution_count": 1,
   "metadata": {
    "cellId": "asw703bsoiwxic8cpdv15",
    "id": "yG_n40gFzf9s"
   },
   "outputs": [],
   "source": [
    "#!g1.1\n",
    "import tensorflow as tf\n",
    "import numpy as np\n",
    "import os\n",
    "import time"
   ]
  },
  {
   "cell_type": "markdown",
   "metadata": {
    "cellId": "r7x44an7s2vsoget0lxeo",
    "execution_id": "4349a7e3-dfe0-4eda-9e6c-8624d54c0adf"
   },
   "source": [
    "## Загрузка и подготовка данных"
   ]
  },
  {
   "cell_type": "code",
   "execution_count": 2,
   "metadata": {
    "cellId": "ph5v497b0lat8fgf01ke78",
    "colab": {
     "base_uri": "https://localhost:8080/"
    },
    "id": "E-y2V7wzbVXe",
    "outputId": "45b55ccd-01e6-4031-ecc9-9d462bea4dba"
   },
   "outputs": [
    {
     "name": "stdout",
     "output_type": "stream",
     "text": [
      "evgenyi_onegin.txt  рубаи.txt\n"
     ]
    }
   ],
   "source": [
    "#!g1.1\n",
    "!ls *.txt"
   ]
  },
  {
   "cell_type": "code",
   "execution_count": 3,
   "metadata": {
    "cellId": "c06o1md9xiq08ey8avn1cd7",
    "colab": {
     "base_uri": "https://localhost:8080/"
    },
    "id": "aavnuByVymwK",
    "outputId": "d8342a29-2e54-448e-d278-ccea9f917e74"
   },
   "outputs": [
    {
     "name": "stdout",
     "output_type": "stream",
     "text": [
      "Длина Рубаи: 23660 символов\n"
     ]
    }
   ],
   "source": [
    "#!g1.1\n",
    "text = open('рубаи.txt', 'rb').read().decode(encoding='utf-8')\n",
    "# Длина Евгения Онегина (кол-во символов)\n",
    "print('Длина Рубаи: {} символов'.format(len(text)))"
   ]
  },
  {
   "cell_type": "code",
   "execution_count": 4,
   "metadata": {
    "cellId": "2zpmj7zmx1ptafsw7kwzmr",
    "colab": {
     "base_uri": "https://localhost:8080/"
    },
    "id": "Duhg9NrUymwO",
    "outputId": "bb5f438f-ccc3-43de-dde6-75b9e26e9c5c"
   },
   "outputs": [
    {
     "name": "stdout",
     "output_type": "stream",
     "text": [
      "Омар Хайям. Рубаи\n",
      "Цель вечная движенья миров вселенной - мы.\n",
      "В глазу рассудка ясном зрачок мгновенный - мы.\n",
      "Похож на яркий перстень летящий круг миров.\n",
      "На перстне этом быстром узор нетленный - мы.\n",
      "\n",
      "Из всех ушедших в бесконечный путь\n",
      "Сюда вернулся разве кто-нибудь?\n",
      "Так в этом старом караван-сарае,\n",
      "Смотри, чего-нибудь не позабудь.\n",
      "\n",
      "Для достойного - нету достойных наград,\n",
      "Я живот положить за достойного рад.\n",
      "Хочешь знать, существуют ли адские муки?\n",
      "Жить среди недостойных - вот истинный\n"
     ]
    }
   ],
   "source": [
    "#!g1.1\n",
    "print(text[:500])"
   ]
  },
  {
   "cell_type": "code",
   "execution_count": 5,
   "metadata": {
    "cellId": "dapk7lcmg7gaflltlmdqie",
    "colab": {
     "base_uri": "https://localhost:8080/"
    },
    "id": "IlCgQBRVymwR",
    "outputId": "7b1a4a99-112d-41fe-98d6-38cea3eeeac6"
   },
   "outputs": [
    {
     "name": "stdout",
     "output_type": "stream",
     "text": [
      "69 уникальных символов в тексте\n"
     ]
    }
   ],
   "source": [
    "#!g1.1\n",
    "# Уникальные символы в тексте\n",
    "vocab = sorted(set(text))\n",
    "vocab_size = len(vocab)\n",
    "print('{} уникальных символов в тексте'.format(vocab_size))"
   ]
  },
  {
   "cell_type": "code",
   "execution_count": 6,
   "metadata": {
    "cellId": "307mmkdz0g5fshnojrpmng",
    "id": "IalZLbvOzf-F"
   },
   "outputs": [],
   "source": [
    "#!g1.1\n",
    "# Сопоставим уникальные символы текста и индексы\n",
    "char2idx = {u:i for i, u in enumerate(vocab)}\n",
    "idx2char = np.array(vocab)\n",
    "# Представим текст в виде последовательности чисел (индексов)\n",
    "text_as_int = np.array([char2idx[c] for c in text])"
   ]
  },
  {
   "cell_type": "code",
   "execution_count": 7,
   "metadata": {
    "cellId": "a1nzsatsm3pyppcgs2p0j",
    "colab": {
     "base_uri": "https://localhost:8080/"
    },
    "id": "p-DhY8bbTY3g",
    "outputId": "5bf52a2c-9609-462e-b1bd-821a565ab778"
   },
   "outputs": [
    {
     "name": "stdout",
     "output_type": "stream",
     "text": [
      "[25 49 37 53  2 31 37 46 68 49  7  2 27 56 38 37 45  1  0 32 42 48 65  2\n",
      " 39 42 60 50 37 68  2 41 39 45 43 42 50 65 68  2 49 45 53 51 39  2 39 54\n",
      " 42 48 42 50 50 51 46  2  6  2 49 64  7  1  0 14  2 40 48 37 44 56  2 53\n",
      " 37 54 54 56 41 47 37  2 68 54 50 51 49  2 44 53 37 60 51 47  2 49 40 50\n",
      " 51 39 42 50 50 64 46  2  6  2 49 64  7  1  0 26 51 58 51 43  2 50 37  2\n",
      " 68 53 47 45 46  2 52 42 53 54 55 42 50 65  2 48 42 55 68 62 45 46  2 47\n",
      " 53 56 40  2 49 45 53 51 39  7  1  0 24 37  2 52 42 53 54 55 50 42  2 66\n",
      " 55 51 49  2 38 64 54 55 53 51 49  2 56 44 51 53  2 50 42 55 48 42 50 50\n",
      " 64 46  2  6  2 49 64  7]\n",
      "Омар Хайям. Рубаи\n",
      "Цель вечная движенья миров вселенной - мы.\n",
      "В глазу рассудка ясном зрачок мгновенный - мы.\n",
      "Похож на яркий перстень летящий круг миров.\n",
      "На перстне этом быстром узор нетленный - мы.\n"
     ]
    },
    {
     "data": {
      "text/plain": [
       "(None, None)"
      ]
     },
     "execution_count": 7,
     "metadata": {},
     "output_type": "execute_result"
    }
   ],
   "source": [
    "#!g1.1\n",
    "print(text_as_int[:200]), print(text[:200])"
   ]
  },
  {
   "cell_type": "code",
   "execution_count": 8,
   "metadata": {
    "cellId": "lm2b4a92qyooby4d5lyb3i"
   },
   "outputs": [
    {
     "data": {
      "text/plain": [
       "(23660, 23660)"
      ]
     },
     "execution_count": 8,
     "metadata": {},
     "output_type": "execute_result"
    }
   ],
   "source": [
    "#!g1.1\n",
    "len(text_as_int), len(text)"
   ]
  },
  {
   "cell_type": "markdown",
   "metadata": {
    "cellId": "xtqnzvspn7lsly62fj12r",
    "execution_id": "af5864a8-0b78-4cb0-a0bd-cc1a68535075",
    "id": "hgsVvVxnymwf"
   },
   "source": [
    "### Подготовка"
   ]
  },
  {
   "cell_type": "code",
   "execution_count": 9,
   "metadata": {
    "cellId": "y2mr5oqbsrgn7zmxtjl84"
   },
   "outputs": [],
   "source": [
    "#!g1.1\n",
    "# Максимальная длина предложения в символах для единичного ввода\n",
    "seq_length = 100\n",
    "# Кол-во примеров в эпоху\n",
    "examples_per_epoch = len(text)//(seq_length+1)\n",
    "\n",
    "# Размер батча\n",
    "BATCH_SIZE = 64\n",
    "# размер буфера для перемешивания данных\n",
    "BUFFER_SIZE = 10000\n",
    "\n",
    "# Размерность эмбеддинга\n",
    "embedding_dim = 256\n",
    "\n",
    "# Число ячеек\n",
    "rnn_units = 1024"
   ]
  },
  {
   "cell_type": "code",
   "execution_count": 10,
   "metadata": {
    "cellId": "bm4ta36n83w0ei1bfvso9lu",
    "colab": {
     "base_uri": "https://localhost:8080/"
    },
    "id": "0UHJDA39zf-O",
    "outputId": "3382fac3-c43e-48ac-a206-0e93c46f0e56"
   },
   "outputs": [
    {
     "name": "stdout",
     "output_type": "stream",
     "text": [
      "23660\n",
      "О\n",
      "tf.Tensor(25, shape=(), dtype=int64)\n",
      "м\n",
      "tf.Tensor(49, shape=(), dtype=int64)\n",
      "а\n",
      "tf.Tensor(37, shape=(), dtype=int64)\n",
      "р\n",
      "tf.Tensor(53, shape=(), dtype=int64)\n",
      " \n",
      "tf.Tensor(2, shape=(), dtype=int64)\n"
     ]
    },
    {
     "name": "stderr",
     "output_type": "stream",
     "text": [
      "/kernel/lib/python3.8/site-packages/ml_kernel/kernel.py:864: UserWarning: The following variables cannot be serialized: char_dataset\n",
      "  warnings.warn(message)\n"
     ]
    }
   ],
   "source": [
    "#!g1.1\n",
    "# Создаем датасет\n",
    "char_dataset = tf.data.Dataset.from_tensor_slices(text_as_int)\n",
    "print(len(char_dataset))\n",
    "for i in char_dataset.take(5):\n",
    "    print(idx2char[i.numpy()])\n",
    "    print(i)"
   ]
  },
  {
   "cell_type": "code",
   "execution_count": 11,
   "metadata": {
    "cellId": "16z7w3fnn7z8n8xlqnh0y9",
    "colab": {
     "base_uri": "https://localhost:8080/"
    },
    "id": "l4hkDU3i7ozi",
    "outputId": "1beb5515-1fce-49ed-f607-efae3bf5a9d2"
   },
   "outputs": [
    {
     "name": "stdout",
     "output_type": "stream",
     "text": [
      "'Омар Хайям. Рубаи\\r\\nЦель вечная движенья миров вселенной - мы.\\r\\nВ глазу рассудка ясном зрачок мгновенн'\n",
      "'ый - мы.\\r\\nПохож на яркий перстень летящий круг миров.\\r\\nНа перстне этом быстром узор нетленный - мы.\\r\\n'\n",
      "'\\r\\nИз всех ушедших в бесконечный путь\\r\\nСюда вернулся разве кто-нибудь?\\r\\nТак в этом старом караван-сара'\n",
      "'е,\\r\\nСмотри, чего-нибудь не позабудь.\\r\\n\\r\\nДля достойного - нету достойных наград,\\r\\nЯ живот положить за '\n",
      "'достойного рад.\\r\\nХочешь знать, существуют ли адские муки?\\r\\nЖить среди недостойных - вот истинный ад!\\r'\n"
     ]
    },
    {
     "name": "stderr",
     "output_type": "stream",
     "text": [
      "/kernel/lib/python3.8/site-packages/ml_kernel/kernel.py:864: UserWarning: The following variables cannot be serialized: char_dataset, sequences\n",
      "  warnings.warn(message)\n"
     ]
    }
   ],
   "source": [
    "#!g1.1\n",
    "# Разобьём датасет на батчи длиной seq_length+1 символов, последний неполный батч отбрасываем\n",
    "sequences = char_dataset.batch(seq_length+1, drop_remainder=True)\n",
    "\n",
    "for item in sequences.take(5):\n",
    "    print(repr(''.join(idx2char[item.numpy()])))"
   ]
  },
  {
   "cell_type": "code",
   "execution_count": 12,
   "metadata": {
    "cellId": "5utbdiv37gu00c8wvymy28bj",
    "id": "9NGu-FkO_kYU"
   },
   "outputs": [
    {
     "name": "stdout",
     "output_type": "stream",
     "text": [
      "Количество батчей в датасете: 234\n"
     ]
    },
    {
     "name": "stderr",
     "output_type": "stream",
     "text": [
      "/kernel/lib/python3.8/site-packages/ml_kernel/kernel.py:864: UserWarning: The following variables cannot be serialized: char_dataset, dataset, sequences\n",
      "  warnings.warn(message)\n"
     ]
    }
   ],
   "source": [
    "#!g1.1\n",
    "# Разобьём каждый батч на признак и целевую переменную (без первого символа)\n",
    "def split_input_target(chunk):\n",
    "    input_text = chunk[:-1]\n",
    "    target_text = chunk[1:]\n",
    "    return input_text, target_text\n",
    "\n",
    "# из всех батчей создаем датасет из признаков и целевых переменных\n",
    "dataset = sequences.map(split_input_target)\n",
    "print(f'Количество батчей в датасете: {len(dataset)}')"
   ]
  },
  {
   "cell_type": "markdown",
   "metadata": {
    "cellId": "gyywj9889rccku7jyc0emr",
    "execution_id": "24d618c6-8206-4284-b147-eb4d6f4e99a4",
    "id": "hiCopyGZymwi"
   },
   "source": [
    "Распечатаем первый пример входного текста и целевой переменной:"
   ]
  },
  {
   "cell_type": "code",
   "execution_count": 13,
   "metadata": {
    "cellId": "e1h4ipmlgj76mx8uw5jla7",
    "colab": {
     "base_uri": "https://localhost:8080/"
    },
    "id": "GNbw-iR0ymwj",
    "outputId": "3cd2e248-3e4a-4ef8-8e6c-3cf1c25963a4"
   },
   "outputs": [
    {
     "name": "stdout",
     "output_type": "stream",
     "text": [
      "Input data:  'Омар Хайям. Рубаи\\r\\nЦель вечная движенья миров вселенной - мы.\\r\\nВ глазу рассудка ясном зрачок мгновен'\n",
      "Target data: 'мар Хайям. Рубаи\\r\\nЦель вечная движенья миров вселенной - мы.\\r\\nВ глазу рассудка ясном зрачок мгновенн'\n"
     ]
    },
    {
     "name": "stderr",
     "output_type": "stream",
     "text": [
      "/kernel/lib/python3.8/site-packages/ml_kernel/kernel.py:864: UserWarning: The following variables cannot be serialized: char_dataset, dataset, sequences\n",
      "  warnings.warn(message)\n"
     ]
    }
   ],
   "source": [
    "#!g1.1\n",
    "for input_example, target_example in  dataset.take(1):\n",
    "    print('Input data: ', repr(''.join(idx2char[input_example.numpy()])))\n",
    "    print('Target data:', repr(''.join(idx2char[target_example.numpy()])))"
   ]
  },
  {
   "cell_type": "code",
   "execution_count": 14,
   "metadata": {
    "cellId": "gd3s5m1dwjgxhjawoxo23j",
    "colab": {
     "base_uri": "https://localhost:8080/"
    },
    "id": "p2pGotuNzf-S",
    "outputId": "30091426-c2de-45c9-a0fd-70437379ffeb"
   },
   "outputs": [
    {
     "data": {
      "text/plain": [
       "<BatchDataset shapes: ((64, 100), (64, 100)), types: (tf.int64, tf.int64)>"
      ]
     },
     "execution_count": 14,
     "metadata": {},
     "output_type": "execute_result"
    },
    {
     "name": "stderr",
     "output_type": "stream",
     "text": [
      "/kernel/lib/python3.8/site-packages/ml_kernel/kernel.py:864: UserWarning: The following variables cannot be serialized: char_dataset, dataset, sequences\n",
      "  warnings.warn(message)\n"
     ]
    }
   ],
   "source": [
    "#!g1.1\n",
    "# Перемешаем разделенные данные\n",
    "dataset = dataset.shuffle(BUFFER_SIZE).batch(BATCH_SIZE, drop_remainder=True)\n",
    "\n",
    "dataset"
   ]
  },
  {
   "cell_type": "markdown",
   "metadata": {
    "cellId": "enxqexh6u6n0l8i3cwa2jq",
    "execution_id": "09709543-194e-443f-b3d7-6b0eec7e2ec0"
   },
   "source": [
    "### Построение модели"
   ]
  },
  {
   "cell_type": "code",
   "execution_count": 15,
   "metadata": {
    "cellId": "dup3gbermza7d0dfj43f4q",
    "id": "MtCrdfzEI2N0"
   },
   "outputs": [],
   "source": [
    "#!g1.1\n",
    "def build_model(vocab_size, embedding_dim, rnn_units, batch_size):\n",
    "    model = tf.keras.Sequential([\n",
    "        tf.keras.layers.Embedding(vocab_size, embedding_dim,\n",
    "                                  batch_input_shape=[batch_size, None]),\n",
    "                                 \n",
    "        tf.keras.layers.LSTM(rnn_units,\n",
    "                             return_sequences=True,\n",
    "                             stateful=True,\n",
    "                             recurrent_initializer='glorot_uniform'),\n",
    "\n",
    "        tf.keras.layers.LSTM(rnn_units,\n",
    "                             return_sequences=True,\n",
    "                             stateful=True,\n",
    "                             recurrent_initializer='glorot_uniform'),\n",
    "\n",
    "         tf.keras.layers.LSTM(rnn_units,\n",
    "                              return_sequences=True,\n",
    "                              stateful=True,\n",
    "                              recurrent_initializer='glorot_uniform'),\n",
    "        \n",
    "        tf.keras.layers.LSTM(rnn_units,\n",
    "                             return_sequences=True,\n",
    "                             stateful=True,\n",
    "                             recurrent_initializer='glorot_uniform'),\n",
    "                                   \n",
    "        tf.keras.layers.Dense(vocab_size)\n",
    "    ])\n",
    "    return model"
   ]
  },
  {
   "cell_type": "code",
   "execution_count": 16,
   "metadata": {
    "cellId": "fchiih9w55dk3mutn8eav",
    "id": "wwsrpOik5zhv"
   },
   "outputs": [],
   "source": [
    "#!g1.1\n",
    "model = build_model(\n",
    "    vocab_size=vocab_size,\n",
    "    embedding_dim=embedding_dim,\n",
    "    rnn_units=rnn_units,\n",
    "    batch_size=BATCH_SIZE)"
   ]
  },
  {
   "cell_type": "code",
   "execution_count": 17,
   "metadata": {
    "cellId": "87wzvn7ps7b8xw57w0pwp8",
    "colab": {
     "base_uri": "https://localhost:8080/"
    },
    "id": "vPGmAAXmVLGC",
    "outputId": "8a91a444-bc36-4e3b-fd3f-472d89ce5b97"
   },
   "outputs": [
    {
     "name": "stdout",
     "output_type": "stream",
     "text": [
      "Model: \"sequential\"\n",
      "_________________________________________________________________\n",
      "Layer (type)                 Output Shape              Param #   \n",
      "=================================================================\n",
      "embedding (Embedding)        (64, None, 256)           17664     \n",
      "_________________________________________________________________\n",
      "lstm (LSTM)                  (64, None, 1024)          5246976   \n",
      "_________________________________________________________________\n",
      "lstm_1 (LSTM)                (64, None, 1024)          8392704   \n",
      "_________________________________________________________________\n",
      "lstm_2 (LSTM)                (64, None, 1024)          8392704   \n",
      "_________________________________________________________________\n",
      "lstm_3 (LSTM)                (64, None, 1024)          8392704   \n",
      "_________________________________________________________________\n",
      "dense (Dense)                (64, None, 69)            70725     \n",
      "=================================================================\n",
      "Total params: 30,513,477\n",
      "Trainable params: 30,513,477\n",
      "Non-trainable params: 0\n",
      "_________________________________________________________________\n"
     ]
    }
   ],
   "source": [
    "#!g1.1\n",
    "model.summary()"
   ]
  },
  {
   "cell_type": "code",
   "execution_count": 18,
   "metadata": {
    "cellId": "w6toc3dtbfhaqiatvo5k",
    "colab": {
     "base_uri": "https://localhost:8080/"
    },
    "id": "C-_70kKAPrPU",
    "outputId": "5c85d4aa-e46a-4cfb-c59d-10901ecc797b"
   },
   "outputs": [
    {
     "name": "stdout",
     "output_type": "stream",
     "text": [
      "(64, 100, 69) # (batch_size, sequence_length, vocab_size)\n"
     ]
    },
    {
     "name": "stderr",
     "output_type": "stream",
     "text": [
      "/kernel/lib/python3.8/site-packages/ml_kernel/kernel.py:864: UserWarning: The following variables cannot be serialized: char_dataset, dataset, sequences\n",
      "  warnings.warn(message)\n"
     ]
    }
   ],
   "source": [
    "#!g1.1\n",
    "for input_example_batch, target_example_batch in dataset.take(1):\n",
    "    example_batch_predictions = model(input_example_batch)\n",
    "    print(example_batch_predictions.shape, \"# (batch_size, sequence_length, vocab_size)\")"
   ]
  },
  {
   "cell_type": "code",
   "execution_count": 19,
   "metadata": {
    "cellId": "c8n8mxf0hn9wazw45pk0un",
    "colab": {
     "base_uri": "https://localhost:8080/"
    },
    "id": "aFkC1pcZjQFq",
    "outputId": "8bae5c53-e42a-4baa-fd0a-51cf81392857"
   },
   "outputs": [
    {
     "data": {
      "text/plain": [
       "<tf.Tensor: shape=(100, 69), dtype=float32, numpy=\n",
       "array([[ 8.5580205e-06,  6.0620505e-06, -2.9950652e-05, ...,\n",
       "        -4.6873743e-06, -1.0395094e-07, -1.3313744e-05],\n",
       "       [ 3.3069093e-05,  2.5873318e-05, -9.7269265e-05, ...,\n",
       "        -6.5162822e-06,  1.7364022e-05, -6.0182254e-05],\n",
       "       [ 6.1136590e-05,  7.6049029e-05, -1.7819801e-04, ...,\n",
       "        -1.2702298e-05,  2.5683075e-05, -1.2452216e-04],\n",
       "       ...,\n",
       "       [ 1.1750489e-03,  5.2415467e-06, -3.0756023e-04, ...,\n",
       "         3.7224853e-04,  4.2790896e-04, -1.2572737e-03],\n",
       "       [ 1.1903127e-03,  7.5013304e-05, -2.2596821e-04, ...,\n",
       "         2.5833512e-04,  4.1890398e-04, -1.1651050e-03],\n",
       "       [ 1.1736377e-03,  1.4546998e-04, -2.0905715e-04, ...,\n",
       "         1.1560904e-04,  4.2216768e-04, -1.0696459e-03]], dtype=float32)>"
      ]
     },
     "execution_count": 19,
     "metadata": {},
     "output_type": "execute_result"
    }
   ],
   "source": [
    "#!g1.1\n",
    "example_batch_predictions[0]"
   ]
  },
  {
   "cell_type": "code",
   "execution_count": 20,
   "metadata": {
    "cellId": "5rh1l94loz6n28f29iupg",
    "id": "4V4MfFg0RQJg"
   },
   "outputs": [],
   "source": [
    "#!g1.1\n",
    "sampled_indices = tf.random.categorical(example_batch_predictions[0], num_samples=1)\n",
    "sampled_indices = tf.squeeze(sampled_indices,axis=-1).numpy()"
   ]
  },
  {
   "cell_type": "code",
   "execution_count": 21,
   "metadata": {
    "cellId": "0uu0s48vhj3lkvaf337tl8",
    "colab": {
     "base_uri": "https://localhost:8080/"
    },
    "id": "xWcFwPwLSo05",
    "outputId": "5f6eee22-47aa-4963-bb69-d0cc355a3043"
   },
   "outputs": [
    {
     "name": "stdout",
     "output_type": "stream",
     "text": [
      "Input: \n",
      " 'всей нашей жизни основа - любовь!\\r\\n\\r\\nСловно солнце, горит, не сгорая, любовь.\\r\\nСловно птица небесног'\n",
      "\n",
      "Next Char Predictions: \n",
      " 'вЧвАщхИ ьЕваеж;йАшРцх?гииШТмЖсяхоруС!цщщ-дйЕ,л\"ющ\\rрХ\"ППтсЧиЧМ:УИ\"цВаМ\\rгпвОуЗщ,:двЦЖфсКйаЛ-РЦЦ МнИтЗш'\n"
     ]
    }
   ],
   "source": [
    "#!g1.1\n",
    "print(\"Input: \\n\", repr(\"\".join(idx2char[input_example_batch[0]])))\n",
    "print()\n",
    "print(\"Next Char Predictions: \\n\", repr(\"\".join(idx2char[sampled_indices])))"
   ]
  },
  {
   "cell_type": "markdown",
   "metadata": {
    "cellId": "1cp764kreebr0mnikbueup",
    "execution_id": "60063989-c4bc-406c-9b22-c6b00fadb42e",
    "id": "LJL0Q0YPY6Ee"
   },
   "source": [
    "### Обучение модели"
   ]
  },
  {
   "cell_type": "code",
   "execution_count": 22,
   "metadata": {
    "cellId": "u56za7k7yjbbrhp0rg74t",
    "colab": {
     "base_uri": "https://localhost:8080/"
    },
    "id": "4HrXTACTdzY-",
    "outputId": "18508a4e-0e38-4b26-a638-70e91fcc469a"
   },
   "outputs": [],
   "source": [
    "#!g1.1\n",
    "# т.к. задача многоклассовой классификации, то функция потерь - обычная кросс-энтропия\n",
    "def loss(labels, logits):\n",
    "    return tf.keras.losses.sparse_categorical_crossentropy(labels, logits, from_logits=True)"
   ]
  },
  {
   "cell_type": "code",
   "execution_count": 23,
   "metadata": {
    "cellId": "e5bp7yppefsfryksa23wve"
   },
   "outputs": [
    {
     "name": "stdout",
     "output_type": "stream",
     "text": [
      "Prediction shape:  (64, 100, 69)  # (batch_size, sequence_length, vocab_size)\n",
      "scalar_loss:       4.2342515\n"
     ]
    }
   ],
   "source": [
    "#!g1.1\n",
    "example_batch_loss = loss(target_example_batch, example_batch_predictions)\n",
    "print(\"Prediction shape: \", example_batch_predictions.shape, \" # (batch_size, sequence_length, vocab_size)\")\n",
    "print(\"scalar_loss:      \", example_batch_loss.numpy().mean())"
   ]
  },
  {
   "cell_type": "code",
   "execution_count": 24,
   "metadata": {
    "cellId": "xxcidds363pi57kfw8qi3e",
    "id": "DDl1_Een6rL0"
   },
   "outputs": [],
   "source": [
    "#!g1.1\n",
    "# компиляция модели\n",
    "model.compile(optimizer='adam', loss=loss)"
   ]
  },
  {
   "cell_type": "code",
   "execution_count": 25,
   "metadata": {
    "cellId": "tguxyv7rdii8nej6sairzc",
    "id": "W6fWTriUZP-n"
   },
   "outputs": [],
   "source": [
    "#!g1.1\n",
    "# Папка для сохранения чекпоинтов\n",
    "checkpoint_dir = '/home/jupyter/work/resources/9_Языковое_моделирование/training_checkpoints'\n",
    "\n",
    "# Name of the checkpoint files\n",
    "checkpoint_prefix = os.path.join(checkpoint_dir, \"ckpt_{epoch}\")\n",
    "\n",
    "checkpoint_callback = tf.keras.callbacks.ModelCheckpoint(\n",
    "    filepath=checkpoint_prefix,\n",
    "    save_freq=88*5,\n",
    "    save_weights_only=True)"
   ]
  },
  {
   "cell_type": "markdown",
   "metadata": {
    "cellId": "yyrdzwm829t6wtr653g",
    "execution_id": "45a94447-e218-4c33-a66d-aeac531ee6db"
   },
   "source": [
    "#!g1.1\n",
    "early_stop = tf.keras.callbacks.EarlyStopping(\n",
    "    monitor='loss',\n",
    "    min_delta = 0.000001,\n",
    "    patience = 10,\n",
    "    verbose = 1,\n",
    "    mode='auto',\n",
    "    restore_best_weights=True)"
   ]
  },
  {
   "cell_type": "code",
   "execution_count": 26,
   "metadata": {
    "cellId": "9rmdejaub4lnbz36eht75q",
    "id": "7yGBE2zxMMHs"
   },
   "outputs": [],
   "source": [
    "#!g1.1\n",
    "EPOCHS = 600"
   ]
  },
  {
   "cell_type": "code",
   "execution_count": 27,
   "metadata": {
    "cellId": "33enu8gmbk1pcz24j4c8ti",
    "id": "UK-hmKjYVoll"
   },
   "outputs": [
    {
     "name": "stdout",
     "output_type": "stream",
     "text": [
      "Epoch 1/600\n",
      "3/3 [==============================] - 4s 135ms/step - loss: 4.3915\n",
      "Epoch 2/600\n",
      "3/3 [==============================] - 0s 131ms/step - loss: 3.9367\n",
      "Epoch 3/600\n",
      "3/3 [==============================] - 0s 131ms/step - loss: 3.6728\n",
      "Epoch 4/600\n",
      "3/3 [==============================] - 0s 131ms/step - loss: 3.4412\n",
      "Epoch 5/600\n",
      "3/3 [==============================] - 0s 131ms/step - loss: 3.4053\n",
      "Epoch 6/600\n",
      "3/3 [==============================] - 0s 132ms/step - loss: 3.3972\n",
      "Epoch 7/600\n",
      "3/3 [==============================] - 0s 131ms/step - loss: 3.3860\n",
      "Epoch 8/600\n",
      "3/3 [==============================] - 0s 131ms/step - loss: 3.3853\n",
      "Epoch 9/600\n",
      "3/3 [==============================] - 0s 132ms/step - loss: 3.3841\n",
      "Epoch 10/600\n",
      "3/3 [==============================] - 0s 132ms/step - loss: 3.3817\n",
      "Epoch 11/600\n",
      "3/3 [==============================] - 0s 133ms/step - loss: 3.3793\n",
      "Epoch 12/600\n",
      "3/3 [==============================] - 0s 132ms/step - loss: 3.3780\n",
      "Epoch 13/600\n",
      "3/3 [==============================] - 0s 133ms/step - loss: 3.3732\n",
      "Epoch 14/600\n",
      "3/3 [==============================] - 0s 132ms/step - loss: 3.3764\n",
      "Epoch 15/600\n",
      "3/3 [==============================] - 0s 131ms/step - loss: 3.3671\n",
      "Epoch 16/600\n",
      "3/3 [==============================] - 0s 131ms/step - loss: 3.3689\n",
      "Epoch 17/600\n",
      "3/3 [==============================] - 0s 131ms/step - loss: 3.3620\n",
      "Epoch 18/600\n",
      "3/3 [==============================] - 0s 131ms/step - loss: 3.3382\n",
      "Epoch 19/600\n",
      "3/3 [==============================] - 0s 131ms/step - loss: 3.3475\n",
      "Epoch 20/600\n",
      "3/3 [==============================] - 0s 131ms/step - loss: 3.3392\n",
      "Epoch 21/600\n",
      "3/3 [==============================] - 0s 132ms/step - loss: 3.3194\n",
      "Epoch 22/600\n",
      "3/3 [==============================] - 0s 132ms/step - loss: 3.3091\n",
      "Epoch 23/600\n",
      "3/3 [==============================] - 0s 131ms/step - loss: 3.2872\n",
      "Epoch 24/600\n",
      "3/3 [==============================] - 0s 133ms/step - loss: 3.2785\n",
      "Epoch 25/600\n",
      "3/3 [==============================] - 0s 132ms/step - loss: 3.2607\n",
      "Epoch 26/600\n",
      "3/3 [==============================] - 0s 131ms/step - loss: 3.2535\n",
      "Epoch 27/600\n",
      "3/3 [==============================] - 0s 132ms/step - loss: 3.2373\n",
      "Epoch 28/600\n",
      "3/3 [==============================] - 0s 130ms/step - loss: 3.2121\n",
      "Epoch 29/600\n",
      "3/3 [==============================] - 0s 132ms/step - loss: 3.1769\n",
      "Epoch 30/600\n",
      "3/3 [==============================] - 0s 132ms/step - loss: 3.1472\n",
      "Epoch 31/600\n",
      "3/3 [==============================] - 0s 132ms/step - loss: 3.0952\n",
      "Epoch 32/600\n",
      "3/3 [==============================] - 0s 131ms/step - loss: 3.0549\n",
      "Epoch 33/600\n",
      "3/3 [==============================] - 0s 132ms/step - loss: 3.0097\n",
      "Epoch 34/600\n",
      "3/3 [==============================] - 0s 132ms/step - loss: 2.9709\n",
      "Epoch 35/600\n",
      "3/3 [==============================] - 0s 132ms/step - loss: 2.9189\n",
      "Epoch 36/600\n",
      "3/3 [==============================] - 0s 132ms/step - loss: 2.8777\n",
      "Epoch 37/600\n",
      "3/3 [==============================] - 0s 131ms/step - loss: 2.8267\n",
      "Epoch 38/600\n",
      "3/3 [==============================] - 0s 131ms/step - loss: 2.7962\n",
      "Epoch 39/600\n",
      "3/3 [==============================] - 0s 132ms/step - loss: 2.7763\n",
      "Epoch 40/600\n",
      "3/3 [==============================] - 0s 132ms/step - loss: 2.7513\n",
      "Epoch 41/600\n",
      "3/3 [==============================] - 0s 133ms/step - loss: 2.7149\n",
      "Epoch 42/600\n",
      "3/3 [==============================] - 0s 131ms/step - loss: 2.6743\n",
      "Epoch 43/600\n",
      "3/3 [==============================] - 0s 132ms/step - loss: 2.6333\n",
      "Epoch 44/600\n",
      "3/3 [==============================] - 0s 131ms/step - loss: 2.5967\n",
      "Epoch 45/600\n",
      "3/3 [==============================] - 0s 132ms/step - loss: 2.5648\n",
      "Epoch 46/600\n",
      "3/3 [==============================] - 0s 132ms/step - loss: 2.5284\n",
      "Epoch 47/600\n",
      "3/3 [==============================] - 0s 131ms/step - loss: 2.5121\n",
      "Epoch 48/600\n",
      "3/3 [==============================] - 0s 132ms/step - loss: 2.4933\n",
      "Epoch 49/600\n",
      "3/3 [==============================] - 0s 132ms/step - loss: 2.4651\n",
      "Epoch 50/600\n",
      "3/3 [==============================] - 0s 132ms/step - loss: 2.4522\n",
      "Epoch 51/600\n",
      "3/3 [==============================] - 0s 131ms/step - loss: 2.4322\n",
      "Epoch 52/600\n",
      "3/3 [==============================] - 0s 132ms/step - loss: 2.4178\n",
      "Epoch 53/600\n",
      "3/3 [==============================] - 0s 131ms/step - loss: 2.4089\n",
      "Epoch 54/600\n",
      "3/3 [==============================] - 0s 132ms/step - loss: 2.3939\n",
      "Epoch 55/600\n",
      "3/3 [==============================] - 0s 133ms/step - loss: 2.3759\n",
      "Epoch 56/600\n",
      "3/3 [==============================] - 0s 131ms/step - loss: 2.3546\n",
      "Epoch 57/600\n",
      "3/3 [==============================] - 0s 132ms/step - loss: 2.3538\n",
      "Epoch 58/600\n",
      "3/3 [==============================] - 0s 132ms/step - loss: 2.3282\n",
      "Epoch 59/600\n",
      "3/3 [==============================] - 0s 134ms/step - loss: 2.3088\n",
      "Epoch 60/600\n",
      "3/3 [==============================] - 0s 132ms/step - loss: 2.2889\n",
      "Epoch 61/600\n",
      "3/3 [==============================] - 0s 132ms/step - loss: 2.2743\n",
      "Epoch 62/600\n",
      "3/3 [==============================] - 0s 132ms/step - loss: 2.2463\n",
      "Epoch 63/600\n",
      "3/3 [==============================] - 0s 132ms/step - loss: 2.2406\n",
      "Epoch 64/600\n",
      "3/3 [==============================] - 0s 132ms/step - loss: 2.2062\n",
      "Epoch 65/600\n",
      "3/3 [==============================] - 0s 133ms/step - loss: 2.1692\n",
      "Epoch 66/600\n",
      "3/3 [==============================] - 0s 132ms/step - loss: 2.1537\n",
      "Epoch 67/600\n",
      "3/3 [==============================] - 0s 132ms/step - loss: 2.1183\n",
      "Epoch 68/600\n",
      "3/3 [==============================] - 0s 131ms/step - loss: 2.1002\n",
      "Epoch 69/600\n",
      "3/3 [==============================] - 0s 132ms/step - loss: 2.0778\n",
      "Epoch 70/600\n",
      "3/3 [==============================] - 0s 132ms/step - loss: 2.0559\n",
      "Epoch 71/600\n",
      "3/3 [==============================] - 0s 132ms/step - loss: 2.0789\n",
      "Epoch 72/600\n",
      "3/3 [==============================] - 0s 133ms/step - loss: 2.0263\n",
      "Epoch 73/600\n",
      "3/3 [==============================] - 0s 132ms/step - loss: 1.9825\n",
      "Epoch 74/600\n",
      "3/3 [==============================] - 0s 133ms/step - loss: 1.9334\n",
      "Epoch 75/600\n",
      "3/3 [==============================] - 0s 133ms/step - loss: 1.8836\n",
      "Epoch 76/600\n",
      "3/3 [==============================] - 0s 132ms/step - loss: 1.8422\n",
      "Epoch 77/600\n",
      "3/3 [==============================] - 0s 132ms/step - loss: 1.7831\n",
      "Epoch 78/600\n",
      "3/3 [==============================] - 0s 133ms/step - loss: 1.7514\n",
      "Epoch 79/600\n",
      "3/3 [==============================] - 0s 132ms/step - loss: 1.7056\n",
      "Epoch 80/600\n",
      "3/3 [==============================] - 0s 133ms/step - loss: 1.6484\n",
      "Epoch 81/600\n",
      "3/3 [==============================] - 0s 134ms/step - loss: 1.5870\n",
      "Epoch 82/600\n",
      "3/3 [==============================] - 0s 132ms/step - loss: 1.5328\n",
      "Epoch 83/600\n",
      "3/3 [==============================] - 0s 133ms/step - loss: 1.4878\n",
      "Epoch 84/600\n",
      "3/3 [==============================] - 0s 131ms/step - loss: 1.5108\n",
      "Epoch 85/600\n",
      "3/3 [==============================] - 0s 132ms/step - loss: 1.4486\n",
      "Epoch 86/600\n",
      "3/3 [==============================] - 0s 133ms/step - loss: 1.3387\n",
      "Epoch 87/600\n",
      "3/3 [==============================] - 0s 132ms/step - loss: 1.2755\n",
      "Epoch 88/600\n",
      "3/3 [==============================] - 0s 132ms/step - loss: 1.1967\n",
      "Epoch 89/600\n",
      "3/3 [==============================] - 0s 132ms/step - loss: 1.1304\n",
      "Epoch 90/600\n",
      "3/3 [==============================] - 0s 132ms/step - loss: 1.0654\n",
      "Epoch 91/600\n",
      "3/3 [==============================] - 0s 131ms/step - loss: 0.9903\n",
      "Epoch 92/600\n",
      "3/3 [==============================] - 0s 132ms/step - loss: 0.9561\n",
      "Epoch 93/600\n",
      "3/3 [==============================] - 0s 132ms/step - loss: 0.9022\n",
      "Epoch 94/600\n",
      "3/3 [==============================] - 0s 132ms/step - loss: 0.8448\n",
      "Epoch 95/600\n",
      "3/3 [==============================] - 0s 132ms/step - loss: 0.8158\n",
      "Epoch 96/600\n",
      "3/3 [==============================] - 0s 132ms/step - loss: 0.7614\n",
      "Epoch 97/600\n",
      "3/3 [==============================] - 0s 132ms/step - loss: 0.7158\n",
      "Epoch 98/600\n",
      "3/3 [==============================] - 0s 132ms/step - loss: 0.6849\n",
      "Epoch 99/600\n",
      "3/3 [==============================] - 0s 133ms/step - loss: 0.6478\n",
      "Epoch 100/600\n",
      "3/3 [==============================] - 0s 133ms/step - loss: 0.5952\n",
      "Epoch 101/600\n",
      "3/3 [==============================] - 0s 131ms/step - loss: 0.5595\n",
      "Epoch 102/600\n",
      "3/3 [==============================] - 0s 132ms/step - loss: 0.5474\n",
      "Epoch 103/600\n",
      "3/3 [==============================] - 0s 132ms/step - loss: 0.5144\n",
      "Epoch 104/600\n",
      "3/3 [==============================] - 0s 133ms/step - loss: 0.4940\n",
      "Epoch 105/600\n",
      "3/3 [==============================] - 0s 133ms/step - loss: 0.4643\n",
      "Epoch 106/600\n",
      "3/3 [==============================] - 0s 132ms/step - loss: 0.4479\n",
      "Epoch 107/600\n",
      "3/3 [==============================] - 0s 132ms/step - loss: 0.4459\n",
      "Epoch 108/600\n",
      "3/3 [==============================] - 0s 132ms/step - loss: 0.4157\n",
      "Epoch 109/600\n",
      "3/3 [==============================] - 0s 132ms/step - loss: 0.4094\n",
      "Epoch 110/600\n",
      "3/3 [==============================] - 0s 132ms/step - loss: 0.3991\n",
      "Epoch 111/600\n",
      "3/3 [==============================] - 0s 132ms/step - loss: 0.3849\n",
      "Epoch 112/600\n",
      "3/3 [==============================] - 0s 133ms/step - loss: 0.3795\n",
      "Epoch 113/600\n",
      "3/3 [==============================] - 0s 132ms/step - loss: 0.3693\n",
      "Epoch 114/600\n",
      "3/3 [==============================] - 0s 132ms/step - loss: 0.3540\n",
      "Epoch 115/600\n",
      "3/3 [==============================] - 0s 131ms/step - loss: 0.3628\n",
      "Epoch 116/600\n",
      "3/3 [==============================] - 0s 131ms/step - loss: 0.4102\n",
      "Epoch 117/600\n",
      "3/3 [==============================] - 0s 132ms/step - loss: 0.3797\n",
      "Epoch 118/600\n",
      "3/3 [==============================] - 0s 132ms/step - loss: 0.3608\n",
      "Epoch 119/600\n",
      "3/3 [==============================] - 0s 132ms/step - loss: 0.3476\n",
      "Epoch 120/600\n",
      "3/3 [==============================] - 0s 131ms/step - loss: 0.3479\n",
      "Epoch 121/600\n",
      "3/3 [==============================] - 0s 132ms/step - loss: 0.3184\n",
      "Epoch 122/600\n",
      "3/3 [==============================] - 0s 131ms/step - loss: 0.3132\n",
      "Epoch 123/600\n",
      "3/3 [==============================] - 0s 133ms/step - loss: 0.3002\n",
      "Epoch 124/600\n",
      "3/3 [==============================] - 0s 132ms/step - loss: 0.2966\n",
      "Epoch 125/600\n",
      "3/3 [==============================] - 0s 132ms/step - loss: 0.2769\n",
      "Epoch 126/600\n",
      "3/3 [==============================] - 0s 132ms/step - loss: 0.2762\n",
      "Epoch 127/600\n",
      "3/3 [==============================] - 0s 132ms/step - loss: 0.2758\n",
      "Epoch 128/600\n",
      "3/3 [==============================] - 0s 132ms/step - loss: 0.2738\n",
      "Epoch 129/600\n",
      "3/3 [==============================] - 0s 132ms/step - loss: 0.2507\n",
      "Epoch 130/600\n",
      "3/3 [==============================] - 0s 132ms/step - loss: 0.2518\n",
      "Epoch 131/600\n",
      "3/3 [==============================] - 0s 132ms/step - loss: 0.2585\n",
      "Epoch 132/600\n",
      "3/3 [==============================] - 0s 132ms/step - loss: 0.2538\n",
      "Epoch 133/600\n",
      "3/3 [==============================] - 0s 132ms/step - loss: 0.2584\n",
      "Epoch 134/600\n",
      "3/3 [==============================] - 0s 132ms/step - loss: 0.2493\n",
      "Epoch 135/600\n",
      "3/3 [==============================] - 0s 132ms/step - loss: 0.2417\n",
      "Epoch 136/600\n",
      "3/3 [==============================] - 0s 133ms/step - loss: 0.2462\n",
      "Epoch 137/600\n",
      "3/3 [==============================] - 0s 132ms/step - loss: 0.2454\n",
      "Epoch 138/600\n",
      "3/3 [==============================] - 0s 132ms/step - loss: 0.2404\n",
      "Epoch 139/600\n",
      "3/3 [==============================] - 0s 131ms/step - loss: 0.2316\n",
      "Epoch 140/600\n",
      "3/3 [==============================] - 0s 132ms/step - loss: 0.2320\n",
      "Epoch 141/600\n",
      "3/3 [==============================] - 0s 132ms/step - loss: 0.2285\n",
      "Epoch 142/600\n",
      "3/3 [==============================] - 0s 132ms/step - loss: 0.2183\n",
      "Epoch 143/600\n",
      "3/3 [==============================] - 0s 132ms/step - loss: 0.2216\n",
      "Epoch 144/600\n",
      "3/3 [==============================] - 0s 132ms/step - loss: 0.2177\n",
      "Epoch 145/600\n",
      "3/3 [==============================] - 0s 133ms/step - loss: 0.2128\n",
      "Epoch 146/600\n",
      "3/3 [==============================] - 0s 133ms/step - loss: 0.2169\n",
      "Epoch 147/600\n",
      "3/3 [==============================] - 5s 2s/step - loss: 0.2069\n",
      "Epoch 148/600\n",
      "3/3 [==============================] - 0s 133ms/step - loss: 0.2091\n",
      "Epoch 149/600\n",
      "3/3 [==============================] - 0s 133ms/step - loss: 0.2038\n",
      "Epoch 150/600\n",
      "3/3 [==============================] - 0s 132ms/step - loss: 0.1986\n",
      "Epoch 151/600\n",
      "3/3 [==============================] - 0s 133ms/step - loss: 0.2108\n",
      "Epoch 152/600\n",
      "3/3 [==============================] - 0s 131ms/step - loss: 0.1934\n",
      "Epoch 153/600\n",
      "3/3 [==============================] - 0s 132ms/step - loss: 0.1972\n",
      "Epoch 154/600\n",
      "3/3 [==============================] - 0s 132ms/step - loss: 0.1964\n",
      "Epoch 155/600\n",
      "3/3 [==============================] - 0s 132ms/step - loss: 0.1968\n",
      "Epoch 156/600\n",
      "3/3 [==============================] - 0s 132ms/step - loss: 0.1913\n",
      "Epoch 157/600\n",
      "3/3 [==============================] - 0s 133ms/step - loss: 0.1901\n",
      "Epoch 158/600\n",
      "3/3 [==============================] - 0s 132ms/step - loss: 0.1917\n",
      "Epoch 159/600\n",
      "3/3 [==============================] - 0s 132ms/step - loss: 0.1847\n",
      "Epoch 160/600\n",
      "3/3 [==============================] - 0s 131ms/step - loss: 0.1814\n",
      "Epoch 161/600\n",
      "3/3 [==============================] - 0s 132ms/step - loss: 0.1806\n",
      "Epoch 162/600\n",
      "3/3 [==============================] - 0s 132ms/step - loss: 0.1823\n",
      "Epoch 163/600\n",
      "3/3 [==============================] - 0s 131ms/step - loss: 0.1709\n",
      "Epoch 164/600\n",
      "3/3 [==============================] - 0s 131ms/step - loss: 0.1792\n",
      "Epoch 165/600\n",
      "3/3 [==============================] - 0s 132ms/step - loss: 0.1873\n",
      "Epoch 166/600\n",
      "3/3 [==============================] - 0s 132ms/step - loss: 0.1763\n",
      "Epoch 167/600\n",
      "3/3 [==============================] - 0s 133ms/step - loss: 0.1768\n",
      "Epoch 168/600\n",
      "3/3 [==============================] - 0s 132ms/step - loss: 0.1772\n",
      "Epoch 169/600\n",
      "3/3 [==============================] - 0s 133ms/step - loss: 0.1726\n",
      "Epoch 170/600\n",
      "3/3 [==============================] - 0s 133ms/step - loss: 0.1645\n",
      "Epoch 171/600\n",
      "3/3 [==============================] - 0s 132ms/step - loss: 0.1673\n",
      "Epoch 172/600\n",
      "3/3 [==============================] - 0s 133ms/step - loss: 0.1723\n",
      "Epoch 173/600\n",
      "3/3 [==============================] - 0s 131ms/step - loss: 0.1649\n",
      "Epoch 174/600\n",
      "3/3 [==============================] - 0s 132ms/step - loss: 0.1651\n",
      "Epoch 175/600\n",
      "3/3 [==============================] - 0s 132ms/step - loss: 0.1629\n",
      "Epoch 176/600\n",
      "3/3 [==============================] - 0s 132ms/step - loss: 0.1602\n",
      "Epoch 177/600\n",
      "3/3 [==============================] - 0s 132ms/step - loss: 0.1570\n",
      "Epoch 178/600\n",
      "3/3 [==============================] - 0s 132ms/step - loss: 0.1546\n",
      "Epoch 179/600\n",
      "3/3 [==============================] - 0s 132ms/step - loss: 0.1545\n",
      "Epoch 180/600\n",
      "3/3 [==============================] - 0s 132ms/step - loss: 0.1559\n",
      "Epoch 181/600\n",
      "3/3 [==============================] - 0s 134ms/step - loss: 0.1509\n",
      "Epoch 182/600\n",
      "3/3 [==============================] - 0s 133ms/step - loss: 0.1513\n",
      "Epoch 183/600\n",
      "3/3 [==============================] - 0s 132ms/step - loss: 0.1619\n",
      "Epoch 184/600\n",
      "3/3 [==============================] - 0s 132ms/step - loss: 0.1666\n",
      "Epoch 185/600\n",
      "3/3 [==============================] - 0s 132ms/step - loss: 0.1606\n",
      "Epoch 186/600\n",
      "3/3 [==============================] - 0s 133ms/step - loss: 0.1495\n",
      "Epoch 187/600\n",
      "3/3 [==============================] - 0s 133ms/step - loss: 0.1525\n",
      "Epoch 188/600\n",
      "3/3 [==============================] - 0s 132ms/step - loss: 0.1461\n",
      "Epoch 189/600\n",
      "3/3 [==============================] - 0s 133ms/step - loss: 0.1479\n",
      "Epoch 190/600\n",
      "3/3 [==============================] - 0s 132ms/step - loss: 0.1505\n",
      "Epoch 191/600\n",
      "3/3 [==============================] - 0s 133ms/step - loss: 0.1478\n",
      "Epoch 192/600\n",
      "3/3 [==============================] - 0s 132ms/step - loss: 0.1492\n",
      "Epoch 193/600\n",
      "3/3 [==============================] - 0s 132ms/step - loss: 0.1452\n",
      "Epoch 194/600\n",
      "3/3 [==============================] - 0s 132ms/step - loss: 0.1415\n",
      "Epoch 195/600\n",
      "3/3 [==============================] - 0s 134ms/step - loss: 0.1433\n",
      "Epoch 196/600\n",
      "3/3 [==============================] - 0s 132ms/step - loss: 0.1466\n",
      "Epoch 197/600\n",
      "3/3 [==============================] - 0s 133ms/step - loss: 0.1339\n",
      "Epoch 198/600\n",
      "3/3 [==============================] - 0s 132ms/step - loss: 0.1421\n",
      "Epoch 199/600\n",
      "3/3 [==============================] - 0s 133ms/step - loss: 0.1312\n",
      "Epoch 200/600\n",
      "3/3 [==============================] - 0s 133ms/step - loss: 0.1375\n",
      "Epoch 201/600\n",
      "3/3 [==============================] - 0s 132ms/step - loss: 0.1378\n",
      "Epoch 202/600\n",
      "3/3 [==============================] - 0s 133ms/step - loss: 0.1372\n",
      "Epoch 203/600\n",
      "3/3 [==============================] - 0s 132ms/step - loss: 0.1393\n",
      "Epoch 204/600\n",
      "3/3 [==============================] - 0s 132ms/step - loss: 0.1327\n",
      "Epoch 205/600\n",
      "3/3 [==============================] - 0s 133ms/step - loss: 0.1345\n",
      "Epoch 206/600\n",
      "3/3 [==============================] - 0s 133ms/step - loss: 0.1386\n",
      "Epoch 207/600\n",
      "3/3 [==============================] - 0s 133ms/step - loss: 0.1311\n",
      "Epoch 208/600\n",
      "3/3 [==============================] - 0s 132ms/step - loss: 0.1330\n",
      "Epoch 209/600\n",
      "3/3 [==============================] - 0s 132ms/step - loss: 0.1301\n",
      "Epoch 210/600\n",
      "3/3 [==============================] - 0s 132ms/step - loss: 0.1334\n",
      "Epoch 211/600\n",
      "3/3 [==============================] - 0s 133ms/step - loss: 0.1265\n",
      "Epoch 212/600\n",
      "3/3 [==============================] - 0s 132ms/step - loss: 0.1323\n",
      "Epoch 213/600\n",
      "3/3 [==============================] - 0s 133ms/step - loss: 0.1272\n",
      "Epoch 214/600\n",
      "3/3 [==============================] - 0s 133ms/step - loss: 0.1217\n",
      "Epoch 215/600\n",
      "3/3 [==============================] - 0s 133ms/step - loss: 0.1286\n",
      "Epoch 216/600\n",
      "3/3 [==============================] - 0s 133ms/step - loss: 0.1274\n",
      "Epoch 217/600\n",
      "3/3 [==============================] - 0s 133ms/step - loss: 0.1223\n",
      "Epoch 218/600\n",
      "3/3 [==============================] - 0s 133ms/step - loss: 0.1269\n",
      "Epoch 219/600\n",
      "3/3 [==============================] - 0s 132ms/step - loss: 0.1295\n",
      "Epoch 220/600\n",
      "3/3 [==============================] - 0s 132ms/step - loss: 0.1275\n",
      "Epoch 221/600\n",
      "3/3 [==============================] - 0s 133ms/step - loss: 0.1237\n",
      "Epoch 222/600\n",
      "3/3 [==============================] - 0s 132ms/step - loss: 0.1157\n",
      "Epoch 223/600\n",
      "3/3 [==============================] - 0s 133ms/step - loss: 0.1130\n",
      "Epoch 224/600\n",
      "3/3 [==============================] - 0s 132ms/step - loss: 0.1161\n",
      "Epoch 225/600\n",
      "3/3 [==============================] - 0s 133ms/step - loss: 0.1186\n",
      "Epoch 226/600\n",
      "3/3 [==============================] - 0s 132ms/step - loss: 0.1204\n",
      "Epoch 227/600\n",
      "3/3 [==============================] - 0s 133ms/step - loss: 0.1139\n",
      "Epoch 228/600\n",
      "3/3 [==============================] - 0s 133ms/step - loss: 0.1181\n",
      "Epoch 229/600\n",
      "3/3 [==============================] - 0s 132ms/step - loss: 0.1174\n",
      "Epoch 230/600\n",
      "3/3 [==============================] - 0s 133ms/step - loss: 0.1154\n",
      "Epoch 231/600\n",
      "3/3 [==============================] - 0s 133ms/step - loss: 0.1165\n",
      "Epoch 232/600\n",
      "3/3 [==============================] - 0s 132ms/step - loss: 0.1110\n",
      "Epoch 233/600\n",
      "3/3 [==============================] - 0s 133ms/step - loss: 0.1114\n",
      "Epoch 234/600\n",
      "3/3 [==============================] - 0s 133ms/step - loss: 0.1182\n",
      "Epoch 235/600\n",
      "3/3 [==============================] - 0s 133ms/step - loss: 0.3357\n",
      "Epoch 236/600\n",
      "3/3 [==============================] - 0s 132ms/step - loss: 2.5961\n",
      "Epoch 237/600\n",
      "3/3 [==============================] - 0s 133ms/step - loss: 2.1988\n",
      "Epoch 238/600\n",
      "3/3 [==============================] - 0s 132ms/step - loss: 1.4478\n",
      "Epoch 239/600\n",
      "3/3 [==============================] - 0s 132ms/step - loss: 1.0276\n",
      "Epoch 240/600\n",
      "3/3 [==============================] - 0s 132ms/step - loss: 0.7489\n",
      "Epoch 241/600\n",
      "3/3 [==============================] - 0s 133ms/step - loss: 0.5527\n",
      "Epoch 242/600\n",
      "3/3 [==============================] - 0s 132ms/step - loss: 0.4228\n",
      "Epoch 243/600\n",
      "3/3 [==============================] - 0s 132ms/step - loss: 0.3432\n",
      "Epoch 244/600\n",
      "3/3 [==============================] - 0s 132ms/step - loss: 0.2867\n",
      "Epoch 245/600\n",
      "3/3 [==============================] - 0s 133ms/step - loss: 0.2531\n",
      "Epoch 246/600\n",
      "3/3 [==============================] - 0s 132ms/step - loss: 0.2272\n",
      "Epoch 247/600\n",
      "3/3 [==============================] - 0s 132ms/step - loss: 0.2128\n",
      "Epoch 248/600\n",
      "3/3 [==============================] - 0s 131ms/step - loss: 0.1925\n",
      "Epoch 249/600\n",
      "3/3 [==============================] - 0s 133ms/step - loss: 0.1848\n",
      "Epoch 250/600\n",
      "3/3 [==============================] - 0s 133ms/step - loss: 0.1725\n",
      "Epoch 251/600\n",
      "3/3 [==============================] - 0s 133ms/step - loss: 0.1676\n",
      "Epoch 252/600\n",
      "3/3 [==============================] - 0s 132ms/step - loss: 0.1633\n",
      "Epoch 253/600\n",
      "3/3 [==============================] - 0s 132ms/step - loss: 0.1559\n",
      "Epoch 254/600\n",
      "3/3 [==============================] - 0s 133ms/step - loss: 0.1526\n",
      "Epoch 255/600\n",
      "3/3 [==============================] - 0s 132ms/step - loss: 0.1481\n",
      "Epoch 256/600\n",
      "3/3 [==============================] - 0s 133ms/step - loss: 0.1417\n",
      "Epoch 257/600\n",
      "3/3 [==============================] - 0s 133ms/step - loss: 0.1426\n",
      "Epoch 258/600\n",
      "3/3 [==============================] - 0s 133ms/step - loss: 0.1390\n",
      "Epoch 259/600\n",
      "3/3 [==============================] - 0s 134ms/step - loss: 0.1386\n",
      "Epoch 260/600\n",
      "3/3 [==============================] - 0s 132ms/step - loss: 0.1344\n",
      "Epoch 261/600\n",
      "3/3 [==============================] - 0s 133ms/step - loss: 0.1329\n",
      "Epoch 262/600\n",
      "3/3 [==============================] - 0s 133ms/step - loss: 0.1365\n",
      "Epoch 263/600\n",
      "3/3 [==============================] - 0s 133ms/step - loss: 0.1326\n",
      "Epoch 264/600\n",
      "3/3 [==============================] - 0s 133ms/step - loss: 0.1296\n",
      "Epoch 265/600\n",
      "3/3 [==============================] - 0s 131ms/step - loss: 0.1231\n",
      "Epoch 266/600\n",
      "3/3 [==============================] - 0s 134ms/step - loss: 0.1233\n",
      "Epoch 267/600\n",
      "3/3 [==============================] - 0s 133ms/step - loss: 0.1237\n",
      "Epoch 268/600\n",
      "3/3 [==============================] - 0s 132ms/step - loss: 0.1163\n",
      "Epoch 269/600\n",
      "3/3 [==============================] - 0s 131ms/step - loss: 0.1213\n",
      "Epoch 270/600\n",
      "3/3 [==============================] - 0s 133ms/step - loss: 0.1122\n",
      "Epoch 271/600\n",
      "3/3 [==============================] - 0s 132ms/step - loss: 0.1174\n",
      "Epoch 272/600\n",
      "3/3 [==============================] - 0s 132ms/step - loss: 0.1160\n",
      "Epoch 273/600\n",
      "3/3 [==============================] - 0s 133ms/step - loss: 0.1156\n",
      "Epoch 274/600\n",
      "3/3 [==============================] - 0s 134ms/step - loss: 0.1137\n",
      "Epoch 275/600\n",
      "3/3 [==============================] - 0s 133ms/step - loss: 0.1167\n",
      "Epoch 276/600\n",
      "3/3 [==============================] - 0s 133ms/step - loss: 0.1126\n",
      "Epoch 277/600\n",
      "3/3 [==============================] - 0s 133ms/step - loss: 0.1128\n",
      "Epoch 278/600\n",
      "3/3 [==============================] - 0s 134ms/step - loss: 0.1101\n",
      "Epoch 279/600\n",
      "3/3 [==============================] - 0s 134ms/step - loss: 0.1109\n",
      "Epoch 280/600\n",
      "3/3 [==============================] - 0s 133ms/step - loss: 0.1140\n",
      "Epoch 281/600\n",
      "3/3 [==============================] - 0s 133ms/step - loss: 0.1091\n",
      "Epoch 282/600\n",
      "3/3 [==============================] - 0s 133ms/step - loss: 0.1115\n",
      "Epoch 283/600\n",
      "3/3 [==============================] - 0s 133ms/step - loss: 0.1048\n",
      "Epoch 284/600\n",
      "3/3 [==============================] - 0s 135ms/step - loss: 0.1047\n",
      "Epoch 285/600\n",
      "3/3 [==============================] - 0s 133ms/step - loss: 0.1073\n",
      "Epoch 286/600\n",
      "3/3 [==============================] - 0s 134ms/step - loss: 0.1067\n",
      "Epoch 287/600\n",
      "3/3 [==============================] - 0s 132ms/step - loss: 0.1031\n",
      "Epoch 288/600\n",
      "3/3 [==============================] - 0s 132ms/step - loss: 0.1073\n",
      "Epoch 289/600\n",
      "3/3 [==============================] - 0s 133ms/step - loss: 0.1011\n",
      "Epoch 290/600\n",
      "3/3 [==============================] - 0s 132ms/step - loss: 0.1031\n",
      "Epoch 291/600\n",
      "3/3 [==============================] - 0s 133ms/step - loss: 0.1019\n",
      "Epoch 292/600\n",
      "3/3 [==============================] - 0s 132ms/step - loss: 0.1030\n",
      "Epoch 293/600\n",
      "3/3 [==============================] - 0s 134ms/step - loss: 0.1012\n",
      "Epoch 294/600\n",
      "3/3 [==============================] - 4s 2s/step - loss: 0.1010\n",
      "Epoch 295/600\n",
      "3/3 [==============================] - 0s 133ms/step - loss: 0.1026\n",
      "Epoch 296/600\n",
      "3/3 [==============================] - 0s 133ms/step - loss: 0.1009\n",
      "Epoch 297/600\n",
      "3/3 [==============================] - 0s 133ms/step - loss: 0.0976\n",
      "Epoch 298/600\n",
      "3/3 [==============================] - 0s 133ms/step - loss: 0.1017\n",
      "Epoch 299/600\n",
      "3/3 [==============================] - 0s 132ms/step - loss: 0.1023\n",
      "Epoch 300/600\n",
      "3/3 [==============================] - 0s 132ms/step - loss: 0.0963\n",
      "Epoch 301/600\n",
      "3/3 [==============================] - 0s 132ms/step - loss: 0.0992\n",
      "Epoch 302/600\n",
      "3/3 [==============================] - 0s 133ms/step - loss: 0.1019\n",
      "Epoch 303/600\n",
      "3/3 [==============================] - 0s 134ms/step - loss: 0.0981\n",
      "Epoch 304/600\n",
      "3/3 [==============================] - 0s 133ms/step - loss: 0.0961\n",
      "Epoch 305/600\n",
      "3/3 [==============================] - 0s 133ms/step - loss: 0.0942\n",
      "Epoch 306/600\n",
      "3/3 [==============================] - 0s 133ms/step - loss: 0.0991\n",
      "Epoch 307/600\n",
      "3/3 [==============================] - 0s 133ms/step - loss: 0.0942\n",
      "Epoch 308/600\n",
      "3/3 [==============================] - 0s 133ms/step - loss: 0.0952\n",
      "Epoch 309/600\n",
      "3/3 [==============================] - 0s 133ms/step - loss: 0.0971\n",
      "Epoch 310/600\n",
      "3/3 [==============================] - 0s 133ms/step - loss: 0.0914\n",
      "Epoch 311/600\n",
      "3/3 [==============================] - 0s 134ms/step - loss: 0.0905\n",
      "Epoch 312/600\n",
      "3/3 [==============================] - 0s 133ms/step - loss: 0.0922\n",
      "Epoch 313/600\n",
      "3/3 [==============================] - 0s 132ms/step - loss: 0.0916\n",
      "Epoch 314/600\n",
      "3/3 [==============================] - 0s 134ms/step - loss: 0.0970\n",
      "Epoch 315/600\n",
      "3/3 [==============================] - 0s 133ms/step - loss: 0.0896\n",
      "Epoch 316/600\n",
      "3/3 [==============================] - 0s 133ms/step - loss: 0.0910\n",
      "Epoch 317/600\n",
      "3/3 [==============================] - 0s 134ms/step - loss: 0.0910\n",
      "Epoch 318/600\n",
      "3/3 [==============================] - 0s 133ms/step - loss: 0.0896\n",
      "Epoch 319/600\n",
      "3/3 [==============================] - 0s 133ms/step - loss: 0.0915\n",
      "Epoch 320/600\n",
      "3/3 [==============================] - 0s 133ms/step - loss: 0.0929\n",
      "Epoch 321/600\n",
      "3/3 [==============================] - 0s 132ms/step - loss: 0.0901\n",
      "Epoch 322/600\n",
      "3/3 [==============================] - 0s 133ms/step - loss: 0.0883\n",
      "Epoch 323/600\n",
      "3/3 [==============================] - 0s 133ms/step - loss: 0.0939\n",
      "Epoch 324/600\n",
      "3/3 [==============================] - 0s 134ms/step - loss: 0.0894\n",
      "Epoch 325/600\n",
      "3/3 [==============================] - 0s 132ms/step - loss: 0.0885\n",
      "Epoch 326/600\n",
      "3/3 [==============================] - 0s 133ms/step - loss: 0.0859\n",
      "Epoch 327/600\n",
      "3/3 [==============================] - 0s 134ms/step - loss: 0.0925\n",
      "Epoch 328/600\n",
      "3/3 [==============================] - 0s 134ms/step - loss: 0.0894\n",
      "Epoch 329/600\n",
      "3/3 [==============================] - 0s 133ms/step - loss: 0.0898\n",
      "Epoch 330/600\n",
      "3/3 [==============================] - 0s 133ms/step - loss: 0.0852\n",
      "Epoch 331/600\n",
      "3/3 [==============================] - 0s 133ms/step - loss: 0.0849\n",
      "Epoch 332/600\n",
      "3/3 [==============================] - 0s 133ms/step - loss: 0.0897\n",
      "Epoch 333/600\n",
      "3/3 [==============================] - 0s 133ms/step - loss: 0.0841\n",
      "Epoch 334/600\n",
      "3/3 [==============================] - 0s 134ms/step - loss: 0.0833\n",
      "Epoch 335/600\n",
      "3/3 [==============================] - 0s 135ms/step - loss: 0.0824\n",
      "Epoch 336/600\n",
      "3/3 [==============================] - 0s 133ms/step - loss: 0.0828\n",
      "Epoch 337/600\n",
      "3/3 [==============================] - 0s 133ms/step - loss: 0.0837\n",
      "Epoch 338/600\n",
      "3/3 [==============================] - 0s 134ms/step - loss: 0.0845\n",
      "Epoch 339/600\n",
      "3/3 [==============================] - 0s 133ms/step - loss: 0.0836\n",
      "Epoch 340/600\n",
      "3/3 [==============================] - 0s 134ms/step - loss: 0.0815\n",
      "Epoch 341/600\n",
      "3/3 [==============================] - 0s 132ms/step - loss: 0.0821\n",
      "Epoch 342/600\n",
      "3/3 [==============================] - 0s 132ms/step - loss: 0.0857\n",
      "Epoch 343/600\n",
      "3/3 [==============================] - 0s 132ms/step - loss: 0.0818\n",
      "Epoch 344/600\n",
      "3/3 [==============================] - 0s 133ms/step - loss: 0.0830\n",
      "Epoch 345/600\n",
      "3/3 [==============================] - 0s 133ms/step - loss: 0.0802\n",
      "Epoch 346/600\n",
      "3/3 [==============================] - 0s 133ms/step - loss: 0.0811\n",
      "Epoch 347/600\n",
      "3/3 [==============================] - 0s 134ms/step - loss: 0.0812\n",
      "Epoch 348/600\n",
      "3/3 [==============================] - 0s 133ms/step - loss: 0.0791\n",
      "Epoch 349/600\n",
      "3/3 [==============================] - 0s 133ms/step - loss: 0.0812\n",
      "Epoch 350/600\n",
      "3/3 [==============================] - 0s 134ms/step - loss: 0.0837\n",
      "Epoch 351/600\n",
      "3/3 [==============================] - 0s 134ms/step - loss: 0.0802\n",
      "Epoch 352/600\n",
      "3/3 [==============================] - 0s 133ms/step - loss: 0.0794\n",
      "Epoch 353/600\n",
      "3/3 [==============================] - 0s 134ms/step - loss: 0.0804\n",
      "Epoch 354/600\n",
      "3/3 [==============================] - 0s 134ms/step - loss: 0.0805\n",
      "Epoch 355/600\n",
      "3/3 [==============================] - 0s 133ms/step - loss: 0.0816\n",
      "Epoch 356/600\n",
      "3/3 [==============================] - 0s 133ms/step - loss: 0.0762\n",
      "Epoch 357/600\n",
      "3/3 [==============================] - 0s 134ms/step - loss: 0.0793\n",
      "Epoch 358/600\n",
      "3/3 [==============================] - 0s 134ms/step - loss: 0.0814\n",
      "Epoch 359/600\n",
      "3/3 [==============================] - 0s 133ms/step - loss: 0.0795\n",
      "Epoch 360/600\n",
      "3/3 [==============================] - 0s 133ms/step - loss: 0.0780\n",
      "Epoch 361/600\n",
      "3/3 [==============================] - 0s 134ms/step - loss: 0.0792\n",
      "Epoch 362/600\n",
      "3/3 [==============================] - 0s 133ms/step - loss: 0.0740\n",
      "Epoch 363/600\n",
      "3/3 [==============================] - 0s 133ms/step - loss: 0.0773\n",
      "Epoch 364/600\n",
      "3/3 [==============================] - 0s 133ms/step - loss: 0.0808\n",
      "Epoch 365/600\n",
      "3/3 [==============================] - 0s 133ms/step - loss: 0.0816\n",
      "Epoch 366/600\n",
      "3/3 [==============================] - 0s 133ms/step - loss: 0.0722\n",
      "Epoch 367/600\n",
      "3/3 [==============================] - 0s 133ms/step - loss: 0.0787\n",
      "Epoch 368/600\n",
      "3/3 [==============================] - 0s 133ms/step - loss: 0.0771\n",
      "Epoch 369/600\n",
      "3/3 [==============================] - 0s 132ms/step - loss: 0.0756\n",
      "Epoch 370/600\n",
      "3/3 [==============================] - 0s 133ms/step - loss: 0.0748\n",
      "Epoch 371/600\n",
      "3/3 [==============================] - 0s 133ms/step - loss: 0.0722\n",
      "Epoch 372/600\n",
      "3/3 [==============================] - 0s 134ms/step - loss: 0.0757\n",
      "Epoch 373/600\n",
      "3/3 [==============================] - 0s 133ms/step - loss: 0.0736\n",
      "Epoch 374/600\n",
      "3/3 [==============================] - 0s 134ms/step - loss: 0.0709\n",
      "Epoch 375/600\n",
      "3/3 [==============================] - 0s 134ms/step - loss: 0.0703\n",
      "Epoch 376/600\n",
      "3/3 [==============================] - 0s 132ms/step - loss: 0.0786\n",
      "Epoch 377/600\n",
      "3/3 [==============================] - 0s 134ms/step - loss: 0.0737\n",
      "Epoch 378/600\n",
      "3/3 [==============================] - 0s 132ms/step - loss: 0.0770\n",
      "Epoch 379/600\n",
      "3/3 [==============================] - 0s 134ms/step - loss: 0.0732\n",
      "Epoch 380/600\n",
      "3/3 [==============================] - 0s 134ms/step - loss: 0.0754\n",
      "Epoch 381/600\n",
      "3/3 [==============================] - 0s 134ms/step - loss: 0.0734\n",
      "Epoch 382/600\n",
      "3/3 [==============================] - 0s 134ms/step - loss: 0.0722\n",
      "Epoch 383/600\n",
      "3/3 [==============================] - 0s 134ms/step - loss: 0.0729\n",
      "Epoch 384/600\n",
      "3/3 [==============================] - 0s 133ms/step - loss: 0.0735\n",
      "Epoch 385/600\n",
      "3/3 [==============================] - 0s 133ms/step - loss: 0.0723\n",
      "Epoch 386/600\n",
      "3/3 [==============================] - 0s 133ms/step - loss: 0.0713\n",
      "Epoch 387/600\n",
      "3/3 [==============================] - 0s 133ms/step - loss: 0.0709\n",
      "Epoch 388/600\n",
      "3/3 [==============================] - 0s 133ms/step - loss: 0.0695\n",
      "Epoch 389/600\n",
      "3/3 [==============================] - 0s 133ms/step - loss: 0.0746\n",
      "Epoch 390/600\n",
      "3/3 [==============================] - 0s 132ms/step - loss: 0.0724\n",
      "Epoch 391/600\n",
      "3/3 [==============================] - 0s 133ms/step - loss: 0.0696\n",
      "Epoch 392/600\n",
      "3/3 [==============================] - 0s 133ms/step - loss: 0.0695\n",
      "Epoch 393/600\n",
      "3/3 [==============================] - 0s 134ms/step - loss: 0.0731\n",
      "Epoch 394/600\n",
      "3/3 [==============================] - 0s 134ms/step - loss: 0.0689\n",
      "Epoch 395/600\n",
      "3/3 [==============================] - 0s 133ms/step - loss: 0.0686\n",
      "Epoch 396/600\n",
      "3/3 [==============================] - 0s 133ms/step - loss: 0.0698\n",
      "Epoch 397/600\n",
      "3/3 [==============================] - 0s 132ms/step - loss: 0.0710\n",
      "Epoch 398/600\n",
      "3/3 [==============================] - 0s 134ms/step - loss: 0.0719\n",
      "Epoch 399/600\n",
      "3/3 [==============================] - 0s 132ms/step - loss: 0.0666\n",
      "Epoch 400/600\n",
      "3/3 [==============================] - 0s 134ms/step - loss: 0.0681\n",
      "Epoch 401/600\n",
      "3/3 [==============================] - 0s 134ms/step - loss: 0.0739\n",
      "Epoch 402/600\n",
      "3/3 [==============================] - 0s 133ms/step - loss: 0.0720\n",
      "Epoch 403/600\n",
      "3/3 [==============================] - 0s 135ms/step - loss: 0.0702\n",
      "Epoch 404/600\n",
      "3/3 [==============================] - 0s 133ms/step - loss: 0.0701\n",
      "Epoch 405/600\n",
      "3/3 [==============================] - 0s 133ms/step - loss: 0.0655\n",
      "Epoch 406/600\n",
      "3/3 [==============================] - 0s 133ms/step - loss: 0.0717\n",
      "Epoch 407/600\n",
      "3/3 [==============================] - 0s 133ms/step - loss: 0.0670\n",
      "Epoch 408/600\n",
      "3/3 [==============================] - 0s 133ms/step - loss: 0.0721\n",
      "Epoch 409/600\n",
      "3/3 [==============================] - 0s 133ms/step - loss: 0.0668\n",
      "Epoch 410/600\n",
      "3/3 [==============================] - 0s 134ms/step - loss: 0.0665\n",
      "Epoch 411/600\n",
      "3/3 [==============================] - 0s 132ms/step - loss: 0.0696\n",
      "Epoch 412/600\n",
      "3/3 [==============================] - 0s 133ms/step - loss: 0.0677\n",
      "Epoch 413/600\n",
      "3/3 [==============================] - 0s 133ms/step - loss: 0.0646\n",
      "Epoch 414/600\n",
      "3/3 [==============================] - 0s 134ms/step - loss: 0.0683\n",
      "Epoch 415/600\n",
      "3/3 [==============================] - 0s 133ms/step - loss: 0.0683\n",
      "Epoch 416/600\n",
      "3/3 [==============================] - 0s 133ms/step - loss: 0.0695\n",
      "Epoch 417/600\n",
      "3/3 [==============================] - 0s 133ms/step - loss: 0.0662\n",
      "Epoch 418/600\n",
      "3/3 [==============================] - 0s 132ms/step - loss: 0.0631\n",
      "Epoch 419/600\n",
      "3/3 [==============================] - 0s 133ms/step - loss: 0.0673\n",
      "Epoch 420/600\n",
      "3/3 [==============================] - 0s 133ms/step - loss: 0.0689\n",
      "Epoch 421/600\n",
      "3/3 [==============================] - 0s 134ms/step - loss: 0.0651\n",
      "Epoch 422/600\n",
      "3/3 [==============================] - 0s 133ms/step - loss: 0.0641\n",
      "Epoch 423/600\n",
      "3/3 [==============================] - 0s 133ms/step - loss: 0.0667\n",
      "Epoch 424/600\n",
      "3/3 [==============================] - 0s 134ms/step - loss: 0.0662\n",
      "Epoch 425/600\n",
      "3/3 [==============================] - 0s 133ms/step - loss: 0.0661\n",
      "Epoch 426/600\n",
      "3/3 [==============================] - 0s 133ms/step - loss: 0.0677\n",
      "Epoch 427/600\n",
      "3/3 [==============================] - 0s 133ms/step - loss: 0.0662\n",
      "Epoch 428/600\n",
      "3/3 [==============================] - 0s 134ms/step - loss: 0.0673\n",
      "Epoch 429/600\n",
      "3/3 [==============================] - 0s 134ms/step - loss: 0.0639\n",
      "Epoch 430/600\n",
      "3/3 [==============================] - 0s 133ms/step - loss: 0.0639\n",
      "Epoch 431/600\n",
      "3/3 [==============================] - 0s 133ms/step - loss: 0.0657\n",
      "Epoch 432/600\n",
      "3/3 [==============================] - 0s 133ms/step - loss: 0.0651\n",
      "Epoch 433/600\n",
      "3/3 [==============================] - 0s 132ms/step - loss: 0.0654\n",
      "Epoch 434/600\n",
      "3/3 [==============================] - 0s 132ms/step - loss: 0.0634\n",
      "Epoch 435/600\n",
      "3/3 [==============================] - 0s 133ms/step - loss: 0.0618\n",
      "Epoch 436/600\n",
      "3/3 [==============================] - 0s 134ms/step - loss: 0.0656\n",
      "Epoch 437/600\n",
      "3/3 [==============================] - 0s 133ms/step - loss: 0.0650\n",
      "Epoch 438/600\n",
      "3/3 [==============================] - 0s 133ms/step - loss: 0.0641\n",
      "Epoch 439/600\n",
      "3/3 [==============================] - 0s 133ms/step - loss: 0.0623\n",
      "Epoch 440/600\n",
      "3/3 [==============================] - 4s 2s/step - loss: 0.0651\n",
      "Epoch 441/600\n",
      "3/3 [==============================] - 0s 136ms/step - loss: 0.0621\n",
      "Epoch 442/600\n",
      "3/3 [==============================] - 0s 132ms/step - loss: 0.0634\n",
      "Epoch 443/600\n",
      "3/3 [==============================] - 0s 133ms/step - loss: 0.0611\n",
      "Epoch 444/600\n",
      "3/3 [==============================] - 0s 133ms/step - loss: 0.0645\n",
      "Epoch 445/600\n",
      "3/3 [==============================] - 0s 132ms/step - loss: 0.0613\n",
      "Epoch 446/600\n",
      "3/3 [==============================] - 0s 132ms/step - loss: 0.0653\n",
      "Epoch 447/600\n",
      "3/3 [==============================] - 0s 132ms/step - loss: 0.0636\n",
      "Epoch 448/600\n",
      "3/3 [==============================] - 0s 132ms/step - loss: 0.0620\n",
      "Epoch 449/600\n",
      "3/3 [==============================] - 0s 133ms/step - loss: 0.0633\n",
      "Epoch 450/600\n",
      "3/3 [==============================] - 0s 132ms/step - loss: 0.0612\n",
      "Epoch 451/600\n",
      "3/3 [==============================] - 0s 134ms/step - loss: 0.0632\n",
      "Epoch 452/600\n",
      "3/3 [==============================] - 0s 133ms/step - loss: 0.0609\n",
      "Epoch 453/600\n",
      "3/3 [==============================] - 0s 131ms/step - loss: 0.0621\n",
      "Epoch 454/600\n",
      "3/3 [==============================] - 0s 132ms/step - loss: 0.0612\n",
      "Epoch 455/600\n",
      "3/3 [==============================] - 0s 132ms/step - loss: 0.0630\n",
      "Epoch 456/600\n",
      "3/3 [==============================] - 0s 133ms/step - loss: 0.0638\n",
      "Epoch 457/600\n",
      "3/3 [==============================] - 0s 133ms/step - loss: 0.0617\n",
      "Epoch 458/600\n",
      "3/3 [==============================] - 0s 132ms/step - loss: 0.0587\n",
      "Epoch 459/600\n",
      "3/3 [==============================] - 0s 133ms/step - loss: 0.0655\n",
      "Epoch 460/600\n",
      "3/3 [==============================] - 0s 132ms/step - loss: 0.0598\n",
      "Epoch 461/600\n",
      "3/3 [==============================] - 0s 133ms/step - loss: 0.0598\n",
      "Epoch 462/600\n",
      "3/3 [==============================] - 0s 133ms/step - loss: 0.0607\n",
      "Epoch 463/600\n",
      "3/3 [==============================] - 0s 133ms/step - loss: 0.0579\n",
      "Epoch 464/600\n",
      "3/3 [==============================] - 0s 133ms/step - loss: 0.0593\n",
      "Epoch 465/600\n",
      "3/3 [==============================] - 0s 133ms/step - loss: 0.0614\n",
      "Epoch 466/600\n",
      "3/3 [==============================] - 0s 132ms/step - loss: 0.0596\n",
      "Epoch 467/600\n",
      "3/3 [==============================] - 0s 133ms/step - loss: 0.0603\n",
      "Epoch 468/600\n",
      "3/3 [==============================] - 0s 133ms/step - loss: 0.0611\n",
      "Epoch 469/600\n",
      "3/3 [==============================] - 0s 132ms/step - loss: 0.0603\n",
      "Epoch 470/600\n",
      "3/3 [==============================] - 0s 133ms/step - loss: 0.0570\n",
      "Epoch 471/600\n",
      "3/3 [==============================] - 0s 132ms/step - loss: 0.0594\n",
      "Epoch 472/600\n",
      "3/3 [==============================] - 0s 133ms/step - loss: 0.0613\n",
      "Epoch 473/600\n",
      "3/3 [==============================] - 0s 132ms/step - loss: 0.0578\n",
      "Epoch 474/600\n",
      "3/3 [==============================] - 0s 132ms/step - loss: 0.0588\n",
      "Epoch 475/600\n",
      "3/3 [==============================] - 0s 133ms/step - loss: 0.0607\n",
      "Epoch 476/600\n",
      "3/3 [==============================] - 0s 132ms/step - loss: 0.0593\n",
      "Epoch 477/600\n",
      "3/3 [==============================] - 0s 133ms/step - loss: 0.0595\n",
      "Epoch 478/600\n",
      "3/3 [==============================] - 0s 133ms/step - loss: 0.0617\n",
      "Epoch 479/600\n",
      "3/3 [==============================] - 0s 133ms/step - loss: 0.0589\n",
      "Epoch 480/600\n",
      "3/3 [==============================] - 0s 133ms/step - loss: 0.0591\n",
      "Epoch 481/600\n",
      "3/3 [==============================] - 0s 133ms/step - loss: 0.0608\n",
      "Epoch 482/600\n",
      "3/3 [==============================] - 0s 134ms/step - loss: 0.0574\n",
      "Epoch 483/600\n",
      "3/3 [==============================] - 0s 133ms/step - loss: 0.0584\n",
      "Epoch 484/600\n",
      "3/3 [==============================] - 0s 133ms/step - loss: 0.0566\n",
      "Epoch 485/600\n",
      "3/3 [==============================] - 0s 133ms/step - loss: 0.0587\n",
      "Epoch 486/600\n",
      "3/3 [==============================] - 0s 132ms/step - loss: 0.0603\n",
      "Epoch 487/600\n",
      "3/3 [==============================] - 0s 133ms/step - loss: 0.0593\n",
      "Epoch 488/600\n",
      "3/3 [==============================] - 0s 132ms/step - loss: 0.0577\n",
      "Epoch 489/600\n",
      "3/3 [==============================] - 0s 133ms/step - loss: 0.0562\n",
      "Epoch 490/600\n",
      "3/3 [==============================] - 0s 132ms/step - loss: 0.0614\n",
      "Epoch 491/600\n",
      "3/3 [==============================] - 0s 133ms/step - loss: 0.0574\n",
      "Epoch 492/600\n",
      "3/3 [==============================] - 0s 133ms/step - loss: 0.0552\n",
      "Epoch 493/600\n",
      "3/3 [==============================] - 0s 132ms/step - loss: 0.0577\n",
      "Epoch 494/600\n",
      "3/3 [==============================] - 0s 133ms/step - loss: 0.0589\n",
      "Epoch 495/600\n",
      "3/3 [==============================] - 0s 132ms/step - loss: 0.0573\n",
      "Epoch 496/600\n",
      "3/3 [==============================] - 0s 134ms/step - loss: 0.0610\n",
      "Epoch 497/600\n",
      "3/3 [==============================] - 0s 132ms/step - loss: 0.0571\n",
      "Epoch 498/600\n",
      "3/3 [==============================] - 0s 133ms/step - loss: 0.0575\n",
      "Epoch 499/600\n",
      "3/3 [==============================] - 0s 133ms/step - loss: 0.0584\n",
      "Epoch 500/600\n",
      "3/3 [==============================] - 0s 133ms/step - loss: 0.0555\n",
      "Epoch 501/600\n",
      "3/3 [==============================] - 0s 132ms/step - loss: 0.0569\n",
      "Epoch 502/600\n",
      "3/3 [==============================] - 0s 132ms/step - loss: 0.0548\n",
      "Epoch 503/600\n",
      "3/3 [==============================] - 0s 133ms/step - loss: 0.0557\n",
      "Epoch 504/600\n",
      "3/3 [==============================] - 0s 132ms/step - loss: 0.0571\n",
      "Epoch 505/600\n",
      "3/3 [==============================] - 0s 134ms/step - loss: 0.0555\n",
      "Epoch 506/600\n",
      "3/3 [==============================] - 0s 133ms/step - loss: 0.0579\n",
      "Epoch 507/600\n",
      "3/3 [==============================] - 0s 133ms/step - loss: 0.0571\n",
      "Epoch 508/600\n",
      "3/3 [==============================] - 0s 133ms/step - loss: 0.0571\n",
      "Epoch 509/600\n",
      "3/3 [==============================] - 0s 132ms/step - loss: 0.0597\n",
      "Epoch 510/600\n",
      "3/3 [==============================] - 0s 133ms/step - loss: 0.0529\n",
      "Epoch 511/600\n",
      "3/3 [==============================] - 0s 132ms/step - loss: 0.0557\n",
      "Epoch 512/600\n",
      "3/3 [==============================] - 0s 132ms/step - loss: 0.0551\n",
      "Epoch 513/600\n",
      "3/3 [==============================] - 0s 132ms/step - loss: 0.0524\n",
      "Epoch 514/600\n",
      "3/3 [==============================] - 0s 133ms/step - loss: 0.0578\n",
      "Epoch 515/600\n",
      "3/3 [==============================] - 0s 133ms/step - loss: 0.0534\n",
      "Epoch 516/600\n",
      "3/3 [==============================] - 0s 133ms/step - loss: 0.0559\n",
      "Epoch 517/600\n",
      "3/3 [==============================] - 0s 133ms/step - loss: 0.0541\n",
      "Epoch 518/600\n",
      "3/3 [==============================] - 0s 133ms/step - loss: 0.0557\n",
      "Epoch 519/600\n",
      "3/3 [==============================] - 0s 133ms/step - loss: 0.0558\n",
      "Epoch 520/600\n",
      "3/3 [==============================] - 0s 133ms/step - loss: 0.0541\n",
      "Epoch 521/600\n",
      "3/3 [==============================] - 0s 134ms/step - loss: 0.0556\n",
      "Epoch 522/600\n",
      "3/3 [==============================] - 0s 133ms/step - loss: 0.0528\n",
      "Epoch 523/600\n",
      "3/3 [==============================] - 0s 132ms/step - loss: 0.0534\n",
      "Epoch 524/600\n",
      "3/3 [==============================] - 0s 134ms/step - loss: 0.0543\n",
      "Epoch 525/600\n",
      "3/3 [==============================] - 0s 132ms/step - loss: 0.0528\n",
      "Epoch 526/600\n",
      "3/3 [==============================] - 0s 133ms/step - loss: 0.0531\n",
      "Epoch 527/600\n",
      "3/3 [==============================] - 0s 133ms/step - loss: 0.0539\n",
      "Epoch 528/600\n",
      "3/3 [==============================] - 0s 133ms/step - loss: 0.0523\n",
      "Epoch 529/600\n",
      "3/3 [==============================] - 0s 133ms/step - loss: 0.0552\n",
      "Epoch 530/600\n",
      "3/3 [==============================] - 0s 132ms/step - loss: 0.0530\n",
      "Epoch 531/600\n",
      "3/3 [==============================] - 0s 134ms/step - loss: 0.0540\n",
      "Epoch 532/600\n",
      "3/3 [==============================] - 0s 133ms/step - loss: 0.0543\n",
      "Epoch 533/600\n",
      "3/3 [==============================] - 0s 133ms/step - loss: 0.0514\n",
      "Epoch 534/600\n",
      "3/3 [==============================] - 0s 134ms/step - loss: 0.0510\n",
      "Epoch 535/600\n",
      "3/3 [==============================] - 0s 133ms/step - loss: 0.0516\n",
      "Epoch 536/600\n",
      "3/3 [==============================] - 0s 133ms/step - loss: 0.0514\n",
      "Epoch 537/600\n",
      "3/3 [==============================] - 0s 133ms/step - loss: 0.0535\n",
      "Epoch 538/600\n",
      "3/3 [==============================] - 0s 133ms/step - loss: 0.0526\n",
      "Epoch 539/600\n",
      "3/3 [==============================] - 0s 132ms/step - loss: 0.0525\n",
      "Epoch 540/600\n",
      "3/3 [==============================] - 0s 133ms/step - loss: 0.0528\n",
      "Epoch 541/600\n",
      "3/3 [==============================] - 0s 133ms/step - loss: 0.0541\n",
      "Epoch 542/600\n",
      "3/3 [==============================] - 0s 133ms/step - loss: 0.0514\n",
      "Epoch 543/600\n",
      "3/3 [==============================] - 0s 132ms/step - loss: 0.0520\n",
      "Epoch 544/600\n",
      "3/3 [==============================] - 0s 132ms/step - loss: 0.0533\n",
      "Epoch 545/600\n",
      "3/3 [==============================] - 0s 133ms/step - loss: 0.0529\n",
      "Epoch 546/600\n",
      "3/3 [==============================] - 0s 132ms/step - loss: 0.0542\n",
      "Epoch 547/600\n",
      "3/3 [==============================] - 0s 133ms/step - loss: 0.0507\n",
      "Epoch 548/600\n",
      "3/3 [==============================] - 0s 133ms/step - loss: 0.0525\n",
      "Epoch 549/600\n",
      "3/3 [==============================] - 0s 133ms/step - loss: 0.0518\n",
      "Epoch 550/600\n",
      "3/3 [==============================] - 0s 132ms/step - loss: 0.0526\n",
      "Epoch 551/600\n",
      "3/3 [==============================] - 0s 133ms/step - loss: 0.0541\n",
      "Epoch 552/600\n",
      "3/3 [==============================] - 0s 132ms/step - loss: 0.0533\n",
      "Epoch 553/600\n",
      "3/3 [==============================] - 0s 133ms/step - loss: 0.0532\n",
      "Epoch 554/600\n",
      "3/3 [==============================] - 0s 133ms/step - loss: 0.0538\n",
      "Epoch 555/600\n",
      "3/3 [==============================] - 0s 133ms/step - loss: 0.0518\n",
      "Epoch 556/600\n",
      "3/3 [==============================] - 0s 133ms/step - loss: 0.0521\n",
      "Epoch 557/600\n",
      "3/3 [==============================] - 0s 134ms/step - loss: 0.0493\n",
      "Epoch 558/600\n",
      "3/3 [==============================] - 0s 133ms/step - loss: 0.0526\n",
      "Epoch 559/600\n",
      "3/3 [==============================] - 0s 133ms/step - loss: 0.0490\n",
      "Epoch 560/600\n",
      "3/3 [==============================] - 0s 131ms/step - loss: 0.0525\n",
      "Epoch 561/600\n",
      "3/3 [==============================] - 0s 132ms/step - loss: 0.0534\n",
      "Epoch 562/600\n",
      "3/3 [==============================] - 0s 133ms/step - loss: 0.0498\n",
      "Epoch 563/600\n",
      "3/3 [==============================] - 0s 132ms/step - loss: 0.0528\n",
      "Epoch 564/600\n",
      "3/3 [==============================] - 0s 133ms/step - loss: 0.0507\n",
      "Epoch 565/600\n",
      "3/3 [==============================] - 0s 133ms/step - loss: 0.0534\n",
      "Epoch 566/600\n",
      "3/3 [==============================] - 0s 132ms/step - loss: 0.0487\n",
      "Epoch 567/600\n",
      "3/3 [==============================] - 0s 133ms/step - loss: 0.0500\n",
      "Epoch 568/600\n",
      "3/3 [==============================] - 0s 133ms/step - loss: 0.0525\n",
      "Epoch 569/600\n",
      "3/3 [==============================] - 0s 133ms/step - loss: 0.0524\n",
      "Epoch 570/600\n",
      "3/3 [==============================] - 0s 133ms/step - loss: 0.0522\n",
      "Epoch 571/600\n",
      "3/3 [==============================] - 0s 133ms/step - loss: 0.0526\n",
      "Epoch 572/600\n",
      "3/3 [==============================] - 0s 132ms/step - loss: 0.0503\n",
      "Epoch 573/600\n",
      "3/3 [==============================] - 0s 132ms/step - loss: 0.0517\n",
      "Epoch 574/600\n",
      "3/3 [==============================] - 0s 132ms/step - loss: 0.0501\n",
      "Epoch 575/600\n",
      "3/3 [==============================] - 0s 132ms/step - loss: 0.0486\n",
      "Epoch 576/600\n",
      "3/3 [==============================] - 0s 133ms/step - loss: 0.0497\n",
      "Epoch 577/600\n",
      "3/3 [==============================] - 0s 133ms/step - loss: 0.0497\n",
      "Epoch 578/600\n",
      "3/3 [==============================] - 0s 133ms/step - loss: 0.0505\n",
      "Epoch 579/600\n",
      "3/3 [==============================] - 0s 133ms/step - loss: 0.0498\n",
      "Epoch 580/600\n",
      "3/3 [==============================] - 0s 134ms/step - loss: 0.0489\n",
      "Epoch 581/600\n",
      "3/3 [==============================] - 0s 132ms/step - loss: 0.0476\n",
      "Epoch 582/600\n",
      "3/3 [==============================] - 0s 132ms/step - loss: 0.0491\n",
      "Epoch 583/600\n",
      "3/3 [==============================] - 0s 133ms/step - loss: 0.0493\n",
      "Epoch 584/600\n",
      "3/3 [==============================] - 0s 133ms/step - loss: 0.0490\n",
      "Epoch 585/600\n",
      "3/3 [==============================] - 0s 133ms/step - loss: 0.0473\n",
      "Epoch 586/600\n",
      "3/3 [==============================] - 0s 132ms/step - loss: 0.0484\n",
      "Epoch 587/600\n",
      "3/3 [==============================] - 4s 2s/step - loss: 0.0501\n",
      "Epoch 588/600\n",
      "3/3 [==============================] - 0s 134ms/step - loss: 0.0500\n",
      "Epoch 589/600\n",
      "3/3 [==============================] - 0s 133ms/step - loss: 0.0491\n",
      "Epoch 590/600\n",
      "3/3 [==============================] - 0s 133ms/step - loss: 0.0511\n",
      "Epoch 591/600\n",
      "3/3 [==============================] - 0s 133ms/step - loss: 0.0476\n",
      "Epoch 592/600\n",
      "3/3 [==============================] - 0s 134ms/step - loss: 0.0490\n",
      "Epoch 593/600\n",
      "3/3 [==============================] - 0s 132ms/step - loss: 0.0490\n",
      "Epoch 594/600\n",
      "3/3 [==============================] - 0s 132ms/step - loss: 0.0480\n",
      "Epoch 595/600\n",
      "3/3 [==============================] - 0s 133ms/step - loss: 0.0490\n",
      "Epoch 596/600\n",
      "3/3 [==============================] - 0s 133ms/step - loss: 0.0478\n",
      "Epoch 597/600\n",
      "3/3 [==============================] - 0s 133ms/step - loss: 0.0486\n",
      "Epoch 598/600\n",
      "3/3 [==============================] - 0s 133ms/step - loss: 0.0487\n",
      "Epoch 599/600\n",
      "3/3 [==============================] - 0s 132ms/step - loss: 0.0467\n",
      "Epoch 600/600\n",
      "3/3 [==============================] - 0s 133ms/step - loss: 0.0478\n"
     ]
    },
    {
     "name": "stderr",
     "output_type": "stream",
     "text": [
      "/kernel/lib/python3.8/site-packages/ml_kernel/kernel.py:864: UserWarning: The following variables cannot be serialized: char_dataset, dataset, sequences\n",
      "  warnings.warn(message)\n"
     ]
    }
   ],
   "source": [
    "#!g1.1\n",
    "# Обучение модели\n",
    "history = model.fit(dataset, epochs=EPOCHS, callbacks=[checkpoint_callback])"
   ]
  },
  {
   "cell_type": "markdown",
   "metadata": {
    "cellId": "hx1213lorcpfp2k3xbpc7f",
    "execution_id": "a9f88daf-5d65-4499-8154-93bdb0d5b980",
    "id": "kKkD5M6eoSiN"
   },
   "source": [
    "### Генерация текста"
   ]
  },
  {
   "cell_type": "code",
   "execution_count": 28,
   "metadata": {
    "cellId": "x7omg0tfvyse9cmom2g38"
   },
   "outputs": [],
   "source": [
    "#!g1.1\n",
    "start_string=u\"Цель вечная движенья миров вселенной - мы.\""
   ]
  },
  {
   "cell_type": "code",
   "execution_count": 29,
   "metadata": {
    "cellId": "qjkrv72fwtgxw5kyp8i",
    "id": "LycQ-ot_jjyu"
   },
   "outputs": [],
   "source": [
    "#!g1.1\n",
    "model = build_model(vocab_size, embedding_dim, rnn_units, batch_size=1)\n",
    "model.load_weights(tf.train.latest_checkpoint(checkpoint_dir))\n",
    "model.build(tf.TensorShape([1, None]))"
   ]
  },
  {
   "cell_type": "code",
   "execution_count": 30,
   "metadata": {
    "cellId": "o47ycgylonk2wk8ff2l8xe",
    "colab": {
     "base_uri": "https://localhost:8080/"
    },
    "id": "71xa6jnYVrAN",
    "outputId": "43620da7-7bd5-491a-992a-d1f094cc7362"
   },
   "outputs": [
    {
     "name": "stdout",
     "output_type": "stream",
     "text": [
      "Model: \"sequential_1\"\n",
      "_________________________________________________________________\n",
      "Layer (type)                 Output Shape              Param #   \n",
      "=================================================================\n",
      "embedding_1 (Embedding)      (1, None, 256)            17664     \n",
      "_________________________________________________________________\n",
      "lstm_4 (LSTM)                (1, None, 1024)           5246976   \n",
      "_________________________________________________________________\n",
      "lstm_5 (LSTM)                (1, None, 1024)           8392704   \n",
      "_________________________________________________________________\n",
      "lstm_6 (LSTM)                (1, None, 1024)           8392704   \n",
      "_________________________________________________________________\n",
      "lstm_7 (LSTM)                (1, None, 1024)           8392704   \n",
      "_________________________________________________________________\n",
      "dense_1 (Dense)              (1, None, 69)             70725     \n",
      "=================================================================\n",
      "Total params: 30,513,477\n",
      "Trainable params: 30,513,477\n",
      "Non-trainable params: 0\n",
      "_________________________________________________________________\n"
     ]
    }
   ],
   "source": [
    "#!g1.1\n",
    "model.summary()"
   ]
  },
  {
   "cell_type": "code",
   "execution_count": 31,
   "metadata": {
    "cellId": "zc50e6y041kla3zlfsodb",
    "id": "WvuwZBX5Ogfd"
   },
   "outputs": [],
   "source": [
    "#!g1.1\n",
    "# на вход процедуры поступает префикс start_string\n",
    "\n",
    "def generate_text(model, start_string):\n",
    "    num_generate = 500\n",
    "    input_eval = [char2idx[s] for s in start_string]\n",
    "    input_eval = tf.expand_dims(input_eval, 0)\n",
    "    text_generated = []\n",
    "    temperature = 0.5\n",
    "    model.reset_states()\n",
    "    for i in range(num_generate):\n",
    "        predictions = model(input_eval)\n",
    "        predictions = tf.squeeze(predictions, 0)\n",
    "        predictions = predictions / temperature\n",
    "        predicted_id = tf.random.categorical(predictions, num_samples=1)[-1, 0].numpy()\n",
    "        input_eval = tf.expand_dims([predicted_id], 0)\n",
    "        text_generated.append(idx2char[predicted_id])\n",
    "    return (start_string + ''.join(text_generated))"
   ]
  },
  {
   "cell_type": "code",
   "execution_count": 32,
   "metadata": {
    "cellId": "y9cqjwtgttn6pmo76gnr",
    "colab": {
     "base_uri": "https://localhost:8080/"
    },
    "id": "ktovv0RFhrkn",
    "outputId": "a38f3ab1-c7a9-49ba-ae80-dd4d50c50604"
   },
   "outputs": [
    {
     "name": "stdout",
     "output_type": "stream",
     "text": [
      "Цель вечная движенья миров вселенной - мы.\n",
      "В глазу рассудка ясном зрачок мгновенноброй славы дверь.\n",
      "Мы вне себя; за это ты нас не осуждай:\n",
      "Вином любви мы пьяны, не лоз вином, повенною тайной с тобой поделюсь,\n",
      "В двух словах изолью свою нежность и грусть.\n",
      "Я во прахе с любовью круг,\n",
      "Мне с невеждами спорить, поверь, недосуг.\n",
      "Лишь мужей исцеляет любовный напиток,\n",
      "А ханжам он судьбины нашей,\n",
      "С утра до вечера не расставайся с чашей,\n",
      "К запретной дочери лозы присядь - она\n",
      "Свнад ручьем ветвями осенен,\n",
      "Не надо лучшего, пусть мир зоветс\n"
     ]
    }
   ],
   "source": [
    "#!g1.1\n",
    "text = generate_text(model, start_string=start_string)\n",
    "print(text)"
   ]
  },
  {
   "cell_type": "code",
   "execution_count": 33,
   "metadata": {
    "cellId": "nwsturwxshl0eidl0rk9g",
    "colab": {
     "base_uri": "https://localhost:8080/"
    },
    "id": "4wqVniuFpofL",
    "outputId": "7fd5d01c-e99a-4464-facf-2900a0437618"
   },
   "outputs": [
    {
     "data": {
      "text/plain": [
       "542"
      ]
     },
     "execution_count": 33,
     "metadata": {},
     "output_type": "execute_result"
    }
   ],
   "source": [
    "#!g1.1\n",
    "len(text)"
   ]
  }
 ],
 "metadata": {
  "accelerator": "GPU",
  "colab": {
   "collapsed_sections": [],
   "name": "text_generation.ipynb",
   "provenance": [],
   "toc_visible": true
  },
  "language_info": {
   "codemirror_mode": {
    "name": "ipython",
    "version": 3
   },
   "file_extension": ".py",
   "mimetype": "text/x-python",
   "name": "python",
   "nbconvert_exporter": "python",
   "pygments_lexer": "ipython3",
   "version": "3.7.7"
  },
  "notebookId": "1e20e514-64ff-40de-aed6-a24ae01621f9",
  "notebookPath": "9_Языковое_моделирование/HW_9.ipynb"
 },
 "nbformat": 4,
 "nbformat_minor": 4
}
