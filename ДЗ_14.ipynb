{
 "cells": [
  {
   "cell_type": "markdown",
   "id": "0060c236",
   "metadata": {
    "cellId": "4092ffytkqxgk9cu4rild6",
    "execution_id": "d019be93-8b7d-451d-8050-9db8c43b27ac"
   },
   "source": [
    "## <a id='Задание_1_14'>Задание № 1</a>\n",
    "\n",
    "Обучить модель GPT для генерации своих цитат.\n",
    "\n",
    "Взять данные из https://www.kaggle.com/datasets/mrapplexz/bashim-quotes"
   ]
  },
  {
   "cell_type": "markdown",
   "id": "a1b9366c",
   "metadata": {
    "cellId": "jv8e3m5ce0n1crq4kwd2bm",
    "execution_id": "5cbbabb2-f2c8-46d1-8c72-d619e6008bd4"
   },
   "source": [
    "### <a id='Данные_1_14'>Загрузка и подготовка данных</a>"
   ]
  },
  {
   "cell_type": "code",
   "execution_count": 2,
   "id": "c3caf891",
   "metadata": {
    "cellId": "q6l8vtswl27kv9dir3dblh",
    "collapsed": true,
    "jupyter": {
     "outputs_hidden": true
    }
   },
   "outputs": [
    {
     "data": {
      "text/html": [
       "<div>\n",
       "<style scoped>\n",
       "    .dataframe tbody tr th:only-of-type {\n",
       "        vertical-align: middle;\n",
       "    }\n",
       "\n",
       "    .dataframe tbody tr th {\n",
       "        vertical-align: top;\n",
       "    }\n",
       "\n",
       "    .dataframe thead th {\n",
       "        text-align: right;\n",
       "    }\n",
       "</style>\n",
       "<table border=\"1\" class=\"dataframe\">\n",
       "  <thead>\n",
       "    <tr style=\"text-align: right;\">\n",
       "      <th></th>\n",
       "      <th>date</th>\n",
       "      <th>rating</th>\n",
       "      <th>text</th>\n",
       "    </tr>\n",
       "    <tr>\n",
       "      <th>id</th>\n",
       "      <th></th>\n",
       "      <th></th>\n",
       "      <th></th>\n",
       "    </tr>\n",
       "  </thead>\n",
       "  <tbody>\n",
       "    <tr>\n",
       "      <th>448538</th>\n",
       "      <td>2018-01-11 07:45:00+00:00</td>\n",
       "      <td>4664.0</td>\n",
       "      <td>Смотрим с друзьями \"Трое из Простоквашино\". Сц...</td>\n",
       "    </tr>\n",
       "  </tbody>\n",
       "</table>\n",
       "</div>"
      ],
      "text/plain": [
       "                            date  ...                                               text\n",
       "id                                ...                                                   \n",
       "448538 2018-01-11 07:45:00+00:00  ...  Смотрим с друзьями \"Трое из Простоквашино\". Сц...\n",
       "\n",
       "[1 rows x 3 columns]"
      ]
     },
     "execution_count": 2,
     "metadata": {},
     "output_type": "execute_result"
    }
   ],
   "source": [
    "#!g2.2\n",
    "DATASET_PATH = '/home/jupyter/work/resources/14_Transfer_learning/Data/dataset.jsonl'\n",
    "train_path = '/home/jupyter/work/resources/14_Transfer_learning/Data/train_dataset.txt'\n",
    "test_path = '/home/jupyter/work/resources/14_Transfer_learning/Data/test_dataset.txt'\n",
    "RES_PATH = '/home/jupyter/work/resources/14_Transfer_learning/results/' # Папка результатов\n",
    "\n",
    "# Открываем файл\n",
    "with open(DATASET_PATH) as f: \n",
    "   # Считываем .jsonl file как Pandas DataFrame\n",
    "    df = pd.read_json(DATASET_PATH, lines=True).set_index('id')\n",
    "    \n",
    "df.sample(1)"
   ]
  },
  {
   "cell_type": "code",
   "execution_count": 3,
   "id": "cd3e6226",
   "metadata": {
    "cellId": "8lfkgoeum2woul9wjmvrb",
    "collapsed": true,
    "jupyter": {
     "outputs_hidden": true
    }
   },
   "outputs": [
    {
     "data": {
      "text/plain": [
       "(81497, 3)"
      ]
     },
     "execution_count": 3,
     "metadata": {},
     "output_type": "execute_result"
    }
   ],
   "source": [
    "#!g2.2\n",
    "# Количество данных\n",
    "df.shape"
   ]
  },
  {
   "cell_type": "code",
   "execution_count": 4,
   "id": "a7f7ee59",
   "metadata": {
    "cellId": "6m9h28ity3w80uu1bzlafv"
   },
   "outputs": [],
   "source": [
    "#!g2.2\n",
    "# Берем только часть данных столбца text (сокращаем объем данных)\n",
    "data = df.loc[:3500, 'text']"
   ]
  },
  {
   "cell_type": "code",
   "execution_count": 5,
   "id": "919b4c85",
   "metadata": {
    "cellId": "d1b51hiqsek9pel6e305"
   },
   "outputs": [],
   "source": [
    "#!g2.2\n",
    "# Разделяем данные на train и test\n",
    "train, test = train_test_split(data, test_size=0.15)"
   ]
  },
  {
   "cell_type": "code",
   "execution_count": 6,
   "id": "3a40d4d5",
   "metadata": {
    "cellId": "5kgx05jq8khqmz2ny9z8tt"
   },
   "outputs": [],
   "source": [
    "#!g2.2\n",
    "# Весь text из каждого набора данных препроцессим и собираем в отдельные файлы\n",
    "def build_text_files(data_json, dest_path):\n",
    "    f = open(dest_path, 'w')\n",
    "    data = ''\n",
    "    for texts in data_json:\n",
    "        summary = str(texts).strip() # удаление символов с начала и с конца строки\n",
    "        summary = re.sub(r\"\\[\\s*\\w+\\s*\\]\", \"\", summary) # убираем слова в квадратных скобках\n",
    "        summary = re.sub(r\"<\\s*\\w+\\s*>\", \"\", summary) # убираем слова в скобках типа <>\n",
    "        summary = re.sub(r\"\\s\", \" \", summary) # заменяем любые пробельные символы одиночным пробелом\n",
    "        summary = re.sub(r\"\\*+\", \"\", summary) # убираем звездочки *\n",
    "        data += summary + \"  \"\n",
    "    f.write(data)\n",
    "\n",
    "build_text_files(train, train_path)\n",
    "build_text_files(test, test_path)"
   ]
  },
  {
   "cell_type": "code",
   "execution_count": 7,
   "id": "2ca2c4bb",
   "metadata": {
    "cellId": "hoa9q5p77wrn33pvl22lsj"
   },
   "outputs": [],
   "source": [
    "#!g2.2\n",
    "with open(train_path) as f:\n",
    "    train_dataset = f.read()\n",
    "# train_dataset"
   ]
  },
  {
   "cell_type": "code",
   "execution_count": 8,
   "id": "70918dba",
   "metadata": {
    "cellId": "tacl2fiyxs8arc1p8yj37",
    "collapsed": true,
    "jupyter": {
     "outputs_hidden": true
    }
   },
   "outputs": [
    {
     "name": "stdout",
     "output_type": "stream",
     "text": [
      "Train dataset length: 983\n",
      "Test dataset length: 174\n"
     ]
    }
   ],
   "source": [
    "#!g2.2\n",
    "print(\"Train dataset length: \"+ str(len(train)))\n",
    "print(\"Test dataset length: \"+ str(len(test)))"
   ]
  },
  {
   "cell_type": "code",
   "execution_count": 9,
   "id": "761365ed",
   "metadata": {
    "cellId": "erqjab6tvrgswbydfngu7",
    "collapsed": true,
    "jupyter": {
     "outputs_hidden": true
    }
   },
   "outputs": [
    {
     "data": {
      "application/vnd.jupyter.widget-view+json": {
       "model_id": "ba2a873996464be89333c820a7cb742c",
       "version_major": 2,
       "version_minor": 0
      },
      "text/plain": [
       "Downloading:   0%|          | 0.00/608 [00:00<?, ?B/s]"
      ]
     },
     "metadata": {},
     "output_type": "display_data"
    },
    {
     "data": {
      "application/vnd.jupyter.widget-view+json": {
       "model_id": "32369ba2765144c4b605f0324d78aa8b",
       "version_major": 2,
       "version_minor": 0
      },
      "text/plain": [
       "Downloading:   0%|          | 0.00/1.63M [00:00<?, ?B/s]"
      ]
     },
     "metadata": {},
     "output_type": "display_data"
    },
    {
     "data": {
      "application/vnd.jupyter.widget-view+json": {
       "model_id": "39a8d6cbd244439ab202974e86ab06cb",
       "version_major": 2,
       "version_minor": 0
      },
      "text/plain": [
       "Downloading:   0%|          | 0.00/1.21M [00:00<?, ?B/s]"
      ]
     },
     "metadata": {},
     "output_type": "display_data"
    },
    {
     "name": "stderr",
     "output_type": "stream",
     "text": [
      "Special tokens have been added in the vocabulary, make sure the associated word embeddings are fine-tuned or trained.\n"
     ]
    }
   ],
   "source": [
    "#!g2.2\n",
    "# Загрузка токенайзера\n",
    "model_name = \"sberbank-ai/rugpt3small_based_on_gpt2\"\n",
    "tokenizer = AutoTokenizer.from_pretrained(model_name)"
   ]
  },
  {
   "cell_type": "code",
   "execution_count": 10,
   "id": "59046131",
   "metadata": {
    "cellId": "wncsnzs5lbbgwgdjol28l"
   },
   "outputs": [],
   "source": [
    "#!g2.2\n",
    "# Функция загрузки датасетов\n",
    "def load_dataset(train_path, test_path, tokenizer):\n",
    "    train_dataset = TextDataset(\n",
    "          tokenizer=tokenizer,\n",
    "          file_path=train_path,\n",
    "          block_size=128)\n",
    "\n",
    "    test_dataset = TextDataset(\n",
    "          tokenizer=tokenizer,\n",
    "          file_path=test_path,\n",
    "          block_size=128)\n",
    "\n",
    "    data_collator = DataCollatorForLanguageModeling(tokenizer=tokenizer, mlm=False)\n",
    "    \n",
    "    return train_dataset, test_dataset, data_collator"
   ]
  },
  {
   "cell_type": "code",
   "execution_count": 11,
   "id": "bc254daa",
   "metadata": {
    "cellId": "vyn9rs40frl8syib6oyui"
   },
   "outputs": [],
   "source": [
    "#!g2.2\n",
    "# Создаем тренировочный и тестовый датасеты\n",
    "train_dataset, test_dataset, data_collator = load_dataset(train_path, test_path, tokenizer)"
   ]
  },
  {
   "cell_type": "markdown",
   "id": "cb8c63b1",
   "metadata": {
    "cellId": "rntancrq4utfhdhvzr17y8",
    "execution_id": "162e01f4-7217-4a4a-af9d-f4323dfea40f"
   },
   "source": [
    "### <a id='Модель_1_14'>Модель</a>"
   ]
  },
  {
   "cell_type": "code",
   "execution_count": 12,
   "id": "72f8879d",
   "metadata": {
    "cellId": "bl7icjrq7gu1xmg79ak71s",
    "collapsed": true,
    "jupyter": {
     "outputs_hidden": true
    }
   },
   "outputs": [
    {
     "data": {
      "application/vnd.jupyter.widget-view+json": {
       "model_id": "b50fc386bbce42a29351c253e0b9b980",
       "version_major": 2,
       "version_minor": 0
      },
      "text/plain": [
       "Downloading:   0%|          | 0.00/526M [00:00<?, ?B/s]"
      ]
     },
     "metadata": {},
     "output_type": "display_data"
    }
   ],
   "source": [
    "#!g2.2\n",
    "# Загрузка и обучение модели\n",
    "model = AutoModelForCausalLM.from_pretrained(model_name)"
   ]
  },
  {
   "cell_type": "code",
   "execution_count": 13,
   "id": "4dccd9e9",
   "metadata": {
    "cellId": "7b061gehmnaq0thrqi4dv"
   },
   "outputs": [],
   "source": [
    "#!g2.2\n",
    "# Аргументы для обучения\n",
    "training_args = TrainingArguments(\n",
    "    output_dir=RES_PATH, #The output directory\n",
    "    overwrite_output_dir=True, #overwrite the content of the output directory\n",
    "    num_train_epochs=3, # number of training epochs\n",
    "    per_device_train_batch_size=4, # batch size for training\n",
    "    per_device_eval_batch_size=4,  # batch size for evaluation\n",
    "    eval_steps = 400, # Number of update steps between two evaluations.\n",
    "    save_steps=800, # after # steps model is saved\n",
    "    warmup_steps=500,# number of warmup steps for learning rate scheduler\n",
    "    )"
   ]
  },
  {
   "cell_type": "code",
   "execution_count": 14,
   "id": "aef54444",
   "metadata": {
    "cellId": "mkfm621fprss0qonrebysh"
   },
   "outputs": [],
   "source": [
    "#!g2.2\n",
    "# Trainer\n",
    "trainer = Trainer(\n",
    "    model=model,\n",
    "    args=training_args,\n",
    "    data_collator=data_collator,\n",
    "    train_dataset=train_dataset,\n",
    "    eval_dataset=test_dataset\n",
    ")"
   ]
  },
  {
   "cell_type": "code",
   "execution_count": 15,
   "id": "58c24b0d",
   "metadata": {
    "cellId": "508yu8n38xfqndqitrxgo",
    "collapsed": true,
    "jupyter": {
     "outputs_hidden": true
    }
   },
   "outputs": [
    {
     "data": {
      "text/html": [
       "\n",
       "    <div>\n",
       "      \n",
       "      <progress value='2' max='174' style='width:300px; height:20px; vertical-align: middle;'></progress>\n",
       "      [  2/174 : < :, Epoch 0.02/3]\n",
       "    </div>\n",
       "    <table border=\"1\" class=\"dataframe\">\n",
       "  <thead>\n",
       "    <tr style=\"text-align: left;\">\n",
       "      <th>Step</th>\n",
       "      <th>Training Loss</th>\n",
       "    </tr>\n",
       "  </thead>\n",
       "  <tbody>\n",
       "  </tbody>\n",
       "</table><p>"
      ],
      "text/plain": [
       "<IPython.core.display.HTML object>"
      ]
     },
     "metadata": {},
     "output_type": "display_data"
    },
    {
     "data": {
      "text/html": [
       "\n",
       "    <div>\n",
       "      \n",
       "      <progress value='3' max='174' style='width:300px; height:20px; vertical-align: middle;'></progress>\n",
       "      [  3/174 00:00 < 00:15, 11.31 it/s, Epoch 0.03/3]\n",
       "    </div>\n",
       "    <table border=\"1\" class=\"dataframe\">\n",
       "  <thead>\n",
       "    <tr style=\"text-align: left;\">\n",
       "      <th>Step</th>\n",
       "      <th>Training Loss</th>\n",
       "    </tr>\n",
       "  </thead>\n",
       "  <tbody>\n",
       "  </tbody>\n",
       "</table><p>"
      ],
      "text/plain": [
       "<IPython.core.display.HTML object>"
      ]
     },
     "metadata": {},
     "output_type": "display_data"
    },
    {
     "data": {
      "text/html": [
       "\n",
       "    <div>\n",
       "      \n",
       "      <progress value='4' max='174' style='width:300px; height:20px; vertical-align: middle;'></progress>\n",
       "      [  4/174 00:00 < 00:13, 12.58 it/s, Epoch 0.05/3]\n",
       "    </div>\n",
       "    <table border=\"1\" class=\"dataframe\">\n",
       "  <thead>\n",
       "    <tr style=\"text-align: left;\">\n",
       "      <th>Step</th>\n",
       "      <th>Training Loss</th>\n",
       "    </tr>\n",
       "  </thead>\n",
       "  <tbody>\n",
       "  </tbody>\n",
       "</table><p>"
      ],
      "text/plain": [
       "<IPython.core.display.HTML object>"
      ]
     },
     "metadata": {},
     "output_type": "display_data"
    },
    {
     "data": {
      "text/html": [
       "\n",
       "    <div>\n",
       "      \n",
       "      <progress value='5' max='174' style='width:300px; height:20px; vertical-align: middle;'></progress>\n",
       "      [  5/174 00:00 < 00:12, 13.35 it/s, Epoch 0.07/3]\n",
       "    </div>\n",
       "    <table border=\"1\" class=\"dataframe\">\n",
       "  <thead>\n",
       "    <tr style=\"text-align: left;\">\n",
       "      <th>Step</th>\n",
       "      <th>Training Loss</th>\n",
       "    </tr>\n",
       "  </thead>\n",
       "  <tbody>\n",
       "  </tbody>\n",
       "</table><p>"
      ],
      "text/plain": [
       "<IPython.core.display.HTML object>"
      ]
     },
     "metadata": {},
     "output_type": "display_data"
    },
    {
     "data": {
      "text/html": [
       "\n",
       "    <div>\n",
       "      \n",
       "      <progress value='6' max='174' style='width:300px; height:20px; vertical-align: middle;'></progress>\n",
       "      [  6/174 00:00 < 00:12, 13.88 it/s, Epoch 0.09/3]\n",
       "    </div>\n",
       "    <table border=\"1\" class=\"dataframe\">\n",
       "  <thead>\n",
       "    <tr style=\"text-align: left;\">\n",
       "      <th>Step</th>\n",
       "      <th>Training Loss</th>\n",
       "    </tr>\n",
       "  </thead>\n",
       "  <tbody>\n",
       "  </tbody>\n",
       "</table><p>"
      ],
      "text/plain": [
       "<IPython.core.display.HTML object>"
      ]
     },
     "metadata": {},
     "output_type": "display_data"
    },
    {
     "data": {
      "text/html": [
       "\n",
       "    <div>\n",
       "      \n",
       "      <progress value='7' max='174' style='width:300px; height:20px; vertical-align: middle;'></progress>\n",
       "      [  7/174 00:00 < 00:11, 14.23 it/s, Epoch 0.10/3]\n",
       "    </div>\n",
       "    <table border=\"1\" class=\"dataframe\">\n",
       "  <thead>\n",
       "    <tr style=\"text-align: left;\">\n",
       "      <th>Step</th>\n",
       "      <th>Training Loss</th>\n",
       "    </tr>\n",
       "  </thead>\n",
       "  <tbody>\n",
       "  </tbody>\n",
       "</table><p>"
      ],
      "text/plain": [
       "<IPython.core.display.HTML object>"
      ]
     },
     "metadata": {},
     "output_type": "display_data"
    },
    {
     "data": {
      "text/html": [
       "\n",
       "    <div>\n",
       "      \n",
       "      <progress value='9' max='174' style='width:300px; height:20px; vertical-align: middle;'></progress>\n",
       "      [  9/174 00:00 < 00:11, 14.73 it/s, Epoch 0.14/3]\n",
       "    </div>\n",
       "    <table border=\"1\" class=\"dataframe\">\n",
       "  <thead>\n",
       "    <tr style=\"text-align: left;\">\n",
       "      <th>Step</th>\n",
       "      <th>Training Loss</th>\n",
       "    </tr>\n",
       "  </thead>\n",
       "  <tbody>\n",
       "  </tbody>\n",
       "</table><p>"
      ],
      "text/plain": [
       "<IPython.core.display.HTML object>"
      ]
     },
     "metadata": {},
     "output_type": "display_data"
    },
    {
     "data": {
      "text/html": [
       "\n",
       "    <div>\n",
       "      \n",
       "      <progress value='11' max='174' style='width:300px; height:20px; vertical-align: middle;'></progress>\n",
       "      [ 11/174 00:00 < 00:10, 15.21 it/s, Epoch 0.17/3]\n",
       "    </div>\n",
       "    <table border=\"1\" class=\"dataframe\">\n",
       "  <thead>\n",
       "    <tr style=\"text-align: left;\">\n",
       "      <th>Step</th>\n",
       "      <th>Training Loss</th>\n",
       "    </tr>\n",
       "  </thead>\n",
       "  <tbody>\n",
       "  </tbody>\n",
       "</table><p>"
      ],
      "text/plain": [
       "<IPython.core.display.HTML object>"
      ]
     },
     "metadata": {},
     "output_type": "display_data"
    },
    {
     "data": {
      "text/html": [
       "\n",
       "    <div>\n",
       "      \n",
       "      <progress value='14' max='174' style='width:300px; height:20px; vertical-align: middle;'></progress>\n",
       "      [ 14/174 00:00 < 00:10, 15.64 it/s, Epoch 0.22/3]\n",
       "    </div>\n",
       "    <table border=\"1\" class=\"dataframe\">\n",
       "  <thead>\n",
       "    <tr style=\"text-align: left;\">\n",
       "      <th>Step</th>\n",
       "      <th>Training Loss</th>\n",
       "    </tr>\n",
       "  </thead>\n",
       "  <tbody>\n",
       "  </tbody>\n",
       "</table><p>"
      ],
      "text/plain": [
       "<IPython.core.display.HTML object>"
      ]
     },
     "metadata": {},
     "output_type": "display_data"
    },
    {
     "data": {
      "text/html": [
       "\n",
       "    <div>\n",
       "      \n",
       "      <progress value='17' max='174' style='width:300px; height:20px; vertical-align: middle;'></progress>\n",
       "      [ 17/174 00:00 < 00:09, 15.92 it/s, Epoch 0.28/3]\n",
       "    </div>\n",
       "    <table border=\"1\" class=\"dataframe\">\n",
       "  <thead>\n",
       "    <tr style=\"text-align: left;\">\n",
       "      <th>Step</th>\n",
       "      <th>Training Loss</th>\n",
       "    </tr>\n",
       "  </thead>\n",
       "  <tbody>\n",
       "  </tbody>\n",
       "</table><p>"
      ],
      "text/plain": [
       "<IPython.core.display.HTML object>"
      ]
     },
     "metadata": {},
     "output_type": "display_data"
    },
    {
     "data": {
      "text/html": [
       "\n",
       "    <div>\n",
       "      \n",
       "      <progress value='20' max='174' style='width:300px; height:20px; vertical-align: middle;'></progress>\n",
       "      [ 20/174 00:01 < 00:09, 16.10 it/s, Epoch 0.33/3]\n",
       "    </div>\n",
       "    <table border=\"1\" class=\"dataframe\">\n",
       "  <thead>\n",
       "    <tr style=\"text-align: left;\">\n",
       "      <th>Step</th>\n",
       "      <th>Training Loss</th>\n",
       "    </tr>\n",
       "  </thead>\n",
       "  <tbody>\n",
       "  </tbody>\n",
       "</table><p>"
      ],
      "text/plain": [
       "<IPython.core.display.HTML object>"
      ]
     },
     "metadata": {},
     "output_type": "display_data"
    },
    {
     "data": {
      "text/html": [
       "\n",
       "    <div>\n",
       "      \n",
       "      <progress value='23' max='174' style='width:300px; height:20px; vertical-align: middle;'></progress>\n",
       "      [ 23/174 00:01 < 00:09, 16.21 it/s, Epoch 0.38/3]\n",
       "    </div>\n",
       "    <table border=\"1\" class=\"dataframe\">\n",
       "  <thead>\n",
       "    <tr style=\"text-align: left;\">\n",
       "      <th>Step</th>\n",
       "      <th>Training Loss</th>\n",
       "    </tr>\n",
       "  </thead>\n",
       "  <tbody>\n",
       "  </tbody>\n",
       "</table><p>"
      ],
      "text/plain": [
       "<IPython.core.display.HTML object>"
      ]
     },
     "metadata": {},
     "output_type": "display_data"
    },
    {
     "data": {
      "text/html": [
       "\n",
       "    <div>\n",
       "      \n",
       "      <progress value='26' max='174' style='width:300px; height:20px; vertical-align: middle;'></progress>\n",
       "      [ 26/174 00:01 < 00:09, 16.23 it/s, Epoch 0.43/3]\n",
       "    </div>\n",
       "    <table border=\"1\" class=\"dataframe\">\n",
       "  <thead>\n",
       "    <tr style=\"text-align: left;\">\n",
       "      <th>Step</th>\n",
       "      <th>Training Loss</th>\n",
       "    </tr>\n",
       "  </thead>\n",
       "  <tbody>\n",
       "  </tbody>\n",
       "</table><p>"
      ],
      "text/plain": [
       "<IPython.core.display.HTML object>"
      ]
     },
     "metadata": {},
     "output_type": "display_data"
    },
    {
     "data": {
      "text/html": [
       "\n",
       "    <div>\n",
       "      \n",
       "      <progress value='29' max='174' style='width:300px; height:20px; vertical-align: middle;'></progress>\n",
       "      [ 29/174 00:01 < 00:08, 16.25 it/s, Epoch 0.48/3]\n",
       "    </div>\n",
       "    <table border=\"1\" class=\"dataframe\">\n",
       "  <thead>\n",
       "    <tr style=\"text-align: left;\">\n",
       "      <th>Step</th>\n",
       "      <th>Training Loss</th>\n",
       "    </tr>\n",
       "  </thead>\n",
       "  <tbody>\n",
       "  </tbody>\n",
       "</table><p>"
      ],
      "text/plain": [
       "<IPython.core.display.HTML object>"
      ]
     },
     "metadata": {},
     "output_type": "display_data"
    },
    {
     "data": {
      "text/html": [
       "\n",
       "    <div>\n",
       "      \n",
       "      <progress value='32' max='174' style='width:300px; height:20px; vertical-align: middle;'></progress>\n",
       "      [ 32/174 00:01 < 00:08, 16.31 it/s, Epoch 0.53/3]\n",
       "    </div>\n",
       "    <table border=\"1\" class=\"dataframe\">\n",
       "  <thead>\n",
       "    <tr style=\"text-align: left;\">\n",
       "      <th>Step</th>\n",
       "      <th>Training Loss</th>\n",
       "    </tr>\n",
       "  </thead>\n",
       "  <tbody>\n",
       "  </tbody>\n",
       "</table><p>"
      ],
      "text/plain": [
       "<IPython.core.display.HTML object>"
      ]
     },
     "metadata": {},
     "output_type": "display_data"
    },
    {
     "data": {
      "text/html": [
       "\n",
       "    <div>\n",
       "      \n",
       "      <progress value='35' max='174' style='width:300px; height:20px; vertical-align: middle;'></progress>\n",
       "      [ 35/174 00:02 < 00:08, 16.35 it/s, Epoch 0.59/3]\n",
       "    </div>\n",
       "    <table border=\"1\" class=\"dataframe\">\n",
       "  <thead>\n",
       "    <tr style=\"text-align: left;\">\n",
       "      <th>Step</th>\n",
       "      <th>Training Loss</th>\n",
       "    </tr>\n",
       "  </thead>\n",
       "  <tbody>\n",
       "  </tbody>\n",
       "</table><p>"
      ],
      "text/plain": [
       "<IPython.core.display.HTML object>"
      ]
     },
     "metadata": {},
     "output_type": "display_data"
    },
    {
     "data": {
      "text/html": [
       "\n",
       "    <div>\n",
       "      \n",
       "      <progress value='38' max='174' style='width:300px; height:20px; vertical-align: middle;'></progress>\n",
       "      [ 38/174 00:02 < 00:08, 16.37 it/s, Epoch 0.64/3]\n",
       "    </div>\n",
       "    <table border=\"1\" class=\"dataframe\">\n",
       "  <thead>\n",
       "    <tr style=\"text-align: left;\">\n",
       "      <th>Step</th>\n",
       "      <th>Training Loss</th>\n",
       "    </tr>\n",
       "  </thead>\n",
       "  <tbody>\n",
       "  </tbody>\n",
       "</table><p>"
      ],
      "text/plain": [
       "<IPython.core.display.HTML object>"
      ]
     },
     "metadata": {},
     "output_type": "display_data"
    },
    {
     "data": {
      "text/html": [
       "\n",
       "    <div>\n",
       "      \n",
       "      <progress value='41' max='174' style='width:300px; height:20px; vertical-align: middle;'></progress>\n",
       "      [ 41/174 00:02 < 00:08, 16.42 it/s, Epoch 0.69/3]\n",
       "    </div>\n",
       "    <table border=\"1\" class=\"dataframe\">\n",
       "  <thead>\n",
       "    <tr style=\"text-align: left;\">\n",
       "      <th>Step</th>\n",
       "      <th>Training Loss</th>\n",
       "    </tr>\n",
       "  </thead>\n",
       "  <tbody>\n",
       "  </tbody>\n",
       "</table><p>"
      ],
      "text/plain": [
       "<IPython.core.display.HTML object>"
      ]
     },
     "metadata": {},
     "output_type": "display_data"
    },
    {
     "data": {
      "text/html": [
       "\n",
       "    <div>\n",
       "      \n",
       "      <progress value='44' max='174' style='width:300px; height:20px; vertical-align: middle;'></progress>\n",
       "      [ 44/174 00:02 < 00:07, 16.42 it/s, Epoch 0.74/3]\n",
       "    </div>\n",
       "    <table border=\"1\" class=\"dataframe\">\n",
       "  <thead>\n",
       "    <tr style=\"text-align: left;\">\n",
       "      <th>Step</th>\n",
       "      <th>Training Loss</th>\n",
       "    </tr>\n",
       "  </thead>\n",
       "  <tbody>\n",
       "  </tbody>\n",
       "</table><p>"
      ],
      "text/plain": [
       "<IPython.core.display.HTML object>"
      ]
     },
     "metadata": {},
     "output_type": "display_data"
    },
    {
     "data": {
      "text/html": [
       "\n",
       "    <div>\n",
       "      \n",
       "      <progress value='47' max='174' style='width:300px; height:20px; vertical-align: middle;'></progress>\n",
       "      [ 47/174 00:02 < 00:07, 16.44 it/s, Epoch 0.79/3]\n",
       "    </div>\n",
       "    <table border=\"1\" class=\"dataframe\">\n",
       "  <thead>\n",
       "    <tr style=\"text-align: left;\">\n",
       "      <th>Step</th>\n",
       "      <th>Training Loss</th>\n",
       "    </tr>\n",
       "  </thead>\n",
       "  <tbody>\n",
       "  </tbody>\n",
       "</table><p>"
      ],
      "text/plain": [
       "<IPython.core.display.HTML object>"
      ]
     },
     "metadata": {},
     "output_type": "display_data"
    },
    {
     "data": {
      "text/html": [
       "\n",
       "    <div>\n",
       "      \n",
       "      <progress value='50' max='174' style='width:300px; height:20px; vertical-align: middle;'></progress>\n",
       "      [ 50/174 00:02 < 00:07, 16.46 it/s, Epoch 0.84/3]\n",
       "    </div>\n",
       "    <table border=\"1\" class=\"dataframe\">\n",
       "  <thead>\n",
       "    <tr style=\"text-align: left;\">\n",
       "      <th>Step</th>\n",
       "      <th>Training Loss</th>\n",
       "    </tr>\n",
       "  </thead>\n",
       "  <tbody>\n",
       "  </tbody>\n",
       "</table><p>"
      ],
      "text/plain": [
       "<IPython.core.display.HTML object>"
      ]
     },
     "metadata": {},
     "output_type": "display_data"
    },
    {
     "data": {
      "text/html": [
       "\n",
       "    <div>\n",
       "      \n",
       "      <progress value='53' max='174' style='width:300px; height:20px; vertical-align: middle;'></progress>\n",
       "      [ 53/174 00:03 < 00:07, 16.49 it/s, Epoch 0.90/3]\n",
       "    </div>\n",
       "    <table border=\"1\" class=\"dataframe\">\n",
       "  <thead>\n",
       "    <tr style=\"text-align: left;\">\n",
       "      <th>Step</th>\n",
       "      <th>Training Loss</th>\n",
       "    </tr>\n",
       "  </thead>\n",
       "  <tbody>\n",
       "  </tbody>\n",
       "</table><p>"
      ],
      "text/plain": [
       "<IPython.core.display.HTML object>"
      ]
     },
     "metadata": {},
     "output_type": "display_data"
    },
    {
     "data": {
      "text/html": [
       "\n",
       "    <div>\n",
       "      \n",
       "      <progress value='56' max='174' style='width:300px; height:20px; vertical-align: middle;'></progress>\n",
       "      [ 56/174 00:03 < 00:07, 16.52 it/s, Epoch 0.95/3]\n",
       "    </div>\n",
       "    <table border=\"1\" class=\"dataframe\">\n",
       "  <thead>\n",
       "    <tr style=\"text-align: left;\">\n",
       "      <th>Step</th>\n",
       "      <th>Training Loss</th>\n",
       "    </tr>\n",
       "  </thead>\n",
       "  <tbody>\n",
       "  </tbody>\n",
       "</table><p>"
      ],
      "text/plain": [
       "<IPython.core.display.HTML object>"
      ]
     },
     "metadata": {},
     "output_type": "display_data"
    },
    {
     "data": {
      "text/html": [
       "\n",
       "    <div>\n",
       "      \n",
       "      <progress value='59' max='174' style='width:300px; height:20px; vertical-align: middle;'></progress>\n",
       "      [ 59/174 00:03 < 00:06, 16.56 it/s, Epoch 1/3]\n",
       "    </div>\n",
       "    <table border=\"1\" class=\"dataframe\">\n",
       "  <thead>\n",
       "    <tr style=\"text-align: left;\">\n",
       "      <th>Step</th>\n",
       "      <th>Training Loss</th>\n",
       "    </tr>\n",
       "  </thead>\n",
       "  <tbody>\n",
       "  </tbody>\n",
       "</table><p>"
      ],
      "text/plain": [
       "<IPython.core.display.HTML object>"
      ]
     },
     "metadata": {},
     "output_type": "display_data"
    },
    {
     "data": {
      "text/html": [
       "\n",
       "    <div>\n",
       "      \n",
       "      <progress value='62' max='174' style='width:300px; height:20px; vertical-align: middle;'></progress>\n",
       "      [ 62/174 00:03 < 00:06, 16.57 it/s, Epoch 1.05/3]\n",
       "    </div>\n",
       "    <table border=\"1\" class=\"dataframe\">\n",
       "  <thead>\n",
       "    <tr style=\"text-align: left;\">\n",
       "      <th>Step</th>\n",
       "      <th>Training Loss</th>\n",
       "    </tr>\n",
       "  </thead>\n",
       "  <tbody>\n",
       "  </tbody>\n",
       "</table><p>"
      ],
      "text/plain": [
       "<IPython.core.display.HTML object>"
      ]
     },
     "metadata": {},
     "output_type": "display_data"
    },
    {
     "data": {
      "text/html": [
       "\n",
       "    <div>\n",
       "      \n",
       "      <progress value='65' max='174' style='width:300px; height:20px; vertical-align: middle;'></progress>\n",
       "      [ 65/174 00:03 < 00:06, 16.56 it/s, Epoch 1.10/3]\n",
       "    </div>\n",
       "    <table border=\"1\" class=\"dataframe\">\n",
       "  <thead>\n",
       "    <tr style=\"text-align: left;\">\n",
       "      <th>Step</th>\n",
       "      <th>Training Loss</th>\n",
       "    </tr>\n",
       "  </thead>\n",
       "  <tbody>\n",
       "  </tbody>\n",
       "</table><p>"
      ],
      "text/plain": [
       "<IPython.core.display.HTML object>"
      ]
     },
     "metadata": {},
     "output_type": "display_data"
    },
    {
     "data": {
      "text/html": [
       "\n",
       "    <div>\n",
       "      \n",
       "      <progress value='68' max='174' style='width:300px; height:20px; vertical-align: middle;'></progress>\n",
       "      [ 68/174 00:03 < 00:06, 16.55 it/s, Epoch 1.16/3]\n",
       "    </div>\n",
       "    <table border=\"1\" class=\"dataframe\">\n",
       "  <thead>\n",
       "    <tr style=\"text-align: left;\">\n",
       "      <th>Step</th>\n",
       "      <th>Training Loss</th>\n",
       "    </tr>\n",
       "  </thead>\n",
       "  <tbody>\n",
       "  </tbody>\n",
       "</table><p>"
      ],
      "text/plain": [
       "<IPython.core.display.HTML object>"
      ]
     },
     "metadata": {},
     "output_type": "display_data"
    },
    {
     "data": {
      "text/html": [
       "\n",
       "    <div>\n",
       "      \n",
       "      <progress value='71' max='174' style='width:300px; height:20px; vertical-align: middle;'></progress>\n",
       "      [ 71/174 00:04 < 00:06, 16.56 it/s, Epoch 1.21/3]\n",
       "    </div>\n",
       "    <table border=\"1\" class=\"dataframe\">\n",
       "  <thead>\n",
       "    <tr style=\"text-align: left;\">\n",
       "      <th>Step</th>\n",
       "      <th>Training Loss</th>\n",
       "    </tr>\n",
       "  </thead>\n",
       "  <tbody>\n",
       "  </tbody>\n",
       "</table><p>"
      ],
      "text/plain": [
       "<IPython.core.display.HTML object>"
      ]
     },
     "metadata": {},
     "output_type": "display_data"
    },
    {
     "data": {
      "text/html": [
       "\n",
       "    <div>\n",
       "      \n",
       "      <progress value='74' max='174' style='width:300px; height:20px; vertical-align: middle;'></progress>\n",
       "      [ 74/174 00:04 < 00:06, 16.57 it/s, Epoch 1.26/3]\n",
       "    </div>\n",
       "    <table border=\"1\" class=\"dataframe\">\n",
       "  <thead>\n",
       "    <tr style=\"text-align: left;\">\n",
       "      <th>Step</th>\n",
       "      <th>Training Loss</th>\n",
       "    </tr>\n",
       "  </thead>\n",
       "  <tbody>\n",
       "  </tbody>\n",
       "</table><p>"
      ],
      "text/plain": [
       "<IPython.core.display.HTML object>"
      ]
     },
     "metadata": {},
     "output_type": "display_data"
    },
    {
     "data": {
      "text/html": [
       "\n",
       "    <div>\n",
       "      \n",
       "      <progress value='77' max='174' style='width:300px; height:20px; vertical-align: middle;'></progress>\n",
       "      [ 77/174 00:04 < 00:05, 16.57 it/s, Epoch 1.31/3]\n",
       "    </div>\n",
       "    <table border=\"1\" class=\"dataframe\">\n",
       "  <thead>\n",
       "    <tr style=\"text-align: left;\">\n",
       "      <th>Step</th>\n",
       "      <th>Training Loss</th>\n",
       "    </tr>\n",
       "  </thead>\n",
       "  <tbody>\n",
       "  </tbody>\n",
       "</table><p>"
      ],
      "text/plain": [
       "<IPython.core.display.HTML object>"
      ]
     },
     "metadata": {},
     "output_type": "display_data"
    },
    {
     "data": {
      "text/html": [
       "\n",
       "    <div>\n",
       "      \n",
       "      <progress value='80' max='174' style='width:300px; height:20px; vertical-align: middle;'></progress>\n",
       "      [ 80/174 00:04 < 00:05, 16.56 it/s, Epoch 1.36/3]\n",
       "    </div>\n",
       "    <table border=\"1\" class=\"dataframe\">\n",
       "  <thead>\n",
       "    <tr style=\"text-align: left;\">\n",
       "      <th>Step</th>\n",
       "      <th>Training Loss</th>\n",
       "    </tr>\n",
       "  </thead>\n",
       "  <tbody>\n",
       "  </tbody>\n",
       "</table><p>"
      ],
      "text/plain": [
       "<IPython.core.display.HTML object>"
      ]
     },
     "metadata": {},
     "output_type": "display_data"
    },
    {
     "data": {
      "text/html": [
       "\n",
       "    <div>\n",
       "      \n",
       "      <progress value='83' max='174' style='width:300px; height:20px; vertical-align: middle;'></progress>\n",
       "      [ 83/174 00:04 < 00:05, 16.58 it/s, Epoch 1.41/3]\n",
       "    </div>\n",
       "    <table border=\"1\" class=\"dataframe\">\n",
       "  <thead>\n",
       "    <tr style=\"text-align: left;\">\n",
       "      <th>Step</th>\n",
       "      <th>Training Loss</th>\n",
       "    </tr>\n",
       "  </thead>\n",
       "  <tbody>\n",
       "  </tbody>\n",
       "</table><p>"
      ],
      "text/plain": [
       "<IPython.core.display.HTML object>"
      ]
     },
     "metadata": {},
     "output_type": "display_data"
    },
    {
     "data": {
      "text/html": [
       "\n",
       "    <div>\n",
       "      \n",
       "      <progress value='86' max='174' style='width:300px; height:20px; vertical-align: middle;'></progress>\n",
       "      [ 86/174 00:05 < 00:05, 16.59 it/s, Epoch 1.47/3]\n",
       "    </div>\n",
       "    <table border=\"1\" class=\"dataframe\">\n",
       "  <thead>\n",
       "    <tr style=\"text-align: left;\">\n",
       "      <th>Step</th>\n",
       "      <th>Training Loss</th>\n",
       "    </tr>\n",
       "  </thead>\n",
       "  <tbody>\n",
       "  </tbody>\n",
       "</table><p>"
      ],
      "text/plain": [
       "<IPython.core.display.HTML object>"
      ]
     },
     "metadata": {},
     "output_type": "display_data"
    },
    {
     "data": {
      "text/html": [
       "\n",
       "    <div>\n",
       "      \n",
       "      <progress value='89' max='174' style='width:300px; height:20px; vertical-align: middle;'></progress>\n",
       "      [ 89/174 00:05 < 00:05, 16.59 it/s, Epoch 1.52/3]\n",
       "    </div>\n",
       "    <table border=\"1\" class=\"dataframe\">\n",
       "  <thead>\n",
       "    <tr style=\"text-align: left;\">\n",
       "      <th>Step</th>\n",
       "      <th>Training Loss</th>\n",
       "    </tr>\n",
       "  </thead>\n",
       "  <tbody>\n",
       "  </tbody>\n",
       "</table><p>"
      ],
      "text/plain": [
       "<IPython.core.display.HTML object>"
      ]
     },
     "metadata": {},
     "output_type": "display_data"
    },
    {
     "data": {
      "text/html": [
       "\n",
       "    <div>\n",
       "      \n",
       "      <progress value='92' max='174' style='width:300px; height:20px; vertical-align: middle;'></progress>\n",
       "      [ 92/174 00:05 < 00:04, 16.54 it/s, Epoch 1.57/3]\n",
       "    </div>\n",
       "    <table border=\"1\" class=\"dataframe\">\n",
       "  <thead>\n",
       "    <tr style=\"text-align: left;\">\n",
       "      <th>Step</th>\n",
       "      <th>Training Loss</th>\n",
       "    </tr>\n",
       "  </thead>\n",
       "  <tbody>\n",
       "  </tbody>\n",
       "</table><p>"
      ],
      "text/plain": [
       "<IPython.core.display.HTML object>"
      ]
     },
     "metadata": {},
     "output_type": "display_data"
    },
    {
     "data": {
      "text/html": [
       "\n",
       "    <div>\n",
       "      \n",
       "      <progress value='95' max='174' style='width:300px; height:20px; vertical-align: middle;'></progress>\n",
       "      [ 95/174 00:05 < 00:04, 16.54 it/s, Epoch 1.62/3]\n",
       "    </div>\n",
       "    <table border=\"1\" class=\"dataframe\">\n",
       "  <thead>\n",
       "    <tr style=\"text-align: left;\">\n",
       "      <th>Step</th>\n",
       "      <th>Training Loss</th>\n",
       "    </tr>\n",
       "  </thead>\n",
       "  <tbody>\n",
       "  </tbody>\n",
       "</table><p>"
      ],
      "text/plain": [
       "<IPython.core.display.HTML object>"
      ]
     },
     "metadata": {},
     "output_type": "display_data"
    },
    {
     "data": {
      "text/html": [
       "\n",
       "    <div>\n",
       "      \n",
       "      <progress value='98' max='174' style='width:300px; height:20px; vertical-align: middle;'></progress>\n",
       "      [ 98/174 00:05 < 00:04, 16.55 it/s, Epoch 1.67/3]\n",
       "    </div>\n",
       "    <table border=\"1\" class=\"dataframe\">\n",
       "  <thead>\n",
       "    <tr style=\"text-align: left;\">\n",
       "      <th>Step</th>\n",
       "      <th>Training Loss</th>\n",
       "    </tr>\n",
       "  </thead>\n",
       "  <tbody>\n",
       "  </tbody>\n",
       "</table><p>"
      ],
      "text/plain": [
       "<IPython.core.display.HTML object>"
      ]
     },
     "metadata": {},
     "output_type": "display_data"
    },
    {
     "data": {
      "text/html": [
       "\n",
       "    <div>\n",
       "      \n",
       "      <progress value='101' max='174' style='width:300px; height:20px; vertical-align: middle;'></progress>\n",
       "      [101/174 00:05 < 00:04, 16.56 it/s, Epoch 1.72/3]\n",
       "    </div>\n",
       "    <table border=\"1\" class=\"dataframe\">\n",
       "  <thead>\n",
       "    <tr style=\"text-align: left;\">\n",
       "      <th>Step</th>\n",
       "      <th>Training Loss</th>\n",
       "    </tr>\n",
       "  </thead>\n",
       "  <tbody>\n",
       "  </tbody>\n",
       "</table><p>"
      ],
      "text/plain": [
       "<IPython.core.display.HTML object>"
      ]
     },
     "metadata": {},
     "output_type": "display_data"
    },
    {
     "data": {
      "text/html": [
       "\n",
       "    <div>\n",
       "      \n",
       "      <progress value='104' max='174' style='width:300px; height:20px; vertical-align: middle;'></progress>\n",
       "      [104/174 00:06 < 00:04, 16.57 it/s, Epoch 1.78/3]\n",
       "    </div>\n",
       "    <table border=\"1\" class=\"dataframe\">\n",
       "  <thead>\n",
       "    <tr style=\"text-align: left;\">\n",
       "      <th>Step</th>\n",
       "      <th>Training Loss</th>\n",
       "    </tr>\n",
       "  </thead>\n",
       "  <tbody>\n",
       "  </tbody>\n",
       "</table><p>"
      ],
      "text/plain": [
       "<IPython.core.display.HTML object>"
      ]
     },
     "metadata": {},
     "output_type": "display_data"
    },
    {
     "data": {
      "text/html": [
       "\n",
       "    <div>\n",
       "      \n",
       "      <progress value='107' max='174' style='width:300px; height:20px; vertical-align: middle;'></progress>\n",
       "      [107/174 00:06 < 00:04, 16.57 it/s, Epoch 1.83/3]\n",
       "    </div>\n",
       "    <table border=\"1\" class=\"dataframe\">\n",
       "  <thead>\n",
       "    <tr style=\"text-align: left;\">\n",
       "      <th>Step</th>\n",
       "      <th>Training Loss</th>\n",
       "    </tr>\n",
       "  </thead>\n",
       "  <tbody>\n",
       "  </tbody>\n",
       "</table><p>"
      ],
      "text/plain": [
       "<IPython.core.display.HTML object>"
      ]
     },
     "metadata": {},
     "output_type": "display_data"
    },
    {
     "data": {
      "text/html": [
       "\n",
       "    <div>\n",
       "      \n",
       "      <progress value='110' max='174' style='width:300px; height:20px; vertical-align: middle;'></progress>\n",
       "      [110/174 00:06 < 00:03, 16.56 it/s, Epoch 1.88/3]\n",
       "    </div>\n",
       "    <table border=\"1\" class=\"dataframe\">\n",
       "  <thead>\n",
       "    <tr style=\"text-align: left;\">\n",
       "      <th>Step</th>\n",
       "      <th>Training Loss</th>\n",
       "    </tr>\n",
       "  </thead>\n",
       "  <tbody>\n",
       "  </tbody>\n",
       "</table><p>"
      ],
      "text/plain": [
       "<IPython.core.display.HTML object>"
      ]
     },
     "metadata": {},
     "output_type": "display_data"
    },
    {
     "data": {
      "text/html": [
       "\n",
       "    <div>\n",
       "      \n",
       "      <progress value='113' max='174' style='width:300px; height:20px; vertical-align: middle;'></progress>\n",
       "      [113/174 00:06 < 00:03, 16.56 it/s, Epoch 1.93/3]\n",
       "    </div>\n",
       "    <table border=\"1\" class=\"dataframe\">\n",
       "  <thead>\n",
       "    <tr style=\"text-align: left;\">\n",
       "      <th>Step</th>\n",
       "      <th>Training Loss</th>\n",
       "    </tr>\n",
       "  </thead>\n",
       "  <tbody>\n",
       "  </tbody>\n",
       "</table><p>"
      ],
      "text/plain": [
       "<IPython.core.display.HTML object>"
      ]
     },
     "metadata": {},
     "output_type": "display_data"
    },
    {
     "data": {
      "text/html": [
       "\n",
       "    <div>\n",
       "      \n",
       "      <progress value='116' max='174' style='width:300px; height:20px; vertical-align: middle;'></progress>\n",
       "      [116/174 00:06 < 00:03, 16.57 it/s, Epoch 1.98/3]\n",
       "    </div>\n",
       "    <table border=\"1\" class=\"dataframe\">\n",
       "  <thead>\n",
       "    <tr style=\"text-align: left;\">\n",
       "      <th>Step</th>\n",
       "      <th>Training Loss</th>\n",
       "    </tr>\n",
       "  </thead>\n",
       "  <tbody>\n",
       "  </tbody>\n",
       "</table><p>"
      ],
      "text/plain": [
       "<IPython.core.display.HTML object>"
      ]
     },
     "metadata": {},
     "output_type": "display_data"
    },
    {
     "data": {
      "text/html": [
       "\n",
       "    <div>\n",
       "      \n",
       "      <progress value='119' max='174' style='width:300px; height:20px; vertical-align: middle;'></progress>\n",
       "      [119/174 00:07 < 00:03, 16.58 it/s, Epoch 2.03/3]\n",
       "    </div>\n",
       "    <table border=\"1\" class=\"dataframe\">\n",
       "  <thead>\n",
       "    <tr style=\"text-align: left;\">\n",
       "      <th>Step</th>\n",
       "      <th>Training Loss</th>\n",
       "    </tr>\n",
       "  </thead>\n",
       "  <tbody>\n",
       "  </tbody>\n",
       "</table><p>"
      ],
      "text/plain": [
       "<IPython.core.display.HTML object>"
      ]
     },
     "metadata": {},
     "output_type": "display_data"
    },
    {
     "data": {
      "text/html": [
       "\n",
       "    <div>\n",
       "      \n",
       "      <progress value='122' max='174' style='width:300px; height:20px; vertical-align: middle;'></progress>\n",
       "      [122/174 00:07 < 00:03, 16.59 it/s, Epoch 2.09/3]\n",
       "    </div>\n",
       "    <table border=\"1\" class=\"dataframe\">\n",
       "  <thead>\n",
       "    <tr style=\"text-align: left;\">\n",
       "      <th>Step</th>\n",
       "      <th>Training Loss</th>\n",
       "    </tr>\n",
       "  </thead>\n",
       "  <tbody>\n",
       "  </tbody>\n",
       "</table><p>"
      ],
      "text/plain": [
       "<IPython.core.display.HTML object>"
      ]
     },
     "metadata": {},
     "output_type": "display_data"
    },
    {
     "data": {
      "text/html": [
       "\n",
       "    <div>\n",
       "      \n",
       "      <progress value='125' max='174' style='width:300px; height:20px; vertical-align: middle;'></progress>\n",
       "      [125/174 00:07 < 00:02, 16.59 it/s, Epoch 2.14/3]\n",
       "    </div>\n",
       "    <table border=\"1\" class=\"dataframe\">\n",
       "  <thead>\n",
       "    <tr style=\"text-align: left;\">\n",
       "      <th>Step</th>\n",
       "      <th>Training Loss</th>\n",
       "    </tr>\n",
       "  </thead>\n",
       "  <tbody>\n",
       "  </tbody>\n",
       "</table><p>"
      ],
      "text/plain": [
       "<IPython.core.display.HTML object>"
      ]
     },
     "metadata": {},
     "output_type": "display_data"
    },
    {
     "data": {
      "text/html": [
       "\n",
       "    <div>\n",
       "      \n",
       "      <progress value='128' max='174' style='width:300px; height:20px; vertical-align: middle;'></progress>\n",
       "      [128/174 00:07 < 00:02, 16.60 it/s, Epoch 2.19/3]\n",
       "    </div>\n",
       "    <table border=\"1\" class=\"dataframe\">\n",
       "  <thead>\n",
       "    <tr style=\"text-align: left;\">\n",
       "      <th>Step</th>\n",
       "      <th>Training Loss</th>\n",
       "    </tr>\n",
       "  </thead>\n",
       "  <tbody>\n",
       "  </tbody>\n",
       "</table><p>"
      ],
      "text/plain": [
       "<IPython.core.display.HTML object>"
      ]
     },
     "metadata": {},
     "output_type": "display_data"
    },
    {
     "data": {
      "text/html": [
       "\n",
       "    <div>\n",
       "      \n",
       "      <progress value='131' max='174' style='width:300px; height:20px; vertical-align: middle;'></progress>\n",
       "      [131/174 00:07 < 00:02, 16.59 it/s, Epoch 2.24/3]\n",
       "    </div>\n",
       "    <table border=\"1\" class=\"dataframe\">\n",
       "  <thead>\n",
       "    <tr style=\"text-align: left;\">\n",
       "      <th>Step</th>\n",
       "      <th>Training Loss</th>\n",
       "    </tr>\n",
       "  </thead>\n",
       "  <tbody>\n",
       "  </tbody>\n",
       "</table><p>"
      ],
      "text/plain": [
       "<IPython.core.display.HTML object>"
      ]
     },
     "metadata": {},
     "output_type": "display_data"
    },
    {
     "data": {
      "text/html": [
       "\n",
       "    <div>\n",
       "      \n",
       "      <progress value='134' max='174' style='width:300px; height:20px; vertical-align: middle;'></progress>\n",
       "      [134/174 00:07 < 00:02, 16.59 it/s, Epoch 2.29/3]\n",
       "    </div>\n",
       "    <table border=\"1\" class=\"dataframe\">\n",
       "  <thead>\n",
       "    <tr style=\"text-align: left;\">\n",
       "      <th>Step</th>\n",
       "      <th>Training Loss</th>\n",
       "    </tr>\n",
       "  </thead>\n",
       "  <tbody>\n",
       "  </tbody>\n",
       "</table><p>"
      ],
      "text/plain": [
       "<IPython.core.display.HTML object>"
      ]
     },
     "metadata": {},
     "output_type": "display_data"
    },
    {
     "data": {
      "text/html": [
       "\n",
       "    <div>\n",
       "      \n",
       "      <progress value='137' max='174' style='width:300px; height:20px; vertical-align: middle;'></progress>\n",
       "      [137/174 00:08 < 00:02, 16.59 it/s, Epoch 2.34/3]\n",
       "    </div>\n",
       "    <table border=\"1\" class=\"dataframe\">\n",
       "  <thead>\n",
       "    <tr style=\"text-align: left;\">\n",
       "      <th>Step</th>\n",
       "      <th>Training Loss</th>\n",
       "    </tr>\n",
       "  </thead>\n",
       "  <tbody>\n",
       "  </tbody>\n",
       "</table><p>"
      ],
      "text/plain": [
       "<IPython.core.display.HTML object>"
      ]
     },
     "metadata": {},
     "output_type": "display_data"
    },
    {
     "data": {
      "text/html": [
       "\n",
       "    <div>\n",
       "      \n",
       "      <progress value='140' max='174' style='width:300px; height:20px; vertical-align: middle;'></progress>\n",
       "      [140/174 00:08 < 00:02, 16.59 it/s, Epoch 2.40/3]\n",
       "    </div>\n",
       "    <table border=\"1\" class=\"dataframe\">\n",
       "  <thead>\n",
       "    <tr style=\"text-align: left;\">\n",
       "      <th>Step</th>\n",
       "      <th>Training Loss</th>\n",
       "    </tr>\n",
       "  </thead>\n",
       "  <tbody>\n",
       "  </tbody>\n",
       "</table><p>"
      ],
      "text/plain": [
       "<IPython.core.display.HTML object>"
      ]
     },
     "metadata": {},
     "output_type": "display_data"
    },
    {
     "data": {
      "text/html": [
       "\n",
       "    <div>\n",
       "      \n",
       "      <progress value='143' max='174' style='width:300px; height:20px; vertical-align: middle;'></progress>\n",
       "      [143/174 00:08 < 00:01, 16.58 it/s, Epoch 2.45/3]\n",
       "    </div>\n",
       "    <table border=\"1\" class=\"dataframe\">\n",
       "  <thead>\n",
       "    <tr style=\"text-align: left;\">\n",
       "      <th>Step</th>\n",
       "      <th>Training Loss</th>\n",
       "    </tr>\n",
       "  </thead>\n",
       "  <tbody>\n",
       "  </tbody>\n",
       "</table><p>"
      ],
      "text/plain": [
       "<IPython.core.display.HTML object>"
      ]
     },
     "metadata": {},
     "output_type": "display_data"
    },
    {
     "data": {
      "text/html": [
       "\n",
       "    <div>\n",
       "      \n",
       "      <progress value='146' max='174' style='width:300px; height:20px; vertical-align: middle;'></progress>\n",
       "      [146/174 00:08 < 00:01, 16.59 it/s, Epoch 2.50/3]\n",
       "    </div>\n",
       "    <table border=\"1\" class=\"dataframe\">\n",
       "  <thead>\n",
       "    <tr style=\"text-align: left;\">\n",
       "      <th>Step</th>\n",
       "      <th>Training Loss</th>\n",
       "    </tr>\n",
       "  </thead>\n",
       "  <tbody>\n",
       "  </tbody>\n",
       "</table><p>"
      ],
      "text/plain": [
       "<IPython.core.display.HTML object>"
      ]
     },
     "metadata": {},
     "output_type": "display_data"
    },
    {
     "data": {
      "text/html": [
       "\n",
       "    <div>\n",
       "      \n",
       "      <progress value='149' max='174' style='width:300px; height:20px; vertical-align: middle;'></progress>\n",
       "      [149/174 00:08 < 00:01, 16.58 it/s, Epoch 2.55/3]\n",
       "    </div>\n",
       "    <table border=\"1\" class=\"dataframe\">\n",
       "  <thead>\n",
       "    <tr style=\"text-align: left;\">\n",
       "      <th>Step</th>\n",
       "      <th>Training Loss</th>\n",
       "    </tr>\n",
       "  </thead>\n",
       "  <tbody>\n",
       "  </tbody>\n",
       "</table><p>"
      ],
      "text/plain": [
       "<IPython.core.display.HTML object>"
      ]
     },
     "metadata": {},
     "output_type": "display_data"
    },
    {
     "data": {
      "text/html": [
       "\n",
       "    <div>\n",
       "      \n",
       "      <progress value='152' max='174' style='width:300px; height:20px; vertical-align: middle;'></progress>\n",
       "      [152/174 00:09 < 00:01, 16.58 it/s, Epoch 2.60/3]\n",
       "    </div>\n",
       "    <table border=\"1\" class=\"dataframe\">\n",
       "  <thead>\n",
       "    <tr style=\"text-align: left;\">\n",
       "      <th>Step</th>\n",
       "      <th>Training Loss</th>\n",
       "    </tr>\n",
       "  </thead>\n",
       "  <tbody>\n",
       "  </tbody>\n",
       "</table><p>"
      ],
      "text/plain": [
       "<IPython.core.display.HTML object>"
      ]
     },
     "metadata": {},
     "output_type": "display_data"
    },
    {
     "data": {
      "text/html": [
       "\n",
       "    <div>\n",
       "      \n",
       "      <progress value='155' max='174' style='width:300px; height:20px; vertical-align: middle;'></progress>\n",
       "      [155/174 00:09 < 00:01, 16.59 it/s, Epoch 2.66/3]\n",
       "    </div>\n",
       "    <table border=\"1\" class=\"dataframe\">\n",
       "  <thead>\n",
       "    <tr style=\"text-align: left;\">\n",
       "      <th>Step</th>\n",
       "      <th>Training Loss</th>\n",
       "    </tr>\n",
       "  </thead>\n",
       "  <tbody>\n",
       "  </tbody>\n",
       "</table><p>"
      ],
      "text/plain": [
       "<IPython.core.display.HTML object>"
      ]
     },
     "metadata": {},
     "output_type": "display_data"
    },
    {
     "data": {
      "text/html": [
       "\n",
       "    <div>\n",
       "      \n",
       "      <progress value='158' max='174' style='width:300px; height:20px; vertical-align: middle;'></progress>\n",
       "      [158/174 00:09 < 00:00, 16.60 it/s, Epoch 2.71/3]\n",
       "    </div>\n",
       "    <table border=\"1\" class=\"dataframe\">\n",
       "  <thead>\n",
       "    <tr style=\"text-align: left;\">\n",
       "      <th>Step</th>\n",
       "      <th>Training Loss</th>\n",
       "    </tr>\n",
       "  </thead>\n",
       "  <tbody>\n",
       "  </tbody>\n",
       "</table><p>"
      ],
      "text/plain": [
       "<IPython.core.display.HTML object>"
      ]
     },
     "metadata": {},
     "output_type": "display_data"
    },
    {
     "data": {
      "text/html": [
       "\n",
       "    <div>\n",
       "      \n",
       "      <progress value='161' max='174' style='width:300px; height:20px; vertical-align: middle;'></progress>\n",
       "      [161/174 00:09 < 00:00, 16.59 it/s, Epoch 2.76/3]\n",
       "    </div>\n",
       "    <table border=\"1\" class=\"dataframe\">\n",
       "  <thead>\n",
       "    <tr style=\"text-align: left;\">\n",
       "      <th>Step</th>\n",
       "      <th>Training Loss</th>\n",
       "    </tr>\n",
       "  </thead>\n",
       "  <tbody>\n",
       "  </tbody>\n",
       "</table><p>"
      ],
      "text/plain": [
       "<IPython.core.display.HTML object>"
      ]
     },
     "metadata": {},
     "output_type": "display_data"
    },
    {
     "data": {
      "text/html": [
       "\n",
       "    <div>\n",
       "      \n",
       "      <progress value='164' max='174' style='width:300px; height:20px; vertical-align: middle;'></progress>\n",
       "      [164/174 00:09 < 00:00, 16.60 it/s, Epoch 2.81/3]\n",
       "    </div>\n",
       "    <table border=\"1\" class=\"dataframe\">\n",
       "  <thead>\n",
       "    <tr style=\"text-align: left;\">\n",
       "      <th>Step</th>\n",
       "      <th>Training Loss</th>\n",
       "    </tr>\n",
       "  </thead>\n",
       "  <tbody>\n",
       "  </tbody>\n",
       "</table><p>"
      ],
      "text/plain": [
       "<IPython.core.display.HTML object>"
      ]
     },
     "metadata": {},
     "output_type": "display_data"
    },
    {
     "data": {
      "text/html": [
       "\n",
       "    <div>\n",
       "      \n",
       "      <progress value='167' max='174' style='width:300px; height:20px; vertical-align: middle;'></progress>\n",
       "      [167/174 00:09 < 00:00, 16.60 it/s, Epoch 2.86/3]\n",
       "    </div>\n",
       "    <table border=\"1\" class=\"dataframe\">\n",
       "  <thead>\n",
       "    <tr style=\"text-align: left;\">\n",
       "      <th>Step</th>\n",
       "      <th>Training Loss</th>\n",
       "    </tr>\n",
       "  </thead>\n",
       "  <tbody>\n",
       "  </tbody>\n",
       "</table><p>"
      ],
      "text/plain": [
       "<IPython.core.display.HTML object>"
      ]
     },
     "metadata": {},
     "output_type": "display_data"
    },
    {
     "data": {
      "text/html": [
       "\n",
       "    <div>\n",
       "      \n",
       "      <progress value='170' max='174' style='width:300px; height:20px; vertical-align: middle;'></progress>\n",
       "      [170/174 00:10 < 00:00, 16.61 it/s, Epoch 2.91/3]\n",
       "    </div>\n",
       "    <table border=\"1\" class=\"dataframe\">\n",
       "  <thead>\n",
       "    <tr style=\"text-align: left;\">\n",
       "      <th>Step</th>\n",
       "      <th>Training Loss</th>\n",
       "    </tr>\n",
       "  </thead>\n",
       "  <tbody>\n",
       "  </tbody>\n",
       "</table><p>"
      ],
      "text/plain": [
       "<IPython.core.display.HTML object>"
      ]
     },
     "metadata": {},
     "output_type": "display_data"
    },
    {
     "data": {
      "text/html": [
       "\n",
       "    <div>\n",
       "      \n",
       "      <progress value='173' max='174' style='width:300px; height:20px; vertical-align: middle;'></progress>\n",
       "      [173/174 00:10 < 00:00, 16.60 it/s, Epoch 2.97/3]\n",
       "    </div>\n",
       "    <table border=\"1\" class=\"dataframe\">\n",
       "  <thead>\n",
       "    <tr style=\"text-align: left;\">\n",
       "      <th>Step</th>\n",
       "      <th>Training Loss</th>\n",
       "    </tr>\n",
       "  </thead>\n",
       "  <tbody>\n",
       "  </tbody>\n",
       "</table><p>"
      ],
      "text/plain": [
       "<IPython.core.display.HTML object>"
      ]
     },
     "metadata": {},
     "output_type": "display_data"
    },
    {
     "data": {
      "text/html": [
       "\n",
       "    <div>\n",
       "      \n",
       "      <progress value='174' max='174' style='width:300px; height:20px; vertical-align: middle;'></progress>\n",
       "      [174/174 00:10, Epoch 2.98/3]\n",
       "    </div>\n",
       "    <table border=\"1\" class=\"dataframe\">\n",
       "  <thead>\n",
       "    <tr style=\"text-align: left;\">\n",
       "      <th>Step</th>\n",
       "      <th>Training Loss</th>\n",
       "    </tr>\n",
       "  </thead>\n",
       "  <tbody>\n",
       "  </tbody>\n",
       "</table><p>"
      ],
      "text/plain": [
       "<IPython.core.display.HTML object>"
      ]
     },
     "metadata": {},
     "output_type": "display_data"
    },
    {
     "data": {
      "text/html": [
       "\n",
       "    <div>\n",
       "      \n",
       "      <progress value='175' max='174' style='width:300px; height:20px; vertical-align: middle;'></progress>\n",
       "      [174/174 00:10, Epoch 3/3]\n",
       "    </div>\n",
       "    <table border=\"1\" class=\"dataframe\">\n",
       "  <thead>\n",
       "    <tr style=\"text-align: left;\">\n",
       "      <th>Step</th>\n",
       "      <th>Training Loss</th>\n",
       "    </tr>\n",
       "  </thead>\n",
       "  <tbody>\n",
       "  </tbody>\n",
       "</table><p>"
      ],
      "text/plain": [
       "<IPython.core.display.HTML object>"
      ]
     },
     "metadata": {},
     "output_type": "display_data"
    },
    {
     "name": "stderr",
     "output_type": "stream",
     "text": [
      "***** Running training *****\n",
      "  Num examples = 462\n",
      "  Num Epochs = 3\n",
      "  Instantaneous batch size per device = 4\n",
      "  Total train batch size (w. parallel, distributed & accumulation) = 8\n",
      "  Gradient Accumulation steps = 1\n",
      "  Total optimization steps = 174\n",
      "\n",
      "\n",
      "Training completed. Do not forget to share your model on huggingface.co/models =)\n",
      "\n",
      "\n"
     ]
    },
    {
     "data": {
      "text/html": [
       "\n",
       "    <div>\n",
       "      \n",
       "      <progress value='174' max='174' style='width:300px; height:20px; vertical-align: middle;'></progress>\n",
       "      [174/174 00:10, Epoch 3/3]\n",
       "    </div>\n",
       "    <table border=\"1\" class=\"dataframe\">\n",
       "  <thead>\n",
       "    <tr style=\"text-align: left;\">\n",
       "      <th>Step</th>\n",
       "      <th>Training Loss</th>\n",
       "    </tr>\n",
       "  </thead>\n",
       "  <tbody>\n",
       "  </tbody>\n",
       "</table><p>"
      ],
      "text/plain": [
       "<IPython.core.display.HTML object>"
      ]
     },
     "metadata": {},
     "output_type": "display_data"
    },
    {
     "data": {
      "text/plain": [
       "TrainOutput(global_step=174, training_loss=4.57403248754041, metrics={'train_runtime': 13.6639, 'train_samples_per_second': 101.435, 'train_steps_per_second': 12.734, 'total_flos': 90537689088000.0, 'train_loss': 4.57403248754041, 'epoch': 3.0})"
      ]
     },
     "execution_count": 15,
     "metadata": {},
     "output_type": "execute_result"
    }
   ],
   "source": [
    "#!g2.2\n",
    "# Обучение модели\n",
    "trainer.train()"
   ]
  },
  {
   "cell_type": "code",
   "execution_count": 16,
   "id": "a70d8a23",
   "metadata": {
    "cellId": "yjexyha94wfoycnktzrio",
    "collapsed": true,
    "jupyter": {
     "outputs_hidden": true
    }
   },
   "outputs": [
    {
     "name": "stderr",
     "output_type": "stream",
     "text": [
      "Saving model checkpoint to /home/jupyter/work/resources/14_Transfer_learning/results/\n",
      "Configuration saved in /home/jupyter/work/resources/14_Transfer_learning/results/config.json\n",
      "Model weights saved in /home/jupyter/work/resources/14_Transfer_learning/results/pytorch_model.bin\n"
     ]
    }
   ],
   "source": [
    "#!g2.2\n",
    "# Сохранение модели для последующей перезагрузки (from_pretrained())\n",
    "trainer.save_model()"
   ]
  },
  {
   "cell_type": "code",
   "execution_count": 17,
   "id": "e02b7568",
   "metadata": {
    "cellId": "brrcun07ekthdetyz00x09",
    "collapsed": true,
    "jupyter": {
     "outputs_hidden": true
    }
   },
   "outputs": [
    {
     "name": "stderr",
     "output_type": "stream",
     "text": [
      "tokenizer config file saved in /home/jupyter/work/resources/14_Transfer_learning/results/gpt2-chief/tokenizer_config.json\n",
      "Special tokens file saved in /home/jupyter/work/resources/14_Transfer_learning/results/gpt2-chief/special_tokens_map.json\n",
      "Configuration saved in /home/jupyter/work/resources/14_Transfer_learning/results/model_gpt_chf/config.json\n",
      "Model weights saved in /home/jupyter/work/resources/14_Transfer_learning/results/model_gpt_chf/pytorch_model.bin\n"
     ]
    }
   ],
   "source": [
    "#!g2.2\n",
    "# Сохранение словаря токенайзера с добавленными токенами, специальными токенами атрибутами класса и входными установками токенайзера\n",
    "tokenizer.save_pretrained(Path(RES_PATH).joinpath('gpt2-chief'))\n",
    "\n",
    "# Сохранение модели и ее конфигурационного файла\n",
    "model.save_pretrained(Path(RES_PATH).joinpath('model_gpt_chf'))"
   ]
  },
  {
   "cell_type": "markdown",
   "id": "7d4ffa8c",
   "metadata": {
    "cellId": "du0ave19we11zxyexwe4gq",
    "execution_id": "ac832af6-0863-4914-82b1-df8c53ffbf64"
   },
   "source": [
    "### <a id='Генерация_1_14'>Генерация текста</a>"
   ]
  },
  {
   "cell_type": "code",
   "execution_count": 18,
   "id": "552ff70d",
   "metadata": {
    "cellId": "rlgrli5joi5mgqpzj26ik",
    "collapsed": true,
    "jupyter": {
     "outputs_hidden": true
    }
   },
   "outputs": [
    {
     "name": "stderr",
     "output_type": "stream",
     "text": [
      "loading file /home/jupyter/work/resources/14_Transfer_learning/results/gpt2-chief/vocab.json\n",
      "loading file /home/jupyter/work/resources/14_Transfer_learning/results/gpt2-chief/merges.txt\n",
      "loading file /home/jupyter/work/resources/14_Transfer_learning/results/gpt2-chief/tokenizer.json\n",
      "loading file /home/jupyter/work/resources/14_Transfer_learning/results/gpt2-chief/added_tokens.json\n",
      "loading file /home/jupyter/work/resources/14_Transfer_learning/results/gpt2-chief/special_tokens_map.json\n",
      "loading file /home/jupyter/work/resources/14_Transfer_learning/results/gpt2-chief/tokenizer_config.json\n",
      "loading configuration file /home/jupyter/work/resources/14_Transfer_learning/results/model_gpt_chf/config.json\n",
      "Model config GPT2Config {\n",
      "  \"_name_or_path\": \"/home/jupyter/work/resources/14_Transfer_learning/results/model_gpt_chf\",\n",
      "  \"activation_function\": \"gelu_new\",\n",
      "  \"architectures\": [\n",
      "    \"GPT2LMHeadModel\"\n",
      "  ],\n",
      "  \"attn_pdrop\": 0.1,\n",
      "  \"bos_token_id\": 50256,\n",
      "  \"embd_pdrop\": 0.1,\n",
      "  \"eos_token_id\": 50256,\n",
      "  \"gradient_checkpointing\": false,\n",
      "  \"initializer_range\": 0.02,\n",
      "  \"layer_norm_epsilon\": 1e-05,\n",
      "  \"model_type\": \"gpt2\",\n",
      "  \"n_ctx\": 2048,\n",
      "  \"n_embd\": 768,\n",
      "  \"n_head\": 12,\n",
      "  \"n_inner\": null,\n",
      "  \"n_layer\": 12,\n",
      "  \"n_positions\": 2048,\n",
      "  \"reorder_and_upcast_attn\": false,\n",
      "  \"resid_pdrop\": 0.1,\n",
      "  \"scale_attn_by_inverse_layer_idx\": false,\n",
      "  \"scale_attn_weights\": true,\n",
      "  \"summary_activation\": null,\n",
      "  \"summary_first_dropout\": 0.1,\n",
      "  \"summary_proj_to_labels\": true,\n",
      "  \"summary_type\": \"cls_index\",\n",
      "  \"summary_use_proj\": true,\n",
      "  \"torch_dtype\": \"float32\",\n",
      "  \"transformers_version\": \"4.14.0\",\n",
      "  \"use_cache\": true,\n",
      "  \"vocab_size\": 50264\n",
      "}\n",
      "\n",
      "loading weights file /home/jupyter/work/resources/14_Transfer_learning/results/model_gpt_chf/pytorch_model.bin\n",
      "All model checkpoint weights were used when initializing GPT2LMHeadModel.\n",
      "\n",
      "All the weights of GPT2LMHeadModel were initialized from the model checkpoint at /home/jupyter/work/resources/14_Transfer_learning/results/model_gpt_chf.\n",
      "If your task is similar to the task the model of the checkpoint was trained on, you can already use GPT2LMHeadModel for predictions without further training.\n"
     ]
    }
   ],
   "source": [
    "#!g2.2\n",
    "# Перезагрузка токенизатора\n",
    "tokenizer = AutoTokenizer.from_pretrained(Path(RES_PATH).joinpath('gpt2-chief'))\n",
    "\n",
    "# Загрузка модели\n",
    "model1 = AutoModelForCausalLM.from_pretrained(Path(RES_PATH).joinpath('model_gpt_chf'))"
   ]
  },
  {
   "cell_type": "code",
   "execution_count": 19,
   "id": "399cc420",
   "metadata": {
    "cellId": "6k82qn3xy6dn0d2oi2rs",
    "collapsed": true,
    "jupyter": {
     "outputs_hidden": true
    }
   },
   "outputs": [
    {
     "name": "stdout",
     "output_type": "stream",
     "text": [
      "привет ^_^   я не знаю, что это такое и как оно работает. но у меня есть подозрение, что эта штука может работать только в том случае, если она подключена к интернету с помощью USB-кабеля (впрочем,\n"
     ]
    }
   ],
   "source": [
    "#!g2.2\n",
    "# Генерация текста\n",
    "prefix = \"привет \"\n",
    "tokens = tokenizer(prefix, return_tensors='pt')\n",
    "size = tokens['input_ids'].shape[1]\n",
    "output = model1.generate( \n",
    "    **tokens, \n",
    "    #end_token=end_token_id,\n",
    "    do_sample=False,\n",
    "    max_length=size+50, \n",
    "    repetition_penalty=5., \n",
    "    temperature=0.5,\n",
    "    num_beams=10,\n",
    "    pad_token_id=tokenizer.eos_token_id\n",
    ")\n",
    "\n",
    "decoded = tokenizer.decode(output[0])\n",
    "result = decoded[len(prefix):]\n",
    "print(prefix + result)"
   ]
  },
  {
   "cell_type": "markdown",
   "id": "fa1eeb8f",
   "metadata": {
    "cellId": "4b93yxgysrconr1b38a4no",
    "execution_id": "708fba4f-0454-4f42-b5cc-1b180ea71ab6"
   },
   "source": [
    "# <a id='Урок_14'>Домашнее задание № 14. Transfer learning</a>"
   ]
  },
  {
   "cell_type": "markdown",
   "id": "a804f4aa",
   "metadata": {
    "cellId": "j3e07v4ez4u1wsnoizzq",
    "execution_id": "644f2820-c6a0-45c8-b82d-33e872559daf"
   },
   "source": [
    "## <a id='Подготовка_14'>Подготовка</a>"
   ]
  },
  {
   "cell_type": "code",
   "execution_count": 1,
   "id": "841d1b8b",
   "metadata": {
    "cellId": "ml9gk4h9y0m399maf8b29o"
   },
   "outputs": [],
   "source": [
    "#!g2.2\n",
    "# Импорт библиотек и модулей\n",
    "import pandas as pd\n",
    "from sklearn.model_selection import train_test_split\n",
    "import re\n",
    "from transformers import AutoTokenizer, TextDataset, DataCollatorForLanguageModeling\n",
    "from transformers import T5ForConditionalGeneration, Trainer, TrainingArguments, AutoModelForCausalLM\n",
    "from corus import load_lenta2\n",
    "from datasets import Dataset, load_from_disk\n",
    "import torch\n",
    "from pathlib import Path\n",
    "import os\n",
    "import warnings\n",
    "warnings.filterwarnings(\"ignore\")"
   ]
  },
  {
   "cell_type": "markdown",
   "id": "ab686b46",
   "metadata": {
    "cellId": "5et3mahn7lpjs18vec5h",
    "execution_id": "877566a4-0d27-4638-87ea-3400ef241fa1"
   },
   "source": [
    "## <a id='Задание_2_14'>Задание № 2</a>\n",
    "\n",
    "Обучить модель T5/ или GPT для генерации заголовков для статей.\n",
    "Взять новостные данные из https://github.com/natasha/corus load_lenta2, нам понадобиться сам текст и заголовок."
   ]
  },
  {
   "cell_type": "markdown",
   "id": "8ce477df",
   "metadata": {
    "cellId": "dwp2um7688ike3ltkb9ia",
    "execution_id": "b61940af-2068-437d-8b99-4bb495d5eb9c"
   },
   "source": [
    "### <a id='Данные_2_14'>Загрузка и подготовка данных</a>"
   ]
  },
  {
   "cell_type": "code",
   "execution_count": 2,
   "id": "acc0b188",
   "metadata": {
    "cellId": "jyxeuopdongm0wu13o85m",
    "collapsed": true,
    "jupyter": {
     "outputs_hidden": true
    }
   },
   "outputs": [
    {
     "name": "stderr",
     "output_type": "stream",
     "text": [
      " 33s\n",
      " 12450K .......... .......... .......... .......... ..........  3%  494M 33s\n",
      " 12500K .......... .......... .......... .......... ..........  3%  451M 33s\n",
      " 12550K .......... .......... .......... .......... ..........  3%  501M 32s\n",
      " 12600K .......... .......... .......... .......... ..........  3%  441M 32s\n",
      " 12650K .......... .......... .......... .......... ..........  3%  631M 32s\n",
      " 12700K .......... .......... .......... .......... ..........  3%  646M 32s\n",
      " 12750K .......... .......... .......... .......... ..........  3%  619M 32s\n",
      " 12800K .......... .......... .......... .......... ..........  3%  441M 32s\n",
      " 12850K .......... .......... .......... .......... ..........  3%  444M 32s\n",
      " 12900K .......... .......... .......... .......... ..........  3%  496M 32s\n",
      " 12950K .......... .......... .......... .......... ..........  3%  660M 31s\n",
      " 13000K .......... .......... .......... .......... ..........  3% 18.3M 31s\n",
      " 13050K .......... .......... .......... .......... ..........  3%  278M 31s\n",
      " 13100K .......... .......... .......... .......... ..........  3%  276M 31s\n",
      " 13150K .......... .......... .......... .......... ..........  3%  343M 31s\n",
      " 13200K .......... .......... .......... .......... ..........  3%  418M 31s\n",
      " 13250K .......... .......... .......... .......... ..........  3%  681M 31s\n",
      " 13300K .......... .......... .......... .......... ..........  3%  245M 31s\n",
      " 13350K .......... .......... .......... .......... ..........  3%  565M 31s\n",
      " 13400K .......... .......... .......... .......... ..........  3%  558M 30s\n",
      " 13450K .......... .......... .......... .......... ..........  3%  517M 30s\n",
      " 13500K .......... .......... .......... .......... ..........  4%  118M 30s\n",
      " 13550K .......... .......... .......... .......... ..........  4%  527M 30s\n",
      " 13600K .......... .......... .......... .......... ..........  4%  491M 30s\n",
      " 13650K .......... .......... .......... .......... ..........  4%  582M 30s\n",
      " 13700K .......... .......... .......... .......... ..........  4%  317M 30s\n",
      " 13750K .......... .......... .......... .......... ..........  4%  117M 30s\n",
      " 13800K .......... .......... .......... .......... ..........  4%  552M 30s\n",
      " 13850K .......... .......... .......... .......... ..........  4%  649M 29s\n",
      " 13900K .......... .......... .......... .......... ..........  4%  325M 29s\n",
      " 13950K .......... .......... .......... .......... ..........  4%  442M 29s\n",
      " 14000K .......... .......... .......... .......... ..........  4%  222M 29s\n",
      " 14050K .......... .......... .......... .......... ..........  4%  406M 29s\n",
      " 14100K .......... .......... .......... .......... ..........  4%  633M 29s\n",
      " 14150K .......... .......... .......... .......... ..........  4%  206M 29s\n",
      " 14200K .......... .......... .......... .......... ..........  4%  124M 29s\n",
      " 14250K .......... .......... .......... .......... ..........  4%  638M 29s\n",
      " 14300K .......... .......... .......... .......... ..........  4%  465M 28s\n",
      " 14350K .......... .......... .......... .......... ..........  4%  393M 28s\n",
      " 14400K .......... .......... .......... .......... ..........  4%  532M 28s\n",
      " 14450K .......... .......... .......... .......... ..........  4%  492K 30s\n",
      " 14500K .......... .......... .......... .......... ..........  4%  218M 30s\n",
      " 14550K .......... .......... .......... .......... ..........  4%  344M 30s\n",
      " 14600K .......... .......... .......... .......... ..........  4%  291M 30s\n",
      " 14650K .......... .......... .......... .......... ..........  4%  347M 30s\n",
      " 14700K .......... .......... .......... .......... ..........  4%  595M 30s\n",
      " 14750K .......... .......... .......... .......... ..........  4%  660M 30s\n",
      " 14800K .......... .......... .......... .......... ..........  4% 47.0M 30s\n",
      " 14850K .......... .......... .......... .......... ..........  4% 14.5M 30s\n",
      " 14900K .......... .......... .......... .......... ..........  4%  232M 30s\n",
      " 14950K .......... .......... .......... .......... ..........  4%  455M 29s\n",
      " 15000K .......... .......... .......... .......... ..........  4%  419M 29s\n",
      " 15050K .......... .......... .......... .......... ..........  4%  506M 29s\n",
      " 15100K .......... .......... .......... .......... ..........  4%  626M 29s\n",
      " 15150K .......... .......... .......... .......... ..........  4%  640M 29s\n",
      " 15200K .......... .......... .......... .......... ..........  4%  366M 29s\n",
      " 15250K .......... .......... .......... .......... ..........  4%  628M 29s\n",
      " 15300K .......... .......... .......... .......... ..........  4%  443M 29s\n",
      " 15350K .......... .......... .......... .......... ..........  4%  117M 29s\n",
      " 15400K .......... .......... .......... .......... ..........  4%  410M 29s\n",
      " 15450K .......... .......... .......... .......... ..........  4%  652M 29s\n",
      " 15500K .......... .......... .......... .......... ..........  4%  646M 28s\n",
      " 15550K .......... .......... .......... .......... ..........  4%  207M 28s\n",
      " 15600K .......... .......... .......... .......... ..........  4%  372M 28s\n",
      " 15650K .......... .......... .......... .......... ..........  4%  600M 28s\n",
      " 15700K .......... .......... .......... .......... ..........  4%  485M 28s\n",
      " 15750K .......... .......... .......... .......... ..........  4%  198M 28s\n",
      " 15800K .......... .......... .......... .......... ..........  4%  443M 28s\n",
      " 15850K .......... .......... .......... .......... ..........  4%  541M 28s\n",
      " 15900K .......... .......... .......... .......... ..........  4%  154M 28s\n",
      " 15950K .......... .......... .......... .......... ..........  4%  629M 28s\n",
      " 16000K .......... .......... .......... .......... ..........  4%  156M 28s\n",
      " 16050K .......... .......... .......... .......... ..........  4%  639M 27s\n",
      " 16100K .......... .......... .......... .......... ..........  4%  628M 27s\n",
      " 16150K .......... .......... .......... .......... ..........  4%  340M 27s\n",
      " 16200K .......... .......... .......... .......... ..........  4%  586M 27s\n",
      " 16250K .......... .......... .......... .......... ..........  4%  201M 27s\n",
      " 16300K .......... .......... .......... .......... ..........  4%  640M 27s\n",
      " 16350K .......... .......... .......... .......... ..........  4%  433K 29s\n",
      " 16400K .......... .......... .......... .......... ..........  4%  103M 29s\n",
      " 16450K .......... .......... .......... .......... ..........  4%  306M 29s\n",
      " 16500K .......... .......... .......... .......... ..........  4%  355M 29s\n",
      " 16550K .......... .......... .......... .......... ..........  4%  510M 29s\n",
      " 16600K .......... .......... .......... .......... ..........  4%  419M 29s\n",
      " 16650K .......... .......... .......... .......... ..........  4%  609M 29s\n",
      " 16700K .......... .......... .......... .......... ..........  4%  662M 29s\n",
      " 16750K .......... .......... .......... .......... ..........  4%  219M 28s\n",
      " 16800K .......... .......... .......... .......... ..........  4%  442M 28s\n",
      " 16850K .......... .......... .......... .......... ..........  5%  640M 28s\n",
      " 16900K .......... .......... .......... .......... ..........  5%  158M 28s\n",
      " 16950K .......... .......... .......... .......... ..........  5%  326M 28s\n",
      " 17000K .......... .......... .......... .......... ..........  5%  438M 28s\n",
      " 17050K .......... .......... .......... .......... ..........  5%  520M 28s\n",
      " 17100K .......... .......... .......... .......... ..........  5%  631M 28s\n",
      " 17150K .......... .......... .......... .......... ..........  5% 79.1M 28s\n",
      " 17200K .......... .......... .......... .......... ..........  5%  534M 28s\n",
      " 17250K .......... .......... .......... .......... ..........  5%  500M 28s\n",
      " 17300K .......... .......... .......... .......... ..........  5%  467M 28s\n",
      " 17350K .......... .......... .......... .......... ..........  5%  189M 27s\n",
      " 17400K .......... .......... .......... .......... ..........  5%  535M 27s\n",
      " 17450K .......... .......... .......... .......... ..........  5%  675M 27s\n",
      " 17500K .......... .......... .......... .......... ..........  5%  600M 27s\n",
      " 17550K .......... .......... .......... .......... ..........  5%  288M 27s\n",
      " 17600K .......... .......... .......... .......... ..........  5%  437M 27s\n",
      " 17650K .......... .......... .......... .......... ..........  5%  610M 27s\n",
      " 17700K .......... .......... .......... .......... ..........  5%  446M 27s\n",
      " 17750K .......... .......... .......... .......... ..........  5%  108M 27s\n",
      " 17800K .......... .......... .......... .......... ..........  5%  441M 27s\n",
      " 17850K .......... .......... .......... .......... ..........  5%  636M 27s\n",
      " 17900K .......... .......... .......... .......... ..........  5%  600M 27s\n",
      " 17950K .......... .......... .......... .......... ..........  5%  300M 27s\n",
      " 18000K .......... .......... .......... .......... ..........  5%  481M 26s\n",
      " 18050K .......... .......... .......... .......... ..........  5%  613M 26s\n",
      " 18100K .......... .......... .......... .......... ..........  5%  319M 26s\n",
      " 18150K .......... .......... .......... .......... ..........  5%  194M 26s\n",
      " 18200K .......... .......... .......... .......... ..........  5%  537M 26s\n",
      " 18250K .......... .......... .......... .......... ..........  5%  632M 26s\n",
      " 18300K .......... .......... .......... .......... ..........  5%  272M 26s\n",
      " 18350K .......... .......... .......... .......... ..........  5%  604M 26s\n",
      " 18400K .......... .......... .......... .......... ..........  5%  126M 26s\n",
      " 18450K .......... .......... .......... .......... ..........  5%  616M 26s\n",
      " 18500K .......... .......... .......... .......... ..........  5%  229M 26s\n",
      " 18550K .......... .......... .......... .......... ..........  5%  563M 26s\n",
      " 18600K .......... .......... .......... .......... ..........  5%  581M 26s\n",
      " 18650K .......... .......... .......... .......... ..........  5%  351M 26s\n",
      " 18700K .......... .......... .......... .......... ..........  5%  450M 25s\n",
      " 18750K .......... .......... .......... .......... ..........  5%  569M 25s\n",
      " 18800K .......... .......... .......... .......... ..........  5%  485K 27s\n",
      " 18850K .......... .......... .......... .......... ..........  5% 33.2M 27s\n",
      " 18900K .......... .......... .......... .......... ..........  5%  458K 29s\n",
      " 18950K .......... .......... .......... .......... ..........  5%  320M 29s\n",
      " 19000K .......... .......... .......... .......... ..........  5% 98.7M 29s\n",
      " 19050K .......... .......... .......... .......... ..........  5%  206M 29s\n",
      " 19100K .......... .......... .......... .......... ..........  5%  589M 28s\n",
      " 19150K .......... .......... .......... .......... ..........  5%  407M 28s\n",
      " 19200K .......... .......... .......... .......... ..........  5%  548M 28s\n",
      " 19250K .......... .......... .......... .......... ..........  5%  647M 28s\n",
      " 19300K .......... .......... .......... .......... ..........  5%  669M 28s\n",
      " 19350K .......... .......... .......... .......... ..........  5% 66.7M 28s\n",
      " 19400K .......... .......... .......... .......... ..........  5%  375M 28s\n",
      " 19450K .......... .......... .......... .......... ..........  5%  519M 28s\n",
      " 19500K .......... .......... .......... .......... ..........  5%  304M 28s\n",
      " 19550K .......... .......... .......... .......... ..........  5%  119M 28s\n",
      " 19600K .......... .......... .......... .......... ..........  5%  356M 28s\n",
      " 19650K .......... .......... .......... .......... ..........  5%  591M 28s\n",
      " 19700K .......... .......... .......... .......... ..........  5%  607M 28s\n",
      " 19750K .......... .......... .......... .......... ..........  5%  115M 28s\n",
      " 19800K .......... .......... .......... .......... ..........  5%  511M 27s\n",
      " 19850K .......... .......... .......... .......... ..........  5%  627M 27s\n",
      " 19900K .......... .......... .......... .......... ..........  5%  616M 27s\n",
      " 19950K .......... .......... .......... .......... ..........  5%  143M 27s\n",
      " 20000K .......... .......... .......... .......... ..........  5%  329M 27s\n",
      " 20050K .......... .......... .......... .......... ..........  5%  483M 27s\n",
      " 20100K .......... .......... .......... .......... ..........  5%  622M 27s\n",
      " 20150K .......... .......... .......... .......... ..........  5%  621M 27s\n",
      " 20200K .......... .......... .......... .......... ..........  5%  144M 27s\n",
      " 20250K .......... .......... .......... .......... ..........  6%  507M 27s\n",
      " 20300K .......... .......... .......... .......... ..........  6%  628M 27s\n",
      " 20350K .......... .......... .......... .......... ..........  6%  655M 27s\n",
      " 20400K .......... .......... .......... .......... ..........  6%  516M 27s\n",
      " 20450K .......... .......... .......... .......... ..........  6%  423K 28s\n",
      " 20500K .......... .......... .......... .......... ..........  6%  133M 28s\n",
      " 20550K .......... .......... .......... .......... ..........  6%  238M 28s\n",
      " 20600K .......... .......... .......... .......... ..........  6%  315M 28s\n",
      " 20650K .......... .......... .......... .......... ..........  6%  329M 28s\n",
      " 20700K .......... .......... .......... .......... ..........  6%  360M 28s\n",
      " 20750K .......... .......... .......... .......... ..........  6%  321M 28s\n",
      " 20800K .......... .......... .......... .......... ..........  6%  384M 28s\n",
      " 20850K .......... .......... .......... .......... ..........  6%  611M 28s\n",
      " 20900K .......... .......... .......... .......... ..........  6%  653M 28s\n",
      " 20950K .......... .......... .......... .......... ..........  6%  204M 28s\n",
      " 21000K .......... .......... .......... .......... ..........  6%  327M 28s\n",
      " 21050K .......... .......... .......... .......... ..........  6%  640M 28s\n",
      " 21100K .......... .......... .......... .......... ..........  6%  610M 27s\n",
      " 21150K .......... .......... .......... .......... ..........  6%  594M 27s\n",
      " 21200K .......... .......... .......... .......... ..........  6% 89.8M 27s\n",
      " 21250K .......... .......... .......... .......... ..........  6%  497M 27s\n",
      " 21300K .......... .......... .......... .......... ..........  6%  580M 27s\n",
      " 21350K .......... .......... .......... .......... ..........  6%  591M 27s\n",
      " 21400K .......... .......... .......... .......... ..........  6%  545M 27s\n",
      " 21450K .......... .......... .......... .......... ..........  6%  596M 27s\n",
      " 21500K .......... .......... .......... .......... ..........  6%  602M 27s\n",
      " 21550K .......... .......... .......... .......... ..........  6%  450M 27s\n",
      " 21600K .......... .......... .......... .......... ..........  6%  587M 27s\n",
      " 21650K .......... .......... .......... .......... ..........  6%  465K 28s\n",
      " 21700K .......... .......... .......... .......... ..........  6%  220M 28s\n",
      " 21750K .......... .......... .......... .......... ..........  6%  589M 28s\n",
      " 21800K .......... .......... .......... .......... ..........  6%  477M 28s\n",
      " 21850K .......... .......... .......... .......... ..........  6%  370M 28s\n",
      " 21900K .......... .......... .......... .......... ..........  6%  514M 28s\n",
      " 21950K .......... .......... .......... .......... ..........  6%  466M 28s\n",
      " 22000K .......... .......... .......... .......... ..........  6%  494M 28s\n",
      " 22050K .......... .......... .......... .......... ..........  6%  636M 28s\n",
      " 22100K .......... .......... .......... .......... ..........  6%  188M 28s\n",
      " 22150K .......... .......... .......... .......... ..........  6%  622M 28s\n",
      " 22200K .......... .......... .......... .......... ..........  6%  568M 28s\n",
      " 22250K .......... .......... .......... .......... ..........  6%  261M 28s\n",
      " 22300K .......... .......... .......... .......... ..........  6%  623M 27s\n",
      " 22350K .......... .......... .......... .......... ..........  6%  101M 27s\n",
      " 22400K .......... .......... .......... .......... ..........  6%  331M 27s\n",
      " 22450K .......... .......... .......... .......... ..........  6%  621M 27s\n",
      " 22500K .......... .......... .......... .......... ..........  6%  610M 27s\n",
      " 22550K .......... .......... .......... .......... ..........  6%  634M 27s\n",
      " 22600K .......... .......... .......... .......... ..........  6%  208M 27s\n",
      " 22650K .......... .......... .......... .......... ..........  6%  418M 27s\n",
      " 22700K .......... .......... .......... .......... ..........  6%  633M 27s\n",
      " 22750K .......... .......... .......... .......... ..........  6%  622M 27s\n",
      " 22800K .......... .......... .......... .......... ..........  6%  520M 27s\n",
      " 22850K .......... .......... .......... .......... ..........  6%  466K 28s\n",
      " 22900K .......... .......... .......... .......... ..........  6%  114M 28s\n",
      " 22950K .......... .......... .......... .......... ..........  6%  224M 28s\n",
      " 23000K .......... .......... .......... .......... ..........  6%  262M 28s\n",
      " 23050K .......... .......... .......... .......... ..........  6%  473M 28s\n",
      " 23100K .......... .......... .......... .......... ..........  6%  391M 28s\n",
      " 23150K .......... .......... .......... .......... ..........  6%  640M 28s\n",
      " 23200K .......... .......... .......... .......... ..........  6%  495M 28s\n",
      " 23250K .......... .......... .......... .......... ..........  6%  490M 28s\n",
      " 23300K .......... .......... .......... .......... ..........  6%  423M 28s\n",
      " 23350K .......... .......... .......... .......... ..........  6%  436M 28s\n",
      " 23400K .......... .......... .......... .......... ..........  6%  517M 28s\n",
      " 23450K .......... .......... .......... .......... ..........  6%  616M 28s\n",
      " 23500K .......... .......... .......... .......... ..........  6%  589M 27s\n",
      " 23550K .......... .......... .......... .......... ..........  6%  182M 27s\n",
      " 23600K .......... .......... .......... .......... ..........  6%  466M 27s\n",
      " 23650K .......... .......... .......... .......... ..........  7%  655M 27s\n",
      " 23700K .......... .......... .......... .......... ..........  7%  143M 27s\n",
      " 23750K .......... .......... .......... .......... ..........  7%  422M 27s\n",
      " 23800K .......... .......... .......... .......... ..........  7%  360M 27s\n",
      " 23850K .......... .......... .......... .......... ..........  7%  634M 27s\n",
      " 23900K .......... .......... .......... .......... ..........  7%  623M 27s\n",
      " 23950K .......... .......... .......... .......... ..........  7%  188M 27s\n",
      " 24000K .......... .......... .......... .......... ..........  7%  521M 27s\n",
      " 24050K .......... .......... .......... .......... ..........  7%  466K 28s\n",
      " 24100K .......... .......... .......... .......... ..........  7%  107M 28s\n",
      " 24150K .......... .......... .......... .......... ..........  7%  368M 28s\n",
      " 24200K .......... .......... .......... .......... ..........  7%  322M 28s\n",
      " 24250K .......... .......... .......... .......... ..........  7%  181M 28s\n",
      " 24300K .......... .......... .......... .......... ..........  7%  608M 28s\n",
      " 24350K .......... .......... .......... .......... ..........  7%  110M 28s\n",
      " 24400K .......... .......... .......... .......... ..........  7%  170M 28s\n",
      " 24450K .......... .......... .......... .......... ..........  7%  616M 28s\n",
      " 24500K .......... .......... .......... .......... ..........  7%  648M 28s\n",
      " 24550K .......... .......... .......... .......... ..........  7%  408K 29s\n",
      " 24600K .......... .......... .......... .......... ..........  7%  201M 29s\n",
      " 24650K .......... .......... .......... .......... ..........  7% 55.4M 29s\n",
      " 24700K .......... .......... .......... .......... ..........  7%  285M 29s\n",
      " 24750K .......... .......... .......... .......... ..........  7%  663M 29s\n",
      " 24800K .......... .......... .......... .......... ..........  7%  363M 29s\n",
      " 24850K .......... .......... .......... .......... ..........  7%  114M 29s\n",
      " 24900K .......... .......... .......... .......... ..........  7%  373M 29s\n",
      " 24950K .......... .......... .......... .......... ..........  7%  477M 29s\n",
      " 25000K .......... .......... .......... .......... ..........  7%  488M 29s\n",
      " 25050K .......... .......... .......... .......... ..........  7%  201M 29s\n",
      " 25100K .......... .......... .......... .......... ..........  7%  507M 29s\n",
      " 25150K .......... .......... .......... .......... ..........  7%  595M 28s\n",
      " 25200K .......... .......... .......... .......... ..........  7%  199M 28s\n",
      " 25250K .......... .......... .......... .......... ..........  7%  369M 28s\n",
      " 25300K .......... .......... .......... .......... ..........  7%  601M 28s\n",
      " 25350K .......... .......... .......... .......... ..........  7%  607M 28s\n",
      " 25400K .......... .......... .......... .......... ..........  7%  454M 28s\n",
      " 25450K .......... .......... .......... .......... ..........  7%  497M 28s\n",
      " 25500K .......... .......... .......... .......... ..........  7%  119M 28s\n",
      " 25550K .......... .......... .......... .......... ..........  7%  396M 28s\n",
      " 25600K .......... .......... .......... .......... ..........  7%  588M 28s\n",
      " 25650K .......... .......... .......... .......... ..........  7%  558M 28s\n",
      " 25700K .......... .......... .......... .......... ..........  7%  587M 28s\n",
      " 25750K .......... .......... .......... .......... ..........  7%  472K 29s\n",
      " 25800K .......... .......... .......... .......... ..........  7%  109M 29s\n",
      " 25850K .......... .......... .......... .......... ..........  7%  468M 29s\n",
      " 25900K .......... .......... .......... .......... ..........  7%  416M 29s\n",
      " 25950K .......... .......... .......... .......... ..........  7%  325M 29s\n",
      " 26000K .......... .......... .......... .......... ..........  7%  524M 29s\n",
      " 26050K .......... .......... .......... .......... ..........  7%  654M 29s\n",
      " 26100K .......... .......... .......... .......... ..........  7%  403M 29s\n",
      " 26150K .......... .......... .......... .......... ..........  7% 39.6M 29s\n",
      " 26200K .......... .......... .......... .......... ..........  7%  190M 29s\n",
      " 26250K .......... .......... .......... .......... ..........  7%  658M 28s\n",
      " 26300K .......... .......... .......... .......... ..........  7%  127M 28s\n",
      " 26350K .......... .......... .......... .......... ..........  7%  462M 28s\n",
      " 26400K .......... .......... .......... .......... ..........  7%  554M 28s\n",
      " 26450K .......... .......... .......... .......... ..........  7%  508M 28s\n",
      " 26500K .......... .......... .......... .......... ..........  7%  374M 28s\n",
      " 26550K .......... .......... .......... .......... ..........  7%  461M 28s\n",
      " 26600K .......... .......... .......... .......... ..........  7%  572M 28s\n",
      " 26650K .......... .......... .......... .......... ..........  7%  657M 28s\n",
      " 26700K .......... .......... .......... .......... ..........  7%  174M 28s\n",
      " 26750K .......... .......... .......... .......... ..........  7%  406M 28s\n",
      " 26800K .......... .......... .......... .......... ..........  7%  486M 28s\n",
      " 26850K .......... .......... .......... .......... ..........  7%  457M 28s\n",
      " 26900K .......... .......... .......... .......... ..........  7%  616M 28s\n",
      " 26950K .......... .......... .......... .......... ..........  7%  452K 29s\n",
      " 27000K .......... .......... .......... .......... ..........  8%  174M 29s\n",
      " 27050K .......... .......... .......... .......... ..........  8%  302M 29s\n",
      " 27100K .......... .......... .......... .......... ..........  8%  458M 29s\n",
      " 27150K .......... .......... .......... .......... ..........  8%  582M 29s\n",
      " 27200K .......... .......... .......... .......... ..........  8%  557M 29s\n",
      " 27250K .......... .......... .......... .......... ..........  8%  590M 29s\n",
      " 27300K .......... .......... .......... .......... ..........  8%  363M 29s\n",
      " 27350K .......... .......... .......... .......... ..........  8%  523M 29s\n",
      " 27400K .......... .......... .......... .......... ..........  8%  449M 28s\n",
      " 27450K .......... .......... .......... .......... ..........  8%  645M 28s\n",
      " 27500K .......... .......... .......... .......... ..........  8%  667M 28s\n",
      " 27550K .......... .......... .......... .......... ..........  8%  115M 28s\n",
      " 27600K .......... .......... .......... .......... ..........  8%  456M 28s\n",
      " 27650K .......... .......... .......... .......... ..........  8%  133M 28s\n",
      " 27700K .......... .......... .......... .......... ..........  8%  540M 28s\n",
      " 27750K .......... .......... .......... .......... ..........  8%  195M 28s\n",
      " 27800K .......... .......... .......... .......... ..........  8%  514M 28s\n",
      " 27850K .......... .......... .......... .......... ..........  8%  133M 28s\n",
      " 27900K .......... .......... .......... .......... ..........  8%  371M 28s\n",
      " 27950K .......... .......... .......... .......... ..........  8%  419M 28s\n",
      " 28000K .......... .......... .......... .......... ..........  8%  592M 28s\n",
      " 28050K .......... .......... .......... .......... ..........  8%  596M 28s\n",
      " 28100K .......... .......... .......... .......... ..........  8%  556M 28s\n",
      " 28150K .......... .......... .......... .......... ..........  8%  485K 29s\n",
      " 28200K .......... .......... .......... .......... ..........  8%  177M 29s\n",
      " 28250K .......... .......... .......... .......... ..........  8%  266M 29s\n",
      " 28300K .......... .......... .......... .......... ..........  8%  187M 29s\n",
      " 28350K .......... .......... .......... .......... ..........  8%  356M 29s\n",
      " 28400K .......... .......... .......... .......... ..........  8%  514M 29s\n",
      " 28450K .......... .......... .......... .......... ..........  8%  642M 28s\n",
      " 28500K .......... .......... .......... .......... ..........  8%  645M 28s\n",
      " 28550K .......... .......... .......... .......... ..........  8%  638M 28s\n",
      " 28600K .......... .......... .......... .......... ..........  8%  583M 28s\n",
      " 28650K .......... .......... .......... .......... ..........  8%  408K 30s\n",
      " 28700K .......... .......... .......... .......... ..........  8% 57.0M 30s\n",
      " 28750K .......... .......... .......... .......... ..........  8%  419M 29s\n",
      " 28800K .......... .......... .......... .......... ..........  8%  340M 29s\n",
      " 28850K .......... .......... .......... .......... ..........  8%  338M 29s\n",
      " 28900K .......... .......... .......... .......... ..........  8%  610M 29s\n",
      " 28950K .......... .......... .......... .......... ..........  8%  619M 29s\n",
      " 29000K .......... .......... .......... .......... ..........  8%  564M 29s\n",
      " 29050K .......... .......... .......... .......... ..........  8%  233M 29s\n",
      " 29100K .......... .......... .......... .......... ..........  8%  596M 29s\n",
      " 29150K .......... .......... .......... .......... ..........  8%  144M 29s\n",
      " 29200K .......... .......... .......... .......... ..........  8%  496M 29s\n",
      " 29250K .......... .......... .......... .......... ..........  8%  188M 29s\n",
      " 29300K .......... .......... .......... .......... ..........  8%  592M 29s\n",
      " 29350K .......... .......... .......... .......... ..........  8%  629M 29s\n",
      " 29400K .......... .......... .......... .......... ..........  8%  179M 29s\n",
      " 29450K .......... .......... .......... .......... ..........  8%  563M 29s\n",
      " 29500K .......... .......... .......... .......... ..........  8%  470M 29s\n",
      " 29550K .......... .......... .......... .......... ..........  8%  641M 29s\n",
      " 29600K .......... .......... .......... .......... ..........  8%  104M 29s\n",
      " 29650K .......... .......... .......... .......... ..........  8%  593M 29s\n",
      " 29700K .......... .......... .......... .......... ..........  8%  629M 28s\n",
      " 29750K .......... .......... .......... .......... ..........  8%  589M 28s\n",
      " 29800K .......... .......... .......... .......... ..........  8%  567M 28s\n",
      " 29850K .......... .......... .......... .......... ..........  8%  468K 29s\n",
      " 29900K .......... .......... .......... .......... ..........  8%  230M 29s\n",
      " 29950K .......... .......... .......... .......... ..........  8%  600M 29s\n",
      " 30000K .......... .......... .......... .......... ..........  8%  196M 29s\n",
      " 30050K .......... .......... .......... .......... ..........  8%  552M 29s\n",
      " 30100K .......... .......... .......... .......... ..........  8%  563M 29s\n",
      " 30150K .......... .......... .......... .......... ..........  8%  181M 29s\n",
      " 30200K .......... .......... .......... .......... ..........  8%  137M 29s\n",
      " 30250K .......... .......... .......... .......... ..........  8%  571M 29s\n",
      " 30300K .......... .......... .......... .......... ..........  8%  595M 29s\n",
      " 30350K .......... .......... .......... .......... ..........  8%  357M 29s\n",
      " 30400K .......... .......... .......... .......... ..........  9% 83.2M 29s\n",
      " 30450K .......... .......... .......... .......... ..........  9%  434M 29s\n",
      " 30500K .......... .......... .......... .......... ..........  9%  436M 29s\n",
      " 30550K .......... .......... .......... .......... ..........  9%  581M 29s\n",
      " 30600K .......... .......... .......... .......... ..........  9%  600M 29s\n",
      " 30650K .......... .......... .......... .......... ..........  9%  672M 29s\n",
      " 30700K .......... .......... .......... .......... ..........  9%  181M 29s\n",
      " 30750K .......... .......... .......... .......... ..........  9%  547M 29s\n",
      " 30800K .......... .......... .......... .......... ..........  9%  401M 28s\n",
      " 30850K .......... .......... .......... .......... ..........  9%  598M 28s\n",
      " 30900K .......... .......... .......... .......... ..........  9%  537M 28s\n",
      " 30950K .......... .......... .......... .......... ..........  9%  644M 28s\n",
      " 31000K .......... .......... .......... .......... ..........  9%  516M 28s\n",
      " 31050K .......... .......... .......... .......... ..........  9%  465K 29s\n",
      " 31100K .......... .......... .......... .......... ..........  9%  342M 29s\n",
      " 31150K .......... .......... .......... .......... ..........  9%  191M 29s\n",
      " 31200K .......... .......... .......... .......... ..........  9%  164M 29s\n",
      " 31250K .......... .......... .......... .......... ..........  9%  356M 29s\n",
      " 31300K .......... .......... .......... .......... ..........  9%  250M 29s\n",
      " 31350K .......... .......... .......... .......... ..........  9%  433M 29s\n",
      " 31400K .......... .......... .......... .......... ..........  9%  558M 29s\n",
      " 31450K .......... .......... .......... .......... ..........  9%  665M 29s\n",
      " 31500K .......... .......... .......... .......... ..........  9%  611M 29s\n",
      " 31550K .......... .......... .......... .......... ..........  9%  621M 29s\n",
      " 31600K .......... .......... .......... .......... ..........  9%  434M 29s\n",
      " 31650K .......... .......... .......... .......... ..........  9%  121M 29s\n",
      " 31700K .......... .......... .......... .......... ..........  9%  388M 29s\n",
      " 31750K .......... .......... .......... .......... ..........  9%  632M 29s\n",
      " 31800K .......... .......... .......... .......... ..........  9%  558M 29s\n",
      " 31850K .......... .......... .......... .......... ..........  9%  591M 28s\n",
      " 31900K .......... .......... .......... .......... ..........  9%  629M 28s\n",
      " 31950K .......... .......... .......... .......... ..........  9%  279M 28s\n",
      " 32000K .......... .......... .......... .......... ..........  9%  464M 28s\n",
      " 32050K .......... .......... .......... .......... ..........  9%  472M 28s\n",
      " 32100K .......... .......... .......... .......... ..........  9%  471M 28s\n",
      " 32150K .......... .......... .......... .......... ..........  9%  587M 28s\n",
      " 32200K .......... .......... .......... .......... ..........  9%  585M 28s\n",
      " 32250K .......... .......... .......... .......... ..........  9%  466K 29s\n",
      " 32300K .......... .......... .......... .......... ..........  9%  119M 29s\n",
      " 32350K .......... .......... .......... .......... ..........  9%  274M 29s\n",
      " 32400K .......... .......... .......... .......... ..........  9%  343M 29s\n",
      " 32450K .......... .......... .......... .......... ..........  9%  436M 29s\n",
      " 32500K .......... .......... .......... .......... ..........  9%  504M 29s\n",
      " 32550K .......... .......... .......... .......... ..........  9%  640M 29s\n",
      " 32600K .......... .......... .......... .......... ..........  9%  402M 29s\n",
      " 32650K .......... .......... .......... .......... ..........  9%  639M 29s\n",
      " 32700K .......... .......... .......... .......... ..........  9%  656M 29s\n",
      " 32750K .......... .......... .......... .......... ..........  9%  411K 30s\n",
      " 32800K .......... .......... .......... .......... ..........  9%  217M 30s\n",
      " 32850K .......... .......... .......... .......... ..........  9%  288M 30s\n",
      " 32900K .......... .......... .......... .......... ..........  9%  289M 30s\n",
      " 32950K .......... .......... .......... .......... ..........  9%  273M 30s\n",
      " 33000K .......... .......... .......... .......... ..........  9%  218M 30s\n",
      " 33050K .......... .......... .......... .......... ..........  9%  614M 29s\n",
      " 33100K .......... .......... .......... .......... ..........  9%  448M 29s\n",
      " 33150K .......... .......... .......... .......... ..........  9%  103M 29s\n",
      " 33200K .......... .......... .......... .......... ..........  9%  194M 29s\n",
      " 33250K .......... .......... .......... .......... ..........  9%  499M 29s\n",
      " 33300K .......... .......... .......... .......... ..........  9%  594M 29s\n",
      " 33350K .......... .......... .......... .......... ..........  9%  526M 29s\n",
      " 33400K .......... .......... .......... .......... ..........  9%  386M 29s\n",
      " 33450K .......... .......... .......... .......... ..........  9%  139M 29s\n",
      " 33500K .......... .......... .......... .......... ..........  9%  161M 29s\n",
      " 33550K .......... .......... .......... .......... ..........  9%  492M 29s\n",
      " 33600K .......... .......... .......... .......... ..........  9%  536M 29s\n",
      " 33650K .......... .......... .......... .......... ..........  9%  514M 29s\n",
      " 33700K .......... .......... .......... .......... ..........  9%  430M 29s\n",
      " 33750K .......... .......... .......... .......... .......... 10%  282M 29s\n",
      " 33800K .......... .......... .......... .......... .......... 10%  419M 29s\n",
      " 33850K .......... .......... .......... .......... .......... 10%  650M 29s\n",
      " 33900K .......... .......... .......... .......... .......... 10%  611M 29s\n",
      " 33950K .......... .......... .......... .......... .......... 10%  468K 30s\n",
      " 34000K .......... .......... .......... .......... .......... 10%  199M 30s\n",
      " 34050K .......... .......... .......... .......... .......... 10%  132M 30s\n",
      " 34100K .......... .......... .......... .......... .......... 10%  124M 29s\n",
      " 34150K .......... .......... .......... .......... .......... 10%  414M 29s\n",
      " 34200K .......... .......... .......... .......... .......... 10%  482M 29s\n",
      " 34250K .......... .......... .......... .......... .......... 10%  181M 29s\n",
      " 34300K .......... .......... .......... .......... .......... 10%  480M 29s\n",
      " 34350K .......... .......... .......... .......... .......... 10%  470M 29s\n",
      " 34400K .......... .......... .......... .......... .......... 10%  497M 29s\n",
      " 34450K .......... .......... .......... .......... .......... 10%  302M 29s\n",
      " 34500K .......... .......... .......... .......... .......... 10%  560M 29s\n",
      " 34550K .......... .......... .......... .......... .......... 10%  229M 29s\n",
      " 34600K .......... .......... .......... .......... .......... 10%  502M 29s\n",
      " 34650K .......... .......... .......... .......... .......... 10%  617M 29s\n",
      " 34700K .......... .......... .......... .......... .......... 10% 71.5M 29s\n",
      " 34750K .......... .......... .......... .......... .......... 10%  529M 29s\n",
      " 34800K .......... .......... .......... .......... .......... 10%  360M 29s\n",
      " 34850K .......... .......... .......... .......... .......... 10%  620M 29s\n",
      " 34900K .......... .......... .......... .......... .......... 10%  640M 29s\n",
      " 34950K .......... .......... .......... .......... .......... 10%  648M 29s\n",
      " 35000K .......... .......... .......... .......... .......... 10% 76.2M 29s\n",
      " 35050K .......... .......... .......... .......... .......... 10%  153M 29s\n",
      " 35100K .......... .......... .......... .......... .......... 10%  634M 29s\n",
      " 35150K .......... .......... .......... .......... .......... 10%  470K 29s\n",
      " 35200K .......... .......... .......... .......... .......... 10%  120M 29s\n",
      " 35250K .......... .......... .......... .......... .......... 10%  677M 29s\n",
      " 35300K .......... .......... .......... .......... .......... 10% 72.9M 29s\n",
      " 35350K .......... .......... .......... .......... .......... 10%  462M 29s\n",
      " 35400K .......... .......... .......... .......... .......... 10%  352M 29s\n",
      " 35450K .......... .......... .......... .......... .......... 10%  533M 29s\n",
      " 35500K .......... .......... .......... .......... .......... 10%  626M 29s\n",
      " 35550K .......... .......... .......... .......... .......... 10%  493M 29s\n",
      " 35600K .......... .......... .......... .......... .......... 10%  434M 29s\n",
      " 35650K .......... .......... .......... .......... .......... 10% 75.7M 29s\n",
      " 35700K .......... .......... .......... .......... .......... 10%  473M 29s\n",
      " 35750K .......... .......... .......... .......... .......... 10%  520M 29s\n",
      " 35800K .......... .......... .......... .......... .......... 10%  427M 29s\n",
      " 35850K .......... .......... .......... .......... .......... 10%  647M 29s\n",
      " 35900K .......... .......... .......... .......... .......... 10%  631M 29s\n",
      " 35950K .......... .......... .......... .......... .......... 10%  656M 29s\n",
      " 36000K .......... .......... .......... .......... .......... 10% 82.5M 29s\n",
      " 36050K .......... .......... .......... .......... .......... 10%  465M 29s\n",
      " 36100K .......... .......... .......... .......... .......... 10%  430M 29s\n",
      " 36150K .......... .......... .......... .......... .......... 10%  626M 29s\n",
      " 36200K .......... .......... .......... .......... .......... 10%  503M 29s\n",
      " 36250K .......... .......... .......... .......... .......... 10%  645M 28s\n",
      " 36300K .......... .......... .......... .......... .......... 10%  639M 28s\n",
      " 36350K .......... .......... .......... .......... .......... 10%  470K 29s\n",
      " 36400K .......... .......... .......... .......... .......... 10% 37.5M 29s\n",
      " 36450K .......... .......... .......... .......... .......... 10% 54.9M 29s\n",
      " 36500K .......... .......... .......... .......... .......... 10%  118M 29s\n",
      " 36550K .......... .......... .......... .......... .......... 10%  573M 29s\n",
      " 36600K .......... .......... .......... .......... .......... 10%  140M 29s\n",
      " 36650K .......... .......... .......... .......... .......... 10%  396M 29s\n",
      " 36700K .......... .......... .......... .......... .......... 10%  362M 29s\n",
      " 36750K .......... .......... .......... .......... .......... 10%  559M 29s\n",
      " 36800K .......... .......... .......... .......... .......... 10%  544M 29s\n",
      " 36850K .......... .......... .......... .......... .......... 10%  416K 30s\n",
      " 36900K .......... .......... .......... .......... .......... 10% 27.8M 30s\n",
      " 36950K .......... .......... .......... .......... .......... 10%  419M 30s\n",
      " 37000K .......... .......... .......... .......... .......... 10%  583M 30s\n",
      " 37050K .......... .......... .......... .......... .......... 10%  530M 30s\n",
      " 37100K .......... .......... .......... .......... .......... 10%  518M 30s\n",
      " 37150K .......... .......... .......... .......... .......... 11%  187M 30s\n",
      " 37200K .......... .......... .......... .......... .......... 11%  180M 30s\n",
      " 37250K .......... .......... .......... .......... .......... 11%  599M 29s\n",
      " 37300K .......... .......... .......... .......... .......... 11%  666M 29s\n",
      " 37350K .......... .......... .......... .......... .......... 11%  388M 29s\n",
      " 37400K .......... .......... .......... .......... .......... 11%  474M 29s\n",
      " 37450K .......... .......... .......... .......... .......... 11%  428M 29s\n",
      " 37500K .......... .......... .......... .......... .......... 11%  652M 29s\n",
      " 37550K .......... .......... .......... .......... .......... 11% 52.1M 29s\n",
      " 37600K .......... .......... .......... .......... .......... 11%  506M 29s\n",
      " 37650K .......... .......... .......... .......... .......... 11%  179M 29s\n",
      " 37700K .......... .......... .......... .......... .......... 11%  413M 29s\n",
      " 37750K .......... .......... .......... .......... .......... 11%  618M 29s\n",
      " 37800K .......... .......... .......... .......... .......... 11%  595M 29s\n",
      " 37850K .......... .......... .......... .......... .......... 11%  183M 29s\n",
      " 37900K .......... .......... .......... .......... .......... 11%  474M 29s\n",
      " 37950K .......... .......... .......... .......... .......... 11%  653M 29s\n",
      " 38000K .......... .......... .......... .......... .......... 11%  507M 29s\n",
      " 38050K .......... .......... .......... .......... .......... 11%  474K 30s\n",
      " 38100K .......... .......... .......... .......... .......... 11%  645M 30s\n",
      " 38150K .......... .......... .......... .......... .......... 11% 60.8M 30s\n",
      " 38200K .......... .......... .......... .......... .......... 11% 95.7M 30s\n",
      " 38250K .......... .......... .......... .......... .......... 11%  504M 29s\n",
      " 38300K .......... .......... .......... .......... .......... 11%  641M 29s\n",
      " 38350K .......... .......... .......... .......... .......... 11%  613M 29s\n",
      " 38400K .......... .......... .......... .......... .......... 11%  116M 29s\n",
      " 38450K .......... .......... .......... .......... .......... 11%  634M 29s\n",
      " 38500K .......... .......... .......... .......... .......... 11%  641M 29s\n",
      " 38550K .......... .......... .......... .......... .......... 11%  180M 29s\n",
      " 38600K .......... .......... .......... .......... .......... 11%  498M 29s\n",
      " 38650K .......... .......... .......... .......... .......... 11%  332M 29s\n",
      " 38700K .......... .......... .......... .......... .......... 11%  614M 29s\n",
      " 38750K .......... .......... .......... .......... .......... 11%  620M 29s\n",
      " 38800K .......... .......... .......... .......... .......... 11%  129M 29s\n",
      " 38850K .......... .......... .......... .......... .......... 11%  568M 29s\n",
      " 38900K .......... .......... .......... .......... .......... 11%  637M 29s\n",
      " 38950K .......... .......... .......... .......... .......... 11%  645M 29s\n",
      " 39000K .......... .......... .......... .......... .......... 11%  122M 29s\n",
      " 39050K .......... .......... .......... .......... .......... 11%  440M 29s\n",
      " 39100K .......... .......... .......... .......... .......... 11%  632M 29s\n",
      " 39150K .......... .......... .......... .......... .......... 11%  632M 29s\n",
      " 39200K .......... .......... .......... .......... .......... 11%  526M 29s\n",
      " 39250K .......... .......... .......... .......... .......... 11%  470K 29s\n",
      " 39300K .......... .......... .......... .......... .......... 11%  222M 29s\n",
      " 39350K .......... .......... .......... .......... .......... 11% 76.6M 29s\n",
      " 39400K .......... .......... .......... .......... .......... 11%  146M 29s\n",
      " 39450K .......... .......... .......... .......... .......... 11%  174M 29s\n",
      " 39500K .......... .......... .......... .......... .......... 11%  151M 29s\n",
      " 39550K .......... .......... .......... .......... .......... 11%  547M 29s\n",
      " 39600K .......... .......... .......... .......... .......... 11%  138M 29s\n",
      " 39650K .......... .......... .......... .......... .......... 11%  361M 29s\n",
      " 39700K .......... .......... .......... .......... .......... 11%  633M 29s\n",
      " 39750K .......... .......... .......... .......... .......... 11%  617M 29s\n",
      " 39800K .......... .......... .......... .......... .......... 11%  573M 29s\n",
      " 39850K .......... .......... .......... .......... .......... 11%  659M 29s\n",
      " 39900K .......... .......... .......... .......... .......... 11% 52.3M 29s\n",
      " 39950K .......... .......... .......... .......... .......... 11%  471M 29s\n",
      " 40000K .......... .......... .......... .......... .......... 11%  524M 29s\n",
      " 40050K .......... .......... .......... .......... .......... 11%  494M 29s\n",
      " 40100K .......... .......... .......... .......... .......... 11%  610M 29s\n",
      " 40150K .......... .......... .......... .......... .......... 11%  179M 29s\n",
      " 40200K .......... .......... .......... .......... .......... 11%  379M 29s\n",
      " 40250K .......... .......... .......... .......... .......... 11%  206M 29s\n",
      " 40300K .......... .......... .......... .......... .......... 11%  574M 29s\n",
      " 40350K .......... .......... .......... .......... .......... 11%  444M 29s\n",
      " 40400K .......... .......... .......... .......... .......... 11%  538M 29s\n",
      " 40450K .......... .......... .......... .......... .......... 11%  474K 29s\n",
      " 40500K .......... .......... .......... .......... .......... 11%  234M 29s\n",
      " 40550K .......... .......... .......... .......... .......... 12% 75.2M 29s\n",
      " 40600K .......... .......... .......... .......... .......... 12%  127M 29s\n",
      " 40650K .......... .......... .......... .......... .......... 12%  631M 29s\n",
      " 40700K .......... .......... .......... .......... .......... 12%  191M 29s\n",
      " 40750K .......... .......... .......... .......... .......... 12%  602M 29s\n",
      " 40800K .......... .......... .......... .......... .......... 12%  113M 29s\n",
      " 40850K .......... .......... .......... .......... .......... 12%  635M 29s\n",
      " 40900K .......... .......... .......... .......... .......... 12%  649M 29s\n",
      " 40950K .......... .......... .......... .......... .......... 12%  410K 30s\n",
      " 41000K .......... .......... .......... .......... .......... 12%  497M 30s\n",
      " 41050K .......... .......... .......... .......... .......... 12%  647M 30s\n",
      " 41100K .......... .......... .......... .......... .......... 12%  297M 30s\n",
      " 41150K .......... .......... .......... .......... .......... 12%  672M 30s\n",
      " 41200K .......... .......... .......... .......... .......... 12%  131M 30s\n",
      " 41250K .......... .......... .......... .......... .......... 12%  638M 30s\n",
      " 41300K .......... .......... .......... .......... .......... 12%  190M 30s\n",
      " 41350K .......... .......... .......... .......... .......... 12%  614M 29s\n",
      " 41400K .......... .......... .......... .......... .......... 12% 84.4M 29s\n",
      " 41450K .......... .......... .......... .......... .......... 12%  500M 29s\n",
      " 41500K .......... .......... .......... .......... .......... 12%  647M 29s\n",
      " 41550K .......... .......... .......... .......... .......... 12%  624M 29s\n",
      " 41600K .......... .......... .......... .......... .......... 12%  246M 29s\n",
      " 41650K .......... .......... .......... .......... .......... 12%  614M 29s\n",
      " 41700K .......... .......... .......... .......... .......... 12%  631M 29s\n",
      " 41750K .......... .......... .......... .......... .......... 12%  649M 29s\n",
      " 41800K .......... .......... .......... .......... .......... 12%  116M 29s\n",
      " 41850K .......... .......... .......... .......... .......... 12%  416M 29s\n",
      " 41900K .......... .......... .......... .......... .......... 12%  604M 29s\n",
      " 41950K .......... .......... .......... .......... .......... 12%  637M 29s\n",
      " 42000K .......... .......... .......... .......... .......... 12%  382M 29s\n",
      " 42050K .......... .......... .......... .......... .......... 12%  649M 29s\n",
      " 42100K .......... .......... .......... .......... .......... 12%  625M 29s\n",
      " 42150K .......... .......... .......... .......... .......... 12%  468K 30s\n",
      " 42200K .......... .......... .......... .......... .......... 12% 74.4M 30s\n",
      " 42250K .......... .......... .......... .......... .......... 12%  613M 30s\n",
      " 42300K .......... .......... .......... .......... .......... 12% 96.0M 29s\n",
      " 42350K .......... .......... .......... .......... .......... 12%  449M 29s\n",
      " 42400K .......... .......... .......... .......... .......... 12%  527M 29s\n",
      " 42450K .......... .......... .......... .......... .......... 12%  584M 29s\n",
      " 42500K .......... .......... .......... .......... .......... 12%  665M 29s\n",
      " 42550K .......... .......... .......... .......... .......... 12% 51.8M 29s\n",
      " 42600K .......... .......... .......... .......... .......... 12%  301M 29s\n",
      " 42650K .......... .......... .......... .......... .......... 12%  430M 29s\n",
      " 42700K .......... .......... .......... .......... .......... 12%  455M 29s\n",
      " 42750K .......... .......... .......... .......... .......... 12%  644M 29s\n",
      " 42800K .......... .......... .......... .......... .......... 12%  525M 29s\n",
      " 42850K .......... .......... .......... .......... .......... 12% 69.9M 29s\n",
      " 42900K .......... .......... .......... .......... .......... 12%  172M 29s\n",
      " 42950K .......... .......... .......... .......... .......... 12%  486M 29s\n",
      " 43000K .......... .......... .......... .......... .......... 12%  430M 29s\n",
      " 43050K .......... .......... .......... .......... .......... 12%  463M 29s\n",
      " 43100K .......... .......... .......... .......... .......... 12%  464M 29s\n",
      " 43150K .......... .......... .......... .......... .......... 12%  549M 29s\n",
      " 43200K .......... .......... .......... .......... .......... 12%  527M 29s\n",
      " 43250K .......... .......... .......... .......... .......... 12%  643M 29s\n",
      " 43300K .......... .......... .......... .......... .......... 12%  676M 29s\n",
      " 43350K .......... .......... .......... .......... .......... 12%  472K 29s\n",
      " 43400K .......... .......... .......... .......... .......... 12%  467M 29s\n",
      " 43450K .......... .......... .......... .......... .......... 12%  440M 29s\n",
      " 43500K .......... .......... .......... .......... .......... 12%  484M 29s\n",
      " 43550K .......... .......... .......... .......... .......... 12%  133M 29s\n",
      " 43600K .......... .......... .......... .......... .......... 12%  471M 29s\n",
      " 43650K .......... .......... .......... .......... .......... 12%  157M 29s\n",
      " 43700K .......... .......... .......... .......... .......... 12%  560M 29s\n",
      " 43750K .......... .......... .......... .......... .......... 12%  645M 29s\n",
      " 43800K .......... .......... .......... .......... .......... 12%  456M 29s\n",
      " 43850K .......... .......... .......... .......... .......... 12%  242M 29s\n",
      " 43900K .......... .......... .......... .......... .......... 13%  651M 29s\n",
      " 43950K .......... .......... .......... .......... .......... 13%  150M 29s\n",
      " 44000K .......... .......... .......... .......... .......... 13%  500M 29s\n",
      " 44050K .......... .......... .......... .......... .......... 13%  621M 29s\n",
      " 44100K .......... .......... .......... .......... .......... 13%  363M 29s\n",
      " 44150K .......... .......... .......... .......... .......... 13%  124M 29s\n",
      " 44200K .......... .......... .......... .......... .......... 13%  265M 29s\n",
      " 44250K .......... .......... .......... .......... .......... 13%  474M 29s\n",
      " 44300K .......... .......... .......... .......... .......... 13%  638M 29s\n",
      " 44350K .......... .......... .......... .......... .......... 13%  651M 29s\n",
      " 44400K .......... .......... .......... .......... .......... 13% 72.3M 29s\n",
      " 44450K .......... .......... .......... .......... .......... 13%  448M 29s\n",
      " 44500K .......... .......... .......... .......... .......... 13%  644M 29s\n",
      " 44550K .......... .......... .......... .......... .......... 13%  616M 29s\n",
      " 44600K .......... .......... .......... .......... .......... 13%  461K 29s\n",
      " 44650K .......... .......... .......... .......... .......... 13%  311M 29s\n",
      " 44700K .......... .......... .......... .......... .......... 13%  115M 29s\n",
      " 44750K .......... .......... .......... .......... .......... 13%  535M 29s\n",
      " 44800K .......... .......... .......... .......... .......... 13%  534M 29s\n",
      " 44850K .......... .......... .......... .......... .......... 13%  522M 29s\n",
      " 44900K .......... .......... .......... .......... .......... 13%  655M 29s\n",
      " 44950K .......... .......... .......... .......... .......... 13%  476M 29s\n",
      " 45000K .......... .......... .......... .......... .......... 13%  575M 29s\n",
      " 45050K .......... .......... .......... .......... .......... 13%  414K 30s\n",
      " 45100K .......... .......... .......... .......... .......... 13%  301M 30s\n",
      " 45150K .......... .......... .......... .......... .......... 13%  182M 30s\n",
      " 45200K .......... .......... .......... .......... .......... 13%  321M 30s\n",
      " 45250K .......... .......... .......... .......... .......... 13%  671M 30s\n",
      " 45300K .......... .......... .......... .......... .......... 13% 43.5M 29s\n",
      " 45350K .......... .......... .......... .......... .......... 13%  504M 29s\n",
      " 45400K .......... .......... .......... .......... .......... 13%  447M 29s\n",
      " 45450K .......... .......... .......... .......... .......... 13%  402M 29s\n",
      " 45500K .......... .......... .......... .......... .......... 13%  671M 29s\n",
      " 45550K .......... .......... .......... .......... .......... 13%  642M 29s\n",
      " 45600K .......... .......... .......... .......... .......... 13%  536M 29s\n",
      " 45650K .......... .......... .......... .......... .......... 13%  548M 29s\n",
      " 45700K .......... .......... .......... .......... .......... 13% 46.2M 29s\n",
      " 45750K .......... .......... .......... .......... .......... 13%  507M 29s\n",
      " 45800K .......... .......... .......... .......... .......... 13%  345M 29s\n",
      " 45850K .......... .......... .......... .......... .......... 13%  496M 29s\n",
      " 45900K .......... .......... .......... .......... .......... 13%  454M 29s\n",
      " 45950K .......... .......... .......... .......... .......... 13%  439M 29s\n",
      " 46000K .......... .......... .......... .......... .......... 13%  375M 29s\n",
      " 46050K .......... .......... .......... .......... .......... 13%  503M 29s\n",
      " 46100K .......... .......... .......... .......... .......... 13%  571M 29s\n",
      " 46150K .......... .......... .......... .......... .......... 13%  670M 29s\n",
      " 46200K .......... .......... .......... .......... .......... 13%  571M 29s\n",
      " 46250K .......... .......... .......... .......... .......... 13%  470K 29s\n",
      " 46300K .......... .......... .......... .......... .......... 13%  207M 29s\n",
      " 46350K .......... .......... .......... .......... .......... 13%  251M 29s\n",
      " 46400K .......... .......... .......... .......... .......... 13%  279M 29s\n",
      " 46450K .......... .......... .......... .......... .......... 13%  261M 29s\n",
      " 46500K .......... .......... .......... .......... .......... 13%  628M 29s\n",
      " 46550K .......... .......... .......... .......... .......... 13%  617M 29s\n",
      " 46600K .......... .......... .......... .......... .......... 13%  148M 29s\n",
      " 46650K .......... .......... .......... .......... .......... 13%  365M 29s\n",
      " 46700K .......... .......... .......... .......... .......... 13%  636M 29s\n",
      " 46750K .......... .......... .......... .......... .......... 13%  651M 29s\n",
      " 46800K .......... .......... .......... .......... .......... 13%  529M 29s\n",
      " 46850K .......... .......... .......... .......... .......... 13%  111M 29s\n",
      " 46900K .......... .......... .......... .......... .......... 13%  602M 29s\n",
      " 46950K .......... .......... .......... .......... .......... 13%  655M 29s\n",
      " 47000K .......... .......... .......... .......... .......... 13%  583M 29s\n",
      " 47050K .......... .......... .......... .......... .......... 13% 46.8M 29s\n",
      " 47100K .......... .......... .......... .......... .......... 13%  422M 29s\n",
      " 47150K .......... .......... .......... .......... .......... 13%  460M 29s\n",
      " 47200K .......... .......... .......... .......... .......... 13%  361M 29s\n",
      " 47250K .......... .......... .......... .......... .......... 13%  484M 29s\n",
      " 47300K .......... .......... .......... .......... .......... 14%  626M 29s\n",
      " 47350K .......... .......... .......... .......... .......... 14%  618M 29s\n",
      " 47400K .......... .......... .......... .......... .......... 14%  569M 29s\n",
      " 47450K .......... .......... .......... .......... .......... 14%  675M 29s\n",
      " 47500K .......... .......... .......... .......... .......... 14%  442K 29s\n",
      " 47550K .......... .......... .......... .......... .......... 14%  334M 29s\n",
      " 47600K .......... .......... .......... .......... .......... 14%  200M 29s\n",
      " 47650K .......... .......... .......... .......... .......... 14%  590M 29s\n",
      " 47700K .......... .......... .......... .......... .......... 14%  674M 29s\n",
      " 47750K .......... .......... .......... .......... .......... 14%  692M 29s\n",
      " 47800K .......... .......... .......... .......... .......... 14%  593M 29s\n",
      " 47850K .......... .......... .......... .......... .......... 14%  453M 29s\n",
      " 47900K .......... .......... .......... .......... .......... 14%  457M 29s\n",
      " 47950K .......... .......... .......... .......... .......... 14%  667M 29s\n",
      " 48000K .......... .......... .......... .......... .......... 14%  563M 29s\n",
      " 48050K .......... .......... .......... .......... .......... 14%  667M 29s\n",
      " 48100K .......... .......... .......... .......... .......... 14%  434M 29s\n",
      " 48150K .......... .......... .......... .......... .......... 14%  414M 29s\n",
      " 48200K .......... .......... .......... .......... .......... 14%  581M 29s\n",
      " 48250K .......... .......... .......... .......... .......... 14%  658M 29s\n",
      " 48300K .......... .......... .......... .......... .......... 14%  302M 29s\n",
      " 48350K .......... .......... .......... .......... .......... 14%  515M 29s\n",
      " 48400K .......... .......... .......... .......... .......... 14%  422M 29s\n",
      " 48450K .......... .......... .......... .......... .......... 14%  671M 29s\n",
      " 48500K .......... .......... .......... .......... .......... 14%  172M 29s\n",
      " 48550K .......... .......... .......... .......... .......... 14%  578M 29s\n",
      " 48600K .......... .......... .......... .......... .......... 14%  349M 29s\n",
      " 48650K .......... .......... .......... .......... .......... 14%  644M 29s\n",
      " 48700K .......... .......... .......... .......... .......... 14%  477K 29s\n",
      " 48750K .......... .......... .......... .......... .......... 14%  152M 29s\n",
      " 48800K .......... .......... .......... .......... .......... 14%  169M 29s\n",
      " 48850K .......... .......... .......... .......... .......... 14%  346M 29s\n",
      " 48900K .......... .......... .......... .......... .......... 14%  285M 29s\n",
      " 48950K .......... .......... .......... .......... .......... 14%  640M 29s\n",
      " 49000K .......... .......... .......... .......... .......... 14%  567M 29s\n",
      " 49050K .......... .......... .......... .......... .......... 14%  669M 29s\n",
      " 49100K .......... .......... .......... .......... .......... 14%  650M 29s\n",
      " 49150K .......... .......... .......... .......... .......... 14%  427K 29s\n",
      " 49200K .......... .......... .......... .......... .......... 14%  283M 29s\n",
      " 49250K .......... .......... .......... .......... .......... 14%  112M 29s\n",
      " 49300K .......... .......... .......... .......... .......... 14% 75.3M 29s\n",
      " 49350K .......... .......... .......... .......... .......... 14%  303M 29s\n",
      " 49400K .......... .......... .......... .......... .......... 14%  272M 29s\n",
      " 49450K .......... .......... .......... .......... .......... 14%  591M 29s\n",
      " 49500K .......... .......... .......... .......... .......... 14%  631M 29s\n",
      " 49550K .......... .......... .......... .......... .......... 14%  649M 29s\n",
      " 49600K .......... .......... .......... .......... .......... 14% 60.4M 29s\n",
      " 49650K .......... .......... .......... .......... .......... 14%  338M 29s\n",
      " 49700K .......... .......... .......... .......... .......... 14%  469M 29s\n",
      " 49750K .......... .......... .......... .......... .......... 14%  437M 29s\n",
      " 49800K .......... .......... .......... .......... .......... 14%  365M 29s\n",
      " 49850K .......... .......... .......... .......... .......... 14%  522M 29s\n",
      " 49900K .......... .......... .......... .......... .......... 14%  499M 29s\n",
      " 49950K .......... .......... .......... .......... .......... 14%  465M 29s\n",
      " 50000K .......... .......... .......... .......... .......... 14%  522M 29s\n",
      " 50050K .......... .......... .......... .......... .......... 14%  648M 29s\n",
      " 50100K .......... .......... .......... .......... .......... 14%  124M 29s\n",
      " 50150K .......... .......... .......... .......... .......... 14%  384M 29s\n",
      " 50200K .......... .......... .......... .......... .......... 14%  565M 29s\n",
      " 50250K .......... .......... .......... .......... .......... 14%  614M 29s\n",
      " 50300K .......... .......... .......... .......... .......... 14%  619M 29s\n",
      " 50350K .......... .......... .......... .......... .......... 14%  472K 29s\n",
      " 50400K .......... .......... .......... .......... .......... 14% 34.7M 29s\n",
      " 50450K .......... .......... .......... .......... .......... 14%  456K 30s\n",
      " 50500K .......... .......... .......... .......... .......... 14%  557M 30s\n",
      " 50550K .......... .......... .......... .......... .......... 14%  269M 30s\n",
      " 50600K .......... .......... .......... .......... .......... 14%  482M 30s\n",
      " 50650K .......... .......... .......... .......... .......... 15%  118M 30s\n",
      " 50700K .......... .......... .......... .......... .......... 15%  487M 30s\n",
      " 50750K .......... .......... .......... .......... .......... 15%  663M 30s\n",
      " 50800K .......... .......... .......... .......... .......... 15%  550M 30s\n",
      " 50850K .......... .......... .......... .......... .......... 15%  126M 30s\n",
      " 50900K .......... .......... .......... .......... .......... 15%  318M 30s\n",
      " 50950K .......... .......... .......... .......... .......... 15%  290M 30s\n",
      " 51000K .......... .......... .......... .......... .......... 15%  570M 29s\n",
      " 51050K .......... .......... .......... .......... .......... 15%  629M 29s\n",
      " 51100K .......... .......... .......... .......... .......... 15%  169M 29s\n",
      " 51150K .......... .......... .......... .......... .......... 15%  481M 29s\n",
      " 51200K .......... .......... .......... .......... .......... 15%  441M 29s\n",
      " 51250K .......... .......... .......... .......... .......... 15%  346M 29s\n",
      " 51300K .......... .......... .......... .......... .......... 15%  460K 30s\n",
      " 51350K .......... .......... .......... .......... .......... 15%  317M 30s\n",
      " 51400K .......... .......... .......... .......... .......... 15%  201M 30s\n",
      " 51450K .......... .......... .......... .......... .......... 15% 99.4M 30s\n",
      " 51500K .......... .......... .......... .......... .......... 15%  510M 30s\n",
      " 51550K .......... .......... .......... .......... .......... 15%  600M 30s\n",
      " 51600K .......... .......... .......... .......... .......... 15%  194M 30s\n",
      " 51650K .......... .......... .......... .......... .......... 15%  617M 30s\n",
      " 51700K .......... .......... .......... .......... .......... 15%  107M 30s\n",
      " 51750K .......... .......... .......... .......... .......... 15%  474M 30s\n",
      " 51800K .......... .......... .......... .......... .......... 15%  535M 30s\n",
      " 51850K .......... .......... .......... .......... .......... 15%  191M 30s\n",
      " 51900K .......... .......... .......... .......... .......... 15%  461K 30s\n",
      " 51950K .......... .......... .......... .......... .......... 15%  516M 30s\n",
      " 52000K .......... .......... .......... .......... .......... 15% 50.8M 30s\n",
      " 52050K .......... .......... .......... .......... .......... 15%  512M 30s\n",
      " 52100K .......... .......... .......... .......... .......... 15%  646M 30s\n",
      " 52150K .......... .......... .......... .......... .......... 15% 38.9M 30s\n",
      " 52200K .......... .......... .......... .......... .......... 15%  412M 30s\n",
      " 52250K .......... .......... .......... .......... .......... 15%  344M 30s\n",
      " 52300K .......... .......... .......... .......... .......... 15%  337M 30s\n",
      " 52350K .......... .......... .......... .......... .......... 15%  601M 30s\n",
      " 52400K .......... .......... .......... .......... .......... 15%  507M 30s\n",
      " 52450K .......... .......... .......... .......... .......... 15%  653M 30s\n",
      " 52500K .......... .......... .......... .......... .......... 15%  465K 30s\n",
      " 52550K .......... .......... .......... .......... .......... 15%  366M 30s\n",
      " 52600K .......... .......... .......... .......... .......... 15%  529M 30s\n",
      " 52650K .......... .......... .......... .......... .......... 15%  509M 30s\n",
      " 52700K .......... .......... .......... .......... .......... 15% 68.9M 30s\n",
      " 52750K .......... .......... .......... .......... .......... 15%  364M 30s\n",
      " 52800K .......... .......... .......... .......... .......... 15%  510M 30s\n",
      " 52850K .......... .......... .......... .......... .......... 15%  599M 30s\n",
      " 52900K .......... .......... .......... .......... .......... 15% 63.4M 30s\n",
      " 52950K .......... .......... .......... .......... .......... 15%  248M 30s\n",
      " 53000K .......... .......... .......... .......... .......... 15%  324M 30s\n",
      " 53050K .......... .......... .......... .......... .......... 15%  651M 30s\n",
      " 53100K .......... .......... .......... .......... .......... 15%  467K 30s\n",
      " 53150K .......... .......... .......... .......... .......... 15% 62.0M 30s\n",
      " 53200K .......... .......... .......... .......... .......... 15%  395K 31s\n",
      " 53250K .......... .......... .......... .......... .......... 15%  297M 31s\n",
      " 53300K .......... .......... .......... .......... .......... 15%  121M 31s\n",
      " 53350K .......... .......... .......... .......... .......... 15%  569M 31s\n",
      " 53400K .......... .......... .......... .......... .......... 15% 29.7M 31s\n",
      " 53450K .......... .......... .......... .......... .......... 15%  488M 31s\n",
      " 53500K .......... .......... .......... .......... .......... 15%  424M 31s\n",
      " 53550K .......... .......... .......... .......... .......... 15%  623M 31s\n",
      " 53600K .......... .......... .......... .......... .......... 15%  115M 31s\n",
      " 53650K .......... .......... .......... .......... .......... 15%  439M 31s\n",
      " 53700K .......... .......... .......... .......... .......... 15%  640M 31s\n",
      " 53750K .......... .......... .......... .......... .......... 15%  658M 31s\n",
      " 53800K .......... .......... .......... .......... .......... 15%  466K 31s\n",
      " 53850K .......... .......... .......... .......... .......... 15%  135M 31s\n",
      " 53900K .......... .......... .......... .......... .......... 15%  619M 31s\n",
      " 53950K .......... .......... .......... .......... .......... 15%  119M 31s\n",
      " 54000K .......... .......... .......... .......... .......... 15%  373M 31s\n",
      " 54050K .......... .......... .......... .......... .......... 16%  496M 31s\n",
      " 54100K .......... .......... .......... .......... .......... 16%  613M 31s\n",
      " 54150K .......... .......... .......... .......... .......... 16%  634M 31s\n",
      " 54200K .......... .......... .......... .......... .......... 16%  143M 31s\n",
      " 54250K .......... .......... .......... .......... .......... 16%  514M 31s\n",
      " 54300K .......... .......... .......... .......... .......... 16%  565M 31s\n",
      " 54350K .......... .......... .......... .......... .......... 16%  629M 31s\n",
      " 54400K .......... .......... .......... .......... .......... 16%  457K 31s\n",
      " 54450K .......... .......... .......... .......... .......... 16%  181M 31s\n",
      " 54500K .......... .......... .......... .......... .......... 16%  321M 31s\n",
      " 54550K .......... .......... .......... .......... .......... 16%  335M 31s\n",
      " 54600K .......... .......... .......... .......... .......... 16%  204M 31s\n",
      " 54650K .......... .......... .......... .......... .......... 16%  392M 31s\n",
      " 54700K .......... .......... .......... .......... .......... 16%  489M 31s\n",
      " 54750K .......... .......... .......... .......... .......... 16%  615M 31s\n",
      " 54800K .......... .......... .......... .......... .......... 16%  528M 31s\n",
      " 54850K .......... .......... .......... .......... .......... 16%  226M 31s\n",
      " 54900K .......... .......... .......... .......... .......... 16%  484M 31s\n",
      " 54950K .......... .......... .......... .......... .......... 16%  620M 31s\n",
      " 55000K .......... .......... .......... .......... .......... 16%  554M 31s\n",
      " 55050K .......... .......... .......... .......... .......... 16%  462K 32s\n",
      " 55100K .......... .......... .......... .......... .......... 16%  236M 32s\n",
      " 55150K .......... .......... .......... .......... .......... 16% 77.5M 31s\n",
      " 55200K .......... .......... .......... .......... .......... 16%  266M 31s\n",
      " 55250K .......... .......... .......... .......... .......... 16%  180M 31s\n",
      " 55300K .......... .......... .......... .......... .......... 16%  325M 31s\n",
      " 55350K .......... .......... .......... .......... .......... 16%  224M 31s\n",
      " 55400K .......... .......... .......... .......... .......... 16%  289M 31s\n",
      " 55450K .......... .......... .......... .......... .......... 16%  630M 31s\n",
      " 55500K .......... .......... .......... .......... .......... 16%  619M 31s\n",
      " 55550K .......... .......... .......... .......... .......... 16%  621M 31s\n",
      " 55600K .......... .......... .......... .......... .......... 16%  523M 31s\n",
      " 55650K .......... .......... .......... .......... .......... 16%  452K 32s\n",
      " 55700K .......... .......... .......... .......... .......... 16%  129M 32s\n",
      " 55750K .......... .......... .......... .......... .......... 16%  190M 32s\n",
      " 55800K .......... .......... .......... .......... .......... 16%  114M 32s\n",
      " 55850K .......... .......... .......... .......... .......... 16%  415M 32s\n",
      " 55900K .......... .......... .......... .......... .......... 16%  640M 32s\n",
      " 55950K .......... .......... .......... .......... .......... 16%  406M 32s\n",
      " 56000K .......... .......... .......... .......... .......... 16%  520M 31s\n",
      " 56050K .......... .......... .......... .......... .......... 16%  634M 31s\n",
      " 56100K .......... .......... .......... .......... .......... 16%  646M 31s\n",
      " 56150K .......... .......... .......... .......... .......... 16%  663M 31s\n",
      " 56200K .......... .......... .......... .......... .......... 16%  571M 31s\n",
      " 56250K .......... .......... .......... .......... .......... 16%  470K 32s\n",
      " 56300K .......... .......... .......... .......... .......... 16%  160M 32s\n",
      " 56350K .......... .......... .......... .......... .......... 16% 77.3M 32s\n",
      " 56400K .......... .......... .......... .......... .......... 16%  447M 32s\n",
      " 56450K .......... .......... .......... .......... .......... 16%  630M 32s\n",
      " 56500K .......... .......... .......... .......... .......... 16%  633M 32s\n",
      " 56550K .......... .......... .......... .......... .......... 16%  217M 32s\n",
      " 56600K .......... .......... .......... .......... .......... 16%  572M 32s\n",
      " 56650K .......... .......... .......... .......... .......... 16%  658M 32s\n",
      " 56700K .......... .......... .......... .......... .......... 16%  472M 32s\n",
      " 56750K .......... .......... .......... .......... .......... 16%  660M 32s\n",
      " 56800K .......... .......... .......... .......... .......... 16%  534M 31s\n",
      " 56850K .......... .......... .......... .......... .......... 16%  457K 32s\n",
      " 56900K .......... .......... .......... .......... .......... 16%  224M 32s\n",
      " 56950K .......... .......... .......... .......... .......... 16%  356M 32s\n",
      " 57000K .......... .......... .......... .......... .......... 16%  161M 32s\n",
      " 57050K .......... .......... .......... .......... .......... 16%  484M 32s\n",
      " 57100K .......... .......... .......... .......... .......... 16%  611M 32s\n",
      " 57150K .......... .......... .......... .......... .......... 16%  609M 32s\n",
      " 57200K .......... .......... .......... .......... .......... 16% 50.8M 32s\n",
      " 57250K .......... .......... .......... .......... .......... 16%  653M 32s\n",
      " 57300K .......... .......... .......... .......... .......... 16%  410K 32s\n",
      " 57350K .......... .......... .......... .......... .......... 16% 81.5M 32s\n",
      " 57400K .......... .......... .......... .......... .......... 17%  412M 32s\n",
      " 57450K .......... .......... .......... .......... .......... 17%  606M 32s\n",
      " 57500K .......... .......... .......... .......... .......... 17% 87.8M 32s\n",
      " 57550K .......... .......... .......... .......... .......... 17%  345M 32s\n",
      " 57600K .......... .......... .......... .......... .......... 17%  376M 32s\n",
      " 57650K .......... .......... .......... .......... .......... 17%  648M 32s\n",
      " 57700K .......... .......... .......... .......... .......... 17%  639M 32s\n",
      " 57750K .......... .......... .......... .......... .......... 17%  191M 32s\n",
      " 57800K .......... .......... .......... .......... .......... 17% 85.3M 32s\n",
      " 57850K .......... .......... .......... .......... .......... 17%  631M 32s\n",
      " 57900K .......... .......... .......... .......... .......... 17%  643M 32s\n",
      " 57950K .......... .......... .......... .......... .......... 17%  459K 32s\n",
      " 58000K .......... .......... .......... .......... .......... 17%  207M 32s\n",
      " 58050K .......... .......... .......... .......... .......... 17%  347M 32s\n",
      " 58100K .......... .......... .......... .......... .......... 17%  332M 32s\n",
      " 58150K .......... .......... .......... .......... .......... 17%  373M 32s\n",
      " 58200K .......... .......... .......... .......... .......... 17% 74.6M 32s\n",
      " 58250K .......... .......... .......... .......... .......... 17%  447M 32s\n",
      " 58300K .......... .......... .......... .......... .......... 17%  413M 32s\n",
      " 58350K .......... .......... .......... .......... .......... 17%  457M 32s\n",
      " 58400K .......... .......... .......... .......... .......... 17%  474M 32s\n",
      " 58450K .......... .......... .......... .......... .......... 17%  616M 32s\n",
      " 58500K .......... .......... .......... .......... .......... 17%  658M 32s\n",
      " 58550K .......... .......... .......... .......... .......... 17%  429K 33s\n",
      " 58600K .......... .......... .......... .......... .......... 17% 68.4M 33s\n",
      " 58650K .......... .......... .......... .......... .......... 17%  552M 32s\n",
      " 58700K .......... .......... .......... .......... .......... 17%  604M 32s\n",
      " 58750K .......... .......... .......... .......... .......... 17%  109M 32s\n",
      " 58800K .......... .......... .......... .......... .......... 17%  387M 32s\n",
      " 58850K .......... .......... .......... .......... .......... 17%  431M 32s\n",
      " 58900K .......... .......... .......... .......... .......... 17%  635M 32s\n",
      " 58950K .......... .......... .......... .......... .......... 17%  607M 32s\n",
      " 59000K .......... .......... .......... .......... .......... 17%  585M 32s\n",
      " 59050K .......... .......... .......... .......... .......... 17% 76.4M 32s\n",
      " 59100K .......... .......... .......... .......... .......... 17%  637M 32s\n",
      " 59150K .......... .......... .......... .......... .......... 17%  503K 33s\n",
      " 59200K .......... .......... .......... .......... .......... 17%  286M 33s\n",
      " 59250K .......... .......... .......... .......... .......... 17%  345M 33s\n",
      " 59300K .......... .......... .......... .......... .......... 17%  270M 33s\n",
      " 59350K .......... .......... .......... .......... .......... 17%  108M 33s\n",
      " 59400K .......... .......... .......... .......... .......... 17%  569M 32s\n",
      " 59450K .......... .......... .......... .......... .......... 17%  614M 32s\n",
      " 59500K .......... .......... .......... .......... .......... 17%  304M 32s\n",
      " 59550K .......... .......... .......... .......... .......... 17%  449M 32s\n",
      " 59600K .......... .......... .......... .......... .......... 17%  466M 32s\n",
      " 59650K .......... .......... .......... .......... .......... 17%  642M 32s\n",
      " 59700K .......... .......... .......... .......... .......... 17%  428M 32s\n",
      " 59750K .......... .......... .......... .......... .......... 17%  461K 33s\n",
      " 59800K .......... .......... .......... .......... .......... 17% 81.3M 33s\n",
      " 59850K .......... .......... .......... .......... .......... 17%  642M 33s\n",
      " 59900K .......... .......... .......... .......... .......... 17%  649M 33s\n",
      " 59950K .......... .......... .......... .......... .......... 17%  743M 33s\n",
      " 60000K .......... .......... .......... .......... .......... 17%  114M 33s\n",
      " 60050K .......... .......... .......... .......... .......... 17%  712M 33s\n",
      " 60100K .......... .......... .......... .......... .......... 17%  517M 33s\n",
      " 60150K .......... .......... .......... .......... .......... 17%  587M 33s\n",
      " 60200K .......... .......... .......... .......... .......... 17%  558M 32s\n",
      " 60250K .......... .......... .......... .......... .......... 17%  419M 32s\n",
      " 60300K .......... .......... .......... .......... .......... 17%  509M 32s\n",
      " 60350K .......... .......... .......... .......... .......... 17%  657M 32s\n",
      " 60400K .......... .......... .......... .......... .......... 17%  458K 33s\n",
      " 60450K .......... .......... .......... .......... .......... 17% 53.3M 33s\n",
      " 60500K .......... .......... .......... .......... .......... 17%  616M 33s\n",
      " 60550K .......... .......... .......... .......... .......... 17%  664M 33s\n",
      " 60600K .......... .......... .......... .......... .......... 17%  405M 33s\n",
      " 60650K .......... .......... .......... .......... .......... 17%  129M 33s\n",
      " 60700K .......... .......... .......... .......... .......... 17%  585M 33s\n",
      " 60750K .......... .......... .......... .......... .......... 17%  134M 33s\n",
      " 60800K .......... .......... .......... .......... .......... 18%  513M 33s\n",
      " 60850K .......... .......... .......... .......... .......... 18%  473M 33s\n",
      " 60900K .......... .......... .......... .......... .......... 18%  649M 33s\n",
      " 60950K .......... .......... .......... .......... .......... 18%  661M 32s\n",
      " 61000K .......... .......... .......... .......... .......... 18%  463K 33s\n",
      " 61050K .......... .......... .......... .......... .......... 18%  136M 33s\n",
      " 61100K .......... .......... .......... .......... .......... 18%  676M 33s\n",
      " 61150K .......... .......... .......... .......... .......... 18%  638M 33s\n",
      " 61200K .......... .......... .......... .......... .......... 18% 71.1M 33s\n",
      " 61250K .......... .......... .......... .......... .......... 18%  582M 33s\n",
      " 61300K .......... .......... .......... .......... .......... 18%  449M 33s\n",
      " 61350K .......... .......... .......... .......... .......... 18%  670M 33s\n",
      " 61400K .......... .......... .......... .......... .......... 18%  410K 33s\n",
      " 61450K .......... .......... .......... .......... .......... 18%  296M 33s\n",
      " 61500K .......... .......... .......... .......... .......... 18%  282M 33s\n",
      " 61550K .......... .......... .......... .......... .......... 18%  291M 33s\n",
      " 61600K .......... .......... .......... .......... .......... 18%  259M 33s\n",
      " 61650K .......... .......... .......... .......... .......... 18%  614M 33s\n",
      " 61700K .......... .......... .......... .......... .......... 18%  179M 33s\n",
      " 61750K .......... .......... .......... .......... .......... 18%  656M 33s\n",
      " 61800K .......... .......... .......... .......... .......... 18%  162M 33s\n",
      " 61850K .......... .......... .......... .......... .......... 18%  386M 33s\n",
      " 61900K .......... .......... .......... .......... .......... 18%  620M 33s\n",
      " 61950K .......... .......... .......... .......... .......... 18%  651M 33s\n",
      " 62000K .......... .......... .......... .......... .......... 18%  460K 33s\n",
      " 62050K .......... .......... .......... .......... .......... 18%  285M 33s\n",
      " 62100K .......... .......... .......... .......... .......... 18%  218M 33s\n",
      " 62150K .......... .......... .......... .......... .......... 18%  236M 33s\n",
      " 62200K .......... .......... .......... .......... .......... 18%  514M 33s\n",
      " 62250K .......... .......... .......... .......... .......... 18%  188M 33s\n",
      " 62300K .......... .......... .......... .......... .......... 18% 34.8M 33s\n",
      " 62350K .......... .......... .......... .......... .......... 18%  167M 33s\n",
      " 62400K .......... .......... .......... .......... .......... 18% 78.2M 33s\n",
      " 62450K .......... .......... .......... .......... .......... 18%  619M 33s\n",
      " 62500K .......... .......... .......... .......... .......... 18% 89.9M 33s\n",
      " 62550K .......... .......... .......... .......... .......... 18%  588M 33s\n",
      " 62600K .......... .......... .......... .......... .......... 18%  588M 33s\n",
      " 62650K .......... .......... .......... .......... .......... 18%  468K 33s\n",
      " 62700K .......... .......... .......... .......... .......... 18%  348M 33s\n",
      " 62750K .......... .......... .......... .......... .......... 18%  128M 33s\n",
      " 62800K .......... .......... .......... .......... .......... 18%  349M 33s\n",
      " 62850K .......... .......... .......... .......... .......... 18%  633M 33s\n",
      " 62900K .......... .......... .......... .......... .......... 18%  648M 33s\n",
      " 62950K .......... .......... .......... .......... .......... 18%  670M 33s\n",
      " 63000K .......... .......... .......... .......... .......... 18% 78.7M 33s\n",
      " 63050K .......... .......... .......... .......... .......... 18%  419M 33s\n",
      " 63100K .......... .......... .......... .......... .......... 18%  663M 33s\n",
      " 63150K .......... .......... .......... .......... .......... 18%  642M 33s\n",
      " 63200K .......... .......... .......... .......... .......... 18%  549M 33s\n",
      " 63250K .......... .......... .......... .......... .......... 18%  460K 33s\n",
      " 63300K .......... .......... .......... .......... .......... 18%  315M 33s\n",
      " 63350K .......... .......... .......... .......... .......... 18%  211M 33s\n",
      " 63400K .......... .......... .......... .......... .......... 18%  318M 33s\n",
      " 63450K .......... .......... .......... .......... .......... 18%  102M 33s\n",
      " 63500K .......... .......... .......... .......... .......... 18%  540M 33s\n",
      " 63550K .......... .......... .......... .......... .......... 18%  612M 33s\n",
      " 63600K .......... .......... .......... .......... .......... 18% 44.3M 33s\n",
      " 63650K .......... .......... .......... .......... .......... 18%  512M 33s\n",
      " 63700K .......... .......... .......... .......... .......... 18%  427M 33s\n",
      " 63750K .......... .......... .......... .......... .......... 18%  364M 33s\n",
      " 63800K .......... .......... .......... .......... .......... 18%  571M 33s\n",
      " 63850K .......... .......... .......... .......... .......... 18%  657M 33s\n",
      " 63900K .......... .......... .......... .......... .......... 18%  465K 34s\n",
      " 63950K .......... .......... .......... .......... .......... 18%  185M 34s\n",
      " 64000K .......... .......... .......... .......... .......... 18%  186M 33s\n",
      " 64050K .......... .......... .......... .......... .......... 18%  126M 33s\n",
      " 64100K .......... .......... .......... .......... .......... 18%  326M 33s\n",
      " 64150K .......... .......... .......... .......... .......... 18%  631M 33s\n",
      " 64200K .......... .......... .......... .......... .......... 19%  591M 33s\n",
      " 64250K .......... .......... .......... .......... .......... 19%  137M 33s\n",
      " 64300K .......... .......... .......... .......... .......... 19%  465M 33s\n",
      " 64350K .......... .......... .......... .......... .......... 19%  523M 33s\n",
      " 64400K .......... .......... .......... .......... .......... 19%  527M 33s\n",
      " 64450K .......... .......... .......... .......... .......... 19% 89.5M 33s\n",
      " 64500K .......... .......... .......... .......... .......... 19%  496M 33s\n",
      " 64550K .......... .......... .......... .......... .......... 19%  461K 34s\n",
      " 64600K .......... .......... .......... .......... .......... 19%  319M 34s\n",
      " 64650K .......... .......... .......... .......... .......... 19%  161M 34s\n",
      " 64700K .......... .......... .......... .......... .......... 19%  340M 34s\n",
      " 64750K .......... .......... .......... .......... .......... 19% 99.5M 33s\n",
      " 64800K .......... .......... .......... .......... .......... 19%  455M 33s\n",
      " 64850K .......... .......... .......... .......... .......... 19%  405M 33s\n",
      " 64900K .......... .......... .......... .......... .......... 19%  505M 33s\n",
      " 64950K .......... .......... .......... .......... .......... 19%  643M 33s\n",
      " 65000K .......... .......... .......... .......... .......... 19%  560M 33s\n",
      " 65050K .......... .......... .......... .......... .......... 19%  670M 33s\n",
      " 65100K .......... .......... .......... .......... .......... 19% 36.8M 33s\n",
      " 65150K .......... .......... .......... .......... .......... 19%  621M 33s\n",
      " 65200K .......... .......... .......... .......... .......... 19%  462K 34s\n",
      " 65250K .......... .......... .......... .......... .......... 19%  347M 34s\n",
      " 65300K .......... .......... .......... .......... .......... 19%  248M 34s\n",
      " 65350K .......... .......... .......... .......... .......... 19%  495M 34s\n",
      " 65400K .......... .......... .......... .......... .......... 19%  603M 34s\n",
      " 65450K .......... .......... .......... .......... .......... 19%  691M 33s\n",
      " 65500K .......... .......... .......... .......... .......... 19%  412K 34s\n",
      " 65550K .......... .......... .......... .......... .......... 19%  335M 34s\n",
      " 65600K .......... .......... .......... .......... .......... 19%  157M 34s\n",
      " 65650K .......... .......... .......... .......... .......... 19%  350M 34s\n",
      " 65700K .......... .......... .......... .......... .......... 19%  371M 34s\n",
      " 65750K .......... .......... .......... .......... .......... 19%  166M 34s\n",
      " 65800K .......... .......... .......... .......... .......... 19%  296M 34s\n",
      " 65850K .......... .......... .......... .......... .......... 19%  322M 34s\n",
      " 65900K .......... .......... .......... .......... .......... 19%  572M 34s\n",
      " 65950K .......... .......... .......... .......... .......... 19%  465M 34s\n",
      " 66000K .......... .......... .......... .......... .......... 19%  412M 34s\n",
      " 66050K .......... .......... .......... .......... .......... 19%  377M 34s\n",
      " 66100K .......... .......... .......... .......... .......... 19%  647M 34s\n",
      " 66150K .......... .......... .......... .......... .......... 19%  460K 34s\n",
      " 66200K .......... .......... .......... .......... .......... 19%  207M 34s\n",
      " 66250K .......... .......... .......... .......... .......... 19%  293M 34s\n",
      " 66300K .......... .......... .......... .......... .......... 19%  334M 34s\n",
      " 66350K .......... .......... .......... .......... .......... 19%  258M 34s\n",
      " 66400K .......... .......... .......... .......... .......... 19%  395M 34s\n",
      " 66450K .......... .......... .......... .......... .......... 19%  469M 34s\n",
      " 66500K .......... .......... .......... .......... .......... 19%  616M 34s\n",
      " 66550K .......... .......... .......... .......... .......... 19%  619M 34s\n",
      " 66600K .......... .......... .......... .......... .......... 19%  191M 34s\n",
      " 66650K .......... .......... .......... .......... .......... 19%  420M 34s\n",
      " 66700K .......... .......... .......... .......... .......... 19%  653M 34s\n",
      " 66750K .......... .......... .......... .......... .......... 19%  631M 34s\n",
      " 66800K .......... .......... .......... .......... .......... 19%  459K 34s\n",
      " 66850K .......... .......... .......... .......... .......... 19% 15.8M 34s\n",
      " 66900K .......... .......... .......... .......... .......... 19%  453M 34s\n",
      " 66950K .......... .......... .......... .......... .......... 19%  660M 34s\n",
      " 67000K .......... .......... .......... .......... .......... 19%  226M 34s\n",
      " 67050K .......... .......... .......... .......... .......... 19%  647M 34s\n",
      " 67100K .......... .......... .......... .......... .......... 19%  279M 34s\n",
      " 67150K .......... .......... .......... .......... .......... 19%  113M 34s\n",
      " 67200K .......... .......... .......... .......... .......... 19%  432M 34s\n",
      " 67250K .......... .......... .......... .......... .......... 19%  465M 34s\n",
      " 67300K .......... .......... .......... .......... .......... 19%  493M 34s\n",
      " 67350K .......... .......... .......... .......... .......... 19%  533M 34s\n",
      " 67400K .......... .......... .......... .......... .......... 19%  578M 34s\n",
      " 67450K .......... .......... .......... .......... .......... 19%  464K 34s\n",
      " 67500K .......... .......... .......... .......... .......... 19%  193M 34s\n",
      " 67550K .......... .......... .......... .......... .......... 20%  300M 34s\n",
      " 67600K .......... .......... .......... .......... .......... 20%  268M 34s\n",
      " 67650K .......... .......... .......... .......... .......... 20%  483M 34s\n",
      " 67700K .......... .......... .......... .......... .......... 20%  532M 34s\n",
      " 67750K .......... .......... .......... .......... .......... 20%  587M 34s\n",
      " 67800K .......... .......... .......... .......... .......... 20%  350M 34s\n",
      " 67850K .......... .......... .......... .......... .......... 20%  361M 34s\n",
      " 67900K .......... .......... .......... .......... .......... 20% 84.7M 34s\n",
      " 67950K .......... .......... .......... .......... .......... 20%  591M 34s\n",
      " 68000K .......... .......... .......... .......... .......... 20%  272M 34s\n",
      " 68050K .......... .......... .......... .......... .......... 20%  461K 34s\n",
      " 68100K .......... .......... .......... .......... .......... 20%  119M 34s\n",
      " 68150K .......... .......... .......... .......... .......... 20%  164M 34s\n",
      " 68200K .......... .......... .......... .......... .......... 20%  328M 34s\n",
      " 68250K .......... .......... .......... .......... .......... 20%  287M 34s\n",
      " 68300K .......... .......... .......... .......... .......... 20%  468M 34s\n",
      " 68350K .......... .......... .......... .......... .......... 20%  570M 34s\n",
      " 68400K .......... .......... .......... .......... .......... 20%  364M 34s\n",
      " 68450K .......... .......... .......... .......... .......... 20%  651M 34s\n",
      " 68500K .......... .......... .......... .......... .......... 20%  506M 34s\n",
      " 68550K .......... .......... .......... .......... .......... 20%  352M 34s\n",
      " 68600K .......... .......... .......... .......... .......... 20%  552M 34s\n",
      " 68650K .......... .......... .......... .......... .......... 20%  503M 34s\n",
      " 68700K .......... .......... .......... .......... .......... 20%  630M 34s\n",
      " 68750K .......... .......... .......... .......... .......... 20%  466K 34s\n",
      " 68800K .......... .......... .......... .......... .......... 20%  272M 34s\n",
      " 68850K .......... .......... .......... .......... .......... 20%  218M 34s\n",
      " 68900K .......... .......... .......... .......... .......... 20%  364M 34s\n",
      " 68950K .......... .......... .......... .......... .......... 20%  362M 34s\n",
      " 69000K .......... .......... .......... .......... .......... 20% 16.4M 34s\n",
      " 69050K .......... .......... .......... .......... .......... 20%  157M 34s\n",
      " 69100K .......... .......... .......... .......... .......... 20%  449M 34s\n",
      " 69150K .......... .......... .......... .......... .......... 20%  528M 34s\n",
      " 69200K .......... .......... .......... .......... .......... 20%  461M 34s\n",
      " 69250K .......... .......... .......... .......... .......... 20%  537M 34s\n",
      " 69300K .......... .......... .......... .......... .......... 20%  528M 34s\n",
      " 69350K .......... .......... .......... .......... .......... 20%  472K 34s\n",
      " 69400K .......... .......... .......... .......... .......... 20%  192M 34s\n",
      " 69450K .......... .......... .......... .......... .......... 20%  300M 34s\n",
      " 69500K .......... .......... .......... .......... .......... 20%  528M 34s\n",
      " 69550K .......... .......... .......... .......... .......... 20%  684M 34s\n",
      " 69600K .......... .......... .......... .......... .......... 20%  408K 35s\n",
      " 69650K .......... .......... .......... .......... .......... 20% 98.9M 34s\n",
      " 69700K .......... .......... .......... .......... .......... 20%  262M 34s\n",
      " 69750K .......... .......... .......... .......... .......... 20%  453M 34s\n",
      " 69800K .......... .......... .......... .......... .......... 20%  576M 34s\n",
      " 69850K .......... .......... .......... .......... .......... 20%  631M 34s\n",
      " 69900K .......... .......... .......... .......... .......... 20%  294M 34s\n",
      " 69950K .......... .......... .......... .......... .......... 20%  536M 34s\n",
      " 70000K .......... .......... .......... .......... .......... 20%  481M 34s\n",
      " 70050K .......... .......... .......... .......... .......... 20%  102M 34s\n",
      " 70100K .......... .......... .......... .......... .......... 20%  425M 34s\n",
      " 70150K .......... .......... .......... .......... .......... 20%  657M 34s\n",
      " 70200K .......... .......... .......... .......... .......... 20%  583M 34s\n",
      " 70250K .......... .......... .......... .......... .......... 20%  461K 35s\n",
      " 70300K .......... .......... .......... .......... .......... 20%  207M 35s\n",
      " 70350K .......... .......... .......... .......... .......... 20%  108M 34s\n",
      " 70400K .......... .......... .......... .......... .......... 20%  487M 34s\n",
      " 70450K .......... .......... .......... .......... .......... 20% 88.2M 34s\n",
      " 70500K .......... .......... .......... .......... .......... 20%  495M 34s\n",
      " 70550K .......... .......... .......... .......... .......... 20%  646M 34s\n",
      " 70600K .......... .......... .......... .......... .......... 20%  570M 34s\n",
      " 70650K .......... .......... .......... .......... .......... 20% 76.5M 34s\n",
      " 70700K .......... .......... .......... .......... .......... 20%  431M 34s\n",
      " 70750K .......... .......... .......... .......... .......... 20%  572M 34s\n",
      " 70800K .......... .......... .......... .......... .......... 20%  538M 34s\n",
      " 70850K .......... .......... .......... .......... .......... 20%  654M 34s\n",
      " 70900K .......... .......... .......... .......... .......... 20%  464K 35s\n",
      " 70950K .......... .......... .......... .......... .......... 21%  141M 35s\n",
      " 71000K .......... .......... .......... .......... .......... 21%  205M 34s\n",
      " 71050K .......... .......... .......... .......... .......... 21%  253M 34s\n",
      " 71100K .......... .......... .......... .......... .......... 21%  367M 34s\n",
      " 71150K .......... .......... .......... .......... .......... 21%  114M 34s\n",
      " 71200K .......... .......... .......... .......... .......... 21%  334M 34s\n",
      " 71250K .......... .......... .......... .......... .......... 21%  320M 34s\n",
      " 71300K .......... .......... .......... .......... .......... 21%  502M 34s\n",
      " 71350K .......... .......... .......... .......... .......... 21%  653M 34s\n",
      " 71400K .......... .......... .......... .......... .......... 21%  560M 34s\n",
      " 71450K .......... .......... .......... .......... .......... 21% 88.7M 34s\n",
      " 71500K .......... .......... .......... .......... .......... 21%  604M 34s\n",
      " 71550K .......... .......... .......... .......... .......... 21%  624M 34s\n",
      " 71600K .......... .......... .......... .......... .......... 21%  461K 35s\n",
      " 71650K .......... .......... .......... .......... .......... 21%  129M 35s\n",
      " 71700K .......... .......... .......... .......... .......... 21% 89.7M 34s\n",
      " 71750K .......... .......... .......... .......... .......... 21%  329M 34s\n",
      " 71800K .......... .......... .......... .......... .......... 21%  323M 34s\n",
      " 71850K .......... .......... .......... .......... .......... 21%  652M 34s\n",
      " 71900K .......... .......... .......... .......... .......... 21% 96.4M 34s\n",
      " 71950K .......... .......... .......... .......... .......... 21%  599M 34s\n",
      " 72000K .......... .......... .......... .......... .......... 21%  408M 34s\n",
      " 72050K .......... .......... .......... .......... .......... 21%  357M 34s\n",
      " 72100K .......... .......... .......... .......... .......... 21%  601M 34s\n",
      " 72150K .......... .......... .......... .......... .......... 21%  618M 34s\n",
      " 72200K .......... .......... .......... .......... .......... 21%  532M 34s\n",
      " 72250K .......... .......... .......... .......... .......... 21%  463K 35s\n",
      " 72300K .......... .......... .......... .......... .......... 21%  249M 35s\n",
      " 72350K .......... .......... .......... .......... .......... 21%  127M 34s\n",
      " 72400K .......... .......... .......... .......... .......... 21%  298M 34s\n",
      " 72450K .......... .......... .......... .......... .......... 21%  184M 34s\n",
      " 72500K .......... .......... .......... .......... .......... 21%  327M 34s\n",
      " 72550K .......... .......... .......... .......... .......... 21%  339M 34s\n",
      " 72600K .......... .......... .......... .......... .......... 21%  312M 34s\n",
      " 72650K .......... .......... .......... .......... .......... 21%  128M 34s\n",
      " 72700K .......... .......... .......... .......... .......... 21%  592M 34s\n",
      " 72750K .......... .......... .......... .......... .......... 21%  627M 34s\n",
      " 72800K .......... .......... .......... .......... .......... 21% 72.3M 34s\n",
      " 72850K .......... .......... .......... .......... .......... 21%  645M 34s\n",
      " 72900K .......... .......... .......... .......... .......... 21%  462K 35s\n",
      " 72950K .......... .......... .......... .......... .......... 21%  492M 35s\n",
      " 73000K .......... .......... .......... .......... .......... 21%  546M 35s\n",
      " 73050K .......... .......... .......... .......... .......... 21%  669M 34s\n",
      " 73100K .......... .......... .......... .......... .......... 21%  113M 34s\n",
      " 73150K .......... .......... .......... .......... .......... 21%  570M 34s\n",
      " 73200K .......... .......... .......... .......... .......... 21%  344M 34s\n",
      " 73250K .......... .......... .......... .......... .......... 21%  526M 34s\n",
      " 73300K .......... .......... .......... .......... .......... 21%  123M 34s\n",
      " 73350K .......... .......... .......... .......... .......... 21%  323M 34s\n",
      " 73400K .......... .......... .......... .......... .......... 21%  505M 34s\n",
      " 73450K .......... .......... .......... .......... .......... 21%  638M 34s\n",
      " 73500K .......... .......... .......... .......... .......... 21%  622M 34s\n",
      " 73550K .......... .......... .......... .......... .......... 21%  604M 34s\n",
      " 73600K .......... .......... .......... .......... .......... 21%  458K 35s\n",
      " 73650K .......... .......... .......... .......... .......... 21%  628M 35s\n",
      " 73700K .......... .......... .......... .......... .......... 21%  406K 35s\n",
      " 73750K .......... .......... .......... .......... .......... 21%  347M 35s\n",
      " 73800K .......... .......... .......... .......... .......... 21%  327M 35s\n",
      " 73850K .......... .......... .......... .......... .......... 21%  362M 35s\n",
      " 73900K .......... .......... .......... .......... .......... 21%  163M 35s\n",
      " 73950K .......... .......... .......... .......... .......... 21%  471M 35s\n",
      " 74000K .......... .......... .......... .......... .......... 21%  539M 35s\n",
      " 74050K .......... .......... .......... .......... .......... 21%  649M 35s\n",
      " 74100K .......... .......... .......... .......... .......... 21% 37.7M 35s\n",
      " 74150K .......... .......... .......... .......... .......... 21%  404M 35s\n",
      " 74200K .......... .......... .......... .......... .......... 21%  570M 35s\n",
      " 74250K .......... .......... .......... .......... .......... 21%  542M 35s\n",
      " 74300K .......... .......... .......... .......... .......... 22%  399M 35s\n",
      " 74350K .......... .......... .......... .......... .......... 22%  462K 35s\n",
      " 74400K .......... .......... .......... .......... .......... 22%  164M 35s\n",
      " 74450K .......... .......... .......... .......... .......... 22%  117M 35s\n",
      " 74500K .......... .......... .......... .......... .......... 22%  388M 35s\n",
      " 74550K .......... .......... .......... .......... .......... 22%  664M 35s\n",
      " 74600K .......... .......... .......... .......... .......... 22%  578M 35s\n",
      " 74650K .......... .......... .......... .......... .......... 22% 74.5M 35s\n",
      " 74700K .......... .......... .......... .......... .......... 22%  280M 35s\n",
      " 74750K .......... .......... .......... .......... .......... 22%  510M 35s\n",
      " 74800K .......... .......... .......... .......... .......... 22%  525M 35s\n",
      " 74850K .......... .......... .......... .......... .......... 22%  655M 35s\n",
      " 74900K .......... .......... .......... .......... .......... 22%  649M 35s\n",
      " 74950K .......... .......... .......... .......... .......... 22%  652M 35s\n",
      " 75000K .......... .......... .......... .......... .......... 22%  152M 35s\n",
      " 75050K .......... .......... .......... .......... .......... 22%  464K 35s\n",
      " 75100K .......... .......... .......... .......... .......... 22%  307M 35s\n",
      " 75150K .......... .......... .......... .......... .......... 22%  342M 35s\n",
      " 75200K .......... .......... .......... .......... .......... 22%  392M 35s\n",
      " 75250K .......... .......... .......... .......... .......... 22%  642M 35s\n",
      " 75300K .......... .......... .......... .......... .......... 22%  682M 35s\n",
      " 75350K .......... .......... .......... .......... .......... 22%  680M 35s\n",
      " 75400K .......... .......... .......... .......... .......... 22%  448M 35s\n",
      " 75450K .......... .......... .......... .......... .......... 22%  557M 35s\n",
      " 75500K .......... .......... .......... .......... .......... 22%  634M 35s\n",
      " 75550K .......... .......... .......... .......... .......... 22%  673M 35s\n",
      " 75600K .......... .......... .......... .......... .......... 22%  183M 35s\n",
      " 75650K .......... .......... .......... .......... .......... 22%  563M 35s\n",
      " 75700K .......... .......... .......... .......... .......... 22%  461K 35s\n",
      " 75750K .......... .......... .......... .......... .......... 22% 52.8M 35s\n",
      " 75800K .......... .......... .......... .......... .......... 22%  471M 35s\n",
      " 75850K .......... .......... .......... .......... .......... 22%  661M 35s\n",
      " 75900K .......... .......... .......... .......... .......... 22%  675M 35s\n",
      " 75950K .......... .......... .......... .......... .......... 22% 49.3M 35s\n",
      " 76000K .......... .......... .......... .......... .......... 22%  240M 35s\n",
      " 76050K .......... .......... .......... .......... .......... 22%  505M 35s\n",
      " 76100K .......... .......... .......... .......... .......... 22%  530M 35s\n",
      " 76150K .......... .......... .......... .......... .......... 22%  449M 35s\n",
      " 76200K .......... .......... .......... .......... .......... 22%  532M 35s\n",
      " 76250K .......... .......... .......... .......... .......... 22%  640M 35s\n",
      " 76300K .......... .......... .......... .......... .......... 22%  664M 35s\n",
      " 76350K .......... .......... .......... .......... .......... 22%  638M 35s\n",
      " 76400K .......... .......... .......... .......... .......... 22%  463K 35s\n",
      " 76450K .......... .......... .......... .......... .......... 22%  355M 35s\n",
      " 76500K .......... .......... .......... .......... .......... 22%  146M 35s\n",
      " 76550K .......... .......... .......... .......... .......... 22%  491M 35s\n",
      " 76600K .......... .......... .......... .......... .......... 22%  596M 35s\n",
      " 76650K .......... .......... .......... .......... .......... 22%  660M 35s\n",
      " 76700K .......... .......... .......... .......... .......... 22% 91.4M 35s\n",
      " 76750K .......... .......... .......... .......... .......... 22%  431M 35s\n",
      " 76800K .......... .......... .......... .......... .......... 22%  343M 35s\n",
      " 76850K .......... .......... .......... .......... .......... 22%  629M 35s\n",
      " 76900K .......... .......... .......... .......... .......... 22%  653M 35s\n",
      " 76950K .......... .......... .......... .......... .......... 22%  633M 35s\n",
      " 77000K .......... .......... .......... .......... .......... 22%  108M 35s\n",
      " 77050K .......... .......... .......... .......... .......... 22%  626M 34s\n",
      " 77100K .......... .......... .......... .......... .......... 22%  462K 35s\n",
      " 77150K .......... .......... .......... .......... .......... 22%  257M 35s\n",
      " 77200K .......... .......... .......... .......... .......... 22% 62.4M 35s\n",
      " 77250K .......... .......... .......... .......... .......... 22%  441M 35s\n",
      " 77300K .......... .......... .......... .......... .......... 22%  642M 35s\n",
      " 77350K .......... .......... .......... .......... .......... 22%  638M 35s\n",
      " 77400K .......... .......... .......... .......... .......... 22% 69.5M 35s\n",
      " 77450K .......... .......... .......... .......... .......... 22%  207M 35s\n",
      " 77500K .......... .......... .......... .......... .......... 22%  395M 35s\n",
      " 77550K .......... .......... .......... .......... .......... 22%  472M 35s\n",
      " 77600K .......... .......... .......... .......... .......... 22%  515M 35s\n",
      " 77650K .......... .......... .......... .......... .......... 22%  637M 35s\n",
      " 77700K .......... .......... .......... .......... .......... 23%  610M 34s\n",
      " 77750K .......... .......... .......... .......... .......... 23%  462K 35s\n",
      " 77800K .......... .......... .......... .......... .......... 23%  405K 35s\n",
      " 77850K .......... .......... .......... .......... .......... 23% 76.0M 35s\n",
      " 77900K .......... .......... .......... .......... .......... 23%  354M 35s\n",
      " 77950K .......... .......... .......... .......... .......... 23%  159M 35s\n",
      " 78000K .......... .......... .......... .......... .......... 23%  331M 35s\n",
      " 78050K .......... .......... .......... .......... .......... 23%  642M 35s\n",
      " 78100K .......... .......... .......... .......... .......... 23%  629M 35s\n",
      " 78150K .......... .......... .......... .......... .......... 23%  611M 35s\n",
      " 78200K .......... .......... .......... .......... .......... 23%  179M 35s\n",
      " 78250K .......... .......... .......... .......... .......... 23%  415M 35s\n",
      " 78300K .......... .......... .......... .......... .......... 23%  650M 35s\n",
      " 78350K .......... .......... .......... .......... .......... 23%  650M 35s\n",
      " 78400K .......... .......... .......... .......... .......... 23%  549M 35s\n",
      " 78450K .......... .......... .......... .......... .......... 23%  462K 35s\n",
      " 78500K .......... .......... .......... .......... .......... 23%  253M 35s\n",
      " 78550K .......... .......... .......... .......... .......... 23% 73.8M 35s\n",
      " 78600K .......... .......... .......... .......... .......... 23%  501M 35s\n",
      " 78650K .......... .......... .......... .......... .......... 23%  639M 35s\n",
      " 78700K .......... .......... .......... .......... .......... 23% 52.9M 35s\n",
      " 78750K .......... .......... .......... .......... .......... 23%  536M 35s\n",
      " 78800K .......... .......... .......... .......... .......... 23%  535M 35s\n",
      " 78850K .......... .......... .......... .......... .......... 23% 3.09M 35s\n",
      " 78900K .......... .......... .......... .......... .......... 23%  327M 35s\n",
      " 78950K .......... .......... .......... .......... .......... 23%  152M 35s\n",
      " 79000K .......... .......... .......... .......... .......... 23%  348M 35s\n",
      " 79050K .......... .......... .......... .......... .......... 23%  644M 35s\n",
      " 79100K .......... .......... .......... .......... .......... 23%  651M 35s\n",
      " 79150K .......... .......... .......... .......... .......... 23%  651M 35s\n",
      " 79200K .......... .......... .......... .......... .......... 23%  540K 35s\n",
      " 79250K .......... .......... .......... .......... .......... 23%  331M 35s\n",
      " 79300K .......... .......... .......... .......... .......... 23%  659M 35s\n",
      " 79350K .......... .......... .......... .......... .......... 23%  621M 35s\n",
      " 79400K .......... .......... .......... .......... .......... 23% 5.52M 35s\n",
      " 79450K .......... .......... .......... .......... .......... 23%  183M 35s\n",
      " 79500K .......... .......... .......... .......... .......... 23%  321M 35s\n",
      " 79550K .......... .......... .......... .......... .......... 23%  362M 35s\n",
      " 79600K .......... .......... .......... .......... .......... 23%  308M 35s\n",
      " 79650K .......... .......... .......... .......... .......... 23%  381M 35s\n",
      " 79700K .......... .......... .......... .......... .......... 23%  397M 35s\n",
      " 79750K .......... .......... .......... .......... .......... 23%  641M 35s\n",
      " 79800K .......... .......... .......... .......... .......... 23% 2.44M 35s\n",
      " 79850K .......... .......... .......... .......... .......... 23%  462K 35s\n",
      " 79900K .......... .......... .......... .......... .......... 23%  365M 35s\n",
      " 79950K .......... .......... .......... .......... .......... 23%  322M 35s\n",
      " 80000K .......... .......... .......... .......... .......... 23%  191M 35s\n",
      " 80050K .......... .......... .......... .......... .......... 23%  349M 35s\n",
      " 80100K .......... .......... .......... .......... .......... 23%  329M 35s\n",
      " 80150K .......... .......... .......... .......... .......... 23% 66.9M 35s\n",
      " 80200K .......... .......... .......... .......... .......... 23%  392M 35s\n",
      " 80250K .......... .......... .......... .......... .......... 23%  518M 35s\n",
      " 80300K .......... .......... .......... .......... .......... 23%  457M 35s\n",
      " 80350K .......... .......... .......... .......... .......... 23%  603M 35s\n",
      " 80400K .......... .......... .......... .......... .......... 23%  559M 35s\n",
      " 80450K .......... .......... .......... .......... .......... 23%  652M 35s\n",
      " 80500K .......... .......... .......... .......... .......... 23%  654M 35s\n",
      " 80550K .......... .......... .......... .......... .......... 23%  625K 35s\n",
      " 80600K .......... .......... .......... .......... .......... 23% 80.9M 35s\n",
      " 80650K .......... .......... .......... .......... .......... 23%  414M 35s\n",
      " 80700K .......... .......... .......... .......... .......... 23%  503M 35s\n",
      " 80750K .......... .......... .......... .......... .......... 23%  508M 35s\n",
      " 80800K .......... .......... .......... .......... .......... 23%  550M 35s\n",
      " 80850K .......... .......... .......... .......... .......... 23%  163M 35s\n",
      " 80900K .......... .......... .......... .......... .......... 23%  420M 35s\n",
      " 80950K .......... .......... .......... .......... .......... 23%  632M 35s\n",
      " 81000K .......... .......... .......... .......... .......... 23%  339M 35s\n",
      " 81050K .......... .......... .......... .......... .......... 23%  558M 35s\n",
      " 81100K .......... .......... .......... .......... .......... 24%  638M 35s\n",
      " 81150K .......... .......... .......... .......... .......... 24% 50.2M 35s\n",
      " 81200K .......... .......... .......... .......... .......... 24%  501M 35s\n",
      " 81250K .......... .......... .......... .......... .......... 24%  458K 35s\n",
      " 81300K .......... .......... .......... .......... .......... 24%  199M 35s\n",
      " 81350K .......... .......... .......... .......... .......... 24%  316M 35s\n",
      " 81400K .......... .......... .......... .......... .......... 24%  306M 35s\n",
      " 81450K .......... .......... .......... .......... .......... 24%  421M 35s\n",
      " 81500K .......... .......... .......... .......... .......... 24%  554M 35s\n",
      " 81550K .......... .......... .......... .......... .......... 24%  419M 35s\n",
      " 81600K .......... .......... .......... .......... .......... 24%  459M 35s\n",
      " 81650K .......... .......... .......... .......... .......... 24%  647M 35s\n",
      " 81700K .......... .......... .......... .......... .......... 24%  491M 35s\n",
      " 81750K .......... .......... .......... .......... .......... 24%  656M 35s\n",
      " 81800K .......... .......... .......... .......... .......... 24%  585M 35s\n",
      " 81850K .......... .......... .......... .......... .......... 24%  672M 35s\n",
      " 81900K .......... .......... .......... .......... .......... 24%  405K 35s\n",
      " 81950K .......... .......... .......... .......... .......... 24%  105M 35s\n",
      " 82000K .......... .......... .......... .......... .......... 24%  273M 35s\n",
      " 82050K .......... .......... .......... .......... .......... 24%  280M 35s\n",
      " 82100K .......... .......... .......... .......... .......... 24%  557M 35s\n",
      " 82150K .......... .......... .......... .......... .......... 24%  641M 35s\n",
      " 82200K .......... .......... .......... .......... .......... 24% 75.3M 35s\n",
      " 82250K .......... .......... .......... .......... .......... 24%  360M 35s\n",
      " 82300K .......... .......... .......... .......... .......... 24%  594M 35s\n",
      " 82350K .......... .......... .......... .......... .......... 24%  556M 35s\n",
      " 82400K .......... .......... .......... .......... .......... 24%  524M 35s\n",
      " 82450K .......... .......... .......... .......... .......... 24%  440M 35s\n",
      " 82500K .......... .......... .......... .......... .......... 24%  632M 35s\n",
      " 82550K .......... .......... .......... .......... .......... 24%  614M 35s\n",
      " 82600K .......... .......... .......... .......... .......... 24%  459K 35s\n",
      " 82650K .......... .......... .......... .......... .......... 24%  130M 35s\n",
      " 82700K .......... .......... .......... .......... .......... 24%  391M 35s\n",
      " 82750K .......... .......... .......... .......... .......... 24%  643M 35s\n",
      " 82800K .......... .......... .......... .......... .......... 24%  514M 35s\n",
      " 82850K .......... .......... .......... .......... .......... 24%  618M 35s\n",
      " 82900K .......... .......... .......... .......... .......... 24%  634M 35s\n",
      " 82950K .......... .......... .......... .......... .......... 24% 37.0M 35s\n",
      " 83000K .......... .......... .......... .......... .......... 24%  251M 35s\n",
      " 83050K .......... .......... .......... .......... .......... 24%  609M 35s\n",
      " 83100K .......... .......... .......... .......... .......... 24%  258M 35s\n",
      " 83150K .......... .......... .......... .......... .......... 24%  182M 35s\n",
      " 83200K .......... .......... .......... .......... .......... 24%  513M 35s\n",
      " 83250K .......... .......... .......... .......... .......... 24%  639M 35s\n",
      " 83300K .......... .......... .......... .......... .......... 24%  466K 35s\n",
      " 83350K .......... .......... .......... .......... .......... 24%  236M 35s\n",
      " 83400K .......... .......... .......... .......... .......... 24% 96.5M 35s\n",
      " 83450K .......... .......... .......... .......... .......... 24%  634M 35s\n",
      " 83500K .......... .......... .......... .......... .......... 24%  145M 35s\n",
      " 83550K .......... .......... .......... .......... .......... 24%  138M 35s\n",
      " 83600K .......... .......... .......... .......... .......... 24%  227M 35s\n",
      " 83650K .......... .......... .......... .......... .......... 24%  368M 35s\n",
      " 83700K .......... .......... .......... .......... .......... 24%  471M 35s\n",
      " 83750K .......... .......... .......... .......... .......... 24%  521M 35s\n",
      " 83800K .......... .......... .......... .......... .......... 24%  454M 35s\n",
      " 83850K .......... .......... .......... .......... .......... 24%  714M 35s\n",
      " 83900K .......... .......... .......... .......... .......... 24%  259M 35s\n",
      " 83950K .......... .......... .......... .......... .......... 24%  652M 35s\n",
      " 84000K .......... .......... .......... .......... .......... 24%  463K 35s\n",
      " 84050K .......... .......... .......... .......... .......... 24% 91.1M 35s\n",
      " 84100K .......... .......... .......... .......... .......... 24%  291M 35s\n",
      " 84150K .......... .......... .......... .......... .......... 24%  125M 35s\n",
      " 84200K .......... .......... .......... .......... .......... 24% 86.6M 35s\n",
      " 84250K .......... .......... .......... .......... .......... 24%  496M 35s\n",
      " 84300K .......... .......... .......... .......... .......... 24%  372M 35s\n",
      " 84350K .......... .......... .......... .......... .......... 24%  577M 35s\n",
      " 84400K .......... .......... .......... .......... .......... 24%  328M 35s\n",
      " 84450K .......... .......... .......... .......... .......... 25%  481M 35s\n",
      " 84500K .......... .......... .......... .......... .......... 25%  636M 35s\n",
      " 84550K .......... .......... .......... .......... .......... 25%  645M 35s\n",
      " 84600K .......... .......... .......... .......... .......... 25%  565M 35s\n",
      " 84650K .......... .......... .......... .......... .......... 25%  639M 35s\n",
      " 84700K .......... .......... .......... .......... .......... 25%  462K 35s\n",
      " 84750K .......... .......... .......... .......... .......... 25%  284M 35s\n",
      " 84800K .......... .......... .......... .......... .......... 25% 70.2M 35s\n",
      " 84850K .......... .......... .......... .......... .......... 25%  315M 35s\n",
      " 84900K .......... .......... .......... .......... .......... 25%  479M 35s\n",
      " 84950K .......... .......... .......... .......... .......... 25%  456M 35s\n",
      " 85000K .......... .......... .......... .......... .......... 25%  565M 35s\n",
      " 85050K .......... .......... .......... .......... .......... 25%  653M 35s\n",
      " 85100K .......... .......... .......... .......... .......... 25%  406M 35s\n",
      " 85150K .......... .......... .......... .......... .......... 25%  539M 35s\n",
      " 85200K .......... .......... .......... .......... .......... 25%  528M 35s\n",
      " 85250K .......... .......... .......... .......... .......... 25%  670M 35s\n",
      " 85300K .......... .......... .......... .......... .......... 25%  451M 35s\n",
      " 85350K .......... .......... .......... .......... .......... 25%  641M 34s\n",
      " 85400K .......... .......... .......... .......... .......... 25%  460K 35s\n",
      " 85450K .......... .......... .......... .......... .......... 25% 59.8M 35s\n",
      " 85500K .......... .......... .......... .......... .......... 25%  210M 35s\n",
      " 85550K .......... .......... .......... .......... .......... 25%  330M 35s\n",
      " 85600K .......... .......... .......... .......... .......... 25%  339M 35s\n",
      " 85650K .......... .......... .......... .......... .......... 25% 65.1M 35s\n",
      " 85700K .......... .......... .......... .......... .......... 25%  280M 35s\n",
      " 85750K .......... .......... .......... .......... .......... 25%  471M 35s\n",
      " 85800K .......... .......... .......... .......... .......... 25%  582M 35s\n",
      " 85850K .......... .......... .......... .......... .......... 25%  664M 35s\n",
      " 85900K .......... .......... .......... .......... .......... 25%  639M 35s\n",
      " 85950K .......... .......... .......... .......... .......... 25%  652M 34s\n",
      " 86000K .......... .......... .......... .......... .......... 25%  408K 35s\n",
      " 86050K .......... .......... .......... .......... .......... 25%  336M 35s\n",
      " 86100K .......... .......... .......... .......... .......... 25%  370M 35s\n",
      " 86150K .......... .......... .......... .......... .......... 25% 44.3M 35s\n",
      " 86200K .......... .......... .......... .......... .......... 25%  113M 35s\n",
      " 86250K .......... .......... .......... .......... .......... 25%  588M 35s\n",
      " 86300K .......... .......... .......... .......... .......... 25%  647M 35s\n",
      " 86350K .......... .......... .......... .......... .......... 25%  206M 35s\n",
      " 86400K .......... .......... .......... .......... .......... 25%  501M 35s\n",
      " 86450K .......... .......... .......... .......... .......... 25%  646M 35s\n",
      " 86500K .......... .......... .......... .......... .......... 25%  142M 35s\n",
      " 86550K .......... .......... .......... .......... .......... 25%  601M 35s\n",
      " 86600K .......... .......... .......... .......... .......... 25%  579M 34s\n",
      " 86650K .......... .......... .......... .......... .......... 25%  608M 34s\n",
      " 86700K .......... .......... .......... .......... .......... 25%  466K 35s\n",
      " 86750K .......... .......... .......... .......... .......... 25% 38.8M 35s\n",
      " 86800K .......... .......... .......... .......... .......... 25%  266M 35s\n",
      " 86850K .......... .......... .......... .......... .......... 25% 65.7M 35s\n",
      " 86900K .......... .......... .......... .......... .......... 25%  101M 35s\n",
      " 86950K .......... .......... .......... .......... .......... 25%  268M 35s\n",
      " 87000K .......... .......... .......... .......... .......... 25%  454M 35s\n",
      " 87050K .......... .......... .......... .......... .......... 25%  639M 35s\n",
      " 87100K .......... .......... .......... .......... .......... 25%  668M 35s\n",
      " 87150K .......... .......... .......... .......... .......... 25%  655M 35s\n",
      " 87200K .......... .......... .......... .......... .......... 25%  515M 34s\n",
      " 87250K .......... .......... .......... .......... .......... 25%  634M 34s\n",
      " 87300K .......... .......... .......... .......... .......... 25%  600M 34s\n",
      " 87350K .......... .......... .......... .......... .......... 25%  601M 34s\n",
      " 87400K .......... .......... .......... .......... .......... 25%  467K 35s\n",
      " 87450K .......... .......... .......... .......... .......... 25%  124M 35s\n",
      " 87500K .......... .......... .......... .......... .......... 25%  189M 35s\n",
      " 87550K .......... .......... .......... .......... .......... 25%  356M 35s\n",
      " 87600K .......... .......... .......... .......... .......... 25%  118M 35s\n",
      " 87650K .......... .......... .......... .......... .......... 25%  480M 35s\n",
      " 87700K .......... .......... .......... .......... .......... 25%  669M 35s\n",
      " 87750K .......... .......... .......... .......... .......... 25%  657M 35s\n",
      " 87800K .......... .......... .......... .......... .......... 25%  399M 34s\n",
      " 87850K .......... .......... .......... .......... .......... 26%  413M 34s\n",
      " 87900K .......... .......... .......... .......... .......... 26%  472M 34s\n",
      " 87950K .......... .......... .......... .......... .......... 26%  613M 34s\n",
      " 88000K .......... .......... .......... .......... .......... 26%  526M 34s\n",
      " 88050K .......... .......... .......... .......... .......... 26%  627M 34s\n",
      " 88100K .......... .......... .......... .......... .......... 26%  461K 35s\n",
      " 88150K .......... .......... .......... .......... .......... 26% 63.1M 35s\n",
      " 88200K .......... .......... .......... .......... .......... 26%  227M 35s\n",
      " 88250K .......... .......... .......... .......... .......... 26%  636M 35s\n",
      " 88300K .......... .......... .......... .......... .......... 26%  442M 35s\n",
      " 88350K .......... .......... .......... .......... .......... 26%  619M 35s\n",
      " 88400K .......... .......... .......... .......... .......... 26%  527M 34s\n",
      " 88450K .......... .......... .......... .......... .......... 26%  488M 34s\n",
      " 88500K .......... .......... .......... .......... .......... 26%  563M 34s\n",
      " 88550K .......... .......... .......... .......... .......... 26%  183M 34s\n",
      " 88600K .......... .......... .......... .......... .......... 26%  391M 34s\n",
      " 88650K .......... .......... .......... .......... .......... 26%  173M 34s\n",
      " 88700K .......... .......... .......... .......... .......... 26%  660M 34s\n",
      " 88750K .......... .......... .......... .......... .......... 26%  676M 34s\n",
      " 88800K .......... .......... .......... .......... .......... 26%  461K 35s\n",
      " 88850K .......... .......... .......... .......... .......... 26%  157M 35s\n",
      " 88900K .......... .......... .......... .......... .......... 26%  248M 35s\n",
      " 88950K .......... .......... .......... .......... .......... 26%  343M 35s\n",
      " 89000K .......... .......... .......... .......... .......... 26%  201M 34s\n",
      " 89050K .......... .......... .......... .......... .......... 26%  410M 34s\n",
      " 89100K .......... .......... .......... .......... .......... 26%  631M 34s\n",
      " 89150K .......... .......... .......... .......... .......... 26%  431M 34s\n",
      " 89200K .......... .......... .......... .......... .......... 26%  461M 34s\n",
      " 89250K .......... .......... .......... .......... .......... 26%  631M 34s\n",
      " 89300K .......... .......... .......... .......... .......... 26%  521M 34s\n",
      " 89350K .......... .......... .......... .......... .......... 26%  622M 34s\n",
      " 89400K .......... .......... .......... .......... .......... 26%  564M 34s\n",
      " 89450K .......... .......... .......... .......... .......... 26%  233M 34s\n",
      " 89500K .......... .......... .......... .......... .......... 26%  630M 34s\n",
      " 89550K .......... .......... .......... .......... .......... 26%  449K 35s\n",
      " 89600K .......... .......... .......... .......... .......... 26%  178M 34s\n",
      " 89650K .......... .......... .......... .......... .......... 26%  127M 34s\n",
      " 89700K .......... .......... .......... .......... .......... 26%  251M 34s\n",
      " 89750K .......... .......... .......... .......... .......... 26%  657M 34s\n",
      " 89800K .......... .......... .......... .......... .......... 26%  573M 34s\n",
      " 89850K .......... .......... .......... .......... .......... 26% 93.4M 34s\n",
      " 89900K .......... .......... .......... .......... .......... 26%  429M 34s\n",
      " 89950K .......... .......... .......... .......... .......... 26%  496M 34s\n",
      " 90000K .......... .......... .......... .......... .......... 26%  624M 34s\n",
      " 90050K .......... .......... .......... .......... .......... 26%  645M 34s\n",
      " 90100K .......... .......... .......... .......... .......... 26%  416K 35s\n",
      " 90150K .......... .......... .......... .......... .......... 26%  138M 35s\n",
      " 90200K .......... .......... .......... .......... .......... 26%  190M 35s\n",
      " 90250K .......... .......... .......... .......... .......... 26%  365M 34s\n",
      " 90300K .......... .......... .......... .......... .......... 26%  487M 34s\n",
      " 90350K .......... .......... .......... .......... .......... 26%  182M 34s\n",
      " 90400K .......... .......... .......... .......... .......... 26%  513M 34s\n",
      " 90450K .......... .......... .......... .......... .......... 26% 94.0M 34s\n",
      " 90500K .......... .......... .......... .......... .......... 26%  166M 34s\n",
      " 90550K .......... .......... .......... .......... .......... 26%  140M 34s\n",
      " 90600K .......... .......... .......... .......... .......... 26%  125M 34s\n",
      " 90650K .......... .......... .......... .......... .......... 26%  598M 34s\n",
      " 90700K .......... .......... .......... .......... .......... 26%  156M 34s\n",
      " 90750K .......... .......... .......... .......... .......... 26%  646M 34s\n",
      " 90800K .......... .......... .......... .......... .......... 26%  467K 34s\n",
      " 90850K .......... .......... .......... .......... .......... 26%  116M 34s\n",
      " 90900K .......... .......... .......... .......... .......... 26%  462M 34s\n",
      " 90950K .......... .......... .......... .......... .......... 26%  667M 34s\n",
      " 91000K .......... .......... .......... .......... .......... 26%  553M 34s\n",
      " 91050K .......... .......... .......... .......... .......... 26%  361M 34s\n",
      " 91100K .......... .......... .......... .......... .......... 26%  610M 34s\n",
      " 91150K .......... .......... .......... .......... .......... 26%  216M 34s\n",
      " 91200K .......... .......... .......... .......... .......... 27%  423M 34s\n",
      " 91250K .......... .......... .......... .......... .......... 27%  617M 34s\n",
      " 91300K .......... .......... .......... .......... .......... 27%  183M 34s\n",
      " 91350K .......... .......... .......... .......... .......... 27%  160M 34s\n",
      " 91400K .......... .......... .......... .......... .......... 27%  573M 34s\n",
      " 91450K .......... .......... .......... .......... .......... 27%  579M 34s\n",
      " 91500K .......... .......... .......... .......... .......... 27%  460K 34s\n",
      " 91550K .......... .......... .......... .......... .......... 27% 54.5M 34s\n",
      " 91600K .......... .......... .......... .......... .......... 27%  270M 34s\n",
      " 91650K .......... .......... .......... .......... .......... 27%  604M 34s\n",
      " 91700K .......... .......... .......... .......... .......... 27%  656M 34s\n",
      " 91750K .......... .......... .......... .......... .......... 27% 52.6M 34s\n",
      " 91800K .......... .......... .......... .......... .......... 27%  174M 34s\n",
      " 91850K .......... .......... .......... .......... .......... 27%  660M 34s\n",
      " 91900K .......... .......... .......... .......... .......... 27%  642M 34s\n",
      " 91950K .......... .......... .......... .......... .......... 27%  635M 34s\n",
      " 92000K .......... .......... .......... .......... .......... 27%  524M 34s\n",
      " 92050K .......... .......... .......... .......... .......... 27%  525M 34s\n",
      " 92100K .......... .......... .......... .......... .......... 27%  488M 34s\n",
      " 92150K .......... .......... .......... .......... .......... 27%  641M 34s\n",
      " 92200K .......... .......... .......... .......... .......... 27%  588M 34s\n",
      " 92250K .......... .......... .......... .......... .......... 27%  463K 34s\n",
      " 92300K .......... .......... .......... .......... .......... 27%  128M 34s\n",
      " 92350K .......... .......... .......... .......... .......... 27%  282M 34s\n",
      " 92400K .......... .......... .......... .......... .......... 27%  332M 34s\n",
      " 92450K .......... .......... .......... .......... .......... 27%  645M 34s\n",
      " 92500K .......... .......... .......... .......... .......... 27%  656M 34s\n",
      " 92550K .......... .......... .......... .......... .......... 27%  344M 34s\n",
      " 92600K .......... .......... .......... .......... .......... 27%  411M 34s\n",
      " 92650K .......... .......... .......... .......... .......... 27%  261M 34s\n",
      " 92700K .......... .......... .......... .......... .......... 27%  437M 34s\n",
      " 92750K .......... .......... .......... .......... .......... 27%  579M 34s\n",
      " 92800K .......... .......... .......... .......... .......... 27%  518M 34s\n",
      " 92850K .......... .......... .......... .......... .......... 27%  639M 34s\n",
      " 92900K .......... .......... .......... .......... .......... 27%  630M 34s\n",
      " 92950K .......... .......... .......... .......... .......... 27%  462K 34s\n",
      " 93000K .......... .......... .......... .......... .......... 27%  126M 34s\n",
      " 93050K .......... .......... .......... .......... .......... 27%  343M 34s\n",
      " 93100K .......... .......... .......... .......... .......... 27%  198M 34s\n",
      " 93150K .......... .......... .......... .......... .......... 27%  432M 34s\n",
      " 93200K .......... .......... .......... .......... .......... 27%  542M 34s\n",
      " 93250K .......... .......... .......... .......... .......... 27%  621M 34s\n",
      " 93300K .......... .......... .......... .......... .......... 27%  182M 34s\n",
      " 93350K .......... .......... .......... .......... .......... 27%  484M 34s\n",
      " 93400K .......... .......... .......... .......... .......... 27%  527M 34s\n",
      " 93450K .......... .......... .......... .......... .......... 27%  670M 34s\n",
      " 93500K .......... .......... .......... .......... .......... 27%  155M 34s\n",
      " 93550K .......... .......... .......... .......... .......... 27%  641M 34s\n",
      " 93600K .......... .......... .......... .......... .......... 27%  538M 34s\n",
      " 93650K .......... .......... .......... .......... .......... 27%  462K 34s\n",
      " 93700K .......... .......... .......... .......... .......... 27%  214M 34s\n",
      " 93750K .......... .......... .......... .......... .......... 27% 57.1M 34s\n",
      " 93800K .......... .......... .......... .......... .......... 27%  271M 34s\n",
      " 93850K .......... .......... .......... .......... .......... 27%  535M 34s\n",
      " 93900K .......... .......... .......... .......... .......... 27%  649M 34s\n",
      " 93950K .......... .......... .......... .......... .......... 27%  202M 34s\n",
      " 94000K .......... .......... .......... .......... .......... 27%  524M 34s\n",
      " 94050K .......... .......... .......... .......... .......... 27%  294M 34s\n",
      " 94100K .......... .......... .......... .......... .......... 27%  557M 34s\n",
      " 94150K .......... .......... .......... .......... .......... 27%  632M 34s\n",
      " 94200K .......... .......... .......... .......... .......... 27%  408K 34s\n",
      " 94250K .......... .......... .......... .......... .......... 27%  306M 34s\n",
      " 94300K .......... .......... .......... .......... .......... 27%  257M 34s\n",
      " 94350K .......... .......... .......... .......... .......... 27%  253M 34s\n",
      " 94400K .......... .......... .......... .......... .......... 27%  302M 34s\n",
      " 94450K .......... .......... .......... .......... .......... 27%  137M 34s\n",
      " 94500K .......... .......... .......... .......... .......... 27%  351M 34s\n",
      " 94550K .......... .......... .......... .......... .......... 27%  663M 34s\n",
      " 94600K .......... .......... .......... .......... .......... 28% 67.1M 34s\n",
      " 94650K .......... .......... .......... .......... .......... 28%  536M 34s\n",
      " 94700K .......... .......... .......... .......... .......... 28%  639M 34s\n",
      " 94750K .......... .......... .......... .......... .......... 28%  474M 34s\n",
      " 94800K .......... .......... .......... .......... .......... 28%  550M 34s\n",
      " 94850K .......... .......... .......... .......... .......... 28%  408M 34s\n",
      " 94900K .......... .......... .......... .......... .......... 28%  465K 34s\n",
      " 94950K .......... .......... .......... .......... .......... 28%  157M 34s\n",
      " 95000K .......... .......... .......... .......... .......... 28%  125M 34s\n",
      " 95050K .......... .......... .......... .......... .......... 28%  587M 34s\n",
      " 95100K .......... .......... .......... .......... .......... 28%  640M 34s\n",
      " 95150K .......... .......... .......... .......... .......... 28%  402M 34s\n",
      " 95200K .......... .......... .......... .......... .......... 28%  483M 34s\n",
      " 95250K .......... .......... .......... .......... .......... 28%  121M 34s\n",
      " 95300K .......... .......... .......... .......... .......... 28%  250M 34s\n",
      " 95350K .......... .......... .......... .......... .......... 28%  467M 34s\n",
      " 95400K .......... .......... .......... .......... .......... 28%  378M 34s\n",
      " 95450K .......... .......... .......... .......... .......... 28%  496M 34s\n",
      " 95500K .......... .......... .......... .......... .......... 28%  642M 34s\n",
      " 95550K .......... .......... .......... .......... .......... 28%  679M 34s\n",
      " 95600K .......... .......... .......... .......... .......... 28%  462K 34s\n",
      " 95650K .......... .......... .......... .......... .......... 28% 89.7M 34s\n",
      " 95700K .......... .......... .......... .......... .......... 28%  211M 34s\n",
      " 95750K .......... .......... .......... .......... .......... 28%  343M 34s\n",
      " 95800K .......... .......... .......... .......... .......... 28%  217M 34s\n",
      " 95850K .......... .......... .......... .......... .......... 28%  445M 34s\n",
      " 95900K .......... .......... .......... .......... .......... 28%  677M 34s\n",
      " 95950K .......... .......... .......... .......... .......... 28%  337M 34s\n",
      " 96000K .......... .......... .......... .......... .......... 28%  479M 34s\n",
      " 96050K .......... .......... .......... .......... .......... 28%  492M 34s\n",
      " 96100K .......... .......... .......... .......... .......... 28% 92.0M 34s\n",
      " 96150K .......... .......... .......... .......... .......... 28%  340M 34s\n",
      " 96200K .......... .......... .......... .......... .......... 28%  528M 34s\n",
      " 96250K .......... .......... .......... .......... .......... 28%  642M 34s\n",
      " 96300K .......... .......... .......... .......... .......... 28%  659M 34s\n",
      " 96350K .......... .......... .......... .......... .......... 28%  463K 34s\n",
      " 96400K .......... .......... .......... .......... .......... 28%  117M 34s\n",
      " 96450K .......... .......... .......... .......... .......... 28%  524M 34s\n",
      " 96500K .......... .......... .......... .......... .......... 28% 59.2M 34s\n",
      " 96550K .......... .......... .......... .......... .......... 28%  175M 34s\n",
      " 96600K .......... .......... .......... .......... .......... 28%  340M 34s\n",
      " 96650K .......... .......... .......... .......... .......... 28%  435M 34s\n",
      " 96700K .......... .......... .......... .......... .......... 28%  627M 34s\n",
      " 96750K .......... .......... .......... .......... .......... 28%  624M 34s\n",
      " 96800K .......... .......... .......... .......... .......... 28%  534M 34s\n",
      " 96850K .......... .......... .......... .......... .......... 28%  336M 34s\n",
      " 96900K .......... .......... .......... .......... .......... 28%  432M 34s\n",
      " 96950K .......... .......... .......... .......... .......... 28%  562M 34s\n",
      " 97000K .......... .......... .......... .......... .......... 28%  517M 34s\n",
      " 97050K .......... .......... .......... .......... .......... 28%  459K 34s\n",
      " 97100K .......... .......... .......... .......... .......... 28%  363M 34s\n",
      " 97150K .......... .......... .......... .......... .......... 28%  375M 34s\n",
      " 97200K .......... .......... .......... .......... .......... 28%  152M 34s\n",
      " 97250K .......... .......... .......... .......... .......... 28%  307M 34s\n",
      " 97300K .......... .......... .......... .......... .......... 28%  376M 34s\n",
      " 97350K .......... .......... .......... .......... .......... 28%  377M 34s\n",
      " 97400K .......... .......... .......... .......... .......... 28%  563M 34s\n",
      " 97450K .......... .......... .......... .......... .......... 28%  281M 34s\n",
      " 97500K .......... .......... .......... .......... .......... 28%  215M 34s\n",
      " 97550K .......... .......... .......... .......... .......... 28%  359M 34s\n",
      " 97600K .......... .......... .......... .......... .......... 28%  352M 34s\n",
      " 97650K .......... .......... .......... .......... .......... 28%  628M 34s\n",
      " 97700K .......... .......... .......... .......... .......... 28%  655M 34s\n",
      " 97750K .......... .......... .......... .......... .......... 28%  647M 34s\n",
      " 97800K .......... .......... .......... .......... .......... 28%  464K 34s\n",
      " 97850K .......... .......... .......... .......... .......... 28%  282M 34s\n",
      " 97900K .......... .......... .......... .......... .......... 28%  146M 34s\n",
      " 97950K .......... .......... .......... .......... .......... 29%  478M 34s\n",
      " 98000K .......... .......... .......... .......... .......... 29%  407M 34s\n",
      " 98050K .......... .......... .......... .......... .......... 29% 94.0M 34s\n",
      " 98100K .......... .......... .......... .......... .......... 29%  293M 34s\n",
      " 98150K .......... .......... .......... .......... .......... 29%  519M 34s\n",
      " 98200K .......... .......... .......... .......... .......... 29%  562M 34s\n",
      " 98250K .......... .......... .......... .......... .......... 29%  659M 34s\n",
      " 98300K .......... .......... .......... .......... .......... 29%  374K 34s\n",
      " 98350K .......... .......... .......... .......... .......... 29%  103M 34s\n",
      " 98400K .......... .......... .......... .......... .......... 29%  196M 34s\n",
      " 98450K .......... .......... .......... .......... .......... 29%  278M 34s\n",
      " 98500K .......... .......... .......... .......... .......... 29%  436M 34s\n",
      " 98550K .......... .......... .......... .......... .......... 29%  441M 34s\n",
      " 98600K .......... .......... .......... .......... .......... 29%  485M 34s\n",
      " 98650K .......... .......... .......... .......... .......... 29%  340M 34s\n",
      " 98700K .......... .......... .......... .......... .......... 29% 89.9M 34s\n",
      " 98750K .......... .......... .......... .......... .......... 29%  608M 34s\n",
      " 98800K .......... .......... .......... .......... .......... 29% 98.5M 34s\n",
      " 98850K .......... .......... .......... .......... .......... 29%  616M 34s\n",
      " 98900K .......... .......... .......... .......... .......... 29%  442M 34s\n",
      " 98950K .......... .......... .......... .......... .......... 29%  627M 34s\n",
      " 99000K .......... .......... .......... .......... .......... 29%  493K 34s\n",
      " 99050K .......... .......... .......... .......... .......... 29%  101M 34s\n",
      " 99100K .......... .......... .......... .......... .......... 29%  367M 34s\n",
      " 99150K .......... .......... .......... .......... .......... 29%  430M 34s\n",
      " 99200K .......... .......... .......... .......... .......... 29% 49.9M 34s\n",
      " 99250K .......... .......... .......... .......... .......... 29%  509M 34s\n",
      " 99300K .......... .......... .......... .......... .......... 29%  422M 34s\n",
      " 99350K .......... .......... .......... .......... .......... 29%  604M 34s\n",
      " 99400K .......... .......... .......... .......... .......... 29%  407M 34s\n",
      " 99450K .......... .......... .......... .......... .......... 29%  479M 34s\n",
      " 99500K .......... .......... .......... .......... .......... 29%  642M 34s\n",
      " 99550K .......... .......... .......... .......... .......... 29%  656M 34s\n",
      " 99600K .......... .......... .......... .......... .......... 29%  468M 34s\n",
      " 99650K .......... .......... .......... .......... .......... 29%  656M 34s\n",
      " 99700K .......... .......... .......... .......... .......... 29%  476K 34s\n",
      " 99750K .......... .......... .......... .......... .......... 29%  312M 34s\n",
      " 99800K .......... .......... .......... .......... .......... 29%  110M 34s\n",
      " 99850K .......... .......... .......... .......... .......... 29%  295M 34s\n",
      " 99900K .......... .......... .......... .......... .......... 29%  286M 34s\n",
      " 99950K .......... .......... .......... .......... .......... 29%  292M 34s\n",
      "100000K .......... .......... .......... .......... .......... 29%  409M 34s\n",
      "100050K .......... .......... .......... .......... .......... 29%  625M 34s\n",
      "100100K .......... .......... .......... .......... .......... 29%  609M 34s\n",
      "100150K .......... .......... .......... .......... .......... 29%  398M 34s\n",
      "100200K .......... .......... .......... .......... .......... 29%  563M 34s\n",
      "100250K .......... .......... .......... .......... .......... 29%  659M 34s\n",
      "100300K .......... .......... .......... .......... .......... 29%  371M 33s\n",
      "100350K .......... .......... .......... .......... .......... 29%  589M 33s\n",
      "100400K .......... .......... .......... .......... .......... 29%  534M 33s\n",
      "100450K .......... .......... .......... .......... .......... 29%  464K 34s\n",
      "100500K .......... .......... .......... .......... .......... 29%  302M 34s\n",
      "100550K .......... .......... .......... .......... .......... 29%  248M 34s\n",
      "100600K .......... .......... .......... .......... .......... 29%  365M 34s\n",
      "100650K .......... .......... .......... .......... .......... 29%  595M 34s\n",
      "100700K .......... .......... .......... .......... .......... 29%  636M 34s\n",
      "100750K .......... .......... .......... .......... .......... 29%  187M 34s\n",
      "100800K .......... .......... .......... .......... .......... 29%  353M 34s\n",
      "100850K .......... .......... .......... .......... .......... 29%  504M 33s\n",
      "100900K .......... .......... .......... .......... .......... 29%  132M 33s\n",
      "100950K .......... .......... .......... .......... .......... 29%  441M 33s\n",
      "101000K .......... .......... .......... .......... .......... 29%  454M 33s\n",
      "101050K .......... .......... .......... .......... .......... 29%  642M 33s\n",
      "101100K .......... .......... .......... .......... .......... 29%  639M 33s\n",
      "101150K .......... .......... .......... .......... .......... 29%  667M 33s\n",
      "101200K .......... .......... .......... .......... .......... 29%  458K 34s\n",
      "101250K .......... .......... .......... .......... .......... 29%  291M 34s\n",
      "101300K .......... .......... .......... .......... .......... 29%  617M 34s\n",
      "101350K .......... .......... .......... .......... .......... 30%  524M 34s\n",
      "101400K .......... .......... .......... .......... .......... 30%  603M 33s\n",
      "101450K .......... .......... .......... .......... .......... 30%  105M 33s\n",
      "101500K .......... .......... .......... .......... .......... 30%  642M 33s\n",
      "101550K .......... .......... .......... .......... .......... 30%  504M 33s\n",
      "101600K .......... .......... .......... .......... .......... 30%  250M 33s\n",
      "101650K .......... .......... .......... .......... .......... 30%  183M 33s\n",
      "101700K .......... .......... .......... .......... .......... 30%  507M 33s\n",
      "101750K .......... .......... .......... .......... .......... 30%  409M 33s\n",
      "101800K .......... .......... .......... .......... .......... 30%  160M 33s\n",
      "101850K .......... .......... .......... .......... .......... 30%  627M 33s\n",
      "101900K .......... .......... .......... .......... .......... 30%  463K 34s\n",
      "101950K .......... .......... .......... .......... .......... 30%  216M 33s\n",
      "102000K .......... .......... .......... .......... .......... 30%  220M 33s\n",
      "102050K .......... .......... .......... .......... .......... 30%  223M 33s\n",
      "102100K .......... .......... .......... .......... .......... 30%  341M 33s\n",
      "102150K .......... .......... .......... .......... .......... 30%  318M 33s\n",
      "102200K .......... .......... .......... .......... .......... 30%  408M 33s\n",
      "102250K .......... .......... .......... .......... .......... 30%  642M 33s\n",
      "102300K .......... .......... .......... .......... .......... 30%  658M 33s\n",
      "102350K .......... .......... .......... .......... .......... 30%  665M 33s\n",
      "102400K .......... .......... .......... .......... .......... 30%  412K 34s\n",
      "102450K .......... .......... .......... .......... .......... 30%  146M 34s\n",
      "102500K .......... .......... .......... .......... .......... 30% 64.8M 34s\n",
      "102550K .......... .......... .......... .......... .......... 30%  486M 33s\n",
      "102600K .......... .......... .......... .......... .......... 30%  554M 33s\n",
      "102650K .......... .......... .......... .......... .......... 30%  580M 33s\n",
      "102700K .......... .......... .......... .......... .......... 30%  176M 33s\n",
      "102750K .......... .......... .......... .......... .......... 30%  630M 33s\n",
      "102800K .......... .......... .......... .......... .......... 30% 57.5M 33s\n",
      "102850K .......... .......... .......... .......... .......... 30%  483M 33s\n",
      "102900K .......... .......... .......... .......... .......... 30%  465M 33s\n",
      "102950K .......... .......... .......... .......... .......... 30%  628M 33s\n",
      "103000K .......... .......... .......... .......... .......... 30%  581M 33s\n",
      "103050K .......... .......... .......... .......... .......... 30%  637M 33s\n",
      "103100K .......... .......... .......... .......... .......... 30%  467K 33s\n",
      "103150K .......... .......... .......... .......... .......... 30% 65.2M 33s\n",
      "103200K .......... .......... .......... .......... .......... 30%  230M 33s\n",
      "103250K .......... .......... .......... .......... .......... 30%  363M 33s\n",
      "103300K .......... .......... .......... .......... .......... 30%  118M 33s\n",
      "103350K .......... .......... .......... .......... .......... 30%  624M 33s\n",
      "103400K .......... .......... .......... .......... .......... 30%  553M 33s\n",
      "103450K .......... .......... .......... .......... .......... 30% 39.8M 33s\n",
      "103500K .......... .......... .......... .......... .......... 30%  169M 33s\n",
      "103550K .......... .......... .......... .......... .......... 30%  463M 33s\n",
      "103600K .......... .......... .......... .......... .......... 30%  535M 33s\n",
      "103650K .......... .......... .......... .......... .......... 30%  637M 33s\n",
      "103700K .......... .......... .......... .......... .......... 30%  670M 33s\n",
      "103750K .......... .......... .......... .......... .......... 30%  678M 33s\n",
      "103800K .......... .......... .......... .......... .......... 30%  572M 33s\n",
      "103850K .......... .......... .......... .......... .......... 30%  467K 33s\n",
      "103900K .......... .......... .......... .......... .......... 30%  326M 33s\n",
      "103950K .......... .......... .......... .......... .......... 30%  258M 33s\n",
      "104000K .......... .......... .......... .......... .......... 30%  208M 33s\n",
      "104050K .......... .......... .......... .......... .......... 30%  700M 33s\n",
      "104100K .......... .......... .......... .......... .......... 30%  365M 33s\n",
      "104150K .......... .......... .......... .......... .......... 30%  524M 33s\n",
      "104200K .......... .......... .......... .......... .......... 30%  392M 33s\n",
      "104250K .......... .......... .......... .......... .......... 30%  148M 33s\n",
      "104300K .......... .......... .......... .......... .......... 30%  328M 33s\n",
      "104350K .......... .......... .......... .......... .......... 30%  341M 33s\n",
      "104400K .......... .......... .......... .......... .......... 30% 92.3M 33s\n",
      "104450K .......... .......... .......... .......... .......... 30%  181M 33s\n",
      "104500K .......... .......... .......... .......... .......... 30%  563M 33s\n",
      "104550K .......... .......... .......... .......... .......... 30%  462K 33s\n",
      "104600K .......... .......... .......... .......... .......... 30%  329M 33s\n",
      "104650K .......... .......... .......... .......... .......... 30%  106M 33s\n",
      "104700K .......... .......... .......... .......... .......... 30%  325M 33s\n",
      "104750K .......... .......... .......... .......... .......... 31%  576M 33s\n",
      "104800K .......... .......... .......... .......... .......... 31%  260M 33s\n",
      "104850K .......... .......... .......... .......... .......... 31%  117M 33s\n",
      "104900K .......... .......... .......... .......... .......... 31%  468M 33s\n",
      "104950K .......... .......... .......... .......... .......... 31%  639M 33s\n",
      "105000K .......... .......... .......... .......... .......... 31%  116M 33s\n",
      "105050K .......... .......... .......... .......... .......... 31%  620M 33s\n",
      "105100K .......... .......... .......... .......... .......... 31%  662M 33s\n",
      "105150K .......... .......... .......... .......... .......... 31%  653M 33s\n",
      "105200K .......... .......... .......... .......... .......... 31%  404M 33s\n",
      "105250K .......... .......... .......... .......... .......... 31%  653M 33s\n",
      "105300K .......... .......... .......... .......... .......... 31%  462K 33s\n",
      "105350K .......... .......... .......... .......... .......... 31% 64.9M 33s\n",
      "105400K .......... .......... .......... .......... .......... 31%  534M 33s\n",
      "105450K .......... .......... .......... .......... .......... 31%  243M 33s\n",
      "105500K .......... .......... .......... .......... .......... 31%  207M 33s\n",
      "105550K .......... .......... .......... .......... .......... 31%  475M 33s\n",
      "105600K .......... .......... .......... .......... .......... 31%  452M 33s\n",
      "105650K .......... .......... .......... .......... .......... 31%  147M 33s\n",
      "105700K .......... .......... .......... .......... .......... 31%  532M 33s\n",
      "105750K .......... .......... .......... .......... .......... 31%  522M 33s\n",
      "105800K .......... .......... .......... .......... .......... 31%  578M 33s\n",
      "105850K .......... .......... .......... .......... .......... 31% 89.8M 33s\n",
      "105900K .......... .......... .......... .......... .......... 31%  628M 33s\n",
      "105950K .......... .......... .......... .......... .......... 31%  645M 33s\n",
      "106000K .......... .......... .......... .......... .......... 31%  462K 33s\n",
      "106050K .......... .......... .......... .......... .......... 31%  198M 33s\n",
      "106100K .......... .......... .......... .......... .......... 31%  338M 33s\n",
      "106150K .......... .......... .......... .......... .......... 31%  173M 33s\n",
      "106200K .......... .......... .......... .......... .......... 31%  314M 33s\n",
      "106250K .......... .......... .......... .......... .......... 31%  401M 33s\n",
      "106300K .......... .......... .......... .......... .......... 31%  628M 33s\n",
      "106350K .......... .......... .......... .......... .......... 31%  554M 33s\n",
      "106400K .......... .......... .......... .......... .......... 31%  400M 33s\n",
      "106450K .......... .......... .......... .......... .......... 31%  409K 33s\n",
      "106500K .......... .......... .......... .......... .......... 31%  149M 33s\n",
      "106550K .......... .......... .......... .......... .......... 31%  337M 33s\n",
      "106600K .......... .......... .......... .......... .......... 31%  435M 33s\n",
      "106650K .......... .......... .......... .......... .......... 31%  554M 33s\n",
      "106700K .......... .......... .......... .......... .......... 31%  685M 33s\n",
      "106750K .......... .......... .......... .......... .......... 31%  655M 33s\n",
      "106800K .......... .......... .......... .......... .......... 31%  572M 33s\n",
      "106850K .......... .......... .......... .......... .......... 31%  482M 33s\n",
      "106900K .......... .......... .......... .......... .......... 31%  404M 33s\n",
      "106950K .......... .......... .......... .......... .......... 31%  655M 33s\n",
      "107000K .......... .......... .......... .......... .......... 31%  520M 33s\n",
      "107050K .......... .......... .......... .......... .......... 31%  566M 33s\n",
      "107100K .......... .......... .......... .......... .......... 31%  408M 33s\n",
      "107150K .......... .......... .......... .......... .......... 31%  603M 33s\n",
      "107200K .......... .......... .......... .......... .......... 31%  459K 33s\n",
      "107250K .......... .......... .......... .......... .......... 31%  221M 33s\n",
      "107300K .......... .......... .......... .......... .......... 31%  341M 33s\n",
      "107350K .......... .......... .......... .......... .......... 31%  212M 33s\n",
      "107400K .......... .......... .......... .......... .......... 31%  223M 33s\n",
      "107450K .......... .......... .......... .......... .......... 31%  434M 33s\n",
      "107500K .......... .......... .......... .......... .......... 31%  402M 33s\n",
      "107550K .......... .......... .......... .......... .......... 31%  572M 33s\n",
      "107600K .......... .......... .......... .......... .......... 31%  489M 33s\n",
      "107650K .......... .......... .......... .......... .......... 31%  613M 33s\n",
      "107700K .......... .......... .......... .......... .......... 31%  658M 33s\n",
      "107750K .......... .......... .......... .......... .......... 31%  154M 33s\n",
      "107800K .......... .......... .......... .......... .......... 31%  453M 33s\n",
      "107850K .......... .......... .......... .......... .......... 31%  655M 33s\n",
      "107900K .......... .......... .......... .......... .......... 31%  608M 33s\n",
      "107950K .......... .......... .......... .......... .......... 31%  447K 33s\n",
      "108000K .......... .......... .......... .......... .......... 31%  172M 33s\n",
      "108050K .......... .......... .......... .......... .......... 31%  487M 33s\n",
      "108100K .......... .......... .......... .......... .......... 32%  484M 33s\n",
      "108150K .......... .......... .......... .......... .......... 32%  654M 33s\n",
      "108200K .......... .......... .......... .......... .......... 32%  602M 33s\n",
      "108250K .......... .......... .......... .......... .......... 32%  170M 33s\n",
      "108300K .......... .......... .......... .......... .......... 32%  663M 33s\n",
      "108350K .......... .......... .......... .......... .......... 32%  621M 33s\n",
      "108400K .......... .......... .......... .......... .......... 32%  245M 33s\n",
      "108450K .......... .......... .......... .......... .......... 32%  640M 33s\n",
      "108500K .......... .......... .......... .......... .......... 32%  645M 33s\n",
      "108550K .......... .......... .......... .......... .......... 32% 83.2M 33s\n",
      "108600K .......... .......... .......... .......... .......... 32%  561M 33s\n",
      "108650K .......... .......... .......... .......... .......... 32%  474K 33s\n",
      "108700K .......... .......... .......... .......... .......... 32%  358M 33s\n",
      "108750K .......... .......... .......... .......... .......... 32%  133M 33s\n",
      "108800K .......... .......... .......... .......... .......... 32%  189M 33s\n",
      "108850K .......... .......... .......... .......... .......... 32% 87.2M 33s\n",
      "108900K .......... .......... .......... .......... .......... 32%  128M 33s\n",
      "108950K .......... .......... .......... .......... .......... 32%  296M 33s\n",
      "109000K .......... .......... .......... .......... .......... 32%  372M 33s\n",
      "109050K .......... .......... .......... .......... .......... 32%  464M 33s\n",
      "109100K .......... .......... .......... .......... .......... 32%  571M 33s\n",
      "109150K .......... .......... .......... .......... .......... 32%  294M 33s\n",
      "109200K .......... .......... .......... .......... .......... 32%  532M 33s\n",
      "109250K .......... .......... .......... .......... .......... 32%  675M 33s\n",
      "109300K .......... .......... .......... .......... .......... 32%  618M 33s\n",
      "109350K .......... .......... .......... .......... .......... 32%  635M 33s\n",
      "109400K .......... .......... .......... .......... .......... 32%  464K 33s\n",
      "109450K .......... .......... .......... .......... .......... 32% 47.6M 33s\n",
      "109500K .......... .......... .......... .......... .......... 32%  185M 33s\n",
      "109550K .......... .......... .......... .......... .......... 32% 97.8M 33s\n",
      "109600K .......... .......... .......... .......... .......... 32%  108M 33s\n",
      "109650K .......... .......... .......... .......... .......... 32%  579M 33s\n",
      "109700K .......... .......... .......... .......... .......... 32%  621M 33s\n",
      "109750K .......... .......... .......... .......... .......... 32%  624M 33s\n",
      "109800K .......... .......... .......... .......... .......... 32%  175M 33s\n",
      "109850K .......... .......... .......... .......... .......... 32%  487M 33s\n",
      "109900K .......... .......... .......... .......... .......... 32%  621M 33s\n",
      "109950K .......... .......... .......... .......... .......... 32%  568M 33s\n",
      "110000K .......... .......... .......... .......... .......... 32%  145M 33s\n",
      "110050K .......... .......... .......... .......... .......... 32%  537M 33s\n",
      "110100K .......... .......... .......... .......... .......... 32%  567M 33s\n",
      "110150K .......... .......... .......... .......... .......... 32%  466K 33s\n",
      "110200K .......... .......... .......... .......... .......... 32%  170M 33s\n",
      "110250K .......... .......... .......... .......... .......... 32%  364M 33s\n",
      "110300K .......... .......... .......... .......... .......... 32%  115M 33s\n",
      "110350K .......... .......... .......... .......... .......... 32%  370M 33s\n",
      "110400K .......... .......... .......... .......... .......... 32%  164M 33s\n",
      "110450K .......... .......... .......... .......... .......... 32%  505M 33s\n",
      "110500K .......... .......... .......... .......... .......... 32%  595M 33s\n",
      "110550K .......... .......... .......... .......... .......... 32%  411K 33s\n",
      "110600K .......... .......... .......... .......... .......... 32%  202M 33s\n",
      "110650K .......... .......... .......... .......... .......... 32% 92.9M 33s\n",
      "110700K .......... .......... .......... .......... .......... 32%  352M 33s\n",
      "110750K .......... .......... .......... .......... .......... 32% 46.4M 33s\n",
      "110800K .......... .......... .......... .......... .......... 32%  272M 33s\n",
      "110850K .......... .......... .......... .......... .......... 32%  605M 33s\n",
      "110900K .......... .......... .......... .......... .......... 32%  204M 33s\n",
      "110950K .......... .......... .......... .......... .......... 32%  528M 33s\n",
      "111000K .......... .......... .......... .......... .......... 32%  576M 33s\n",
      "111050K .......... .......... .......... .......... .......... 32%  159M 33s\n",
      "111100K .......... .......... .......... .......... .......... 32%  625M 33s\n",
      "111150K .......... .......... .......... .......... .......... 32%  146M 33s\n",
      "111200K .......... .......... .......... .......... .......... 32%  503M 33s\n",
      "111250K .......... .......... .......... .......... .......... 32%  567M 32s\n",
      "111300K .......... .......... .......... .......... .......... 32%  459K 33s\n",
      "111350K .......... .......... .......... .......... .......... 32%  323M 33s\n",
      "111400K .......... .......... .......... .......... .......... 32% 92.8M 33s\n",
      "111450K .......... .......... .......... .......... .......... 32%  345M 33s\n",
      "111500K .......... .......... .......... .......... .......... 33%  188M 33s\n",
      "111550K .......... .......... .......... .......... .......... 33%  451M 33s\n",
      "111600K .......... .......... .......... .......... .......... 33%  428M 33s\n",
      "111650K .......... .......... .......... .......... .......... 33%  636M 33s\n",
      "111700K .......... .......... .......... .......... .......... 33%  659M 33s\n",
      "111750K .......... .......... .......... .......... .......... 33%  120M 33s\n",
      "111800K .......... .......... .......... .......... .......... 33%  406M 32s\n",
      "111850K .......... .......... .......... .......... .......... 33%  450M 32s\n",
      "111900K .......... .......... .......... .......... .......... 33%  668M 32s\n",
      "111950K .......... .......... .......... .......... .......... 33%  653M 32s\n",
      "112000K .......... .......... .......... .......... .......... 33%  518M 32s\n",
      "112050K .......... .......... .......... .......... .......... 33%  464K 33s\n",
      "112100K .......... .......... .......... .......... .......... 33% 91.3M 33s\n",
      "112150K .......... .......... .......... .......... .......... 33%  155M 33s\n",
      "112200K .......... .......... .......... .......... .......... 33%  364M 33s\n",
      "112250K .......... .......... .......... .......... .......... 33%  361M 33s\n",
      "112300K .......... .......... .......... .......... .......... 33%  504M 32s\n",
      "112350K .......... .......... .......... .......... .......... 33%  618M 32s\n",
      "112400K .......... .......... .......... .......... .......... 33%  537M 32s\n",
      "112450K .......... .......... .......... .......... .......... 33%  497M 32s\n",
      "112500K .......... .......... .......... .......... .......... 33%  224M 32s\n",
      "112550K .......... .......... .......... .......... .......... 33%  509M 32s\n",
      "112600K .......... .......... .......... .......... .......... 33%  560M 32s\n",
      "112650K .......... .......... .......... .......... .......... 33%  656M 32s\n",
      "112700K .......... .......... .......... .......... .......... 33%  125M 32s\n",
      "112750K .......... .......... .......... .......... .......... 33%  507M 32s\n",
      "112800K .......... .......... .......... .......... .......... 33%  441K 32s\n",
      "112850K .......... .......... .......... .......... .......... 33%  382M 32s\n",
      "112900K .......... .......... .......... .......... .......... 33%  552M 32s\n",
      "112950K .......... .......... .......... .......... .......... 33%  681M 32s\n",
      "113000K .......... .......... .......... .......... .......... 33%  451M 32s\n",
      "113050K .......... .......... .......... .......... .......... 33%  581M 32s\n",
      "113100K .......... .......... .......... .......... .......... 33% 54.4M 32s\n",
      "113150K .......... .......... .......... .......... .......... 33%  560M 32s\n",
      "113200K .......... .......... .......... .......... .......... 33%  531M 32s\n",
      "113250K .......... .......... .......... .......... .......... 33%  464M 32s\n",
      "113300K .......... .......... .......... .......... .......... 33%  471M 32s\n",
      "113350K .......... .......... .......... .......... .......... 33%  158M 32s\n",
      "113400K .......... .......... .......... .......... .......... 33%  406M 32s\n",
      "113450K .......... .......... .......... .......... .......... 33%  646M 32s\n",
      "113500K .......... .......... .......... .......... .......... 33%  458K 32s\n",
      "113550K .......... .......... .......... .......... .......... 33%  163M 32s\n",
      "113600K .......... .......... .......... .......... .......... 33%  154M 32s\n",
      "113650K .......... .......... .......... .......... .......... 33%  459M 32s\n",
      "113700K .......... .......... .......... .......... .......... 33%  717M 32s\n",
      "113750K .......... .......... .......... .......... .......... 33%  375M 32s\n",
      "113800K .......... .......... .......... .......... .......... 33%  628M 32s\n",
      "113850K .......... .......... .......... .......... .......... 33%  717M 32s\n",
      "113900K .......... .......... .......... .......... .......... 33%  342M 32s\n",
      "113950K .......... .......... .......... .......... .......... 33%  103M 32s\n",
      "114000K .......... .......... .......... .......... .......... 33%  490M 32s\n",
      "114050K .......... .......... .......... .......... .......... 33%  664M 32s\n",
      "114100K .......... .......... .......... .......... .......... 33%  144M 32s\n",
      "114150K .......... .......... .......... .......... .......... 33%  676M 32s\n",
      "114200K .......... .......... .......... .......... .......... 33%  489M 32s\n",
      "114250K .......... .......... .......... .......... .......... 33%  468K 32s\n",
      "114300K .......... .......... .......... .......... .......... 33%  250M 32s\n",
      "114350K .......... .......... .......... .......... .......... 33%  510M 32s\n",
      "114400K .......... .......... .......... .......... .......... 33%  322M 32s\n",
      "114450K .......... .......... .......... .......... .......... 33%  484M 32s\n",
      "114500K .......... .......... .......... .......... .......... 33%  533M 32s\n",
      "114550K .......... .......... .......... .......... .......... 33%  131M 32s\n",
      "114600K .......... .......... .......... .......... .......... 33%  240M 32s\n",
      "114650K .......... .......... .......... .......... .......... 33%  411K 32s\n",
      "114700K .......... .......... .......... .......... .......... 33%  215M 32s\n",
      "114750K .......... .......... .......... .......... .......... 33%  238M 32s\n",
      "114800K .......... .......... .......... .......... .......... 33%  336M 32s\n",
      "114850K .......... .......... .......... .......... .......... 34%  458M 32s\n",
      "114900K .......... .......... .......... .......... .......... 34%  670M 32s\n",
      "114950K .......... .......... .......... .......... .......... 34% 97.5M 32s\n",
      "115000K .......... .......... .......... .......... .......... 34%  513M 32s\n",
      "115050K .......... .......... .......... .......... .......... 34%  605M 32s\n",
      "115100K .......... .......... .......... .......... .......... 34%  627M 32s\n",
      "115150K .......... .......... .......... .......... .......... 34% 47.9M 32s\n",
      "115200K .......... .......... .......... .......... .......... 34%  412M 32s\n",
      "115250K .......... .......... .......... .......... .......... 34%  669M 32s\n",
      "115300K .......... .......... .......... .......... .......... 34%  647M 32s\n",
      "115350K .......... .......... .......... .......... .......... 34%  650M 32s\n",
      "115400K .......... .......... .......... .......... .......... 34%  465K 32s\n",
      "115450K .......... .......... .......... .......... .......... 34%  338M 32s\n",
      "115500K .......... .......... .......... .......... .......... 34% 98.8M 32s\n",
      "115550K .......... .......... .......... .......... .......... 34% 20.6M 32s\n",
      "115600K .......... .......... .......... .......... .......... 34%  208M 32s\n",
      "115650K .......... .......... .......... .......... .......... 34%  354M 32s\n",
      "115700K .......... .......... .......... .......... .......... 34%  154M 32s\n",
      "115750K .......... .......... .......... .......... .......... 34%  274M 32s\n",
      "115800K .......... .......... .......... .......... .......... 34%  577M 32s\n",
      "115850K .......... .......... .......... .......... .......... 34%  633M 32s\n",
      "115900K .......... .......... .......... .......... .......... 34%  666M 32s\n",
      "115950K .......... .......... .......... .......... .......... 34%  650M 32s\n",
      "116000K .......... .......... .......... .......... .......... 34%  457M 32s\n",
      "116050K .......... .......... .......... .......... .......... 34%  551M 32s\n",
      "116100K .......... .......... .......... .......... .......... 34%  642M 32s\n",
      "116150K .......... .......... .......... .......... .......... 34%  471K 32s\n",
      "116200K .......... .......... .......... .......... .......... 34%  191M 32s\n",
      "116250K .......... .......... .......... .......... .......... 34%  296M 32s\n",
      "116300K .......... .......... .......... .......... .......... 34%  292M 32s\n",
      "116350K .......... .......... .......... .......... .......... 34%  374M 32s\n",
      "116400K .......... .......... .......... .......... .......... 34%  294M 32s\n",
      "116450K .......... .......... .......... .......... .......... 34%  135M 32s\n",
      "116500K .......... .......... .......... .......... .......... 34%  727M 32s\n",
      "116550K .......... .......... .......... .......... .......... 34%  745M 32s\n",
      "116600K .......... .......... .......... .......... .......... 34% 75.2M 32s\n",
      "116650K .......... .......... .......... .......... .......... 34%  467M 32s\n",
      "116700K .......... .......... .......... .......... .......... 34%  380M 32s\n",
      "116750K .......... .......... .......... .......... .......... 34%  636M 32s\n",
      "116800K .......... .......... .......... .......... .......... 34%  541M 32s\n",
      "116850K .......... .......... .......... .......... .......... 34%  558M 32s\n",
      "116900K .......... .......... .......... .......... .......... 34%  462K 32s\n",
      "116950K .......... .......... .......... .......... .......... 34%  140M 32s\n",
      "117000K .......... .......... .......... .......... .......... 34%  316M 32s\n",
      "117050K .......... .......... .......... .......... .......... 34%  682M 32s\n",
      "117100K .......... .......... .......... .......... .......... 34%  675M 32s\n",
      "117150K .......... .......... .......... .......... .......... 34%  471M 32s\n",
      "117200K .......... .......... .......... .......... .......... 34%  540M 32s\n",
      "117250K .......... .......... .......... .......... .......... 34%  180M 32s\n",
      "117300K .......... .......... .......... .......... .......... 34%  632M 32s\n",
      "117350K .......... .......... .......... .......... .......... 34%  194M 32s\n",
      "117400K .......... .......... .......... .......... .......... 34%  399M 32s\n",
      "117450K .......... .......... .......... .......... .......... 34%  586M 32s\n",
      "117500K .......... .......... .......... .......... .......... 34%  508M 32s\n",
      "117550K .......... .......... .......... .......... .......... 34%  667M 32s\n",
      "117600K .......... .......... .......... .......... .......... 34%  170M 32s\n",
      "117650K .......... .......... .......... .......... .......... 34%  459K 32s\n",
      "117700K .......... .......... .......... .......... .......... 34%  324M 32s\n",
      "117750K .......... .......... .......... .......... .......... 34% 86.0M 32s\n",
      "117800K .......... .......... .......... .......... .......... 34%  184M 32s\n",
      "117850K .......... .......... .......... .......... .......... 34%  622M 32s\n",
      "117900K .......... .......... .......... .......... .......... 34%  673M 32s\n",
      "117950K .......... .......... .......... .......... .......... 34%  672M 32s\n",
      "118000K .......... .......... .......... .......... .......... 34%  551M 32s\n",
      "118050K .......... .......... .......... .......... .......... 34%  707M 32s\n",
      "118100K .......... .......... .......... .......... .......... 34% 79.0M 32s\n",
      "118150K .......... .......... .......... .......... .......... 34%  564M 32s\n",
      "118200K .......... .......... .......... .......... .......... 34%  332M 32s\n",
      "118250K .......... .......... .......... .......... .......... 35%  606M 32s\n",
      "118300K .......... .......... .......... .......... .......... 35%  641M 32s\n",
      "118350K .......... .......... .......... .......... .......... 35%  633M 32s\n",
      "118400K .......... .......... .......... .......... .......... 35%  446K 32s\n",
      "118450K .......... .......... .......... .......... .......... 35%  338M 32s\n",
      "118500K .......... .......... .......... .......... .......... 35% 42.4M 32s\n",
      "118550K .......... .......... .......... .......... .......... 35%  577M 32s\n",
      "118600K .......... .......... .......... .......... .......... 35%  581M 32s\n",
      "118650K .......... .......... .......... .......... .......... 35%  115M 32s\n",
      "118700K .......... .......... .......... .......... .......... 35%  317M 32s\n",
      "118750K .......... .......... .......... .......... .......... 35%  404K 32s\n",
      "118800K .......... .......... .......... .......... .......... 35%  217M 32s\n",
      "118850K .......... .......... .......... .......... .......... 35%  216M 32s\n",
      "118900K .......... .......... .......... .......... .......... 35%  311M 32s\n",
      "118950K .......... .......... .......... .......... .......... 35%  375M 32s\n",
      "119000K .......... .......... .......... .......... .......... 35%  292M 32s\n",
      "119050K .......... .......... .......... .......... .......... 35%  289M 32s\n",
      "119100K .......... .......... .......... .......... .......... 35%  347M 32s\n",
      "119150K .......... .......... .......... .......... .......... 35%  427M 32s\n",
      "119200K .......... .......... .......... .......... .......... 35%  483M 32s\n",
      "119250K .......... .......... .......... .......... .......... 35%  437M 32s\n",
      "119300K .......... .......... .......... .......... .......... 35%  417M 32s\n",
      "119350K .......... .......... .......... .......... .......... 35%  631M 32s\n",
      "119400K .......... .......... .......... .......... .......... 35%  585M 32s\n",
      "119450K .......... .......... .......... .......... .......... 35%  682M 32s\n",
      "119500K .......... .......... .......... .......... .......... 35%  463K 32s\n",
      "119550K .......... .......... .......... .......... .......... 35%  149M 32s\n",
      "119600K .......... .......... .......... .......... .......... 35%  361M 32s\n",
      "119650K .......... .......... .......... .......... .......... 35%  195M 32s\n",
      "119700K .......... .......... .......... .......... .......... 35%  352M 32s\n",
      "119750K .......... .......... .......... .......... .......... 35%  510M 32s\n",
      "119800K .......... .......... .......... .......... .......... 35%  489M 32s\n",
      "119850K .......... .......... .......... .......... .......... 35%  653M 32s\n",
      "119900K .......... .......... .......... .......... .......... 35% 65.3M 32s\n",
      "119950K .......... .......... .......... .......... .......... 35%  522M 32s\n",
      "120000K .......... .......... .......... .......... .......... 35%  371M 32s\n",
      "120050K .......... .......... .......... .......... .......... 35%  547M 32s\n",
      "120100K .......... .......... .......... .......... .......... 35%  656M 32s\n",
      "120150K .......... .......... .......... .......... .......... 35%  652M 32s\n",
      "120200K .......... .......... .......... .......... .......... 35%  581M 32s\n",
      "120250K .......... .......... .......... .......... .......... 35%  466K 32s\n",
      "120300K .......... .......... .......... .......... .......... 35% 66.5M 32s\n",
      "120350K .......... .......... .......... .......... .......... 35%  548M 32s\n",
      "120400K .......... .......... .......... .......... .......... 35%  301M 32s\n",
      "120450K .......... .......... .......... .......... .......... 35%  462M 32s\n",
      "120500K .......... .......... .......... .......... .......... 35%  666M 32s\n",
      "120550K .......... .......... .......... .......... .......... 35%  385M 32s\n",
      "120600K .......... .......... .......... .......... .......... 35%  535M 32s\n",
      "120650K .......... .......... .......... .......... .......... 35%  665M 32s\n",
      "120700K .......... .......... .......... .......... .......... 35%  656M 32s\n",
      "120750K .......... .......... .......... .......... .......... 35%  282M 32s\n",
      "120800K .......... .......... .......... .......... .......... 35%  489M 32s\n",
      "120850K .......... .......... .......... .......... .......... 35%  450M 31s\n",
      "120900K .......... .......... .......... .......... .......... 35%  201M 31s\n",
      "120950K .......... .......... .......... .......... .......... 35%  608M 31s\n",
      "121000K .......... .......... .......... .......... .......... 35%  461K 32s\n",
      "121050K .......... .......... .......... .......... .......... 35% 59.9M 32s\n",
      "121100K .......... .......... .......... .......... .......... 35%  101M 32s\n",
      "121150K .......... .......... .......... .......... .......... 35%  432M 32s\n",
      "121200K .......... .......... .......... .......... .......... 35%  520M 32s\n",
      "121250K .......... .......... .......... .......... .......... 35%  640M 32s\n",
      "121300K .......... .......... .......... .......... .......... 35% 43.4M 32s\n",
      "121350K .......... .......... .......... .......... .......... 35%  512M 31s\n",
      "121400K .......... .......... .......... .......... .......... 35%  552M 31s\n",
      "121450K .......... .......... .......... .......... .......... 35%  676M 31s\n",
      "121500K .......... .......... .......... .......... .......... 35% 45.8M 31s\n",
      "121550K .......... .......... .......... .......... .......... 35%  377M 31s\n",
      "121600K .......... .......... .......... .......... .......... 35%  478M 31s\n",
      "121650K .......... .......... .......... .......... .......... 36%  646M 31s\n",
      "121700K .......... .......... .......... .......... .......... 36%  648M 31s\n",
      "121750K .......... .......... .......... .......... .......... 36%  463K 32s\n",
      "121800K .......... .......... .......... .......... .......... 36%  258M 31s\n",
      "121850K .......... .......... .......... .......... .......... 36%  207M 31s\n",
      "121900K .......... .......... .......... .......... .......... 36%  380M 31s\n",
      "121950K .......... .......... .......... .......... .......... 36%  457M 31s\n",
      "122000K .......... .......... .......... .......... .......... 36%  560M 31s\n",
      "122050K .......... .......... .......... .......... .......... 36%  146M 31s\n",
      "122100K .......... .......... .......... .......... .......... 36%  242M 31s\n",
      "122150K .......... .......... .......... .......... .......... 36%  567M 31s\n",
      "122200K .......... .......... .......... .......... .......... 36%  348M 31s\n",
      "122250K .......... .......... .......... .......... .......... 36%  449M 31s\n",
      "122300K .......... .......... .......... .......... .......... 36%  651M 31s\n",
      "122350K .......... .......... .......... .......... .......... 36%  626M 31s\n",
      "122400K .......... .......... .......... .......... .......... 36%  526M 31s\n",
      "122450K .......... .......... .......... .......... .......... 36%  473M 31s\n",
      "122500K .......... .......... .......... .......... .......... 36%  469K 31s\n",
      "122550K .......... .......... .......... .......... .......... 36%  186M 31s\n",
      "122600K .......... .......... .......... .......... .......... 36% 71.2M 31s\n",
      "122650K .......... .......... .......... .......... .......... 36%  138M 31s\n",
      "122700K .......... .......... .......... .......... .......... 36%  433M 31s\n",
      "122750K .......... .......... .......... .......... .......... 36%  463M 31s\n",
      "122800K .......... .......... .......... .......... .......... 36%  521M 31s\n",
      "122850K .......... .......... .......... .......... .......... 36%  391K 31s\n",
      "122900K .......... .......... .......... .......... .......... 36%  241M 31s\n",
      "122950K .......... .......... .......... .......... .......... 36%  281M 31s\n",
      "123000K .......... .......... .......... .......... .......... 36%  377M 31s\n",
      "123050K .......... .......... .......... .......... .......... 36%  509M 31s\n",
      "123100K .......... .......... .......... .......... .......... 36%  642M 31s\n",
      "123150K .......... .......... .......... .......... .......... 36%  673M 31s\n",
      "123200K .......... .......... .......... .......... .......... 36%  118M 31s\n",
      "123250K .......... .......... .......... .......... .......... 36%  360M 31s\n",
      "123300K .......... .......... .......... .......... .......... 36%  561M 31s\n",
      "123350K .......... .......... .......... .......... .......... 36%  640M 31s\n",
      "123400K .......... .......... .......... .......... .......... 36% 48.0M 31s\n",
      "123450K .......... .......... .......... .......... .......... 36%  316M 31s\n",
      "123500K .......... .......... .......... .......... .......... 36%  560M 31s\n",
      "123550K .......... .......... .......... .......... .......... 36%  655M 31s\n",
      "123600K .......... .......... .......... .......... .......... 36%  465K 31s\n",
      "123650K .......... .......... .......... .......... .......... 36%  276M 31s\n",
      "123700K .......... .......... .......... .......... .......... 36%  219M 31s\n",
      "123750K .......... .......... .......... .......... .......... 36%  248M 31s\n",
      "123800K .......... .......... .......... .......... .......... 36%  328M 31s\n",
      "123850K .......... .......... .......... .......... .......... 36%  245M 31s\n",
      "123900K .......... .......... .......... .......... .......... 36%  294M 31s\n",
      "123950K .......... .......... .......... .......... .......... 36%  498M 31s\n",
      "124000K .......... .......... .......... .......... .......... 36%  422M 31s\n",
      "124050K .......... .......... .......... .......... .......... 36%  641M 31s\n",
      "124100K .......... .......... .......... .......... .......... 36%  139M 31s\n",
      "124150K .......... .......... .......... .......... .......... 36%  387M 31s\n",
      "124200K .......... .......... .......... .......... .......... 36%  577M 31s\n",
      "124250K .......... .......... .......... .......... .......... 36%  653M 31s\n",
      "124300K .......... .......... .......... .......... .......... 36%  363M 31s\n",
      "124350K .......... .......... .......... .......... .......... 36%  653M 31s\n",
      "124400K .......... .......... .......... .......... .......... 36%  452K 31s\n",
      "124450K .......... .......... .......... .......... .......... 36%  582M 31s\n",
      "124500K .......... .......... .......... .......... .......... 36%  112M 31s\n",
      "124550K .......... .......... .......... .......... .......... 36% 80.9M 31s\n",
      "124600K .......... .......... .......... .......... .......... 36%  229M 31s\n",
      "124650K .......... .......... .......... .......... .......... 36%  527M 31s\n",
      "124700K .......... .......... .......... .......... .......... 36%  664M 31s\n",
      "124750K .......... .......... .......... .......... .......... 36%  675M 31s\n",
      "124800K .......... .......... .......... .......... .......... 36%  426M 31s\n",
      "124850K .......... .......... .......... .......... .......... 36%  550M 31s\n",
      "124900K .......... .......... .......... .......... .......... 36%  636M 31s\n",
      "124950K .......... .......... .......... .......... .......... 36%  591M 31s\n",
      "125000K .......... .......... .......... .......... .......... 37%  239M 31s\n",
      "125050K .......... .......... .......... .......... .......... 37%  651M 31s\n",
      "125100K .......... .......... .......... .......... .......... 37%  669M 31s\n",
      "125150K .......... .......... .......... .......... .......... 37%  467K 31s\n",
      "125200K .......... .......... .......... .......... .......... 37%  204M 31s\n",
      "125250K .......... .......... .......... .......... .......... 37%  145M 31s\n",
      "125300K .......... .......... .......... .......... .......... 37%  363M 31s\n",
      "125350K .......... .......... .......... .......... .......... 37%  266M 31s\n",
      "125400K .......... .......... .......... .......... .......... 37%  305M 31s\n",
      "125450K .......... .......... .......... .......... .......... 37%  635M 31s\n",
      "125500K .......... .......... .......... .......... .......... 37%  669M 31s\n",
      "125550K .......... .......... .......... .......... .......... 37%  122M 31s\n",
      "125600K .......... .......... .......... .......... .......... 37%  179M 31s\n",
      "125650K .......... .......... .......... .......... .......... 37%  635M 31s\n",
      "125700K .......... .......... .......... .......... .......... 37%  646M 31s\n",
      "125750K .......... .......... .......... .......... .......... 37%  642M 31s\n",
      "125800K .......... .......... .......... .......... .......... 37%  573M 31s\n",
      "125850K .......... .......... .......... .......... .......... 37%  165M 31s\n",
      "125900K .......... .......... .......... .......... .......... 37%  463K 31s\n",
      "125950K .......... .......... .......... .......... .......... 37% 89.0M 31s\n",
      "126000K .......... .......... .......... .......... .......... 37% 97.1M 31s\n",
      "126050K .......... .......... .......... .......... .......... 37%  524M 31s\n",
      "126100K .......... .......... .......... .......... .......... 37%  489M 31s\n",
      "126150K .......... .......... .......... .......... .......... 37%  620M 31s\n",
      "126200K .......... .......... .......... .......... .......... 37%  148M 31s\n",
      "126250K .......... .......... .......... .......... .......... 37%  635M 31s\n",
      "126300K .......... .......... .......... .......... .......... 37%  643M 31s\n",
      "126350K .......... .......... .......... .......... .......... 37%  152M 31s\n",
      "126400K .......... .......... .......... .......... .......... 37%  366M 31s\n",
      "126450K .......... .......... .......... .......... .......... 37%  640M 31s\n",
      "126500K .......... .......... .......... .......... .......... 37%  619M 31s\n",
      "126550K .......... .......... .......... .......... .......... 37%  448M 31s\n",
      "126600K .......... .......... .......... .......... .......... 37%  359M 31s\n",
      "126650K .......... .......... .......... .......... .......... 37%  659M 31s\n",
      "126700K .......... .......... .......... .......... .......... 37%  465K 31s\n",
      "126750K .......... .......... .......... .......... .......... 37%  288M 31s\n",
      "126800K .......... .......... .......... .......... .......... 37%  537M 31s\n",
      "126850K .......... .......... .......... .......... .......... 37%  674M 31s\n",
      "126900K .......... .......... .......... .......... .......... 37%  683M 31s\n",
      "126950K .......... .......... .......... .......... .......... 37%  410K 31s\n",
      "127000K .......... .......... .......... .......... .......... 37%  166M 31s\n",
      "127050K .......... .......... .......... .......... .......... 37%  357M 31s\n",
      "127100K .......... .......... .......... .......... .......... 37%  366M 31s\n",
      "127150K .......... .......... .......... .......... .......... 37%  364M 31s\n",
      "127200K .......... .......... .......... .......... .......... 37%  239M 31s\n",
      "127250K .......... .......... .......... .......... .......... 37%  501M 31s\n",
      "127300K .......... .......... .......... .......... .......... 37%  672M 31s\n",
      "127350K .......... .......... .......... .......... .......... 37%  604M 31s\n",
      "127400K .......... .......... .......... .......... .......... 37%  597M 31s\n",
      "127450K .......... .......... .......... .......... .......... 37% 87.7M 31s\n",
      "127500K .......... .......... .......... .......... .......... 37%  451M 31s\n",
      "127550K .......... .......... .......... .......... .......... 37%  445M 31s\n",
      "127600K .......... .......... .......... .......... .......... 37%  539M 31s\n",
      "127650K .......... .......... .......... .......... .......... 37%  649M 31s\n",
      "127700K .......... .......... .......... .......... .......... 37%  461K 31s\n",
      "127750K .......... .......... .......... .......... .......... 37%  309M 31s\n",
      "127800K .......... .......... .......... .......... .......... 37% 38.2M 31s\n",
      "127850K .......... .......... .......... .......... .......... 37%  176M 31s\n",
      "127900K .......... .......... .......... .......... .......... 37%  223M 31s\n",
      "127950K .......... .......... .......... .......... .......... 37%  333M 31s\n",
      "128000K .......... .......... .......... .......... .......... 37%  467M 31s\n",
      "128050K .......... .......... .......... .......... .......... 37%  449M 31s\n",
      "128100K .......... .......... .......... .......... .......... 37%  424M 31s\n",
      "128150K .......... .......... .......... .......... .......... 37%  644M 31s\n",
      "128200K .......... .......... .......... .......... .......... 37%  592M 31s\n",
      "128250K .......... .......... .......... .......... .......... 37%  642M 31s\n",
      "128300K .......... .......... .......... .......... .......... 37%  667M 31s\n",
      "128350K .......... .......... .......... .......... .......... 37%  658M 31s\n",
      "128400K .......... .......... .......... .......... .......... 38%  543M 31s\n",
      "128450K .......... .......... .......... .......... .......... 38%  662M 31s\n",
      "128500K .......... .......... .......... .......... .......... 38%  464K 31s\n",
      "128550K .......... .......... .......... .......... .......... 38%  357M 31s\n",
      "128600K .......... .......... .......... .......... .......... 38%  140M 31s\n",
      "128650K .......... .......... .......... .......... .......... 38%  688M 31s\n",
      "128700K .......... .......... .......... .......... .......... 38%  663M 31s\n",
      "128750K .......... .......... .......... .......... .......... 38% 91.1M 31s\n",
      "128800K .......... .......... .......... .......... .......... 38%  289M 31s\n",
      "128850K .......... .......... .......... .......... .......... 38%  579M 31s\n",
      "128900K .......... .......... .......... .......... .......... 38%  642M 31s\n",
      "128950K .......... .......... .......... .......... .......... 38%  650M 31s\n",
      "129000K .......... .......... .......... .......... .......... 38%  127M 31s\n",
      "129050K .......... .......... .......... .......... .......... 38%  400M 31s\n",
      "129100K .......... .......... .......... .......... .......... 38%  666M 31s\n",
      "129150K .......... .......... .......... .......... .......... 38%  148M 31s\n",
      "129200K .......... .......... .......... .......... .......... 38%  505M 31s\n",
      "129250K .......... .......... .......... .......... .......... 38%  632M 30s\n",
      "129300K .......... .......... .......... .......... .......... 38%  463K 31s\n",
      "129350K .......... .......... .......... .......... .......... 38%  201M 31s\n",
      "129400K .......... .......... .......... .......... .......... 38%  229M 31s\n",
      "129450K .......... .......... .......... .......... .......... 38%  306M 31s\n",
      "129500K .......... .......... .......... .......... .......... 38%  291M 31s\n",
      "129550K .......... .......... .......... .......... .......... 38%  645M 31s\n",
      "129600K .......... .......... .......... .......... .......... 38%  424M 31s\n",
      "129650K .......... .......... .......... .......... .......... 38%  553M 31s\n",
      "129700K .......... .......... .......... .......... .......... 38%  139M 30s\n",
      "129750K .......... .......... .......... .......... .......... 38%  593M 30s\n",
      "129800K .......... .......... .......... .......... .......... 38%  577M 30s\n",
      "129850K .......... .......... .......... .......... .......... 38%  207M 30s\n",
      "129900K .......... .......... .......... .......... .......... 38%  613M 30s\n",
      "129950K .......... .......... .......... .......... .......... 38%  161M 30s\n",
      "130000K .......... .......... .......... .......... .......... 38%  529M 30s\n",
      "130050K .......... .......... .......... .......... .......... 38%  572M 30s\n",
      "130100K .......... .......... .......... .......... .......... 38%  444K 31s\n",
      "130150K .......... .......... .......... .......... .......... 38%  161M 31s\n",
      "130200K .......... .......... .......... .......... .......... 38%  281M 30s\n",
      "130250K .......... .......... .......... .......... .......... 38%  226M 30s\n",
      "130300K .......... .......... .......... .......... .......... 38%  514M 30s\n",
      "130350K .......... .......... .......... .......... .......... 38%  491M 30s\n",
      "130400K .......... .......... .......... .......... .......... 38%  366M 30s\n",
      "130450K .......... .......... .......... .......... .......... 38%  359M 30s\n",
      "130500K .......... .......... .......... .......... .......... 38%  585M 30s\n",
      "130550K .......... .......... .......... .......... .......... 38%  574M 30s\n",
      "130600K .......... .......... .......... .......... .......... 38%  127M 30s\n",
      "130650K .......... .......... .......... .......... .......... 38%  486M 30s\n",
      "130700K .......... .......... .......... .......... .......... 38%  493M 30s\n",
      "130750K .......... .......... .......... .......... .......... 38%  539M 30s\n",
      "130800K .......... .......... .......... .......... .......... 38%  635M 30s\n",
      "130850K .......... .......... .......... .......... .......... 38%  480K 30s\n",
      "130900K .......... .......... .......... .......... .......... 38%  185M 30s\n",
      "130950K .......... .......... .......... .......... .......... 38%  126M 30s\n",
      "131000K .......... .......... .......... .......... .......... 38%  266M 30s\n",
      "131050K .......... .......... .......... .......... .......... 38%  354K 31s\n",
      "131100K .......... .......... .......... .......... .......... 38%  259M 31s\n",
      "131150K .......... .......... .......... .......... .......... 38%  376M 31s\n",
      "131200K .......... .......... .......... .......... .......... 38%  406M 31s\n",
      "131250K .......... .......... .......... .......... .......... 38% 54.6M 30s\n",
      "131300K .......... .......... .......... .......... .......... 38%  564M 30s\n",
      "131350K .......... .......... .......... .......... .......... 38%  182M 30s\n",
      "131400K .......... .......... .......... .......... .......... 38%  620M 30s\n",
      "131450K .......... .......... .......... .......... .......... 38%  485M 30s\n",
      "131500K .......... .......... .......... .......... .......... 38%  275M 30s\n",
      "131550K .......... .......... .......... .......... .......... 38%  431M 30s\n",
      "131600K .......... .......... .......... .......... .......... 38% 44.6M 30s\n",
      "131650K .......... .......... .......... .......... .......... 38%  362M 30s\n",
      "131700K .......... .......... .......... .......... .......... 38%  160M 30s\n",
      "131750K .......... .......... .......... .......... .......... 39%  361M 30s\n",
      "131800K .......... .......... .......... .......... .......... 39%  653M 30s\n",
      "131850K .......... .......... .......... .......... .......... 39%  520K 30s\n",
      "131900K .......... .......... .......... .......... .......... 39%  318M 30s\n",
      "131950K .......... .......... .......... .......... .......... 39%  250M 30s\n",
      "132000K .......... .......... .......... .......... .......... 39%  565M 30s\n",
      "132050K .......... .......... .......... .......... .......... 39%  501M 30s\n",
      "132100K .......... .......... .......... .......... .......... 39%  146M 30s\n",
      "132150K .......... .......... .......... .......... .......... 39%  620M 30s\n",
      "132200K .......... .......... .......... .......... .......... 39%  403M 30s\n",
      "132250K .......... .......... .......... .......... .......... 39%  605M 30s\n",
      "132300K .......... .......... .......... .......... .......... 39%  121M 30s\n",
      "132350K .......... .......... .......... .......... .......... 39%  619M 30s\n",
      "132400K .......... .......... .......... .......... .......... 39%  362M 30s\n",
      "132450K .......... .......... .......... .......... .......... 39%  548M 30s\n",
      "132500K .......... .......... .......... .......... .......... 39%  486M 30s\n",
      "132550K .......... .......... .......... .......... .......... 39%  611M 30s\n",
      "132600K .......... .......... .......... .......... .......... 39%  632M 30s\n",
      "132650K .......... .......... .......... .......... .......... 39%  484K 30s\n",
      "132700K .......... .......... .......... .......... .......... 39%  109M 30s\n",
      "132750K .......... .......... .......... .......... .......... 39% 76.7M 30s\n",
      "132800K .......... .......... .......... .......... .......... 39%  410M 30s\n",
      "132850K .......... .......... .......... .......... .......... 39%  485M 30s\n",
      "132900K .......... .......... .......... .......... .......... 39%  184M 30s\n",
      "132950K .......... .......... .......... .......... .......... 39%  491M 30s\n",
      "133000K .......... .......... .......... .......... .......... 39%  192M 30s\n",
      "133050K .......... .......... .......... .......... .......... 39%  617M 30s\n",
      "133100K .......... .......... .......... .......... .......... 39%  453M 30s\n",
      "133150K .......... .......... .......... .......... .......... 39%  627M 30s\n",
      "133200K .......... .......... .......... .......... .......... 39%  351M 30s\n",
      "133250K .......... .......... .......... .......... .......... 39%  662M 30s\n",
      "133300K .......... .......... .......... .......... .......... 39%  280M 30s\n",
      "133350K .......... .......... .......... .......... .......... 39%  524M 30s\n",
      "133400K .......... .......... .......... .......... .......... 39%  492M 30s\n",
      "133450K .......... .......... .......... .......... .......... 39%  454K 30s\n",
      "133500K .......... .......... .......... .......... .......... 39%  302M 30s\n",
      "133550K .......... .......... .......... .......... .......... 39%  251M 30s\n",
      "133600K .......... .......... .......... .......... .......... 39%  223M 30s\n",
      "133650K .......... .......... .......... .......... .......... 39%  256M 30s\n",
      "133700K .......... .......... .......... .......... .......... 39%  369M 30s\n",
      "133750K .......... .......... .......... .......... .......... 39%  367M 30s\n",
      "133800K .......... .......... .......... .......... .......... 39%  374M 30s\n",
      "133850K .......... .......... .......... .......... .......... 39%  528M 30s\n",
      "133900K .......... .......... .......... .......... .......... 39%  656M 30s\n",
      "133950K .......... .......... .......... .......... .......... 39%  473M 30s\n",
      "134000K .......... .......... .......... .......... .......... 39%  472M 30s\n",
      "134050K .......... .......... .......... .......... .......... 39%  669M 30s\n",
      "134100K .......... .......... .......... .......... .......... 39%  661M 30s\n",
      "134150K .......... .......... .......... .......... .......... 39%  638M 30s\n",
      "134200K .......... .......... .......... .......... .......... 39%  567M 30s\n",
      "134250K .......... .......... .......... .......... .......... 39%  466K 30s\n",
      "134300K .......... .......... .......... .......... .......... 39%  172M 30s\n",
      "134350K .......... .......... .......... .......... .......... 39%  227M 30s\n",
      "134400K .......... .......... .......... .......... .......... 39%  184M 30s\n",
      "134450K .......... .......... .......... .......... .......... 39%  294M 30s\n",
      "134500K .......... .......... .......... .......... .......... 39%  388M 30s\n",
      "134550K .......... .......... .......... .......... .......... 39%  519M 30s\n",
      "134600K .......... .......... .......... .......... .......... 39%  532M 30s\n",
      "134650K .......... .......... .......... .......... .......... 39%  485M 30s\n",
      "134700K .......... .......... .......... .......... .......... 39%  516M 30s\n",
      "134750K .......... .......... .......... .......... .......... 39%  494M 30s\n",
      "134800K .......... .......... .......... .......... .......... 39%  375M 30s\n",
      "134850K .......... .......... .......... .......... .......... 39%  575M 30s\n",
      "134900K .......... .......... .......... .......... .......... 39%  639M 30s\n",
      "134950K .......... .......... .......... .......... .......... 39%  647M 30s\n",
      "135000K .......... .......... .......... .......... .......... 39%  576M 30s\n",
      "135050K .......... .......... .......... .......... .......... 39%  436K 30s\n",
      "135100K .......... .......... .......... .......... .......... 39%  301M 30s\n",
      "135150K .......... .......... .......... .......... .......... 40%  425K 30s\n",
      "135200K .......... .......... .......... .......... .......... 40%  266M 30s\n",
      "135250K .......... .......... .......... .......... .......... 40%  384M 30s\n",
      "135300K .......... .......... .......... .......... .......... 40%  441M 30s\n",
      "135350K .......... .......... .......... .......... .......... 40%  589M 30s\n",
      "135400K .......... .......... .......... .......... .......... 40%  509M 30s\n",
      "135450K .......... .......... .......... .......... .......... 40%  235M 30s\n",
      "135500K .......... .......... .......... .......... .......... 40%  519M 30s\n",
      "135550K .......... .......... .......... .......... .......... 40%  538M 30s\n",
      "135600K .......... .......... .......... .......... .......... 40%  222M 30s\n",
      "135650K .......... .......... .......... .......... .......... 40%  160M 30s\n",
      "135700K .......... .......... .......... .......... .......... 40%  262M 30s\n",
      "135750K .......... .......... .......... .......... .......... 40% 75.5M 30s\n",
      "135800K .......... .......... .......... .......... .......... 40%  273M 30s\n",
      "135850K .......... .......... .......... .......... .......... 40%  218M 30s\n",
      "135900K .......... .......... .......... .......... .......... 40%  112M 30s\n",
      "135950K .......... .......... .......... .......... .......... 40%  470K 30s\n",
      "136000K .......... .......... .......... .......... .......... 40%  253M 30s\n",
      "136050K .......... .......... .......... .......... .......... 40%  222M 30s\n",
      "136100K .......... .......... .......... .......... .......... 40%  298M 30s\n",
      "136150K .......... .......... .......... .......... .......... 40%  335M 30s\n",
      "136200K .......... .......... .......... .......... .......... 40%  339M 30s\n",
      "136250K .......... .......... .......... .......... .......... 40%  653M 30s\n",
      "136300K .......... .......... .......... .......... .......... 40%  559M 30s\n",
      "136350K .......... .......... .......... .......... .......... 40%  675M 30s\n",
      "136400K .......... .......... .......... .......... .......... 40%  531M 30s\n",
      "136450K .......... .......... .......... .......... .......... 40%  393M 30s\n",
      "136500K .......... .......... .......... .......... .......... 40%  436M 30s\n",
      "136550K .......... .......... .......... .......... .......... 40%  625M 30s\n",
      "136600K .......... .......... .......... .......... .......... 40%  584M 30s\n",
      "136650K .......... .......... .......... .......... .......... 40%  113M 30s\n",
      "136700K .......... .......... .......... .......... .......... 40%  578M 30s\n",
      "136750K .......... .......... .......... .......... .......... 40%  629M 30s\n",
      "136800K .......... .......... .......... .......... .......... 40%  462K 30s\n",
      "136850K .......... .......... .......... .......... .......... 40%  282M 30s\n",
      "136900K .......... .......... .......... .......... .......... 40%  210M 30s\n",
      "136950K .......... .......... .......... .......... .......... 40%  710M 30s\n",
      "137000K .......... .......... .......... .......... .......... 40%  615M 30s\n",
      "137050K .......... .......... .......... .......... .......... 40%  309M 30s\n",
      "137100K .......... .......... .......... .......... .......... 40%  525M 30s\n",
      "137150K .......... .......... .......... .......... .......... 40%  549M 30s\n",
      "137200K .......... .......... .......... .......... .......... 40%  406M 30s\n",
      "137250K .......... .......... .......... .......... .......... 40%  117M 30s\n",
      "137300K .......... .......... .......... .......... .......... 40%  468M 30s\n",
      "137350K .......... .......... .......... .......... .......... 40%  652M 30s\n",
      "137400K .......... .......... .......... .......... .......... 40%  269M 30s\n",
      "137450K .......... .......... .......... .......... .......... 40%  486M 30s\n",
      "137500K .......... .......... .......... .......... .......... 40%  628M 30s\n",
      "137550K .......... .......... .......... .......... .......... 40%  673M 29s\n",
      "137600K .......... .......... .......... .......... .......... 40%  457K 30s\n",
      "137650K .......... .......... .......... .......... .......... 40%  208M 30s\n",
      "137700K .......... .......... .......... .......... .......... 40%  216M 30s\n",
      "137750K .......... .......... .......... .......... .......... 40%  359M 30s\n",
      "137800K .......... .......... .......... .......... .......... 40%  223M 30s\n",
      "137850K .......... .......... .......... .......... .......... 40%  252M 30s\n",
      "137900K .......... .......... .......... .......... .......... 40%  465M 30s\n",
      "137950K .......... .......... .......... .......... .......... 40%  501M 30s\n",
      "138000K .......... .......... .......... .......... .......... 40%  371M 29s\n",
      "138050K .......... .......... .......... .......... .......... 40%  538M 29s\n",
      "138100K .......... .......... .......... .......... .......... 40%  522M 29s\n",
      "138150K .......... .......... .......... .......... .......... 40%  564M 29s\n",
      "138200K .......... .......... .......... .......... .......... 40%  393M 29s\n",
      "138250K .......... .......... .......... .......... .......... 40%  655M 29s\n",
      "138300K .......... .......... .......... .......... .......... 40%  648M 29s\n",
      "138350K .......... .......... .......... .......... .......... 40%  648M 29s\n",
      "138400K .......... .......... .......... .......... .......... 40%  526M 29s\n",
      "138450K .......... .......... .......... .......... .......... 40%  463K 29s\n",
      "138500K .......... .......... .......... .......... .......... 41%  254M 29s\n",
      "138550K .......... .......... .......... .......... .......... 41%  303M 29s\n",
      "138600K .......... .......... .......... .......... .......... 41%  322M 29s\n",
      "138650K .......... .......... .......... .......... .......... 41%  245M 29s\n",
      "138700K .......... .......... .......... .......... .......... 41%  154M 29s\n",
      "138750K .......... .......... .......... .......... .......... 41%  609M 29s\n",
      "138800K .......... .......... .......... .......... .......... 41%  231M 29s\n",
      "138850K .......... .......... .......... .......... .......... 41%  648M 29s\n",
      "138900K .......... .......... .......... .......... .......... 41%  277M 29s\n",
      "138950K .......... .......... .......... .......... .......... 41%  564M 29s\n",
      "139000K .......... .......... .......... .......... .......... 41%  571M 29s\n",
      "139050K .......... .......... .......... .......... .......... 41%  147M 29s\n",
      "139100K .......... .......... .......... .......... .......... 41%  614M 29s\n",
      "139150K .......... .......... .......... .......... .......... 41%  209M 29s\n",
      "139200K .......... .......... .......... .......... .......... 41%  545M 29s\n",
      "139250K .......... .......... .......... .......... .......... 41%  409K 29s\n",
      "139300K .......... .......... .......... .......... .......... 41%  340M 29s\n",
      "139350K .......... .......... .......... .......... .......... 41%  357M 29s\n",
      "139400K .......... .......... .......... .......... .......... 41%  251M 29s\n",
      "139450K .......... .......... .......... .......... .......... 41%  227M 29s\n",
      "139500K .......... .......... .......... .......... .......... 41%  262M 29s\n",
      "139550K .......... .......... .......... .......... .......... 41%  330M 29s\n",
      "139600K .......... .......... .......... .......... .......... 41%  215M 29s\n",
      "139650K .......... .......... .......... .......... .......... 41%  604M 29s\n",
      "139700K .......... .......... .......... .......... .......... 41%  608M 29s\n",
      "139750K .......... .......... .......... .......... .......... 41%  407M 29s\n",
      "139800K .......... .......... .......... .......... .......... 41%  581M 29s\n",
      "139850K .......... .......... .......... .......... .......... 41%  622M 29s\n",
      "139900K .......... .......... .......... .......... .......... 41%  621M 29s\n",
      "139950K .......... .......... .......... .......... .......... 41%  236M 29s\n",
      "140000K .......... .......... .......... .......... .......... 41% 81.2M 29s\n",
      "140050K .......... .......... .......... .......... .......... 41%  563M 29s\n",
      "140100K .......... .......... .......... .......... .......... 41%  463K 29s\n",
      "140150K .......... .......... .......... .......... .......... 41%  162M 29s\n",
      "140200K .......... .......... .......... .......... .......... 41%  214M 29s\n",
      "140250K .......... .......... .......... .......... .......... 41%  434M 29s\n",
      "140300K .......... .......... .......... .......... .......... 41%  374M 29s\n",
      "140350K .......... .......... .......... .......... .......... 41%  608M 29s\n",
      "140400K .......... .......... .......... .......... .......... 41%  130M 29s\n",
      "140450K .......... .......... .......... .......... .......... 41%  383M 29s\n",
      "140500K .......... .......... .......... .......... .......... 41%  549M 29s\n",
      "140550K .......... .......... .......... .......... .......... 41%  434M 29s\n",
      "140600K .......... .......... .......... .......... .......... 41%  427M 29s\n",
      "140650K .......... .......... .......... .......... .......... 41%  480M 29s\n",
      "140700K .......... .......... .......... .......... .......... 41%  563M 29s\n",
      "140750K .......... .......... .......... .......... .......... 41%  144M 29s\n",
      "140800K .......... .......... .......... .......... .......... 41%  506M 29s\n",
      "140850K .......... .......... .......... .......... .......... 41%  607M 29s\n",
      "140900K .......... .......... .......... .......... .......... 41%  653M 29s\n",
      "140950K .......... .......... .......... .......... .......... 41%  464K 29s\n",
      "141000K .......... .......... .......... .......... .......... 41%  298M 29s\n",
      "141050K .......... .......... .......... .......... .......... 41%  221M 29s\n",
      "141100K .......... .......... .......... .......... .......... 41%  182M 29s\n",
      "141150K .......... .......... .......... .......... .......... 41%  177M 29s\n",
      "141200K .......... .......... .......... .......... .......... 41%  222M 29s\n",
      "141250K .......... .......... .......... .......... .......... 41%  476M 29s\n",
      "141300K .......... .......... .......... .......... .......... 41%  519M 29s\n",
      "141350K .......... .......... .......... .......... .......... 41%  641M 29s\n",
      "141400K .......... .......... .......... .......... .......... 41%  118M 29s\n",
      "141450K .......... .......... .......... .......... .......... 41%  602M 29s\n",
      "141500K .......... .......... .......... .......... .......... 41%  650M 29s\n",
      "141550K .......... .......... .......... .......... .......... 41%  189M 29s\n",
      "141600K .......... .......... .......... .......... .......... 41%  269M 29s\n",
      "141650K .......... .......... .......... .......... .......... 41%  405M 29s\n",
      "141700K .......... .......... .......... .......... .......... 41%  658M 29s\n",
      "141750K .......... .......... .......... .......... .......... 41%  617M 29s\n",
      "141800K .......... .......... .......... .......... .......... 41%  464K 29s\n",
      "141850K .......... .......... .......... .......... .......... 41% 84.9M 29s\n",
      "141900K .......... .......... .......... .......... .......... 42%  139M 29s\n",
      "141950K .......... .......... .......... .......... .......... 42%  442M 29s\n",
      "142000K .......... .......... .......... .......... .......... 42%  511M 29s\n",
      "142050K .......... .......... .......... .......... .......... 42%  347M 29s\n",
      "142100K .......... .......... .......... .......... .......... 42%  625M 29s\n",
      "142150K .......... .......... .......... .......... .......... 42%  660M 29s\n",
      "142200K .......... .......... .......... .......... .......... 42%  302M 29s\n",
      "142250K .......... .......... .......... .......... .......... 42%  269M 29s\n",
      "142300K .......... .......... .......... .......... .......... 42%  146M 29s\n",
      "142350K .......... .......... .......... .......... .......... 42%  551M 29s\n",
      "142400K .......... .......... .......... .......... .......... 42%  408M 29s\n",
      "142450K .......... .......... .......... .......... .......... 42%  635M 29s\n",
      "142500K .......... .......... .......... .......... .......... 42%  654M 29s\n",
      "142550K .......... .......... .......... .......... .......... 42%  307M 29s\n",
      "142600K .......... .......... .......... .......... .......... 42%  496M 29s\n",
      "142650K .......... .......... .......... .......... .......... 42%  623M 29s\n",
      "142700K .......... .......... .......... .......... .......... 42%  462K 29s\n",
      "142750K .......... .......... .......... .......... .......... 42%  290M 29s\n",
      "142800K .......... .......... .......... .......... .......... 42%  164M 29s\n",
      "142850K .......... .......... .......... .......... .......... 42%  312M 29s\n",
      "142900K .......... .......... .......... .......... .......... 42%  336M 29s\n",
      "142950K .......... .......... .......... .......... .......... 42%  548M 29s\n",
      "143000K .......... .......... .......... .......... .......... 42%  583M 29s\n",
      "143050K .......... .......... .......... .......... .......... 42%  662M 29s\n",
      "143100K .......... .......... .......... .......... .......... 42%  306M 29s\n",
      "143150K .......... .......... .......... .......... .......... 42%  221M 29s\n",
      "143200K .......... .......... .......... .......... .......... 42%  515M 29s\n",
      "143250K .......... .......... .......... .......... .......... 42%  423M 29s\n",
      "143300K .......... .......... .......... .......... .......... 42%  612M 29s\n",
      "143350K .......... .......... .......... .......... .......... 42%  407K 29s\n",
      "143400K .......... .......... .......... .......... .......... 42% 91.4M 29s\n",
      "143450K .......... .......... .......... .......... .......... 42%  334M 29s\n",
      "143500K .......... .......... .......... .......... .......... 42%  249M 29s\n",
      "143550K .......... .......... .......... .......... .......... 42%  240M 29s\n",
      "143600K .......... .......... .......... .......... .......... 42%  408M 29s\n",
      "143650K .......... .......... .......... .......... .......... 42%  505M 29s\n",
      "143700K .......... .......... .......... .......... .......... 42%  553M 29s\n",
      "143750K .......... .......... .......... .......... .......... 42%  645M 29s\n",
      "143800K .......... .......... .......... .......... .......... 42%  590M 29s\n",
      "143850K .......... .......... .......... .......... .......... 42%  663M 29s\n",
      "143900K .......... .......... .......... .......... .......... 42%  319M 29s\n",
      "143950K .......... .......... .......... .......... .......... 42%  471M 29s\n",
      "144000K .......... .......... .......... .......... .......... 42%  105M 28s\n",
      "144050K .......... .......... .......... .......... .......... 42%  262M 28s\n",
      "144100K .......... .......... .......... .......... .......... 42%  567M 28s\n",
      "144150K .......... .......... .......... .......... .......... 42%  676M 28s\n",
      "144200K .......... .......... .......... .......... .......... 42%  455K 29s\n",
      "144250K .......... .......... .......... .......... .......... 42%  346M 29s\n",
      "144300K .......... .......... .......... .......... .......... 42%  368M 29s\n",
      "144350K .......... .......... .......... .......... .......... 42% 96.4M 29s\n",
      "144400K .......... .......... .......... .......... .......... 42%  244M 29s\n",
      "144450K .......... .......... .......... .......... .......... 42%  215M 28s\n",
      "144500K .......... .......... .......... .......... .......... 42%  433M 28s\n",
      "144550K .......... .......... .......... .......... .......... 42%  609M 28s\n",
      "144600K .......... .......... .......... .......... .......... 42%  564M 28s\n",
      "144650K .......... .......... .......... .......... .......... 42% 81.1M 28s\n",
      "144700K .......... .......... .......... .......... .......... 42%  421M 28s\n",
      "144750K .......... .......... .......... .......... .......... 42%  636M 28s\n",
      "144800K .......... .......... .......... .......... .......... 42%  534M 28s\n",
      "144850K .......... .......... .......... .......... .......... 42%  647M 28s\n",
      "144900K .......... .......... .......... .......... .......... 42%  249M 28s\n",
      "144950K .......... .......... .......... .......... .......... 42%  403M 28s\n",
      "145000K .......... .......... .......... .......... .......... 42%  573M 28s\n",
      "145050K .......... .......... .......... .......... .......... 42%  671M 28s\n",
      "145100K .......... .......... .......... .......... .......... 42%  472K 28s\n",
      "145150K .......... .......... .......... .......... .......... 42%  166M 28s\n",
      "145200K .......... .......... .......... .......... .......... 42%  288M 28s\n",
      "145250K .......... .......... .......... .......... .......... 42%  128M 28s\n",
      "145300K .......... .......... .......... .......... .......... 43%  476M 28s\n",
      "145350K .......... .......... .......... .......... .......... 43%  576M 28s\n",
      "145400K .......... .......... .......... .......... .......... 43%  564M 28s\n",
      "145450K .......... .......... .......... .......... .......... 43% 63.0M 28s\n",
      "145500K .......... .......... .......... .......... .......... 43%  399M 28s\n",
      "145550K .......... .......... .......... .......... .......... 43%  513M 28s\n",
      "145600K .......... .......... .......... .......... .......... 43%  328M 28s\n",
      "145650K .......... .......... .......... .......... .......... 43%  604M 28s\n",
      "145700K .......... .......... .......... .......... .......... 43%  392M 28s\n",
      "145750K .......... .......... .......... .......... .......... 43%  618M 28s\n",
      "145800K .......... .......... .......... .......... .......... 43%  372M 28s\n",
      "145850K .......... .......... .......... .......... .......... 43%  413M 28s\n",
      "145900K .......... .......... .......... .......... .......... 43%  551M 28s\n",
      "145950K .......... .......... .......... .......... .......... 43%  651M 28s\n",
      "146000K .......... .......... .......... .......... .......... 43%  463K 28s\n",
      "146050K .......... .......... .......... .......... .......... 43%  218M 28s\n",
      "146100K .......... .......... .......... .......... .......... 43%  354M 28s\n",
      "146150K .......... .......... .......... .......... .......... 43%  363M 28s\n",
      "146200K .......... .......... .......... .......... .......... 43%  158M 28s\n",
      "146250K .......... .......... .......... .......... .......... 43%  173M 28s\n",
      "146300K .......... .......... .......... .......... .......... 43%  415M 28s\n",
      "146350K .......... .......... .......... .......... .......... 43%  519M 28s\n",
      "146400K .......... .......... .......... .......... .......... 43%  388M 28s\n",
      "146450K .......... .......... .......... .......... .......... 43%  165M 28s\n",
      "146500K .......... .......... .......... .......... .......... 43% 25.3M 28s\n",
      "146550K .......... .......... .......... .......... .......... 43% 65.9M 28s\n",
      "146600K .......... .......... .......... .......... .......... 43%  222M 28s\n",
      "146650K .......... .......... .......... .......... .......... 43%  329M 28s\n",
      "146700K .......... .......... .......... .......... .......... 43%  539M 28s\n",
      "146750K .......... .......... .......... .......... .......... 43%  445M 28s\n",
      "146800K .......... .......... .......... .......... .......... 43%  523M 28s\n",
      "146850K .......... .......... .......... .......... .......... 43%  398M 28s\n",
      "146900K .......... .......... .......... .......... .......... 43%  472K 28s\n",
      "146950K .......... .......... .......... .......... .......... 43%  300M 28s\n",
      "147000K .......... .......... .......... .......... .......... 43%  182M 28s\n",
      "147050K .......... .......... .......... .......... .......... 43%  361M 28s\n",
      "147100K .......... .......... .......... .......... .......... 43%  264M 28s\n",
      "147150K .......... .......... .......... .......... .......... 43%  475M 28s\n",
      "147200K .......... .......... .......... .......... .......... 43%  369M 28s\n",
      "147250K .......... .......... .......... .......... .......... 43%  654M 28s\n",
      "147300K .......... .......... .......... .......... .......... 43%  640M 28s\n",
      "147350K .......... .......... .......... .......... .......... 43%  666M 28s\n",
      "147400K .......... .......... .......... .......... .......... 43%  599M 28s\n",
      "147450K .......... .......... .......... .......... .......... 43%  408K 28s\n",
      "147500K .......... .......... .......... .......... .......... 43%  430M 28s\n",
      "147550K .......... .......... .......... .......... .......... 43%  635M 28s\n",
      "147600K .......... .......... .......... .......... .......... 43%  415M 28s\n",
      "147650K .......... .......... .......... .......... .......... 43%  639M 28s\n",
      "147700K .......... .......... .......... .......... .......... 43%  394M 28s\n",
      "147750K .......... .......... .......... .......... .......... 43%  676M 28s\n",
      "147800K .......... .......... .......... .......... .......... 43%  161M 28s\n",
      "147850K .......... .......... .......... .......... .......... 43%  632M 28s\n",
      "147900K .......... .......... .......... .......... .......... 43%  167M 28s\n",
      "147950K .......... .......... .......... .......... .......... 43%  578M 28s\n",
      "148000K .......... .......... .......... .......... .......... 43%  554M 28s\n",
      "148050K .......... .......... .......... .......... .......... 43%  402M 28s\n",
      "148100K .......... .......... .......... .......... .......... 43%  288M 28s\n",
      "148150K .......... .......... .......... .......... .......... 43%  499M 28s\n",
      "148200K .......... .......... .......... .......... .......... 43%  485M 28s\n",
      "148250K .......... .......... .......... .......... .......... 43%  428M 28s\n",
      "148300K .......... .......... .......... .......... .......... 43%  662M 28s\n",
      "148350K .......... .......... .......... .......... .......... 43%  462K 28s\n",
      "148400K .......... .......... .......... .......... .......... 43%  201M 28s\n",
      "148450K .......... .......... .......... .......... .......... 43%  307M 28s\n",
      "148500K .......... .......... .......... .......... .......... 43%  526M 28s\n",
      "148550K .......... .......... .......... .......... .......... 43%  649M 28s\n",
      "148600K .......... .......... .......... .......... .......... 43%  345M 28s\n",
      "148650K .......... .......... .......... .......... .......... 44%  491M 28s\n",
      "148700K .......... .......... .......... .......... .......... 44%  455M 28s\n",
      "148750K .......... .......... .......... .......... .......... 44%  641M 28s\n",
      "148800K .......... .......... .......... .......... .......... 44%  137M 28s\n",
      "148850K .......... .......... .......... .......... .......... 44%  580M 28s\n",
      "148900K .......... .......... .......... .......... .......... 44%  658M 28s\n",
      "148950K .......... .......... .......... .......... .......... 44%  254M 28s\n",
      "149000K .......... .......... .......... .......... .......... 44%  571M 28s\n",
      "149050K .......... .......... .......... .......... .......... 44%  130M 28s\n",
      "149100K .......... .......... .......... .......... .......... 44%  480M 28s\n",
      "149150K .......... .......... .......... .......... .......... 44%  569M 28s\n",
      "149200K .......... .......... .......... .......... .......... 44%  502M 28s\n",
      "149250K .......... .......... .......... .......... .......... 44%  658M 28s\n",
      "149300K .......... .......... .......... .......... .......... 44%  461K 28s\n",
      "149350K .......... .......... .......... .......... .......... 44%  245M 28s\n",
      "149400K .......... .......... .......... .......... .......... 44%  219M 28s\n",
      "149450K .......... .......... .......... .......... .......... 44%  349M 28s\n",
      "149500K .......... .......... .......... .......... .......... 44%  349M 28s\n",
      "149550K .......... .......... .......... .......... .......... 44%  180M 28s\n",
      "149600K .......... .......... .......... .......... .......... 44%  224M 28s\n",
      "149650K .......... .......... .......... .......... .......... 44%  460M 28s\n",
      "149700K .......... .......... .......... .......... .......... 44%  420M 28s\n",
      "149750K .......... .......... .......... .......... .......... 44%  554M 28s\n",
      "149800K .......... .......... .......... .......... .......... 44%  560M 28s\n",
      "149850K .......... .......... .......... .......... .......... 44%  622M 28s\n",
      "149900K .......... .......... .......... .......... .......... 44% 71.5M 28s\n",
      "149950K .......... .......... .......... .......... .......... 44%  494M 28s\n",
      "150000K .......... .......... .......... .......... .......... 44%  391M 27s\n",
      "150050K .......... .......... .......... .......... .......... 44%  625M 27s\n",
      "150100K .......... .......... .......... .......... .......... 44%  677M 27s\n",
      "150150K .......... .......... .......... .......... .......... 44%  635M 27s\n",
      "150200K .......... .......... .......... .......... .......... 44%  460K 28s\n",
      "150250K .......... .......... .......... .......... .......... 44%  397M 28s\n",
      "150300K .......... .......... .......... .......... .......... 44%  743M 28s\n",
      "150350K .......... .......... .......... .......... .......... 44%  530M 28s\n",
      "150400K .......... .......... .......... .......... .......... 44%  439M 27s\n",
      "150450K .......... .......... .......... .......... .......... 44%  713M 27s\n",
      "150500K .......... .......... .......... .......... .......... 44%  672M 27s\n",
      "150550K .......... .......... .......... .......... .......... 44%  726M 27s\n",
      "150600K .......... .......... .......... .......... .......... 44%  279M 27s\n",
      "150650K .......... .......... .......... .......... .......... 44%  716M 27s\n",
      "150700K .......... .......... .......... .......... .......... 44%  660M 27s\n",
      "150750K .......... .......... .......... .......... .......... 44%  418M 27s\n",
      "150800K .......... .......... .......... .......... .......... 44%  489M 27s\n",
      "150850K .......... .......... .......... .......... .......... 44%  152M 27s\n",
      "150900K .......... .......... .......... .......... .......... 44%  490M 27s\n",
      "150950K .......... .......... .......... .......... .......... 44%  648M 27s\n",
      "151000K .......... .......... .......... .......... .......... 44%  195M 27s\n",
      "151050K .......... .......... .......... .......... .......... 44%  452M 27s\n",
      "151100K .......... .......... .......... .......... .......... 44%  661M 27s\n",
      "151150K .......... .......... .......... .......... .......... 44%  656M 27s\n",
      "151200K .......... .......... .......... .......... .......... 44%  466K 27s\n",
      "151250K .......... .......... .......... .......... .......... 44%  351M 27s\n",
      "151300K .......... .......... .......... .......... .......... 44%  130M 27s\n",
      "151350K .......... .......... .......... .......... .......... 44%  624M 27s\n",
      "151400K .......... .......... .......... .......... .......... 44%  229M 27s\n",
      "151450K .......... .......... .......... .......... .......... 44%  660M 27s\n",
      "151500K .......... .......... .......... .......... .......... 44%  623M 27s\n",
      "151550K .......... .......... .......... .......... .......... 44%  413K 27s\n",
      "151600K .......... .......... .......... .......... .......... 44%  230M 27s\n",
      "151650K .......... .......... .......... .......... .......... 44% 84.6M 27s\n",
      "151700K .......... .......... .......... .......... .......... 44%  679M 27s\n",
      "151750K .......... .......... .......... .......... .......... 44%  618M 27s\n",
      "151800K .......... .......... .......... .......... .......... 44%  153M 27s\n",
      "151850K .......... .......... .......... .......... .......... 44%  521M 27s\n",
      "151900K .......... .......... .......... .......... .......... 44%  661M 27s\n",
      "151950K .......... .......... .......... .......... .......... 44%  330M 27s\n",
      "152000K .......... .......... .......... .......... .......... 44%  451M 27s\n",
      "152050K .......... .......... .......... .......... .......... 45%  650M 27s\n",
      "152100K .......... .......... .......... .......... .......... 45%  595M 27s\n",
      "152150K .......... .......... .......... .......... .......... 45%  417M 27s\n",
      "152200K .......... .......... .......... .......... .......... 45%  212M 27s\n",
      "152250K .......... .......... .......... .......... .......... 45%  749M 27s\n",
      "152300K .......... .......... .......... .......... .......... 45%  114M 27s\n",
      "152350K .......... .......... .......... .......... .......... 45%  310M 27s\n",
      "152400K .......... .......... .......... .......... .......... 45%  488M 27s\n",
      "152450K .......... .......... .......... .......... .......... 45%  572M 27s\n",
      "152500K .......... .......... .......... .......... .......... 45%  463K 27s\n",
      "152550K .......... .......... .......... .......... .......... 45%  354M 27s\n",
      "152600K .......... .......... .......... .......... .......... 45%  244M 27s\n",
      "152650K .......... .......... .......... .......... .......... 45%  226M 27s\n",
      "152700K .......... .......... .......... .......... .......... 45%  441M 27s\n",
      "152750K .......... .......... .......... .......... .......... 45%  528M 27s\n",
      "152800K .......... .......... .......... .......... .......... 45%  402M 27s\n",
      "152850K .......... .......... .......... .......... .......... 45%  638M 27s\n",
      "152900K .......... .......... .......... .......... .......... 45%  664M 27s\n",
      "152950K .......... .......... .......... .......... .......... 45%  640M 27s\n",
      "153000K .......... .......... .......... .......... .......... 45%  269M 27s\n",
      "153050K .......... .......... .......... .......... .......... 45%  553M 27s\n",
      "153100K .......... .......... .......... .......... .......... 45%  620M 27s\n",
      "153150K .......... .......... .......... .......... .......... 45%  191M 27s\n",
      "153200K .......... .......... .......... .......... .......... 45%  531M 27s\n",
      "153250K .......... .......... .......... .......... .......... 45%  667M 27s\n",
      "153300K .......... .......... .......... .......... .......... 45%  269M 27s\n",
      "153350K .......... .......... .......... .......... .......... 45%  511M 27s\n",
      "153400K .......... .......... .......... .......... .......... 45%  582M 27s\n",
      "153450K .......... .......... .......... .......... .......... 45%  464K 27s\n",
      "153500K .......... .......... .......... .......... .......... 45%  203M 27s\n",
      "153550K .......... .......... .......... .......... .......... 45%  165M 27s\n",
      "153600K .......... .......... .......... .......... .......... 45% 96.1M 27s\n",
      "153650K .......... .......... .......... .......... .......... 45%  668M 27s\n",
      "153700K .......... .......... .......... .......... .......... 45%  591M 27s\n",
      "153750K .......... .......... .......... .......... .......... 45%  194M 27s\n",
      "153800K .......... .......... .......... .......... .......... 45%  139M 27s\n",
      "153850K .......... .......... .......... .......... .......... 45%  545M 27s\n",
      "153900K .......... .......... .......... .......... .......... 45%  479M 27s\n",
      "153950K .......... .......... .......... .......... .......... 45%  587M 27s\n",
      "154000K .......... .......... .......... .......... .......... 45%  440M 27s\n",
      "154050K .......... .......... .......... .......... .......... 45%  163M 27s\n",
      "154100K .......... .......... .......... .......... .......... 45%  389M 27s\n",
      "154150K .......... .......... .......... .......... .......... 45%  505M 27s\n",
      "154200K .......... .......... .......... .......... .......... 45%  575M 27s\n",
      "154250K .......... .......... .......... .......... .......... 45%  627M 27s\n",
      "154300K .......... .......... .......... .......... .......... 45% 41.2M 27s\n",
      "154350K .......... .......... .......... .......... .......... 45%  512M 27s\n",
      "154400K .......... .......... .......... .......... .......... 45%  535M 27s\n",
      "154450K .......... .......... .......... .......... .......... 45%  464K 27s\n",
      "154500K .......... .......... .......... .......... .......... 45%  316M 27s\n",
      "154550K .......... .......... .......... .......... .......... 45%  261M 27s\n",
      "154600K .......... .......... .......... .......... .......... 45%  223M 27s\n",
      "154650K .......... .......... .......... .......... .......... 45%  518M 27s\n",
      "154700K .......... .......... .......... .......... .......... 45%  584M 27s\n",
      "154750K .......... .......... .......... .......... .......... 45%  290M 27s\n",
      "154800K .......... .......... .......... .......... .......... 45%  344M 27s\n",
      "154850K .......... .......... .......... .......... .......... 45%  474M 27s\n",
      "154900K .......... .......... .......... .......... .......... 45%  602M 27s\n",
      "154950K .......... .......... .......... .......... .......... 45%  620M 27s\n",
      "155000K .......... .......... .......... .......... .......... 45%  109M 27s\n",
      "155050K .......... .......... .......... .......... .......... 45%  478M 27s\n",
      "155100K .......... .......... .......... .......... .......... 45%  630M 27s\n",
      "155150K .......... .......... .......... .......... .......... 45%  651M 27s\n",
      "155200K .......... .......... .......... .......... .......... 45%  545M 27s\n",
      "155250K .......... .......... .......... .......... .......... 45%  195M 27s\n",
      "155300K .......... .......... .......... .......... .......... 45%  566M 27s\n",
      "155350K .......... .......... .......... .......... .......... 45%  631M 27s\n",
      "155400K .......... .......... .......... .......... .......... 46%  572M 27s\n",
      "155450K .......... .......... .......... .......... .......... 46%  467K 27s\n",
      "155500K .......... .......... .......... .......... .......... 46%  349M 27s\n",
      "155550K .......... .......... .......... .......... .......... 46%  135M 27s\n",
      "155600K .......... .......... .......... .......... .......... 46%  405K 27s\n",
      "155650K .......... .......... .......... .......... .......... 46%  294M 27s\n",
      "155700K .......... .......... .......... .......... .......... 46%  198M 27s\n",
      "155750K .......... .......... .......... .......... .......... 46%  313M 27s\n",
      "155800K .......... .......... .......... .......... .......... 46%  269M 27s\n",
      "155850K .......... .......... .......... .......... .......... 46%  442M 27s\n",
      "155900K .......... .......... .......... .......... .......... 46%  628M 27s\n",
      "155950K .......... .......... .......... .......... .......... 46%  507M 27s\n",
      "156000K .......... .......... .......... .......... .......... 46%  363M 27s\n",
      "156050K .......... .......... .......... .......... .......... 46%  556M 27s\n",
      "156100K .......... .......... .......... .......... .......... 46%  675M 27s\n",
      "156150K .......... .......... .......... .......... .......... 46%  116M 27s\n",
      "156200K .......... .......... .......... .......... .......... 46%  427M 27s\n",
      "156250K .......... .......... .......... .......... .......... 46%  480M 27s\n",
      "156300K .......... .......... .......... .......... .......... 46%  645M 27s\n",
      "156350K .......... .......... .......... .......... .......... 46%  641M 27s\n",
      "156400K .......... .......... .......... .......... .......... 46%  247M 27s\n",
      "156450K .......... .......... .......... .......... .......... 46%  662M 27s\n",
      "156500K .......... .......... .......... .......... .......... 46%  757M 26s\n",
      "156550K .......... .......... .......... .......... .......... 46%  228M 26s\n",
      "156600K .......... .......... .......... .......... .......... 46%  555M 26s\n",
      "156650K .......... .......... .......... .......... .......... 46%  464K 27s\n",
      "156700K .......... .......... .......... .......... .......... 46% 81.5M 27s\n",
      "156750K .......... .......... .......... .......... .......... 46%  263M 27s\n",
      "156800K .......... .......... .......... .......... .......... 46%  296M 27s\n",
      "156850K .......... .......... .......... .......... .......... 46%  480M 27s\n",
      "156900K .......... .......... .......... .......... .......... 46% 68.8M 26s\n",
      "156950K .......... .......... .......... .......... .......... 46%  639M 26s\n",
      "157000K .......... .......... .......... .......... .......... 46%  109M 26s\n",
      "157050K .......... .......... .......... .......... .......... 46%  486M 26s\n",
      "157100K .......... .......... .......... .......... .......... 46%  656M 26s\n",
      "157150K .......... .......... .......... .......... .......... 46%  625M 26s\n",
      "157200K .......... .......... .......... .......... .......... 46% 72.9M 26s\n",
      "157250K .......... .......... .......... .......... .......... 46%  620M 26s\n",
      "157300K .......... .......... .......... .......... .......... 46%  376M 26s\n",
      "157350K .......... .......... .......... .......... .......... 46%  647M 26s\n",
      "157400K .......... .......... .......... .......... .......... 46%  560M 26s\n",
      "157450K .......... .......... .......... .......... .......... 46%  670M 26s\n",
      "157500K .......... .......... .......... .......... .......... 46%  411M 26s\n",
      "157550K .......... .......... .......... .......... .......... 46%  645M 26s\n",
      "157600K .......... .......... .......... .......... .......... 46%  540M 26s\n",
      "157650K .......... .......... .......... .......... .......... 46%  468K 26s\n",
      "157700K .......... .......... .......... .......... .......... 46%  271M 26s\n",
      "157750K .......... .......... .......... .......... .......... 46%  228M 26s\n",
      "157800K .......... .......... .......... .......... .......... 46%  121M 26s\n",
      "157850K .......... .......... .......... .......... .......... 46%  359M 26s\n",
      "157900K .......... .......... .......... .......... .......... 46%  374M 26s\n",
      "157950K .......... .......... .......... .......... .......... 46%  206M 26s\n",
      "158000K .......... .......... .......... .......... .......... 46%  475M 26s\n",
      "158050K .......... .......... .......... .......... .......... 46%  401M 26s\n",
      "158100K .......... .......... .......... .......... .......... 46%  438M 26s\n",
      "158150K .......... .......... .......... .......... .......... 46%  574M 26s\n",
      "158200K .......... .......... .......... .......... .......... 46%  520M 26s\n",
      "158250K .......... .......... .......... .......... .......... 46%  188M 26s\n",
      "158300K .......... .......... .......... .......... .......... 46%  607M 26s\n",
      "158350K .......... .......... .......... .......... .......... 46%  634M 26s\n",
      "158400K .......... .......... .......... .......... .......... 46%  248M 26s\n",
      "158450K .......... .......... .......... .......... .......... 46%  138M 26s\n",
      "158500K .......... .......... .......... .......... .......... 46%  171M 26s\n",
      "158550K .......... .......... .......... .......... .......... 46%  488M 26s\n",
      "158600K .......... .......... .......... .......... .......... 46%  556M 26s\n",
      "158650K .......... .......... .......... .......... .......... 46%  629M 26s\n",
      "158700K .......... .......... .......... .......... .......... 46%  468K 26s\n",
      "158750K .......... .......... .......... .......... .......... 46%  122M 26s\n",
      "158800K .......... .......... .......... .......... .......... 47%  212M 26s\n",
      "158850K .......... .......... .......... .......... .......... 47%  233M 26s\n",
      "158900K .......... .......... .......... .......... .......... 47%  357M 26s\n",
      "158950K .......... .......... .......... .......... .......... 47%  306M 26s\n",
      "159000K .......... .......... .......... .......... .......... 47%  242M 26s\n",
      "159050K .......... .......... .......... .......... .......... 47%  416M 26s\n",
      "159100K .......... .......... .......... .......... .......... 47%  637M 26s\n",
      "159150K .......... .......... .......... .......... .......... 47%  650M 26s\n",
      "159200K .......... .......... .......... .......... .......... 47%  486M 26s\n",
      "159250K .......... .......... .......... .......... .......... 47%  129M 26s\n",
      "159300K .......... .......... .......... .......... .......... 47%  386M 26s\n",
      "159350K .......... .......... .......... .......... .......... 47%  620M 26s\n",
      "159400K .......... .......... .......... .......... .......... 47%  586M 26s\n",
      "159450K .......... .......... .......... .......... .......... 47%  530M 26s\n",
      "159500K .......... .......... .......... .......... .......... 47%  328M 26s\n",
      "159550K .......... .......... .......... .......... .......... 47%  496M 26s\n",
      "159600K .......... .......... .......... .......... .......... 47%  429M 26s\n",
      "159650K .......... .......... .......... .......... .......... 47%  660M 26s\n",
      "159700K .......... .......... .......... .......... .......... 47%  406K 26s\n",
      "159750K .......... .......... .......... .......... .......... 47%  198M 26s\n",
      "159800K .......... .......... .......... .......... .......... 47%  430M 26s\n",
      "159850K .......... .......... .......... .......... .......... 47%  645M 26s\n",
      "159900K .......... .......... .......... .......... .......... 47%  690M 26s\n",
      "159950K .......... .......... .......... .......... .......... 47%  692M 26s\n",
      "160000K .......... .......... .......... .......... .......... 47%  347M 26s\n",
      "160050K .......... .......... .......... .......... .......... 47%  672M 26s\n",
      "160100K .......... .......... .......... .......... .......... 47%  668M 26s\n",
      "160150K .......... .......... .......... .......... .......... 47%  691M 26s\n",
      "160200K .......... .......... .......... .......... .......... 47%  118M 26s\n",
      "160250K .......... .......... .......... .......... .......... 47%  570M 26s\n",
      "160300K .......... .......... .......... .......... .......... 47%  587M 26s\n",
      "160350K .......... .......... .......... .......... .......... 47%  623M 26s\n",
      "160400K .......... .......... .......... .......... .......... 47%  104M 26s\n",
      "160450K .......... .......... .......... .......... .......... 47%  598M 26s\n",
      "160500K .......... .......... .......... .......... .......... 47%  616M 26s\n",
      "160550K .......... .......... .......... .......... .......... 47%  645M 26s\n",
      "160600K .......... .......... .......... .......... .......... 47%  467M 26s\n",
      "160650K .......... .......... .......... .......... .......... 47%  202M 26s\n",
      "160700K .......... .......... .......... .......... .......... 47%  632M 26s\n",
      "160750K .......... .......... .......... .......... .......... 47%  621M 26s\n",
      "160800K .......... .......... .......... .......... .......... 47%  465K 26s\n",
      "160850K .......... .......... .......... .......... .......... 47%  231M 26s\n",
      "160900K .......... .......... .......... .......... .......... 47%  228M 26s\n",
      "160950K .......... .......... .......... .......... .......... 47%  361M 26s\n",
      "161000K .......... .......... .......... .......... .......... 47%  319M 26s\n",
      "161050K .......... .......... .......... .......... .......... 47%  289M 26s\n",
      "161100K .......... .......... .......... .......... .......... 47%  401M 26s\n",
      "161150K .......... .......... .......... .......... .......... 47%  557M 26s\n",
      "161200K .......... .......... .......... .......... .......... 47%  540M 26s\n",
      "161250K .......... .......... .......... .......... .......... 47%  159M 26s\n",
      "161300K .......... .......... .......... .......... .......... 47%  630M 26s\n",
      "161350K .......... .......... .......... .......... .......... 47%  516M 26s\n",
      "161400K .......... .......... .......... .......... .......... 47% 86.0M 26s\n",
      "161450K .......... .......... .......... .......... .......... 47%  503M 26s\n",
      "161500K .......... .......... .......... .......... .......... 47%  407M 26s\n",
      "161550K .......... .......... .......... .......... .......... 47%  659M 26s\n",
      "161600K .......... .......... .......... .......... .......... 47%  522M 26s\n",
      "161650K .......... .......... .......... .......... .......... 47%  170M 26s\n",
      "161700K .......... .......... .......... .......... .......... 47%  626M 26s\n",
      "161750K .......... .......... .......... .......... .......... 47%  646M 26s\n",
      "161800K .......... .......... .......... .......... .......... 47%  500M 25s\n",
      "161850K .......... .......... .......... .......... .......... 47%  465K 26s\n",
      "161900K .......... .......... .......... .......... .......... 47%  356M 26s\n",
      "161950K .......... .......... .......... .......... .......... 47%  665M 26s\n",
      "162000K .......... .......... .......... .......... .......... 47% 80.3M 26s\n",
      "162050K .......... .......... .......... .......... .......... 47%  398M 26s\n",
      "162100K .......... .......... .......... .......... .......... 47%  527M 26s\n",
      "162150K .......... .......... .......... .......... .......... 47%  426M 26s\n",
      "162200K .......... .......... .......... .......... .......... 48%  507M 25s\n",
      "162250K .......... .......... .......... .......... .......... 48%  617M 25s\n",
      "162300K .......... .......... .......... .......... .......... 48%  629M 25s\n",
      "162350K .......... .......... .......... .......... .......... 48%  642M 25s\n",
      "162400K .......... .......... .......... .......... .......... 48% 77.1M 25s\n",
      "162450K .......... .......... .......... .......... .......... 48%  271M 25s\n",
      "162500K .......... .......... .......... .......... .......... 48%  553M 25s\n",
      "162550K .......... .......... .......... .......... .......... 48%  386M 25s\n",
      "162600K .......... .......... .......... .......... .......... 48%  363M 25s\n",
      "162650K .......... .......... .......... .......... .......... 48%  484M 25s\n",
      "162700K .......... .......... .......... .......... .......... 48%  658M 25s\n",
      "162750K .......... .......... .......... .......... .......... 48%  639M 25s\n",
      "162800K .......... .......... .......... .......... .......... 48%  430M 25s\n",
      "162850K .......... .......... .......... .......... .......... 48%  647M 25s\n",
      "162900K .......... .......... .......... .......... .......... 48%  590M 25s\n",
      "162950K .......... .......... .......... .......... .......... 48%  453K 25s\n",
      "163000K .......... .......... .......... .......... .......... 48%  202M 25s\n",
      "163050K .......... .......... .......... .......... .......... 48%  199M 25s\n",
      "163100K .......... .......... .......... .......... .......... 48%  516M 25s\n",
      "163150K .......... .......... .......... .......... .......... 48%  421M 25s\n",
      "163200K .......... .......... .......... .......... .......... 48%  446M 25s\n",
      "163250K .......... .......... .......... .......... .......... 48%  647M 25s\n",
      "163300K .......... .......... .......... .......... .......... 48%  663M 25s\n",
      "163350K .......... .......... .......... .......... .......... 48%  338M 25s\n",
      "163400K .......... .......... .......... .......... .......... 48%  487M 25s\n",
      "163450K .......... .......... .......... .......... .......... 48%  639M 25s\n",
      "163500K .......... .......... .......... .......... .......... 48% 27.7M 25s\n",
      "163550K .......... .......... .......... .......... .......... 48%  626M 25s\n",
      "163600K .......... .......... .......... .......... .......... 48%  342M 25s\n",
      "163650K .......... .......... .......... .......... .......... 48%  126M 25s\n",
      "163700K .......... .......... .......... .......... .......... 48%  436M 25s\n",
      "163750K .......... .......... .......... .......... .......... 48%  685M 25s\n",
      "163800K .......... .......... .......... .......... .......... 48%  405K 25s\n",
      "163850K .......... .......... .......... .......... .......... 48%  300M 25s\n",
      "163900K .......... .......... .......... .......... .......... 48%  661M 25s\n",
      "163950K .......... .......... .......... .......... .......... 48%  656M 25s\n",
      "164000K .......... .......... .......... .......... .......... 48%  185M 25s\n",
      "164050K .......... .......... .......... .......... .......... 48%  551M 25s\n",
      "164100K .......... .......... .......... .......... .......... 48%  655M 25s\n",
      "164150K .......... .......... .......... .......... .......... 48%  688M 25s\n",
      "164200K .......... .......... .......... .......... .......... 48% 48.9M 25s\n",
      "164250K .......... .......... .......... .......... .......... 48%  496M 25s\n",
      "164300K .......... .......... .......... .......... .......... 48%  666M 25s\n",
      "164350K .......... .......... .......... .......... .......... 48%  631M 25s\n",
      "164400K .......... .......... .......... .......... .......... 48%  185M 25s\n",
      "164450K .......... .......... .......... .......... .......... 48%  609M 25s\n",
      "164500K .......... .......... .......... .......... .......... 48%  196M 25s\n",
      "164550K .......... .......... .......... .......... .......... 48%  649M 25s\n",
      "164600K .......... .......... .......... .......... .......... 48%  561M 25s\n",
      "164650K .......... .......... .......... .......... .......... 48%  142M 25s\n",
      "164700K .......... .......... .......... .......... .......... 48%  625M 25s\n",
      "164750K .......... .......... .......... .......... .......... 48%  672M 25s\n",
      "164800K .......... .......... .......... .......... .......... 48%  130M 25s\n",
      "164850K .......... .......... .......... .......... .......... 48%  607M 25s\n",
      "164900K .......... .......... .......... .......... .......... 48%  470K 25s\n",
      "164950K .......... .......... .......... .......... .......... 48%  303M 25s\n",
      "165000K .......... .......... .......... .......... .......... 48%  200M 25s\n",
      "165050K .......... .......... .......... .......... .......... 48%  261M 25s\n",
      "165100K .......... .......... .......... .......... .......... 48%  269M 25s\n",
      "165150K .......... .......... .......... .......... .......... 48%  375M 25s\n",
      "165200K .......... .......... .......... .......... .......... 48%  428M 25s\n",
      "165250K .......... .......... .......... .......... .......... 48%  405M 25s\n",
      "165300K .......... .......... .......... .......... .......... 48%  540M 25s\n",
      "165350K .......... .......... .......... .......... .......... 48%  319M 25s\n",
      "165400K .......... .......... .......... .......... .......... 48%  477M 25s\n",
      "165450K .......... .......... .......... .......... .......... 48%  478M 25s\n",
      "165500K .......... .......... .......... .......... .......... 48%  636M 25s\n",
      "165550K .......... .......... .......... .......... .......... 49%  401M 25s\n",
      "165600K .......... .......... .......... .......... .......... 49%  472M 25s\n",
      "165650K .......... .......... .......... .......... .......... 49%  408M 25s\n",
      "165700K .......... .......... .......... .......... .......... 49%  624M 25s\n",
      "165750K .......... .......... .......... .......... .......... 49%  243M 25s\n",
      "165800K .......... .......... .......... .......... .......... 49%  480M 25s\n",
      "165850K .......... .......... .......... .......... .......... 49%  469M 25s\n",
      "165900K .......... .......... .......... .......... .......... 49%  150M 25s\n",
      "165950K .......... .......... .......... .......... .......... 49%  403M 25s\n",
      "166000K .......... .......... .......... .......... .......... 49%  357M 25s\n",
      "166050K .......... .......... .......... .......... .......... 49%  465K 25s\n",
      "166100K .......... .......... .......... .......... .......... 49%  361M 25s\n",
      "166150K .......... .......... .......... .......... .......... 49%  147M 25s\n",
      "166200K .......... .......... .......... .......... .......... 49%  319M 25s\n",
      "166250K .......... .......... .......... .......... .......... 49%  261M 25s\n",
      "166300K .......... .......... .......... .......... .......... 49%  303M 25s\n",
      "166350K .......... .......... .......... .......... .......... 49%  374M 25s\n",
      "166400K .......... .......... .......... .......... .......... 49% 77.8M 25s\n",
      "166450K .......... .......... .......... .......... .......... 49%  586M 25s\n",
      "166500K .......... .......... .......... .......... .......... 49%  644M 25s\n",
      "166550K .......... .......... .......... .......... .......... 49%  662M 25s\n",
      "166600K .......... .......... .......... .......... .......... 49%  106M 25s\n",
      "166650K .......... .......... .......... .......... .......... 49%  348M 25s\n",
      "166700K .......... .......... .......... .......... .......... 49%  453M 25s\n",
      "166750K .......... .......... .......... .......... .......... 49%  347M 25s\n",
      "166800K .......... .......... .......... .......... .......... 49%  529M 25s\n",
      "166850K .......... .......... .......... .......... .......... 49%  636M 25s\n",
      "166900K .......... .......... .......... .......... .......... 49%  642M 25s\n",
      "166950K .......... .......... .......... .......... .......... 49%  317M 25s\n",
      "167000K .......... .......... .......... .......... .......... 49%  358M 25s\n",
      "167050K .......... .......... .......... .......... .......... 49%  648M 25s\n",
      "167100K .......... .......... .......... .......... .......... 49%  439M 25s\n",
      "167150K .......... .......... .......... .......... .......... 49%  630M 25s\n",
      "167200K .......... .......... .......... .......... .......... 49%  465K 25s\n",
      "167250K .......... .......... .......... .......... .......... 49%  218M 25s\n",
      "167300K .......... .......... .......... .......... .......... 49%  280M 25s\n",
      "167350K .......... .......... .......... .......... .......... 49%  372M 25s\n",
      "167400K .......... .......... .......... .......... .......... 49%  330M 25s\n",
      "167450K .......... .......... .......... .......... .......... 49% 84.0M 25s\n",
      "167500K .......... .......... .......... .......... .......... 49%  387M 25s\n",
      "167550K .......... .......... .......... .......... .......... 49%  542M 25s\n",
      "167600K .......... .......... .......... .......... .......... 49%  345M 24s\n",
      "167650K .......... .......... .......... .......... .......... 49%  500M 24s\n",
      "167700K .......... .......... .......... .......... .......... 49%  535M 24s\n",
      "167750K .......... .......... .......... .......... .......... 49%  661M 24s\n",
      "167800K .......... .......... .......... .......... .......... 49%  577M 24s\n",
      "167850K .......... .......... .......... .......... .......... 49%  668M 24s\n",
      "167900K .......... .......... .......... .......... .......... 49%  415K 25s\n",
      "167950K .......... .......... .......... .......... .......... 49%  331M 25s\n",
      "168000K .......... .......... .......... .......... .......... 49%  309M 25s\n",
      "168050K .......... .......... .......... .......... .......... 49%  159M 24s\n",
      "168100K .......... .......... .......... .......... .......... 49%  432M 24s\n",
      "168150K .......... .......... .......... .......... .......... 49%  660M 24s\n",
      "168200K .......... .......... .......... .......... .......... 49%  298M 24s\n",
      "168250K .......... .......... .......... .......... .......... 49%  459M 24s\n",
      "168300K .......... .......... .......... .......... .......... 49%  385M 24s\n",
      "168350K .......... .......... .......... .......... .......... 49%  506M 24s\n",
      "168400K .......... .......... .......... .......... .......... 49%  529M 24s\n",
      "168450K .......... .......... .......... .......... .......... 49%  668M 24s\n",
      "168500K .......... .......... .......... .......... .......... 49%  251M 24s\n",
      "168550K .......... .......... .......... .......... .......... 49%  201M 24s\n",
      "168600K .......... .......... .......... .......... .......... 49%  537M 24s\n",
      "168650K .......... .......... .......... .......... .......... 49%  639M 24s\n",
      "168700K .......... .......... .......... .......... .......... 49% 71.4M 24s\n",
      "168750K .......... .......... .......... .......... .......... 49%  349M 24s\n",
      "168800K .......... .......... .......... .......... .......... 49%  140M 24s\n",
      "168850K .......... .......... .......... .......... .......... 49%  410M 24s\n",
      "168900K .......... .......... .......... .......... .......... 49%  625M 24s\n",
      "168950K .......... .......... .......... .......... .......... 50%  178M 24s\n",
      "169000K .......... .......... .......... .......... .......... 50%  563M 24s\n",
      "169050K .......... .......... .......... .......... .......... 50%  469K 24s\n",
      "169100K .......... .......... .......... .......... .......... 50%  340M 24s\n",
      "169150K .......... .......... .......... .......... .......... 50%  315M 24s\n",
      "169200K .......... .......... .......... .......... .......... 50%  376M 24s\n",
      "169250K .......... .......... .......... .......... .......... 50%  668M 24s\n",
      "169300K .......... .......... .......... .......... .......... 50%  670M 24s\n",
      "169350K .......... .......... .......... .......... .......... 50%  517M 24s\n",
      "169400K .......... .......... .......... .......... .......... 50%  233M 24s\n",
      "169450K .......... .......... .......... .......... .......... 50%  674M 24s\n",
      "169500K .......... .......... .......... .......... .......... 50%  115M 24s\n",
      "169550K .......... .......... .......... .......... .......... 50%  625M 24s\n",
      "169600K .......... .......... .......... .......... .......... 50%  441M 24s\n",
      "169650K .......... .......... .......... .......... .......... 50%  473M 24s\n",
      "169700K .......... .......... .......... .......... .......... 50%  460M 24s\n",
      "169750K .......... .......... .......... .......... .......... 50%  533M 24s\n",
      "169800K .......... .......... .......... .......... .......... 50%  574M 24s\n",
      "169850K .......... .......... .......... .......... .......... 50%  106M 24s\n",
      "169900K .......... .......... .......... .......... .......... 50%  457M 24s\n",
      "169950K .......... .......... .......... .......... .......... 50%  407M 24s\n",
      "170000K .......... .......... .......... .......... .......... 50%  549M 24s\n",
      "170050K .......... .......... .......... .......... .......... 50%  106M 24s\n",
      "170100K .......... .......... .......... .......... .......... 50%  531M 24s\n",
      "170150K .......... .......... .......... .......... .......... 50%  630M 24s\n",
      "170200K .......... .......... .......... .......... .......... 50%  577M 24s\n",
      "170250K .......... .......... .......... .......... .......... 50%  461K 24s\n",
      "170300K .......... .......... .......... .......... .......... 50% 83.4M 24s\n",
      "170350K .......... .......... .......... .......... .......... 50%  191M 24s\n",
      "170400K .......... .......... .......... .......... .......... 50%  559M 24s\n",
      "170450K .......... .......... .......... .......... .......... 50%  175M 24s\n",
      "170500K .......... .......... .......... .......... .......... 50%  395M 24s\n",
      "170550K .......... .......... .......... .......... .......... 50%  503M 24s\n",
      "170600K .......... .......... .......... .......... .......... 50%  383M 24s\n",
      "170650K .......... .......... .......... .......... .......... 50%  576M 24s\n",
      "170700K .......... .......... .......... .......... .......... 50%  651M 24s\n",
      "170750K .......... .......... .......... .......... .......... 50%  643M 24s\n",
      "170800K .......... .......... .......... .......... .......... 50% 77.9M 24s\n",
      "170850K .......... .......... .......... .......... .......... 50%  457M 24s\n",
      "170900K .......... .......... .......... .......... .......... 50%  537M 24s\n",
      "170950K .......... .......... .......... .......... .......... 50%  459M 24s\n",
      "171000K .......... .......... .......... .......... .......... 50%  467M 24s\n",
      "171050K .......... .......... .......... .......... .......... 50%  660M 24s\n",
      "171100K .......... .......... .......... .......... .......... 50%  149M 24s\n",
      "171150K .......... .......... .......... .......... .......... 50%  533M 24s\n",
      "171200K .......... .......... .......... .......... .......... 50%  379M 24s\n",
      "171250K .......... .......... .......... .......... .......... 50%  617M 24s\n",
      "171300K .......... .......... .......... .......... .......... 50%  654M 24s\n",
      "171350K .......... .......... .......... .......... .......... 50%  660M 24s\n",
      "171400K .......... .......... .......... .......... .......... 50%  568M 24s\n",
      "171450K .......... .......... .......... .......... .......... 50%  466K 24s\n",
      "171500K .......... .......... .......... .......... .......... 50% 56.4M 24s\n",
      "171550K .......... .......... .......... .......... .......... 50% 44.4M 24s\n",
      "171600K .......... .......... .......... .......... .......... 50%  114M 24s\n",
      "171650K .......... .......... .......... .......... .......... 50%  639M 24s\n",
      "171700K .......... .......... .......... .......... .......... 50%  649M 24s\n",
      "171750K .......... .......... .......... .......... .......... 50%  119M 24s\n",
      "171800K .......... .......... .......... .......... .......... 50%  578M 24s\n",
      "171850K .......... .......... .......... .......... .......... 50%  673M 24s\n",
      "171900K .......... .......... .......... .......... .......... 50%  659M 24s\n",
      "171950K .......... .......... .......... .......... .......... 50%  380M 24s\n",
      "172000K .......... .......... .......... .......... .......... 50%  419K 24s\n",
      "172050K .......... .......... .......... .......... .......... 50%  251M 24s\n",
      "172100K .......... .......... .......... .......... .......... 50%  203M 24s\n",
      "172150K .......... .......... .......... .......... .......... 50%  113M 24s\n",
      "172200K .......... .......... .......... .......... .......... 50% 90.6M 24s\n",
      "172250K .......... .......... .......... .......... .......... 50%  128M 24s\n",
      "172300K .......... .......... .......... .......... .......... 51%  113M 24s\n",
      "172350K .......... .......... .......... .......... .......... 51%  469M 24s\n",
      "172400K .......... .......... .......... .......... .......... 51%  440M 24s\n",
      "172450K .......... .......... .......... .......... .......... 51% 75.3M 24s\n",
      "172500K .......... .......... .......... .......... .......... 51%  448M 24s\n",
      "172550K .......... .......... .......... .......... .......... 51%  543M 24s\n",
      "172600K .......... .......... .......... .......... .......... 51%  398M 24s\n",
      "172650K .......... .......... .......... .......... .......... 51%  431M 24s\n",
      "172700K .......... .......... .......... .......... .......... 51%  512M 24s\n",
      "172750K .......... .......... .......... .......... .......... 51%  476M 24s\n",
      "172800K .......... .......... .......... .......... .......... 51%  543M 24s\n",
      "172850K .......... .......... .......... .......... .......... 51%  658M 24s\n",
      "172900K .......... .......... .......... .......... .......... 51%  639M 24s\n",
      "172950K .......... .......... .......... .......... .......... 51%  468M 24s\n",
      "173000K .......... .......... .......... .......... .......... 51%  372M 24s\n",
      "173050K .......... .......... .......... .......... .......... 51%  494M 24s\n",
      "173100K .......... .......... .......... .......... .......... 51%  517M 24s\n",
      "173150K .......... .......... .......... .......... .......... 51%  617M 23s\n",
      "173200K .......... .......... .......... .......... .......... 51%  445K 24s\n",
      "173250K .......... .......... .......... .......... .......... 51%  231M 24s\n",
      "173300K .......... .......... .......... .......... .......... 51%  310M 24s\n",
      "173350K .......... .......... .......... .......... .......... 51%  226M 24s\n",
      "173400K .......... .......... .......... .......... .......... 51%  320M 24s\n",
      "173450K .......... .......... .......... .......... .......... 51%  267M 24s\n",
      "173500K .......... .......... .......... .......... .......... 51%  585M 24s\n",
      "173550K .......... .......... .......... .......... .......... 51%  652M 23s\n",
      "173600K .......... .......... .......... .......... .......... 51%  411M 23s\n",
      "173650K .......... .......... .......... .......... .......... 51%  611M 23s\n",
      "173700K .......... .......... .......... .......... .......... 51%  640M 23s\n",
      "173750K .......... .......... .......... .......... .......... 51%  655M 23s\n",
      "173800K .......... .......... .......... .......... .......... 51%  411M 23s\n",
      "173850K .......... .......... .......... .......... .......... 51%  587M 23s\n",
      "173900K .......... .......... .......... .......... .......... 51%  663M 23s\n",
      "173950K .......... .......... .......... .......... .......... 51%  520M 23s\n",
      "174000K .......... .......... .......... .......... .......... 51%  544M 23s\n",
      "174050K .......... .......... .......... .......... .......... 51%  185M 23s\n",
      "174100K .......... .......... .......... .......... .......... 51%  501M 23s\n",
      "174150K .......... .......... .......... .......... .......... 51%  639M 23s\n",
      "174200K .......... .......... .......... .......... .......... 51%  475M 23s\n",
      "174250K .......... .......... .......... .......... .......... 51%  632M 23s\n",
      "174300K .......... .......... .......... .......... .......... 51%  355M 23s\n",
      "174350K .......... .......... .......... .......... .......... 51%  302M 23s\n",
      "174400K .......... .......... .......... .......... .......... 51%  544M 23s\n",
      "174450K .......... .......... .......... .......... .......... 51%  493K 23s\n",
      "174500K .......... .......... .......... .......... .......... 51%  473M 23s\n",
      "174550K .......... .......... .......... .......... .......... 51%  636M 23s\n",
      "174600K .......... .......... .......... .......... .......... 51%  140M 23s\n",
      "174650K .......... .......... .......... .......... .......... 51%  610M 23s\n",
      "174700K .......... .......... .......... .......... .......... 51%  651M 23s\n",
      "174750K .......... .......... .......... .......... .......... 51%  120M 23s\n",
      "174800K .......... .......... .......... .......... .......... 51%  410M 23s\n",
      "174850K .......... .......... .......... .......... .......... 51%  533M 23s\n",
      "174900K .......... .......... .......... .......... .......... 51%  491M 23s\n",
      "174950K .......... .......... .......... .......... .......... 51%  615M 23s\n",
      "175000K .......... .......... .......... .......... .......... 51%  417M 23s\n",
      "175050K .......... .......... .......... .......... .......... 51%  354M 23s\n",
      "175100K .......... .......... .......... .......... .......... 51%  414M 23s\n",
      "175150K .......... .......... .......... .......... .......... 51%  182M 23s\n",
      "175200K .......... .......... .......... .......... .......... 51%  453M 23s\n",
      "175250K .......... .......... .......... .......... .......... 51%  633M 23s\n",
      "175300K .......... .......... .......... .......... .......... 51%  174M 23s\n",
      "175350K .......... .......... .......... .......... .......... 51%  431M 23s\n",
      "175400K .......... .......... .......... .......... .......... 51%  484M 23s\n",
      "175450K .......... .......... .......... .......... .......... 51%  640M 23s\n",
      "175500K .......... .......... .......... .......... .......... 51%  653M 23s\n",
      "175550K .......... .......... .......... .......... .......... 51%  151M 23s\n",
      "175600K .......... .......... .......... .......... .......... 51%  483M 23s\n",
      "175650K .......... .......... .......... .......... .......... 51%  213M 23s\n",
      "175700K .......... .......... .......... .......... .......... 52%  469K 23s\n",
      "175750K .......... .......... .......... .......... .......... 52%  114M 23s\n",
      "175800K .......... .......... .......... .......... .......... 52%  215M 23s\n",
      "175850K .......... .......... .......... .......... .......... 52%  466M 23s\n",
      "175900K .......... .......... .......... .......... .......... 52%  680M 23s\n",
      "175950K .......... .......... .......... .......... .......... 52%  170M 23s\n",
      "176000K .......... .......... .......... .......... .......... 52%  247M 23s\n",
      "176050K .......... .......... .......... .......... .......... 52%  615M 23s\n",
      "176100K .......... .......... .......... .......... .......... 52%  408K 23s\n",
      "176150K .......... .......... .......... .......... .......... 52%  185M 23s\n",
      "176200K .......... .......... .......... .......... .......... 52%  219M 23s\n",
      "176250K .......... .......... .......... .......... .......... 52%  600M 23s\n",
      "176300K .......... .......... .......... .......... .......... 52%  457M 23s\n",
      "176350K .......... .......... .......... .......... .......... 52%  624M 23s\n",
      "176400K .......... .......... .......... .......... .......... 52%  145M 23s\n",
      "176450K .......... .......... .......... .......... .......... 52%  723M 23s\n",
      "176500K .......... .......... .......... .......... .......... 52%  634M 23s\n",
      "176550K .......... .......... .......... .......... .......... 52%  350M 23s\n",
      "176600K .......... .......... .......... .......... .......... 52%  559M 23s\n",
      "176650K .......... .......... .......... .......... .......... 52%  198M 23s\n",
      "176700K .......... .......... .......... .......... .......... 52%  416M 23s\n",
      "176750K .......... .......... .......... .......... .......... 52%  564M 23s\n",
      "176800K .......... .......... .......... .......... .......... 52%  193M 23s\n",
      "176850K .......... .......... .......... .......... .......... 52%  619M 23s\n",
      "176900K .......... .......... .......... .......... .......... 52%  256M 23s\n",
      "176950K .......... .......... .......... .......... .......... 52%  626M 23s\n",
      "177000K .......... .......... .......... .......... .......... 52%  143M 23s\n",
      "177050K .......... .......... .......... .......... .......... 52%  494M 23s\n",
      "177100K .......... .......... .......... .......... .......... 52%  594M 23s\n",
      "177150K .......... .......... .......... .......... .......... 52%  538M 23s\n",
      "177200K .......... .......... .......... .......... .......... 52%  441M 23s\n",
      "177250K .......... .......... .......... .......... .......... 52%  607M 23s\n",
      "177300K .......... .......... .......... .......... .......... 52%  438M 23s\n",
      "177350K .......... .......... .......... .......... .......... 52%  615M 23s\n",
      "177400K .......... .......... .......... .......... .......... 52%  424K 23s\n",
      "177450K .......... .......... .......... .......... .......... 52% 86.4M 23s\n",
      "177500K .......... .......... .......... .......... .......... 52%  309M 23s\n",
      "177550K .......... .......... .......... .......... .......... 52%  304M 23s\n",
      "177600K .......... .......... .......... .......... .......... 52%  256M 23s\n",
      "177650K .......... .......... .......... .......... .......... 52%  632M 23s\n",
      "177700K .......... .......... .......... .......... .......... 52%  642M 23s\n",
      "177750K .......... .......... .......... .......... .......... 52%  421M 23s\n",
      "177800K .......... .......... .......... .......... .......... 52%  573M 23s\n",
      "177850K .......... .......... .......... .......... .......... 52%  630M 23s\n",
      "177900K .......... .......... .......... .......... .......... 52%  613M 23s\n",
      "177950K .......... .......... .......... .......... .......... 52%  638M 23s\n",
      "178000K .......... .......... .......... .......... .......... 52%  314M 23s\n",
      "178050K .......... .......... .......... .......... .......... 52%  638M 23s\n",
      "178100K .......... .......... .......... .......... .......... 52%  659M 23s\n",
      "178150K .......... .......... .......... .......... .......... 52%  172M 23s\n",
      "178200K .......... .......... .......... .......... .......... 52%  529M 23s\n",
      "178250K .......... .......... .......... .......... .......... 52%  674M 23s\n",
      "178300K .......... .......... .......... .......... .......... 52%  656M 23s\n",
      "178350K .......... .......... .......... .......... .......... 52%  350M 23s\n",
      "178400K .......... .......... .......... .......... .......... 52%  466M 23s\n",
      "178450K .......... .......... .......... .......... .......... 52%  231M 23s\n",
      "178500K .......... .......... .......... .......... .......... 52%  435M 23s\n",
      "178550K .......... .......... .......... .......... .......... 52%  495M 23s\n",
      "178600K .......... .......... .......... .......... .......... 52%  579M 23s\n",
      "178650K .......... .......... .......... .......... .......... 52%  646M 23s\n",
      "178700K .......... .......... .......... .......... .......... 52%  516K 23s\n",
      "178750K .......... .......... .......... .......... .......... 52%  407M 23s\n",
      "178800K .......... .......... .......... .......... .......... 52%  300M 23s\n",
      "178850K .......... .......... .......... .......... .......... 52%  550M 23s\n",
      "178900K .......... .......... .......... .......... .......... 52%  167M 23s\n",
      "178950K .......... .......... .......... .......... .......... 52%  398M 23s\n",
      "179000K .......... .......... .......... .......... .......... 52%  468M 23s\n",
      "179050K .......... .......... .......... .......... .......... 53% 50.5M 23s\n",
      "179100K .......... .......... .......... .......... .......... 53%  382M 22s\n",
      "179150K .......... .......... .......... .......... .......... 53%  650M 22s\n",
      "179200K .......... .......... .......... .......... .......... 53%  427M 22s\n",
      "179250K .......... .......... .......... .......... .......... 53%  631M 22s\n",
      "179300K .......... .......... .......... .......... .......... 53%  631M 22s\n",
      "179350K .......... .......... .......... .......... .......... 53% 36.0M 22s\n",
      "179400K .......... .......... .......... .......... .......... 53%  407M 22s\n",
      "179450K .......... .......... .......... .......... .......... 53%  397M 22s\n",
      "179500K .......... .......... .......... .......... .......... 53%  215M 22s\n",
      "179550K .......... .......... .......... .......... .......... 53%  209M 22s\n",
      "179600K .......... .......... .......... .......... .......... 53%  306M 22s\n",
      "179650K .......... .......... .......... .......... .......... 53%  383M 22s\n",
      "179700K .......... .......... .......... .......... .......... 53%  295M 22s\n",
      "179750K .......... .......... .......... .......... .......... 53%  406M 22s\n",
      "179800K .......... .......... .......... .......... .......... 53%  574M 22s\n",
      "179850K .......... .......... .......... .......... .......... 53%  618M 22s\n",
      "179900K .......... .......... .......... .......... .......... 53%  633M 22s\n",
      "179950K .......... .......... .......... .......... .......... 53%  622M 22s\n",
      "180000K .......... .......... .......... .......... .......... 53%  476K 22s\n",
      "180050K .......... .......... .......... .......... .......... 53%  102M 22s\n",
      "180100K .......... .......... .......... .......... .......... 53%  298M 22s\n",
      "180150K .......... .......... .......... .......... .......... 53%  549M 22s\n",
      "180200K .......... .......... .......... .......... .......... 53%  404K 22s\n",
      "180250K .......... .......... .......... .......... .......... 53%  333M 22s\n",
      "180300K .......... .......... .......... .......... .......... 53%  246M 22s\n",
      "180350K .......... .......... .......... .......... .......... 53%  208M 22s\n",
      "180400K .......... .......... .......... .......... .......... 53%  224M 22s\n",
      "180450K .......... .......... .......... .......... .......... 53%  511M 22s\n",
      "180500K .......... .......... .......... .......... .......... 53%  516M 22s\n",
      "180550K .......... .......... .......... .......... .......... 53%  492M 22s\n",
      "180600K .......... .......... .......... .......... .......... 53%  469M 22s\n",
      "180650K .......... .......... .......... .......... .......... 53% 53.8M 22s\n",
      "180700K .......... .......... .......... .......... .......... 53%  587M 22s\n",
      "180750K .......... .......... .......... .......... .......... 53%  639M 22s\n",
      "180800K .......... .......... .......... .......... .......... 53%  145M 22s\n",
      "180850K .......... .......... .......... .......... .......... 53%  621M 22s\n",
      "180900K .......... .......... .......... .......... .......... 53%  665M 22s\n",
      "180950K .......... .......... .......... .......... .......... 53%  650M 22s\n",
      "181000K .......... .......... .......... .......... .......... 53% 73.0M 22s\n",
      "181050K .......... .......... .......... .......... .......... 53%  637M 22s\n",
      "181100K .......... .......... .......... .......... .......... 53%  562M 22s\n",
      "181150K .......... .......... .......... .......... .......... 53%  337M 22s\n",
      "181200K .......... .......... .......... .......... .......... 53%  403M 22s\n",
      "181250K .......... .......... .......... .......... .......... 53%  446M 22s\n",
      "181300K .......... .......... .......... .......... .......... 53%  622M 22s\n",
      "181350K .......... .......... .......... .......... .......... 53%  647M 22s\n",
      "181400K .......... .......... .......... .......... .......... 53%  589M 22s\n",
      "181450K .......... .......... .......... .......... .......... 53%  658M 22s\n",
      "181500K .......... .......... .......... .......... .......... 53%  668M 22s\n",
      "181550K .......... .......... .......... .......... .......... 53%  474K 22s\n",
      "181600K .......... .......... .......... .......... .......... 53% 52.9M 22s\n",
      "181650K .......... .......... .......... .......... .......... 53%  332M 22s\n",
      "181700K .......... .......... .......... .......... .......... 53%  426M 22s\n",
      "181750K .......... .......... .......... .......... .......... 53%  469M 22s\n",
      "181800K .......... .......... .......... .......... .......... 53%  352M 22s\n",
      "181850K .......... .......... .......... .......... .......... 53%  620M 22s\n",
      "181900K .......... .......... .......... .......... .......... 53%  656M 22s\n",
      "181950K .......... .......... .......... .......... .......... 53%  644M 22s\n",
      "182000K .......... .......... .......... .......... .......... 53%  536M 22s\n",
      "182050K .......... .......... .......... .......... .......... 53%  427M 22s\n",
      "182100K .......... .......... .......... .......... .......... 53%  278M 22s\n",
      "182150K .......... .......... .......... .......... .......... 53%  492M 22s\n",
      "182200K .......... .......... .......... .......... .......... 53%  546M 22s\n",
      "182250K .......... .......... .......... .......... .......... 53%  104M 22s\n",
      "182300K .......... .......... .......... .......... .......... 53%  188M 22s\n",
      "182350K .......... .......... .......... .......... .......... 53%  654M 22s\n",
      "182400K .......... .......... .......... .......... .......... 53% 97.5M 22s\n",
      "182450K .......... .......... .......... .......... .......... 54%  545M 22s\n",
      "182500K .......... .......... .......... .......... .......... 54%  329M 22s\n",
      "182550K .......... .......... .......... .......... .......... 54%  533M 22s\n",
      "182600K .......... .......... .......... .......... .......... 54%  571M 22s\n",
      "182650K .......... .......... .......... .......... .......... 54%  211M 22s\n",
      "182700K .......... .......... .......... .......... .......... 54%  569M 22s\n",
      "182750K .......... .......... .......... .......... .......... 54%  590M 22s\n",
      "182800K .......... .......... .......... .......... .......... 54%  314M 22s\n",
      "182850K .......... .......... .......... .......... .......... 54%  602M 22s\n",
      "182900K .......... .......... .......... .......... .......... 54%  468K 22s\n",
      "182950K .......... .......... .......... .......... .......... 54%  128M 22s\n",
      "183000K .......... .......... .......... .......... .......... 54%  212M 22s\n",
      "183050K .......... .......... .......... .......... .......... 54%  328M 22s\n",
      "183100K .......... .......... .......... .......... .......... 54%  578M 22s\n",
      "183150K .......... .......... .......... .......... .......... 54%  329M 22s\n",
      "183200K .......... .......... .......... .......... .......... 54%  504M 22s\n",
      "183250K .......... .......... .......... .......... .......... 54%  657M 22s\n",
      "183300K .......... .......... .......... .......... .......... 54%  613M 22s\n",
      "183350K .......... .......... .......... .......... .......... 54%  670M 22s\n",
      "183400K .......... .......... .......... .......... .......... 54%  467M 22s\n",
      "183450K .......... .......... .......... .......... .......... 54%  460M 22s\n",
      "183500K .......... .......... .......... .......... .......... 54%  547M 22s\n",
      "183550K .......... .......... .......... .......... .......... 54%  435M 22s\n",
      "183600K .......... .......... .......... .......... .......... 54%  532M 22s\n",
      "183650K .......... .......... .......... .......... .......... 54%  135M 22s\n",
      "183700K .......... .......... .......... .......... .......... 54%  519M 22s\n",
      "183750K .......... .......... .......... .......... .......... 54%  202M 22s\n",
      "183800K .......... .......... .......... .......... .......... 54%  502M 22s\n",
      "183850K .......... .......... .......... .......... .......... 54%  115M 22s\n",
      "183900K .......... .......... .......... .......... .......... 54%  322M 22s\n",
      "183950K .......... .......... .......... .......... .......... 54%  660M 22s\n",
      "184000K .......... .......... .......... .......... .......... 54% 84.6M 22s\n",
      "184050K .......... .......... .......... .......... .......... 54%  428M 22s\n",
      "184100K .......... .......... .......... .......... .......... 54%  344M 22s\n",
      "184150K .......... .......... .......... .......... .......... 54%  609M 22s\n",
      "184200K .......... .......... .......... .......... .......... 54%  572M 22s\n",
      "184250K .......... .......... .......... .......... .......... 54%  671M 22s\n",
      "184300K .......... .......... .......... .......... .......... 54%  420K 22s\n",
      "184350K .......... .......... .......... .......... .......... 54% 16.1M 22s\n",
      "184400K .......... .......... .......... .......... .......... 54%  282M 22s\n",
      "184450K .......... .......... .......... .......... .......... 54%  308M 22s\n",
      "184500K .......... .......... .......... .......... .......... 54%  111M 22s\n",
      "184550K .......... .......... .......... .......... .......... 54%  340M 22s\n",
      "184600K .......... .......... .......... .......... .......... 54%  336M 22s\n",
      "184650K .......... .......... .......... .......... .......... 54%  361M 22s\n",
      "184700K .......... .......... .......... .......... .......... 54%  469M 22s\n",
      "184750K .......... .......... .......... .......... .......... 54%  497M 22s\n",
      "184800K .......... .......... .......... .......... .......... 54%  397M 21s\n",
      "184850K .......... .......... .......... .......... .......... 54%  309M 21s\n",
      "184900K .......... .......... .......... .......... .......... 54%  633M 21s\n",
      "184950K .......... .......... .......... .......... .......... 54%  658M 21s\n",
      "185000K .......... .......... .......... .......... .......... 54%  593M 21s\n",
      "185050K .......... .......... .......... .......... .......... 54%  638M 21s\n",
      "185100K .......... .......... .......... .......... .......... 54%  258M 21s\n",
      "185150K .......... .......... .......... .......... .......... 54%  359M 21s\n",
      "185200K .......... .......... .......... .......... .......... 54%  399M 21s\n",
      "185250K .......... .......... .......... .......... .......... 54%  630M 21s\n",
      "185300K .......... .......... .......... .......... .......... 54%  654M 21s\n",
      "185350K .......... .......... .......... .......... .......... 54%  486M 21s\n",
      "185400K .......... .......... .......... .......... .......... 54%  419M 21s\n",
      "185450K .......... .......... .......... .......... .......... 54%  538M 21s\n",
      "185500K .......... .......... .......... .......... .......... 54%  657M 21s\n",
      "185550K .......... .......... .......... .......... .......... 54%  641M 21s\n",
      "185600K .......... .......... .......... .......... .......... 54%  310M 21s\n",
      "185650K .......... .......... .......... .......... .......... 54%  623M 21s\n",
      "185700K .......... .......... .......... .......... .......... 54%  481K 21s\n",
      "185750K .......... .......... .......... .......... .......... 54%  148M 21s\n",
      "185800K .......... .......... .......... .......... .......... 54% 80.3M 21s\n",
      "185850K .......... .......... .......... .......... .......... 55%  353M 21s\n",
      "185900K .......... .......... .......... .......... .......... 55%  447M 21s\n",
      "185950K .......... .......... .......... .......... .......... 55%  665M 21s\n",
      "186000K .......... .......... .......... .......... .......... 55%  378M 21s\n",
      "186050K .......... .......... .......... .......... .......... 55%  390M 21s\n",
      "186100K .......... .......... .......... .......... .......... 55%  515M 21s\n",
      "186150K .......... .......... .......... .......... .......... 55%  132M 21s\n",
      "186200K .......... .......... .......... .......... .......... 55%  149M 21s\n",
      "186250K .......... .......... .......... .......... .......... 55% 85.6M 21s\n",
      "186300K .......... .......... .......... .......... .......... 55%  682M 21s\n",
      "186350K .......... .......... .......... .......... .......... 55%  122M 21s\n",
      "186400K .......... .......... .......... .......... .......... 55%  370M 21s\n",
      "186450K .......... .......... .......... .......... .......... 55%  550M 21s\n",
      "186500K .......... .......... .......... .......... .......... 55%  664M 21s\n",
      "186550K .......... .......... .......... .......... .......... 55%  664M 21s\n",
      "186600K .......... .......... .......... .......... .......... 55%  108M 21s\n",
      "186650K .......... .......... .......... .......... .......... 55%  489M 21s\n",
      "186700K .......... .......... .......... .......... .......... 55%  565M 21s\n",
      "186750K .......... .......... .......... .......... .......... 55%  408M 21s\n",
      "186800K .......... .......... .......... .......... .......... 55%  417M 21s\n",
      "186850K .......... .......... .......... .......... .......... 55%  466M 21s\n",
      "186900K .......... .......... .......... .......... .......... 55%  634M 21s\n",
      "186950K .......... .......... .......... .......... .......... 55%  448M 21s\n",
      "187000K .......... .......... .......... .......... .......... 55%  583M 21s\n",
      "187050K .......... .......... .......... .......... .......... 55%  609M 21s\n",
      "187100K .......... .......... .......... .......... .......... 55%  671M 21s\n",
      "187150K .......... .......... .......... .......... .......... 55%  472K 21s\n",
      "187200K .......... .......... .......... .......... .......... 55%  103M 21s\n",
      "187250K .......... .......... .......... .......... .......... 55%  338M 21s\n",
      "187300K .......... .......... .......... .......... .......... 55%  365M 21s\n",
      "187350K .......... .......... .......... .......... .......... 55%  222M 21s\n",
      "187400K .......... .......... .......... .......... .......... 55%  268M 21s\n",
      "187450K .......... .......... .......... .......... .......... 55%  602M 21s\n",
      "187500K .......... .......... .......... .......... .......... 55%  645M 21s\n",
      "187550K .......... .......... .......... .......... .......... 55%  239M 21s\n",
      "187600K .......... .......... .......... .......... .......... 55%  392M 21s\n",
      "187650K .......... .......... .......... .......... .......... 55%  651M 21s\n",
      "187700K .......... .......... .......... .......... .......... 55%  635M 21s\n",
      "187750K .......... .......... .......... .......... .......... 55%  114M 21s\n",
      "187800K .......... .......... .......... .......... .......... 55%  493M 21s\n",
      "187850K .......... .......... .......... .......... .......... 55%  667M 21s\n",
      "187900K .......... .......... .......... .......... .......... 55%  641M 21s\n",
      "187950K .......... .......... .......... .......... .......... 55%  653M 21s\n",
      "188000K .......... .......... .......... .......... .......... 55%  137M 21s\n",
      "188050K .......... .......... .......... .......... .......... 55%  584M 21s\n",
      "188100K .......... .......... .......... .......... .......... 55%  657M 21s\n",
      "188150K .......... .......... .......... .......... .......... 55%  402M 21s\n",
      "188200K .......... .......... .......... .......... .......... 55%  439M 21s\n",
      "188250K .......... .......... .......... .......... .......... 55%  647M 21s\n",
      "188300K .......... .......... .......... .......... .......... 55%  224M 21s\n",
      "188350K .......... .......... .......... .......... .......... 55%  618M 21s\n",
      "188400K .......... .......... .......... .......... .......... 55%  413K 21s\n",
      "188450K .......... .......... .......... .......... .......... 55%  298M 21s\n",
      "188500K .......... .......... .......... .......... .......... 55%  207M 21s\n",
      "188550K .......... .......... .......... .......... .......... 55%  348M 21s\n",
      "188600K .......... .......... .......... .......... .......... 55%  337M 21s\n",
      "188650K .......... .......... .......... .......... .......... 55%  324M 21s\n",
      "188700K .......... .......... .......... .......... .......... 55%  240M 21s\n",
      "188750K .......... .......... .......... .......... .......... 55%  313M 21s\n",
      "188800K .......... .......... .......... .......... .......... 55%  525M 21s\n",
      "188850K .......... .......... .......... .......... .......... 55%  658M 21s\n",
      "188900K .......... .......... .......... .......... .......... 55%  650M 21s\n",
      "188950K .......... .......... .......... .......... .......... 55%  661M 21s\n",
      "189000K .......... .......... .......... .......... .......... 55%  584M 21s\n",
      "189050K .......... .......... .......... .......... .......... 55%  137M 21s\n",
      "189100K .......... .......... .......... .......... .......... 55%  538M 21s\n",
      "189150K .......... .......... .......... .......... .......... 55%  486M 21s\n",
      "189200K .......... .......... .......... .......... .......... 56%  503M 21s\n",
      "189250K .......... .......... .......... .......... .......... 56%  675M 21s\n",
      "189300K .......... .......... .......... .......... .......... 56%  646M 21s\n",
      "189350K .......... .......... .......... .......... .......... 56%  144M 21s\n",
      "189400K .......... .......... .......... .......... .......... 56%  414M 21s\n",
      "189450K .......... .......... .......... .......... .......... 56%  383M 21s\n",
      "189500K .......... .......... .......... .......... .......... 56%  600M 21s\n",
      "189550K .......... .......... .......... .......... .......... 56%  607M 21s\n",
      "189600K .......... .......... .......... .......... .......... 56%  542M 21s\n",
      "189650K .......... .......... .......... .......... .......... 56%  440M 21s\n",
      "189700K .......... .......... .......... .......... .......... 56%  530M 21s\n",
      "189750K .......... .......... .......... .......... .......... 56%  665M 21s\n",
      "189800K .......... .......... .......... .......... .......... 56%  572M 21s\n",
      "189850K .......... .......... .......... .......... .......... 56%  470K 21s\n",
      "189900K .......... .......... .......... .......... .......... 56%  173M 21s\n",
      "189950K .......... .......... .......... .......... .......... 56%  273M 21s\n",
      "190000K .......... .......... .......... .......... .......... 56%  203M 21s\n",
      "190050K .......... .......... .......... .......... .......... 56%  362M 21s\n",
      "190100K .......... .......... .......... .......... .......... 56%  270M 21s\n",
      "190150K .......... .......... .......... .......... .......... 56%  380M 21s\n",
      "190200K .......... .......... .......... .......... .......... 56%  380M 20s\n",
      "190250K .......... .......... .......... .......... .......... 56%  206M 20s\n",
      "190300K .......... .......... .......... .......... .......... 56%  640M 20s\n",
      "190350K .......... .......... .......... .......... .......... 56% 38.8M 20s\n",
      "190400K .......... .......... .......... .......... .......... 56%  252M 20s\n",
      "190450K .......... .......... .......... .......... .......... 56%  210M 20s\n",
      "190500K .......... .......... .......... .......... .......... 56%  500M 20s\n",
      "190550K .......... .......... .......... .......... .......... 56%  646M 20s\n",
      "190600K .......... .......... .......... .......... .......... 56%  449M 20s\n",
      "190650K .......... .......... .......... .......... .......... 56% 82.2M 20s\n",
      "190700K .......... .......... .......... .......... .......... 56%  563M 20s\n",
      "190750K .......... .......... .......... .......... .......... 56%  422M 20s\n",
      "190800K .......... .......... .......... .......... .......... 56%  455M 20s\n",
      "190850K .......... .......... .......... .......... .......... 56%  652M 20s\n",
      "190900K .......... .......... .......... .......... .......... 56%  669M 20s\n",
      "190950K .......... .......... .......... .......... .......... 56% 62.0M 20s\n",
      "191000K .......... .......... .......... .......... .......... 56%  412M 20s\n",
      "191050K .......... .......... .......... .......... .......... 56%  529M 20s\n",
      "191100K .......... .......... .......... .......... .......... 56%  662M 20s\n",
      "191150K .......... .......... .......... .......... .......... 56%  473M 20s\n",
      "191200K .......... .......... .......... .......... .......... 56%  522M 20s\n",
      "191250K .......... .......... .......... .......... .......... 56%  636M 20s\n",
      "191300K .......... .......... .......... .......... .......... 56%  658M 20s\n",
      "191350K .......... .......... .......... .......... .......... 56%  477K 20s\n",
      "191400K .......... .......... .......... .......... .......... 56%  128M 20s\n",
      "191450K .......... .......... .......... .......... .......... 56%  214M 20s\n",
      "191500K .......... .......... .......... .......... .......... 56%  194M 20s\n",
      "191550K .......... .......... .......... .......... .......... 56%  354M 20s\n",
      "191600K .......... .......... .......... .......... .......... 56%  229M 20s\n",
      "191650K .......... .......... .......... .......... .......... 56%  343M 20s\n",
      "191700K .......... .......... .......... .......... .......... 56%  447M 20s\n",
      "191750K .......... .......... .......... .......... .......... 56%  477M 20s\n",
      "191800K .......... .......... .......... .......... .......... 56%  401M 20s\n",
      "191850K .......... .......... .......... .......... .......... 56%  589M 20s\n",
      "191900K .......... .......... .......... .......... .......... 56%  612M 20s\n",
      "191950K .......... .......... .......... .......... .......... 56%  569M 20s\n",
      "192000K .......... .......... .......... .......... .......... 56% 21.5M 20s\n",
      "192050K .......... .......... .......... .......... .......... 56% 45.5M 20s\n",
      "192100K .......... .......... .......... .......... .......... 56% 35.7M 20s\n",
      "192150K .......... .......... .......... .......... .......... 56%  117M 20s\n",
      "192200K .......... .......... .......... .......... .......... 56%  263M 20s\n",
      "192250K .......... .......... .......... .......... .......... 56%  129M 20s\n",
      "192300K .......... .......... .......... .......... .......... 56%  112M 20s\n",
      "192350K .......... .......... .......... .......... .......... 56%  525M 20s\n",
      "192400K .......... .......... .......... .......... .......... 56%  279M 20s\n",
      "192450K .......... .......... .......... .......... .......... 56%  655M 20s\n",
      "192500K .......... .......... .......... .......... .......... 56%  424K 20s\n",
      "192550K .......... .......... .......... .......... .......... 56%  188M 20s\n",
      "192600K .......... .......... .......... .......... .......... 57%  236M 20s\n",
      "192650K .......... .......... .......... .......... .......... 57%  166M 20s\n",
      "192700K .......... .......... .......... .......... .......... 57%  284M 20s\n",
      "192750K .......... .......... .......... .......... .......... 57%  236M 20s\n",
      "192800K .......... .......... .......... .......... .......... 57%  331M 20s\n",
      "192850K .......... .......... .......... .......... .......... 57%  298M 20s\n",
      "192900K .......... .......... .......... .......... .......... 57%  436M 20s\n",
      "192950K .......... .......... .......... .......... .......... 57%  489M 20s\n",
      "193000K .......... .......... .......... .......... .......... 57%  201M 20s\n",
      "193050K .......... .......... .......... .......... .......... 57%  579M 20s\n",
      "193100K .......... .......... .......... .......... .......... 57%  530M 20s\n",
      "193150K .......... .......... .......... .......... .......... 57%  609M 20s\n",
      "193200K .......... .......... .......... .......... .......... 57%  349M 20s\n",
      "193250K .......... .......... .......... .......... .......... 57%  171M 20s\n",
      "193300K .......... .......... .......... .......... .......... 57%  654M 20s\n",
      "193350K .......... .......... .......... .......... .......... 57%  468M 20s\n",
      "193400K .......... .......... .......... .......... .......... 57%  175M 20s\n",
      "193450K .......... .......... .......... .......... .......... 57%  665M 20s\n",
      "193500K .......... .......... .......... .......... .......... 57%  645M 20s\n",
      "193550K .......... .......... .......... .......... .......... 57%  250M 20s\n",
      "193600K .......... .......... .......... .......... .......... 57%  501M 20s\n",
      "193650K .......... .......... .......... .......... .......... 57% 31.5M 20s\n",
      "193700K .......... .......... .......... .......... .......... 57%  526M 20s\n",
      "193750K .......... .......... .......... .......... .......... 57%  648M 20s\n",
      "193800K .......... .......... .......... .......... .......... 57%  135M 20s\n",
      "193850K .......... .......... .......... .......... .......... 57%  621M 20s\n",
      "193900K .......... .......... .......... .......... .......... 57%  185M 20s\n",
      "193950K .......... .......... .......... .......... .......... 57%  640M 20s\n",
      "194000K .......... .......... .......... .......... .......... 57%  480K 20s\n",
      "194050K .......... .......... .......... .......... .......... 57%  182M 20s\n",
      "194100K .......... .......... .......... .......... .......... 57%  209M 20s\n",
      "194150K .......... .......... .......... .......... .......... 57%  333M 20s\n",
      "194200K .......... .......... .......... .......... .......... 57%  229M 20s\n",
      "194250K .......... .......... .......... .......... .......... 57%  524M 20s\n",
      "194300K .......... .......... .......... .......... .......... 57%  595M 20s\n",
      "194350K .......... .......... .......... .......... .......... 57%  473M 20s\n",
      "194400K .......... .......... .......... .......... .......... 57%  327M 20s\n",
      "194450K .......... .......... .......... .......... .......... 57%  600M 20s\n",
      "194500K .......... .......... .......... .......... .......... 57%  624M 20s\n",
      "194550K .......... .......... .......... .......... .......... 57%  209M 20s\n",
      "194600K .......... .......... .......... .......... .......... 57%  430M 20s\n",
      "194650K .......... .......... .......... .......... .......... 57%  642M 20s\n",
      "194700K .......... .......... .......... .......... .......... 57%  620M 20s\n",
      "194750K .......... .......... .......... .......... .......... 57%  164M 20s\n",
      "194800K .......... .......... .......... .......... .......... 57%  507M 20s\n",
      "194850K .......... .......... .......... .......... .......... 57%  626M 20s\n",
      "194900K .......... .......... .......... .......... .......... 57%  514M 20s\n",
      "194950K .......... .......... .......... .......... .......... 57%  306M 20s\n",
      "195000K .......... .......... .......... .......... .......... 57%  507M 20s\n",
      "195050K .......... .......... .......... .......... .......... 57%  674M 20s\n",
      "195100K .......... .......... .......... .......... .......... 57% 59.9M 20s\n",
      "195150K .......... .......... .......... .......... .......... 57%  592M 20s\n",
      "195200K .......... .......... .......... .......... .......... 57%  333M 20s\n",
      "195250K .......... .......... .......... .......... .......... 57%  466M 20s\n",
      "195300K .......... .......... .......... .......... .......... 57%  630M 20s\n",
      "195350K .......... .......... .......... .......... .......... 57%  660M 20s\n",
      "195400K .......... .......... .......... .......... .......... 57%  602M 20s\n",
      "195450K .......... .......... .......... .......... .......... 57% 93.0M 19s\n",
      "195500K .......... .......... .......... .......... .......... 57%  641M 19s\n",
      "195550K .......... .......... .......... .......... .......... 57%  657M 19s\n",
      "195600K .......... .......... .......... .......... .......... 57%  473K 20s\n",
      "195650K .......... .......... .......... .......... .......... 57%  232M 20s\n",
      "195700K .......... .......... .......... .......... .......... 57%  276M 20s\n",
      "195750K .......... .......... .......... .......... .......... 57%  384M 20s\n",
      "195800K .......... .......... .......... .......... .......... 57%  590M 19s\n",
      "195850K .......... .......... .......... .......... .......... 57%  129M 19s\n",
      "195900K .......... .......... .......... .......... .......... 57%  240M 19s\n",
      "195950K .......... .......... .......... .......... .......... 58%  376M 19s\n",
      "196000K .......... .......... .......... .......... .......... 58%  473M 19s\n",
      "196050K .......... .......... .......... .......... .......... 58%  386M 19s\n",
      "196100K .......... .......... .......... .......... .......... 58%  526M 19s\n",
      "196150K .......... .......... .......... .......... .......... 58%  504M 19s\n",
      "196200K .......... .......... .......... .......... .......... 58%  475M 19s\n",
      "196250K .......... .......... .......... .......... .......... 58%  182M 19s\n",
      "196300K .......... .......... .......... .......... .......... 58%  134M 19s\n",
      "196350K .......... .......... .......... .......... .......... 58%  173M 19s\n",
      "196400K .......... .......... .......... .......... .......... 58%  310M 19s\n",
      "196450K .......... .......... .......... .......... .......... 58%  152M 19s\n",
      "196500K .......... .......... .......... .......... .......... 58%  517M 19s\n",
      "196550K .......... .......... .......... .......... .......... 58%  539M 19s\n",
      "196600K .......... .......... .......... .......... .......... 58%  414K 19s\n",
      "196650K .......... .......... .......... .......... .......... 58%  104M 19s\n",
      "196700K .......... .......... .......... .......... .......... 58% 58.6M 19s\n",
      "196750K .......... .......... .......... .......... .......... 58%  268M 19s\n",
      "196800K .......... .......... .......... .......... .......... 58%  337M 19s\n",
      "196850K .......... .......... .......... .......... .......... 58%  562M 19s\n",
      "196900K .......... .......... .......... .......... .......... 58%  621M 19s\n",
      "196950K .......... .......... .......... .......... .......... 58%  649M 19s\n",
      "197000K .......... .......... .......... .......... .......... 58%  569M 19s\n",
      "197050K .......... .......... .......... .......... .......... 58% 89.1M 19s\n",
      "197100K .......... .......... .......... .......... .......... 58%  514M 19s\n",
      "197150K .......... .......... .......... .......... .......... 58%  481M 19s\n",
      "197200K .......... .......... .......... .......... .......... 58%  450M 19s\n",
      "197250K .......... .......... .......... .......... .......... 58%  534M 19s\n",
      "197300K .......... .......... .......... .......... .......... 58%  657M 19s\n",
      "197350K .......... .......... .......... .......... .......... 58%  238M 19s\n",
      "197400K .......... .......... .......... .......... .......... 58%  155M 19s\n",
      "197450K .......... .......... .......... .......... .......... 58%  598M 19s\n",
      "197500K .......... .......... .......... .......... .......... 58%  653M 19s\n",
      "197550K .......... .......... .......... .......... .......... 58%  319M 19s\n",
      "197600K .......... .......... .......... .......... .......... 58%  426M 19s\n",
      "197650K .......... .......... .......... .......... .......... 58%  507M 19s\n",
      "197700K .......... .......... .......... .......... .......... 58%  629M 19s\n",
      "197750K .......... .......... .......... .......... .......... 58%  239M 19s\n",
      "197800K .......... .......... .......... .......... .......... 58%  597M 19s\n",
      "197850K .......... .......... .......... .......... .......... 58%  649M 19s\n",
      "197900K .......... .......... .......... .......... .......... 58%  294M 19s\n",
      "197950K .......... .......... .......... .......... .......... 58%  214M 19s\n",
      "198000K .......... .......... .......... .......... .......... 58%  453M 19s\n",
      "198050K .......... .......... .......... .......... .......... 58%  516M 19s\n",
      "198100K .......... .......... .......... .......... .......... 58%  608M 19s\n",
      "198150K .......... .......... .......... .......... .......... 58%  466M 19s\n",
      "198200K .......... .......... .......... .......... .......... 58%  468K 19s\n",
      "198250K .......... .......... .......... .......... .......... 58%  474M 19s\n",
      "198300K .......... .......... .......... .......... .......... 58%  578M 19s\n",
      "198350K .......... .......... .......... .......... .......... 58%  670M 19s\n",
      "198400K .......... .......... .......... .......... .......... 58%  435M 19s\n",
      "198450K .......... .......... .......... .......... .......... 58%  663M 19s\n",
      "198500K .......... .......... .......... .......... .......... 58%  131M 19s\n",
      "198550K .......... .......... .......... .......... .......... 58%  329M 19s\n",
      "198600K .......... .......... .......... .......... .......... 58%  592M 19s\n",
      "198650K .......... .......... .......... .......... .......... 58%  668M 19s\n",
      "198700K .......... .......... .......... .......... .......... 58%  487M 19s\n",
      "198750K .......... .......... .......... .......... .......... 58% 88.6M 19s\n",
      "198800K .......... .......... .......... .......... .......... 58%  308M 19s\n",
      "198850K .......... .......... .......... .......... .......... 58%  218M 19s\n",
      "198900K .......... .......... .......... .......... .......... 58% 99.4M 19s\n",
      "198950K .......... .......... .......... .......... .......... 58%  438M 19s\n",
      "199000K .......... .......... .......... .......... .......... 58%  484M 19s\n",
      "199050K .......... .......... .......... .......... .......... 58%  312M 19s\n",
      "199100K .......... .......... .......... .......... .......... 58%  603M 19s\n",
      "199150K .......... .......... .......... .......... .......... 58%  649M 19s\n",
      "199200K .......... .......... .......... .......... .......... 58%  519M 19s\n",
      "199250K .......... .......... .......... .......... .......... 58%  106M 19s\n",
      "199300K .......... .......... .......... .......... .......... 58%  520M 19s\n",
      "199350K .......... .......... .......... .......... .......... 59%  437M 19s\n",
      "199400K .......... .......... .......... .......... .......... 59%  459M 19s\n",
      "199450K .......... .......... .......... .......... .......... 59%  451M 19s\n",
      "199500K .......... .......... .......... .......... .......... 59%  611M 19s\n",
      "199550K .......... .......... .......... .......... .......... 59%  560M 19s\n",
      "199600K .......... .......... .......... .......... .......... 59%  523M 19s\n",
      "199650K .......... .......... .......... .......... .......... 59%  560M 19s\n",
      "199700K .......... .......... .......... .......... .......... 59%  208M 19s\n",
      "199750K .......... .......... .......... .......... .......... 59%  609M 19s\n",
      "199800K .......... .......... .......... .......... .......... 59%  527M 19s\n",
      "199850K .......... .......... .......... .......... .......... 59%  440K 19s\n",
      "199900K .......... .......... .......... .......... .......... 59%  251M 19s\n",
      "199950K .......... .......... .......... .......... .......... 59%  275M 19s\n",
      "200000K .......... .......... .......... .......... .......... 59%  252M 19s\n",
      "200050K .......... .......... .......... .......... .......... 59%  523M 19s\n",
      "200100K .......... .......... .......... .......... .......... 59%  505M 19s\n",
      "200150K .......... .......... .......... .......... .......... 59%  514M 19s\n",
      "200200K .......... .......... .......... .......... .......... 59%  570M 19s\n",
      "200250K .......... .......... .......... .......... .......... 59%  653M 19s\n",
      "200300K .......... .......... .......... .......... .......... 59%  622M 19s\n",
      "200350K .......... .......... .......... .......... .......... 59%  637M 19s\n",
      "200400K .......... .......... .......... .......... .......... 59%  388M 19s\n",
      "200450K .......... .......... .......... .......... .......... 59%  457M 19s\n",
      "200500K .......... .......... .......... .......... .......... 59%  645M 19s\n",
      "200550K .......... .......... .......... .......... .......... 59%  640M 19s\n",
      "200600K .......... .......... .......... .......... .......... 59%  596M 19s\n",
      "200650K .......... .......... .......... .......... .......... 59%  648M 19s\n",
      "200700K .......... .......... .......... .......... .......... 59%  440K 19s\n",
      "200750K .......... .......... .......... .......... .......... 59%  198M 19s\n",
      "200800K .......... .......... .......... .......... .......... 59%  484M 19s\n",
      "200850K .......... .......... .......... .......... .......... 59%  675M 19s\n",
      "200900K .......... .......... .......... .......... .......... 59%  302M 19s\n",
      "200950K .......... .......... .......... .......... .......... 59%  661M 19s\n",
      "201000K .......... .......... .......... .......... .......... 59%  547M 19s\n",
      "201050K .......... .......... .......... .......... .......... 59%  142M 19s\n",
      "201100K .......... .......... .......... .......... .......... 59%  428M 19s\n",
      "201150K .......... .......... .......... .......... .......... 59%  554M 19s\n",
      "201200K .......... .......... .......... .......... .......... 59% 76.3M 19s\n",
      "201250K .......... .......... .......... .......... .......... 59%  368M 19s\n",
      "201300K .......... .......... .......... .......... .......... 59%  500M 19s\n",
      "201350K .......... .......... .......... .......... .......... 59%  623M 19s\n",
      "201400K .......... .......... .......... .......... .......... 59%  526M 19s\n",
      "201450K .......... .......... .......... .......... .......... 59%  631M 19s\n",
      "201500K .......... .......... .......... .......... .......... 59% 70.5M 18s\n",
      "201550K .......... .......... .......... .......... .......... 59%  436M 18s\n",
      "201600K .......... .......... .......... .......... .......... 59%  366M 18s\n",
      "201650K .......... .......... .......... .......... .......... 59%  510M 18s\n",
      "201700K .......... .......... .......... .......... .......... 59%  628M 18s\n",
      "201750K .......... .......... .......... .......... .......... 59%  670M 18s\n",
      "201800K .......... .......... .......... .......... .......... 59%  584M 18s\n",
      "201850K .......... .......... .......... .......... .......... 59% 63.9M 18s\n",
      "201900K .......... .......... .......... .......... .......... 59%  429M 18s\n",
      "201950K .......... .......... .......... .......... .......... 59%  386M 18s\n",
      "202000K .......... .......... .......... .......... .......... 59%  452M 18s\n",
      "202050K .......... .......... .......... .......... .......... 59%  439M 18s\n",
      "202100K .......... .......... .......... .......... .......... 59%  647M 18s\n",
      "202150K .......... .......... .......... .......... .......... 59%  659M 18s\n",
      "202200K .......... .......... .......... .......... .......... 59%  551M 18s\n",
      "202250K .......... .......... .......... .......... .......... 59%  651M 18s\n",
      "202300K .......... .......... .......... .......... .......... 59%  660M 18s\n",
      "202350K .......... .......... .......... .......... .......... 59%  475K 18s\n",
      "202400K .......... .......... .......... .......... .......... 59%  212M 18s\n",
      "202450K .......... .......... .......... .......... .......... 59%  243M 18s\n",
      "202500K .......... .......... .......... .......... .......... 59%  282M 18s\n",
      "202550K .......... .......... .......... .......... .......... 59%  354M 18s\n",
      "202600K .......... .......... .......... .......... .......... 59% 96.2M 18s\n",
      "202650K .......... .......... .......... .......... .......... 59%  637M 18s\n",
      "202700K .......... .......... .......... .......... .......... 59%  198M 18s\n",
      "202750K .......... .......... .......... .......... .......... 60%  597M 18s\n",
      "202800K .......... .......... .......... .......... .......... 60%  417M 18s\n",
      "202850K .......... .......... .......... .......... .......... 60%  649M 18s\n",
      "202900K .......... .......... .......... .......... .......... 60%  171M 18s\n",
      "202950K .......... .......... .......... .......... .......... 60%  637M 18s\n",
      "203000K .......... .......... .......... .......... .......... 60%  212M 18s\n",
      "203050K .......... .......... .......... .......... .......... 60%  440M 18s\n",
      "203100K .......... .......... .......... .......... .......... 60%  570M 18s\n",
      "203150K .......... .......... .......... .......... .......... 60%  368M 18s\n",
      "203200K .......... .......... .......... .......... .......... 60%  530M 18s\n",
      "203250K .......... .......... .......... .......... .......... 60%  187M 18s\n",
      "203300K .......... .......... .......... .......... .......... 60%  649M 18s\n",
      "203350K .......... .......... .......... .......... .......... 60%  340M 18s\n",
      "203400K .......... .......... .......... .......... .......... 60%  451M 18s\n",
      "203450K .......... .......... .......... .......... .......... 60%  669M 18s\n",
      "203500K .......... .......... .......... .......... .......... 60%  307M 18s\n",
      "203550K .......... .......... .......... .......... .......... 60%  375M 18s\n",
      "203600K .......... .......... .......... .......... .......... 60%  276M 18s\n",
      "203650K .......... .......... .......... .......... .......... 60%  151M 18s\n",
      "203700K .......... .......... .......... .......... .......... 60%  443M 18s\n",
      "203750K .......... .......... .......... .......... .......... 60%  473M 18s\n",
      "203800K .......... .......... .......... .......... .......... 60%  586M 18s\n",
      "203850K .......... .......... .......... .......... .......... 60%  516M 18s\n",
      "203900K .......... .......... .......... .......... .......... 60%  656M 18s\n",
      "203950K .......... .......... .......... .......... .......... 60%  342M 18s\n",
      "204000K .......... .......... .......... .......... .......... 60%  230M 18s\n",
      "204050K .......... .......... .......... .......... .......... 60%  476K 18s\n",
      "204100K .......... .......... .......... .......... .......... 60%  143M 18s\n",
      "204150K .......... .......... .......... .......... .......... 60%  409M 18s\n",
      "204200K .......... .......... .......... .......... .......... 60%  359M 18s\n",
      "204250K .......... .......... .......... .......... .......... 60%  120M 18s\n",
      "204300K .......... .......... .......... .......... .......... 60%  439M 18s\n",
      "204350K .......... .......... .......... .......... .......... 60%  672M 18s\n",
      "204400K .......... .......... .......... .......... .......... 60%  557M 18s\n",
      "204450K .......... .......... .......... .......... .......... 60% 99.6M 18s\n",
      "204500K .......... .......... .......... .......... .......... 60%  460M 18s\n",
      "204550K .......... .......... .......... .......... .......... 60%  411M 18s\n",
      "204600K .......... .......... .......... .......... .......... 60%  598M 18s\n",
      "204650K .......... .......... .......... .......... .......... 60%  627M 18s\n",
      "204700K .......... .......... .......... .......... .......... 60%  660M 18s\n",
      "204750K .......... .......... .......... .......... .......... 60%  659M 18s\n",
      "204800K .......... .......... .......... .......... .......... 60%  414K 18s\n",
      "204850K .......... .......... .......... .......... .......... 60%  313M 18s\n",
      "204900K .......... .......... .......... .......... .......... 60%  205M 18s\n",
      "204950K .......... .......... .......... .......... .......... 60%  346M 18s\n",
      "205000K .......... .......... .......... .......... .......... 60%  596M 18s\n",
      "205050K .......... .......... .......... .......... .......... 60%  305M 18s\n",
      "205100K .......... .......... .......... .......... .......... 60%  661M 18s\n",
      "205150K .......... .......... .......... .......... .......... 60%  143M 18s\n",
      "205200K .......... .......... .......... .......... .......... 60%  536M 18s\n",
      "205250K .......... .......... .......... .......... .......... 60%  167M 18s\n",
      "205300K .......... .......... .......... .......... .......... 60%  538M 18s\n",
      "205350K .......... .......... .......... .......... .......... 60%  678M 18s\n",
      "205400K .......... .......... .......... .......... .......... 60%  131M 18s\n",
      "205450K .......... .......... .......... .......... .......... 60%  407M 18s\n",
      "205500K .......... .......... .......... .......... .......... 60%  592M 18s\n",
      "205550K .......... .......... .......... .......... .......... 60%  517M 18s\n",
      "205600K .......... .......... .......... .......... .......... 60%  449M 18s\n",
      "205650K .......... .......... .......... .......... .......... 60%  617M 18s\n",
      "205700K .......... .......... .......... .......... .......... 60%  104M 18s\n",
      "205750K .......... .......... .......... .......... .......... 60%  612M 18s\n",
      "205800K .......... .......... .......... .......... .......... 60%  562M 18s\n",
      "205850K .......... .......... .......... .......... .......... 60%  671M 18s\n",
      "205900K .......... .......... .......... .......... .......... 60%  136M 18s\n",
      "205950K .......... .......... .......... .......... .......... 60%  605M 18s\n",
      "206000K .......... .......... .......... .......... .......... 60%  535M 18s\n",
      "206050K .......... .......... .......... .......... .......... 60%  113M 18s\n",
      "206100K .......... .......... .......... .......... .......... 61%  430M 18s\n",
      "206150K .......... .......... .......... .......... .......... 61%  415M 18s\n",
      "206200K .......... .......... .......... .......... .......... 61%  524M 18s\n",
      "206250K .......... .......... .......... .......... .......... 61%  579M 18s\n",
      "206300K .......... .......... .......... .......... .......... 61%  544M 18s\n",
      "206350K .......... .......... .......... .......... .......... 61%  424M 18s\n",
      "206400K .......... .......... .......... .......... .......... 61%  462M 18s\n",
      "206450K .......... .......... .......... .......... .......... 61%  640M 18s\n",
      "206500K .......... .......... .......... .......... .......... 61%  475K 18s\n",
      "206550K .......... .......... .......... .......... .......... 61%  109M 18s\n",
      "206600K .......... .......... .......... .......... .......... 61% 56.7M 18s\n",
      "206650K .......... .......... .......... .......... .......... 61%  435M 18s\n",
      "206700K .......... .......... .......... .......... .......... 61%  585M 18s\n",
      "206750K .......... .......... .......... .......... .......... 61%  639M 18s\n",
      "206800K .......... .......... .......... .......... .......... 61%  189M 18s\n",
      "206850K .......... .......... .......... .......... .......... 61%  549M 18s\n",
      "206900K .......... .......... .......... .......... .......... 61% 96.8M 18s\n",
      "206950K .......... .......... .......... .......... .......... 61%  588M 18s\n",
      "207000K .......... .......... .......... .......... .......... 61%  369M 18s\n",
      "207050K .......... .......... .......... .......... .......... 61%  604M 18s\n",
      "207100K .......... .......... .......... .......... .......... 61%  229M 18s\n",
      "207150K .......... .......... .......... .......... .......... 61%  469M 18s\n",
      "207200K .......... .......... .......... .......... .......... 61%  523M 18s\n",
      "207250K .......... .......... .......... .......... .......... 61%  547M 18s\n",
      "207300K .......... .......... .......... .......... .......... 61%  141M 18s\n",
      "207350K .......... .......... .......... .......... .......... 61%  505M 17s\n",
      "207400K .......... .......... .......... .......... .......... 61%  441M 17s\n",
      "207450K .......... .......... .......... .......... .......... 61%  642M 17s\n",
      "207500K .......... .......... .......... .......... .......... 61% 76.9M 17s\n",
      "207550K .......... .......... .......... .......... .......... 61%  479M 17s\n",
      "207600K .......... .......... .......... .......... .......... 61%  537M 17s\n",
      "207650K .......... .......... .......... .......... .......... 61%  611M 17s\n",
      "207700K .......... .......... .......... .......... .......... 61% 97.8M 17s\n",
      "207750K .......... .......... .......... .......... .......... 61%  407M 17s\n",
      "207800K .......... .......... .......... .......... .......... 61%  482M 17s\n",
      "207850K .......... .......... .......... .......... .......... 61%  566M 17s\n",
      "207900K .......... .......... .......... .......... .......... 61%  658M 17s\n",
      "207950K .......... .......... .......... .......... .......... 61%  661M 17s\n",
      "208000K .......... .......... .......... .......... .......... 61%  539M 17s\n",
      "208050K .......... .......... .......... .......... .......... 61%  392M 17s\n",
      "208100K .......... .......... .......... .......... .......... 61%  559M 17s\n",
      "208150K .......... .......... .......... .......... .......... 61%  429M 17s\n",
      "208200K .......... .......... .......... .......... .......... 61%  593M 17s\n",
      "208250K .......... .......... .......... .......... .......... 61%  654M 17s\n",
      "208300K .......... .......... .......... .......... .......... 61%  480K 17s\n",
      "208350K .......... .......... .......... .......... .......... 61% 25.5M 17s\n",
      "208400K .......... .......... .......... .......... .......... 61%  152M 17s\n",
      "208450K .......... .......... .......... .......... .......... 61%  643M 17s\n",
      "208500K .......... .......... .......... .......... .......... 61%  373M 17s\n",
      "208550K .......... .......... .......... .......... .......... 61%  509M 17s\n",
      "208600K .......... .......... .......... .......... .......... 61%  396M 17s\n",
      "208650K .......... .......... .......... .......... .......... 61%  175M 17s\n",
      "208700K .......... .......... .......... .......... .......... 61% 96.9M 17s\n",
      "208750K .......... .......... .......... .......... .......... 61%  144M 17s\n",
      "208800K .......... .......... .......... .......... .......... 61%  519M 17s\n",
      "208850K .......... .......... .......... .......... .......... 61%  413K 17s\n",
      "208900K .......... .......... .......... .......... .......... 61%  306M 17s\n",
      "208950K .......... .......... .......... .......... .......... 61%  103M 17s\n",
      "209000K .......... .......... .......... .......... .......... 61%  286M 17s\n",
      "209050K .......... .......... .......... .......... .......... 61%  396M 17s\n",
      "209100K .......... .......... .......... .......... .......... 61%  628M 17s\n",
      "209150K .......... .......... .......... .......... .......... 61%  351M 17s\n",
      "209200K .......... .......... .......... .......... .......... 61%  487M 17s\n",
      "209250K .......... .......... .......... .......... .......... 61%  645M 17s\n",
      "209300K .......... .......... .......... .......... .......... 61%  565M 17s\n",
      "209350K .......... .......... .......... .......... .......... 61% 71.3M 17s\n",
      "209400K .......... .......... .......... .......... .......... 61%  396M 17s\n",
      "209450K .......... .......... .......... .......... .......... 61%  422M 17s\n",
      "209500K .......... .......... .......... .......... .......... 62%  589M 17s\n",
      "209550K .......... .......... .......... .......... .......... 62%  602M 17s\n",
      "209600K .......... .......... .......... .......... .......... 62%  511M 17s\n",
      "209650K .......... .......... .......... .......... .......... 62%  660M 17s\n",
      "209700K .......... .......... .......... .......... .......... 62%  129M 17s\n",
      "209750K .......... .......... .......... .......... .......... 62%  372M 17s\n",
      "209800K .......... .......... .......... .......... .......... 62%  308M 17s\n",
      "209850K .......... .......... .......... .......... .......... 62%  618M 17s\n",
      "209900K .......... .......... .......... .......... .......... 62%  617M 17s\n",
      "209950K .......... .......... .......... .......... .......... 62%  655M 17s\n",
      "210000K .......... .......... .......... .......... .......... 62%  536M 17s\n",
      "210050K .......... .......... .......... .......... .......... 62% 74.9M 17s\n",
      "210100K .......... .......... .......... .......... .......... 62%  536M 17s\n",
      "210150K .......... .......... .......... .......... .......... 62%  411M 17s\n",
      "210200K .......... .......... .......... .......... .......... 62%  474M 17s\n",
      "210250K .......... .......... .......... .......... .......... 62%  392M 17s\n",
      "210300K .......... .......... .......... .......... .......... 62%  573M 17s\n",
      "210350K .......... .......... .......... .......... .......... 62%  659M 17s\n",
      "210400K .......... .......... .......... .......... .......... 62%  522M 17s\n",
      "210450K .......... .......... .......... .......... .......... 62%  637M 17s\n",
      "210500K .......... .......... .......... .......... .......... 62%  653M 17s\n",
      "210550K .......... .......... .......... .......... .......... 62%  170M 17s\n",
      "210600K .......... .......... .......... .......... .......... 62%  510M 17s\n",
      "210650K .......... .......... .......... .......... .......... 62%  631M 17s\n",
      "210700K .......... .......... .......... .......... .......... 62%  475K 17s\n",
      "210750K .......... .......... .......... .......... .......... 62%  442M 17s\n",
      "210800K .......... .......... .......... .......... .......... 62%  520M 17s\n",
      "210850K .......... .......... .......... .......... .......... 62%  475M 17s\n",
      "210900K .......... .......... .......... .......... .......... 62%  423M 17s\n",
      "210950K .......... .......... .......... .......... .......... 62%  580M 17s\n",
      "211000K .......... .......... .......... .......... .......... 62% 78.7M 17s\n",
      "211050K .......... .......... .......... .......... .......... 62%  604M 17s\n",
      "211100K .......... .......... .......... .......... .......... 62%  644M 17s\n",
      "211150K .......... .......... .......... .......... .......... 62%  290M 17s\n",
      "211200K .......... .......... .......... .......... .......... 62%  520M 17s\n",
      "211250K .......... .......... .......... .......... .......... 62%  312M 17s\n",
      "211300K .......... .......... .......... .......... .......... 62%  678M 17s\n",
      "211350K .......... .......... .......... .......... .......... 62%  185M 17s\n",
      "211400K .......... .......... .......... .......... .......... 62%  572M 17s\n",
      "211450K .......... .......... .......... .......... .......... 62%  173M 17s\n",
      "211500K .......... .......... .......... .......... .......... 62%  624M 17s\n",
      "211550K .......... .......... .......... .......... .......... 62%  549M 17s\n",
      "211600K .......... .......... .......... .......... .......... 62%  327M 17s\n",
      "211650K .......... .......... .......... .......... .......... 62%  654M 17s\n",
      "211700K .......... .......... .......... .......... .......... 62%  259M 17s\n",
      "211750K .......... .......... .......... .......... .......... 62%  698M 17s\n",
      "211800K .......... .......... .......... .......... .......... 62%  208M 17s\n",
      "211850K .......... .......... .......... .......... .......... 62%  671M 17s\n",
      "211900K .......... .......... .......... .......... .......... 62%  214M 17s\n",
      "211950K .......... .......... .......... .......... .......... 62%  600M 17s\n",
      "212000K .......... .......... .......... .......... .......... 62%  284M 17s\n",
      "212050K .......... .......... .......... .......... .......... 62%  630M 17s\n",
      "212100K .......... .......... .......... .......... .......... 62% 95.1M 17s\n",
      "212150K .......... .......... .......... .......... .......... 62%  432M 17s\n",
      "212200K .......... .......... .......... .......... .......... 62%  486M 17s\n",
      "212250K .......... .......... .......... .......... .......... 62%  652M 17s\n",
      "212300K .......... .......... .......... .......... .......... 62% 37.3M 17s\n",
      "212350K .......... .......... .......... .......... .......... 62%  532M 17s\n",
      "212400K .......... .......... .......... .......... .......... 62%  398M 17s\n",
      "212450K .......... .......... .......... .......... .......... 62%  625M 17s\n",
      "212500K .......... .......... .......... .......... .......... 62%  659M 17s\n",
      "212550K .......... .......... .......... .......... .......... 62%  481K 17s\n",
      "212600K .......... .......... .......... .......... .......... 62% 62.6M 17s\n",
      "212650K .......... .......... .......... .......... .......... 62%  626M 17s\n",
      "212700K .......... .......... .......... .......... .......... 62%  446M 17s\n",
      "212750K .......... .......... .......... .......... .......... 62%  481M 17s\n",
      "212800K .......... .......... .......... .......... .......... 62%  542M 17s\n",
      "212850K .......... .......... .......... .......... .......... 63%  664M 17s\n",
      "212900K .......... .......... .......... .......... .......... 63%  488M 17s\n",
      "212950K .......... .......... .......... .......... .......... 63%  410K 17s\n",
      "213000K .......... .......... .......... .......... .......... 63%  116M 17s\n",
      "213050K .......... .......... .......... .......... .......... 63%  367M 17s\n",
      "213100K .......... .......... .......... .......... .......... 63%  372M 17s\n",
      "213150K .......... .......... .......... .......... .......... 63%  174M 17s\n",
      "213200K .......... .......... .......... .......... .......... 63%  290M 17s\n",
      "213250K .......... .......... .......... .......... .......... 63%  386M 17s\n",
      "213300K .......... .......... .......... .......... .......... 63%  511M 17s\n",
      "213350K .......... .......... .......... .......... .......... 63%  424M 17s\n",
      "213400K .......... .......... .......... .......... .......... 63%  591M 17s\n",
      "213450K .......... .......... .......... .......... .......... 63%  383M 17s\n",
      "213500K .......... .......... .......... .......... .......... 63%  216M 17s\n",
      "213550K .......... .......... .......... .......... .......... 63%  634M 17s\n",
      "213600K .......... .......... .......... .......... .......... 63%  552M 17s\n",
      "213650K .......... .......... .......... .......... .......... 63% 80.1M 16s\n",
      "213700K .......... .......... .......... .......... .......... 63%  426M 16s\n",
      "213750K .......... .......... .......... .......... .......... 63%  623M 16s\n",
      "213800K .......... .......... .......... .......... .......... 63%  582M 16s\n",
      "213850K .......... .......... .......... .......... .......... 63%  404M 16s\n",
      "213900K .......... .......... .......... .......... .......... 63%  653M 16s\n",
      "213950K .......... .......... .......... .......... .......... 63%  282M 16s\n",
      "214000K .......... .......... .......... .......... .......... 63%  472M 16s\n",
      "214050K .......... .......... .......... .......... .......... 63%  662M 16s\n",
      "214100K .......... .......... .......... .......... .......... 63%  167M 16s\n",
      "214150K .......... .......... .......... .......... .......... 63%  605M 16s\n",
      "214200K .......... .......... .......... .......... .......... 63%  600M 16s\n",
      "214250K .......... .......... .......... .......... .......... 63%  271M 16s\n",
      "214300K .......... .......... .......... .......... .......... 63%  644M 16s\n",
      "214350K .......... .......... .......... .......... .......... 63%  314M 16s\n",
      "214400K .......... .......... .......... .......... .......... 63%  500M 16s\n",
      "214450K .......... .......... .......... .......... .......... 63%  651M 16s\n",
      "214500K .......... .......... .......... .......... .......... 63%  536M 16s\n",
      "214550K .......... .......... .......... .......... .......... 63%  433M 16s\n",
      "214600K .......... .......... .......... .......... .......... 63%  332M 16s\n",
      "214650K .......... .......... .......... .......... .......... 63%  334M 16s\n",
      "214700K .......... .......... .......... .......... .......... 63%  132M 16s\n",
      "214750K .......... .......... .......... .......... .......... 63%  618M 16s\n",
      "214800K .......... .......... .......... .......... .......... 63%  531M 16s\n",
      "214850K .......... .......... .......... .......... .......... 63%  480K 16s\n",
      "214900K .......... .......... .......... .......... .......... 63%  230M 16s\n",
      "214950K .......... .......... .......... .......... .......... 63%  350M 16s\n",
      "215000K .......... .......... .......... .......... .......... 63%  251M 16s\n",
      "215050K .......... .......... .......... .......... .......... 63%  621M 16s\n",
      "215100K .......... .......... .......... .......... .......... 63%  382M 16s\n",
      "215150K .......... .......... .......... .......... .......... 63%  642M 16s\n",
      "215200K .......... .......... .......... .......... .......... 63%  575M 16s\n",
      "215250K .......... .......... .......... .......... .......... 63%  200M 16s\n",
      "215300K .......... .......... .......... .......... .......... 63%  453M 16s\n",
      "215350K .......... .......... .......... .......... .......... 63%  650M 16s\n",
      "215400K .......... .......... .......... .......... .......... 63%  559M 16s\n",
      "215450K .......... .......... .......... .......... .......... 63%  211M 16s\n",
      "215500K .......... .......... .......... .......... .......... 63%  542M 16s\n",
      "215550K .......... .......... .......... .......... .......... 63%  654M 16s\n",
      "215600K .......... .......... .......... .......... .......... 63%  446M 16s\n",
      "215650K .......... .......... .......... .......... .......... 63%  196M 16s\n",
      "215700K .......... .......... .......... .......... .......... 63%  645M 16s\n",
      "215750K .......... .......... .......... .......... .......... 63%  345M 16s\n",
      "215800K .......... .......... .......... .......... .......... 63%  571M 16s\n",
      "215850K .......... .......... .......... .......... .......... 63%  119M 16s\n",
      "215900K .......... .......... .......... .......... .......... 63%  101M 16s\n",
      "215950K .......... .......... .......... .......... .......... 63%  565M 16s\n",
      "216000K .......... .......... .......... .......... .......... 63%  257M 16s\n",
      "216050K .......... .......... .......... .......... .......... 63%  649M 16s\n",
      "216100K .......... .......... .......... .......... .......... 63%  182M 16s\n",
      "216150K .......... .......... .......... .......... .......... 63%  454M 16s\n",
      "216200K .......... .......... .......... .......... .......... 63%  531M 16s\n",
      "216250K .......... .......... .......... .......... .......... 64%  633M 16s\n",
      "216300K .......... .......... .......... .......... .......... 64%  359M 16s\n",
      "216350K .......... .......... .......... .......... .......... 64%  645M 16s\n",
      "216400K .......... .......... .......... .......... .......... 64%  566M 16s\n",
      "216450K .......... .......... .......... .......... .......... 64%  275M 16s\n",
      "216500K .......... .......... .......... .......... .......... 64%  623M 16s\n",
      "216550K .......... .......... .......... .......... .......... 64%  311M 16s\n",
      "216600K .......... .......... .......... .......... .......... 64%  301M 16s\n",
      "216650K .......... .......... .......... .......... .......... 64%  155M 16s\n",
      "216700K .......... .......... .......... .......... .......... 64%  508M 16s\n",
      "216750K .......... .......... .......... .......... .......... 64%  617M 16s\n",
      "216800K .......... .......... .......... .......... .......... 64%  467K 16s\n",
      "216850K .......... .......... .......... .......... .......... 64%  214M 16s\n",
      "216900K .......... .......... .......... .......... .......... 64%  373M 16s\n",
      "216950K .......... .......... .......... .......... .......... 64%  362M 16s\n",
      "217000K .......... .......... .......... .......... .......... 64%  285M 16s\n",
      "217050K .......... .......... .......... .......... .......... 64%  419K 16s\n",
      "217100K .......... .......... .......... .......... .......... 64%  132M 16s\n",
      "217150K .......... .......... .......... .......... .......... 64%  255M 16s\n",
      "217200K .......... .......... .......... .......... .......... 64%  246M 16s\n",
      "217250K .......... .......... .......... .......... .......... 64%  632M 16s\n",
      "217300K .......... .......... .......... .......... .......... 64%  415M 16s\n",
      "217350K .......... .......... .......... .......... .......... 64%  518M 16s\n",
      "217400K .......... .......... .......... .......... .......... 64%  571M 16s\n",
      "217450K .......... .......... .......... .......... .......... 64%  401M 16s\n",
      "217500K .......... .......... .......... .......... .......... 64%  637M 16s\n",
      "217550K .......... .......... .......... .......... .......... 64%  318M 16s\n",
      "217600K .......... .......... .......... .......... .......... 64%  112M 16s\n",
      "217650K .......... .......... .......... .......... .......... 64%  493M 16s\n",
      "217700K .......... .......... .......... .......... .......... 64%  126M 16s\n",
      "217750K .......... .......... .......... .......... .......... 64%  588M 16s\n",
      "217800K .......... .......... .......... .......... .......... 64%  151M 16s\n",
      "217850K .......... .......... .......... .......... .......... 64%  410M 16s\n",
      "217900K .......... .......... .......... .......... .......... 64%  641M 16s\n",
      "217950K .......... .......... .......... .......... .......... 64%  664M 16s\n",
      "218000K .......... .......... .......... .......... .......... 64%  145M 16s\n",
      "218050K .......... .......... .......... .......... .......... 64%  521M 16s\n",
      "218100K .......... .......... .......... .......... .......... 64%  121M 16s\n",
      "218150K .......... .......... .......... .......... .......... 64%  649M 16s\n",
      "218200K .......... .......... .......... .......... .......... 64%  266M 16s\n",
      "218250K .......... .......... .......... .......... .......... 64%  472M 16s\n",
      "218300K .......... .......... .......... .......... .......... 64%  670M 16s\n",
      "218350K .......... .......... .......... .......... .......... 64%  507M 16s\n",
      "218400K .......... .......... .......... .......... .......... 64%  150M 16s\n",
      "218450K .......... .......... .......... .......... .......... 64%  656M 16s\n",
      "218500K .......... .......... .......... .......... .......... 64%  638M 16s\n",
      "218550K .......... .......... .......... .......... .......... 64%  262M 16s\n",
      "218600K .......... .......... .......... .......... .......... 64%  447M 16s\n",
      "218650K .......... .......... .......... .......... .......... 64%  645M 16s\n",
      "218700K .......... .......... .......... .......... .......... 64%  124M 16s\n",
      "218750K .......... .......... .......... .......... .......... 64% 54.5M 16s\n",
      "218800K .......... .......... .......... .......... .......... 64% 42.4M 16s\n",
      "218850K .......... .......... .......... .......... .......... 64%  141M 16s\n",
      "218900K .......... .......... .......... .......... .......... 64%  457M 16s\n",
      "218950K .......... .......... .......... .......... .......... 64%  184M 16s\n",
      "219000K .......... .......... .......... .......... .......... 64%  574M 16s\n",
      "219050K .......... .......... .......... .......... .......... 64%  466K 16s\n",
      "219100K .......... .......... .......... .......... .......... 64% 38.8M 16s\n",
      "219150K .......... .......... .......... .......... .......... 64%  615M 16s\n",
      "219200K .......... .......... .......... .......... .......... 64%  548M 16s\n",
      "219250K .......... .......... .......... .......... .......... 64% 52.9M 16s\n",
      "219300K .......... .......... .......... .......... .......... 64%  519M 16s\n",
      "219350K .......... .......... .......... .......... .......... 64%  645M 16s\n",
      "219400K .......... .......... .......... .......... .......... 64%  526M 16s\n",
      "219450K .......... .......... .......... .......... .......... 64%  159M 16s\n",
      "219500K .......... .......... .......... .......... .......... 64%  569M 16s\n",
      "219550K .......... .......... .......... .......... .......... 64%  666M 16s\n",
      "219600K .......... .......... .......... .......... .......... 65% 15.2M 16s\n",
      "219650K .......... .......... .......... .......... .......... 65%  295M 16s\n",
      "219700K .......... .......... .......... .......... .......... 65%  160M 16s\n",
      "219750K .......... .......... .......... .......... .......... 65%  220M 15s\n",
      "219800K .......... .......... .......... .......... .......... 65%  383M 15s\n",
      "219850K .......... .......... .......... .......... .......... 65%  469M 15s\n",
      "219900K .......... .......... .......... .......... .......... 65%  645M 15s\n",
      "219950K .......... .......... .......... .......... .......... 65%  655M 15s\n",
      "220000K .......... .......... .......... .......... .......... 65%  383M 15s\n",
      "220050K .......... .......... .......... .......... .......... 65%  515M 15s\n",
      "220100K .......... .......... .......... .......... .......... 65%  651M 15s\n",
      "220150K .......... .......... .......... .......... .......... 65%  635M 15s\n",
      "220200K .......... .......... .......... .......... .......... 65%  612M 15s\n",
      "220250K .......... .......... .......... .......... .......... 65%  416M 15s\n",
      "220300K .......... .......... .......... .......... .......... 65%  618M 15s\n",
      "220350K .......... .......... .......... .......... .......... 65%  501M 15s\n",
      "220400K .......... .......... .......... .......... .......... 65%  441M 15s\n",
      "220450K .......... .......... .......... .......... .......... 65%  582M 15s\n",
      "220500K .......... .......... .......... .......... .......... 65%  648M 15s\n",
      "220550K .......... .......... .......... .......... .......... 65%  194M 15s\n",
      "220600K .......... .......... .......... .......... .......... 65%  568M 15s\n",
      "220650K .......... .......... .......... .......... .......... 65%  654M 15s\n",
      "220700K .......... .......... .......... .......... .......... 65%  682M 15s\n",
      "220750K .......... .......... .......... .......... .......... 65%  380M 15s\n",
      "220800K .......... .......... .......... .......... .......... 65%  381M 15s\n",
      "220850K .......... .......... .......... .......... .......... 65%  380M 15s\n",
      "220900K .......... .......... .......... .......... .......... 65%  643M 15s\n",
      "220950K .......... .......... .......... .......... .......... 65%  201M 15s\n",
      "221000K .......... .......... .......... .......... .......... 65%  563M 15s\n",
      "221050K .......... .......... .......... .......... .......... 65%  520K 15s\n",
      "221100K .......... .......... .......... .......... .......... 65%  337M 15s\n",
      "221150K .......... .......... .......... .......... .......... 65%  411K 15s\n",
      "221200K .......... .......... .......... .......... .......... 65%  246M 15s\n",
      "221250K .......... .......... .......... .......... .......... 65%  111M 15s\n",
      "221300K .......... .......... .......... .......... .......... 65%  388M 15s\n",
      "221350K .......... .......... .......... .......... .......... 65%  574M 15s\n",
      "221400K .......... .......... .......... .......... .......... 65%  143M 15s\n",
      "221450K .......... .......... .......... .......... .......... 65%  617M 15s\n",
      "221500K .......... .......... .......... .......... .......... 65%  685M 15s\n",
      "221550K .......... .......... .......... .......... .......... 65%  627M 15s\n",
      "221600K .......... .......... .......... .......... .......... 65% 60.5M 15s\n",
      "221650K .......... .......... .......... .......... .......... 65%  419M 15s\n",
      "221700K .......... .......... .......... .......... .......... 65%  445M 15s\n",
      "221750K .......... .......... .......... .......... .......... 65%  645M 15s\n",
      "221800K .......... .......... .......... .......... .......... 65%  588M 15s\n",
      "221850K .......... .......... .......... .......... .......... 65%  664M 15s\n",
      "221900K .......... .......... .......... .......... .......... 65% 94.5M 15s\n",
      "221950K .......... .......... .......... .......... .......... 65%  454M 15s\n",
      "222000K .......... .......... .......... .......... .......... 65%  432M 15s\n",
      "222050K .......... .......... .......... .......... .......... 65%  436M 15s\n",
      "222100K .......... .......... .......... .......... .......... 65%  511M 15s\n",
      "222150K .......... .......... .......... .......... .......... 65%  663M 15s\n",
      "222200K .......... .......... .......... .......... .......... 65%  567M 15s\n",
      "222250K .......... .......... .......... .......... .......... 65%  660M 15s\n",
      "222300K .......... .......... .......... .......... .......... 65%  102M 15s\n",
      "222350K .......... .......... .......... .......... .......... 65%  522M 15s\n",
      "222400K .......... .......... .......... .......... .......... 65%  382M 15s\n",
      "222450K .......... .......... .......... .......... .......... 65%  452M 15s\n",
      "222500K .......... .......... .......... .......... .......... 65%  550M 15s\n",
      "222550K .......... .......... .......... .......... .......... 65%  670M 15s\n",
      "222600K .......... .......... .......... .......... .......... 65%  574M 15s\n",
      "222650K .......... .......... .......... .......... .......... 65%  666M 15s\n",
      "222700K .......... .......... .......... .......... .......... 65%  378M 15s\n",
      "222750K .......... .......... .......... .......... .......... 65%  566M 15s\n",
      "222800K .......... .......... .......... .......... .......... 65%  418M 15s\n",
      "222850K .......... .......... .......... .......... .......... 65%  595M 15s\n",
      "222900K .......... .......... .......... .......... .......... 65%  656M 15s\n",
      "222950K .......... .......... .......... .......... .......... 65%  301M 15s\n",
      "223000K .......... .......... .......... .......... .......... 66%  450M 15s\n",
      "223050K .......... .......... .......... .......... .......... 66%  661M 15s\n",
      "223100K .......... .......... .......... .......... .......... 66%  510M 15s\n",
      "223150K .......... .......... .......... .......... .......... 66%  650M 15s\n",
      "223200K .......... .......... .......... .......... .......... 66%  453K 15s\n",
      "223250K .......... .......... .......... .......... .......... 66%  682M 15s\n",
      "223300K .......... .......... .......... .......... .......... 66%  512M 15s\n",
      "223350K .......... .......... .......... .......... .......... 66%  493M 15s\n",
      "223400K .......... .......... .......... .......... .......... 66%  456M 15s\n",
      "223450K .......... .......... .......... .......... .......... 66%  665M 15s\n",
      "223500K .......... .......... .......... .......... .......... 66%  693M 15s\n",
      "223550K .......... .......... .......... .......... .......... 66%  507M 15s\n",
      "223600K .......... .......... .......... .......... .......... 66%  530M 15s\n",
      "223650K .......... .......... .......... .......... .......... 66%  147M 15s\n",
      "223700K .......... .......... .......... .......... .......... 66%  465M 15s\n",
      "223750K .......... .......... .......... .......... .......... 66%  652M 15s\n",
      "223800K .......... .......... .......... .......... .......... 66%  587M 15s\n",
      "223850K .......... .......... .......... .......... .......... 66%  142M 15s\n",
      "223900K .......... .......... .......... .......... .......... 66%  632M 15s\n",
      "223950K .......... .......... .......... .......... .......... 66%  667M 15s\n",
      "224000K .......... .......... .......... .......... .......... 66%  215M 15s\n",
      "224050K .......... .......... .......... .......... .......... 66%  433M 15s\n",
      "224100K .......... .......... .......... .......... .......... 66%  528M 15s\n",
      "224150K .......... .......... .......... .......... .......... 66%  570M 15s\n",
      "224200K .......... .......... .......... .......... .......... 66%  406M 15s\n",
      "224250K .......... .......... .......... .......... .......... 66%  574M 15s\n",
      "224300K .......... .......... .......... .......... .......... 66%  516M 15s\n",
      "224350K .......... .......... .......... .......... .......... 66%  654M 15s\n",
      "224400K .......... .......... .......... .......... .......... 66%  151M 15s\n",
      "224450K .......... .......... .......... .......... .......... 66%  618M 15s\n",
      "224500K .......... .......... .......... .......... .......... 66%  230M 15s\n",
      "224550K .......... .......... .......... .......... .......... 66%  538M 15s\n",
      "224600K .......... .......... .......... .......... .......... 66%  569M 15s\n",
      "224650K .......... .......... .......... .......... .......... 66%  234M 15s\n",
      "224700K .......... .......... .......... .......... .......... 66%  612M 15s\n",
      "224750K .......... .......... .......... .......... .......... 66%  463M 15s\n",
      "224800K .......... .......... .......... .......... .......... 66%  516M 15s\n",
      "224850K .......... .......... .......... .......... .......... 66%  178M 15s\n",
      "224900K .......... .......... .......... .......... .......... 66%  650M 15s\n",
      "224950K .......... .......... .......... .......... .......... 66%  281M 15s\n",
      "225000K .......... .......... .......... .......... .......... 66%  489M 15s\n",
      "225050K .......... .......... .......... .......... .......... 66%  340M 15s\n",
      "225100K .......... .......... .......... .......... .......... 66%  500M 15s\n",
      "225150K .......... .......... .......... .......... .......... 66%  649M 15s\n",
      "225200K .......... .......... .......... .......... .......... 66%  234M 15s\n",
      "225250K .......... .......... .......... .......... .......... 66%  437K 15s\n",
      "225300K .......... .......... .......... .......... .......... 66%  240M 15s\n",
      "225350K .......... .......... .......... .......... .......... 66%  593M 15s\n",
      "225400K .......... .......... .......... .......... .......... 66%  600M 15s\n",
      "225450K .......... .......... .......... .......... .......... 66%  664M 15s\n",
      "225500K .......... .......... .......... .......... .......... 66%  685M 15s\n",
      "225550K .......... .......... .......... .......... .......... 66%  185M 15s\n",
      "225600K .......... .......... .......... .......... .......... 66%  470M 15s\n",
      "225650K .......... .......... .......... .......... .......... 66%  656M 15s\n",
      "225700K .......... .......... .......... .......... .......... 66%  675M 15s\n",
      "225750K .......... .......... .......... .......... .......... 66%  149M 15s\n",
      "225800K .......... .......... .......... .......... .......... 66%  327M 15s\n",
      "225850K .......... .......... .......... .......... .......... 66%  667M 15s\n",
      "225900K .......... .......... .......... .......... .......... 66%  664M 15s\n",
      "225950K .......... .......... .......... .......... .......... 66%  646M 15s\n",
      "226000K .......... .......... .......... .......... .......... 66% 47.0M 14s\n",
      "226050K .......... .......... .......... .......... .......... 66%  642M 14s\n",
      "226100K .......... .......... .......... .......... .......... 66%  163M 14s\n",
      "226150K .......... .......... .......... .......... .......... 66%  473M 14s\n",
      "226200K .......... .......... .......... .......... .......... 66%  498M 14s\n",
      "226250K .......... .......... .......... .......... .......... 66%  294M 14s\n",
      "226300K .......... .......... .......... .......... .......... 66%  326M 14s\n",
      "226350K .......... .......... .......... .......... .......... 66%  134M 14s\n",
      "226400K .......... .......... .......... .......... .......... 67% 98.1M 14s\n",
      "226450K .......... .......... .......... .......... .......... 67%  105M 14s\n",
      "226500K .......... .......... .......... .......... .......... 67%  185M 14s\n",
      "226550K .......... .......... .......... .......... .......... 67%  130M 14s\n",
      "226600K .......... .......... .......... .......... .......... 67%  108M 14s\n",
      "226650K .......... .......... .......... .......... .......... 67%  140M 14s\n",
      "226700K .......... .......... .......... .......... .......... 67%  334M 14s\n",
      "226750K .......... .......... .......... .......... .......... 67%  552M 14s\n",
      "226800K .......... .......... .......... .......... .......... 67%  614M 14s\n",
      "226850K .......... .......... .......... .......... .......... 67%  639M 14s\n",
      "226900K .......... .......... .......... .......... .......... 67%  500M 14s\n",
      "226950K .......... .......... .......... .......... .......... 67%  142M 14s\n",
      "227000K .......... .......... .......... .......... .......... 67%  441M 14s\n",
      "227050K .......... .......... .......... .......... .......... 67%  508M 14s\n",
      "227100K .......... .......... .......... .......... .......... 67%  429M 14s\n",
      "227150K .......... .......... .......... .......... .......... 67%  433M 14s\n",
      "227200K .......... .......... .......... .......... .......... 67%  636M 14s\n",
      "227250K .......... .......... .......... .......... .......... 67%  636M 14s\n",
      "227300K .......... .......... .......... .......... .......... 67%  565M 14s\n",
      "227350K .......... .......... .......... .......... .......... 67%  489K 14s\n",
      "227400K .......... .......... .......... .......... .......... 67%  289M 14s\n",
      "227450K .......... .......... .......... .......... .......... 67%  204M 14s\n",
      "227500K .......... .......... .......... .......... .......... 67%  669M 14s\n",
      "227550K .......... .......... .......... .......... .......... 67%  655M 14s\n",
      "227600K .......... .......... .......... .......... .......... 67%  449K 14s\n",
      "227650K .......... .......... .......... .......... .......... 67%  216M 14s\n",
      "227700K .......... .......... .......... .......... .......... 67%  300M 14s\n",
      "227750K .......... .......... .......... .......... .......... 67%  459M 14s\n",
      "227800K .......... .......... .......... .......... .......... 67%  563M 14s\n",
      "227850K .......... .......... .......... .......... .......... 67%  677M 14s\n",
      "227900K .......... .......... .......... .......... .......... 67%  462M 14s\n",
      "227950K .......... .......... .......... .......... .......... 67%  555M 14s\n",
      "228000K .......... .......... .......... .......... .......... 67%  428M 14s\n",
      "228050K .......... .......... .......... .......... .......... 67%  515M 14s\n",
      "228100K .......... .......... .......... .......... .......... 67%  653M 14s\n",
      "228150K .......... .......... .......... .......... .......... 67%  674M 14s\n",
      "228200K .......... .......... .......... .......... .......... 67%  613M 14s\n",
      "228250K .......... .......... .......... .......... .......... 67%  164M 14s\n",
      "228300K .......... .......... .......... .......... .......... 67%  514M 14s\n",
      "228350K .......... .......... .......... .......... .......... 67%  656M 14s\n",
      "228400K .......... .......... .......... .......... .......... 67%  551M 14s\n",
      "228450K .......... .......... .......... .......... .......... 67%  195M 14s\n",
      "228500K .......... .......... .......... .......... .......... 67%  662M 14s\n",
      "228550K .......... .......... .......... .......... .......... 67%  649M 14s\n",
      "228600K .......... .......... .......... .......... .......... 67%  271M 14s\n",
      "228650K .......... .......... .......... .......... .......... 67%  541M 14s\n",
      "228700K .......... .......... .......... .......... .......... 67%  655M 14s\n",
      "228750K .......... .......... .......... .......... .......... 67%  258M 14s\n",
      "228800K .......... .......... .......... .......... .......... 67%  534M 14s\n",
      "228850K .......... .......... .......... .......... .......... 67%  283M 14s\n",
      "228900K .......... .......... .......... .......... .......... 67%  494M 14s\n",
      "228950K .......... .......... .......... .......... .......... 67%  513M 14s\n",
      "229000K .......... .......... .......... .......... .......... 67%  500M 14s\n",
      "229050K .......... .......... .......... .......... .......... 67%  466K 14s\n",
      "229100K .......... .......... .......... .......... .......... 67%  100M 14s\n",
      "229150K .......... .......... .......... .......... .......... 67%  229M 14s\n",
      "229200K .......... .......... .......... .......... .......... 67%  397M 14s\n",
      "229250K .......... .......... .......... .......... .......... 67%  639M 14s\n",
      "229300K .......... .......... .......... .......... .......... 67%  658M 14s\n",
      "229350K .......... .......... .......... .......... .......... 67%  389K 14s\n",
      "229400K .......... .......... .......... .......... .......... 67%  303M 14s\n",
      "229450K .......... .......... .......... .......... .......... 67%  272M 14s\n",
      "229500K .......... .......... .......... .......... .......... 67%  227M 14s\n",
      "229550K .......... .......... .......... .......... .......... 67%  298M 14s\n",
      "229600K .......... .......... .......... .......... .......... 67%  201M 14s\n",
      "229650K .......... .......... .......... .......... .......... 67%  359M 14s\n",
      "229700K .......... .......... .......... .......... .......... 67%  495M 14s\n",
      "229750K .......... .......... .......... .......... .......... 68%  633M 14s\n",
      "229800K .......... .......... .......... .......... .......... 68%  449M 14s\n",
      "229850K .......... .......... .......... .......... .......... 68%  473M 14s\n",
      "229900K .......... .......... .......... .......... .......... 68%  613M 14s\n",
      "229950K .......... .......... .......... .......... .......... 68%  671M 14s\n",
      "230000K .......... .......... .......... .......... .......... 68%  534M 14s\n",
      "230050K .......... .......... .......... .......... .......... 68%  668M 14s\n",
      "230100K .......... .......... .......... .......... .......... 68%  489M 14s\n",
      "230150K .......... .......... .......... .......... .......... 68%  442M 14s\n",
      "230200K .......... .......... .......... .......... .......... 68%  524M 14s\n",
      "230250K .......... .......... .......... .......... .......... 68%  638M 14s\n",
      "230300K .......... .......... .......... .......... .......... 68%  646M 14s\n",
      "230350K .......... .......... .......... .......... .......... 68%  670M 14s\n",
      "230400K .......... .......... .......... .......... .......... 68%  461K 14s\n",
      "230450K .......... .......... .......... .......... .......... 68%  187M 14s\n",
      "230500K .......... .......... .......... .......... .......... 68%  439M 14s\n",
      "230550K .......... .......... .......... .......... .......... 68%  476M 14s\n",
      "230600K .......... .......... .......... .......... .......... 68%  474M 14s\n",
      "230650K .......... .......... .......... .......... .......... 68%  632M 14s\n",
      "230700K .......... .......... .......... .......... .......... 68%  674M 14s\n",
      "230750K .......... .......... .......... .......... .......... 68%  450M 14s\n",
      "230800K .......... .......... .......... .......... .......... 68%  531M 14s\n",
      "230850K .......... .......... .......... .......... .......... 68%  525M 14s\n",
      "230900K .......... .......... .......... .......... .......... 68%  625M 14s\n",
      "230950K .......... .......... .......... .......... .......... 68%  525M 14s\n",
      "231000K .......... .......... .......... .......... .......... 68%  549M 14s\n",
      "231050K .......... .......... .......... .......... .......... 68%  409M 14s\n",
      "231100K .......... .......... .......... .......... .......... 68%  647M 14s\n",
      "231150K .......... .......... .......... .......... .......... 68%  657M 14s\n",
      "231200K .......... .......... .......... .......... .......... 68%  559M 14s\n",
      "231250K .......... .......... .......... .......... .......... 68%  159M 14s\n",
      "231300K .......... .......... .......... .......... .......... 68%  595M 14s\n",
      "231350K .......... .......... .......... .......... .......... 68%  669M 14s\n",
      "231400K .......... .......... .......... .......... .......... 68%  562M 14s\n",
      "231450K .......... .......... .......... .......... .......... 68%  466K 14s\n",
      "231500K .......... .......... .......... .......... .......... 68%  607M 14s\n",
      "231550K .......... .......... .......... .......... .......... 68%  495M 14s\n",
      "231600K .......... .......... .......... .......... .......... 68%  306M 14s\n",
      "231650K .......... .......... .......... .......... .......... 68%  103M 14s\n",
      "231700K .......... .......... .......... .......... .......... 68%  150M 14s\n",
      "231750K .......... .......... .......... .......... .......... 68%  501M 14s\n",
      "231800K .......... .......... .......... .......... .......... 68%  233M 14s\n",
      "231850K .......... .......... .......... .......... .......... 68%  643M 14s\n",
      "231900K .......... .......... .......... .......... .......... 68% 63.4M 14s\n",
      "231950K .......... .......... .......... .......... .......... 68%  521M 14s\n",
      "232000K .......... .......... .......... .......... .......... 68%  292M 14s\n",
      "232050K .......... .......... .......... .......... .......... 68%  560M 14s\n",
      "232100K .......... .......... .......... .......... .......... 68%  666M 14s\n",
      "232150K .......... .......... .......... .......... .......... 68%  648M 14s\n",
      "232200K .......... .......... .......... .......... .......... 68%  591M 14s\n",
      "232250K .......... .......... .......... .......... .......... 68%  655M 14s\n",
      "232300K .......... .......... .......... .......... .......... 68%  152M 14s\n",
      "232350K .......... .......... .......... .......... .......... 68%  650M 14s\n",
      "232400K .......... .......... .......... .......... .......... 68%  552M 14s\n",
      "232450K .......... .......... .......... .......... .......... 68%  469K 14s\n",
      "232500K .......... .......... .......... .......... .......... 68%  238M 14s\n",
      "232550K .......... .......... .......... .......... .......... 68% 90.5M 14s\n",
      "232600K .......... .......... .......... .......... .......... 68%  223M 14s\n",
      "232650K .......... .......... .......... .......... .......... 68%  364M 14s\n",
      "232700K .......... .......... .......... .......... .......... 68%  263M 14s\n",
      "232750K .......... .......... .......... .......... .......... 68%  266M 14s\n",
      "232800K .......... .......... .......... .......... .......... 68%  239M 14s\n",
      "232850K .......... .......... .......... .......... .......... 68%  425M 14s\n",
      "232900K .......... .......... .......... .......... .......... 68%  194M 14s\n",
      "232950K .......... .......... .......... .......... .......... 68%  503M 14s\n",
      "233000K .......... .......... .......... .......... .......... 68%  565M 14s\n",
      "233050K .......... .......... .......... .......... .......... 68%  102M 14s\n",
      "233100K .......... .......... .......... .......... .......... 68%  632M 14s\n",
      "233150K .......... .......... .......... .......... .......... 69%  206M 14s\n",
      "233200K .......... .......... .......... .......... .......... 69%  490M 14s\n",
      "233250K .......... .......... .......... .......... .......... 69%  618M 13s\n",
      "233300K .......... .......... .......... .......... .......... 69%  430M 13s\n",
      "233350K .......... .......... .......... .......... .......... 69% 52.8M 13s\n",
      "233400K .......... .......... .......... .......... .......... 69%  515M 13s\n",
      "233450K .......... .......... .......... .......... .......... 69%  411K 14s\n",
      "233500K .......... .......... .......... .......... .......... 69%  343M 14s\n",
      "233550K .......... .......... .......... .......... .......... 69% 12.1M 13s\n",
      "233600K .......... .......... .......... .......... .......... 69%  215M 13s\n",
      "233650K .......... .......... .......... .......... .......... 69%  375M 13s\n",
      "233700K .......... .......... .......... .......... .......... 69%  357M 13s\n",
      "233750K .......... .......... .......... .......... .......... 69%  452M 13s\n",
      "233800K .......... .......... .......... .......... .......... 69% 69.2M 13s\n",
      "233850K .......... .......... .......... .......... .......... 69%  559M 13s\n",
      "233900K .......... .......... .......... .......... .......... 69%  487M 13s\n",
      "233950K .......... .......... .......... .......... .......... 69%  368M 13s\n",
      "234000K .......... .......... .......... .......... .......... 69%  533M 13s\n",
      "234050K .......... .......... .......... .......... .......... 69%  660M 13s\n",
      "234100K .......... .......... .......... .......... .......... 69%  435M 13s\n",
      "234150K .......... .......... .......... .......... .......... 69%  476K 13s\n",
      "234200K .......... .......... .......... .......... .......... 69%  172M 13s\n",
      "234250K .......... .......... .......... .......... .......... 69% 23.0M 13s\n",
      "234300K .......... .......... .......... .......... .......... 69%  587M 13s\n",
      "234350K .......... .......... .......... .......... .......... 69%  325M 13s\n",
      "234400K .......... .......... .......... .......... .......... 69%  111M 13s\n",
      "234450K .......... .......... .......... .......... .......... 69%  126M 13s\n",
      "234500K .......... .......... .......... .......... .......... 69%  530M 13s\n",
      "234550K .......... .......... .......... .......... .......... 69%  495M 13s\n",
      "234600K .......... .......... .......... .......... .......... 69%  476M 13s\n",
      "234650K .......... .......... .......... .......... .......... 69%  218M 13s\n",
      "234700K .......... .......... .......... .......... .......... 69%  174M 13s\n",
      "234750K .......... .......... .......... .......... .......... 69%  254M 13s\n",
      "234800K .......... .......... .......... .......... .......... 69%  182M 13s\n",
      "234850K .......... .......... .......... .......... .......... 69%  537M 13s\n",
      "234900K .......... .......... .......... .......... .......... 69%  475K 13s\n",
      "234950K .......... .......... .......... .......... .......... 69%  312M 13s\n",
      "235000K .......... .......... .......... .......... .......... 69% 15.6M 13s\n",
      "235050K .......... .......... .......... .......... .......... 69%  222M 13s\n",
      "235100K .......... .......... .......... .......... .......... 69%  159M 13s\n",
      "235150K .......... .......... .......... .......... .......... 69%  186M 13s\n",
      "235200K .......... .......... .......... .......... .......... 69%  426M 13s\n",
      "235250K .......... .......... .......... .......... .......... 69%  664M 13s\n",
      "235300K .......... .......... .......... .......... .......... 69%  714M 13s\n",
      "235350K .......... .......... .......... .......... .......... 69%  256M 13s\n",
      "235400K .......... .......... .......... .......... .......... 69%  446M 13s\n",
      "235450K .......... .......... .......... .......... .......... 69%  638M 13s\n",
      "235500K .......... .......... .......... .......... .......... 69%  260M 13s\n",
      "235550K .......... .......... .......... .......... .......... 69%  202M 13s\n",
      "235600K .......... .......... .......... .......... .......... 69%  474K 13s\n",
      "235650K .......... .......... .......... .......... .......... 69%  292M 13s\n",
      "235700K .......... .......... .......... .......... .......... 69% 20.6M 13s\n",
      "235750K .......... .......... .......... .......... .......... 69% 82.7M 13s\n",
      "235800K .......... .......... .......... .......... .......... 69%  305M 13s\n",
      "235850K .......... .......... .......... .......... .......... 69%  224M 13s\n",
      "235900K .......... .......... .......... .......... .......... 69%  375M 13s\n",
      "235950K .......... .......... .......... .......... .......... 69%  261M 13s\n",
      "236000K .......... .......... .......... .......... .......... 69%  378M 13s\n",
      "236050K .......... .......... .......... .......... .......... 69%  165M 13s\n",
      "236100K .......... .......... .......... .......... .......... 69%  475M 13s\n",
      "236150K .......... .......... .......... .......... .......... 69%  415M 13s\n",
      "236200K .......... .......... .......... .......... .......... 69%  560M 13s\n",
      "236250K .......... .......... .......... .......... .......... 69%  215M 13s\n",
      "236300K .......... .......... .......... .......... .......... 69%  643M 13s\n",
      "236350K .......... .......... .......... .......... .......... 69%  473K 13s\n",
      "236400K .......... .......... .......... .......... .......... 69%  236M 13s\n",
      "236450K .......... .......... .......... .......... .......... 69% 17.4M 13s\n",
      "236500K .......... .......... .......... .......... .......... 70%  226M 13s\n",
      "236550K .......... .......... .......... .......... .......... 70%  340M 13s\n",
      "236600K .......... .......... .......... .......... .......... 70%  554M 13s\n",
      "236650K .......... .......... .......... .......... .......... 70%  198M 13s\n",
      "236700K .......... .......... .......... .......... .......... 70%  629M 13s\n",
      "236750K .......... .......... .......... .......... .......... 70%  161M 13s\n",
      "236800K .......... .......... .......... .......... .......... 70%  507M 13s\n",
      "236850K .......... .......... .......... .......... .......... 70%  634M 13s\n",
      "236900K .......... .......... .......... .......... .......... 70%  151M 13s\n",
      "236950K .......... .......... .......... .......... .......... 70%  520M 13s\n",
      "237000K .......... .......... .......... .......... .......... 70%  259M 13s\n",
      "237050K .......... .......... .......... .......... .......... 70%  663M 13s\n",
      "237100K .......... .......... .......... .......... .......... 70%  472K 13s\n",
      "237150K .......... .......... .......... .......... .......... 70%  347M 13s\n",
      "237200K .......... .......... .......... .......... .......... 70% 16.6M 13s\n",
      "237250K .......... .......... .......... .......... .......... 70%  341M 13s\n",
      "237300K .......... .......... .......... .......... .......... 70%  284M 13s\n",
      "237350K .......... .......... .......... .......... .......... 70%  118M 13s\n",
      "237400K .......... .......... .......... .......... .......... 70%  464M 13s\n",
      "237450K .......... .......... .......... .......... .......... 70%  646M 13s\n",
      "237500K .......... .......... .......... .......... .......... 70%  159M 13s\n",
      "237550K .......... .......... .......... .......... .......... 70%  410K 13s\n",
      "237600K .......... .......... .......... .......... .......... 70%  281M 13s\n",
      "237650K .......... .......... .......... .......... .......... 70%  177M 13s\n",
      "237700K .......... .......... .......... .......... .......... 70%  224M 13s\n",
      "237750K .......... .......... .......... .......... .......... 70%  183M 13s\n",
      "237800K .......... .......... .......... .......... .......... 70%  254M 13s\n",
      "237850K .......... .......... .......... .......... .......... 70%  268M 13s\n",
      "237900K .......... .......... .......... .......... .......... 70%  612M 13s\n",
      "237950K .......... .......... .......... .......... .......... 70%  496M 13s\n",
      "238000K .......... .......... .......... .......... .......... 70%  398M 13s\n",
      "238050K .......... .......... .......... .......... .......... 70%  471M 13s\n",
      "238100K .......... .......... .......... .......... .......... 70%  638M 13s\n",
      "238150K .......... .......... .......... .......... .......... 70%  477M 13s\n",
      "238200K .......... .......... .......... .......... .......... 70%  547M 13s\n",
      "238250K .......... .......... .......... .......... .......... 70%  461K 13s\n",
      "238300K .......... .......... .......... .......... .......... 70%  250M 13s\n",
      "238350K .......... .......... .......... .......... .......... 70%  110M 13s\n",
      "238400K .......... .......... .......... .......... .......... 70%  378M 13s\n",
      "238450K .......... .......... .......... .......... .......... 70%  589M 13s\n",
      "238500K .......... .......... .......... .......... .......... 70% 80.9M 13s\n",
      "238550K .......... .......... .......... .......... .......... 70%  327M 13s\n",
      "238600K .......... .......... .......... .......... .......... 70%  489M 13s\n",
      "238650K .......... .......... .......... .......... .......... 70%  472M 13s\n",
      "238700K .......... .......... .......... .......... .......... 70%  585M 13s\n",
      "238750K .......... .......... .......... .......... .......... 70%  655M 13s\n",
      "238800K .......... .......... .......... .......... .......... 70%  193M 13s\n",
      "238850K .......... .......... .......... .......... .......... 70%  454M 13s\n",
      "238900K .......... .......... .......... .......... .......... 70%  658M 13s\n",
      "238950K .......... .......... .......... .......... .......... 70%  268M 13s\n",
      "239000K .......... .......... .......... .......... .......... 70%  462K 13s\n",
      "239050K .......... .......... .......... .......... .......... 70%  335M 13s\n",
      "239100K .......... .......... .......... .......... .......... 70%  131M 13s\n",
      "239150K .......... .......... .......... .......... .......... 70%  221M 13s\n",
      "239200K .......... .......... .......... .......... .......... 70%  203M 13s\n",
      "239250K .......... .......... .......... .......... .......... 70% 52.7M 13s\n",
      "239300K .......... .......... .......... .......... .......... 70%  147M 13s\n",
      "239350K .......... .......... .......... .......... .......... 70%  143M 13s\n",
      "239400K .......... .......... .......... .......... .......... 70%  513M 13s\n",
      "239450K .......... .......... .......... .......... .......... 70% 73.9M 13s\n",
      "239500K .......... .......... .......... .......... .......... 70%  448M 13s\n",
      "239550K .......... .......... .......... .......... .......... 70%  455M 13s\n",
      "239600K .......... .......... .......... .......... .......... 70%  511M 13s\n",
      "239650K .......... .......... .......... .......... .......... 70%  659M 13s\n",
      "239700K .......... .......... .......... .......... .......... 70%  468K 13s\n",
      "239750K .......... .......... .......... .......... .......... 70%  274M 13s\n",
      "239800K .......... .......... .......... .......... .......... 70%  186M 13s\n",
      "239850K .......... .......... .......... .......... .......... 70% 82.1M 13s\n",
      "239900K .......... .......... .......... .......... .......... 71%  528M 13s\n",
      "239950K .......... .......... .......... .......... .......... 71%  555M 13s\n",
      "240000K .......... .......... .......... .......... .......... 71% 54.5M 13s\n",
      "240050K .......... .......... .......... .......... .......... 71%  620M 13s\n",
      "240100K .......... .......... .......... .......... .......... 71%  348M 13s\n",
      "240150K .......... .......... .......... .......... .......... 71%  497M 13s\n",
      "240200K .......... .......... .......... .......... .......... 71%  581M 13s\n",
      "240250K .......... .......... .......... .......... .......... 71%  669M 13s\n",
      "240300K .......... .......... .......... .......... .......... 71%  114M 13s\n",
      "240350K .......... .......... .......... .......... .......... 71%  549M 13s\n",
      "240400K .......... .......... .......... .......... .......... 71%  525M 13s\n",
      "240450K .......... .......... .......... .......... .......... 71%  465K 13s\n",
      "240500K .......... .......... .......... .......... .......... 71%  216M 13s\n",
      "240550K .......... .......... .......... .......... .......... 71% 42.7M 13s\n",
      "240600K .......... .......... .......... .......... .......... 71%  441M 13s\n",
      "240650K .......... .......... .......... .......... .......... 71%  605M 13s\n",
      "240700K .......... .......... .......... .......... .......... 71%  631M 13s\n",
      "240750K .......... .......... .......... .......... .......... 71% 59.8M 13s\n",
      "240800K .......... .......... .......... .......... .......... 71%  518M 13s\n",
      "240850K .......... .......... .......... .......... .......... 71%  462M 13s\n",
      "240900K .......... .......... .......... .......... .......... 71%  305M 13s\n",
      "240950K .......... .......... .......... .......... .......... 71%  523M 13s\n",
      "241000K .......... .......... .......... .......... .......... 71%  560M 13s\n",
      "241050K .......... .......... .......... .......... .......... 71%  614M 13s\n",
      "241100K .......... .......... .......... .......... .......... 71%  422M 13s\n",
      "241150K .......... .......... .......... .......... .......... 71%  631M 13s\n",
      "241200K .......... .......... .......... .......... .......... 71%  466K 13s\n",
      "241250K .......... .......... .......... .......... .......... 71% 62.7M 13s\n",
      "241300K .......... .......... .......... .......... .......... 71%  218M 13s\n",
      "241350K .......... .......... .......... .......... .......... 71%  365M 13s\n",
      "241400K .......... .......... .......... .......... .......... 71%  106M 13s\n",
      "241450K .......... .......... .......... .......... .......... 71%  240M 13s\n",
      "241500K .......... .......... .......... .......... .......... 71%  463M 13s\n",
      "241550K .......... .......... .......... .......... .......... 71%  634M 13s\n",
      "241600K .......... .......... .......... .......... .......... 71%  517M 13s\n",
      "241650K .......... .......... .......... .......... .......... 71%  404K 13s\n",
      "241700K .......... .......... .......... .......... .......... 71%  309M 13s\n",
      "241750K .......... .......... .......... .......... .......... 71%  343M 13s\n",
      "241800K .......... .......... .......... .......... .......... 71%  141M 13s\n",
      "241850K .......... .......... .......... .......... .......... 71%  569M 13s\n",
      "241900K .......... .......... .......... .......... .......... 71%  598M 13s\n",
      "241950K .......... .......... .......... .......... .......... 71%  374M 13s\n",
      "242000K .......... .......... .......... .......... .......... 71%  464M 13s\n",
      "242050K .......... .......... .......... .......... .......... 71%  667M 12s\n",
      "242100K .......... .......... .......... .......... .......... 71%  189M 12s\n",
      "242150K .......... .......... .......... .......... .......... 71%  504M 12s\n",
      "242200K .......... .......... .......... .......... .......... 71%  221M 12s\n",
      "242250K .......... .......... .......... .......... .......... 71%  570M 12s\n",
      "242300K .......... .......... .......... .......... .......... 71%  613M 12s\n",
      "242350K .......... .......... .......... .......... .......... 71%  464K 12s\n",
      "242400K .......... .......... .......... .......... .......... 71% 59.9M 12s\n",
      "242450K .......... .......... .......... .......... .......... 71%  292M 12s\n",
      "242500K .......... .......... .......... .......... .......... 71%  361M 12s\n",
      "242550K .......... .......... .......... .......... .......... 71%  493M 12s\n",
      "242600K .......... .......... .......... .......... .......... 71%  123M 12s\n",
      "242650K .......... .......... .......... .......... .......... 71%  412M 12s\n",
      "242700K .......... .......... .......... .......... .......... 71%  649M 12s\n",
      "242750K .......... .......... .......... .......... .......... 71% 40.1M 12s\n",
      "242800K .......... .......... .......... .......... .......... 71%  486M 12s\n",
      "242850K .......... .......... .......... .......... .......... 71%  555M 12s\n",
      "242900K .......... .......... .......... .......... .......... 71%  651M 12s\n",
      "242950K .......... .......... .......... .......... .......... 71%  647M 12s\n",
      "243000K .......... .......... .......... .......... .......... 71%  695M 12s\n",
      "243050K .......... .......... .......... .......... .......... 71%  751M 12s\n",
      "243100K .......... .......... .......... .......... .......... 71%  397K 12s\n",
      "243150K .......... .......... .......... .......... .......... 71%  364M 12s\n",
      "243200K .......... .......... .......... .......... .......... 71%  168M 12s\n",
      "243250K .......... .......... .......... .......... .......... 71%  288M 12s\n",
      "243300K .......... .......... .......... .......... .......... 72%  516M 12s\n",
      "243350K .......... .......... .......... .......... .......... 72%  530M 12s\n",
      "243400K .......... .......... .......... .......... .......... 72%  475M 12s\n",
      "243450K .......... .......... .......... .......... .......... 72%  602M 12s\n",
      "243500K .......... .......... .......... .......... .......... 72%  472M 12s\n",
      "243550K .......... .......... .......... .......... .......... 72%  228M 12s\n",
      "243600K .......... .......... .......... .......... .......... 72%  115M 12s\n",
      "243650K .......... .......... .......... .......... .......... 72%  602M 12s\n",
      "243700K .......... .......... .......... .......... .......... 72%  171M 12s\n",
      "243750K .......... .......... .......... .......... .......... 72%  503M 12s\n",
      "243800K .......... .......... .......... .......... .......... 72%  608M 12s\n",
      "243850K .......... .......... .......... .......... .......... 72%  552K 12s\n",
      "243900K .......... .......... .......... .......... .......... 72%  227M 12s\n",
      "243950K .......... .......... .......... .......... .......... 72%  329M 12s\n",
      "244000K .......... .......... .......... .......... .......... 72%  232M 12s\n",
      "244050K .......... .......... .......... .......... .......... 72%  347M 12s\n",
      "244100K .......... .......... .......... .......... .......... 72%  387M 12s\n",
      "244150K .......... .......... .......... .......... .......... 72%  617M 12s\n",
      "244200K .......... .......... .......... .......... .......... 72%  578M 12s\n",
      "244250K .......... .......... .......... .......... .......... 72%  646M 12s\n",
      "244300K .......... .......... .......... .......... .......... 72%  110M 12s\n",
      "244350K .......... .......... .......... .......... .......... 72%  537M 12s\n",
      "244400K .......... .......... .......... .......... .......... 72%  529M 12s\n",
      "244450K .......... .......... .......... .......... .......... 72%  638M 12s\n",
      "244500K .......... .......... .......... .......... .......... 72%  172M 12s\n",
      "244550K .......... .......... .......... .......... .......... 72%  461K 12s\n",
      "244600K .......... .......... .......... .......... .......... 72%  454K 12s\n",
      "244650K .......... .......... .......... .......... .......... 72%  210M 12s\n",
      "244700K .......... .......... .......... .......... .......... 72%  364M 12s\n",
      "244750K .......... .......... .......... .......... .......... 72%  205M 12s\n",
      "244800K .......... .......... .......... .......... .......... 72%  296M 12s\n",
      "244850K .......... .......... .......... .......... .......... 72%  357M 12s\n",
      "244900K .......... .......... .......... .......... .......... 72%  132M 12s\n",
      "244950K .......... .......... .......... .......... .......... 72%  574M 12s\n",
      "245000K .......... .......... .......... .......... .......... 72%  565M 12s\n",
      "245050K .......... .......... .......... .......... .......... 72%  616M 12s\n",
      "245100K .......... .......... .......... .......... .......... 72%  647M 12s\n",
      "245150K .......... .......... .......... .......... .......... 72%  457K 12s\n",
      "245200K .......... .......... .......... .......... .......... 72%  111M 12s\n",
      "245250K .......... .......... .......... .......... .......... 72%  312M 12s\n",
      "245300K .......... .......... .......... .......... .......... 72%  241M 12s\n",
      "245350K .......... .......... .......... .......... .......... 72%  297M 12s\n",
      "245400K .......... .......... .......... .......... .......... 72%  362M 12s\n",
      "245450K .......... .......... .......... .......... .......... 72%  493M 12s\n",
      "245500K .......... .......... .......... .......... .......... 72%  576M 12s\n",
      "245550K .......... .......... .......... .......... .......... 72%  652M 12s\n",
      "245600K .......... .......... .......... .......... .......... 72%  534M 12s\n",
      "245650K .......... .......... .......... .......... .......... 72%  459K 12s\n",
      "245700K .......... .......... .......... .......... .......... 72%  312M 12s\n",
      "245750K .......... .......... .......... .......... .......... 72%  409K 12s\n",
      "245800K .......... .......... .......... .......... .......... 72%  302M 12s\n",
      "245850K .......... .......... .......... .......... .......... 72% 86.8M 12s\n",
      "245900K .......... .......... .......... .......... .......... 72%  327M 12s\n",
      "245950K .......... .......... .......... .......... .......... 72%  371M 12s\n",
      "246000K .......... .......... .......... .......... .......... 72%  311M 12s\n",
      "246050K .......... .......... .......... .......... .......... 72%  342M 12s\n",
      "246100K .......... .......... .......... .......... .......... 72%  651M 12s\n",
      "246150K .......... .......... .......... .......... .......... 72%  363M 12s\n",
      "246200K .......... .......... .......... .......... .......... 72%  501M 12s\n",
      "246250K .......... .......... .......... .......... .......... 72%  460K 12s\n",
      "246300K .......... .......... .......... .......... .......... 72%  250M 12s\n",
      "246350K .......... .......... .......... .......... .......... 72%  256M 12s\n",
      "246400K .......... .......... .......... .......... .......... 72%  304M 12s\n",
      "246450K .......... .......... .......... .......... .......... 72%  107M 12s\n",
      "246500K .......... .......... .......... .......... .......... 72%  606M 12s\n",
      "246550K .......... .......... .......... .......... .......... 72%  436M 12s\n",
      "246600K .......... .......... .......... .......... .......... 72%  578M 12s\n",
      "246650K .......... .......... .......... .......... .......... 73%  637M 12s\n",
      "246700K .......... .......... .......... .......... .......... 73%  293M 12s\n",
      "246750K .......... .......... .......... .......... .......... 73%  454K 12s\n",
      "246800K .......... .......... .......... .......... .......... 73%  202M 12s\n",
      "246850K .......... .......... .......... .......... .......... 73%  669M 12s\n",
      "246900K .......... .......... .......... .......... .......... 73%  479M 12s\n",
      "246950K .......... .......... .......... .......... .......... 73%  463M 12s\n",
      "247000K .......... .......... .......... .......... .......... 73%  594M 12s\n",
      "247050K .......... .......... .......... .......... .......... 73%  676M 12s\n",
      "247100K .......... .......... .......... .......... .......... 73%  680M 12s\n",
      "247150K .......... .......... .......... .......... .......... 73%  201M 12s\n",
      "247200K .......... .......... .......... .......... .......... 73%  583M 12s\n",
      "247250K .......... .......... .......... .......... .......... 73%  459K 12s\n",
      "247300K .......... .......... .......... .......... .......... 73%  259M 12s\n",
      "247350K .......... .......... .......... .......... .......... 73%  235M 12s\n",
      "247400K .......... .......... .......... .......... .......... 73%  234M 12s\n",
      "247450K .......... .......... .......... .......... .......... 73%  563M 12s\n",
      "247500K .......... .......... .......... .......... .......... 73%  507M 12s\n",
      "247550K .......... .......... .......... .......... .......... 73%  561M 12s\n",
      "247600K .......... .......... .......... .......... .......... 73%  566M 12s\n",
      "247650K .......... .......... .......... .......... .......... 73%  105M 12s\n",
      "247700K .......... .......... .......... .......... .......... 73%  467M 12s\n",
      "247750K .......... .......... .......... .......... .......... 73%  642M 12s\n",
      "247800K .......... .......... .......... .......... .......... 73%  455K 12s\n",
      "247850K .......... .......... .......... .......... .......... 73%  241M 12s\n",
      "247900K .......... .......... .......... .......... .......... 73%  356M 12s\n",
      "247950K .......... .......... .......... .......... .......... 73%  242M 12s\n",
      "248000K .......... .......... .......... .......... .......... 73%  289M 12s\n",
      "248050K .......... .......... .......... .......... .......... 73%  592M 12s\n",
      "248100K .......... .......... .......... .......... .......... 73%  423M 12s\n",
      "248150K .......... .......... .......... .......... .......... 73%  469M 12s\n",
      "248200K .......... .......... .......... .......... .......... 73%  581M 12s\n",
      "248250K .......... .......... .......... .......... .......... 73%  664M 12s\n",
      "248300K .......... .......... .......... .......... .......... 73%  463K 12s\n",
      "248350K .......... .......... .......... .......... .......... 73%  297M 12s\n",
      "248400K .......... .......... .......... .......... .......... 73%  133M 12s\n",
      "248450K .......... .......... .......... .......... .......... 73%  351M 12s\n",
      "248500K .......... .......... .......... .......... .......... 73%  537M 12s\n",
      "248550K .......... .......... .......... .......... .......... 73%  643M 12s\n",
      "248600K .......... .......... .......... .......... .......... 73%  154M 12s\n",
      "248650K .......... .......... .......... .......... .......... 73%  604M 12s\n",
      "248700K .......... .......... .......... .......... .......... 73%  646M 12s\n",
      "248750K .......... .......... .......... .......... .......... 73%  543M 12s\n",
      "248800K .......... .......... .......... .......... .......... 73%  457K 12s\n",
      "248850K .......... .......... .......... .......... .......... 73%  296M 12s\n",
      "248900K .......... .......... .......... .......... .......... 73%  181M 12s\n",
      "248950K .......... .......... .......... .......... .......... 73%  106M 12s\n",
      "249000K .......... .......... .......... .......... .......... 73%  550M 12s\n",
      "249050K .......... .......... .......... .......... .......... 73%  643M 12s\n",
      "249100K .......... .......... .......... .......... .......... 73%  243M 12s\n",
      "249150K .......... .......... .......... .......... .......... 73%  395M 12s\n",
      "249200K .......... .......... .......... .......... .......... 73%  299M 12s\n",
      "249250K .......... .......... .......... .......... .......... 73%  569M 12s\n",
      "249300K .......... .......... .......... .......... .......... 73%  661M 12s\n",
      "249350K .......... .......... .......... .......... .......... 73%  459K 12s\n",
      "249400K .......... .......... .......... .......... .......... 73%  166M 12s\n",
      "249450K .......... .......... .......... .......... .......... 73%  365M 12s\n",
      "249500K .......... .......... .......... .......... .......... 73%  237M 12s\n",
      "249550K .......... .......... .......... .......... .......... 73% 57.4M 12s\n",
      "249600K .......... .......... .......... .......... .......... 73%  524M 12s\n",
      "249650K .......... .......... .......... .......... .......... 73%  105M 12s\n",
      "249700K .......... .......... .......... .......... .......... 73%  247M 12s\n",
      "249750K .......... .......... .......... .......... .......... 73%  649M 12s\n",
      "249800K .......... .......... .......... .......... .......... 73%  585M 12s\n",
      "249850K .......... .......... .......... .......... .......... 73%  401K 12s\n",
      "249900K .......... .......... .......... .......... .......... 73% 55.3M 12s\n",
      "249950K .......... .......... .......... .......... .......... 73%  355M 12s\n",
      "250000K .......... .......... .......... .......... .......... 73%  471M 12s\n",
      "250050K .......... .......... .......... .......... .......... 74%  642M 12s\n",
      "250100K .......... .......... .......... .......... .......... 74%  641M 12s\n",
      "250150K .......... .......... .......... .......... .......... 74%  446M 12s\n",
      "250200K .......... .......... .......... .......... .......... 74%  516M 12s\n",
      "250250K .......... .......... .......... .......... .......... 74%  644M 12s\n",
      "250300K .......... .......... .......... .......... .......... 74%  401M 12s\n",
      "250350K .......... .......... .......... .......... .......... 74%  460K 12s\n",
      "250400K .......... .......... .......... .......... .......... 74%  191M 12s\n",
      "250450K .......... .......... .......... .......... .......... 74%  350M 12s\n",
      "250500K .......... .......... .......... .......... .......... 74%  209M 12s\n",
      "250550K .......... .......... .......... .......... .......... 74%  492M 12s\n",
      "250600K .......... .......... .......... .......... .......... 74%  553M 12s\n",
      "250650K .......... .......... .......... .......... .......... 74%  660M 12s\n",
      "250700K .......... .......... .......... .......... .......... 74% 83.3M 12s\n",
      "250750K .......... .......... .......... .......... .......... 74%  222M 12s\n",
      "250800K .......... .......... .......... .......... .......... 74%  496M 12s\n",
      "250850K .......... .......... .......... .......... .......... 74%  459K 12s\n",
      "250900K .......... .......... .......... .......... .......... 74%  236M 12s\n",
      "250950K .......... .......... .......... .......... .......... 74%  209M 12s\n",
      "251000K .......... .......... .......... .......... .......... 74%  256M 12s\n",
      "251050K .......... .......... .......... .......... .......... 74%  421M 12s\n",
      "251100K .......... .......... .......... .......... .......... 74%  440M 12s\n",
      "251150K .......... .......... .......... .......... .......... 74%  499M 12s\n",
      "251200K .......... .......... .......... .......... .......... 74%  555M 12s\n",
      "251250K .......... .......... .......... .......... .......... 74%  351M 12s\n",
      "251300K .......... .......... .......... .......... .......... 74%  652M 12s\n",
      "251350K .......... .......... .......... .......... .......... 74%  653M 12s\n",
      "251400K .......... .......... .......... .......... .......... 74%  458K 12s\n",
      "251450K .......... .......... .......... .......... .......... 74%  386M 12s\n",
      "251500K .......... .......... .......... .......... .......... 74%  436M 12s\n",
      "251550K .......... .......... .......... .......... .......... 74%  680M 12s\n",
      "251600K .......... .......... .......... .......... .......... 74%  459M 12s\n",
      "251650K .......... .......... .......... .......... .......... 74%  168M 12s\n",
      "251700K .......... .......... .......... .......... .......... 74%  709M 12s\n",
      "251750K .......... .......... .......... .......... .......... 74%  138M 12s\n",
      "251800K .......... .......... .......... .......... .......... 74%  614M 12s\n",
      "251850K .......... .......... .......... .......... .......... 74%  587M 12s\n",
      "251900K .......... .......... .......... .......... .......... 74%  457K 12s\n",
      "251950K .......... .......... .......... .......... .......... 74% 60.0M 12s\n",
      "252000K .......... .......... .......... .......... .......... 74%  288M 12s\n",
      "252050K .......... .......... .......... .......... .......... 74% 59.9M 12s\n",
      "252100K .......... .......... .......... .......... .......... 74%  190M 12s\n",
      "252150K .......... .......... .......... .......... .......... 74%  149M 11s\n",
      "252200K .......... .......... .......... .......... .......... 74%  576M 11s\n",
      "252250K .......... .......... .......... .......... .......... 74%  504M 11s\n",
      "252300K .......... .......... .......... .......... .......... 74%  650M 11s\n",
      "252350K .......... .......... .......... .......... .......... 74%  669M 11s\n",
      "252400K .......... .......... .......... .......... .......... 74%  465K 11s\n",
      "252450K .......... .......... .......... .......... .......... 74%  232M 11s\n",
      "252500K .......... .......... .......... .......... .......... 74%  249M 11s\n",
      "252550K .......... .......... .......... .......... .......... 74%  362M 11s\n",
      "252600K .......... .......... .......... .......... .......... 74%  107M 11s\n",
      "252650K .......... .......... .......... .......... .......... 74%  262M 11s\n",
      "252700K .......... .......... .......... .......... .......... 74%  638M 11s\n",
      "252750K .......... .......... .......... .......... .......... 74%  479M 11s\n",
      "252800K .......... .......... .......... .......... .......... 74%  433M 11s\n",
      "252850K .......... .......... .......... .......... .......... 74%  656M 11s\n",
      "252900K .......... .......... .......... .......... .......... 74%  659M 11s\n",
      "252950K .......... .......... .......... .......... .......... 74%  460K 11s\n",
      "253000K .......... .......... .......... .......... .......... 74% 35.2M 11s\n",
      "253050K .......... .......... .......... .......... .......... 74%  134M 11s\n",
      "253100K .......... .......... .......... .......... .......... 74%  125M 11s\n",
      "253150K .......... .......... .......... .......... .......... 74%  220M 11s\n",
      "253200K .......... .......... .......... .......... .......... 74%  251M 11s\n",
      "253250K .......... .......... .......... .......... .......... 74%  305M 11s\n",
      "253300K .......... .......... .......... .......... .......... 74%  615M 11s\n",
      "253350K .......... .......... .......... .......... .......... 74%  654M 11s\n",
      "253400K .......... .......... .......... .......... .......... 75%  540M 11s\n",
      "253450K .......... .......... .......... .......... .......... 75%  465K 11s\n",
      "253500K .......... .......... .......... .......... .......... 75%  315M 11s\n",
      "253550K .......... .......... .......... .......... .......... 75%  117M 11s\n",
      "253600K .......... .......... .......... .......... .......... 75%  297M 11s\n",
      "253650K .......... .......... .......... .......... .......... 75%  214M 11s\n",
      "253700K .......... .......... .......... .......... .......... 75%  224M 11s\n",
      "253750K .......... .......... .......... .......... .......... 75%  593M 11s\n",
      "253800K .......... .......... .......... .......... .......... 75%  585M 11s\n",
      "253850K .......... .......... .......... .......... .......... 75%  567M 11s\n",
      "253900K .......... .......... .......... .......... .......... 75%  672M 11s\n",
      "253950K .......... .......... .......... .......... .......... 75%  409K 11s\n",
      "254000K .......... .......... .......... .......... .......... 75% 39.3M 11s\n",
      "254050K .......... .......... .......... .......... .......... 75%  282M 11s\n",
      "254100K .......... .......... .......... .......... .......... 75%  448M 11s\n",
      "254150K .......... .......... .......... .......... .......... 75%  656M 11s\n",
      "254200K .......... .......... .......... .......... .......... 75%  128M 11s\n",
      "254250K .......... .......... .......... .......... .......... 75%  454M 11s\n",
      "254300K .......... .......... .......... .......... .......... 75%  458M 11s\n",
      "254350K .......... .......... .......... .......... .......... 75%  554M 11s\n",
      "254400K .......... .......... .......... .......... .......... 75%  544M 11s\n",
      "254450K .......... .......... .......... .......... .......... 75%  463K 11s\n",
      "254500K .......... .......... .......... .......... .......... 75%  114M 11s\n",
      "254550K .......... .......... .......... .......... .......... 75%  204M 11s\n",
      "254600K .......... .......... .......... .......... .......... 75%  241M 11s\n",
      "254650K .......... .......... .......... .......... .......... 75%  660M 11s\n",
      "254700K .......... .......... .......... .......... .......... 75%  691M 11s\n",
      "254750K .......... .......... .......... .......... .......... 75%  629M 11s\n",
      "254800K .......... .......... .......... .......... .......... 75%  150M 11s\n",
      "254850K .......... .......... .......... .......... .......... 75%  235M 11s\n",
      "254900K .......... .......... .......... .......... .......... 75%  599M 11s\n",
      "254950K .......... .......... .......... .......... .......... 75%  633M 11s\n",
      "255000K .......... .......... .......... .......... .......... 75%  457K 11s\n",
      "255050K .......... .......... .......... .......... .......... 75%  144M 11s\n",
      "255100K .......... .......... .......... .......... .......... 75%  712M 11s\n",
      "255150K .......... .......... .......... .......... .......... 75% 72.6M 11s\n",
      "255200K .......... .......... .......... .......... .......... 75%  446M 11s\n",
      "255250K .......... .......... .......... .......... .......... 75%  590M 11s\n",
      "255300K .......... .......... .......... .......... .......... 75% 82.3M 11s\n",
      "255350K .......... .......... .......... .......... .......... 75%  529M 11s\n",
      "255400K .......... .......... .......... .......... .......... 75%  580M 11s\n",
      "255450K .......... .......... .......... .......... .......... 75%  642M 11s\n",
      "255500K .......... .......... .......... .......... .......... 75%  465K 11s\n",
      "255550K .......... .......... .......... .......... .......... 75% 80.5M 11s\n",
      "255600K .......... .......... .......... .......... .......... 75% 47.9M 11s\n",
      "255650K .......... .......... .......... .......... .......... 75% 69.9M 11s\n",
      "255700K .......... .......... .......... .......... .......... 75%  329M 11s\n",
      "255750K .......... .......... .......... .......... .......... 75%  568M 11s\n",
      "255800K .......... .......... .......... .......... .......... 75%  573M 11s\n",
      "255850K .......... .......... .......... .......... .......... 75%  372M 11s\n",
      "255900K .......... .......... .......... .......... .......... 75%  112M 11s\n",
      "255950K .......... .......... .......... .......... .......... 75%  433M 11s\n",
      "256000K .......... .......... .......... .......... .......... 75%  535M 11s\n",
      "256050K .......... .......... .......... .......... .......... 75%  466K 11s\n",
      "256100K .......... .......... .......... .......... .......... 75% 29.0M 11s\n",
      "256150K .......... .......... .......... .......... .......... 75%  228M 11s\n",
      "256200K .......... .......... .......... .......... .......... 75%  131M 11s\n",
      "256250K .......... .......... .......... .......... .......... 75%  156M 11s\n",
      "256300K .......... .......... .......... .......... .......... 75%  526M 11s\n",
      "256350K .......... .......... .......... .......... .......... 75% 87.2M 11s\n",
      "256400K .......... .......... .......... .......... .......... 75%  137M 11s\n",
      "256450K .......... .......... .......... .......... .......... 75%  458M 11s\n",
      "256500K .......... .......... .......... .......... .......... 75%  488M 11s\n",
      "256550K .......... .......... .......... .......... .......... 75%  659M 11s\n",
      "256600K .......... .......... .......... .......... .......... 75%  467K 11s\n",
      "256650K .......... .......... .......... .......... .......... 75% 84.5M 11s\n",
      "256700K .......... .......... .......... .......... .......... 75%  261M 11s\n",
      "256750K .......... .......... .......... .......... .......... 75%  631M 11s\n",
      "256800K .......... .......... .......... .......... .......... 76%  541M 11s\n",
      "256850K .......... .......... .......... .......... .......... 76%  661M 11s\n",
      "256900K .......... .......... .......... .......... .......... 76% 80.1M 11s\n",
      "256950K .......... .......... .......... .......... .......... 76%  632M 11s\n",
      "257000K .......... .......... .......... .......... .......... 76%  127M 11s\n",
      "257050K .......... .......... .......... .......... .......... 76%  569M 11s\n",
      "257100K .......... .......... .......... .......... .......... 76%  651M 11s\n",
      "257150K .......... .......... .......... .......... .......... 76%  462K 11s\n",
      "257200K .......... .......... .......... .......... .......... 76%  111M 11s\n",
      "257250K .......... .......... .......... .......... .......... 76%  466M 11s\n",
      "257300K .......... .......... .......... .......... .......... 76%  196M 11s\n",
      "257350K .......... .......... .......... .......... .......... 76%  178M 11s\n",
      "257400K .......... .......... .......... .......... .......... 76%  564M 11s\n",
      "257450K .......... .......... .......... .......... .......... 76% 29.1M 11s\n",
      "257500K .......... .......... .......... .......... .......... 76%  455M 11s\n",
      "257550K .......... .......... .......... .......... .......... 76%  615M 11s\n",
      "257600K .......... .......... .......... .......... .......... 76%  385M 11s\n",
      "257650K .......... .......... .......... .......... .......... 76%  612M 11s\n",
      "257700K .......... .......... .......... .......... .......... 76%  465K 11s\n",
      "257750K .......... .......... .......... .......... .......... 76%  306M 11s\n",
      "257800K .......... .......... .......... .......... .......... 76%  110M 11s\n",
      "257850K .......... .......... .......... .......... .......... 76%  555M 11s\n",
      "257900K .......... .......... .......... .......... .......... 76%  290M 11s\n",
      "257950K .......... .......... .......... .......... .......... 76%  602M 11s\n",
      "258000K .......... .......... .......... .......... .......... 76%  407K 11s\n",
      "258050K .......... .......... .......... .......... .......... 76%  503M 11s\n",
      "258100K .......... .......... .......... .......... .......... 76%  202M 11s\n",
      "258150K .......... .......... .......... .......... .......... 76%  194M 11s\n",
      "258200K .......... .......... .......... .......... .......... 76%  557M 11s\n",
      "258250K .......... .......... .......... .......... .......... 76%  224M 11s\n",
      "258300K .......... .......... .......... .......... .......... 76%  407M 11s\n",
      "258350K .......... .......... .......... .......... .......... 76%  498M 11s\n",
      "258400K .......... .......... .......... .......... .......... 76%  477M 11s\n",
      "258450K .......... .......... .......... .......... .......... 76%  532M 11s\n",
      "258500K .......... .......... .......... .......... .......... 76%  672M 11s\n",
      "258550K .......... .......... .......... .......... .......... 76%  457K 11s\n",
      "258600K .......... .......... .......... .......... .......... 76%  472M 11s\n",
      "258650K .......... .......... .......... .......... .......... 76%  497M 11s\n",
      "258700K .......... .......... .......... .......... .......... 76%  557M 11s\n",
      "258750K .......... .......... .......... .......... .......... 76%  263M 11s\n",
      "258800K .......... .......... .......... .......... .......... 76%  231M 11s\n",
      "258850K .......... .......... .......... .......... .......... 76%  699M 11s\n",
      "258900K .......... .......... .......... .......... .......... 76%  185M 11s\n",
      "258950K .......... .......... .......... .......... .......... 76%  480M 11s\n",
      "259000K .......... .......... .......... .......... .......... 76%  588M 11s\n",
      "259050K .......... .......... .......... .......... .......... 76%  643M 11s\n",
      "259100K .......... .......... .......... .......... .......... 76%  459K 11s\n",
      "259150K .......... .......... .......... .......... .......... 76%  467M 11s\n",
      "259200K .......... .......... .......... .......... .......... 76%  433M 11s\n",
      "259250K .......... .......... .......... .......... .......... 76%  249M 11s\n",
      "259300K .......... .......... .......... .......... .......... 76%  525M 11s\n",
      "259350K .......... .......... .......... .......... .......... 76%  669M 11s\n",
      "259400K .......... .......... .......... .......... .......... 76%  162M 11s\n",
      "259450K .......... .......... .......... .......... .......... 76%  637M 11s\n",
      "259500K .......... .......... .......... .......... .......... 76%  196M 11s\n",
      "259550K .......... .......... .......... .......... .......... 76%  446M 11s\n",
      "259600K .......... .......... .......... .......... .......... 76%  525M 11s\n",
      "259650K .......... .......... .......... .......... .......... 76%  459K 11s\n",
      "259700K .......... .......... .......... .......... .......... 76%  137M 11s\n",
      "259750K .......... .......... .......... .......... .......... 76%  644M 11s\n",
      "259800K .......... .......... .......... .......... .......... 76%  138M 11s\n",
      "259850K .......... .......... .......... .......... .......... 76%  190M 11s\n",
      "259900K .......... .......... .......... .......... .......... 76%  617M 11s\n",
      "259950K .......... .......... .......... .......... .......... 76%  506M 11s\n",
      "260000K .......... .......... .......... .......... .......... 76%  154M 11s\n",
      "260050K .......... .......... .......... .......... .......... 76%  598M 11s\n",
      "260100K .......... .......... .......... .......... .......... 76%  255M 11s\n",
      "260150K .......... .......... .......... .......... .......... 77%  621M 11s\n",
      "260200K .......... .......... .......... .......... .......... 77%  458K 11s\n",
      "260250K .......... .......... .......... .......... .......... 77%  668M 11s\n",
      "260300K .......... .......... .......... .......... .......... 77%  176M 11s\n",
      "260350K .......... .......... .......... .......... .......... 77%  548M 11s\n",
      "260400K .......... .......... .......... .......... .......... 77%  261M 11s\n",
      "260450K .......... .......... .......... .......... .......... 77%  561M 11s\n",
      "260500K .......... .......... .......... .......... .......... 77%  534M 11s\n",
      "260550K .......... .......... .......... .......... .......... 77%  150M 11s\n",
      "260600K .......... .......... .......... .......... .......... 77%  492M 11s\n",
      "260650K .......... .......... .......... .......... .......... 77%  267M 11s\n",
      "260700K .......... .......... .......... .......... .......... 77% 44.9M 11s\n",
      "260750K .......... .......... .......... .......... .......... 77%  208M 11s\n",
      "260800K .......... .......... .......... .......... .......... 77%  464K 11s\n",
      "260850K .......... .......... .......... .......... .......... 77%  459M 11s\n",
      "260900K .......... .......... .......... .......... .......... 77%  428M 11s\n",
      "260950K .......... .......... .......... .......... .......... 77%  610M 11s\n",
      "261000K .......... .......... .......... .......... .......... 77%  141M 11s\n",
      "261050K .......... .......... .......... .......... .......... 77%  603M 11s\n",
      "261100K .......... .......... .......... .......... .......... 77%  428M 10s\n",
      "261150K .......... .......... .......... .......... .......... 77%  513M 10s\n",
      "261200K .......... .......... .......... .......... .......... 77%  270M 10s\n",
      "261250K .......... .......... .......... .......... .......... 77%  523M 10s\n",
      "261300K .......... .......... .......... .......... .......... 77%  670M 10s\n",
      "261350K .......... .......... .......... .......... .......... 77%  457K 10s\n",
      "261400K .......... .......... .......... .......... .......... 77%  512M 10s\n",
      "261450K .......... .......... .......... .......... .......... 77%  188M 10s\n",
      "261500K .......... .......... .......... .......... .......... 77%  487M 10s\n",
      "261550K .......... .......... .......... .......... .......... 77%  652M 10s\n",
      "261600K .......... .......... .......... .......... .......... 77%  164M 10s\n",
      "261650K .......... .......... .......... .......... .......... 77%  580M 10s\n",
      "261700K .......... .......... .......... .......... .......... 77%  202M 10s\n",
      "261750K .......... .......... .......... .......... .......... 77%  452M 10s\n",
      "261800K .......... .......... .......... .......... .......... 77%  200M 10s\n",
      "261850K .......... .......... .......... .......... .......... 77%  563M 10s\n",
      "261900K .......... .......... .......... .......... .......... 77%  455K 10s\n",
      "261950K .......... .......... .......... .......... .......... 77%  484M 10s\n",
      "262000K .......... .......... .......... .......... .......... 77%  514M 10s\n",
      "262050K .......... .......... .......... .......... .......... 77%  661M 10s\n",
      "262100K .......... .......... .......... .......... .......... 77%  414K 10s\n",
      "262150K .......... .......... .......... .......... .......... 77%  160M 10s\n",
      "262200K .......... .......... .......... .......... .......... 77%  246M 10s\n",
      "262250K .......... .......... .......... .......... .......... 77%  188M 10s\n",
      "262300K .......... .......... .......... .......... .......... 77%  287M 10s\n",
      "262350K .......... .......... .......... .......... .......... 77%  407M 10s\n",
      "262400K .......... .......... .......... .......... .......... 77%  138M 10s\n",
      "262450K .......... .......... .......... .......... .......... 77%  436M 10s\n",
      "262500K .......... .......... .......... .......... .......... 77%  593M 10s\n",
      "262550K .......... .......... .......... .......... .......... 77%  291M 10s\n",
      "262600K .......... .......... .......... .......... .......... 77%  479M 10s\n",
      "262650K .......... .......... .......... .......... .......... 77%  638M 10s\n",
      "262700K .......... .......... .......... .......... .......... 77%  459K 10s\n",
      "262750K .......... .......... .......... .......... .......... 77%  477M 10s\n",
      "262800K .......... .......... .......... .......... .......... 77%  183M 10s\n",
      "262850K .......... .......... .......... .......... .......... 77%  554M 10s\n",
      "262900K .......... .......... .......... .......... .......... 77%  397M 10s\n",
      "262950K .......... .......... .......... .......... .......... 77%  666M 10s\n",
      "263000K .......... .......... .......... .......... .......... 77%  180M 10s\n",
      "263050K .......... .......... .......... .......... .......... 77%  374M 10s\n",
      "263100K .......... .......... .......... .......... .......... 77%  439M 10s\n",
      "263150K .......... .......... .......... .......... .......... 77%  227M 10s\n",
      "263200K .......... .......... .......... .......... .......... 77%  550M 10s\n",
      "263250K .......... .......... .......... .......... .......... 77%  458K 10s\n",
      "263300K .......... .......... .......... .......... .......... 77%  616M 10s\n",
      "263350K .......... .......... .......... .......... .......... 77% 86.4M 10s\n",
      "263400K .......... .......... .......... .......... .......... 77%  320M 10s\n",
      "263450K .......... .......... .......... .......... .......... 77%  330M 10s\n",
      "263500K .......... .......... .......... .......... .......... 77%  662M 10s\n",
      "263550K .......... .......... .......... .......... .......... 78%  280M 10s\n",
      "263600K .......... .......... .......... .......... .......... 78%  249M 10s\n",
      "263650K .......... .......... .......... .......... .......... 78%  210M 10s\n",
      "263700K .......... .......... .......... .......... .......... 78%  188M 10s\n",
      "263750K .......... .......... .......... .......... .......... 78%  564M 10s\n",
      "263800K .......... .......... .......... .......... .......... 78%  461K 10s\n",
      "263850K .......... .......... .......... .......... .......... 78%  141M 10s\n",
      "263900K .......... .......... .......... .......... .......... 78%  425M 10s\n",
      "263950K .......... .......... .......... .......... .......... 78%  692M 10s\n",
      "264000K .......... .......... .......... .......... .......... 78% 51.2M 10s\n",
      "264050K .......... .......... .......... .......... .......... 78%  441M 10s\n",
      "264100K .......... .......... .......... .......... .......... 78%  410M 10s\n",
      "264150K .......... .......... .......... .......... .......... 78%  436M 10s\n",
      "264200K .......... .......... .......... .......... .......... 78%  464M 10s\n",
      "264250K .......... .......... .......... .......... .......... 78%  642M 10s\n",
      "264300K .......... .......... .......... .......... .......... 78%  637M 10s\n",
      "264350K .......... .......... .......... .......... .......... 78%  656M 10s\n",
      "264400K .......... .......... .......... .......... .......... 78%  456K 10s\n",
      "264450K .......... .......... .......... .......... .......... 78% 82.0M 10s\n",
      "264500K .......... .......... .......... .......... .......... 78%  667M 10s\n",
      "264550K .......... .......... .......... .......... .......... 78%  389M 10s\n",
      "264600K .......... .......... .......... .......... .......... 78%  558M 10s\n",
      "264650K .......... .......... .......... .......... .......... 78% 88.6M 10s\n",
      "264700K .......... .......... .......... .......... .......... 78%  449M 10s\n",
      "264750K .......... .......... .......... .......... .......... 78%  622M 10s\n",
      "264800K .......... .......... .......... .......... .......... 78%  536M 10s\n",
      "264850K .......... .......... .......... .......... .......... 78%  151M 10s\n",
      "264900K .......... .......... .......... .......... .......... 78%  621M 10s\n",
      "264950K .......... .......... .......... .......... .......... 78%  464K 10s\n",
      "265000K .......... .......... .......... .......... .......... 78%  451M 10s\n",
      "265050K .......... .......... .......... .......... .......... 78%  656M 10s\n",
      "265100K .......... .......... .......... .......... .......... 78% 73.5M 10s\n",
      "265150K .......... .......... .......... .......... .......... 78%  619M 10s\n",
      "265200K .......... .......... .......... .......... .......... 78%  342M 10s\n",
      "265250K .......... .......... .......... .......... .......... 78% 92.4M 10s\n",
      "265300K .......... .......... .......... .......... .......... 78%  423M 10s\n",
      "265350K .......... .......... .......... .......... .......... 78%  340M 10s\n",
      "265400K .......... .......... .......... .......... .......... 78%  353M 10s\n",
      "265450K .......... .......... .......... .......... .......... 78%  672M 10s\n",
      "265500K .......... .......... .......... .......... .......... 78%  616M 10s\n",
      "265550K .......... .......... .......... .......... .......... 78%  463K 10s\n",
      "265600K .......... .......... .......... .......... .......... 78%  123M 10s\n",
      "265650K .......... .......... .......... .......... .......... 78%  706M 10s\n",
      "265700K .......... .......... .......... .......... .......... 78%  453M 10s\n",
      "265750K .......... .......... .......... .......... .......... 78%  214M 10s\n",
      "265800K .......... .......... .......... .......... .......... 78%  463M 10s\n",
      "265850K .......... .......... .......... .......... .......... 78%  627M 10s\n",
      "265900K .......... .......... .......... .......... .......... 78%  163M 10s\n",
      "265950K .......... .......... .......... .......... .......... 78%  509M 10s\n",
      "266000K .......... .......... .......... .......... .......... 78%  541M 10s\n",
      "266050K .......... .......... .......... .......... .......... 78%  424M 10s\n",
      "266100K .......... .......... .......... .......... .......... 78%  459K 10s\n",
      "266150K .......... .......... .......... .......... .......... 78% 21.7M 10s\n",
      "266200K .......... .......... .......... .......... .......... 78%  417K 10s\n",
      "266250K .......... .......... .......... .......... .......... 78%  593M 10s\n",
      "266300K .......... .......... .......... .......... .......... 78% 75.6M 10s\n",
      "266350K .......... .......... .......... .......... .......... 78%  437M 10s\n",
      "266400K .......... .......... .......... .......... .......... 78%  394M 10s\n",
      "266450K .......... .......... .......... .......... .......... 78%  450M 10s\n",
      "266500K .......... .......... .......... .......... .......... 78%  429M 10s\n",
      "266550K .......... .......... .......... .......... .......... 78%  385M 10s\n",
      "266600K .......... .......... .......... .......... .......... 78%  360M 10s\n",
      "266650K .......... .......... .......... .......... .......... 78%  491M 10s\n",
      "266700K .......... .......... .......... .......... .......... 78%  629M 10s\n",
      "266750K .......... .......... .......... .......... .......... 78%  652M 10s\n",
      "266800K .......... .......... .......... .......... .......... 78%  453K 10s\n",
      "266850K .......... .......... .......... .......... .......... 78%  320M 10s\n",
      "266900K .......... .......... .......... .......... .......... 78%  412M 10s\n",
      "266950K .......... .......... .......... .......... .......... 79%  519M 10s\n",
      "267000K .......... .......... .......... .......... .......... 79%  361M 10s\n",
      "267050K .......... .......... .......... .......... .......... 79%  450M 10s\n",
      "267100K .......... .......... .......... .......... .......... 79%  610M 10s\n",
      "267150K .......... .......... .......... .......... .......... 79%  593M 10s\n",
      "267200K .......... .......... .......... .......... .......... 79%  565M 10s\n",
      "267250K .......... .......... .......... .......... .......... 79%  625M 10s\n",
      "267300K .......... .......... .......... .......... .......... 79%  571M 10s\n",
      "267350K .......... .......... .......... .......... .......... 79%  454K 10s\n",
      "267400K .......... .......... .......... .......... .......... 79%  410M 10s\n",
      "267450K .......... .......... .......... .......... .......... 79%  501M 10s\n",
      "267500K .......... .......... .......... .......... .......... 79%  524M 10s\n",
      "267550K .......... .......... .......... .......... .......... 79%  690M 10s\n",
      "267600K .......... .......... .......... .......... .......... 79%  638M 10s\n",
      "267650K .......... .......... .......... .......... .......... 79%  676M 10s\n",
      "267700K .......... .......... .......... .......... .......... 79%  721M 10s\n",
      "267750K .......... .......... .......... .......... .......... 79%  137M 10s\n",
      "267800K .......... .......... .......... .......... .......... 79%  412M 10s\n",
      "267850K .......... .......... .......... .......... .......... 79%  651M 10s\n",
      "267900K .......... .......... .......... .......... .......... 79%  620M 10s\n",
      "267950K .......... .......... .......... .......... .......... 79%  467K 10s\n",
      "268000K .......... .......... .......... .......... .......... 79%  250M 10s\n",
      "268050K .......... .......... .......... .......... .......... 79%  432M 10s\n",
      "268100K .......... .......... .......... .......... .......... 79%  617M 10s\n",
      "268150K .......... .......... .......... .......... .......... 79%  198M 10s\n",
      "268200K .......... .......... .......... .......... .......... 79%  445M 10s\n",
      "268250K .......... .......... .......... .......... .......... 79%  325M 10s\n",
      "268300K .......... .......... .......... .......... .......... 79%  382M 10s\n",
      "268350K .......... .......... .......... .......... .......... 79%  199M 10s\n",
      "268400K .......... .......... .......... .......... .......... 79% 62.3M 10s\n",
      "268450K .......... .......... .......... .......... .......... 79%  519M 10s\n",
      "268500K .......... .......... .......... .......... .......... 79%  680M 10s\n",
      "268550K .......... .......... .......... .......... .......... 79%  460K 10s\n",
      "268600K .......... .......... .......... .......... .......... 79% 27.8M 10s\n",
      "268650K .......... .......... .......... .......... .......... 79%  349M 10s\n",
      "268700K .......... .......... .......... .......... .......... 79%  387M 10s\n",
      "268750K .......... .......... .......... .......... .......... 79%  376M 10s\n",
      "268800K .......... .......... .......... .......... .......... 79%  418M 10s\n",
      "268850K .......... .......... .......... .......... .......... 79%  657M 10s\n",
      "268900K .......... .......... .......... .......... .......... 79%  674M 10s\n",
      "268950K .......... .......... .......... .......... .......... 79%  673M 10s\n",
      "269000K .......... .......... .......... .......... .......... 79% 38.9M 10s\n",
      "269050K .......... .......... .......... .......... .......... 79%  141M 10s\n",
      "269100K .......... .......... .......... .......... .......... 79%  305M 10s\n",
      "269150K .......... .......... .......... .......... .......... 79%  471K 10s\n",
      "269200K .......... .......... .......... .......... .......... 79%  340M 10s\n",
      "269250K .......... .......... .......... .......... .......... 79%  594M 10s\n",
      "269300K .......... .......... .......... .......... .......... 79%  206M 10s\n",
      "269350K .......... .......... .......... .......... .......... 79%  405M 10s\n",
      "269400K .......... .......... .......... .......... .......... 79%  305M 10s\n",
      "269450K .......... .......... .......... .......... .......... 79%  183M 10s\n",
      "269500K .......... .......... .......... .......... .......... 79%  484M 10s\n",
      "269550K .......... .......... .......... .......... .......... 79%  618M 10s\n",
      "269600K .......... .......... .......... .......... .......... 79%  196M 9s\n",
      "269650K .......... .......... .......... .......... .......... 79%  516M 9s\n",
      "269700K .......... .......... .......... .......... .......... 79%  461K 10s\n",
      "269750K .......... .......... .......... .......... .......... 79% 79.1M 9s\n",
      "269800K .......... .......... .......... .......... .......... 79%  197M 9s\n",
      "269850K .......... .......... .......... .......... .......... 79%  357M 9s\n",
      "269900K .......... .......... .......... .......... .......... 79%  227M 9s\n",
      "269950K .......... .......... .......... .......... .......... 79%  672M 9s\n",
      "270000K .......... .......... .......... .......... .......... 79%  137M 9s\n",
      "270050K .......... .......... .......... .......... .......... 79%  567M 9s\n",
      "270100K .......... .......... .......... .......... .......... 79%  573M 9s\n",
      "270150K .......... .......... .......... .......... .......... 79%  676M 9s\n",
      "270200K .......... .......... .......... .......... .......... 79%  372M 9s\n",
      "270250K .......... .......... .......... .......... .......... 79%  669M 9s\n",
      "270300K .......... .......... .......... .......... .......... 80%  409K 9s\n",
      "270350K .......... .......... .......... .......... .......... 80%  282M 9s\n",
      "270400K .......... .......... .......... .......... .......... 80%  107M 9s\n",
      "270450K .......... .......... .......... .......... .......... 80%  204M 9s\n",
      "270500K .......... .......... .......... .......... .......... 80% 98.6M 9s\n",
      "270550K .......... .......... .......... .......... .......... 80%  587M 9s\n",
      "270600K .......... .......... .......... .......... .......... 80%  545M 9s\n",
      "270650K .......... .......... .......... .......... .......... 80%  476M 9s\n",
      "270700K .......... .......... .......... .......... .......... 80%  195M 9s\n",
      "270750K .......... .......... .......... .......... .......... 80%  478M 9s\n",
      "270800K .......... .......... .......... .......... .......... 80%  559M 9s\n",
      "270850K .......... .......... .......... .......... .......... 80%  630M 9s\n",
      "270900K .......... .......... .......... .......... .......... 80%  463K 9s\n",
      "270950K .......... .......... .......... .......... .......... 80% 52.8M 9s\n",
      "271000K .......... .......... .......... .......... .......... 80%  258M 9s\n",
      "271050K .......... .......... .......... .......... .......... 80%  447M 9s\n",
      "271100K .......... .......... .......... .......... .......... 80%  629M 9s\n",
      "271150K .......... .......... .......... .......... .......... 80%  627M 9s\n",
      "271200K .......... .......... .......... .......... .......... 80% 82.0M 9s\n",
      "271250K .......... .......... .......... .......... .......... 80%  456M 9s\n",
      "271300K .......... .......... .......... .......... .......... 80%  459M 9s\n",
      "271350K .......... .......... .......... .......... .......... 80%  648M 9s\n",
      "271400K .......... .......... .......... .......... .......... 80%  579M 9s\n",
      "271450K .......... .......... .......... .......... .......... 80%  674M 9s\n",
      "271500K .......... .......... .......... .......... .......... 80%  448K 9s\n",
      "271550K .......... .......... .......... .......... .......... 80%  257M 9s\n",
      "271600K .......... .......... .......... .......... .......... 80%  307M 9s\n",
      "271650K .......... .......... .......... .......... .......... 80%  157M 9s\n",
      "271700K .......... .......... .......... .......... .......... 80%  365M 9s\n",
      "271750K .......... .......... .......... .......... .......... 80%  292M 9s\n",
      "271800K .......... .......... .......... .......... .......... 80%  287M 9s\n",
      "271850K .......... .......... .......... .......... .......... 80%  525M 9s\n",
      "271900K .......... .......... .......... .......... .......... 80%  383M 9s\n",
      "271950K .......... .......... .......... .......... .......... 80%  568M 9s\n",
      "272000K .......... .......... .......... .......... .......... 80%  571M 9s\n",
      "272050K .......... .......... .......... .......... .......... 80%  648M 9s\n",
      "272100K .......... .......... .......... .......... .......... 80%  471K 9s\n",
      "272150K .......... .......... .......... .......... .......... 80%  260M 9s\n",
      "272200K .......... .......... .......... .......... .......... 80%  384M 9s\n",
      "272250K .......... .......... .......... .......... .......... 80%  681M 9s\n",
      "272300K .......... .......... .......... .......... .......... 80%  676M 9s\n",
      "272350K .......... .......... .......... .......... .......... 80%  287M 9s\n",
      "272400K .......... .......... .......... .......... .......... 80%  579M 9s\n",
      "272450K .......... .......... .......... .......... .......... 80%  142M 9s\n",
      "272500K .......... .......... .......... .......... .......... 80%  409M 9s\n",
      "272550K .......... .......... .......... .......... .......... 80%  449M 9s\n",
      "272600K .......... .......... .......... .......... .......... 80%  557M 9s\n",
      "272650K .......... .......... .......... .......... .......... 80%  643M 9s\n",
      "272700K .......... .......... .......... .......... .......... 80%  458K 9s\n",
      "272750K .......... .......... .......... .......... .......... 80%  329M 9s\n",
      "272800K .......... .......... .......... .......... .......... 80%  154M 9s\n",
      "272850K .......... .......... .......... .......... .......... 80%  267M 9s\n",
      "272900K .......... .......... .......... .......... .......... 80%  560M 9s\n",
      "272950K .......... .......... .......... .......... .......... 80%  476M 9s\n",
      "273000K .......... .......... .......... .......... .......... 80%  296M 9s\n",
      "273050K .......... .......... .......... .......... .......... 80%  585M 9s\n",
      "273100K .......... .......... .......... .......... .......... 80%  674M 9s\n",
      "273150K .......... .......... .......... .......... .......... 80%  658M 9s\n",
      "273200K .......... .......... .......... .......... .......... 80%  556M 9s\n",
      "273250K .......... .......... .......... .......... .......... 80%  647M 9s\n",
      "273300K .......... .......... .......... .......... .......... 80%  458K 9s\n",
      "273350K .......... .......... .......... .......... .......... 80%  163M 9s\n",
      "273400K .......... .......... .......... .......... .......... 80%  292M 9s\n",
      "273450K .......... .......... .......... .......... .......... 80%  175M 9s\n",
      "273500K .......... .......... .......... .......... .......... 80%  252M 9s\n",
      "273550K .......... .......... .......... .......... .......... 80%  335M 9s\n",
      "273600K .......... .......... .......... .......... .......... 80%  372M 9s\n",
      "273650K .......... .......... .......... .......... .......... 80%  509M 9s\n",
      "273700K .......... .......... .......... .......... .......... 81%  667M 9s\n",
      "273750K .......... .......... .......... .......... .......... 81%  489M 9s\n",
      "273800K .......... .......... .......... .......... .......... 81%  494M 9s\n",
      "273850K .......... .......... .......... .......... .......... 81%  145M 9s\n",
      "273900K .......... .......... .......... .......... .......... 81%  459K 9s\n",
      "273950K .......... .......... .......... .......... .......... 81%  279M 9s\n",
      "274000K .......... .......... .......... .......... .......... 81%  550M 9s\n",
      "274050K .......... .......... .......... .......... .......... 81%  570M 9s\n",
      "274100K .......... .......... .......... .......... .......... 81%  437M 9s\n",
      "274150K .......... .......... .......... .......... .......... 81%  597M 9s\n",
      "274200K .......... .......... .......... .......... .......... 81%  575M 9s\n",
      "274250K .......... .......... .......... .......... .......... 81%  152M 9s\n",
      "274300K .......... .......... .......... .......... .......... 81%  656M 9s\n",
      "274350K .......... .......... .......... .......... .......... 81%  649M 9s\n",
      "274400K .......... .......... .......... .......... .......... 81%  404K 9s\n",
      "274450K .......... .......... .......... .......... .......... 81%  360M 9s\n",
      "274500K .......... .......... .......... .......... .......... 81%  106M 9s\n",
      "274550K .......... .......... .......... .......... .......... 81%  593M 9s\n",
      "274600K .......... .......... .......... .......... .......... 81%  586M 9s\n",
      "274650K .......... .......... .......... .......... .......... 81%  507M 9s\n",
      "274700K .......... .......... .......... .......... .......... 81%  385M 9s\n",
      "274750K .......... .......... .......... .......... .......... 81%  631M 9s\n",
      "274800K .......... .......... .......... .......... .......... 81%  594M 9s\n",
      "274850K .......... .......... .......... .......... .......... 81%  331M 9s\n",
      "274900K .......... .......... .......... .......... .......... 81%  599M 9s\n",
      "274950K .......... .......... .......... .......... .......... 81%  608M 9s\n",
      "275000K .......... .......... .......... .......... .......... 81%  459K 9s\n",
      "275050K .......... .......... .......... .......... .......... 81%  147M 9s\n",
      "275100K .......... .......... .......... .......... .......... 81%  313M 9s\n",
      "275150K .......... .......... .......... .......... .......... 81%  328M 9s\n",
      "275200K .......... .......... .......... .......... .......... 81%  159M 9s\n",
      "275250K .......... .......... .......... .......... .......... 81%  287M 9s\n",
      "275300K .......... .......... .......... .......... .......... 81%  592M 9s\n",
      "275350K .......... .......... .......... .......... .......... 81%  640M 9s\n",
      "275400K .......... .......... .......... .......... .......... 81%  150M 9s\n",
      "275450K .......... .......... .......... .......... .......... 81%  470M 9s\n",
      "275500K .......... .......... .......... .......... .......... 81%  648M 9s\n",
      "275550K .......... .......... .......... .......... .......... 81%  663M 9s\n",
      "275600K .......... .......... .......... .......... .......... 81%  461K 9s\n",
      "275650K .......... .......... .......... .......... .......... 81%  540M 9s\n",
      "275700K .......... .......... .......... .......... .......... 81% 46.8M 9s\n",
      "275750K .......... .......... .......... .......... .......... 81%  566M 9s\n",
      "275800K .......... .......... .......... .......... .......... 81%  109M 9s\n",
      "275850K .......... .......... .......... .......... .......... 81%  348M 9s\n",
      "275900K .......... .......... .......... .......... .......... 81%  390M 9s\n",
      "275950K .......... .......... .......... .......... .......... 81%  115M 9s\n",
      "276000K .......... .......... .......... .......... .......... 81%  501M 9s\n",
      "276050K .......... .......... .......... .......... .......... 81%  209M 9s\n",
      "276100K .......... .......... .......... .......... .......... 81%  428M 9s\n",
      "276150K .......... .......... .......... .......... .......... 81%  665M 9s\n",
      "276200K .......... .......... .......... .......... .......... 81%  465K 9s\n",
      "276250K .......... .......... .......... .......... .......... 81%  251M 9s\n",
      "276300K .......... .......... .......... .......... .......... 81%  243M 9s\n",
      "276350K .......... .......... .......... .......... .......... 81% 42.8M 9s\n",
      "276400K .......... .......... .......... .......... .......... 81%  520M 9s\n",
      "276450K .......... .......... .......... .......... .......... 81% 94.8M 9s\n",
      "276500K .......... .......... .......... .......... .......... 81%  643M 9s\n",
      "276550K .......... .......... .......... .......... .......... 81% 97.1M 9s\n",
      "276600K .......... .......... .......... .......... .......... 81%  543M 9s\n",
      "276650K .......... .......... .......... .......... .......... 81%  670M 9s\n",
      "276700K .......... .......... .......... .......... .......... 81%  221M 9s\n",
      "276750K .......... .......... .......... .......... .......... 81%  574M 9s\n",
      "276800K .......... .......... .......... .......... .......... 81%  464K 9s\n",
      "276850K .......... .......... .......... .......... .......... 81%  356M 9s\n",
      "276900K .......... .......... .......... .......... .......... 81%  364M 9s\n",
      "276950K .......... .......... .......... .......... .......... 81% 63.1M 9s\n",
      "277000K .......... .......... .......... .......... .......... 81%  641M 9s\n",
      "277050K .......... .......... .......... .......... .......... 82%  436M 9s\n",
      "277100K .......... .......... .......... .......... .......... 82% 86.3M 9s\n",
      "277150K .......... .......... .......... .......... .......... 82%  611M 9s\n",
      "277200K .......... .......... .......... .......... .......... 82%  547M 9s\n",
      "277250K .......... .......... .......... .......... .......... 82%  311M 9s\n",
      "277300K .......... .......... .......... .......... .......... 82%  649M 9s\n",
      "277350K .......... .......... .......... .......... .......... 82%  461M 9s\n",
      "277400K .......... .......... .......... .......... .......... 82%  462K 9s\n",
      "277450K .......... .......... .......... .......... .......... 82%  167M 9s\n",
      "277500K .......... .......... .......... .......... .......... 82%  333M 9s\n",
      "277550K .......... .......... .......... .......... .......... 82% 23.7M 8s\n",
      "277600K .......... .......... .......... .......... .......... 82%  151M 8s\n",
      "277650K .......... .......... .......... .......... .......... 82%  615M 8s\n",
      "277700K .......... .......... .......... .......... .......... 82% 78.8M 8s\n",
      "277750K .......... .......... .......... .......... .......... 82%  469M 8s\n",
      "277800K .......... .......... .......... .......... .......... 82%  562M 8s\n",
      "277850K .......... .......... .......... .......... .......... 82%  370M 8s\n",
      "277900K .......... .......... .......... .......... .......... 82%  497M 8s\n",
      "277950K .......... .......... .......... .......... .......... 82%  642M 8s\n",
      "278000K .......... .......... .......... .......... .......... 82%  469K 8s\n",
      "278050K .......... .......... .......... .......... .......... 82%  238M 8s\n",
      "278100K .......... .......... .......... .......... .......... 82%  328M 8s\n",
      "278150K .......... .......... .......... .......... .......... 82% 34.3M 8s\n",
      "278200K .......... .......... .......... .......... .......... 82%  186M 8s\n",
      "278250K .......... .......... .......... .......... .......... 82%  651M 8s\n",
      "278300K .......... .......... .......... .......... .......... 82%  518M 8s\n",
      "278350K .......... .......... .......... .......... .......... 82%  132M 8s\n",
      "278400K .......... .......... .......... .......... .......... 82%  541M 8s\n",
      "278450K .......... .......... .......... .......... .......... 82%  647M 8s\n",
      "278500K .......... .......... .......... .......... .......... 82%  405K 8s\n",
      "278550K .......... .......... .......... .......... .......... 82%  329M 8s\n",
      "278600K .......... .......... .......... .......... .......... 82% 94.5M 8s\n",
      "278650K .......... .......... .......... .......... .......... 82%  280M 8s\n",
      "278700K .......... .......... .......... .......... .......... 82%  368M 8s\n",
      "278750K .......... .......... .......... .......... .......... 82%  109M 8s\n",
      "278800K .......... .......... .......... .......... .......... 82%  388M 8s\n",
      "278850K .......... .......... .......... .......... .......... 82%  671M 8s\n",
      "278900K .......... .......... .......... .......... .......... 82%  664M 8s\n",
      "278950K .......... .......... .......... .......... .......... 82%  419M 8s\n",
      "279000K .......... .......... .......... .......... .......... 82%  525M 8s\n",
      "279050K .......... .......... .......... .......... .......... 82%  651M 8s\n",
      "279100K .......... .......... .......... .......... .......... 82%  462K 8s\n",
      "279150K .......... .......... .......... .......... .......... 82%  176M 8s\n",
      "279200K .......... .......... .......... .......... .......... 82%  243M 8s\n",
      "279250K .......... .......... .......... .......... .......... 82%  351M 8s\n",
      "279300K .......... .......... .......... .......... .......... 82%  229M 8s\n",
      "279350K .......... .......... .......... .......... .......... 82%  373M 8s\n",
      "279400K .......... .......... .......... .......... .......... 82%  229M 8s\n",
      "279450K .......... .......... .......... .......... .......... 82%  401M 8s\n",
      "279500K .......... .......... .......... .......... .......... 82%  657M 8s\n",
      "279550K .......... .......... .......... .......... .......... 82%  656M 8s\n",
      "279600K .......... .......... .......... .......... .......... 82%  317M 8s\n",
      "279650K .......... .......... .......... .......... .......... 82%  660M 8s\n",
      "279700K .......... .......... .......... .......... .......... 82%  431K 8s\n",
      "279750K .......... .......... .......... .......... .......... 82%  325M 8s\n",
      "279800K .......... .......... .......... .......... .......... 82%  271M 8s\n",
      "279850K .......... .......... .......... .......... .......... 82% 99.7M 8s\n",
      "279900K .......... .......... .......... .......... .......... 82%  301M 8s\n",
      "279950K .......... .......... .......... .......... .......... 82%  364M 8s\n",
      "280000K .......... .......... .......... .......... .......... 82%  362M 8s\n",
      "280050K .......... .......... .......... .......... .......... 82%  477M 8s\n",
      "280100K .......... .......... .......... .......... .......... 82%  502M 8s\n",
      "280150K .......... .......... .......... .......... .......... 82%  583M 8s\n",
      "280200K .......... .......... .......... .......... .......... 82%  578M 8s\n",
      "280250K .......... .......... .......... .......... .......... 82%  675M 8s\n",
      "280300K .......... .......... .......... .......... .......... 82%  657M 8s\n",
      "280350K .......... .......... .......... .......... .......... 82%  452K 8s\n",
      "280400K .......... .......... .......... .......... .......... 82% 72.2M 8s\n",
      "280450K .......... .......... .......... .......... .......... 83%  308M 8s\n",
      "280500K .......... .......... .......... .......... .......... 83%  359M 8s\n",
      "280550K .......... .......... .......... .......... .......... 83%  306M 8s\n",
      "280600K .......... .......... .......... .......... .......... 83%  458M 8s\n",
      "280650K .......... .......... .......... .......... .......... 83%  654M 8s\n",
      "280700K .......... .......... .......... .......... .......... 83%  577M 8s\n",
      "280750K .......... .......... .......... .......... .......... 83%  124M 8s\n",
      "280800K .......... .......... .......... .......... .......... 83%  546M 8s\n",
      "280850K .......... .......... .......... .......... .......... 83%  187M 8s\n",
      "280900K .......... .......... .......... .......... .......... 83%  614M 8s\n",
      "280950K .......... .......... .......... .......... .......... 83%  502K 8s\n",
      "281000K .......... .......... .......... .......... .......... 83% 72.7M 8s\n",
      "281050K .......... .......... .......... .......... .......... 83%  347M 8s\n",
      "281100K .......... .......... .......... .......... .......... 83% 99.3M 8s\n",
      "281150K .......... .......... .......... .......... .......... 83%  580M 8s\n",
      "281200K .......... .......... .......... .......... .......... 83%  315M 8s\n",
      "281250K .......... .......... .......... .......... .......... 83%  452K 8s\n",
      "281300K .......... .......... .......... .......... .......... 83%  104M 8s\n",
      "281350K .......... .......... .......... .......... .......... 83%  626M 8s\n",
      "281400K .......... .......... .......... .......... .......... 83%  631M 8s\n",
      "281450K .......... .......... .......... .......... .......... 83%  187M 8s\n",
      "281500K .......... .......... .......... .......... .......... 83%  627M 8s\n",
      "281550K .......... .......... .......... .......... .......... 83%  286M 8s\n",
      "281600K .......... .......... .......... .......... .......... 83%  497M 8s\n",
      "281650K .......... .......... .......... .......... .......... 83%  463K 8s\n",
      "281700K .......... .......... .......... .......... .......... 83% 41.5M 8s\n",
      "281750K .......... .......... .......... .......... .......... 83%  291M 8s\n",
      "281800K .......... .......... .......... .......... .......... 83%  144M 8s\n",
      "281850K .......... .......... .......... .......... .......... 83%  134M 8s\n",
      "281900K .......... .......... .......... .......... .......... 83%  609M 8s\n",
      "281950K .......... .......... .......... .......... .......... 83%  168M 8s\n",
      "282000K .......... .......... .......... .......... .......... 83%  500M 8s\n",
      "282050K .......... .......... .......... .......... .......... 83%  660M 8s\n",
      "282100K .......... .......... .......... .......... .......... 83%  458K 8s\n",
      "282150K .......... .......... .......... .......... .......... 83% 70.6M 8s\n",
      "282200K .......... .......... .......... .......... .......... 83%  178M 8s\n",
      "282250K .......... .......... .......... .......... .......... 83%  405M 8s\n",
      "282300K .......... .......... .......... .......... .......... 83%  428M 8s\n",
      "282350K .......... .......... .......... .......... .......... 83%  182M 8s\n",
      "282400K .......... .......... .......... .......... .......... 83%  118M 8s\n",
      "282450K .......... .......... .......... .......... .......... 83%  543M 8s\n",
      "282500K .......... .......... .......... .......... .......... 83%  467K 8s\n",
      "282550K .......... .......... .......... .......... .......... 83% 25.6M 8s\n",
      "282600K .......... .......... .......... .......... .......... 83%  409K 8s\n",
      "282650K .......... .......... .......... .......... .......... 83%  573M 8s\n",
      "282700K .......... .......... .......... .......... .......... 83%  220M 8s\n",
      "282750K .......... .......... .......... .......... .......... 83%  167M 8s\n",
      "282800K .......... .......... .......... .......... .......... 83%  130M 8s\n",
      "282850K .......... .......... .......... .......... .......... 83%  488M 8s\n",
      "282900K .......... .......... .......... .......... .......... 83% 43.5M 8s\n",
      "282950K .......... .......... .......... .......... .......... 83%  501M 8s\n",
      "283000K .......... .......... .......... .......... .......... 83%  461K 8s\n",
      "283050K .......... .......... .......... .......... .......... 83%  261M 8s\n",
      "283100K .......... .......... .......... .......... .......... 83%  244M 8s\n",
      "283150K .......... .......... .......... .......... .......... 83%  350M 8s\n",
      "283200K .......... .......... .......... .......... .......... 83%  102M 8s\n",
      "283250K .......... .......... .......... .......... .......... 83%  474M 8s\n",
      "283300K .......... .......... .......... .......... .......... 83%  547M 8s\n",
      "283350K .......... .......... .......... .......... .......... 83%  664M 8s\n",
      "283400K .......... .......... .......... .......... .......... 83%  587M 8s\n",
      "283450K .......... .......... .......... .......... .......... 83%  459K 8s\n",
      "283500K .......... .......... .......... .......... .......... 83% 62.6M 8s\n",
      "283550K .......... .......... .......... .......... .......... 83% 64.7M 8s\n",
      "283600K .......... .......... .......... .......... .......... 83%  245M 8s\n",
      "283650K .......... .......... .......... .......... .......... 83% 78.9M 8s\n",
      "283700K .......... .......... .......... .......... .......... 83%  424M 8s\n",
      "283750K .......... .......... .......... .......... .......... 83%  654M 8s\n",
      "283800K .......... .......... .......... .......... .......... 83%  582M 8s\n",
      "283850K .......... .......... .......... .......... .......... 84%  233M 8s\n",
      "283900K .......... .......... .......... .......... .......... 84%  463K 8s\n",
      "283950K .......... .......... .......... .......... .......... 84%  641M 8s\n",
      "284000K .......... .......... .......... .......... .......... 84%  523M 8s\n",
      "284050K .......... .......... .......... .......... .......... 84% 75.3M 8s\n",
      "284100K .......... .......... .......... .......... .......... 84%  369M 8s\n",
      "284150K .......... .......... .......... .......... .......... 84%  526M 8s\n",
      "284200K .......... .......... .......... .......... .......... 84%  561M 8s\n",
      "284250K .......... .......... .......... .......... .......... 84%  645M 8s\n",
      "284300K .......... .......... .......... .......... .......... 84%  457K 8s\n",
      "284350K .......... .......... .......... .......... .......... 84%  268M 8s\n",
      "284400K .......... .......... .......... .......... .......... 84%  435M 8s\n",
      "284450K .......... .......... .......... .......... .......... 84%  659M 8s\n",
      "284500K .......... .......... .......... .......... .......... 84% 44.5M 8s\n",
      "284550K .......... .......... .......... .......... .......... 84%  591M 8s\n",
      "284600K .......... .......... .......... .......... .......... 84%  344M 8s\n",
      "284650K .......... .......... .......... .......... .......... 84%  622M 8s\n",
      "284700K .......... .......... .......... .......... .......... 84%  630M 8s\n",
      "284750K .......... .......... .......... .......... .......... 84%  461K 8s\n",
      "284800K .......... .......... .......... .......... .......... 84%  261M 8s\n",
      "284850K .......... .......... .......... .......... .......... 84%  118M 8s\n",
      "284900K .......... .......... .......... .......... .......... 84%  331M 8s\n",
      "284950K .......... .......... .......... .......... .......... 84%  346M 8s\n",
      "285000K .......... .......... .......... .......... .......... 84%  342M 8s\n",
      "285050K .......... .......... .......... .......... .......... 84%  627M 8s\n",
      "285100K .......... .......... .......... .......... .......... 84%  643M 8s\n",
      "285150K .......... .......... .......... .......... .......... 84%  456K 8s\n",
      "285200K .......... .......... .......... .......... .......... 84%  279M 8s\n",
      "285250K .......... .......... .......... .......... .......... 84%  187M 8s\n",
      "285300K .......... .......... .......... .......... .......... 84%  352M 8s\n",
      "285350K .......... .......... .......... .......... .......... 84%  240M 8s\n",
      "285400K .......... .......... .......... .......... .......... 84%  330M 8s\n",
      "285450K .......... .......... .......... .......... .......... 84%  372M 8s\n",
      "285500K .......... .......... .......... .......... .......... 84%  521M 8s\n",
      "285550K .......... .......... .......... .......... .......... 84%  652M 8s\n",
      "285600K .......... .......... .......... .......... .......... 84%  457K 8s\n",
      "285650K .......... .......... .......... .......... .......... 84%  278M 8s\n",
      "285700K .......... .......... .......... .......... .......... 84% 24.3M 8s\n",
      "285750K .......... .......... .......... .......... .......... 84%  555M 7s\n",
      "285800K .......... .......... .......... .......... .......... 84%  408M 7s\n",
      "285850K .......... .......... .......... .......... .......... 84%  478M 7s\n",
      "285900K .......... .......... .......... .......... .......... 84%  615M 7s\n",
      "285950K .......... .......... .......... .......... .......... 84%  176M 7s\n",
      "286000K .......... .......... .......... .......... .......... 84%  465K 7s\n",
      "286050K .......... .......... .......... .......... .......... 84%  308M 7s\n",
      "286100K .......... .......... .......... .......... .......... 84%  321M 7s\n",
      "286150K .......... .......... .......... .......... .......... 84%  205M 7s\n",
      "286200K .......... .......... .......... .......... .......... 84%  344M 7s\n",
      "286250K .......... .......... .......... .......... .......... 84%  328M 7s\n",
      "286300K .......... .......... .......... .......... .......... 84%  173M 7s\n",
      "286350K .......... .......... .......... .......... .......... 84%  487M 7s\n",
      "286400K .......... .......... .......... .......... .......... 84%  123M 7s\n",
      "286450K .......... .......... .......... .......... .......... 84%  460K 7s\n",
      "286500K .......... .......... .......... .......... .......... 84%  176M 7s\n",
      "286550K .......... .......... .......... .......... .......... 84%  272M 7s\n",
      "286600K .......... .......... .......... .......... .......... 84%  325M 7s\n",
      "286650K .......... .......... .......... .......... .......... 84%  193M 7s\n",
      "286700K .......... .......... .......... .......... .......... 84%  407K 7s\n",
      "286750K .......... .......... .......... .......... .......... 84%  195M 7s\n",
      "286800K .......... .......... .......... .......... .......... 84%  225M 7s\n",
      "286850K .......... .......... .......... .......... .......... 84%  221M 7s\n",
      "286900K .......... .......... .......... .......... .......... 84%  355M 7s\n",
      "286950K .......... .......... .......... .......... .......... 84%  432M 7s\n",
      "287000K .......... .......... .......... .......... .......... 84%  571M 7s\n",
      "287050K .......... .......... .......... .......... .......... 84%  666M 7s\n",
      "287100K .......... .......... .......... .......... .......... 84%  637M 7s\n",
      "287150K .......... .......... .......... .......... .......... 84%  456K 7s\n",
      "287200K .......... .......... .......... .......... .......... 85%  273M 7s\n",
      "287250K .......... .......... .......... .......... .......... 85%  160M 7s\n",
      "287300K .......... .......... .......... .......... .......... 85%  163M 7s\n",
      "287350K .......... .......... .......... .......... .......... 85%  330M 7s\n",
      "287400K .......... .......... .......... .......... .......... 85%  253M 7s\n",
      "287450K .......... .......... .......... .......... .......... 85%  633M 7s\n",
      "287500K .......... .......... .......... .......... .......... 85%  649M 7s\n",
      "287550K .......... .......... .......... .......... .......... 85%  460K 7s\n",
      "287600K .......... .......... .......... .......... .......... 85%  171M 7s\n",
      "287650K .......... .......... .......... .......... .......... 85%  317M 7s\n",
      "287700K .......... .......... .......... .......... .......... 85%  138M 7s\n",
      "287750K .......... .......... .......... .......... .......... 85%  303M 7s\n",
      "287800K .......... .......... .......... .......... .......... 85%  166M 7s\n",
      "287850K .......... .......... .......... .......... .......... 85%  513M 7s\n",
      "287900K .......... .......... .......... .......... .......... 85%  415M 7s\n",
      "287950K .......... .......... .......... .......... .......... 85%  602M 7s\n",
      "288000K .......... .......... .......... .......... .......... 85%  453K 7s\n",
      "288050K .......... .......... .......... .......... .......... 85%  158M 7s\n",
      "288100K .......... .......... .......... .......... .......... 85% 75.1M 7s\n",
      "288150K .......... .......... .......... .......... .......... 85%  153M 7s\n",
      "288200K .......... .......... .......... .......... .......... 85%  205M 7s\n",
      "288250K .......... .......... .......... .......... .......... 85%  658M 7s\n",
      "288300K .......... .......... .......... .......... .......... 85%  654M 7s\n",
      "288350K .......... .......... .......... .......... .......... 85%  658M 7s\n",
      "288400K .......... .......... .......... .......... .......... 85%  528M 7s\n",
      "288450K .......... .......... .......... .......... .......... 85%  465K 7s\n",
      "288500K .......... .......... .......... .......... .......... 85%  258M 7s\n",
      "288550K .......... .......... .......... .......... .......... 85% 60.5M 7s\n",
      "288600K .......... .......... .......... .......... .......... 85%  404M 7s\n",
      "288650K .......... .......... .......... .......... .......... 85%  645M 7s\n",
      "288700K .......... .......... .......... .......... .......... 85%  611M 7s\n",
      "288750K .......... .......... .......... .......... .......... 85%  256M 7s\n",
      "288800K .......... .......... .......... .......... .......... 85%  526M 7s\n",
      "288850K .......... .......... .......... .......... .......... 85%  459K 7s\n",
      "288900K .......... .......... .......... .......... .......... 85%  188M 7s\n",
      "288950K .......... .......... .......... .......... .......... 85% 65.3M 7s\n",
      "289000K .......... .......... .......... .......... .......... 85%  129M 7s\n",
      "289050K .......... .......... .......... .......... .......... 85%  626M 7s\n",
      "289100K .......... .......... .......... .......... .......... 85%  649M 7s\n",
      "289150K .......... .......... .......... .......... .......... 85%  646M 7s\n",
      "289200K .......... .......... .......... .......... .......... 85%  535M 7s\n",
      "289250K .......... .......... .......... .......... .......... 85%  655M 7s\n",
      "289300K .......... .......... .......... .......... .......... 85%  459K 7s\n",
      "289350K .......... .......... .......... .......... .......... 85%  325M 7s\n",
      "289400K .......... .......... .......... .......... .......... 85%  168M 7s\n",
      "289450K .......... .......... .......... .......... .......... 85%  256M 7s\n",
      "289500K .......... .......... .......... .......... .......... 85%  660M 7s\n",
      "289550K .......... .......... .......... .......... .......... 85%  657M 7s\n",
      "289600K .......... .......... .......... .......... .......... 85%  389M 7s\n",
      "289650K .......... .......... .......... .......... .......... 85%  566M 7s\n",
      "289700K .......... .......... .......... .......... .......... 85%  673M 7s\n",
      "289750K .......... .......... .......... .......... .......... 85%  457K 7s\n",
      "289800K .......... .......... .......... .......... .......... 85%  106M 7s\n",
      "289850K .......... .......... .......... .......... .......... 85%  164M 7s\n",
      "289900K .......... .......... .......... .......... .......... 85%  248M 7s\n",
      "289950K .......... .......... .......... .......... .......... 85%  525M 7s\n",
      "290000K .......... .......... .......... .......... .......... 85%  550M 7s\n",
      "290050K .......... .......... .......... .......... .......... 85%  638M 7s\n",
      "290100K .......... .......... .......... .......... .......... 85%  640M 7s\n",
      "290150K .......... .......... .......... .......... .......... 85%  647M 7s\n",
      "290200K .......... .......... .......... .......... .......... 85%  458K 7s\n",
      "290250K .......... .......... .......... .......... .......... 85%  168M 7s\n",
      "290300K .......... .......... .......... .......... .......... 85%  209M 7s\n",
      "290350K .......... .......... .......... .......... .......... 85%  523M 7s\n",
      "290400K .......... .......... .......... .......... .......... 85%  558M 7s\n",
      "290450K .......... .......... .......... .......... .......... 85%  487M 7s\n",
      "290500K .......... .......... .......... .......... .......... 85%  458M 7s\n",
      "290550K .......... .......... .......... .......... .......... 85%  596M 7s\n",
      "290600K .......... .......... .......... .......... .......... 86%  615M 7s\n",
      "290650K .......... .......... .......... .......... .......... 86%  456K 7s\n",
      "290700K .......... .......... .......... .......... .......... 86%  165M 7s\n",
      "290750K .......... .......... .......... .......... .......... 86%  341M 7s\n",
      "290800K .......... .......... .......... .......... .......... 86%  401K 7s\n",
      "290850K .......... .......... .......... .......... .......... 86%  610M 7s\n",
      "290900K .......... .......... .......... .......... .......... 86%  106M 7s\n",
      "290950K .......... .......... .......... .......... .......... 86%  484M 7s\n",
      "291000K .......... .......... .......... .......... .......... 86%  535M 7s\n",
      "291050K .......... .......... .......... .......... .......... 86%  279M 7s\n",
      "291100K .......... .......... .......... .......... .......... 86%  501M 7s\n",
      "291150K .......... .......... .......... .......... .......... 86%  635M 7s\n",
      "291200K .......... .......... .......... .......... .......... 86%  518M 7s\n",
      "291250K .......... .......... .......... .......... .......... 86%  463K 7s\n",
      "291300K .......... .......... .......... .......... .......... 86%  169M 7s\n",
      "291350K .......... .......... .......... .......... .......... 86% 22.5M 7s\n",
      "291400K .......... .......... .......... .......... .......... 86%  142M 7s\n",
      "291450K .......... .......... .......... .......... .......... 86%  183M 7s\n",
      "291500K .......... .......... .......... .......... .......... 86%  374M 7s\n",
      "291550K .......... .......... .......... .......... .......... 86%  460M 7s\n",
      "291600K .......... .......... .......... .......... .......... 86%  547M 7s\n",
      "291650K .......... .......... .......... .......... .......... 86%  620M 7s\n",
      "291700K .......... .......... .......... .......... .......... 86%  467K 7s\n",
      "291750K .......... .......... .......... .......... .......... 86%  212M 7s\n",
      "291800K .......... .......... .......... .......... .......... 86% 57.5M 7s\n",
      "291850K .......... .......... .......... .......... .......... 86%  200M 7s\n",
      "291900K .......... .......... .......... .......... .......... 86%  160M 7s\n",
      "291950K .......... .......... .......... .......... .......... 86%  659M 7s\n",
      "292000K .......... .......... .......... .......... .......... 86%  531M 7s\n",
      "292050K .......... .......... .......... .......... .......... 86%  664M 7s\n",
      "292100K .......... .......... .......... .......... .......... 86%  559M 7s\n",
      "292150K .......... .......... .......... .......... .......... 86%  416K 7s\n",
      "292200K .......... .......... .......... .......... .......... 86%  230M 7s\n",
      "292250K .......... .......... .......... .......... .......... 86%  283M 7s\n",
      "292300K .......... .......... .......... .......... .......... 86%  246M 7s\n",
      "292350K .......... .......... .......... .......... .......... 86%  397M 7s\n",
      "292400K .......... .......... .......... .......... .......... 86%  535M 7s\n",
      "292450K .......... .......... .......... .......... .......... 86%  660M 7s\n",
      "292500K .......... .......... .......... .......... .......... 86%  649M 7s\n",
      "292550K .......... .......... .......... .......... .......... 86%  649M 7s\n",
      "292600K .......... .......... .......... .......... .......... 86%  510K 7s\n",
      "292650K .......... .......... .......... .......... .......... 86%  356M 7s\n",
      "292700K .......... .......... .......... .......... .......... 86%  367M 7s\n",
      "292750K .......... .......... .......... .......... .......... 86%  130M 7s\n",
      "292800K .......... .......... .......... .......... .......... 86%  171M 7s\n",
      "292850K .......... .......... .......... .......... .......... 86%  324M 7s\n",
      "292900K .......... .......... .......... .......... .......... 86% 93.0M 7s\n",
      "292950K .......... .......... .......... .......... .......... 86%  644M 7s\n",
      "293000K .......... .......... .......... .......... .......... 86%  393M 7s\n",
      "293050K .......... .......... .......... .......... .......... 86%  463K 7s\n",
      "293100K .......... .......... .......... .......... .......... 86% 76.2M 7s\n",
      "293150K .......... .......... .......... .......... .......... 86%  500M 7s\n",
      "293200K .......... .......... .......... .......... .......... 86% 34.2M 7s\n",
      "293250K .......... .......... .......... .......... .......... 86%  624M 7s\n",
      "293300K .......... .......... .......... .......... .......... 86%  166M 7s\n",
      "293350K .......... .......... .......... .......... .......... 86%  519M 7s\n",
      "293400K .......... .......... .......... .......... .......... 86%  176M 7s\n",
      "293450K .......... .......... .......... .......... .......... 86%  622M 7s\n",
      "293500K .......... .......... .......... .......... .......... 86%  644M 7s\n",
      "293550K .......... .......... .......... .......... .......... 86%  464K 7s\n",
      "293600K .......... .......... .......... .......... .......... 86%  231M 7s\n",
      "293650K .......... .......... .......... .......... .......... 86% 74.4M 7s\n",
      "293700K .......... .......... .......... .......... .......... 86%  163M 7s\n",
      "293750K .......... .......... .......... .......... .......... 86%  115M 6s\n",
      "293800K .......... .......... .......... .......... .......... 86%  544M 6s\n",
      "293850K .......... .......... .......... .......... .......... 86%  211M 6s\n",
      "293900K .......... .......... .......... .......... .......... 86%  457M 6s\n",
      "293950K .......... .......... .......... .......... .......... 87%  663M 6s\n",
      "294000K .......... .......... .......... .......... .......... 87%  461K 6s\n",
      "294050K .......... .......... .......... .......... .......... 87%  326M 6s\n",
      "294100K .......... .......... .......... .......... .......... 87%  102M 6s\n",
      "294150K .......... .......... .......... .......... .......... 87%  163M 6s\n",
      "294200K .......... .......... .......... .......... .......... 87% 13.1M 6s\n",
      "294250K .......... .......... .......... .......... .......... 87% 69.1M 6s\n",
      "294300K .......... .......... .......... .......... .......... 87%  302M 6s\n",
      "294350K .......... .......... .......... .......... .......... 87%  225M 6s\n",
      "294400K .......... .......... .......... .......... .......... 87% 39.5M 6s\n",
      "294450K .......... .......... .......... .......... .......... 87%  480K 6s\n",
      "294500K .......... .......... .......... .......... .......... 87%  318M 6s\n",
      "294550K .......... .......... .......... .......... .......... 87%  499M 6s\n",
      "294600K .......... .......... .......... .......... .......... 87% 87.5M 6s\n",
      "294650K .......... .......... .......... .......... .......... 87%  333M 6s\n",
      "294700K .......... .......... .......... .......... .......... 87%  222M 6s\n",
      "294750K .......... .......... .......... .......... .......... 87%  652M 6s\n",
      "294800K .......... .......... .......... .......... .......... 87%  372M 6s\n",
      "294850K .......... .......... .......... .......... .......... 87%  614M 6s\n",
      "294900K .......... .......... .......... .......... .......... 87%  404K 6s\n",
      "294950K .......... .......... .......... .......... .......... 87%  330M 6s\n",
      "295000K .......... .......... .......... .......... .......... 87%  202M 6s\n",
      "295050K .......... .......... .......... .......... .......... 87%  305M 6s\n",
      "295100K .......... .......... .......... .......... .......... 87%  273M 6s\n",
      "295150K .......... .......... .......... .......... .......... 87%  291M 6s\n",
      "295200K .......... .......... .......... .......... .......... 87%  357M 6s\n",
      "295250K .......... .......... .......... .......... .......... 87%  582M 6s\n",
      "295300K .......... .......... .......... .......... .......... 87%  632M 6s\n",
      "295350K .......... .......... .......... .......... .......... 87%  465K 6s\n",
      "295400K .......... .......... .......... .......... .......... 87%  386M 6s\n",
      "295450K .......... .......... .......... .......... .......... 87%  362M 6s\n",
      "295500K .......... .......... .......... .......... .......... 87%  503M 6s\n",
      "295550K .......... .......... .......... .......... .......... 87%  647M 6s\n",
      "295600K .......... .......... .......... .......... .......... 87%  351M 6s\n",
      "295650K .......... .......... .......... .......... .......... 87%  530M 6s\n",
      "295700K .......... .......... .......... .......... .......... 87%  207M 6s\n",
      "295750K .......... .......... .......... .......... .......... 87%  658M 6s\n",
      "295800K .......... .......... .......... .......... .......... 87%  590M 6s\n",
      "295850K .......... .......... .......... .......... .......... 87%  456K 6s\n",
      "295900K .......... .......... .......... .......... .......... 87%  339M 6s\n",
      "295950K .......... .......... .......... .......... .......... 87%  299M 6s\n",
      "296000K .......... .......... .......... .......... .......... 87%  249M 6s\n",
      "296050K .......... .......... .......... .......... .......... 87%  455M 6s\n",
      "296100K .......... .......... .......... .......... .......... 87%  645M 6s\n",
      "296150K .......... .......... .......... .......... .......... 87%  641M 6s\n",
      "296200K .......... .......... .......... .......... .......... 87%  582M 6s\n",
      "296250K .......... .......... .......... .......... .......... 87%  638M 6s\n",
      "296300K .......... .......... .......... .......... .......... 87%  450K 6s\n",
      "296350K .......... .......... .......... .......... .......... 87%  263M 6s\n",
      "296400K .......... .......... .......... .......... .......... 87%  337M 6s\n",
      "296450K .......... .......... .......... .......... .......... 87%  421M 6s\n",
      "296500K .......... .......... .......... .......... .......... 87%  425M 6s\n",
      "296550K .......... .......... .......... .......... .......... 87%  641M 6s\n",
      "296600K .......... .......... .......... .......... .......... 87%  598M 6s\n",
      "296650K .......... .......... .......... .......... .......... 87%  665M 6s\n",
      "296700K .......... .......... .......... .......... .......... 87%  674M 6s\n",
      "296750K .......... .......... .......... .......... .......... 87%  660M 6s\n",
      "296800K .......... .......... .......... .......... .......... 87%  463K 6s\n",
      "296850K .......... .......... .......... .......... .......... 87% 79.4M 6s\n",
      "296900K .......... .......... .......... .......... .......... 87%  439M 6s\n",
      "296950K .......... .......... .......... .......... .......... 87%  365M 6s\n",
      "297000K .......... .......... .......... .......... .......... 87%  325M 6s\n",
      "297050K .......... .......... .......... .......... .......... 87%  502M 6s\n",
      "297100K .......... .......... .......... .......... .......... 87%  642M 6s\n",
      "297150K .......... .......... .......... .......... .......... 87%  648M 6s\n",
      "297200K .......... .......... .......... .......... .......... 87%  543M 6s\n",
      "297250K .......... .......... .......... .......... .......... 87%  459K 6s\n",
      "297300K .......... .......... .......... .......... .......... 87%  204M 6s\n",
      "297350K .......... .......... .......... .......... .......... 88%  247M 6s\n",
      "297400K .......... .......... .......... .......... .......... 88%  134M 6s\n",
      "297450K .......... .......... .......... .......... .......... 88%  324M 6s\n",
      "297500K .......... .......... .......... .......... .......... 88%  310M 6s\n",
      "297550K .......... .......... .......... .......... .......... 88%  497M 6s\n",
      "297600K .......... .......... .......... .......... .......... 88%  366M 6s\n",
      "297650K .......... .......... .......... .......... .......... 88%  655M 6s\n",
      "297700K .......... .......... .......... .......... .......... 88%  629M 6s\n",
      "297750K .......... .......... .......... .......... .......... 88%  456K 6s\n",
      "297800K .......... .......... .......... .......... .......... 88%  258M 6s\n",
      "297850K .......... .......... .......... .......... .......... 88%  366M 6s\n",
      "297900K .......... .......... .......... .......... .......... 88%  158M 6s\n",
      "297950K .......... .......... .......... .......... .......... 88%  350M 6s\n",
      "298000K .......... .......... .......... .......... .......... 88%  192M 6s\n",
      "298050K .......... .......... .......... .......... .......... 88%  569M 6s\n",
      "298100K .......... .......... .......... .......... .......... 88%  658M 6s\n",
      "298150K .......... .......... .......... .......... .......... 88%  624M 6s\n",
      "298200K .......... .......... .......... .......... .......... 88%  457K 6s\n",
      "298250K .......... .......... .......... .......... .......... 88%  196M 6s\n",
      "298300K .......... .......... .......... .......... .......... 88%  201M 6s\n",
      "298350K .......... .......... .......... .......... .......... 88%  371M 6s\n",
      "298400K .......... .......... .......... .......... .......... 88%  203M 6s\n",
      "298450K .......... .......... .......... .......... .......... 88%  223M 6s\n",
      "298500K .......... .......... .......... .......... .......... 88%  276M 6s\n",
      "298550K .......... .......... .......... .......... .......... 88%  603M 6s\n",
      "298600K .......... .......... .......... .......... .......... 88%  581M 6s\n",
      "298650K .......... .......... .......... .......... .......... 88%  647M 6s\n",
      "298700K .......... .......... .......... .......... .......... 88%  459K 6s\n",
      "298750K .......... .......... .......... .......... .......... 88%  273M 6s\n",
      "298800K .......... .......... .......... .......... .......... 88%  186M 6s\n",
      "298850K .......... .......... .......... .......... .......... 88%  358M 6s\n",
      "298900K .......... .......... .......... .......... .......... 88%  354M 6s\n",
      "298950K .......... .......... .......... .......... .......... 88%  328M 6s\n",
      "299000K .......... .......... .......... .......... .......... 88%  410K 6s\n",
      "299050K .......... .......... .......... .......... .......... 88%  355M 6s\n",
      "299100K .......... .......... .......... .......... .......... 88%  192M 6s\n",
      "299150K .......... .......... .......... .......... .......... 88%  182M 6s\n",
      "299200K .......... .......... .......... .......... .......... 88%  361M 6s\n",
      "299250K .......... .......... .......... .......... .......... 88%  428M 6s\n",
      "299300K .......... .......... .......... .......... .......... 88%  507M 6s\n",
      "299350K .......... .......... .......... .......... .......... 88%  499M 6s\n",
      "299400K .......... .......... .......... .......... .......... 88%  557M 6s\n",
      "299450K .......... .......... .......... .......... .......... 88%  459K 6s\n",
      "299500K .......... .......... .......... .......... .......... 88%  225M 6s\n",
      "299550K .......... .......... .......... .......... .......... 88%  125M 6s\n",
      "299600K .......... .......... .......... .......... .......... 88%  268M 6s\n",
      "299650K .......... .......... .......... .......... .......... 88%  217M 6s\n",
      "299700K .......... .......... .......... .......... .......... 88%  552M 6s\n",
      "299750K .......... .......... .......... .......... .......... 88%  467M 6s\n",
      "299800K .......... .......... .......... .......... .......... 88%  448M 6s\n",
      "299850K .......... .......... .......... .......... .......... 88%  633M 6s\n",
      "299900K .......... .......... .......... .......... .......... 88%  613M 6s\n",
      "299950K .......... .......... .......... .......... .......... 88%  457K 6s\n",
      "300000K .......... .......... .......... .......... .......... 88%  154M 6s\n",
      "300050K .......... .......... .......... .......... .......... 88%  228M 6s\n",
      "300100K .......... .......... .......... .......... .......... 88%  324M 6s\n",
      "300150K .......... .......... .......... .......... .......... 88%  369M 6s\n",
      "300200K .......... .......... .......... .......... .......... 88% 51.0M 6s\n",
      "300250K .......... .......... .......... .......... .......... 88%  532M 6s\n",
      "300300K .......... .......... .......... .......... .......... 88%  556M 6s\n",
      "300350K .......... .......... .......... .......... .......... 88%  503M 6s\n",
      "300400K .......... .......... .......... .......... .......... 88%  520M 6s\n",
      "300450K .......... .......... .......... .......... .......... 88%  454K 6s\n",
      "300500K .......... .......... .......... .......... .......... 88%  255M 6s\n",
      "300550K .......... .......... .......... .......... .......... 88%  225M 6s\n",
      "300600K .......... .......... .......... .......... .......... 88%  251M 6s\n",
      "300650K .......... .......... .......... .......... .......... 88%  380M 6s\n",
      "300700K .......... .......... .......... .......... .......... 89%  324M 6s\n",
      "300750K .......... .......... .......... .......... .......... 89%  425M 6s\n",
      "300800K .......... .......... .......... .......... .......... 89%  543M 6s\n",
      "300850K .......... .......... .......... .......... .......... 89%  661M 6s\n",
      "300900K .......... .......... .......... .......... .......... 89%  666M 6s\n",
      "300950K .......... .......... .......... .......... .......... 89%  463K 6s\n",
      "301000K .......... .......... .......... .......... .......... 89%  170M 6s\n",
      "301050K .......... .......... .......... .......... .......... 89%  241M 6s\n",
      "301100K .......... .......... .......... .......... .......... 89%  321M 5s\n",
      "301150K .......... .......... .......... .......... .......... 89%  628M 5s\n",
      "301200K .......... .......... .......... .......... .......... 89%  330M 5s\n",
      "301250K .......... .......... .......... .......... .......... 89%  634M 5s\n",
      "301300K .......... .......... .......... .......... .......... 89%  660M 5s\n",
      "301350K .......... .......... .......... .......... .......... 89%  633M 5s\n",
      "301400K .......... .......... .......... .......... .......... 89%  458K 5s\n",
      "301450K .......... .......... .......... .......... .......... 89%  338M 5s\n",
      "301500K .......... .......... .......... .......... .......... 89%  192M 5s\n",
      "301550K .......... .......... .......... .......... .......... 89%  335M 5s\n",
      "301600K .......... .......... .......... .......... .......... 89%  398M 5s\n",
      "301650K .......... .......... .......... .......... .......... 89%  668M 5s\n",
      "301700K .......... .......... .......... .......... .......... 89%  597M 5s\n",
      "301750K .......... .......... .......... .......... .......... 89%  217M 5s\n",
      "301800K .......... .......... .......... .......... .......... 89%  266M 5s\n",
      "301850K .......... .......... .......... .......... .......... 89%  648M 5s\n",
      "301900K .......... .......... .......... .......... .......... 89%  457K 5s\n",
      "301950K .......... .......... .......... .......... .......... 89%  262M 5s\n",
      "302000K .......... .......... .......... .......... .......... 89%  294M 5s\n",
      "302050K .......... .......... .......... .......... .......... 89%  138M 5s\n",
      "302100K .......... .......... .......... .......... .......... 89%  465M 5s\n",
      "302150K .......... .......... .......... .......... .......... 89%  411M 5s\n",
      "302200K .......... .......... .......... .......... .......... 89%  366M 5s\n",
      "302250K .......... .......... .......... .......... .......... 89%  604M 5s\n",
      "302300K .......... .......... .......... .......... .......... 89%  649M 5s\n",
      "302350K .......... .......... .......... .......... .......... 89%  626M 5s\n",
      "302400K .......... .......... .......... .......... .......... 89%  458K 5s\n",
      "302450K .......... .......... .......... .......... .......... 89%  246M 5s\n",
      "302500K .......... .......... .......... .......... .......... 89%  219M 5s\n",
      "302550K .......... .......... .......... .......... .......... 89%  299M 5s\n",
      "302600K .......... .......... .......... .......... .......... 89%  260M 5s\n",
      "302650K .......... .......... .......... .......... .......... 89%  381M 5s\n",
      "302700K .......... .......... .......... .......... .......... 89%  206M 5s\n",
      "302750K .......... .......... .......... .......... .......... 89%  311M 5s\n",
      "302800K .......... .......... .......... .......... .......... 89%  450M 5s\n",
      "302850K .......... .......... .......... .......... .......... 89%  632M 5s\n",
      "302900K .......... .......... .......... .......... .......... 89%  458K 5s\n",
      "302950K .......... .......... .......... .......... .......... 89%  197M 5s\n",
      "303000K .......... .......... .......... .......... .......... 89%  312M 5s\n",
      "303050K .......... .......... .......... .......... .......... 89%  324M 5s\n",
      "303100K .......... .......... .......... .......... .......... 89%  408K 5s\n",
      "303150K .......... .......... .......... .......... .......... 89%  360M 5s\n",
      "303200K .......... .......... .......... .......... .......... 89%  376M 5s\n",
      "303250K .......... .......... .......... .......... .......... 89%  471M 5s\n",
      "303300K .......... .......... .......... .......... .......... 89%  438M 5s\n",
      "303350K .......... .......... .......... .......... .......... 89%  471M 5s\n",
      "303400K .......... .......... .......... .......... .......... 89%  468M 5s\n",
      "303450K .......... .......... .......... .......... .......... 89%  664M 5s\n",
      "303500K .......... .......... .......... .......... .......... 89%  683M 5s\n",
      "303550K .......... .......... .......... .......... .......... 89%  676M 5s\n",
      "303600K .......... .......... .......... .......... .......... 89%  458K 5s\n",
      "303650K .......... .......... .......... .......... .......... 89%  336M 5s\n",
      "303700K .......... .......... .......... .......... .......... 89%  642M 5s\n",
      "303750K .......... .......... .......... .......... .......... 89%  651M 5s\n",
      "303800K .......... .......... .......... .......... .......... 89% 47.7M 5s\n",
      "303850K .......... .......... .......... .......... .......... 89%  627M 5s\n",
      "303900K .......... .......... .......... .......... .......... 89%  347M 5s\n",
      "303950K .......... .......... .......... .......... .......... 89%  484M 5s\n",
      "304000K .......... .......... .......... .......... .......... 89%  526M 5s\n",
      "304050K .......... .......... .......... .......... .......... 89%  461K 5s\n",
      "304100K .......... .......... .......... .......... .......... 90%  305M 5s\n",
      "304150K .......... .......... .......... .......... .......... 90%  169M 5s\n",
      "304200K .......... .......... .......... .......... .......... 90%  266M 5s\n",
      "304250K .......... .......... .......... .......... .......... 90%  200M 5s\n",
      "304300K .......... .......... .......... .......... .......... 90%  340M 5s\n",
      "304350K .......... .......... .......... .......... .......... 90%  429M 5s\n",
      "304400K .......... .......... .......... .......... .......... 90%  534M 5s\n",
      "304450K .......... .......... .......... .......... .......... 90%  614M 5s\n",
      "304500K .......... .......... .......... .......... .......... 90%  649M 5s\n",
      "304550K .......... .......... .......... .......... .......... 90%  458K 5s\n",
      "304600K .......... .......... .......... .......... .......... 90%  244M 5s\n",
      "304650K .......... .......... .......... .......... .......... 90%  367M 5s\n",
      "304700K .......... .......... .......... .......... .......... 90%  307M 5s\n",
      "304750K .......... .......... .......... .......... .......... 90%  478M 5s\n",
      "304800K .......... .......... .......... .......... .......... 90%  428M 5s\n",
      "304850K .......... .......... .......... .......... .......... 90%  167M 5s\n",
      "304900K .......... .......... .......... .......... .......... 90%  446M 5s\n",
      "304950K .......... .......... .......... .......... .......... 90%  602M 5s\n",
      "305000K .......... .......... .......... .......... .......... 90%  615M 5s\n",
      "305050K .......... .......... .......... .......... .......... 90%  458K 5s\n",
      "305100K .......... .......... .......... .......... .......... 90% 81.0M 5s\n",
      "305150K .......... .......... .......... .......... .......... 90%  124M 5s\n",
      "305200K .......... .......... .......... .......... .......... 90%  394M 5s\n",
      "305250K .......... .......... .......... .......... .......... 90%  432M 5s\n",
      "305300K .......... .......... .......... .......... .......... 90%  649M 5s\n",
      "305350K .......... .......... .......... .......... .......... 90%  661M 5s\n",
      "305400K .......... .......... .......... .......... .......... 90%  172M 5s\n",
      "305450K .......... .......... .......... .......... .......... 90%  604M 5s\n",
      "305500K .......... .......... .......... .......... .......... 90%  664M 5s\n",
      "305550K .......... .......... .......... .......... .......... 90%  461K 5s\n",
      "305600K .......... .......... .......... .......... .......... 90% 48.2M 5s\n",
      "305650K .......... .......... .......... .......... .......... 90%  603M 5s\n",
      "305700K .......... .......... .......... .......... .......... 90%  538M 5s\n",
      "305750K .......... .......... .......... .......... .......... 90%  210M 5s\n",
      "305800K .......... .......... .......... .......... .......... 90%  387M 5s\n",
      "305850K .......... .......... .......... .......... .......... 90%  663M 5s\n",
      "305900K .......... .......... .......... .......... .......... 90%  439M 5s\n",
      "305950K .......... .......... .......... .......... .......... 90%  628M 5s\n",
      "306000K .......... .......... .......... .......... .......... 90%  453K 5s\n",
      "306050K .......... .......... .......... .......... .......... 90% 89.1M 5s\n",
      "306100K .......... .......... .......... .......... .......... 90%  479M 5s\n",
      "306150K .......... .......... .......... .......... .......... 90%  652M 5s\n",
      "306200K .......... .......... .......... .......... .......... 90%  121M 5s\n",
      "306250K .......... .......... .......... .......... .......... 90%  645M 5s\n",
      "306300K .......... .......... .......... .......... .......... 90%  597M 5s\n",
      "306350K .......... .......... .......... .......... .......... 90%  456K 5s\n",
      "306400K .......... .......... .......... .......... .......... 90%  192M 5s\n",
      "306450K .......... .......... .......... .......... .......... 90%  249M 5s\n",
      "306500K .......... .......... .......... .......... .......... 90%  416M 5s\n",
      "306550K .......... .......... .......... .......... .......... 90%  650M 5s\n",
      "306600K .......... .......... .......... .......... .......... 90%  422M 5s\n",
      "306650K .......... .......... .......... .......... .......... 90%  553M 5s\n",
      "306700K .......... .......... .......... .......... .......... 90%  451K 5s\n",
      "306750K .......... .......... .......... .......... .......... 90%  230M 5s\n",
      "306800K .......... .......... .......... .......... .......... 90%  302M 5s\n",
      "306850K .......... .......... .......... .......... .......... 90%  375M 5s\n",
      "306900K .......... .......... .......... .......... .......... 90%  375M 5s\n",
      "306950K .......... .......... .......... .......... .......... 90%  359M 5s\n",
      "307000K .......... .......... .......... .......... .......... 90%  439M 5s\n",
      "307050K .......... .......... .......... .......... .......... 90%  457K 5s\n",
      "307100K .......... .......... .......... .......... .......... 90%  558M 5s\n",
      "307150K .......... .......... .......... .......... .......... 90%  514M 5s\n",
      "307200K .......... .......... .......... .......... .......... 90%  402K 5s\n",
      "307250K .......... .......... .......... .......... .......... 90%  270M 5s\n",
      "307300K .......... .......... .......... .......... .......... 90%  289M 5s\n",
      "307350K .......... .......... .......... .......... .......... 90%  243M 5s\n",
      "307400K .......... .......... .......... .......... .......... 90%  207M 5s\n",
      "307450K .......... .......... .......... .......... .......... 90%  354M 5s\n",
      "307500K .......... .......... .......... .......... .......... 91%  457K 5s\n",
      "307550K .......... .......... .......... .......... .......... 91%  246M 5s\n",
      "307600K .......... .......... .......... .......... .......... 91%  235M 5s\n",
      "307650K .......... .......... .......... .......... .......... 91%  383M 5s\n",
      "307700K .......... .......... .......... .......... .......... 91%  289M 5s\n",
      "307750K .......... .......... .......... .......... .......... 91%  638M 5s\n",
      "307800K .......... .......... .......... .......... .......... 91%  471M 5s\n",
      "307850K .......... .......... .......... .......... .......... 91%  455K 5s\n",
      "307900K .......... .......... .......... .......... .......... 91%  228M 5s\n",
      "307950K .......... .......... .......... .......... .......... 91%  320M 5s\n",
      "308000K .......... .......... .......... .......... .......... 91%  291M 5s\n",
      "308050K .......... .......... .......... .......... .......... 91%  238M 5s\n",
      "308100K .......... .......... .......... .......... .......... 91%  395M 5s\n",
      "308150K .......... .......... .......... .......... .......... 91%  641M 5s\n",
      "308200K .......... .......... .......... .......... .......... 91%  455K 5s\n",
      "308250K .......... .......... .......... .......... .......... 91%  159M 5s\n",
      "308300K .......... .......... .......... .......... .......... 91%  254M 5s\n",
      "308350K .......... .......... .......... .......... .......... 91%  340M 5s\n",
      "308400K .......... .......... .......... .......... .......... 91%  257M 4s\n",
      "308450K .......... .......... .......... .......... .......... 91%  346M 4s\n",
      "308500K .......... .......... .......... .......... .......... 91%  376M 4s\n",
      "308550K .......... .......... .......... .......... .......... 91%  457K 4s\n",
      "308600K .......... .......... .......... .......... .......... 91% 92.7M 4s\n",
      "308650K .......... .......... .......... .......... .......... 91%  484M 4s\n",
      "308700K .......... .......... .......... .......... .......... 91%  682M 4s\n",
      "308750K .......... .......... .......... .......... .......... 91%  672M 4s\n",
      "308800K .......... .......... .......... .......... .......... 91%  554M 4s\n",
      "308850K .......... .......... .......... .......... .......... 91%  688M 4s\n",
      "308900K .......... .......... .......... .......... .......... 91%  458K 4s\n",
      "308950K .......... .......... .......... .......... .......... 91%  215M 4s\n",
      "309000K .......... .......... .......... .......... .......... 91%  323M 4s\n",
      "309050K .......... .......... .......... .......... .......... 91%  267M 4s\n",
      "309100K .......... .......... .......... .......... .......... 91%  483M 4s\n",
      "309150K .......... .......... .......... .......... .......... 91%  641M 4s\n",
      "309200K .......... .......... .......... .......... .......... 91%  576M 4s\n",
      "309250K .......... .......... .......... .......... .......... 91%  455K 4s\n",
      "309300K .......... .......... .......... .......... .......... 91%  266M 4s\n",
      "309350K .......... .......... .......... .......... .......... 91%  329M 4s\n",
      "309400K .......... .......... .......... .......... .......... 91%  196M 4s\n",
      "309450K .......... .......... .......... .......... .......... 91%  503M 4s\n",
      "309500K .......... .......... .......... .......... .......... 91%  625M 4s\n",
      "309550K .......... .......... .......... .......... .......... 91%  633M 4s\n",
      "309600K .......... .......... .......... .......... .......... 91%  454K 4s\n",
      "309650K .......... .......... .......... .......... .......... 91% 33.7M 4s\n",
      "309700K .......... .......... .......... .......... .......... 91% 48.1M 4s\n",
      "309750K .......... .......... .......... .......... .......... 91%  390M 4s\n",
      "309800K .......... .......... .......... .......... .......... 91% 28.6M 4s\n",
      "309850K .......... .......... .......... .......... .......... 91% 83.9M 4s\n",
      "309900K .......... .......... .......... .......... .......... 91%  678M 4s\n",
      "309950K .......... .......... .......... .......... .......... 91%  303M 4s\n",
      "310000K .......... .......... .......... .......... .......... 91%  472K 4s\n",
      "310050K .......... .......... .......... .......... .......... 91%  177M 4s\n",
      "310100K .......... .......... .......... .......... .......... 91%  362M 4s\n",
      "310150K .......... .......... .......... .......... .......... 91%  583M 4s\n",
      "310200K .......... .......... .......... .......... .......... 91%  260M 4s\n",
      "310250K .......... .......... .......... .......... .......... 91%  547M 4s\n",
      "310300K .......... .......... .......... .......... .......... 91%  555M 4s\n",
      "310350K .......... .......... .......... .......... .......... 91%  459K 4s\n",
      "310400K .......... .......... .......... .......... .......... 91%  285M 4s\n",
      "310450K .......... .......... .......... .......... .......... 91% 86.0M 4s\n",
      "310500K .......... .......... .......... .......... .......... 91%  322M 4s\n",
      "310550K .......... .......... .......... .......... .......... 91%  479M 4s\n",
      "310600K .......... .......... .......... .......... .......... 91%  516M 4s\n",
      "310650K .......... .......... .......... .......... .......... 91%  640M 4s\n",
      "310700K .......... .......... .......... .......... .......... 91%  456K 4s\n",
      "310750K .......... .......... .......... .......... .......... 91%  223M 4s\n",
      "310800K .......... .......... .......... .......... .......... 91%  184M 4s\n",
      "310850K .......... .......... .......... .......... .......... 92%  304M 4s\n",
      "310900K .......... .......... .......... .......... .......... 92%  363M 4s\n",
      "310950K .......... .......... .......... .......... .......... 92%  368M 4s\n",
      "311000K .......... .......... .......... .......... .......... 92%  329M 4s\n",
      "311050K .......... .......... .......... .......... .......... 92%  458K 4s\n",
      "311100K .......... .......... .......... .......... .......... 92% 98.3M 4s\n",
      "311150K .......... .......... .......... .......... .......... 92%  217M 4s\n",
      "311200K .......... .......... .......... .......... .......... 92%  269M 4s\n",
      "311250K .......... .......... .......... .......... .......... 92%  410K 4s\n",
      "311300K .......... .......... .......... .......... .......... 92%  224M 4s\n",
      "311350K .......... .......... .......... .......... .......... 92%  238M 4s\n",
      "311400K .......... .......... .......... .......... .......... 92%  279M 4s\n",
      "311450K .......... .......... .......... .......... .......... 92%  366M 4s\n",
      "311500K .......... .......... .......... .......... .......... 92%  362M 4s\n",
      "311550K .......... .......... .......... .......... .......... 92% 49.1M 4s\n",
      "311600K .......... .......... .......... .......... .......... 92%  461K 4s\n",
      "311650K .......... .......... .......... .......... .......... 92%  232M 4s\n",
      "311700K .......... .......... .......... .......... .......... 92%  335M 4s\n",
      "311750K .......... .......... .......... .......... .......... 92%  251M 4s\n",
      "311800K .......... .......... .......... .......... .......... 92%  229M 4s\n",
      "311850K .......... .......... .......... .......... .......... 92%  500M 4s\n",
      "311900K .......... .......... .......... .......... .......... 92%  462M 4s\n",
      "311950K .......... .......... .......... .......... .......... 92%  624M 4s\n",
      "312000K .......... .......... .......... .......... .......... 92%  454K 4s\n",
      "312050K .......... .......... .......... .......... .......... 92%  313M 4s\n",
      "312100K .......... .......... .......... .......... .......... 92%  238M 4s\n",
      "312150K .......... .......... .......... .......... .......... 92%  264M 4s\n",
      "312200K .......... .......... .......... .......... .......... 92%  392M 4s\n",
      "312250K .......... .......... .......... .......... .......... 92%  656M 4s\n",
      "312300K .......... .......... .......... .......... .......... 92%  667M 4s\n",
      "312350K .......... .......... .......... .......... .......... 92%  457K 4s\n",
      "312400K .......... .......... .......... .......... .......... 92%  217M 4s\n",
      "312450K .......... .......... .......... .......... .......... 92%  352M 4s\n",
      "312500K .......... .......... .......... .......... .......... 92%  157M 4s\n",
      "312550K .......... .......... .......... .......... .......... 92%  186M 4s\n",
      "312600K .......... .......... .......... .......... .......... 92%  477M 4s\n",
      "312650K .......... .......... .......... .......... .......... 92%  637M 4s\n",
      "312700K .......... .......... .......... .......... .......... 92%  456K 4s\n",
      "312750K .......... .......... .......... .......... .......... 92%  325M 4s\n",
      "312800K .......... .......... .......... .......... .......... 92%  136M 4s\n",
      "312850K .......... .......... .......... .......... .......... 92%  321M 4s\n",
      "312900K .......... .......... .......... .......... .......... 92%  311M 4s\n",
      "312950K .......... .......... .......... .......... .......... 92%  431M 4s\n",
      "313000K .......... .......... .......... .......... .......... 92%  577M 4s\n",
      "313050K .......... .......... .......... .......... .......... 92%  659M 4s\n",
      "313100K .......... .......... .......... .......... .......... 92%  456K 4s\n",
      "313150K .......... .......... .......... .......... .......... 92%  277M 4s\n",
      "313200K .......... .......... .......... .......... .......... 92%  257M 4s\n",
      "313250K .......... .......... .......... .......... .......... 92%  284M 4s\n",
      "313300K .......... .......... .......... .......... .......... 92%  270M 4s\n",
      "313350K .......... .......... .......... .......... .......... 92%  198M 4s\n",
      "313400K .......... .......... .......... .......... .......... 92%  346M 4s\n",
      "313450K .......... .......... .......... .......... .......... 92%  453K 4s\n",
      "313500K .......... .......... .......... .......... .......... 92%  229M 4s\n",
      "313550K .......... .......... .......... .......... .......... 92%  187M 4s\n",
      "313600K .......... .......... .......... .......... .......... 92%  308M 4s\n",
      "313650K .......... .......... .......... .......... .......... 92%  653M 4s\n",
      "313700K .......... .......... .......... .......... .......... 92%  650M 4s\n",
      "313750K .......... .......... .......... .......... .......... 92%  661M 4s\n",
      "313800K .......... .......... .......... .......... .......... 92%  454K 4s\n",
      "313850K .......... .......... .......... .......... .......... 92%  262M 4s\n",
      "313900K .......... .......... .......... .......... .......... 92%  246M 4s\n",
      "313950K .......... .......... .......... .......... .......... 92%  338M 4s\n",
      "314000K .......... .......... .......... .......... .......... 92%  280M 4s\n",
      "314050K .......... .......... .......... .......... .......... 92%  376M 4s\n",
      "314100K .......... .......... .......... .......... .......... 92%  633M 4s\n",
      "314150K .......... .......... .......... .......... .......... 92%  641M 4s\n",
      "314200K .......... .......... .......... .......... .......... 92%  458K 4s\n",
      "314250K .......... .......... .......... .......... .......... 93%  631M 4s\n",
      "314300K .......... .......... .......... .......... .......... 93% 53.7M 4s\n",
      "314350K .......... .......... .......... .......... .......... 93%  321M 4s\n",
      "314400K .......... .......... .......... .......... .......... 93%  213M 4s\n",
      "314450K .......... .......... .......... .......... .......... 93%  317M 4s\n",
      "314500K .......... .......... .......... .......... .......... 93%  501M 4s\n",
      "314550K .......... .......... .......... .......... .......... 93%  453K 4s\n",
      "314600K .......... .......... .......... .......... .......... 93% 69.0M 4s\n",
      "314650K .......... .......... .......... .......... .......... 93%  630M 4s\n",
      "314700K .......... .......... .......... .......... .......... 93% 90.7M 4s\n",
      "314750K .......... .......... .......... .......... .......... 93%  502M 4s\n",
      "314800K .......... .......... .......... .......... .......... 93%  532M 4s\n",
      "314850K .......... .......... .......... .......... .......... 93%  658M 4s\n",
      "314900K .......... .......... .......... .......... .......... 93%  655M 4s\n",
      "314950K .......... .......... .......... .......... .......... 93%  444K 4s\n",
      "315000K .......... .......... .......... .......... .......... 93%  266M 4s\n",
      "315050K .......... .......... .......... .......... .......... 93%  254M 4s\n",
      "315100K .......... .......... .......... .......... .......... 93%  559M 4s\n",
      "315150K .......... .......... .......... .......... .......... 93%  633M 4s\n",
      "315200K .......... .......... .......... .......... .......... 93%  519M 4s\n",
      "315250K .......... .......... .......... .......... .......... 93%  641M 4s\n",
      "315300K .......... .......... .......... .......... .......... 93%  456K 4s\n",
      "315350K .......... .......... .......... .......... .......... 93%  411K 4s\n",
      "315400K .......... .......... .......... .......... .......... 93%  101M 4s\n",
      "315450K .......... .......... .......... .......... .......... 93% 46.4M 4s\n",
      "315500K .......... .......... .......... .......... .......... 93%  172M 4s\n",
      "315550K .......... .......... .......... .......... .......... 93%  319M 3s\n",
      "315600K .......... .......... .......... .......... .......... 93%  278M 3s\n",
      "315650K .......... .......... .......... .......... .......... 93%  122M 3s\n",
      "315700K .......... .......... .......... .......... .......... 93%  487M 3s\n",
      "315750K .......... .......... .......... .......... .......... 93%  460K 3s\n",
      "315800K .......... .......... .......... .......... .......... 93%  211M 3s\n",
      "315850K .......... .......... .......... .......... .......... 93%  201M 3s\n",
      "315900K .......... .......... .......... .......... .......... 93%  344M 3s\n",
      "315950K .......... .......... .......... .......... .......... 93%  267M 3s\n",
      "316000K .......... .......... .......... .......... .......... 93%  218M 3s\n",
      "316050K .......... .......... .......... .......... .......... 93%  568M 3s\n",
      "316100K .......... .......... .......... .......... .......... 93%  457K 3s\n",
      "316150K .......... .......... .......... .......... .......... 93%  293M 3s\n",
      "316200K .......... .......... .......... .......... .......... 93%  456M 3s\n",
      "316250K .......... .......... .......... .......... .......... 93%  680M 3s\n",
      "316300K .......... .......... .......... .......... .......... 93%  399M 3s\n",
      "316350K .......... .......... .......... .......... .......... 93%  583M 3s\n",
      "316400K .......... .......... .......... .......... .......... 93%  333M 3s\n",
      "316450K .......... .......... .......... .......... .......... 93%  668M 3s\n",
      "316500K .......... .......... .......... .......... .......... 93%  449K 3s\n",
      "316550K .......... .......... .......... .......... .......... 93%  349M 3s\n",
      "316600K .......... .......... .......... .......... .......... 93%  297M 3s\n",
      "316650K .......... .......... .......... .......... .......... 93%  268M 3s\n",
      "316700K .......... .......... .......... .......... .......... 93%  171M 3s\n",
      "316750K .......... .......... .......... .......... .......... 93%  296M 3s\n",
      "316800K .......... .......... .......... .......... .......... 93%  250M 3s\n",
      "316850K .......... .......... .......... .......... .......... 93%  480M 3s\n",
      "316900K .......... .......... .......... .......... .......... 93%  461K 3s\n",
      "316950K .......... .......... .......... .......... .......... 93%  251M 3s\n",
      "317000K .......... .......... .......... .......... .......... 93%  327M 3s\n",
      "317050K .......... .......... .......... .......... .......... 93%  227M 3s\n",
      "317100K .......... .......... .......... .......... .......... 93%  390M 3s\n",
      "317150K .......... .......... .......... .......... .......... 93%  507M 3s\n",
      "317200K .......... .......... .......... .......... .......... 93%  502M 3s\n",
      "317250K .......... .......... .......... .......... .......... 93%  457K 3s\n",
      "317300K .......... .......... .......... .......... .......... 93%  210M 3s\n",
      "317350K .......... .......... .......... .......... .......... 93%  289M 3s\n",
      "317400K .......... .......... .......... .......... .......... 93% 92.2M 3s\n",
      "317450K .......... .......... .......... .......... .......... 93%  222M 3s\n",
      "317500K .......... .......... .......... .......... .......... 93%  303M 3s\n",
      "317550K .......... .......... .......... .......... .......... 93%  554M 3s\n",
      "317600K .......... .......... .......... .......... .......... 94%  517M 3s\n",
      "317650K .......... .......... .......... .......... .......... 94%  457K 3s\n",
      "317700K .......... .......... .......... .......... .......... 94%  299M 3s\n",
      "317750K .......... .......... .......... .......... .......... 94%  370M 3s\n",
      "317800K .......... .......... .......... .......... .......... 94%  132M 3s\n",
      "317850K .......... .......... .......... .......... .......... 94%  596M 3s\n",
      "317900K .......... .......... .......... .......... .......... 94%  425M 3s\n",
      "317950K .......... .......... .......... .......... .......... 94%  668M 3s\n",
      "318000K .......... .......... .......... .......... .......... 94%  548M 3s\n",
      "318050K .......... .......... .......... .......... .......... 94%  456K 3s\n",
      "318100K .......... .......... .......... .......... .......... 94%  211M 3s\n",
      "318150K .......... .......... .......... .......... .......... 94%  262M 3s\n",
      "318200K .......... .......... .......... .......... .......... 94%  271M 3s\n",
      "318250K .......... .......... .......... .......... .......... 94%  249M 3s\n",
      "318300K .......... .......... .......... .......... .......... 94%  588M 3s\n",
      "318350K .......... .......... .......... .......... .......... 94%  638M 3s\n",
      "318400K .......... .......... .......... .......... .......... 94%  457K 3s\n",
      "318450K .......... .......... .......... .......... .......... 94%  379M 3s\n",
      "318500K .......... .......... .......... .......... .......... 94%  425M 3s\n",
      "318550K .......... .......... .......... .......... .......... 94%  556M 3s\n",
      "318600K .......... .......... .......... .......... .......... 94%  223M 3s\n",
      "318650K .......... .......... .......... .......... .......... 94%  252M 3s\n",
      "318700K .......... .......... .......... .......... .......... 94%  373M 3s\n",
      "318750K .......... .......... .......... .......... .......... 94%  246M 3s\n",
      "318800K .......... .......... .......... .......... .......... 94%  456K 3s\n",
      "318850K .......... .......... .......... .......... .......... 94%  278M 3s\n",
      "318900K .......... .......... .......... .......... .......... 94%  191M 3s\n",
      "318950K .......... .......... .......... .......... .......... 94%  291M 3s\n",
      "319000K .......... .......... .......... .......... .......... 94%  376M 3s\n",
      "319050K .......... .......... .......... .......... .......... 94%  623M 3s\n",
      "319100K .......... .......... .......... .......... .......... 94%  631M 3s\n",
      "319150K .......... .......... .......... .......... .......... 94%  625M 3s\n",
      "319200K .......... .......... .......... .......... .......... 94%  452K 3s\n",
      "319250K .......... .......... .......... .......... .......... 94% 56.6M 3s\n",
      "319300K .......... .......... .......... .......... .......... 94%  191M 3s\n",
      "319350K .......... .......... .......... .......... .......... 94%  493M 3s\n",
      "319400K .......... .......... .......... .......... .......... 94%  155M 3s\n",
      "319450K .......... .......... .......... .......... .......... 94%  411K 3s\n",
      "319500K .......... .......... .......... .......... .......... 94%  182M 3s\n",
      "319550K .......... .......... .......... .......... .......... 94%  230M 3s\n",
      "319600K .......... .......... .......... .......... .......... 94%  300M 3s\n",
      "319650K .......... .......... .......... .......... .......... 94%  348M 3s\n",
      "319700K .......... .......... .......... .......... .......... 94%  315M 3s\n",
      "319750K .......... .......... .......... .......... .......... 94%  573M 3s\n",
      "319800K .......... .......... .......... .......... .......... 94%  590M 3s\n",
      "319850K .......... .......... .......... .......... .......... 94%  457K 3s\n",
      "319900K .......... .......... .......... .......... .......... 94%  278M 3s\n",
      "319950K .......... .......... .......... .......... .......... 94%  266M 3s\n",
      "320000K .......... .......... .......... .......... .......... 94%  277M 3s\n",
      "320050K .......... .......... .......... .......... .......... 94%  469M 3s\n",
      "320100K .......... .......... .......... .......... .......... 94%  498M 3s\n",
      "320150K .......... .......... .......... .......... .......... 94%  598M 3s\n",
      "320200K .......... .......... .......... .......... .......... 94%  557M 3s\n",
      "320250K .......... .......... .......... .......... .......... 94%  455K 3s\n",
      "320300K .......... .......... .......... .......... .......... 94%  350M 3s\n",
      "320350K .......... .......... .......... .......... .......... 94%  243M 3s\n",
      "320400K .......... .......... .......... .......... .......... 94%  215M 3s\n",
      "320450K .......... .......... .......... .......... .......... 94%  251M 3s\n",
      "320500K .......... .......... .......... .......... .......... 94%  327M 3s\n",
      "320550K .......... .......... .......... .......... .......... 94%  368M 3s\n",
      "320600K .......... .......... .......... .......... .......... 94%  269M 3s\n",
      "320650K .......... .......... .......... .......... .......... 94%  459K 3s\n",
      "320700K .......... .......... .......... .......... .......... 94%  140M 3s\n",
      "320750K .......... .......... .......... .......... .......... 94%  224M 3s\n",
      "320800K .......... .......... .......... .......... .......... 94%  367M 3s\n",
      "320850K .......... .......... .......... .......... .......... 94%  258M 3s\n",
      "320900K .......... .......... .......... .......... .......... 94%  505M 3s\n",
      "320950K .......... .......... .......... .......... .......... 94%  639M 3s\n",
      "321000K .......... .......... .......... .......... .......... 95%  577M 3s\n",
      "321050K .......... .......... .......... .......... .......... 95%  392K 3s\n",
      "321100K .......... .......... .......... .......... .......... 95%  245M 3s\n",
      "321150K .......... .......... .......... .......... .......... 95%  235M 3s\n",
      "321200K .......... .......... .......... .......... .......... 95%  278M 3s\n",
      "321250K .......... .......... .......... .......... .......... 95%  329M 3s\n",
      "321300K .......... .......... .......... .......... .......... 95%  421M 3s\n",
      "321350K .......... .......... .......... .......... .......... 95%  619M 3s\n",
      "321400K .......... .......... .......... .......... .......... 95%  583M 3s\n",
      "321450K .......... .......... .......... .......... .......... 95%  545K 3s\n",
      "321500K .......... .......... .......... .......... .......... 95%  141M 3s\n",
      "321550K .......... .......... .......... .......... .......... 95%  339M 3s\n",
      "321600K .......... .......... .......... .......... .......... 95%  226M 3s\n",
      "321650K .......... .......... .......... .......... .......... 95%  207M 3s\n",
      "321700K .......... .......... .......... .......... .......... 95%  367M 3s\n",
      "321750K .......... .......... .......... .......... .......... 95%  647M 3s\n",
      "321800K .......... .......... .......... .......... .......... 95%  577M 3s\n",
      "321850K .......... .......... .......... .......... .......... 95%  457K 3s\n",
      "321900K .......... .......... .......... .......... .......... 95%  359M 3s\n",
      "321950K .......... .......... .......... .......... .......... 95%  241M 3s\n",
      "322000K .......... .......... .......... .......... .......... 95%  268M 3s\n",
      "322050K .......... .......... .......... .......... .......... 95%  536M 3s\n",
      "322100K .......... .......... .......... .......... .......... 95%  679M 3s\n",
      "322150K .......... .......... .......... .......... .......... 95%  628M 3s\n",
      "322200K .......... .......... .......... .......... .......... 95%  556M 2s\n",
      "322250K .......... .......... .......... .......... .......... 95%  454K 2s\n",
      "322300K .......... .......... .......... .......... .......... 95%  250M 2s\n",
      "322350K .......... .......... .......... .......... .......... 95%  237M 2s\n",
      "322400K .......... .......... .......... .......... .......... 95%  548M 2s\n",
      "322450K .......... .......... .......... .......... .......... 95%  670M 2s\n",
      "322500K .......... .......... .......... .......... .......... 95%  661M 2s\n",
      "322550K .......... .......... .......... .......... .......... 95%  682M 2s\n",
      "322600K .......... .......... .......... .......... .......... 95%  592M 2s\n",
      "322650K .......... .......... .......... .......... .......... 95%  457K 2s\n",
      "322700K .......... .......... .......... .......... .......... 95%  343M 2s\n",
      "322750K .......... .......... .......... .......... .......... 95%  180M 2s\n",
      "322800K .......... .......... .......... .......... .......... 95%  234M 2s\n",
      "322850K .......... .......... .......... .......... .......... 95%  345M 2s\n",
      "322900K .......... .......... .......... .......... .......... 95%  378M 2s\n",
      "322950K .......... .......... .......... .......... .......... 95%  377M 2s\n",
      "323000K .......... .......... .......... .......... .......... 95%  390M 2s\n",
      "323050K .......... .......... .......... .......... .......... 95%  456K 2s\n",
      "323100K .......... .......... .......... .......... .......... 95%  258M 2s\n",
      "323150K .......... .......... .......... .......... .......... 95%  218M 2s\n",
      "323200K .......... .......... .......... .......... .......... 95%  233M 2s\n",
      "323250K .......... .......... .......... .......... .......... 95%  376M 2s\n",
      "323300K .......... .......... .......... .......... .......... 95%  375M 2s\n",
      "323350K .......... .......... .......... .......... .......... 95%  371M 2s\n",
      "323400K .......... .......... .......... .......... .......... 95%  340M 2s\n",
      "323450K .......... .......... .......... .......... .......... 95%  459K 2s\n",
      "323500K .......... .......... .......... .......... .......... 95%  352M 2s\n",
      "323550K .......... .......... .......... .......... .......... 95%  408K 2s\n",
      "323600K .......... .......... .......... .......... .......... 95%  282M 2s\n",
      "323650K .......... .......... .......... .......... .......... 95%  376M 2s\n",
      "323700K .......... .......... .......... .......... .......... 95%  299M 2s\n",
      "323750K .......... .......... .......... .......... .......... 95%  451M 2s\n",
      "323800K .......... .......... .......... .......... .......... 95%  459M 2s\n",
      "323850K .......... .......... .......... .......... .......... 95%  642M 2s\n",
      "323900K .......... .......... .......... .......... .......... 95%  683M 2s\n",
      "323950K .......... .......... .......... .......... .......... 95%  456K 2s\n",
      "324000K .......... .......... .......... .......... .......... 95%  350M 2s\n",
      "324050K .......... .......... .......... .......... .......... 95%  642M 2s\n",
      "324100K .......... .......... .......... .......... .......... 95%  615M 2s\n",
      "324150K .......... .......... .......... .......... .......... 95%  224M 2s\n",
      "324200K .......... .......... .......... .......... .......... 95%  450M 2s\n",
      "324250K .......... .......... .......... .......... .......... 95%  425M 2s\n",
      "324300K .......... .......... .......... .......... .......... 95%  546M 2s\n",
      "324350K .......... .......... .......... .......... .......... 95%  456K 2s\n",
      "324400K .......... .......... .......... .......... .......... 96%  229M 2s\n",
      "324450K .......... .......... .......... .......... .......... 96%  453M 2s\n",
      "324500K .......... .......... .......... .......... .......... 96%  483M 2s\n",
      "324550K .......... .......... .......... .......... .......... 96%  496M 2s\n",
      "324600K .......... .......... .......... .......... .......... 96%  601M 2s\n",
      "324650K .......... .......... .......... .......... .......... 96%  171M 2s\n",
      "324700K .......... .......... .......... .......... .......... 96%  504M 2s\n",
      "324750K .......... .......... .......... .......... .......... 96%  720M 2s\n",
      "324800K .......... .......... .......... .......... .......... 96%  457K 2s\n",
      "324850K .......... .......... .......... .......... .......... 96%  206M 2s\n",
      "324900K .......... .......... .......... .......... .......... 96%  253M 2s\n",
      "324950K .......... .......... .......... .......... .......... 96%  297M 2s\n",
      "325000K .......... .......... .......... .......... .......... 96%  262M 2s\n",
      "325050K .......... .......... .......... .......... .......... 96%  618M 2s\n",
      "325100K .......... .......... .......... .......... .......... 96%  639M 2s\n",
      "325150K .......... .......... .......... .......... .......... 96%  628M 2s\n",
      "325200K .......... .......... .......... .......... .......... 96%  456K 2s\n",
      "325250K .......... .......... .......... .......... .......... 96%  204M 2s\n",
      "325300K .......... .......... .......... .......... .......... 96%  276M 2s\n",
      "325350K .......... .......... .......... .......... .......... 96%  289M 2s\n",
      "325400K .......... .......... .......... .......... .......... 96%  263M 2s\n",
      "325450K .......... .......... .......... .......... .......... 96%  354M 2s\n",
      "325500K .......... .......... .......... .......... .......... 96%  313M 2s\n",
      "325550K .......... .......... .......... .......... .......... 96%  415M 2s\n",
      "325600K .......... .......... .......... .......... .......... 96%  456K 2s\n",
      "325650K .......... .......... .......... .......... .......... 96%  346M 2s\n",
      "325700K .......... .......... .......... .......... .......... 96%  212M 2s\n",
      "325750K .......... .......... .......... .......... .......... 96%  667M 2s\n",
      "325800K .......... .......... .......... .......... .......... 96%  580M 2s\n",
      "325850K .......... .......... .......... .......... .......... 96%  690M 2s\n",
      "325900K .......... .......... .......... .......... .......... 96%  487M 2s\n",
      "325950K .......... .......... .......... .......... .......... 96%  560M 2s\n",
      "326000K .......... .......... .......... .......... .......... 96%  456K 2s\n",
      "326050K .......... .......... .......... .......... .......... 96%  144M 2s\n",
      "326100K .......... .......... .......... .......... .......... 96%  339M 2s\n",
      "326150K .......... .......... .......... .......... .......... 96%  357M 2s\n",
      "326200K .......... .......... .......... .......... .......... 96%  331M 2s\n",
      "326250K .......... .......... .......... .......... .......... 96%  388M 2s\n",
      "326300K .......... .......... .......... .......... .......... 96%  173M 2s\n",
      "326350K .......... .......... .......... .......... .......... 96%  168M 2s\n",
      "326400K .......... .......... .......... .......... .......... 96%  459K 2s\n",
      "326450K .......... .......... .......... .......... .......... 96%  314M 2s\n",
      "326500K .......... .......... .......... .......... .......... 96%  136M 2s\n",
      "326550K .......... .......... .......... .......... .......... 96%  231M 2s\n",
      "326600K .......... .......... .......... .......... .......... 96%  463M 2s\n",
      "326650K .......... .......... .......... .......... .......... 96%  535M 2s\n",
      "326700K .......... .......... .......... .......... .......... 96%  668M 2s\n",
      "326750K .......... .......... .......... .......... .......... 96%  674M 2s\n",
      "326800K .......... .......... .......... .......... .......... 96%  457K 2s\n",
      "326850K .......... .......... .......... .......... .......... 96% 93.9M 2s\n",
      "326900K .......... .......... .......... .......... .......... 96%  230M 2s\n",
      "326950K .......... .......... .......... .......... .......... 96%  353M 2s\n",
      "327000K .......... .......... .......... .......... .......... 96%  337M 2s\n",
      "327050K .......... .......... .......... .......... .......... 96%  327M 2s\n",
      "327100K .......... .......... .......... .......... .......... 96%  631M 2s\n",
      "327150K .......... .......... .......... .......... .......... 96%  648M 2s\n",
      "327200K .......... .......... .......... .......... .......... 96%  457K 2s\n",
      "327250K .......... .......... .......... .......... .......... 96%  190M 2s\n",
      "327300K .......... .......... .......... .......... .......... 96%  389M 2s\n",
      "327350K .......... .......... .......... .......... .......... 96%  556M 2s\n",
      "327400K .......... .......... .......... .......... .......... 96%  456M 2s\n",
      "327450K .......... .......... .......... .......... .......... 96%  366M 2s\n",
      "327500K .......... .......... .......... .......... .......... 96%  569M 2s\n",
      "327550K .......... .......... .......... .......... .......... 96%  655M 2s\n",
      "327600K .......... .......... .......... .......... .......... 96%  545M 2s\n",
      "327650K .......... .......... .......... .......... .......... 96%  215K 2s\n",
      "327700K .......... .......... .......... .......... .......... 96%  308M 2s\n",
      "327750K .......... .......... .......... .......... .......... 97%  287M 2s\n",
      "327800K .......... .......... .......... .......... .......... 97%  148M 2s\n",
      "327850K .......... .......... .......... .......... .......... 97%  358M 2s\n",
      "327900K .......... .......... .......... .......... .......... 97%  356M 2s\n",
      "327950K .......... .......... .......... .......... .......... 97%  374M 2s\n",
      "328000K .......... .......... .......... .......... .......... 97%  335M 2s\n",
      "328050K .......... .......... .......... .......... .......... 97%  457K 2s\n",
      "328100K .......... .......... .......... .......... .......... 97%  342M 2s\n",
      "328150K .......... .......... .......... .......... .......... 97%  284M 2s\n",
      "328200K .......... .......... .......... .......... .......... 97%  302M 2s\n",
      "328250K .......... .......... .......... .......... .......... 97%  180M 2s\n",
      "328300K .......... .......... .......... .......... .......... 97%  512M 2s\n",
      "328350K .......... .......... .......... .......... .......... 97%  606M 2s\n",
      "328400K .......... .......... .......... .......... .......... 97%  522M 2s\n",
      "328450K .......... .......... .......... .......... .......... 97%  456K 2s\n",
      "328500K .......... .......... .......... .......... .......... 97%  104M 2s\n",
      "328550K .......... .......... .......... .......... .......... 97%  178M 2s\n",
      "328600K .......... .......... .......... .......... .......... 97%  255M 2s\n",
      "328650K .......... .......... .......... .......... .......... 97%  418M 1s\n",
      "328700K .......... .......... .......... .......... .......... 97%  491M 1s\n",
      "328750K .......... .......... .......... .......... .......... 97%  649M 1s\n",
      "328800K .......... .......... .......... .......... .......... 97%  548M 1s\n",
      "328850K .......... .......... .......... .......... .......... 97%  616M 1s\n",
      "328900K .......... .......... .......... .......... .......... 97%  459K 1s\n",
      "328950K .......... .......... .......... .......... .......... 97%  211M 1s\n",
      "329000K .......... .......... .......... .......... .......... 97%  292M 1s\n",
      "329050K .......... .......... .......... .......... .......... 97%  201M 1s\n",
      "329100K .......... .......... .......... .......... .......... 97%  651M 1s\n",
      "329150K .......... .......... .......... .......... .......... 97%  627M 1s\n",
      "329200K .......... .......... .......... .......... .......... 97%  238M 1s\n",
      "329250K .......... .......... .......... .......... .......... 97%  607M 1s\n",
      "329300K .......... .......... .......... .......... .......... 97%  456K 1s\n",
      "329350K .......... .......... .......... .......... .......... 97% 89.1M 1s\n",
      "329400K .......... .......... .......... .......... .......... 97%  252M 1s\n",
      "329450K .......... .......... .......... .......... .......... 97%  248M 1s\n",
      "329500K .......... .......... .......... .......... .......... 97%  272M 1s\n",
      "329550K .......... .......... .......... .......... .......... 97%  597M 1s\n",
      "329600K .......... .......... .......... .......... .......... 97%  523M 1s\n",
      "329650K .......... .......... .......... .......... .......... 97%  634M 1s\n",
      "329700K .......... .......... .......... .......... .......... 97%  456K 1s\n",
      "329750K .......... .......... .......... .......... .......... 97%  194M 1s\n",
      "329800K .......... .......... .......... .......... .......... 97%  166M 1s\n",
      "329850K .......... .......... .......... .......... .......... 97%  232M 1s\n",
      "329900K .......... .......... .......... .......... .......... 97%  326M 1s\n",
      "329950K .......... .......... .......... .......... .......... 97%  416M 1s\n",
      "330000K .......... .......... .......... .......... .......... 97%  525M 1s\n",
      "330050K .......... .......... .......... .......... .......... 97%  666M 1s\n",
      "330100K .......... .......... .......... .......... .......... 97%  667M 1s\n",
      "330150K .......... .......... .......... .......... .......... 97%  457K 1s\n",
      "330200K .......... .......... .......... .......... .......... 97%  319M 1s\n",
      "330250K .......... .......... .......... .......... .......... 97%  242M 1s\n",
      "330300K .......... .......... .......... .......... .......... 97%  260M 1s\n",
      "330350K .......... .......... .......... .......... .......... 97%  368M 1s\n",
      "330400K .......... .......... .......... .......... .......... 97%  298M 1s\n",
      "330450K .......... .......... .......... .......... .......... 97%  369M 1s\n",
      "330500K .......... .......... .......... .......... .......... 97%  367M 1s\n",
      "330550K .......... .......... .......... .......... .......... 97%  458K 1s\n",
      "330600K .......... .......... .......... .......... .......... 97%  589M 1s\n",
      "330650K .......... .......... .......... .......... .......... 97%  337M 1s\n",
      "330700K .......... .......... .......... .......... .......... 97%  639M 1s\n",
      "330750K .......... .......... .......... .......... .......... 97%  648M 1s\n",
      "330800K .......... .......... .......... .......... .......... 97%  156M 1s\n",
      "330850K .......... .......... .......... .......... .......... 97%  443M 1s\n",
      "330900K .......... .......... .......... .......... .......... 97%  657M 1s\n",
      "330950K .......... .......... .......... .......... .......... 97%  458K 1s\n",
      "331000K .......... .......... .......... .......... .......... 97%  202M 1s\n",
      "331050K .......... .......... .......... .......... .......... 97% 97.2M 1s\n",
      "331100K .......... .......... .......... .......... .......... 97%  557M 1s\n",
      "331150K .......... .......... .......... .......... .......... 98%  469M 1s\n",
      "331200K .......... .......... .......... .......... .......... 98%  542M 1s\n",
      "331250K .......... .......... .......... .......... .......... 98%  217M 1s\n",
      "331300K .......... .......... .......... .......... .......... 98%  389M 1s\n",
      "331350K .......... .......... .......... .......... .......... 98%  640M 1s\n",
      "331400K .......... .......... .......... .......... .......... 98%  458K 1s\n",
      "331450K .......... .......... .......... .......... .......... 98%  129M 1s\n",
      "331500K .......... .......... .......... .......... .......... 98%  334M 1s\n",
      "331550K .......... .......... .......... .......... .......... 98%  371M 1s\n",
      "331600K .......... .......... .......... .......... .......... 98%  166M 1s\n",
      "331650K .......... .......... .......... .......... .......... 98%  299M 1s\n",
      "331700K .......... .......... .......... .......... .......... 98%  531M 1s\n",
      "331750K .......... .......... .......... .......... .......... 98%  421K 1s\n",
      "331800K .......... .......... .......... .......... .......... 98%  311M 1s\n",
      "331850K .......... .......... .......... .......... .......... 98%  172M 1s\n",
      "331900K .......... .......... .......... .......... .......... 98%  245M 1s\n",
      "331950K .......... .......... .......... .......... .......... 98%  368M 1s\n",
      "332000K .......... .......... .......... .......... .......... 98%  301M 1s\n",
      "332050K .......... .......... .......... .......... .......... 98%  354M 1s\n",
      "332100K .......... .......... .......... .......... .......... 98%  426M 1s\n",
      "332150K .......... .......... .......... .......... .......... 98%  457K 1s\n",
      "332200K .......... .......... .......... .......... .......... 98%  200M 1s\n",
      "332250K .......... .......... .......... .......... .......... 98%  318M 1s\n",
      "332300K .......... .......... .......... .......... .......... 98%  295M 1s\n",
      "332350K .......... .......... .......... .......... .......... 98%  412M 1s\n",
      "332400K .......... .......... .......... .......... .......... 98%  546M 1s\n",
      "332450K .......... .......... .......... .......... .......... 98%  671M 1s\n",
      "332500K .......... .......... .......... .......... .......... 98%  663M 1s\n",
      "332550K .......... .......... .......... .......... .......... 98%  670M 1s\n",
      "332600K .......... .......... .......... .......... .......... 98%  454K 1s\n",
      "332650K .......... .......... .......... .......... .......... 98%  352M 1s\n",
      "332700K .......... .......... .......... .......... .......... 98%  191M 1s\n",
      "332750K .......... .......... .......... .......... .......... 98%  505M 1s\n",
      "332800K .......... .......... .......... .......... .......... 98%  556M 1s\n",
      "332850K .......... .......... .......... .......... .......... 98%  640M 1s\n",
      "332900K .......... .......... .......... .......... .......... 98%  292M 1s\n",
      "332950K .......... .......... .......... .......... .......... 98%  316M 1s\n",
      "333000K .......... .......... .......... .......... .......... 98%  457K 1s\n",
      "333050K .......... .......... .......... .......... .......... 98%  285M 1s\n",
      "333100K .......... .......... .......... .......... .......... 98%  226M 1s\n",
      "333150K .......... .......... .......... .......... .......... 98%  212M 1s\n",
      "333200K .......... .......... .......... .......... .......... 98%  286M 1s\n",
      "333250K .......... .......... .......... .......... .......... 98%  335M 1s\n",
      "333300K .......... .......... .......... .......... .......... 98%  432M 1s\n",
      "333350K .......... .......... .......... .......... .......... 98%  634M 1s\n",
      "333400K .......... .......... .......... .......... .......... 98%  456K 1s\n",
      "333450K .......... .......... .......... .......... .......... 98%  205M 1s\n",
      "333500K .......... .......... .......... .......... .......... 98%  356M 1s\n",
      "333550K .......... .......... .......... .......... .......... 98%  214M 1s\n",
      "333600K .......... .......... .......... .......... .......... 98%  298M 1s\n",
      "333650K .......... .......... .......... .......... .......... 98%  362M 1s\n",
      "333700K .......... .......... .......... .......... .......... 98%  370M 1s\n",
      "333750K .......... .......... .......... .......... .......... 98%  384M 1s\n",
      "333800K .......... .......... .......... .......... .......... 98%  356M 1s\n",
      "333850K .......... .......... .......... .......... .......... 98%  457K 1s\n",
      "333900K .......... .......... .......... .......... .......... 98%  353M 1s\n",
      "333950K .......... .......... .......... .......... .......... 98%  323M 1s\n",
      "334000K .......... .......... .......... .......... .......... 98%  176M 1s\n",
      "334050K .......... .......... .......... .......... .......... 98%  569M 1s\n",
      "334100K .......... .......... .......... .......... .......... 98%  642M 1s\n",
      "334150K .......... .......... .......... .......... .......... 98%  504M 1s\n",
      "334200K .......... .......... .......... .......... .......... 98% 87.5M 1s\n",
      "334250K .......... .......... .......... .......... .......... 98%  435K 1s\n",
      "334300K .......... .......... .......... .......... .......... 98%  120M 1s\n",
      "334350K .......... .......... .......... .......... .......... 98%  365M 1s\n",
      "334400K .......... .......... .......... .......... .......... 98%  298M 1s\n",
      "334450K .......... .......... .......... .......... .......... 98% 52.9M 1s\n",
      "334500K .......... .......... .......... .......... .......... 99%  130M 1s\n",
      "334550K .......... .......... .......... .......... .......... 99%  608M 1s\n",
      "334600K .......... .......... .......... .......... .......... 99%  173M 1s\n",
      "334650K .......... .......... .......... .......... .......... 99%  498M 1s\n",
      "334700K .......... .......... .......... .......... .......... 99%  487K 1s\n",
      "334750K .......... .......... .......... .......... .......... 99%  354M 1s\n",
      "334800K .......... .......... .......... .......... .......... 99%  330M 1s\n",
      "334850K .......... .......... .......... .......... .......... 99% 91.5M 0s\n",
      "334900K .......... .......... .......... .......... .......... 99%  672M 0s\n",
      "334950K .......... .......... .......... .......... .......... 99%  601M 0s\n",
      "335000K .......... .......... .......... .......... .......... 99%  189M 0s\n",
      "335050K .......... .......... .......... .......... .......... 99%  487M 0s\n",
      "335100K .......... .......... .......... .......... .......... 99%  460K 0s\n",
      "335150K .......... .......... .......... .......... .......... 99%  248M 0s\n",
      "335200K .......... .......... .......... .......... .......... 99%  299M 0s\n",
      "335250K .......... .......... .......... .......... .......... 99%  365M 0s\n",
      "335300K .......... .......... .......... .......... .......... 99%  241M 0s\n",
      "335350K .......... .......... .......... .......... .......... 99%  233M 0s\n",
      "335400K .......... .......... .......... .......... .......... 99%  228M 0s\n",
      "335450K .......... .......... .......... .......... .......... 99%  370M 0s\n",
      "335500K .......... .......... .......... .......... .......... 99%  370M 0s\n",
      "335550K .......... .......... .......... .......... .......... 99%  458K 0s\n",
      "335600K .......... .......... .......... .......... .......... 99%  102M 0s\n",
      "335650K .......... .......... .......... .......... .......... 99%  255M 0s\n",
      "335700K .......... .......... .......... .......... .......... 99%  403M 0s\n",
      "335750K .......... .......... .......... .......... .......... 99%  608M 0s\n",
      "335800K .......... .......... .......... .......... .......... 99%  606M 0s\n",
      "335850K .......... .......... .......... .......... .......... 99%  441K 0s\n",
      "335900K .......... .......... .......... .......... .......... 99%  352M 0s\n",
      "335950K .......... .......... .......... .......... .......... 99%  288M 0s\n",
      "336000K .......... .......... .......... .......... .......... 99%  204M 0s\n",
      "336050K .......... .......... .......... .......... .......... 99%  329M 0s\n",
      "336100K .......... .......... .......... .......... .......... 99%  380M 0s\n",
      "336150K .......... .......... .......... .......... .......... 99%  368M 0s\n",
      "336200K .......... .......... .......... .......... .......... 99%  327M 0s\n",
      "336250K .......... .......... .......... .......... .......... 99%  458K 0s\n",
      "336300K .......... .......... .......... .......... .......... 99%  209M 0s\n",
      "336350K .......... .......... .......... .......... .......... 99%  223M 0s\n",
      "336400K .......... .......... .......... .......... .......... 99%  299M 0s\n",
      "336450K .......... .......... .......... .......... .......... 99%  186M 0s\n",
      "336500K .......... .......... .......... .......... .......... 99%  453M 0s\n",
      "336550K .......... .......... .......... .......... .......... 99%  439M 0s\n",
      "336600K .......... .......... .......... .......... .......... 99%  577M 0s\n",
      "336650K .......... .......... .......... .......... .......... 99%  616M 0s\n",
      "336700K .......... .......... .......... .......... .......... 99%  456K 0s\n",
      "336750K .......... .......... .......... .......... .......... 99%  219M 0s\n",
      "336800K .......... .......... .......... .......... .......... 99%  305M 0s\n",
      "336850K .......... .......... .......... .......... .......... 99%  306M 0s\n",
      "336900K .......... .......... .......... .......... .......... 99%  226M 0s\n",
      "336950K .......... .......... .......... .......... .......... 99%  299M 0s\n",
      "337000K .......... .......... .......... .......... .......... 99%  386M 0s\n",
      "337050K .......... .......... .......... .......... .......... 99%  650M 0s\n",
      "337100K .......... .......... .......... .......... .......... 99%  455K 0s\n",
      "337150K .......... .......... .......... .......... .......... 99%  334M 0s\n",
      "337200K .......... .......... .......... .......... .......... 99%  129M 0s\n",
      "337250K .......... .......... .......... .......... .......... 99%  273M 0s\n",
      "337300K .......... .......... .......... .......... .......... 99%  235M 0s\n",
      "337350K .......... .......... .......... .......... .......... 99%  382M 0s\n",
      "337400K .......... .......... .......... .......... .......... 99%  539M 0s\n",
      "337450K .......... .......... .......... .......... .......... 99%  665M 0s\n",
      "337500K .......... .......... .......... .......... .......... 99%  669M 0s\n",
      "337550K .......... .......... .......... .......... .......... 99%  459K 0s\n",
      "337600K .......... .......... .......... .......... .......... 99%  220M 0s\n",
      "337650K .......... .......... .......... .......... .......... 99%  276M 0s\n",
      "337700K .......... .......... .......... .......... .......... 99%  363M 0s\n",
      "337750K .......... .......... .......... .......... .......... 99%  229M 0s\n",
      "337800K .......... .......... .......... .......... .......... 99%  420M 0s\n",
      "337850K .......... .......... .......... .......... .......... 99%  624M 0s\n",
      "337900K .......... .......... .                               100% 1.88M=56s\n",
      "\n",
      "2023-03-10 07:38:14 (5.92 MB/s) - ‘lenta-ru-news.csv.bz2.3’ saved [346031300/346031300]\n",
      "\n"
     ]
    }
   ],
   "source": [
    "#!g2.2\n",
    "# Скачивание данных\n",
    "!wget https://github.com/yutkin/Lenta.Ru-News-Dataset/releases/download/v1.1/lenta-ru-news.csv.bz2"
   ]
  },
  {
   "cell_type": "code",
   "execution_count": 3,
   "id": "740d8b44",
   "metadata": {
    "cellId": "e9bu4tp53aojdx1kzknbdc"
   },
   "outputs": [
    {
     "data": {
      "text/plain": [
       "LentaRecord(\n",
       "    url='https://lenta.ru/news/1914/09/16/hungarnn/',\n",
       "    title='1914. Русские войска вступили в\\xa0пределы Венгрии  ',\n",
       "    text='Бои у Сопоцкина и Друскеник закончились отступлением германцев. Неприятель, приблизившись с севера к Осовцу начал артиллерийскую борьбу с крепостью. В артиллерийском бою принимают участие тяжелые калибры. С раннего утра 14 сентября огонь достиг значительного напряжения. Попытка германской пехоты пробиться ближе к крепости отражена. В Галиции мы заняли Дембицу. Большая колонна, отступавшая по шоссе от Перемышля к Саноку, обстреливалась с высот нашей батареей и бежала, бросив парки, обоз и автомобили. Вылазки гарнизона Перемышля остаются безуспешными. При продолжающемся отступлении австрийцев обнаруживается полное перемешивание их частей, захватываются новые партии пленных, орудия и прочая материальная часть. На перевале Ужок мы разбили неприятельский отряд, взяли его артиллерию и много пленных и, продолжая преследовать, вступили в пределы Венгрии. «Русский инвалид», 16 сентября 1914 года.',\n",
       "    topic='Библиотека',\n",
       "    tags='Первая мировая',\n",
       "    date=datetime.datetime(1914, 9, 16, 0, 0)\n",
       ")"
      ]
     },
     "execution_count": 3,
     "metadata": {},
     "output_type": "execute_result"
    }
   ],
   "source": [
    "#!g2.2\n",
    "# Загрузка данных\n",
    "path = 'lenta-ru-news.csv.bz2'\n",
    "records = load_lenta2(path)\n",
    "next(records)"
   ]
  },
  {
   "cell_type": "code",
   "execution_count": 4,
   "id": "e80eb1fe",
   "metadata": {
    "cellId": "ply7w7vddond2glgvg9oow",
    "colab": {
     "base_uri": "https://localhost:8080/"
    },
    "id": "xfxBeLSgtgDn",
    "outputId": "f2045c6c-a1dc-417d-d9d2-1b0e6e4e6214"
   },
   "outputs": [
    {
     "name": "stdout",
     "output_type": "stream",
     "text": [
      "1914. Празднование столетия М.Ю. Лермонтова отложено \n"
     ]
    }
   ],
   "source": [
    "#!g2.2\n",
    "for i, record in enumerate(records):\n",
    "  print(record.title)\n",
    "  break"
   ]
  },
  {
   "cell_type": "code",
   "execution_count": 5,
   "id": "5cfa3b99",
   "metadata": {
    "cellId": "mdbyqgccd6kxxwk6nqoqxm",
    "colab": {
     "base_uri": "https://localhost:8080/"
    },
    "id": "xfxBeLSgtgDn",
    "outputId": "f2045c6c-a1dc-417d-d9d2-1b0e6e4e6214"
   },
   "outputs": [
    {
     "name": "stdout",
     "output_type": "stream",
     "text": [
      "Штабс-капитан П. Н. Нестеров на днях, увидев в районе Желтиева, в Галиции, летящий над нашим расположением австрийский аэроплан, собиравшийся бросить бомбы, взлетел на воздух, атаковал неприятеля и протаранил неприятельский аппарат, предотвратив жертвы в наших войсках. Сам Нестеров при этом погиб смертью героя. По словам доставленных в Киев пленных австрийских офицеров, всей неприятельской армии хорошо известно имя Нестерова. Во время воздушных разведок русских авиаторов австрийцы всегда безошибочно определяли, каким аппаратом управлял Нестеров. Когда показывался аэроплан-птица, красиво и вольно паривший в воздухе, австрийцы указывали — Das ist Nesteroff! Австрийцы боялись покойного, и все их усилия были направлены к прекращению его деятельности. За задержание отважного летчика была объявлена большая премия. Нестеров погиб в 27 лет. После Нестерова остались жена и двое детей — девочка, 5-ти лет, и мальчик, 3-х лет. Иллюстрированный журнал «Искры» № 35, сентябрь 1914 года  Песнь о Нестерове В безбрежности неба, в бескрайности ясной пустыниСражались лишь птицы и гибли лишь птицы доныне.Так птице подобный, полет свой направив могучий,Унесся пилот легкокрылый за темные тучи.А там, на земле, колыхаясь, знамена шумели, И лязгали сабли, и пушки зловеще гремели.И пламенно богу войны посылал он молитвы,И очи горели и звали и жаждали битвы…Величие духа в равнине обманчиво-зыбкой.Презрение смерти под светлою солнца улыбкой…Мольбы не напрасны. Велению рока послушный,Противник уж реет кругами в стихии воздушнойИ дрогнуло сердце. Рука, как пружина стальная,На руль налегла. Встрепенулась машина живая…Чти, родина, память героя! Решенье созрелоМгновенье – и врезался дерзко он в хрупкое тело.Пощады не знает стихия. Победа наградой…И пали противники грузной и страшной громадой…В безбрежности неба, в бескрайности ясной пустыниСражались лишь птицы и гибли лишь птицы доныне. Журнал «Нива» №37, сентябрь 1914 года\n"
     ]
    }
   ],
   "source": [
    "#!g2.2\n",
    "for i, record in enumerate(records):\n",
    "  print(record.text)\n",
    "  break"
   ]
  },
  {
   "cell_type": "code",
   "execution_count": 6,
   "id": "cfeca06c",
   "metadata": {
    "cellId": "cdvezbmkr49mtocwnehe7q"
   },
   "outputs": [],
   "source": [
    "#!g2.2\n",
    "# Собираем название и текст новостей и преобразуем в датафрейм\n",
    "data = [(record.title, record.text) for record in records]"
   ]
  },
  {
   "cell_type": "code",
   "execution_count": 7,
   "id": "dcc03dfb",
   "metadata": {
    "cellId": "aurm254cchr78jbxq8tbsj"
   },
   "outputs": [
    {
     "data": {
      "text/plain": [
       "('1914. Бульдог-гонец под Льежем ',\n",
       " 'Фотограф-корреспондент Daily Mirror рассказывает случай, который порадует всех друзей животных. Лейтенант бельгийской артиллерии, руководивший обороной одного из фортов Льежа, ни за что не хотел расстаться с своей собакой — бульдогом. Когда пруссаки пробрались между фортов в самый город, офицеру пришло в голову доверить бульдогу письмо, в котором он посылал успокоительную весть своим родителям. Благородный пес честно исполнил свою миссию. Десять часов спустя бульдог проник обратно в форт и принес ответ. С этого момента бульдог стал настоящим гонцом. Много раз пробирался он через линии германских войск, неся на себе спрятанными в ошейнике шифрованные депеши.Журнал «Нива» №37, сентябрь 1914 года')"
      ]
     },
     "execution_count": 7,
     "metadata": {},
     "output_type": "execute_result"
    }
   ],
   "source": [
    "#!g2.2\n",
    "data[0]"
   ]
  },
  {
   "cell_type": "code",
   "execution_count": 11,
   "id": "4e49dc33",
   "metadata": {
    "cellId": "q6euo4z2oxsbx3sfedwpz"
   },
   "outputs": [
    {
     "data": {
      "text/html": [
       "<div>\n",
       "<style scoped>\n",
       "    .dataframe tbody tr th:only-of-type {\n",
       "        vertical-align: middle;\n",
       "    }\n",
       "\n",
       "    .dataframe tbody tr th {\n",
       "        vertical-align: top;\n",
       "    }\n",
       "\n",
       "    .dataframe thead th {\n",
       "        text-align: right;\n",
       "    }\n",
       "</style>\n",
       "<table border=\"1\" class=\"dataframe\">\n",
       "  <thead>\n",
       "    <tr style=\"text-align: right;\">\n",
       "      <th></th>\n",
       "      <th>title</th>\n",
       "      <th>text</th>\n",
       "    </tr>\n",
       "  </thead>\n",
       "  <tbody>\n",
       "    <tr>\n",
       "      <th>0</th>\n",
       "      <td>1914. Бульдог-гонец под Льежем</td>\n",
       "      <td>Фотограф-корреспондент Daily Mirror рассказыва...</td>\n",
       "    </tr>\n",
       "    <tr>\n",
       "      <th>1</th>\n",
       "      <td>1914. Под Люблином пойман швабский зверь</td>\n",
       "      <td>Лица, приехавшие в Варшаву из Люблина, передаю...</td>\n",
       "    </tr>\n",
       "    <tr>\n",
       "      <th>2</th>\n",
       "      <td>Космонавты сомневаются в надежности \"Мира\"</td>\n",
       "      <td>Как стало известно агентству Ассошиэйтед Пресс...</td>\n",
       "    </tr>\n",
       "    <tr>\n",
       "      <th>3</th>\n",
       "      <td>Взрыв в центре Москвы: пострадало 30 человек</td>\n",
       "      <td>В зале игровых автоматов в третьем ярусе подзе...</td>\n",
       "    </tr>\n",
       "    <tr>\n",
       "      <th>4</th>\n",
       "      <td>Япония кредитует Россию на полтора миллиарда д...</td>\n",
       "      <td>Япония приняла решение разморозить кредиты Рос...</td>\n",
       "    </tr>\n",
       "  </tbody>\n",
       "</table>\n",
       "</div>"
      ],
      "text/plain": [
       "                                               title                                               text\n",
       "0                    1914. Бульдог-гонец под Льежем   Фотограф-корреспондент Daily Mirror рассказыва...\n",
       "1           1914. Под Люблином пойман швабский зверь  Лица, приехавшие в Варшаву из Люблина, передаю...\n",
       "2         Космонавты сомневаются в надежности \"Мира\"  Как стало известно агентству Ассошиэйтед Пресс...\n",
       "3       Взрыв в центре Москвы: пострадало 30 человек  В зале игровых автоматов в третьем ярусе подзе...\n",
       "4  Япония кредитует Россию на полтора миллиарда д...  Япония приняла решение разморозить кредиты Рос..."
      ]
     },
     "execution_count": 11,
     "metadata": {},
     "output_type": "execute_result"
    }
   ],
   "source": [
    "#!g2.2\n",
    "df_news = pd.DataFrame({'title': [record[0] for record in data], 'text': [record[1] for record in data]})\n",
    "df_news.head()"
   ]
  },
  {
   "cell_type": "code",
   "execution_count": 12,
   "id": "5da03e84",
   "metadata": {
    "cellId": "chzt10z6fkl0by3iym2kb"
   },
   "outputs": [
    {
     "data": {
      "text/plain": [
       "(800972, 2)"
      ]
     },
     "execution_count": 12,
     "metadata": {},
     "output_type": "execute_result"
    }
   ],
   "source": [
    "#!g2.2\n",
    "# Размер датасета\n",
    "df_news.shape"
   ]
  },
  {
   "cell_type": "code",
   "execution_count": 13,
   "id": "6d7c4e1f",
   "metadata": {
    "cellId": "1dpvqsaih7lcuxgq0fo2qp"
   },
   "outputs": [
    {
     "data": {
      "text/plain": [
       "(55386, 132)"
      ]
     },
     "execution_count": 13,
     "metadata": {},
     "output_type": "execute_result"
    }
   ],
   "source": [
    "#!g2.2\n",
    "# Максимальная длина текста и названия статьи\n",
    "max(len(i) for i in df_news['text'].values), max(len(i) for i in df_news['title'].values)"
   ]
  },
  {
   "cell_type": "code",
   "execution_count": 14,
   "id": "677175f0",
   "metadata": {
    "cellId": "3ha9kbji05dt8s5ob2km1j"
   },
   "outputs": [],
   "source": [
    "#!g2.2\n",
    "# Ограничиваем размер данных\n",
    "data_news = df_news[:500]"
   ]
  },
  {
   "cell_type": "code",
   "execution_count": 15,
   "id": "61731cda",
   "metadata": {
    "cellId": "2tz44kpfahzzi4id2x1jlh"
   },
   "outputs": [],
   "source": [
    "#!g2.2\n",
    "# Разделяем данные на train и test\n",
    "df_train, df_test = train_test_split(data_news, test_size=0.15)"
   ]
  },
  {
   "cell_type": "code",
   "execution_count": 16,
   "id": "2cc1bc47",
   "metadata": {
    "cellId": "ja3fjwfmua8snoqi8sewbi"
   },
   "outputs": [
    {
     "data": {
      "text/plain": [
       "(Dataset({\n",
       "     features: ['title', 'text'],\n",
       "     num_rows: 425\n",
       " }),\n",
       " Dataset({\n",
       "     features: ['title', 'text'],\n",
       "     num_rows: 75\n",
       " }))"
      ]
     },
     "execution_count": 16,
     "metadata": {},
     "output_type": "execute_result"
    }
   ],
   "source": [
    "#!g2.2\n",
    "# Складываем объекты в Dataset (для huggingface)\n",
    "df_train.reset_index(drop=True, inplace=True)\n",
    "df_test.reset_index(drop=True, inplace=True)\n",
    "\n",
    "dataset_train = Dataset.from_pandas(df_train)\n",
    "dataset_test = Dataset.from_pandas(df_test)\n",
    "dataset_train, dataset_test"
   ]
  },
  {
   "cell_type": "code",
   "execution_count": 17,
   "id": "3645aa09",
   "metadata": {
    "cellId": "p5379v5l28wdmmmmvlcj9"
   },
   "outputs": [
    {
     "data": {
      "application/vnd.jupyter.widget-view+json": {
       "model_id": "0817153106f246cabe17222797d7bf82",
       "version_major": 2,
       "version_minor": 0
      },
      "text/plain": [
       "Downloading:   0%|          | 0.00/279 [00:00<?, ?B/s]"
      ]
     },
     "metadata": {},
     "output_type": "display_data"
    },
    {
     "data": {
      "application/vnd.jupyter.widget-view+json": {
       "model_id": "82578ce195e5490790c002b7d10697b0",
       "version_major": 2,
       "version_minor": 0
      },
      "text/plain": [
       "Downloading:   0%|          | 0.00/808k [00:00<?, ?B/s]"
      ]
     },
     "metadata": {},
     "output_type": "display_data"
    },
    {
     "data": {
      "application/vnd.jupyter.widget-view+json": {
       "model_id": "5f5e72ab9f5e46daa991e3327a6e2d5a",
       "version_major": 2,
       "version_minor": 0
      },
      "text/plain": [
       "Downloading:   0%|          | 0.00/1.25M [00:00<?, ?B/s]"
      ]
     },
     "metadata": {},
     "output_type": "display_data"
    },
    {
     "data": {
      "application/vnd.jupyter.widget-view+json": {
       "model_id": "97644f6c545e46388d742921002d391e",
       "version_major": 2,
       "version_minor": 0
      },
      "text/plain": [
       "Downloading:   0%|          | 0.00/65.0 [00:00<?, ?B/s]"
      ]
     },
     "metadata": {},
     "output_type": "display_data"
    },
    {
     "data": {
      "application/vnd.jupyter.widget-view+json": {
       "model_id": "f4e22aa935a44c1580cb80b81946da57",
       "version_major": 2,
       "version_minor": 0
      },
      "text/plain": [
       "Map:   0%|          | 0/425 [00:00<?, ? examples/s]"
      ]
     },
     "metadata": {},
     "output_type": "display_data"
    },
    {
     "data": {
      "application/vnd.jupyter.widget-view+json": {
       "model_id": "814930c2dc1e4a40ba820cae5efe5e16",
       "version_major": 2,
       "version_minor": 0
      },
      "text/plain": [
       "Map:   0%|          | 0/75 [00:00<?, ? examples/s]"
      ]
     },
     "metadata": {},
     "output_type": "display_data"
    }
   ],
   "source": [
    "#!g2.2\n",
    "# Создаем объект класса токенизатор\n",
    "model_name = \"IlyaGusev/rut5_base_sum_gazeta\"\n",
    "tokenizer = AutoTokenizer.from_pretrained(model_name)\n",
    "\n",
    "# Ограничиваем максимальную длину текста и новости\n",
    "max_len_txt = 400\n",
    "max_len_tlt = 50\n",
    "\n",
    "# Токенизируем вход\n",
    "def tokenize(batch):\n",
    "    tokenized_input = tokenizer(batch['text'], padding='max_length', truncation=True, max_length=max_len_txt)\n",
    "    tokenized_label = tokenizer(batch['title'], padding='max_length', truncation=True, max_length=max_len_tlt)\n",
    "    tokenized_input['labels'] = tokenized_label['input_ids']\n",
    "\n",
    "    return tokenized_input\n",
    "\n",
    "# Токенизируем данные из датасетов\n",
    "dataset_train = dataset_train.map(tokenize, batched=True, batch_size=8)\n",
    "dataset_test = dataset_test.map(tokenize, batched=True, batch_size=8)\n",
    "\n",
    "# Столбцы ['input_ids', 'attention_mask', 'labels'] переводим в формат numpy\n",
    "dataset_train.set_format('numpy', columns=['input_ids', 'attention_mask', 'labels'])\n",
    "dataset_test.set_format('numpy', columns=['input_ids', 'attention_mask', 'labels'])"
   ]
  },
  {
   "cell_type": "code",
   "execution_count": 18,
   "id": "780186ca",
   "metadata": {
    "cellId": "zr1vwdtupvonl558z5nf6m"
   },
   "outputs": [
    {
     "data": {
      "text/plain": [
       "(Dataset({\n",
       "     features: ['title', 'text', 'input_ids', 'attention_mask', 'labels'],\n",
       "     num_rows: 425\n",
       " }),\n",
       " Dataset({\n",
       "     features: ['title', 'text', 'input_ids', 'attention_mask', 'labels'],\n",
       "     num_rows: 75\n",
       " }))"
      ]
     },
     "execution_count": 18,
     "metadata": {},
     "output_type": "execute_result"
    }
   ],
   "source": [
    "#!g2.2\n",
    "# Подготовленные датасеты\n",
    "dataset_train, dataset_test"
   ]
  },
  {
   "cell_type": "code",
   "execution_count": 19,
   "id": "7ab98c12",
   "metadata": {
    "cellId": "l6vww28lmpcdkkye5ft4x"
   },
   "outputs": [
    {
     "data": {
      "application/vnd.jupyter.widget-view+json": {
       "model_id": "af21fe342a554fbb9db2d9e31e0fb704",
       "version_major": 2,
       "version_minor": 0
      },
      "text/plain": [
       "Saving the dataset (0/1 shards):   0%|          | 0/425 [00:00<?, ? examples/s]"
      ]
     },
     "metadata": {},
     "output_type": "display_data"
    },
    {
     "data": {
      "application/vnd.jupyter.widget-view+json": {
       "model_id": "ef41817177af4fc28a0eccc4fc28bc80",
       "version_major": 2,
       "version_minor": 0
      },
      "text/plain": [
       "Saving the dataset (0/1 shards):   0%|          | 0/75 [00:00<?, ? examples/s]"
      ]
     },
     "metadata": {},
     "output_type": "display_data"
    }
   ],
   "source": [
    "#!g2.2\n",
    "# Сохранение подготовленных датасетов\n",
    "dataset_train.save_to_disk('gazeta/train')\n",
    "dataset_test.save_to_disk('gazeta/test')"
   ]
  },
  {
   "cell_type": "markdown",
   "id": "68b84889",
   "metadata": {
    "cellId": "kpoxn8bepep5j54gn65jfk",
    "execution_id": "95fe9eb7-658e-44de-8406-27ba6a333d09"
   },
   "source": [
    "### <a id='Модель_2_14'>Модель</a>"
   ]
  },
  {
   "cell_type": "code",
   "execution_count": 26,
   "id": "33333651",
   "metadata": {
    "cellId": "b1lp5o7p49vns5e8ro32d"
   },
   "outputs": [
    {
     "name": "stderr",
     "output_type": "stream",
     "text": [
      "loading configuration file https://huggingface.co/IlyaGusev/rut5_base_sum_gazeta/resolve/main/config.json from cache at /tmp/xdg_cache/huggingface/transformers/426a325da473aa010e527ee99032b35ce9354913e38282d34e50dd75856c82f7.87df939950b4282d4195b92cd0a6209ec6d3d69e74b13a77d87890cf3a5ded7b\n",
      "Model config T5Config {\n",
      "  \"_name_or_path\": \"cointegrated/rut5-base\",\n",
      "  \"architectures\": [\n",
      "    \"T5ForConditionalGeneration\"\n",
      "  ],\n",
      "  \"bos_token_id\": 2,\n",
      "  \"d_ff\": 2048,\n",
      "  \"d_kv\": 64,\n",
      "  \"d_model\": 768,\n",
      "  \"decoder_start_token_id\": 2,\n",
      "  \"dropout_rate\": 0.1,\n",
      "  \"eos_token_id\": 1,\n",
      "  \"feed_forward_proj\": \"gated-gelu\",\n",
      "  \"initializer_factor\": 1.0,\n",
      "  \"is_encoder_decoder\": true,\n",
      "  \"layer_norm_epsilon\": 1e-06,\n",
      "  \"max_length\": 200,\n",
      "  \"model_type\": \"t5\",\n",
      "  \"num_beams\": 5,\n",
      "  \"num_decoder_layers\": 12,\n",
      "  \"num_heads\": 12,\n",
      "  \"num_layers\": 12,\n",
      "  \"output_past\": true,\n",
      "  \"pad_token_id\": 0,\n",
      "  \"relative_attention_num_buckets\": 32,\n",
      "  \"tie_word_embeddings\": false,\n",
      "  \"tokenizer_class\": \"T5Tokenizer\",\n",
      "  \"torch_dtype\": \"float32\",\n",
      "  \"transformers_version\": \"4.14.0\",\n",
      "  \"use_cache\": true,\n",
      "  \"vocab_size\": 30000\n",
      "}\n",
      "\n",
      "loading weights file https://huggingface.co/IlyaGusev/rut5_base_sum_gazeta/resolve/main/pytorch_model.bin from cache at /tmp/xdg_cache/huggingface/transformers/f4c11e29521f27cff5768a7f18580488bf450ce29ef1e4c8e06f9802e9d6ab42.e3b906d7892e5f268c9d2f19a84d52ddfe543929f0dca80cb66a59459d424a1b\n",
      "All model checkpoint weights were used when initializing T5ForConditionalGeneration.\n",
      "\n",
      "All the weights of T5ForConditionalGeneration were initialized from the model checkpoint at IlyaGusev/rut5_base_sum_gazeta.\n",
      "If your task is similar to the task the model of the checkpoint was trained on, you can already use T5ForConditionalGeneration for predictions without further training.\n"
     ]
    }
   ],
   "source": [
    "#!g2.2\n",
    "# Создаем экземпляр модели\n",
    "model_name = \"IlyaGusev/rut5_base_sum_gazeta\"\n",
    "model = T5ForConditionalGeneration.from_pretrained(model_name).to('cuda')"
   ]
  },
  {
   "cell_type": "code",
   "execution_count": 27,
   "id": "2b48b625",
   "metadata": {
    "cellId": "b0cggr03j49lx8ljjswboa"
   },
   "outputs": [
    {
     "name": "stderr",
     "output_type": "stream",
     "text": [
      "PyTorch: setting up devices\n",
      "The default value for the training argument `--report_to` will change in v5 (from all installed integrations to none). In v5, you will need to use `--report_to all` to get the same behavior as now. You should start updating your code and make this info disappear :-).\n"
     ]
    }
   ],
   "source": [
    "#!g2.2\n",
    "# Настройки обучения\n",
    "output_dir = 'gazeta/output'\n",
    "\n",
    "training_args = TrainingArguments(\n",
    "    output_dir=output_dir,\n",
    "    num_train_epochs=3,\n",
    "    per_device_train_batch_size=2,\n",
    "    per_device_eval_batch_size=2,\n",
    "    # eval_accumulation_steps=1, # Number of eval steps to keep in GPU (the higher, the mor vRAM used)\n",
    "    # prediction_loss_only=True, # If I need co compute only loss and not other metrics, setting this to true will use less RAM\n",
    "    # learning_rate=0.00001,\n",
    "    # evaluation_strategy='steps', # Run evaluation every eval_steps\n",
    "    save_steps=1000, # How often to save a checkpoint\n",
    "    # save_total_limit=1, # Number of maximum checkpoints to save\n",
    "    remove_unused_columns=True, # Removes useless columns from the dataset\n",
    "    # run_name='run_gazeta', # Wandb run name\n",
    "    # logging_steps=500, # How often to log loss to wandb\n",
    "    eval_steps=500, # How often to run evaluation on the val_set\n",
    "    # logging_first_step=False, # Whether to log also the very first training step to wandb\n",
    "    # load_best_model_at_end=True, # Whether to load the best model found at each evaluation.\n",
    "    # metric_for_best_model=\"loss\", # Use loss to evaluate best model.\n",
    "    # greater_is_better=False # Best model is the one with the lowest loss, not highest.\n",
    ")"
   ]
  },
  {
   "cell_type": "code",
   "execution_count": 28,
   "id": "f03cd46c",
   "metadata": {
    "cellId": "u06mmxv2x2u4bu6k68fo9"
   },
   "outputs": [
    {
     "data": {
      "text/plain": [
       "(Dataset({\n",
       "     features: ['title', 'text', 'input_ids', 'attention_mask', 'labels'],\n",
       "     num_rows: 425\n",
       " }),\n",
       " Dataset({\n",
       "     features: ['title', 'text', 'input_ids', 'attention_mask', 'labels'],\n",
       "     num_rows: 75\n",
       " }))"
      ]
     },
     "execution_count": 28,
     "metadata": {},
     "output_type": "execute_result"
    }
   ],
   "source": [
    "#!g2.2\n",
    "# Загружаем датасеты\n",
    "dataset_train = load_from_disk(\"gazeta/train\")\n",
    "dataset_test = load_from_disk(\"gazeta/test\")\n",
    "dataset_train, dataset_test"
   ]
  },
  {
   "cell_type": "code",
   "execution_count": 29,
   "id": "a39debd6",
   "metadata": {
    "cellId": "49uuxdhwooizldfpbrzwp9"
   },
   "outputs": [
    {
     "data": {
      "text/html": [
       "\n",
       "    <div>\n",
       "      \n",
       "      <progress value='2' max='321' style='width:300px; height:20px; vertical-align: middle;'></progress>\n",
       "      [  2/321 : < :, Epoch 0.01/3]\n",
       "    </div>\n",
       "    <table border=\"1\" class=\"dataframe\">\n",
       "  <thead>\n",
       "    <tr style=\"text-align: left;\">\n",
       "      <th>Step</th>\n",
       "      <th>Training Loss</th>\n",
       "    </tr>\n",
       "  </thead>\n",
       "  <tbody>\n",
       "  </tbody>\n",
       "</table><p>"
      ],
      "text/plain": [
       "<IPython.core.display.HTML object>"
      ]
     },
     "metadata": {},
     "output_type": "display_data"
    },
    {
     "data": {
      "text/html": [
       "\n",
       "    <div>\n",
       "      \n",
       "      <progress value='3' max='321' style='width:300px; height:20px; vertical-align: middle;'></progress>\n",
       "      [  3/321 00:00 < 01:16, 4.15 it/s, Epoch 0.02/3]\n",
       "    </div>\n",
       "    <table border=\"1\" class=\"dataframe\">\n",
       "  <thead>\n",
       "    <tr style=\"text-align: left;\">\n",
       "      <th>Step</th>\n",
       "      <th>Training Loss</th>\n",
       "    </tr>\n",
       "  </thead>\n",
       "  <tbody>\n",
       "  </tbody>\n",
       "</table><p>"
      ],
      "text/plain": [
       "<IPython.core.display.HTML object>"
      ]
     },
     "metadata": {},
     "output_type": "display_data"
    },
    {
     "data": {
      "text/html": [
       "\n",
       "    <div>\n",
       "      \n",
       "      <progress value='4' max='321' style='width:300px; height:20px; vertical-align: middle;'></progress>\n",
       "      [  4/321 00:00 < 01:07, 4.73 it/s, Epoch 0.03/3]\n",
       "    </div>\n",
       "    <table border=\"1\" class=\"dataframe\">\n",
       "  <thead>\n",
       "    <tr style=\"text-align: left;\">\n",
       "      <th>Step</th>\n",
       "      <th>Training Loss</th>\n",
       "    </tr>\n",
       "  </thead>\n",
       "  <tbody>\n",
       "  </tbody>\n",
       "</table><p>"
      ],
      "text/plain": [
       "<IPython.core.display.HTML object>"
      ]
     },
     "metadata": {},
     "output_type": "display_data"
    },
    {
     "data": {
      "text/html": [
       "\n",
       "    <div>\n",
       "      \n",
       "      <progress value='5' max='321' style='width:300px; height:20px; vertical-align: middle;'></progress>\n",
       "      [  5/321 00:00 < 01:03, 4.99 it/s, Epoch 0.04/3]\n",
       "    </div>\n",
       "    <table border=\"1\" class=\"dataframe\">\n",
       "  <thead>\n",
       "    <tr style=\"text-align: left;\">\n",
       "      <th>Step</th>\n",
       "      <th>Training Loss</th>\n",
       "    </tr>\n",
       "  </thead>\n",
       "  <tbody>\n",
       "  </tbody>\n",
       "</table><p>"
      ],
      "text/plain": [
       "<IPython.core.display.HTML object>"
      ]
     },
     "metadata": {},
     "output_type": "display_data"
    },
    {
     "data": {
      "text/html": [
       "\n",
       "    <div>\n",
       "      \n",
       "      <progress value='6' max='321' style='width:300px; height:20px; vertical-align: middle;'></progress>\n",
       "      [  6/321 00:00 < 01:02, 5.08 it/s, Epoch 0.05/3]\n",
       "    </div>\n",
       "    <table border=\"1\" class=\"dataframe\">\n",
       "  <thead>\n",
       "    <tr style=\"text-align: left;\">\n",
       "      <th>Step</th>\n",
       "      <th>Training Loss</th>\n",
       "    </tr>\n",
       "  </thead>\n",
       "  <tbody>\n",
       "  </tbody>\n",
       "</table><p>"
      ],
      "text/plain": [
       "<IPython.core.display.HTML object>"
      ]
     },
     "metadata": {},
     "output_type": "display_data"
    },
    {
     "data": {
      "text/html": [
       "\n",
       "    <div>\n",
       "      \n",
       "      <progress value='7' max='321' style='width:300px; height:20px; vertical-align: middle;'></progress>\n",
       "      [  7/321 00:00 < 01:00, 5.18 it/s, Epoch 0.06/3]\n",
       "    </div>\n",
       "    <table border=\"1\" class=\"dataframe\">\n",
       "  <thead>\n",
       "    <tr style=\"text-align: left;\">\n",
       "      <th>Step</th>\n",
       "      <th>Training Loss</th>\n",
       "    </tr>\n",
       "  </thead>\n",
       "  <tbody>\n",
       "  </tbody>\n",
       "</table><p>"
      ],
      "text/plain": [
       "<IPython.core.display.HTML object>"
      ]
     },
     "metadata": {},
     "output_type": "display_data"
    },
    {
     "data": {
      "text/html": [
       "\n",
       "    <div>\n",
       "      \n",
       "      <progress value='8' max='321' style='width:300px; height:20px; vertical-align: middle;'></progress>\n",
       "      [  8/321 00:01 < 00:59, 5.24 it/s, Epoch 0.07/3]\n",
       "    </div>\n",
       "    <table border=\"1\" class=\"dataframe\">\n",
       "  <thead>\n",
       "    <tr style=\"text-align: left;\">\n",
       "      <th>Step</th>\n",
       "      <th>Training Loss</th>\n",
       "    </tr>\n",
       "  </thead>\n",
       "  <tbody>\n",
       "  </tbody>\n",
       "</table><p>"
      ],
      "text/plain": [
       "<IPython.core.display.HTML object>"
      ]
     },
     "metadata": {},
     "output_type": "display_data"
    },
    {
     "data": {
      "text/html": [
       "\n",
       "    <div>\n",
       "      \n",
       "      <progress value='9' max='321' style='width:300px; height:20px; vertical-align: middle;'></progress>\n",
       "      [  9/321 00:01 < 00:59, 5.28 it/s, Epoch 0.07/3]\n",
       "    </div>\n",
       "    <table border=\"1\" class=\"dataframe\">\n",
       "  <thead>\n",
       "    <tr style=\"text-align: left;\">\n",
       "      <th>Step</th>\n",
       "      <th>Training Loss</th>\n",
       "    </tr>\n",
       "  </thead>\n",
       "  <tbody>\n",
       "  </tbody>\n",
       "</table><p>"
      ],
      "text/plain": [
       "<IPython.core.display.HTML object>"
      ]
     },
     "metadata": {},
     "output_type": "display_data"
    },
    {
     "data": {
      "text/html": [
       "\n",
       "    <div>\n",
       "      \n",
       "      <progress value='10' max='321' style='width:300px; height:20px; vertical-align: middle;'></progress>\n",
       "      [ 10/321 00:01 < 00:58, 5.32 it/s, Epoch 0.08/3]\n",
       "    </div>\n",
       "    <table border=\"1\" class=\"dataframe\">\n",
       "  <thead>\n",
       "    <tr style=\"text-align: left;\">\n",
       "      <th>Step</th>\n",
       "      <th>Training Loss</th>\n",
       "    </tr>\n",
       "  </thead>\n",
       "  <tbody>\n",
       "  </tbody>\n",
       "</table><p>"
      ],
      "text/plain": [
       "<IPython.core.display.HTML object>"
      ]
     },
     "metadata": {},
     "output_type": "display_data"
    },
    {
     "data": {
      "text/html": [
       "\n",
       "    <div>\n",
       "      \n",
       "      <progress value='11' max='321' style='width:300px; height:20px; vertical-align: middle;'></progress>\n",
       "      [ 11/321 00:01 < 00:57, 5.35 it/s, Epoch 0.09/3]\n",
       "    </div>\n",
       "    <table border=\"1\" class=\"dataframe\">\n",
       "  <thead>\n",
       "    <tr style=\"text-align: left;\">\n",
       "      <th>Step</th>\n",
       "      <th>Training Loss</th>\n",
       "    </tr>\n",
       "  </thead>\n",
       "  <tbody>\n",
       "  </tbody>\n",
       "</table><p>"
      ],
      "text/plain": [
       "<IPython.core.display.HTML object>"
      ]
     },
     "metadata": {},
     "output_type": "display_data"
    },
    {
     "data": {
      "text/html": [
       "\n",
       "    <div>\n",
       "      \n",
       "      <progress value='12' max='321' style='width:300px; height:20px; vertical-align: middle;'></progress>\n",
       "      [ 12/321 00:01 < 00:57, 5.37 it/s, Epoch 0.10/3]\n",
       "    </div>\n",
       "    <table border=\"1\" class=\"dataframe\">\n",
       "  <thead>\n",
       "    <tr style=\"text-align: left;\">\n",
       "      <th>Step</th>\n",
       "      <th>Training Loss</th>\n",
       "    </tr>\n",
       "  </thead>\n",
       "  <tbody>\n",
       "  </tbody>\n",
       "</table><p>"
      ],
      "text/plain": [
       "<IPython.core.display.HTML object>"
      ]
     },
     "metadata": {},
     "output_type": "display_data"
    },
    {
     "data": {
      "text/html": [
       "\n",
       "    <div>\n",
       "      \n",
       "      <progress value='13' max='321' style='width:300px; height:20px; vertical-align: middle;'></progress>\n",
       "      [ 13/321 00:02 < 00:57, 5.37 it/s, Epoch 0.11/3]\n",
       "    </div>\n",
       "    <table border=\"1\" class=\"dataframe\">\n",
       "  <thead>\n",
       "    <tr style=\"text-align: left;\">\n",
       "      <th>Step</th>\n",
       "      <th>Training Loss</th>\n",
       "    </tr>\n",
       "  </thead>\n",
       "  <tbody>\n",
       "  </tbody>\n",
       "</table><p>"
      ],
      "text/plain": [
       "<IPython.core.display.HTML object>"
      ]
     },
     "metadata": {},
     "output_type": "display_data"
    },
    {
     "data": {
      "text/html": [
       "\n",
       "    <div>\n",
       "      \n",
       "      <progress value='14' max='321' style='width:300px; height:20px; vertical-align: middle;'></progress>\n",
       "      [ 14/321 00:02 < 00:57, 5.36 it/s, Epoch 0.12/3]\n",
       "    </div>\n",
       "    <table border=\"1\" class=\"dataframe\">\n",
       "  <thead>\n",
       "    <tr style=\"text-align: left;\">\n",
       "      <th>Step</th>\n",
       "      <th>Training Loss</th>\n",
       "    </tr>\n",
       "  </thead>\n",
       "  <tbody>\n",
       "  </tbody>\n",
       "</table><p>"
      ],
      "text/plain": [
       "<IPython.core.display.HTML object>"
      ]
     },
     "metadata": {},
     "output_type": "display_data"
    },
    {
     "data": {
      "text/html": [
       "\n",
       "    <div>\n",
       "      \n",
       "      <progress value='15' max='321' style='width:300px; height:20px; vertical-align: middle;'></progress>\n",
       "      [ 15/321 00:02 < 00:56, 5.38 it/s, Epoch 0.13/3]\n",
       "    </div>\n",
       "    <table border=\"1\" class=\"dataframe\">\n",
       "  <thead>\n",
       "    <tr style=\"text-align: left;\">\n",
       "      <th>Step</th>\n",
       "      <th>Training Loss</th>\n",
       "    </tr>\n",
       "  </thead>\n",
       "  <tbody>\n",
       "  </tbody>\n",
       "</table><p>"
      ],
      "text/plain": [
       "<IPython.core.display.HTML object>"
      ]
     },
     "metadata": {},
     "output_type": "display_data"
    },
    {
     "data": {
      "text/html": [
       "\n",
       "    <div>\n",
       "      \n",
       "      <progress value='16' max='321' style='width:300px; height:20px; vertical-align: middle;'></progress>\n",
       "      [ 16/321 00:02 < 00:56, 5.38 it/s, Epoch 0.14/3]\n",
       "    </div>\n",
       "    <table border=\"1\" class=\"dataframe\">\n",
       "  <thead>\n",
       "    <tr style=\"text-align: left;\">\n",
       "      <th>Step</th>\n",
       "      <th>Training Loss</th>\n",
       "    </tr>\n",
       "  </thead>\n",
       "  <tbody>\n",
       "  </tbody>\n",
       "</table><p>"
      ],
      "text/plain": [
       "<IPython.core.display.HTML object>"
      ]
     },
     "metadata": {},
     "output_type": "display_data"
    },
    {
     "data": {
      "text/html": [
       "\n",
       "    <div>\n",
       "      \n",
       "      <progress value='17' max='321' style='width:300px; height:20px; vertical-align: middle;'></progress>\n",
       "      [ 17/321 00:02 < 00:56, 5.38 it/s, Epoch 0.15/3]\n",
       "    </div>\n",
       "    <table border=\"1\" class=\"dataframe\">\n",
       "  <thead>\n",
       "    <tr style=\"text-align: left;\">\n",
       "      <th>Step</th>\n",
       "      <th>Training Loss</th>\n",
       "    </tr>\n",
       "  </thead>\n",
       "  <tbody>\n",
       "  </tbody>\n",
       "</table><p>"
      ],
      "text/plain": [
       "<IPython.core.display.HTML object>"
      ]
     },
     "metadata": {},
     "output_type": "display_data"
    },
    {
     "data": {
      "text/html": [
       "\n",
       "    <div>\n",
       "      \n",
       "      <progress value='18' max='321' style='width:300px; height:20px; vertical-align: middle;'></progress>\n",
       "      [ 18/321 00:03 < 00:59, 5.12 it/s, Epoch 0.16/3]\n",
       "    </div>\n",
       "    <table border=\"1\" class=\"dataframe\">\n",
       "  <thead>\n",
       "    <tr style=\"text-align: left;\">\n",
       "      <th>Step</th>\n",
       "      <th>Training Loss</th>\n",
       "    </tr>\n",
       "  </thead>\n",
       "  <tbody>\n",
       "  </tbody>\n",
       "</table><p>"
      ],
      "text/plain": [
       "<IPython.core.display.HTML object>"
      ]
     },
     "metadata": {},
     "output_type": "display_data"
    },
    {
     "data": {
      "text/html": [
       "\n",
       "    <div>\n",
       "      \n",
       "      <progress value='19' max='321' style='width:300px; height:20px; vertical-align: middle;'></progress>\n",
       "      [ 19/321 00:03 < 00:58, 5.14 it/s, Epoch 0.17/3]\n",
       "    </div>\n",
       "    <table border=\"1\" class=\"dataframe\">\n",
       "  <thead>\n",
       "    <tr style=\"text-align: left;\">\n",
       "      <th>Step</th>\n",
       "      <th>Training Loss</th>\n",
       "    </tr>\n",
       "  </thead>\n",
       "  <tbody>\n",
       "  </tbody>\n",
       "</table><p>"
      ],
      "text/plain": [
       "<IPython.core.display.HTML object>"
      ]
     },
     "metadata": {},
     "output_type": "display_data"
    },
    {
     "data": {
      "text/html": [
       "\n",
       "    <div>\n",
       "      \n",
       "      <progress value='20' max='321' style='width:300px; height:20px; vertical-align: middle;'></progress>\n",
       "      [ 20/321 00:03 < 00:58, 5.16 it/s, Epoch 0.18/3]\n",
       "    </div>\n",
       "    <table border=\"1\" class=\"dataframe\">\n",
       "  <thead>\n",
       "    <tr style=\"text-align: left;\">\n",
       "      <th>Step</th>\n",
       "      <th>Training Loss</th>\n",
       "    </tr>\n",
       "  </thead>\n",
       "  <tbody>\n",
       "  </tbody>\n",
       "</table><p>"
      ],
      "text/plain": [
       "<IPython.core.display.HTML object>"
      ]
     },
     "metadata": {},
     "output_type": "display_data"
    },
    {
     "data": {
      "text/html": [
       "\n",
       "    <div>\n",
       "      \n",
       "      <progress value='21' max='321' style='width:300px; height:20px; vertical-align: middle;'></progress>\n",
       "      [ 21/321 00:03 < 00:57, 5.17 it/s, Epoch 0.19/3]\n",
       "    </div>\n",
       "    <table border=\"1\" class=\"dataframe\">\n",
       "  <thead>\n",
       "    <tr style=\"text-align: left;\">\n",
       "      <th>Step</th>\n",
       "      <th>Training Loss</th>\n",
       "    </tr>\n",
       "  </thead>\n",
       "  <tbody>\n",
       "  </tbody>\n",
       "</table><p>"
      ],
      "text/plain": [
       "<IPython.core.display.HTML object>"
      ]
     },
     "metadata": {},
     "output_type": "display_data"
    },
    {
     "data": {
      "text/html": [
       "\n",
       "    <div>\n",
       "      \n",
       "      <progress value='22' max='321' style='width:300px; height:20px; vertical-align: middle;'></progress>\n",
       "      [ 22/321 00:03 < 00:57, 5.19 it/s, Epoch 0.20/3]\n",
       "    </div>\n",
       "    <table border=\"1\" class=\"dataframe\">\n",
       "  <thead>\n",
       "    <tr style=\"text-align: left;\">\n",
       "      <th>Step</th>\n",
       "      <th>Training Loss</th>\n",
       "    </tr>\n",
       "  </thead>\n",
       "  <tbody>\n",
       "  </tbody>\n",
       "</table><p>"
      ],
      "text/plain": [
       "<IPython.core.display.HTML object>"
      ]
     },
     "metadata": {},
     "output_type": "display_data"
    },
    {
     "data": {
      "text/html": [
       "\n",
       "    <div>\n",
       "      \n",
       "      <progress value='23' max='321' style='width:300px; height:20px; vertical-align: middle;'></progress>\n",
       "      [ 23/321 00:04 < 00:57, 5.20 it/s, Epoch 0.21/3]\n",
       "    </div>\n",
       "    <table border=\"1\" class=\"dataframe\">\n",
       "  <thead>\n",
       "    <tr style=\"text-align: left;\">\n",
       "      <th>Step</th>\n",
       "      <th>Training Loss</th>\n",
       "    </tr>\n",
       "  </thead>\n",
       "  <tbody>\n",
       "  </tbody>\n",
       "</table><p>"
      ],
      "text/plain": [
       "<IPython.core.display.HTML object>"
      ]
     },
     "metadata": {},
     "output_type": "display_data"
    },
    {
     "data": {
      "text/html": [
       "\n",
       "    <div>\n",
       "      \n",
       "      <progress value='24' max='321' style='width:300px; height:20px; vertical-align: middle;'></progress>\n",
       "      [ 24/321 00:04 < 00:56, 5.21 it/s, Epoch 0.21/3]\n",
       "    </div>\n",
       "    <table border=\"1\" class=\"dataframe\">\n",
       "  <thead>\n",
       "    <tr style=\"text-align: left;\">\n",
       "      <th>Step</th>\n",
       "      <th>Training Loss</th>\n",
       "    </tr>\n",
       "  </thead>\n",
       "  <tbody>\n",
       "  </tbody>\n",
       "</table><p>"
      ],
      "text/plain": [
       "<IPython.core.display.HTML object>"
      ]
     },
     "metadata": {},
     "output_type": "display_data"
    },
    {
     "data": {
      "text/html": [
       "\n",
       "    <div>\n",
       "      \n",
       "      <progress value='25' max='321' style='width:300px; height:20px; vertical-align: middle;'></progress>\n",
       "      [ 25/321 00:04 < 00:56, 5.22 it/s, Epoch 0.22/3]\n",
       "    </div>\n",
       "    <table border=\"1\" class=\"dataframe\">\n",
       "  <thead>\n",
       "    <tr style=\"text-align: left;\">\n",
       "      <th>Step</th>\n",
       "      <th>Training Loss</th>\n",
       "    </tr>\n",
       "  </thead>\n",
       "  <tbody>\n",
       "  </tbody>\n",
       "</table><p>"
      ],
      "text/plain": [
       "<IPython.core.display.HTML object>"
      ]
     },
     "metadata": {},
     "output_type": "display_data"
    },
    {
     "data": {
      "text/html": [
       "\n",
       "    <div>\n",
       "      \n",
       "      <progress value='26' max='321' style='width:300px; height:20px; vertical-align: middle;'></progress>\n",
       "      [ 26/321 00:04 < 00:56, 5.23 it/s, Epoch 0.23/3]\n",
       "    </div>\n",
       "    <table border=\"1\" class=\"dataframe\">\n",
       "  <thead>\n",
       "    <tr style=\"text-align: left;\">\n",
       "      <th>Step</th>\n",
       "      <th>Training Loss</th>\n",
       "    </tr>\n",
       "  </thead>\n",
       "  <tbody>\n",
       "  </tbody>\n",
       "</table><p>"
      ],
      "text/plain": [
       "<IPython.core.display.HTML object>"
      ]
     },
     "metadata": {},
     "output_type": "display_data"
    },
    {
     "data": {
      "text/html": [
       "\n",
       "    <div>\n",
       "      \n",
       "      <progress value='27' max='321' style='width:300px; height:20px; vertical-align: middle;'></progress>\n",
       "      [ 27/321 00:04 < 00:56, 5.24 it/s, Epoch 0.24/3]\n",
       "    </div>\n",
       "    <table border=\"1\" class=\"dataframe\">\n",
       "  <thead>\n",
       "    <tr style=\"text-align: left;\">\n",
       "      <th>Step</th>\n",
       "      <th>Training Loss</th>\n",
       "    </tr>\n",
       "  </thead>\n",
       "  <tbody>\n",
       "  </tbody>\n",
       "</table><p>"
      ],
      "text/plain": [
       "<IPython.core.display.HTML object>"
      ]
     },
     "metadata": {},
     "output_type": "display_data"
    },
    {
     "data": {
      "text/html": [
       "\n",
       "    <div>\n",
       "      \n",
       "      <progress value='28' max='321' style='width:300px; height:20px; vertical-align: middle;'></progress>\n",
       "      [ 28/321 00:04 < 00:55, 5.25 it/s, Epoch 0.25/3]\n",
       "    </div>\n",
       "    <table border=\"1\" class=\"dataframe\">\n",
       "  <thead>\n",
       "    <tr style=\"text-align: left;\">\n",
       "      <th>Step</th>\n",
       "      <th>Training Loss</th>\n",
       "    </tr>\n",
       "  </thead>\n",
       "  <tbody>\n",
       "  </tbody>\n",
       "</table><p>"
      ],
      "text/plain": [
       "<IPython.core.display.HTML object>"
      ]
     },
     "metadata": {},
     "output_type": "display_data"
    },
    {
     "data": {
      "text/html": [
       "\n",
       "    <div>\n",
       "      \n",
       "      <progress value='29' max='321' style='width:300px; height:20px; vertical-align: middle;'></progress>\n",
       "      [ 29/321 00:05 < 00:55, 5.25 it/s, Epoch 0.26/3]\n",
       "    </div>\n",
       "    <table border=\"1\" class=\"dataframe\">\n",
       "  <thead>\n",
       "    <tr style=\"text-align: left;\">\n",
       "      <th>Step</th>\n",
       "      <th>Training Loss</th>\n",
       "    </tr>\n",
       "  </thead>\n",
       "  <tbody>\n",
       "  </tbody>\n",
       "</table><p>"
      ],
      "text/plain": [
       "<IPython.core.display.HTML object>"
      ]
     },
     "metadata": {},
     "output_type": "display_data"
    },
    {
     "data": {
      "text/html": [
       "\n",
       "    <div>\n",
       "      \n",
       "      <progress value='30' max='321' style='width:300px; height:20px; vertical-align: middle;'></progress>\n",
       "      [ 30/321 00:05 < 00:55, 5.26 it/s, Epoch 0.27/3]\n",
       "    </div>\n",
       "    <table border=\"1\" class=\"dataframe\">\n",
       "  <thead>\n",
       "    <tr style=\"text-align: left;\">\n",
       "      <th>Step</th>\n",
       "      <th>Training Loss</th>\n",
       "    </tr>\n",
       "  </thead>\n",
       "  <tbody>\n",
       "  </tbody>\n",
       "</table><p>"
      ],
      "text/plain": [
       "<IPython.core.display.HTML object>"
      ]
     },
     "metadata": {},
     "output_type": "display_data"
    },
    {
     "data": {
      "text/html": [
       "\n",
       "    <div>\n",
       "      \n",
       "      <progress value='31' max='321' style='width:300px; height:20px; vertical-align: middle;'></progress>\n",
       "      [ 31/321 00:05 < 00:55, 5.27 it/s, Epoch 0.28/3]\n",
       "    </div>\n",
       "    <table border=\"1\" class=\"dataframe\">\n",
       "  <thead>\n",
       "    <tr style=\"text-align: left;\">\n",
       "      <th>Step</th>\n",
       "      <th>Training Loss</th>\n",
       "    </tr>\n",
       "  </thead>\n",
       "  <tbody>\n",
       "  </tbody>\n",
       "</table><p>"
      ],
      "text/plain": [
       "<IPython.core.display.HTML object>"
      ]
     },
     "metadata": {},
     "output_type": "display_data"
    },
    {
     "data": {
      "text/html": [
       "\n",
       "    <div>\n",
       "      \n",
       "      <progress value='32' max='321' style='width:300px; height:20px; vertical-align: middle;'></progress>\n",
       "      [ 32/321 00:05 < 00:54, 5.27 it/s, Epoch 0.29/3]\n",
       "    </div>\n",
       "    <table border=\"1\" class=\"dataframe\">\n",
       "  <thead>\n",
       "    <tr style=\"text-align: left;\">\n",
       "      <th>Step</th>\n",
       "      <th>Training Loss</th>\n",
       "    </tr>\n",
       "  </thead>\n",
       "  <tbody>\n",
       "  </tbody>\n",
       "</table><p>"
      ],
      "text/plain": [
       "<IPython.core.display.HTML object>"
      ]
     },
     "metadata": {},
     "output_type": "display_data"
    },
    {
     "data": {
      "text/html": [
       "\n",
       "    <div>\n",
       "      \n",
       "      <progress value='33' max='321' style='width:300px; height:20px; vertical-align: middle;'></progress>\n",
       "      [ 33/321 00:05 < 00:54, 5.28 it/s, Epoch 0.30/3]\n",
       "    </div>\n",
       "    <table border=\"1\" class=\"dataframe\">\n",
       "  <thead>\n",
       "    <tr style=\"text-align: left;\">\n",
       "      <th>Step</th>\n",
       "      <th>Training Loss</th>\n",
       "    </tr>\n",
       "  </thead>\n",
       "  <tbody>\n",
       "  </tbody>\n",
       "</table><p>"
      ],
      "text/plain": [
       "<IPython.core.display.HTML object>"
      ]
     },
     "metadata": {},
     "output_type": "display_data"
    },
    {
     "data": {
      "text/html": [
       "\n",
       "    <div>\n",
       "      \n",
       "      <progress value='34' max='321' style='width:300px; height:20px; vertical-align: middle;'></progress>\n",
       "      [ 34/321 00:06 < 00:54, 5.28 it/s, Epoch 0.31/3]\n",
       "    </div>\n",
       "    <table border=\"1\" class=\"dataframe\">\n",
       "  <thead>\n",
       "    <tr style=\"text-align: left;\">\n",
       "      <th>Step</th>\n",
       "      <th>Training Loss</th>\n",
       "    </tr>\n",
       "  </thead>\n",
       "  <tbody>\n",
       "  </tbody>\n",
       "</table><p>"
      ],
      "text/plain": [
       "<IPython.core.display.HTML object>"
      ]
     },
     "metadata": {},
     "output_type": "display_data"
    },
    {
     "data": {
      "text/html": [
       "\n",
       "    <div>\n",
       "      \n",
       "      <progress value='35' max='321' style='width:300px; height:20px; vertical-align: middle;'></progress>\n",
       "      [ 35/321 00:06 < 00:54, 5.29 it/s, Epoch 0.32/3]\n",
       "    </div>\n",
       "    <table border=\"1\" class=\"dataframe\">\n",
       "  <thead>\n",
       "    <tr style=\"text-align: left;\">\n",
       "      <th>Step</th>\n",
       "      <th>Training Loss</th>\n",
       "    </tr>\n",
       "  </thead>\n",
       "  <tbody>\n",
       "  </tbody>\n",
       "</table><p>"
      ],
      "text/plain": [
       "<IPython.core.display.HTML object>"
      ]
     },
     "metadata": {},
     "output_type": "display_data"
    },
    {
     "data": {
      "text/html": [
       "\n",
       "    <div>\n",
       "      \n",
       "      <progress value='36' max='321' style='width:300px; height:20px; vertical-align: middle;'></progress>\n",
       "      [ 36/321 00:06 < 00:53, 5.29 it/s, Epoch 0.33/3]\n",
       "    </div>\n",
       "    <table border=\"1\" class=\"dataframe\">\n",
       "  <thead>\n",
       "    <tr style=\"text-align: left;\">\n",
       "      <th>Step</th>\n",
       "      <th>Training Loss</th>\n",
       "    </tr>\n",
       "  </thead>\n",
       "  <tbody>\n",
       "  </tbody>\n",
       "</table><p>"
      ],
      "text/plain": [
       "<IPython.core.display.HTML object>"
      ]
     },
     "metadata": {},
     "output_type": "display_data"
    },
    {
     "data": {
      "text/html": [
       "\n",
       "    <div>\n",
       "      \n",
       "      <progress value='37' max='321' style='width:300px; height:20px; vertical-align: middle;'></progress>\n",
       "      [ 37/321 00:06 < 00:53, 5.29 it/s, Epoch 0.34/3]\n",
       "    </div>\n",
       "    <table border=\"1\" class=\"dataframe\">\n",
       "  <thead>\n",
       "    <tr style=\"text-align: left;\">\n",
       "      <th>Step</th>\n",
       "      <th>Training Loss</th>\n",
       "    </tr>\n",
       "  </thead>\n",
       "  <tbody>\n",
       "  </tbody>\n",
       "</table><p>"
      ],
      "text/plain": [
       "<IPython.core.display.HTML object>"
      ]
     },
     "metadata": {},
     "output_type": "display_data"
    },
    {
     "data": {
      "text/html": [
       "\n",
       "    <div>\n",
       "      \n",
       "      <progress value='38' max='321' style='width:300px; height:20px; vertical-align: middle;'></progress>\n",
       "      [ 38/321 00:06 < 00:53, 5.30 it/s, Epoch 0.35/3]\n",
       "    </div>\n",
       "    <table border=\"1\" class=\"dataframe\">\n",
       "  <thead>\n",
       "    <tr style=\"text-align: left;\">\n",
       "      <th>Step</th>\n",
       "      <th>Training Loss</th>\n",
       "    </tr>\n",
       "  </thead>\n",
       "  <tbody>\n",
       "  </tbody>\n",
       "</table><p>"
      ],
      "text/plain": [
       "<IPython.core.display.HTML object>"
      ]
     },
     "metadata": {},
     "output_type": "display_data"
    },
    {
     "data": {
      "text/html": [
       "\n",
       "    <div>\n",
       "      \n",
       "      <progress value='39' max='321' style='width:300px; height:20px; vertical-align: middle;'></progress>\n",
       "      [ 39/321 00:06 < 00:53, 5.31 it/s, Epoch 0.36/3]\n",
       "    </div>\n",
       "    <table border=\"1\" class=\"dataframe\">\n",
       "  <thead>\n",
       "    <tr style=\"text-align: left;\">\n",
       "      <th>Step</th>\n",
       "      <th>Training Loss</th>\n",
       "    </tr>\n",
       "  </thead>\n",
       "  <tbody>\n",
       "  </tbody>\n",
       "</table><p>"
      ],
      "text/plain": [
       "<IPython.core.display.HTML object>"
      ]
     },
     "metadata": {},
     "output_type": "display_data"
    },
    {
     "data": {
      "text/html": [
       "\n",
       "    <div>\n",
       "      \n",
       "      <progress value='40' max='321' style='width:300px; height:20px; vertical-align: middle;'></progress>\n",
       "      [ 40/321 00:07 < 00:52, 5.31 it/s, Epoch 0.36/3]\n",
       "    </div>\n",
       "    <table border=\"1\" class=\"dataframe\">\n",
       "  <thead>\n",
       "    <tr style=\"text-align: left;\">\n",
       "      <th>Step</th>\n",
       "      <th>Training Loss</th>\n",
       "    </tr>\n",
       "  </thead>\n",
       "  <tbody>\n",
       "  </tbody>\n",
       "</table><p>"
      ],
      "text/plain": [
       "<IPython.core.display.HTML object>"
      ]
     },
     "metadata": {},
     "output_type": "display_data"
    },
    {
     "data": {
      "text/html": [
       "\n",
       "    <div>\n",
       "      \n",
       "      <progress value='41' max='321' style='width:300px; height:20px; vertical-align: middle;'></progress>\n",
       "      [ 41/321 00:07 < 00:52, 5.30 it/s, Epoch 0.37/3]\n",
       "    </div>\n",
       "    <table border=\"1\" class=\"dataframe\">\n",
       "  <thead>\n",
       "    <tr style=\"text-align: left;\">\n",
       "      <th>Step</th>\n",
       "      <th>Training Loss</th>\n",
       "    </tr>\n",
       "  </thead>\n",
       "  <tbody>\n",
       "  </tbody>\n",
       "</table><p>"
      ],
      "text/plain": [
       "<IPython.core.display.HTML object>"
      ]
     },
     "metadata": {},
     "output_type": "display_data"
    },
    {
     "data": {
      "text/html": [
       "\n",
       "    <div>\n",
       "      \n",
       "      <progress value='42' max='321' style='width:300px; height:20px; vertical-align: middle;'></progress>\n",
       "      [ 42/321 00:07 < 00:52, 5.30 it/s, Epoch 0.38/3]\n",
       "    </div>\n",
       "    <table border=\"1\" class=\"dataframe\">\n",
       "  <thead>\n",
       "    <tr style=\"text-align: left;\">\n",
       "      <th>Step</th>\n",
       "      <th>Training Loss</th>\n",
       "    </tr>\n",
       "  </thead>\n",
       "  <tbody>\n",
       "  </tbody>\n",
       "</table><p>"
      ],
      "text/plain": [
       "<IPython.core.display.HTML object>"
      ]
     },
     "metadata": {},
     "output_type": "display_data"
    },
    {
     "data": {
      "text/html": [
       "\n",
       "    <div>\n",
       "      \n",
       "      <progress value='43' max='321' style='width:300px; height:20px; vertical-align: middle;'></progress>\n",
       "      [ 43/321 00:07 < 00:52, 5.31 it/s, Epoch 0.39/3]\n",
       "    </div>\n",
       "    <table border=\"1\" class=\"dataframe\">\n",
       "  <thead>\n",
       "    <tr style=\"text-align: left;\">\n",
       "      <th>Step</th>\n",
       "      <th>Training Loss</th>\n",
       "    </tr>\n",
       "  </thead>\n",
       "  <tbody>\n",
       "  </tbody>\n",
       "</table><p>"
      ],
      "text/plain": [
       "<IPython.core.display.HTML object>"
      ]
     },
     "metadata": {},
     "output_type": "display_data"
    },
    {
     "data": {
      "text/html": [
       "\n",
       "    <div>\n",
       "      \n",
       "      <progress value='44' max='321' style='width:300px; height:20px; vertical-align: middle;'></progress>\n",
       "      [ 44/321 00:07 < 00:52, 5.31 it/s, Epoch 0.40/3]\n",
       "    </div>\n",
       "    <table border=\"1\" class=\"dataframe\">\n",
       "  <thead>\n",
       "    <tr style=\"text-align: left;\">\n",
       "      <th>Step</th>\n",
       "      <th>Training Loss</th>\n",
       "    </tr>\n",
       "  </thead>\n",
       "  <tbody>\n",
       "  </tbody>\n",
       "</table><p>"
      ],
      "text/plain": [
       "<IPython.core.display.HTML object>"
      ]
     },
     "metadata": {},
     "output_type": "display_data"
    },
    {
     "data": {
      "text/html": [
       "\n",
       "    <div>\n",
       "      \n",
       "      <progress value='45' max='321' style='width:300px; height:20px; vertical-align: middle;'></progress>\n",
       "      [ 45/321 00:08 < 00:51, 5.31 it/s, Epoch 0.41/3]\n",
       "    </div>\n",
       "    <table border=\"1\" class=\"dataframe\">\n",
       "  <thead>\n",
       "    <tr style=\"text-align: left;\">\n",
       "      <th>Step</th>\n",
       "      <th>Training Loss</th>\n",
       "    </tr>\n",
       "  </thead>\n",
       "  <tbody>\n",
       "  </tbody>\n",
       "</table><p>"
      ],
      "text/plain": [
       "<IPython.core.display.HTML object>"
      ]
     },
     "metadata": {},
     "output_type": "display_data"
    },
    {
     "data": {
      "text/html": [
       "\n",
       "    <div>\n",
       "      \n",
       "      <progress value='46' max='321' style='width:300px; height:20px; vertical-align: middle;'></progress>\n",
       "      [ 46/321 00:08 < 00:51, 5.32 it/s, Epoch 0.42/3]\n",
       "    </div>\n",
       "    <table border=\"1\" class=\"dataframe\">\n",
       "  <thead>\n",
       "    <tr style=\"text-align: left;\">\n",
       "      <th>Step</th>\n",
       "      <th>Training Loss</th>\n",
       "    </tr>\n",
       "  </thead>\n",
       "  <tbody>\n",
       "  </tbody>\n",
       "</table><p>"
      ],
      "text/plain": [
       "<IPython.core.display.HTML object>"
      ]
     },
     "metadata": {},
     "output_type": "display_data"
    },
    {
     "data": {
      "text/html": [
       "\n",
       "    <div>\n",
       "      \n",
       "      <progress value='47' max='321' style='width:300px; height:20px; vertical-align: middle;'></progress>\n",
       "      [ 47/321 00:08 < 00:51, 5.32 it/s, Epoch 0.43/3]\n",
       "    </div>\n",
       "    <table border=\"1\" class=\"dataframe\">\n",
       "  <thead>\n",
       "    <tr style=\"text-align: left;\">\n",
       "      <th>Step</th>\n",
       "      <th>Training Loss</th>\n",
       "    </tr>\n",
       "  </thead>\n",
       "  <tbody>\n",
       "  </tbody>\n",
       "</table><p>"
      ],
      "text/plain": [
       "<IPython.core.display.HTML object>"
      ]
     },
     "metadata": {},
     "output_type": "display_data"
    },
    {
     "data": {
      "text/html": [
       "\n",
       "    <div>\n",
       "      \n",
       "      <progress value='48' max='321' style='width:300px; height:20px; vertical-align: middle;'></progress>\n",
       "      [ 48/321 00:08 < 00:51, 5.32 it/s, Epoch 0.44/3]\n",
       "    </div>\n",
       "    <table border=\"1\" class=\"dataframe\">\n",
       "  <thead>\n",
       "    <tr style=\"text-align: left;\">\n",
       "      <th>Step</th>\n",
       "      <th>Training Loss</th>\n",
       "    </tr>\n",
       "  </thead>\n",
       "  <tbody>\n",
       "  </tbody>\n",
       "</table><p>"
      ],
      "text/plain": [
       "<IPython.core.display.HTML object>"
      ]
     },
     "metadata": {},
     "output_type": "display_data"
    },
    {
     "data": {
      "text/html": [
       "\n",
       "    <div>\n",
       "      \n",
       "      <progress value='49' max='321' style='width:300px; height:20px; vertical-align: middle;'></progress>\n",
       "      [ 49/321 00:08 < 00:51, 5.33 it/s, Epoch 0.45/3]\n",
       "    </div>\n",
       "    <table border=\"1\" class=\"dataframe\">\n",
       "  <thead>\n",
       "    <tr style=\"text-align: left;\">\n",
       "      <th>Step</th>\n",
       "      <th>Training Loss</th>\n",
       "    </tr>\n",
       "  </thead>\n",
       "  <tbody>\n",
       "  </tbody>\n",
       "</table><p>"
      ],
      "text/plain": [
       "<IPython.core.display.HTML object>"
      ]
     },
     "metadata": {},
     "output_type": "display_data"
    },
    {
     "data": {
      "text/html": [
       "\n",
       "    <div>\n",
       "      \n",
       "      <progress value='50' max='321' style='width:300px; height:20px; vertical-align: middle;'></progress>\n",
       "      [ 50/321 00:09 < 00:50, 5.33 it/s, Epoch 0.46/3]\n",
       "    </div>\n",
       "    <table border=\"1\" class=\"dataframe\">\n",
       "  <thead>\n",
       "    <tr style=\"text-align: left;\">\n",
       "      <th>Step</th>\n",
       "      <th>Training Loss</th>\n",
       "    </tr>\n",
       "  </thead>\n",
       "  <tbody>\n",
       "  </tbody>\n",
       "</table><p>"
      ],
      "text/plain": [
       "<IPython.core.display.HTML object>"
      ]
     },
     "metadata": {},
     "output_type": "display_data"
    },
    {
     "data": {
      "text/html": [
       "\n",
       "    <div>\n",
       "      \n",
       "      <progress value='51' max='321' style='width:300px; height:20px; vertical-align: middle;'></progress>\n",
       "      [ 51/321 00:09 < 00:50, 5.33 it/s, Epoch 0.47/3]\n",
       "    </div>\n",
       "    <table border=\"1\" class=\"dataframe\">\n",
       "  <thead>\n",
       "    <tr style=\"text-align: left;\">\n",
       "      <th>Step</th>\n",
       "      <th>Training Loss</th>\n",
       "    </tr>\n",
       "  </thead>\n",
       "  <tbody>\n",
       "  </tbody>\n",
       "</table><p>"
      ],
      "text/plain": [
       "<IPython.core.display.HTML object>"
      ]
     },
     "metadata": {},
     "output_type": "display_data"
    },
    {
     "data": {
      "text/html": [
       "\n",
       "    <div>\n",
       "      \n",
       "      <progress value='52' max='321' style='width:300px; height:20px; vertical-align: middle;'></progress>\n",
       "      [ 52/321 00:09 < 00:50, 5.34 it/s, Epoch 0.48/3]\n",
       "    </div>\n",
       "    <table border=\"1\" class=\"dataframe\">\n",
       "  <thead>\n",
       "    <tr style=\"text-align: left;\">\n",
       "      <th>Step</th>\n",
       "      <th>Training Loss</th>\n",
       "    </tr>\n",
       "  </thead>\n",
       "  <tbody>\n",
       "  </tbody>\n",
       "</table><p>"
      ],
      "text/plain": [
       "<IPython.core.display.HTML object>"
      ]
     },
     "metadata": {},
     "output_type": "display_data"
    },
    {
     "data": {
      "text/html": [
       "\n",
       "    <div>\n",
       "      \n",
       "      <progress value='53' max='321' style='width:300px; height:20px; vertical-align: middle;'></progress>\n",
       "      [ 53/321 00:09 < 00:50, 5.26 it/s, Epoch 0.49/3]\n",
       "    </div>\n",
       "    <table border=\"1\" class=\"dataframe\">\n",
       "  <thead>\n",
       "    <tr style=\"text-align: left;\">\n",
       "      <th>Step</th>\n",
       "      <th>Training Loss</th>\n",
       "    </tr>\n",
       "  </thead>\n",
       "  <tbody>\n",
       "  </tbody>\n",
       "</table><p>"
      ],
      "text/plain": [
       "<IPython.core.display.HTML object>"
      ]
     },
     "metadata": {},
     "output_type": "display_data"
    },
    {
     "data": {
      "text/html": [
       "\n",
       "    <div>\n",
       "      \n",
       "      <progress value='54' max='321' style='width:300px; height:20px; vertical-align: middle;'></progress>\n",
       "      [ 54/321 00:09 < 00:50, 5.26 it/s, Epoch 0.50/3]\n",
       "    </div>\n",
       "    <table border=\"1\" class=\"dataframe\">\n",
       "  <thead>\n",
       "    <tr style=\"text-align: left;\">\n",
       "      <th>Step</th>\n",
       "      <th>Training Loss</th>\n",
       "    </tr>\n",
       "  </thead>\n",
       "  <tbody>\n",
       "  </tbody>\n",
       "</table><p>"
      ],
      "text/plain": [
       "<IPython.core.display.HTML object>"
      ]
     },
     "metadata": {},
     "output_type": "display_data"
    },
    {
     "data": {
      "text/html": [
       "\n",
       "    <div>\n",
       "      \n",
       "      <progress value='55' max='321' style='width:300px; height:20px; vertical-align: middle;'></progress>\n",
       "      [ 55/321 00:10 < 00:50, 5.27 it/s, Epoch 0.50/3]\n",
       "    </div>\n",
       "    <table border=\"1\" class=\"dataframe\">\n",
       "  <thead>\n",
       "    <tr style=\"text-align: left;\">\n",
       "      <th>Step</th>\n",
       "      <th>Training Loss</th>\n",
       "    </tr>\n",
       "  </thead>\n",
       "  <tbody>\n",
       "  </tbody>\n",
       "</table><p>"
      ],
      "text/plain": [
       "<IPython.core.display.HTML object>"
      ]
     },
     "metadata": {},
     "output_type": "display_data"
    },
    {
     "data": {
      "text/html": [
       "\n",
       "    <div>\n",
       "      \n",
       "      <progress value='56' max='321' style='width:300px; height:20px; vertical-align: middle;'></progress>\n",
       "      [ 56/321 00:10 < 00:50, 5.27 it/s, Epoch 0.51/3]\n",
       "    </div>\n",
       "    <table border=\"1\" class=\"dataframe\">\n",
       "  <thead>\n",
       "    <tr style=\"text-align: left;\">\n",
       "      <th>Step</th>\n",
       "      <th>Training Loss</th>\n",
       "    </tr>\n",
       "  </thead>\n",
       "  <tbody>\n",
       "  </tbody>\n",
       "</table><p>"
      ],
      "text/plain": [
       "<IPython.core.display.HTML object>"
      ]
     },
     "metadata": {},
     "output_type": "display_data"
    },
    {
     "data": {
      "text/html": [
       "\n",
       "    <div>\n",
       "      \n",
       "      <progress value='57' max='321' style='width:300px; height:20px; vertical-align: middle;'></progress>\n",
       "      [ 57/321 00:10 < 00:50, 5.27 it/s, Epoch 0.52/3]\n",
       "    </div>\n",
       "    <table border=\"1\" class=\"dataframe\">\n",
       "  <thead>\n",
       "    <tr style=\"text-align: left;\">\n",
       "      <th>Step</th>\n",
       "      <th>Training Loss</th>\n",
       "    </tr>\n",
       "  </thead>\n",
       "  <tbody>\n",
       "  </tbody>\n",
       "</table><p>"
      ],
      "text/plain": [
       "<IPython.core.display.HTML object>"
      ]
     },
     "metadata": {},
     "output_type": "display_data"
    },
    {
     "data": {
      "text/html": [
       "\n",
       "    <div>\n",
       "      \n",
       "      <progress value='58' max='321' style='width:300px; height:20px; vertical-align: middle;'></progress>\n",
       "      [ 58/321 00:10 < 00:49, 5.28 it/s, Epoch 0.53/3]\n",
       "    </div>\n",
       "    <table border=\"1\" class=\"dataframe\">\n",
       "  <thead>\n",
       "    <tr style=\"text-align: left;\">\n",
       "      <th>Step</th>\n",
       "      <th>Training Loss</th>\n",
       "    </tr>\n",
       "  </thead>\n",
       "  <tbody>\n",
       "  </tbody>\n",
       "</table><p>"
      ],
      "text/plain": [
       "<IPython.core.display.HTML object>"
      ]
     },
     "metadata": {},
     "output_type": "display_data"
    },
    {
     "data": {
      "text/html": [
       "\n",
       "    <div>\n",
       "      \n",
       "      <progress value='59' max='321' style='width:300px; height:20px; vertical-align: middle;'></progress>\n",
       "      [ 59/321 00:10 < 00:49, 5.28 it/s, Epoch 0.54/3]\n",
       "    </div>\n",
       "    <table border=\"1\" class=\"dataframe\">\n",
       "  <thead>\n",
       "    <tr style=\"text-align: left;\">\n",
       "      <th>Step</th>\n",
       "      <th>Training Loss</th>\n",
       "    </tr>\n",
       "  </thead>\n",
       "  <tbody>\n",
       "  </tbody>\n",
       "</table><p>"
      ],
      "text/plain": [
       "<IPython.core.display.HTML object>"
      ]
     },
     "metadata": {},
     "output_type": "display_data"
    },
    {
     "data": {
      "text/html": [
       "\n",
       "    <div>\n",
       "      \n",
       "      <progress value='60' max='321' style='width:300px; height:20px; vertical-align: middle;'></progress>\n",
       "      [ 60/321 00:10 < 00:49, 5.28 it/s, Epoch 0.55/3]\n",
       "    </div>\n",
       "    <table border=\"1\" class=\"dataframe\">\n",
       "  <thead>\n",
       "    <tr style=\"text-align: left;\">\n",
       "      <th>Step</th>\n",
       "      <th>Training Loss</th>\n",
       "    </tr>\n",
       "  </thead>\n",
       "  <tbody>\n",
       "  </tbody>\n",
       "</table><p>"
      ],
      "text/plain": [
       "<IPython.core.display.HTML object>"
      ]
     },
     "metadata": {},
     "output_type": "display_data"
    },
    {
     "data": {
      "text/html": [
       "\n",
       "    <div>\n",
       "      \n",
       "      <progress value='61' max='321' style='width:300px; height:20px; vertical-align: middle;'></progress>\n",
       "      [ 61/321 00:11 < 00:49, 5.28 it/s, Epoch 0.56/3]\n",
       "    </div>\n",
       "    <table border=\"1\" class=\"dataframe\">\n",
       "  <thead>\n",
       "    <tr style=\"text-align: left;\">\n",
       "      <th>Step</th>\n",
       "      <th>Training Loss</th>\n",
       "    </tr>\n",
       "  </thead>\n",
       "  <tbody>\n",
       "  </tbody>\n",
       "</table><p>"
      ],
      "text/plain": [
       "<IPython.core.display.HTML object>"
      ]
     },
     "metadata": {},
     "output_type": "display_data"
    },
    {
     "data": {
      "text/html": [
       "\n",
       "    <div>\n",
       "      \n",
       "      <progress value='62' max='321' style='width:300px; height:20px; vertical-align: middle;'></progress>\n",
       "      [ 62/321 00:11 < 00:49, 5.28 it/s, Epoch 0.57/3]\n",
       "    </div>\n",
       "    <table border=\"1\" class=\"dataframe\">\n",
       "  <thead>\n",
       "    <tr style=\"text-align: left;\">\n",
       "      <th>Step</th>\n",
       "      <th>Training Loss</th>\n",
       "    </tr>\n",
       "  </thead>\n",
       "  <tbody>\n",
       "  </tbody>\n",
       "</table><p>"
      ],
      "text/plain": [
       "<IPython.core.display.HTML object>"
      ]
     },
     "metadata": {},
     "output_type": "display_data"
    },
    {
     "data": {
      "text/html": [
       "\n",
       "    <div>\n",
       "      \n",
       "      <progress value='63' max='321' style='width:300px; height:20px; vertical-align: middle;'></progress>\n",
       "      [ 63/321 00:11 < 00:48, 5.28 it/s, Epoch 0.58/3]\n",
       "    </div>\n",
       "    <table border=\"1\" class=\"dataframe\">\n",
       "  <thead>\n",
       "    <tr style=\"text-align: left;\">\n",
       "      <th>Step</th>\n",
       "      <th>Training Loss</th>\n",
       "    </tr>\n",
       "  </thead>\n",
       "  <tbody>\n",
       "  </tbody>\n",
       "</table><p>"
      ],
      "text/plain": [
       "<IPython.core.display.HTML object>"
      ]
     },
     "metadata": {},
     "output_type": "display_data"
    },
    {
     "data": {
      "text/html": [
       "\n",
       "    <div>\n",
       "      \n",
       "      <progress value='64' max='321' style='width:300px; height:20px; vertical-align: middle;'></progress>\n",
       "      [ 64/321 00:11 < 00:48, 5.29 it/s, Epoch 0.59/3]\n",
       "    </div>\n",
       "    <table border=\"1\" class=\"dataframe\">\n",
       "  <thead>\n",
       "    <tr style=\"text-align: left;\">\n",
       "      <th>Step</th>\n",
       "      <th>Training Loss</th>\n",
       "    </tr>\n",
       "  </thead>\n",
       "  <tbody>\n",
       "  </tbody>\n",
       "</table><p>"
      ],
      "text/plain": [
       "<IPython.core.display.HTML object>"
      ]
     },
     "metadata": {},
     "output_type": "display_data"
    },
    {
     "data": {
      "text/html": [
       "\n",
       "    <div>\n",
       "      \n",
       "      <progress value='65' max='321' style='width:300px; height:20px; vertical-align: middle;'></progress>\n",
       "      [ 65/321 00:11 < 00:48, 5.29 it/s, Epoch 0.60/3]\n",
       "    </div>\n",
       "    <table border=\"1\" class=\"dataframe\">\n",
       "  <thead>\n",
       "    <tr style=\"text-align: left;\">\n",
       "      <th>Step</th>\n",
       "      <th>Training Loss</th>\n",
       "    </tr>\n",
       "  </thead>\n",
       "  <tbody>\n",
       "  </tbody>\n",
       "</table><p>"
      ],
      "text/plain": [
       "<IPython.core.display.HTML object>"
      ]
     },
     "metadata": {},
     "output_type": "display_data"
    },
    {
     "data": {
      "text/html": [
       "\n",
       "    <div>\n",
       "      \n",
       "      <progress value='66' max='321' style='width:300px; height:20px; vertical-align: middle;'></progress>\n",
       "      [ 66/321 00:12 < 00:48, 5.29 it/s, Epoch 0.61/3]\n",
       "    </div>\n",
       "    <table border=\"1\" class=\"dataframe\">\n",
       "  <thead>\n",
       "    <tr style=\"text-align: left;\">\n",
       "      <th>Step</th>\n",
       "      <th>Training Loss</th>\n",
       "    </tr>\n",
       "  </thead>\n",
       "  <tbody>\n",
       "  </tbody>\n",
       "</table><p>"
      ],
      "text/plain": [
       "<IPython.core.display.HTML object>"
      ]
     },
     "metadata": {},
     "output_type": "display_data"
    },
    {
     "data": {
      "text/html": [
       "\n",
       "    <div>\n",
       "      \n",
       "      <progress value='67' max='321' style='width:300px; height:20px; vertical-align: middle;'></progress>\n",
       "      [ 67/321 00:12 < 00:47, 5.29 it/s, Epoch 0.62/3]\n",
       "    </div>\n",
       "    <table border=\"1\" class=\"dataframe\">\n",
       "  <thead>\n",
       "    <tr style=\"text-align: left;\">\n",
       "      <th>Step</th>\n",
       "      <th>Training Loss</th>\n",
       "    </tr>\n",
       "  </thead>\n",
       "  <tbody>\n",
       "  </tbody>\n",
       "</table><p>"
      ],
      "text/plain": [
       "<IPython.core.display.HTML object>"
      ]
     },
     "metadata": {},
     "output_type": "display_data"
    },
    {
     "data": {
      "text/html": [
       "\n",
       "    <div>\n",
       "      \n",
       "      <progress value='68' max='321' style='width:300px; height:20px; vertical-align: middle;'></progress>\n",
       "      [ 68/321 00:12 < 00:47, 5.30 it/s, Epoch 0.63/3]\n",
       "    </div>\n",
       "    <table border=\"1\" class=\"dataframe\">\n",
       "  <thead>\n",
       "    <tr style=\"text-align: left;\">\n",
       "      <th>Step</th>\n",
       "      <th>Training Loss</th>\n",
       "    </tr>\n",
       "  </thead>\n",
       "  <tbody>\n",
       "  </tbody>\n",
       "</table><p>"
      ],
      "text/plain": [
       "<IPython.core.display.HTML object>"
      ]
     },
     "metadata": {},
     "output_type": "display_data"
    },
    {
     "data": {
      "text/html": [
       "\n",
       "    <div>\n",
       "      \n",
       "      <progress value='69' max='321' style='width:300px; height:20px; vertical-align: middle;'></progress>\n",
       "      [ 69/321 00:12 < 00:47, 5.30 it/s, Epoch 0.64/3]\n",
       "    </div>\n",
       "    <table border=\"1\" class=\"dataframe\">\n",
       "  <thead>\n",
       "    <tr style=\"text-align: left;\">\n",
       "      <th>Step</th>\n",
       "      <th>Training Loss</th>\n",
       "    </tr>\n",
       "  </thead>\n",
       "  <tbody>\n",
       "  </tbody>\n",
       "</table><p>"
      ],
      "text/plain": [
       "<IPython.core.display.HTML object>"
      ]
     },
     "metadata": {},
     "output_type": "display_data"
    },
    {
     "data": {
      "text/html": [
       "\n",
       "    <div>\n",
       "      \n",
       "      <progress value='70' max='321' style='width:300px; height:20px; vertical-align: middle;'></progress>\n",
       "      [ 70/321 00:12 < 00:47, 5.30 it/s, Epoch 0.64/3]\n",
       "    </div>\n",
       "    <table border=\"1\" class=\"dataframe\">\n",
       "  <thead>\n",
       "    <tr style=\"text-align: left;\">\n",
       "      <th>Step</th>\n",
       "      <th>Training Loss</th>\n",
       "    </tr>\n",
       "  </thead>\n",
       "  <tbody>\n",
       "  </tbody>\n",
       "</table><p>"
      ],
      "text/plain": [
       "<IPython.core.display.HTML object>"
      ]
     },
     "metadata": {},
     "output_type": "display_data"
    },
    {
     "data": {
      "text/html": [
       "\n",
       "    <div>\n",
       "      \n",
       "      <progress value='71' max='321' style='width:300px; height:20px; vertical-align: middle;'></progress>\n",
       "      [ 71/321 00:13 < 00:47, 5.30 it/s, Epoch 0.65/3]\n",
       "    </div>\n",
       "    <table border=\"1\" class=\"dataframe\">\n",
       "  <thead>\n",
       "    <tr style=\"text-align: left;\">\n",
       "      <th>Step</th>\n",
       "      <th>Training Loss</th>\n",
       "    </tr>\n",
       "  </thead>\n",
       "  <tbody>\n",
       "  </tbody>\n",
       "</table><p>"
      ],
      "text/plain": [
       "<IPython.core.display.HTML object>"
      ]
     },
     "metadata": {},
     "output_type": "display_data"
    },
    {
     "data": {
      "text/html": [
       "\n",
       "    <div>\n",
       "      \n",
       "      <progress value='72' max='321' style='width:300px; height:20px; vertical-align: middle;'></progress>\n",
       "      [ 72/321 00:13 < 00:46, 5.30 it/s, Epoch 0.66/3]\n",
       "    </div>\n",
       "    <table border=\"1\" class=\"dataframe\">\n",
       "  <thead>\n",
       "    <tr style=\"text-align: left;\">\n",
       "      <th>Step</th>\n",
       "      <th>Training Loss</th>\n",
       "    </tr>\n",
       "  </thead>\n",
       "  <tbody>\n",
       "  </tbody>\n",
       "</table><p>"
      ],
      "text/plain": [
       "<IPython.core.display.HTML object>"
      ]
     },
     "metadata": {},
     "output_type": "display_data"
    },
    {
     "data": {
      "text/html": [
       "\n",
       "    <div>\n",
       "      \n",
       "      <progress value='73' max='321' style='width:300px; height:20px; vertical-align: middle;'></progress>\n",
       "      [ 73/321 00:13 < 00:46, 5.30 it/s, Epoch 0.67/3]\n",
       "    </div>\n",
       "    <table border=\"1\" class=\"dataframe\">\n",
       "  <thead>\n",
       "    <tr style=\"text-align: left;\">\n",
       "      <th>Step</th>\n",
       "      <th>Training Loss</th>\n",
       "    </tr>\n",
       "  </thead>\n",
       "  <tbody>\n",
       "  </tbody>\n",
       "</table><p>"
      ],
      "text/plain": [
       "<IPython.core.display.HTML object>"
      ]
     },
     "metadata": {},
     "output_type": "display_data"
    },
    {
     "data": {
      "text/html": [
       "\n",
       "    <div>\n",
       "      \n",
       "      <progress value='74' max='321' style='width:300px; height:20px; vertical-align: middle;'></progress>\n",
       "      [ 74/321 00:13 < 00:46, 5.30 it/s, Epoch 0.68/3]\n",
       "    </div>\n",
       "    <table border=\"1\" class=\"dataframe\">\n",
       "  <thead>\n",
       "    <tr style=\"text-align: left;\">\n",
       "      <th>Step</th>\n",
       "      <th>Training Loss</th>\n",
       "    </tr>\n",
       "  </thead>\n",
       "  <tbody>\n",
       "  </tbody>\n",
       "</table><p>"
      ],
      "text/plain": [
       "<IPython.core.display.HTML object>"
      ]
     },
     "metadata": {},
     "output_type": "display_data"
    },
    {
     "data": {
      "text/html": [
       "\n",
       "    <div>\n",
       "      \n",
       "      <progress value='75' max='321' style='width:300px; height:20px; vertical-align: middle;'></progress>\n",
       "      [ 75/321 00:13 < 00:46, 5.30 it/s, Epoch 0.69/3]\n",
       "    </div>\n",
       "    <table border=\"1\" class=\"dataframe\">\n",
       "  <thead>\n",
       "    <tr style=\"text-align: left;\">\n",
       "      <th>Step</th>\n",
       "      <th>Training Loss</th>\n",
       "    </tr>\n",
       "  </thead>\n",
       "  <tbody>\n",
       "  </tbody>\n",
       "</table><p>"
      ],
      "text/plain": [
       "<IPython.core.display.HTML object>"
      ]
     },
     "metadata": {},
     "output_type": "display_data"
    },
    {
     "data": {
      "text/html": [
       "\n",
       "    <div>\n",
       "      \n",
       "      <progress value='76' max='321' style='width:300px; height:20px; vertical-align: middle;'></progress>\n",
       "      [ 76/321 00:13 < 00:46, 5.30 it/s, Epoch 0.70/3]\n",
       "    </div>\n",
       "    <table border=\"1\" class=\"dataframe\">\n",
       "  <thead>\n",
       "    <tr style=\"text-align: left;\">\n",
       "      <th>Step</th>\n",
       "      <th>Training Loss</th>\n",
       "    </tr>\n",
       "  </thead>\n",
       "  <tbody>\n",
       "  </tbody>\n",
       "</table><p>"
      ],
      "text/plain": [
       "<IPython.core.display.HTML object>"
      ]
     },
     "metadata": {},
     "output_type": "display_data"
    },
    {
     "data": {
      "text/html": [
       "\n",
       "    <div>\n",
       "      \n",
       "      <progress value='77' max='321' style='width:300px; height:20px; vertical-align: middle;'></progress>\n",
       "      [ 77/321 00:14 < 00:46, 5.30 it/s, Epoch 0.71/3]\n",
       "    </div>\n",
       "    <table border=\"1\" class=\"dataframe\">\n",
       "  <thead>\n",
       "    <tr style=\"text-align: left;\">\n",
       "      <th>Step</th>\n",
       "      <th>Training Loss</th>\n",
       "    </tr>\n",
       "  </thead>\n",
       "  <tbody>\n",
       "  </tbody>\n",
       "</table><p>"
      ],
      "text/plain": [
       "<IPython.core.display.HTML object>"
      ]
     },
     "metadata": {},
     "output_type": "display_data"
    },
    {
     "data": {
      "text/html": [
       "\n",
       "    <div>\n",
       "      \n",
       "      <progress value='78' max='321' style='width:300px; height:20px; vertical-align: middle;'></progress>\n",
       "      [ 78/321 00:14 < 00:45, 5.30 it/s, Epoch 0.72/3]\n",
       "    </div>\n",
       "    <table border=\"1\" class=\"dataframe\">\n",
       "  <thead>\n",
       "    <tr style=\"text-align: left;\">\n",
       "      <th>Step</th>\n",
       "      <th>Training Loss</th>\n",
       "    </tr>\n",
       "  </thead>\n",
       "  <tbody>\n",
       "  </tbody>\n",
       "</table><p>"
      ],
      "text/plain": [
       "<IPython.core.display.HTML object>"
      ]
     },
     "metadata": {},
     "output_type": "display_data"
    },
    {
     "data": {
      "text/html": [
       "\n",
       "    <div>\n",
       "      \n",
       "      <progress value='79' max='321' style='width:300px; height:20px; vertical-align: middle;'></progress>\n",
       "      [ 79/321 00:14 < 00:45, 5.31 it/s, Epoch 0.73/3]\n",
       "    </div>\n",
       "    <table border=\"1\" class=\"dataframe\">\n",
       "  <thead>\n",
       "    <tr style=\"text-align: left;\">\n",
       "      <th>Step</th>\n",
       "      <th>Training Loss</th>\n",
       "    </tr>\n",
       "  </thead>\n",
       "  <tbody>\n",
       "  </tbody>\n",
       "</table><p>"
      ],
      "text/plain": [
       "<IPython.core.display.HTML object>"
      ]
     },
     "metadata": {},
     "output_type": "display_data"
    },
    {
     "data": {
      "text/html": [
       "\n",
       "    <div>\n",
       "      \n",
       "      <progress value='80' max='321' style='width:300px; height:20px; vertical-align: middle;'></progress>\n",
       "      [ 80/321 00:14 < 00:45, 5.31 it/s, Epoch 0.74/3]\n",
       "    </div>\n",
       "    <table border=\"1\" class=\"dataframe\">\n",
       "  <thead>\n",
       "    <tr style=\"text-align: left;\">\n",
       "      <th>Step</th>\n",
       "      <th>Training Loss</th>\n",
       "    </tr>\n",
       "  </thead>\n",
       "  <tbody>\n",
       "  </tbody>\n",
       "</table><p>"
      ],
      "text/plain": [
       "<IPython.core.display.HTML object>"
      ]
     },
     "metadata": {},
     "output_type": "display_data"
    },
    {
     "data": {
      "text/html": [
       "\n",
       "    <div>\n",
       "      \n",
       "      <progress value='81' max='321' style='width:300px; height:20px; vertical-align: middle;'></progress>\n",
       "      [ 81/321 00:14 < 00:45, 5.31 it/s, Epoch 0.75/3]\n",
       "    </div>\n",
       "    <table border=\"1\" class=\"dataframe\">\n",
       "  <thead>\n",
       "    <tr style=\"text-align: left;\">\n",
       "      <th>Step</th>\n",
       "      <th>Training Loss</th>\n",
       "    </tr>\n",
       "  </thead>\n",
       "  <tbody>\n",
       "  </tbody>\n",
       "</table><p>"
      ],
      "text/plain": [
       "<IPython.core.display.HTML object>"
      ]
     },
     "metadata": {},
     "output_type": "display_data"
    },
    {
     "data": {
      "text/html": [
       "\n",
       "    <div>\n",
       "      \n",
       "      <progress value='82' max='321' style='width:300px; height:20px; vertical-align: middle;'></progress>\n",
       "      [ 82/321 00:15 < 00:45, 5.31 it/s, Epoch 0.76/3]\n",
       "    </div>\n",
       "    <table border=\"1\" class=\"dataframe\">\n",
       "  <thead>\n",
       "    <tr style=\"text-align: left;\">\n",
       "      <th>Step</th>\n",
       "      <th>Training Loss</th>\n",
       "    </tr>\n",
       "  </thead>\n",
       "  <tbody>\n",
       "  </tbody>\n",
       "</table><p>"
      ],
      "text/plain": [
       "<IPython.core.display.HTML object>"
      ]
     },
     "metadata": {},
     "output_type": "display_data"
    },
    {
     "data": {
      "text/html": [
       "\n",
       "    <div>\n",
       "      \n",
       "      <progress value='83' max='321' style='width:300px; height:20px; vertical-align: middle;'></progress>\n",
       "      [ 83/321 00:15 < 00:44, 5.31 it/s, Epoch 0.77/3]\n",
       "    </div>\n",
       "    <table border=\"1\" class=\"dataframe\">\n",
       "  <thead>\n",
       "    <tr style=\"text-align: left;\">\n",
       "      <th>Step</th>\n",
       "      <th>Training Loss</th>\n",
       "    </tr>\n",
       "  </thead>\n",
       "  <tbody>\n",
       "  </tbody>\n",
       "</table><p>"
      ],
      "text/plain": [
       "<IPython.core.display.HTML object>"
      ]
     },
     "metadata": {},
     "output_type": "display_data"
    },
    {
     "data": {
      "text/html": [
       "\n",
       "    <div>\n",
       "      \n",
       "      <progress value='84' max='321' style='width:300px; height:20px; vertical-align: middle;'></progress>\n",
       "      [ 84/321 00:15 < 00:44, 5.31 it/s, Epoch 0.78/3]\n",
       "    </div>\n",
       "    <table border=\"1\" class=\"dataframe\">\n",
       "  <thead>\n",
       "    <tr style=\"text-align: left;\">\n",
       "      <th>Step</th>\n",
       "      <th>Training Loss</th>\n",
       "    </tr>\n",
       "  </thead>\n",
       "  <tbody>\n",
       "  </tbody>\n",
       "</table><p>"
      ],
      "text/plain": [
       "<IPython.core.display.HTML object>"
      ]
     },
     "metadata": {},
     "output_type": "display_data"
    },
    {
     "data": {
      "text/html": [
       "\n",
       "    <div>\n",
       "      \n",
       "      <progress value='85' max='321' style='width:300px; height:20px; vertical-align: middle;'></progress>\n",
       "      [ 85/321 00:15 < 00:44, 5.32 it/s, Epoch 0.79/3]\n",
       "    </div>\n",
       "    <table border=\"1\" class=\"dataframe\">\n",
       "  <thead>\n",
       "    <tr style=\"text-align: left;\">\n",
       "      <th>Step</th>\n",
       "      <th>Training Loss</th>\n",
       "    </tr>\n",
       "  </thead>\n",
       "  <tbody>\n",
       "  </tbody>\n",
       "</table><p>"
      ],
      "text/plain": [
       "<IPython.core.display.HTML object>"
      ]
     },
     "metadata": {},
     "output_type": "display_data"
    },
    {
     "data": {
      "text/html": [
       "\n",
       "    <div>\n",
       "      \n",
       "      <progress value='86' max='321' style='width:300px; height:20px; vertical-align: middle;'></progress>\n",
       "      [ 86/321 00:15 < 00:44, 5.32 it/s, Epoch 0.79/3]\n",
       "    </div>\n",
       "    <table border=\"1\" class=\"dataframe\">\n",
       "  <thead>\n",
       "    <tr style=\"text-align: left;\">\n",
       "      <th>Step</th>\n",
       "      <th>Training Loss</th>\n",
       "    </tr>\n",
       "  </thead>\n",
       "  <tbody>\n",
       "  </tbody>\n",
       "</table><p>"
      ],
      "text/plain": [
       "<IPython.core.display.HTML object>"
      ]
     },
     "metadata": {},
     "output_type": "display_data"
    },
    {
     "data": {
      "text/html": [
       "\n",
       "    <div>\n",
       "      \n",
       "      <progress value='87' max='321' style='width:300px; height:20px; vertical-align: middle;'></progress>\n",
       "      [ 87/321 00:15 < 00:44, 5.32 it/s, Epoch 0.80/3]\n",
       "    </div>\n",
       "    <table border=\"1\" class=\"dataframe\">\n",
       "  <thead>\n",
       "    <tr style=\"text-align: left;\">\n",
       "      <th>Step</th>\n",
       "      <th>Training Loss</th>\n",
       "    </tr>\n",
       "  </thead>\n",
       "  <tbody>\n",
       "  </tbody>\n",
       "</table><p>"
      ],
      "text/plain": [
       "<IPython.core.display.HTML object>"
      ]
     },
     "metadata": {},
     "output_type": "display_data"
    },
    {
     "data": {
      "text/html": [
       "\n",
       "    <div>\n",
       "      \n",
       "      <progress value='88' max='321' style='width:300px; height:20px; vertical-align: middle;'></progress>\n",
       "      [ 88/321 00:16 < 00:44, 5.27 it/s, Epoch 0.81/3]\n",
       "    </div>\n",
       "    <table border=\"1\" class=\"dataframe\">\n",
       "  <thead>\n",
       "    <tr style=\"text-align: left;\">\n",
       "      <th>Step</th>\n",
       "      <th>Training Loss</th>\n",
       "    </tr>\n",
       "  </thead>\n",
       "  <tbody>\n",
       "  </tbody>\n",
       "</table><p>"
      ],
      "text/plain": [
       "<IPython.core.display.HTML object>"
      ]
     },
     "metadata": {},
     "output_type": "display_data"
    },
    {
     "data": {
      "text/html": [
       "\n",
       "    <div>\n",
       "      \n",
       "      <progress value='89' max='321' style='width:300px; height:20px; vertical-align: middle;'></progress>\n",
       "      [ 89/321 00:16 < 00:44, 5.27 it/s, Epoch 0.82/3]\n",
       "    </div>\n",
       "    <table border=\"1\" class=\"dataframe\">\n",
       "  <thead>\n",
       "    <tr style=\"text-align: left;\">\n",
       "      <th>Step</th>\n",
       "      <th>Training Loss</th>\n",
       "    </tr>\n",
       "  </thead>\n",
       "  <tbody>\n",
       "  </tbody>\n",
       "</table><p>"
      ],
      "text/plain": [
       "<IPython.core.display.HTML object>"
      ]
     },
     "metadata": {},
     "output_type": "display_data"
    },
    {
     "data": {
      "text/html": [
       "\n",
       "    <div>\n",
       "      \n",
       "      <progress value='90' max='321' style='width:300px; height:20px; vertical-align: middle;'></progress>\n",
       "      [ 90/321 00:16 < 00:43, 5.27 it/s, Epoch 0.83/3]\n",
       "    </div>\n",
       "    <table border=\"1\" class=\"dataframe\">\n",
       "  <thead>\n",
       "    <tr style=\"text-align: left;\">\n",
       "      <th>Step</th>\n",
       "      <th>Training Loss</th>\n",
       "    </tr>\n",
       "  </thead>\n",
       "  <tbody>\n",
       "  </tbody>\n",
       "</table><p>"
      ],
      "text/plain": [
       "<IPython.core.display.HTML object>"
      ]
     },
     "metadata": {},
     "output_type": "display_data"
    },
    {
     "data": {
      "text/html": [
       "\n",
       "    <div>\n",
       "      \n",
       "      <progress value='91' max='321' style='width:300px; height:20px; vertical-align: middle;'></progress>\n",
       "      [ 91/321 00:16 < 00:43, 5.27 it/s, Epoch 0.84/3]\n",
       "    </div>\n",
       "    <table border=\"1\" class=\"dataframe\">\n",
       "  <thead>\n",
       "    <tr style=\"text-align: left;\">\n",
       "      <th>Step</th>\n",
       "      <th>Training Loss</th>\n",
       "    </tr>\n",
       "  </thead>\n",
       "  <tbody>\n",
       "  </tbody>\n",
       "</table><p>"
      ],
      "text/plain": [
       "<IPython.core.display.HTML object>"
      ]
     },
     "metadata": {},
     "output_type": "display_data"
    },
    {
     "data": {
      "text/html": [
       "\n",
       "    <div>\n",
       "      \n",
       "      <progress value='92' max='321' style='width:300px; height:20px; vertical-align: middle;'></progress>\n",
       "      [ 92/321 00:17 < 00:43, 5.28 it/s, Epoch 0.85/3]\n",
       "    </div>\n",
       "    <table border=\"1\" class=\"dataframe\">\n",
       "  <thead>\n",
       "    <tr style=\"text-align: left;\">\n",
       "      <th>Step</th>\n",
       "      <th>Training Loss</th>\n",
       "    </tr>\n",
       "  </thead>\n",
       "  <tbody>\n",
       "  </tbody>\n",
       "</table><p>"
      ],
      "text/plain": [
       "<IPython.core.display.HTML object>"
      ]
     },
     "metadata": {},
     "output_type": "display_data"
    },
    {
     "data": {
      "text/html": [
       "\n",
       "    <div>\n",
       "      \n",
       "      <progress value='93' max='321' style='width:300px; height:20px; vertical-align: middle;'></progress>\n",
       "      [ 93/321 00:17 < 00:43, 5.28 it/s, Epoch 0.86/3]\n",
       "    </div>\n",
       "    <table border=\"1\" class=\"dataframe\">\n",
       "  <thead>\n",
       "    <tr style=\"text-align: left;\">\n",
       "      <th>Step</th>\n",
       "      <th>Training Loss</th>\n",
       "    </tr>\n",
       "  </thead>\n",
       "  <tbody>\n",
       "  </tbody>\n",
       "</table><p>"
      ],
      "text/plain": [
       "<IPython.core.display.HTML object>"
      ]
     },
     "metadata": {},
     "output_type": "display_data"
    },
    {
     "data": {
      "text/html": [
       "\n",
       "    <div>\n",
       "      \n",
       "      <progress value='94' max='321' style='width:300px; height:20px; vertical-align: middle;'></progress>\n",
       "      [ 94/321 00:17 < 00:42, 5.28 it/s, Epoch 0.87/3]\n",
       "    </div>\n",
       "    <table border=\"1\" class=\"dataframe\">\n",
       "  <thead>\n",
       "    <tr style=\"text-align: left;\">\n",
       "      <th>Step</th>\n",
       "      <th>Training Loss</th>\n",
       "    </tr>\n",
       "  </thead>\n",
       "  <tbody>\n",
       "  </tbody>\n",
       "</table><p>"
      ],
      "text/plain": [
       "<IPython.core.display.HTML object>"
      ]
     },
     "metadata": {},
     "output_type": "display_data"
    },
    {
     "data": {
      "text/html": [
       "\n",
       "    <div>\n",
       "      \n",
       "      <progress value='95' max='321' style='width:300px; height:20px; vertical-align: middle;'></progress>\n",
       "      [ 95/321 00:17 < 00:42, 5.28 it/s, Epoch 0.88/3]\n",
       "    </div>\n",
       "    <table border=\"1\" class=\"dataframe\">\n",
       "  <thead>\n",
       "    <tr style=\"text-align: left;\">\n",
       "      <th>Step</th>\n",
       "      <th>Training Loss</th>\n",
       "    </tr>\n",
       "  </thead>\n",
       "  <tbody>\n",
       "  </tbody>\n",
       "</table><p>"
      ],
      "text/plain": [
       "<IPython.core.display.HTML object>"
      ]
     },
     "metadata": {},
     "output_type": "display_data"
    },
    {
     "data": {
      "text/html": [
       "\n",
       "    <div>\n",
       "      \n",
       "      <progress value='96' max='321' style='width:300px; height:20px; vertical-align: middle;'></progress>\n",
       "      [ 96/321 00:17 < 00:42, 5.28 it/s, Epoch 0.89/3]\n",
       "    </div>\n",
       "    <table border=\"1\" class=\"dataframe\">\n",
       "  <thead>\n",
       "    <tr style=\"text-align: left;\">\n",
       "      <th>Step</th>\n",
       "      <th>Training Loss</th>\n",
       "    </tr>\n",
       "  </thead>\n",
       "  <tbody>\n",
       "  </tbody>\n",
       "</table><p>"
      ],
      "text/plain": [
       "<IPython.core.display.HTML object>"
      ]
     },
     "metadata": {},
     "output_type": "display_data"
    },
    {
     "data": {
      "text/html": [
       "\n",
       "    <div>\n",
       "      \n",
       "      <progress value='97' max='321' style='width:300px; height:20px; vertical-align: middle;'></progress>\n",
       "      [ 97/321 00:17 < 00:42, 5.28 it/s, Epoch 0.90/3]\n",
       "    </div>\n",
       "    <table border=\"1\" class=\"dataframe\">\n",
       "  <thead>\n",
       "    <tr style=\"text-align: left;\">\n",
       "      <th>Step</th>\n",
       "      <th>Training Loss</th>\n",
       "    </tr>\n",
       "  </thead>\n",
       "  <tbody>\n",
       "  </tbody>\n",
       "</table><p>"
      ],
      "text/plain": [
       "<IPython.core.display.HTML object>"
      ]
     },
     "metadata": {},
     "output_type": "display_data"
    },
    {
     "data": {
      "text/html": [
       "\n",
       "    <div>\n",
       "      \n",
       "      <progress value='98' max='321' style='width:300px; height:20px; vertical-align: middle;'></progress>\n",
       "      [ 98/321 00:18 < 00:42, 5.29 it/s, Epoch 0.91/3]\n",
       "    </div>\n",
       "    <table border=\"1\" class=\"dataframe\">\n",
       "  <thead>\n",
       "    <tr style=\"text-align: left;\">\n",
       "      <th>Step</th>\n",
       "      <th>Training Loss</th>\n",
       "    </tr>\n",
       "  </thead>\n",
       "  <tbody>\n",
       "  </tbody>\n",
       "</table><p>"
      ],
      "text/plain": [
       "<IPython.core.display.HTML object>"
      ]
     },
     "metadata": {},
     "output_type": "display_data"
    },
    {
     "data": {
      "text/html": [
       "\n",
       "    <div>\n",
       "      \n",
       "      <progress value='99' max='321' style='width:300px; height:20px; vertical-align: middle;'></progress>\n",
       "      [ 99/321 00:18 < 00:41, 5.29 it/s, Epoch 0.92/3]\n",
       "    </div>\n",
       "    <table border=\"1\" class=\"dataframe\">\n",
       "  <thead>\n",
       "    <tr style=\"text-align: left;\">\n",
       "      <th>Step</th>\n",
       "      <th>Training Loss</th>\n",
       "    </tr>\n",
       "  </thead>\n",
       "  <tbody>\n",
       "  </tbody>\n",
       "</table><p>"
      ],
      "text/plain": [
       "<IPython.core.display.HTML object>"
      ]
     },
     "metadata": {},
     "output_type": "display_data"
    },
    {
     "data": {
      "text/html": [
       "\n",
       "    <div>\n",
       "      \n",
       "      <progress value='100' max='321' style='width:300px; height:20px; vertical-align: middle;'></progress>\n",
       "      [100/321 00:18 < 00:41, 5.29 it/s, Epoch 0.93/3]\n",
       "    </div>\n",
       "    <table border=\"1\" class=\"dataframe\">\n",
       "  <thead>\n",
       "    <tr style=\"text-align: left;\">\n",
       "      <th>Step</th>\n",
       "      <th>Training Loss</th>\n",
       "    </tr>\n",
       "  </thead>\n",
       "  <tbody>\n",
       "  </tbody>\n",
       "</table><p>"
      ],
      "text/plain": [
       "<IPython.core.display.HTML object>"
      ]
     },
     "metadata": {},
     "output_type": "display_data"
    },
    {
     "data": {
      "text/html": [
       "\n",
       "    <div>\n",
       "      \n",
       "      <progress value='101' max='321' style='width:300px; height:20px; vertical-align: middle;'></progress>\n",
       "      [101/321 00:18 < 00:41, 5.29 it/s, Epoch 0.93/3]\n",
       "    </div>\n",
       "    <table border=\"1\" class=\"dataframe\">\n",
       "  <thead>\n",
       "    <tr style=\"text-align: left;\">\n",
       "      <th>Step</th>\n",
       "      <th>Training Loss</th>\n",
       "    </tr>\n",
       "  </thead>\n",
       "  <tbody>\n",
       "  </tbody>\n",
       "</table><p>"
      ],
      "text/plain": [
       "<IPython.core.display.HTML object>"
      ]
     },
     "metadata": {},
     "output_type": "display_data"
    },
    {
     "data": {
      "text/html": [
       "\n",
       "    <div>\n",
       "      \n",
       "      <progress value='102' max='321' style='width:300px; height:20px; vertical-align: middle;'></progress>\n",
       "      [102/321 00:18 < 00:41, 5.29 it/s, Epoch 0.94/3]\n",
       "    </div>\n",
       "    <table border=\"1\" class=\"dataframe\">\n",
       "  <thead>\n",
       "    <tr style=\"text-align: left;\">\n",
       "      <th>Step</th>\n",
       "      <th>Training Loss</th>\n",
       "    </tr>\n",
       "  </thead>\n",
       "  <tbody>\n",
       "  </tbody>\n",
       "</table><p>"
      ],
      "text/plain": [
       "<IPython.core.display.HTML object>"
      ]
     },
     "metadata": {},
     "output_type": "display_data"
    },
    {
     "data": {
      "text/html": [
       "\n",
       "    <div>\n",
       "      \n",
       "      <progress value='103' max='321' style='width:300px; height:20px; vertical-align: middle;'></progress>\n",
       "      [103/321 00:19 < 00:41, 5.29 it/s, Epoch 0.95/3]\n",
       "    </div>\n",
       "    <table border=\"1\" class=\"dataframe\">\n",
       "  <thead>\n",
       "    <tr style=\"text-align: left;\">\n",
       "      <th>Step</th>\n",
       "      <th>Training Loss</th>\n",
       "    </tr>\n",
       "  </thead>\n",
       "  <tbody>\n",
       "  </tbody>\n",
       "</table><p>"
      ],
      "text/plain": [
       "<IPython.core.display.HTML object>"
      ]
     },
     "metadata": {},
     "output_type": "display_data"
    },
    {
     "data": {
      "text/html": [
       "\n",
       "    <div>\n",
       "      \n",
       "      <progress value='104' max='321' style='width:300px; height:20px; vertical-align: middle;'></progress>\n",
       "      [104/321 00:19 < 00:40, 5.30 it/s, Epoch 0.96/3]\n",
       "    </div>\n",
       "    <table border=\"1\" class=\"dataframe\">\n",
       "  <thead>\n",
       "    <tr style=\"text-align: left;\">\n",
       "      <th>Step</th>\n",
       "      <th>Training Loss</th>\n",
       "    </tr>\n",
       "  </thead>\n",
       "  <tbody>\n",
       "  </tbody>\n",
       "</table><p>"
      ],
      "text/plain": [
       "<IPython.core.display.HTML object>"
      ]
     },
     "metadata": {},
     "output_type": "display_data"
    },
    {
     "data": {
      "text/html": [
       "\n",
       "    <div>\n",
       "      \n",
       "      <progress value='105' max='321' style='width:300px; height:20px; vertical-align: middle;'></progress>\n",
       "      [105/321 00:19 < 00:40, 5.30 it/s, Epoch 0.97/3]\n",
       "    </div>\n",
       "    <table border=\"1\" class=\"dataframe\">\n",
       "  <thead>\n",
       "    <tr style=\"text-align: left;\">\n",
       "      <th>Step</th>\n",
       "      <th>Training Loss</th>\n",
       "    </tr>\n",
       "  </thead>\n",
       "  <tbody>\n",
       "  </tbody>\n",
       "</table><p>"
      ],
      "text/plain": [
       "<IPython.core.display.HTML object>"
      ]
     },
     "metadata": {},
     "output_type": "display_data"
    },
    {
     "data": {
      "text/html": [
       "\n",
       "    <div>\n",
       "      \n",
       "      <progress value='106' max='321' style='width:300px; height:20px; vertical-align: middle;'></progress>\n",
       "      [106/321 00:19 < 00:40, 5.30 it/s, Epoch 0.98/3]\n",
       "    </div>\n",
       "    <table border=\"1\" class=\"dataframe\">\n",
       "  <thead>\n",
       "    <tr style=\"text-align: left;\">\n",
       "      <th>Step</th>\n",
       "      <th>Training Loss</th>\n",
       "    </tr>\n",
       "  </thead>\n",
       "  <tbody>\n",
       "  </tbody>\n",
       "</table><p>"
      ],
      "text/plain": [
       "<IPython.core.display.HTML object>"
      ]
     },
     "metadata": {},
     "output_type": "display_data"
    },
    {
     "data": {
      "text/html": [
       "\n",
       "    <div>\n",
       "      \n",
       "      <progress value='107' max='321' style='width:300px; height:20px; vertical-align: middle;'></progress>\n",
       "      [107/321 00:19 < 00:40, 5.30 it/s, Epoch 0.99/3]\n",
       "    </div>\n",
       "    <table border=\"1\" class=\"dataframe\">\n",
       "  <thead>\n",
       "    <tr style=\"text-align: left;\">\n",
       "      <th>Step</th>\n",
       "      <th>Training Loss</th>\n",
       "    </tr>\n",
       "  </thead>\n",
       "  <tbody>\n",
       "  </tbody>\n",
       "</table><p>"
      ],
      "text/plain": [
       "<IPython.core.display.HTML object>"
      ]
     },
     "metadata": {},
     "output_type": "display_data"
    },
    {
     "data": {
      "text/html": [
       "\n",
       "    <div>\n",
       "      \n",
       "      <progress value='108' max='321' style='width:300px; height:20px; vertical-align: middle;'></progress>\n",
       "      [108/321 00:19 < 00:40, 5.31 it/s, Epoch 1/3]\n",
       "    </div>\n",
       "    <table border=\"1\" class=\"dataframe\">\n",
       "  <thead>\n",
       "    <tr style=\"text-align: left;\">\n",
       "      <th>Step</th>\n",
       "      <th>Training Loss</th>\n",
       "    </tr>\n",
       "  </thead>\n",
       "  <tbody>\n",
       "  </tbody>\n",
       "</table><p>"
      ],
      "text/plain": [
       "<IPython.core.display.HTML object>"
      ]
     },
     "metadata": {},
     "output_type": "display_data"
    },
    {
     "data": {
      "text/html": [
       "\n",
       "    <div>\n",
       "      \n",
       "      <progress value='109' max='321' style='width:300px; height:20px; vertical-align: middle;'></progress>\n",
       "      [109/321 00:20 < 00:39, 5.30 it/s, Epoch 1.01/3]\n",
       "    </div>\n",
       "    <table border=\"1\" class=\"dataframe\">\n",
       "  <thead>\n",
       "    <tr style=\"text-align: left;\">\n",
       "      <th>Step</th>\n",
       "      <th>Training Loss</th>\n",
       "    </tr>\n",
       "  </thead>\n",
       "  <tbody>\n",
       "  </tbody>\n",
       "</table><p>"
      ],
      "text/plain": [
       "<IPython.core.display.HTML object>"
      ]
     },
     "metadata": {},
     "output_type": "display_data"
    },
    {
     "data": {
      "text/html": [
       "\n",
       "    <div>\n",
       "      \n",
       "      <progress value='110' max='321' style='width:300px; height:20px; vertical-align: middle;'></progress>\n",
       "      [110/321 00:20 < 00:39, 5.30 it/s, Epoch 1.02/3]\n",
       "    </div>\n",
       "    <table border=\"1\" class=\"dataframe\">\n",
       "  <thead>\n",
       "    <tr style=\"text-align: left;\">\n",
       "      <th>Step</th>\n",
       "      <th>Training Loss</th>\n",
       "    </tr>\n",
       "  </thead>\n",
       "  <tbody>\n",
       "  </tbody>\n",
       "</table><p>"
      ],
      "text/plain": [
       "<IPython.core.display.HTML object>"
      ]
     },
     "metadata": {},
     "output_type": "display_data"
    },
    {
     "data": {
      "text/html": [
       "\n",
       "    <div>\n",
       "      \n",
       "      <progress value='111' max='321' style='width:300px; height:20px; vertical-align: middle;'></progress>\n",
       "      [111/321 00:20 < 00:39, 5.30 it/s, Epoch 1.03/3]\n",
       "    </div>\n",
       "    <table border=\"1\" class=\"dataframe\">\n",
       "  <thead>\n",
       "    <tr style=\"text-align: left;\">\n",
       "      <th>Step</th>\n",
       "      <th>Training Loss</th>\n",
       "    </tr>\n",
       "  </thead>\n",
       "  <tbody>\n",
       "  </tbody>\n",
       "</table><p>"
      ],
      "text/plain": [
       "<IPython.core.display.HTML object>"
      ]
     },
     "metadata": {},
     "output_type": "display_data"
    },
    {
     "data": {
      "text/html": [
       "\n",
       "    <div>\n",
       "      \n",
       "      <progress value='112' max='321' style='width:300px; height:20px; vertical-align: middle;'></progress>\n",
       "      [112/321 00:20 < 00:39, 5.31 it/s, Epoch 1.04/3]\n",
       "    </div>\n",
       "    <table border=\"1\" class=\"dataframe\">\n",
       "  <thead>\n",
       "    <tr style=\"text-align: left;\">\n",
       "      <th>Step</th>\n",
       "      <th>Training Loss</th>\n",
       "    </tr>\n",
       "  </thead>\n",
       "  <tbody>\n",
       "  </tbody>\n",
       "</table><p>"
      ],
      "text/plain": [
       "<IPython.core.display.HTML object>"
      ]
     },
     "metadata": {},
     "output_type": "display_data"
    },
    {
     "data": {
      "text/html": [
       "\n",
       "    <div>\n",
       "      \n",
       "      <progress value='113' max='321' style='width:300px; height:20px; vertical-align: middle;'></progress>\n",
       "      [113/321 00:20 < 00:39, 5.31 it/s, Epoch 1.05/3]\n",
       "    </div>\n",
       "    <table border=\"1\" class=\"dataframe\">\n",
       "  <thead>\n",
       "    <tr style=\"text-align: left;\">\n",
       "      <th>Step</th>\n",
       "      <th>Training Loss</th>\n",
       "    </tr>\n",
       "  </thead>\n",
       "  <tbody>\n",
       "  </tbody>\n",
       "</table><p>"
      ],
      "text/plain": [
       "<IPython.core.display.HTML object>"
      ]
     },
     "metadata": {},
     "output_type": "display_data"
    },
    {
     "data": {
      "text/html": [
       "\n",
       "    <div>\n",
       "      \n",
       "      <progress value='114' max='321' style='width:300px; height:20px; vertical-align: middle;'></progress>\n",
       "      [114/321 00:21 < 00:39, 5.31 it/s, Epoch 1.06/3]\n",
       "    </div>\n",
       "    <table border=\"1\" class=\"dataframe\">\n",
       "  <thead>\n",
       "    <tr style=\"text-align: left;\">\n",
       "      <th>Step</th>\n",
       "      <th>Training Loss</th>\n",
       "    </tr>\n",
       "  </thead>\n",
       "  <tbody>\n",
       "  </tbody>\n",
       "</table><p>"
      ],
      "text/plain": [
       "<IPython.core.display.HTML object>"
      ]
     },
     "metadata": {},
     "output_type": "display_data"
    },
    {
     "data": {
      "text/html": [
       "\n",
       "    <div>\n",
       "      \n",
       "      <progress value='115' max='321' style='width:300px; height:20px; vertical-align: middle;'></progress>\n",
       "      [115/321 00:21 < 00:38, 5.31 it/s, Epoch 1.07/3]\n",
       "    </div>\n",
       "    <table border=\"1\" class=\"dataframe\">\n",
       "  <thead>\n",
       "    <tr style=\"text-align: left;\">\n",
       "      <th>Step</th>\n",
       "      <th>Training Loss</th>\n",
       "    </tr>\n",
       "  </thead>\n",
       "  <tbody>\n",
       "  </tbody>\n",
       "</table><p>"
      ],
      "text/plain": [
       "<IPython.core.display.HTML object>"
      ]
     },
     "metadata": {},
     "output_type": "display_data"
    },
    {
     "data": {
      "text/html": [
       "\n",
       "    <div>\n",
       "      \n",
       "      <progress value='116' max='321' style='width:300px; height:20px; vertical-align: middle;'></progress>\n",
       "      [116/321 00:21 < 00:38, 5.31 it/s, Epoch 1.07/3]\n",
       "    </div>\n",
       "    <table border=\"1\" class=\"dataframe\">\n",
       "  <thead>\n",
       "    <tr style=\"text-align: left;\">\n",
       "      <th>Step</th>\n",
       "      <th>Training Loss</th>\n",
       "    </tr>\n",
       "  </thead>\n",
       "  <tbody>\n",
       "  </tbody>\n",
       "</table><p>"
      ],
      "text/plain": [
       "<IPython.core.display.HTML object>"
      ]
     },
     "metadata": {},
     "output_type": "display_data"
    },
    {
     "data": {
      "text/html": [
       "\n",
       "    <div>\n",
       "      \n",
       "      <progress value='117' max='321' style='width:300px; height:20px; vertical-align: middle;'></progress>\n",
       "      [117/321 00:21 < 00:38, 5.31 it/s, Epoch 1.08/3]\n",
       "    </div>\n",
       "    <table border=\"1\" class=\"dataframe\">\n",
       "  <thead>\n",
       "    <tr style=\"text-align: left;\">\n",
       "      <th>Step</th>\n",
       "      <th>Training Loss</th>\n",
       "    </tr>\n",
       "  </thead>\n",
       "  <tbody>\n",
       "  </tbody>\n",
       "</table><p>"
      ],
      "text/plain": [
       "<IPython.core.display.HTML object>"
      ]
     },
     "metadata": {},
     "output_type": "display_data"
    },
    {
     "data": {
      "text/html": [
       "\n",
       "    <div>\n",
       "      \n",
       "      <progress value='118' max='321' style='width:300px; height:20px; vertical-align: middle;'></progress>\n",
       "      [118/321 00:21 < 00:38, 5.31 it/s, Epoch 1.09/3]\n",
       "    </div>\n",
       "    <table border=\"1\" class=\"dataframe\">\n",
       "  <thead>\n",
       "    <tr style=\"text-align: left;\">\n",
       "      <th>Step</th>\n",
       "      <th>Training Loss</th>\n",
       "    </tr>\n",
       "  </thead>\n",
       "  <tbody>\n",
       "  </tbody>\n",
       "</table><p>"
      ],
      "text/plain": [
       "<IPython.core.display.HTML object>"
      ]
     },
     "metadata": {},
     "output_type": "display_data"
    },
    {
     "data": {
      "text/html": [
       "\n",
       "    <div>\n",
       "      \n",
       "      <progress value='119' max='321' style='width:300px; height:20px; vertical-align: middle;'></progress>\n",
       "      [119/321 00:22 < 00:38, 5.32 it/s, Epoch 1.10/3]\n",
       "    </div>\n",
       "    <table border=\"1\" class=\"dataframe\">\n",
       "  <thead>\n",
       "    <tr style=\"text-align: left;\">\n",
       "      <th>Step</th>\n",
       "      <th>Training Loss</th>\n",
       "    </tr>\n",
       "  </thead>\n",
       "  <tbody>\n",
       "  </tbody>\n",
       "</table><p>"
      ],
      "text/plain": [
       "<IPython.core.display.HTML object>"
      ]
     },
     "metadata": {},
     "output_type": "display_data"
    },
    {
     "data": {
      "text/html": [
       "\n",
       "    <div>\n",
       "      \n",
       "      <progress value='120' max='321' style='width:300px; height:20px; vertical-align: middle;'></progress>\n",
       "      [120/321 00:22 < 00:37, 5.32 it/s, Epoch 1.11/3]\n",
       "    </div>\n",
       "    <table border=\"1\" class=\"dataframe\">\n",
       "  <thead>\n",
       "    <tr style=\"text-align: left;\">\n",
       "      <th>Step</th>\n",
       "      <th>Training Loss</th>\n",
       "    </tr>\n",
       "  </thead>\n",
       "  <tbody>\n",
       "  </tbody>\n",
       "</table><p>"
      ],
      "text/plain": [
       "<IPython.core.display.HTML object>"
      ]
     },
     "metadata": {},
     "output_type": "display_data"
    },
    {
     "data": {
      "text/html": [
       "\n",
       "    <div>\n",
       "      \n",
       "      <progress value='121' max='321' style='width:300px; height:20px; vertical-align: middle;'></progress>\n",
       "      [121/321 00:22 < 00:37, 5.32 it/s, Epoch 1.12/3]\n",
       "    </div>\n",
       "    <table border=\"1\" class=\"dataframe\">\n",
       "  <thead>\n",
       "    <tr style=\"text-align: left;\">\n",
       "      <th>Step</th>\n",
       "      <th>Training Loss</th>\n",
       "    </tr>\n",
       "  </thead>\n",
       "  <tbody>\n",
       "  </tbody>\n",
       "</table><p>"
      ],
      "text/plain": [
       "<IPython.core.display.HTML object>"
      ]
     },
     "metadata": {},
     "output_type": "display_data"
    },
    {
     "data": {
      "text/html": [
       "\n",
       "    <div>\n",
       "      \n",
       "      <progress value='122' max='321' style='width:300px; height:20px; vertical-align: middle;'></progress>\n",
       "      [122/321 00:22 < 00:37, 5.32 it/s, Epoch 1.13/3]\n",
       "    </div>\n",
       "    <table border=\"1\" class=\"dataframe\">\n",
       "  <thead>\n",
       "    <tr style=\"text-align: left;\">\n",
       "      <th>Step</th>\n",
       "      <th>Training Loss</th>\n",
       "    </tr>\n",
       "  </thead>\n",
       "  <tbody>\n",
       "  </tbody>\n",
       "</table><p>"
      ],
      "text/plain": [
       "<IPython.core.display.HTML object>"
      ]
     },
     "metadata": {},
     "output_type": "display_data"
    },
    {
     "data": {
      "text/html": [
       "\n",
       "    <div>\n",
       "      \n",
       "      <progress value='123' max='321' style='width:300px; height:20px; vertical-align: middle;'></progress>\n",
       "      [123/321 00:22 < 00:37, 5.32 it/s, Epoch 1.14/3]\n",
       "    </div>\n",
       "    <table border=\"1\" class=\"dataframe\">\n",
       "  <thead>\n",
       "    <tr style=\"text-align: left;\">\n",
       "      <th>Step</th>\n",
       "      <th>Training Loss</th>\n",
       "    </tr>\n",
       "  </thead>\n",
       "  <tbody>\n",
       "  </tbody>\n",
       "</table><p>"
      ],
      "text/plain": [
       "<IPython.core.display.HTML object>"
      ]
     },
     "metadata": {},
     "output_type": "display_data"
    },
    {
     "data": {
      "text/html": [
       "\n",
       "    <div>\n",
       "      \n",
       "      <progress value='124' max='321' style='width:300px; height:20px; vertical-align: middle;'></progress>\n",
       "      [124/321 00:22 < 00:37, 5.32 it/s, Epoch 1.15/3]\n",
       "    </div>\n",
       "    <table border=\"1\" class=\"dataframe\">\n",
       "  <thead>\n",
       "    <tr style=\"text-align: left;\">\n",
       "      <th>Step</th>\n",
       "      <th>Training Loss</th>\n",
       "    </tr>\n",
       "  </thead>\n",
       "  <tbody>\n",
       "  </tbody>\n",
       "</table><p>"
      ],
      "text/plain": [
       "<IPython.core.display.HTML object>"
      ]
     },
     "metadata": {},
     "output_type": "display_data"
    },
    {
     "data": {
      "text/html": [
       "\n",
       "    <div>\n",
       "      \n",
       "      <progress value='125' max='321' style='width:300px; height:20px; vertical-align: middle;'></progress>\n",
       "      [125/321 00:23 < 00:36, 5.32 it/s, Epoch 1.16/3]\n",
       "    </div>\n",
       "    <table border=\"1\" class=\"dataframe\">\n",
       "  <thead>\n",
       "    <tr style=\"text-align: left;\">\n",
       "      <th>Step</th>\n",
       "      <th>Training Loss</th>\n",
       "    </tr>\n",
       "  </thead>\n",
       "  <tbody>\n",
       "  </tbody>\n",
       "</table><p>"
      ],
      "text/plain": [
       "<IPython.core.display.HTML object>"
      ]
     },
     "metadata": {},
     "output_type": "display_data"
    },
    {
     "data": {
      "text/html": [
       "\n",
       "    <div>\n",
       "      \n",
       "      <progress value='126' max='321' style='width:300px; height:20px; vertical-align: middle;'></progress>\n",
       "      [126/321 00:23 < 00:36, 5.32 it/s, Epoch 1.17/3]\n",
       "    </div>\n",
       "    <table border=\"1\" class=\"dataframe\">\n",
       "  <thead>\n",
       "    <tr style=\"text-align: left;\">\n",
       "      <th>Step</th>\n",
       "      <th>Training Loss</th>\n",
       "    </tr>\n",
       "  </thead>\n",
       "  <tbody>\n",
       "  </tbody>\n",
       "</table><p>"
      ],
      "text/plain": [
       "<IPython.core.display.HTML object>"
      ]
     },
     "metadata": {},
     "output_type": "display_data"
    },
    {
     "data": {
      "text/html": [
       "\n",
       "    <div>\n",
       "      \n",
       "      <progress value='127' max='321' style='width:300px; height:20px; vertical-align: middle;'></progress>\n",
       "      [127/321 00:23 < 00:36, 5.28 it/s, Epoch 1.18/3]\n",
       "    </div>\n",
       "    <table border=\"1\" class=\"dataframe\">\n",
       "  <thead>\n",
       "    <tr style=\"text-align: left;\">\n",
       "      <th>Step</th>\n",
       "      <th>Training Loss</th>\n",
       "    </tr>\n",
       "  </thead>\n",
       "  <tbody>\n",
       "  </tbody>\n",
       "</table><p>"
      ],
      "text/plain": [
       "<IPython.core.display.HTML object>"
      ]
     },
     "metadata": {},
     "output_type": "display_data"
    },
    {
     "data": {
      "text/html": [
       "\n",
       "    <div>\n",
       "      \n",
       "      <progress value='128' max='321' style='width:300px; height:20px; vertical-align: middle;'></progress>\n",
       "      [128/321 00:23 < 00:36, 5.28 it/s, Epoch 1.19/3]\n",
       "    </div>\n",
       "    <table border=\"1\" class=\"dataframe\">\n",
       "  <thead>\n",
       "    <tr style=\"text-align: left;\">\n",
       "      <th>Step</th>\n",
       "      <th>Training Loss</th>\n",
       "    </tr>\n",
       "  </thead>\n",
       "  <tbody>\n",
       "  </tbody>\n",
       "</table><p>"
      ],
      "text/plain": [
       "<IPython.core.display.HTML object>"
      ]
     },
     "metadata": {},
     "output_type": "display_data"
    },
    {
     "data": {
      "text/html": [
       "\n",
       "    <div>\n",
       "      \n",
       "      <progress value='129' max='321' style='width:300px; height:20px; vertical-align: middle;'></progress>\n",
       "      [129/321 00:24 < 00:36, 5.28 it/s, Epoch 1.20/3]\n",
       "    </div>\n",
       "    <table border=\"1\" class=\"dataframe\">\n",
       "  <thead>\n",
       "    <tr style=\"text-align: left;\">\n",
       "      <th>Step</th>\n",
       "      <th>Training Loss</th>\n",
       "    </tr>\n",
       "  </thead>\n",
       "  <tbody>\n",
       "  </tbody>\n",
       "</table><p>"
      ],
      "text/plain": [
       "<IPython.core.display.HTML object>"
      ]
     },
     "metadata": {},
     "output_type": "display_data"
    },
    {
     "data": {
      "text/html": [
       "\n",
       "    <div>\n",
       "      \n",
       "      <progress value='130' max='321' style='width:300px; height:20px; vertical-align: middle;'></progress>\n",
       "      [130/321 00:24 < 00:36, 5.28 it/s, Epoch 1.21/3]\n",
       "    </div>\n",
       "    <table border=\"1\" class=\"dataframe\">\n",
       "  <thead>\n",
       "    <tr style=\"text-align: left;\">\n",
       "      <th>Step</th>\n",
       "      <th>Training Loss</th>\n",
       "    </tr>\n",
       "  </thead>\n",
       "  <tbody>\n",
       "  </tbody>\n",
       "</table><p>"
      ],
      "text/plain": [
       "<IPython.core.display.HTML object>"
      ]
     },
     "metadata": {},
     "output_type": "display_data"
    },
    {
     "data": {
      "text/html": [
       "\n",
       "    <div>\n",
       "      \n",
       "      <progress value='131' max='321' style='width:300px; height:20px; vertical-align: middle;'></progress>\n",
       "      [131/321 00:24 < 00:35, 5.29 it/s, Epoch 1.21/3]\n",
       "    </div>\n",
       "    <table border=\"1\" class=\"dataframe\">\n",
       "  <thead>\n",
       "    <tr style=\"text-align: left;\">\n",
       "      <th>Step</th>\n",
       "      <th>Training Loss</th>\n",
       "    </tr>\n",
       "  </thead>\n",
       "  <tbody>\n",
       "  </tbody>\n",
       "</table><p>"
      ],
      "text/plain": [
       "<IPython.core.display.HTML object>"
      ]
     },
     "metadata": {},
     "output_type": "display_data"
    },
    {
     "data": {
      "text/html": [
       "\n",
       "    <div>\n",
       "      \n",
       "      <progress value='132' max='321' style='width:300px; height:20px; vertical-align: middle;'></progress>\n",
       "      [132/321 00:24 < 00:35, 5.29 it/s, Epoch 1.22/3]\n",
       "    </div>\n",
       "    <table border=\"1\" class=\"dataframe\">\n",
       "  <thead>\n",
       "    <tr style=\"text-align: left;\">\n",
       "      <th>Step</th>\n",
       "      <th>Training Loss</th>\n",
       "    </tr>\n",
       "  </thead>\n",
       "  <tbody>\n",
       "  </tbody>\n",
       "</table><p>"
      ],
      "text/plain": [
       "<IPython.core.display.HTML object>"
      ]
     },
     "metadata": {},
     "output_type": "display_data"
    },
    {
     "data": {
      "text/html": [
       "\n",
       "    <div>\n",
       "      \n",
       "      <progress value='133' max='321' style='width:300px; height:20px; vertical-align: middle;'></progress>\n",
       "      [133/321 00:24 < 00:35, 5.29 it/s, Epoch 1.23/3]\n",
       "    </div>\n",
       "    <table border=\"1\" class=\"dataframe\">\n",
       "  <thead>\n",
       "    <tr style=\"text-align: left;\">\n",
       "      <th>Step</th>\n",
       "      <th>Training Loss</th>\n",
       "    </tr>\n",
       "  </thead>\n",
       "  <tbody>\n",
       "  </tbody>\n",
       "</table><p>"
      ],
      "text/plain": [
       "<IPython.core.display.HTML object>"
      ]
     },
     "metadata": {},
     "output_type": "display_data"
    },
    {
     "data": {
      "text/html": [
       "\n",
       "    <div>\n",
       "      \n",
       "      <progress value='134' max='321' style='width:300px; height:20px; vertical-align: middle;'></progress>\n",
       "      [134/321 00:24 < 00:35, 5.29 it/s, Epoch 1.24/3]\n",
       "    </div>\n",
       "    <table border=\"1\" class=\"dataframe\">\n",
       "  <thead>\n",
       "    <tr style=\"text-align: left;\">\n",
       "      <th>Step</th>\n",
       "      <th>Training Loss</th>\n",
       "    </tr>\n",
       "  </thead>\n",
       "  <tbody>\n",
       "  </tbody>\n",
       "</table><p>"
      ],
      "text/plain": [
       "<IPython.core.display.HTML object>"
      ]
     },
     "metadata": {},
     "output_type": "display_data"
    },
    {
     "data": {
      "text/html": [
       "\n",
       "    <div>\n",
       "      \n",
       "      <progress value='135' max='321' style='width:300px; height:20px; vertical-align: middle;'></progress>\n",
       "      [135/321 00:25 < 00:35, 5.29 it/s, Epoch 1.25/3]\n",
       "    </div>\n",
       "    <table border=\"1\" class=\"dataframe\">\n",
       "  <thead>\n",
       "    <tr style=\"text-align: left;\">\n",
       "      <th>Step</th>\n",
       "      <th>Training Loss</th>\n",
       "    </tr>\n",
       "  </thead>\n",
       "  <tbody>\n",
       "  </tbody>\n",
       "</table><p>"
      ],
      "text/plain": [
       "<IPython.core.display.HTML object>"
      ]
     },
     "metadata": {},
     "output_type": "display_data"
    },
    {
     "data": {
      "text/html": [
       "\n",
       "    <div>\n",
       "      \n",
       "      <progress value='136' max='321' style='width:300px; height:20px; vertical-align: middle;'></progress>\n",
       "      [136/321 00:25 < 00:34, 5.29 it/s, Epoch 1.26/3]\n",
       "    </div>\n",
       "    <table border=\"1\" class=\"dataframe\">\n",
       "  <thead>\n",
       "    <tr style=\"text-align: left;\">\n",
       "      <th>Step</th>\n",
       "      <th>Training Loss</th>\n",
       "    </tr>\n",
       "  </thead>\n",
       "  <tbody>\n",
       "  </tbody>\n",
       "</table><p>"
      ],
      "text/plain": [
       "<IPython.core.display.HTML object>"
      ]
     },
     "metadata": {},
     "output_type": "display_data"
    },
    {
     "data": {
      "text/html": [
       "\n",
       "    <div>\n",
       "      \n",
       "      <progress value='137' max='321' style='width:300px; height:20px; vertical-align: middle;'></progress>\n",
       "      [137/321 00:25 < 00:34, 5.29 it/s, Epoch 1.27/3]\n",
       "    </div>\n",
       "    <table border=\"1\" class=\"dataframe\">\n",
       "  <thead>\n",
       "    <tr style=\"text-align: left;\">\n",
       "      <th>Step</th>\n",
       "      <th>Training Loss</th>\n",
       "    </tr>\n",
       "  </thead>\n",
       "  <tbody>\n",
       "  </tbody>\n",
       "</table><p>"
      ],
      "text/plain": [
       "<IPython.core.display.HTML object>"
      ]
     },
     "metadata": {},
     "output_type": "display_data"
    },
    {
     "data": {
      "text/html": [
       "\n",
       "    <div>\n",
       "      \n",
       "      <progress value='138' max='321' style='width:300px; height:20px; vertical-align: middle;'></progress>\n",
       "      [138/321 00:25 < 00:34, 5.29 it/s, Epoch 1.28/3]\n",
       "    </div>\n",
       "    <table border=\"1\" class=\"dataframe\">\n",
       "  <thead>\n",
       "    <tr style=\"text-align: left;\">\n",
       "      <th>Step</th>\n",
       "      <th>Training Loss</th>\n",
       "    </tr>\n",
       "  </thead>\n",
       "  <tbody>\n",
       "  </tbody>\n",
       "</table><p>"
      ],
      "text/plain": [
       "<IPython.core.display.HTML object>"
      ]
     },
     "metadata": {},
     "output_type": "display_data"
    },
    {
     "data": {
      "text/html": [
       "\n",
       "    <div>\n",
       "      \n",
       "      <progress value='139' max='321' style='width:300px; height:20px; vertical-align: middle;'></progress>\n",
       "      [139/321 00:25 < 00:34, 5.29 it/s, Epoch 1.29/3]\n",
       "    </div>\n",
       "    <table border=\"1\" class=\"dataframe\">\n",
       "  <thead>\n",
       "    <tr style=\"text-align: left;\">\n",
       "      <th>Step</th>\n",
       "      <th>Training Loss</th>\n",
       "    </tr>\n",
       "  </thead>\n",
       "  <tbody>\n",
       "  </tbody>\n",
       "</table><p>"
      ],
      "text/plain": [
       "<IPython.core.display.HTML object>"
      ]
     },
     "metadata": {},
     "output_type": "display_data"
    },
    {
     "data": {
      "text/html": [
       "\n",
       "    <div>\n",
       "      \n",
       "      <progress value='140' max='321' style='width:300px; height:20px; vertical-align: middle;'></progress>\n",
       "      [140/321 00:26 < 00:34, 5.29 it/s, Epoch 1.30/3]\n",
       "    </div>\n",
       "    <table border=\"1\" class=\"dataframe\">\n",
       "  <thead>\n",
       "    <tr style=\"text-align: left;\">\n",
       "      <th>Step</th>\n",
       "      <th>Training Loss</th>\n",
       "    </tr>\n",
       "  </thead>\n",
       "  <tbody>\n",
       "  </tbody>\n",
       "</table><p>"
      ],
      "text/plain": [
       "<IPython.core.display.HTML object>"
      ]
     },
     "metadata": {},
     "output_type": "display_data"
    },
    {
     "data": {
      "text/html": [
       "\n",
       "    <div>\n",
       "      \n",
       "      <progress value='141' max='321' style='width:300px; height:20px; vertical-align: middle;'></progress>\n",
       "      [141/321 00:26 < 00:34, 5.29 it/s, Epoch 1.31/3]\n",
       "    </div>\n",
       "    <table border=\"1\" class=\"dataframe\">\n",
       "  <thead>\n",
       "    <tr style=\"text-align: left;\">\n",
       "      <th>Step</th>\n",
       "      <th>Training Loss</th>\n",
       "    </tr>\n",
       "  </thead>\n",
       "  <tbody>\n",
       "  </tbody>\n",
       "</table><p>"
      ],
      "text/plain": [
       "<IPython.core.display.HTML object>"
      ]
     },
     "metadata": {},
     "output_type": "display_data"
    },
    {
     "data": {
      "text/html": [
       "\n",
       "    <div>\n",
       "      \n",
       "      <progress value='142' max='321' style='width:300px; height:20px; vertical-align: middle;'></progress>\n",
       "      [142/321 00:26 < 00:33, 5.29 it/s, Epoch 1.32/3]\n",
       "    </div>\n",
       "    <table border=\"1\" class=\"dataframe\">\n",
       "  <thead>\n",
       "    <tr style=\"text-align: left;\">\n",
       "      <th>Step</th>\n",
       "      <th>Training Loss</th>\n",
       "    </tr>\n",
       "  </thead>\n",
       "  <tbody>\n",
       "  </tbody>\n",
       "</table><p>"
      ],
      "text/plain": [
       "<IPython.core.display.HTML object>"
      ]
     },
     "metadata": {},
     "output_type": "display_data"
    },
    {
     "data": {
      "text/html": [
       "\n",
       "    <div>\n",
       "      \n",
       "      <progress value='143' max='321' style='width:300px; height:20px; vertical-align: middle;'></progress>\n",
       "      [143/321 00:26 < 00:33, 5.30 it/s, Epoch 1.33/3]\n",
       "    </div>\n",
       "    <table border=\"1\" class=\"dataframe\">\n",
       "  <thead>\n",
       "    <tr style=\"text-align: left;\">\n",
       "      <th>Step</th>\n",
       "      <th>Training Loss</th>\n",
       "    </tr>\n",
       "  </thead>\n",
       "  <tbody>\n",
       "  </tbody>\n",
       "</table><p>"
      ],
      "text/plain": [
       "<IPython.core.display.HTML object>"
      ]
     },
     "metadata": {},
     "output_type": "display_data"
    },
    {
     "data": {
      "text/html": [
       "\n",
       "    <div>\n",
       "      \n",
       "      <progress value='144' max='321' style='width:300px; height:20px; vertical-align: middle;'></progress>\n",
       "      [144/321 00:26 < 00:33, 5.30 it/s, Epoch 1.34/3]\n",
       "    </div>\n",
       "    <table border=\"1\" class=\"dataframe\">\n",
       "  <thead>\n",
       "    <tr style=\"text-align: left;\">\n",
       "      <th>Step</th>\n",
       "      <th>Training Loss</th>\n",
       "    </tr>\n",
       "  </thead>\n",
       "  <tbody>\n",
       "  </tbody>\n",
       "</table><p>"
      ],
      "text/plain": [
       "<IPython.core.display.HTML object>"
      ]
     },
     "metadata": {},
     "output_type": "display_data"
    },
    {
     "data": {
      "text/html": [
       "\n",
       "    <div>\n",
       "      \n",
       "      <progress value='145' max='321' style='width:300px; height:20px; vertical-align: middle;'></progress>\n",
       "      [145/321 00:26 < 00:33, 5.30 it/s, Epoch 1.35/3]\n",
       "    </div>\n",
       "    <table border=\"1\" class=\"dataframe\">\n",
       "  <thead>\n",
       "    <tr style=\"text-align: left;\">\n",
       "      <th>Step</th>\n",
       "      <th>Training Loss</th>\n",
       "    </tr>\n",
       "  </thead>\n",
       "  <tbody>\n",
       "  </tbody>\n",
       "</table><p>"
      ],
      "text/plain": [
       "<IPython.core.display.HTML object>"
      ]
     },
     "metadata": {},
     "output_type": "display_data"
    },
    {
     "data": {
      "text/html": [
       "\n",
       "    <div>\n",
       "      \n",
       "      <progress value='146' max='321' style='width:300px; height:20px; vertical-align: middle;'></progress>\n",
       "      [146/321 00:27 < 00:33, 5.30 it/s, Epoch 1.36/3]\n",
       "    </div>\n",
       "    <table border=\"1\" class=\"dataframe\">\n",
       "  <thead>\n",
       "    <tr style=\"text-align: left;\">\n",
       "      <th>Step</th>\n",
       "      <th>Training Loss</th>\n",
       "    </tr>\n",
       "  </thead>\n",
       "  <tbody>\n",
       "  </tbody>\n",
       "</table><p>"
      ],
      "text/plain": [
       "<IPython.core.display.HTML object>"
      ]
     },
     "metadata": {},
     "output_type": "display_data"
    },
    {
     "data": {
      "text/html": [
       "\n",
       "    <div>\n",
       "      \n",
       "      <progress value='147' max='321' style='width:300px; height:20px; vertical-align: middle;'></progress>\n",
       "      [147/321 00:27 < 00:32, 5.30 it/s, Epoch 1.36/3]\n",
       "    </div>\n",
       "    <table border=\"1\" class=\"dataframe\">\n",
       "  <thead>\n",
       "    <tr style=\"text-align: left;\">\n",
       "      <th>Step</th>\n",
       "      <th>Training Loss</th>\n",
       "    </tr>\n",
       "  </thead>\n",
       "  <tbody>\n",
       "  </tbody>\n",
       "</table><p>"
      ],
      "text/plain": [
       "<IPython.core.display.HTML object>"
      ]
     },
     "metadata": {},
     "output_type": "display_data"
    },
    {
     "data": {
      "text/html": [
       "\n",
       "    <div>\n",
       "      \n",
       "      <progress value='148' max='321' style='width:300px; height:20px; vertical-align: middle;'></progress>\n",
       "      [148/321 00:27 < 00:32, 5.30 it/s, Epoch 1.37/3]\n",
       "    </div>\n",
       "    <table border=\"1\" class=\"dataframe\">\n",
       "  <thead>\n",
       "    <tr style=\"text-align: left;\">\n",
       "      <th>Step</th>\n",
       "      <th>Training Loss</th>\n",
       "    </tr>\n",
       "  </thead>\n",
       "  <tbody>\n",
       "  </tbody>\n",
       "</table><p>"
      ],
      "text/plain": [
       "<IPython.core.display.HTML object>"
      ]
     },
     "metadata": {},
     "output_type": "display_data"
    },
    {
     "data": {
      "text/html": [
       "\n",
       "    <div>\n",
       "      \n",
       "      <progress value='149' max='321' style='width:300px; height:20px; vertical-align: middle;'></progress>\n",
       "      [149/321 00:27 < 00:32, 5.30 it/s, Epoch 1.38/3]\n",
       "    </div>\n",
       "    <table border=\"1\" class=\"dataframe\">\n",
       "  <thead>\n",
       "    <tr style=\"text-align: left;\">\n",
       "      <th>Step</th>\n",
       "      <th>Training Loss</th>\n",
       "    </tr>\n",
       "  </thead>\n",
       "  <tbody>\n",
       "  </tbody>\n",
       "</table><p>"
      ],
      "text/plain": [
       "<IPython.core.display.HTML object>"
      ]
     },
     "metadata": {},
     "output_type": "display_data"
    },
    {
     "data": {
      "text/html": [
       "\n",
       "    <div>\n",
       "      \n",
       "      <progress value='150' max='321' style='width:300px; height:20px; vertical-align: middle;'></progress>\n",
       "      [150/321 00:27 < 00:32, 5.30 it/s, Epoch 1.39/3]\n",
       "    </div>\n",
       "    <table border=\"1\" class=\"dataframe\">\n",
       "  <thead>\n",
       "    <tr style=\"text-align: left;\">\n",
       "      <th>Step</th>\n",
       "      <th>Training Loss</th>\n",
       "    </tr>\n",
       "  </thead>\n",
       "  <tbody>\n",
       "  </tbody>\n",
       "</table><p>"
      ],
      "text/plain": [
       "<IPython.core.display.HTML object>"
      ]
     },
     "metadata": {},
     "output_type": "display_data"
    },
    {
     "data": {
      "text/html": [
       "\n",
       "    <div>\n",
       "      \n",
       "      <progress value='151' max='321' style='width:300px; height:20px; vertical-align: middle;'></progress>\n",
       "      [151/321 00:28 < 00:32, 5.30 it/s, Epoch 1.40/3]\n",
       "    </div>\n",
       "    <table border=\"1\" class=\"dataframe\">\n",
       "  <thead>\n",
       "    <tr style=\"text-align: left;\">\n",
       "      <th>Step</th>\n",
       "      <th>Training Loss</th>\n",
       "    </tr>\n",
       "  </thead>\n",
       "  <tbody>\n",
       "  </tbody>\n",
       "</table><p>"
      ],
      "text/plain": [
       "<IPython.core.display.HTML object>"
      ]
     },
     "metadata": {},
     "output_type": "display_data"
    },
    {
     "data": {
      "text/html": [
       "\n",
       "    <div>\n",
       "      \n",
       "      <progress value='152' max='321' style='width:300px; height:20px; vertical-align: middle;'></progress>\n",
       "      [152/321 00:28 < 00:31, 5.30 it/s, Epoch 1.41/3]\n",
       "    </div>\n",
       "    <table border=\"1\" class=\"dataframe\">\n",
       "  <thead>\n",
       "    <tr style=\"text-align: left;\">\n",
       "      <th>Step</th>\n",
       "      <th>Training Loss</th>\n",
       "    </tr>\n",
       "  </thead>\n",
       "  <tbody>\n",
       "  </tbody>\n",
       "</table><p>"
      ],
      "text/plain": [
       "<IPython.core.display.HTML object>"
      ]
     },
     "metadata": {},
     "output_type": "display_data"
    },
    {
     "data": {
      "text/html": [
       "\n",
       "    <div>\n",
       "      \n",
       "      <progress value='153' max='321' style='width:300px; height:20px; vertical-align: middle;'></progress>\n",
       "      [153/321 00:28 < 00:31, 5.30 it/s, Epoch 1.42/3]\n",
       "    </div>\n",
       "    <table border=\"1\" class=\"dataframe\">\n",
       "  <thead>\n",
       "    <tr style=\"text-align: left;\">\n",
       "      <th>Step</th>\n",
       "      <th>Training Loss</th>\n",
       "    </tr>\n",
       "  </thead>\n",
       "  <tbody>\n",
       "  </tbody>\n",
       "</table><p>"
      ],
      "text/plain": [
       "<IPython.core.display.HTML object>"
      ]
     },
     "metadata": {},
     "output_type": "display_data"
    },
    {
     "data": {
      "text/html": [
       "\n",
       "    <div>\n",
       "      \n",
       "      <progress value='154' max='321' style='width:300px; height:20px; vertical-align: middle;'></progress>\n",
       "      [154/321 00:28 < 00:31, 5.30 it/s, Epoch 1.43/3]\n",
       "    </div>\n",
       "    <table border=\"1\" class=\"dataframe\">\n",
       "  <thead>\n",
       "    <tr style=\"text-align: left;\">\n",
       "      <th>Step</th>\n",
       "      <th>Training Loss</th>\n",
       "    </tr>\n",
       "  </thead>\n",
       "  <tbody>\n",
       "  </tbody>\n",
       "</table><p>"
      ],
      "text/plain": [
       "<IPython.core.display.HTML object>"
      ]
     },
     "metadata": {},
     "output_type": "display_data"
    },
    {
     "data": {
      "text/html": [
       "\n",
       "    <div>\n",
       "      \n",
       "      <progress value='155' max='321' style='width:300px; height:20px; vertical-align: middle;'></progress>\n",
       "      [155/321 00:28 < 00:31, 5.30 it/s, Epoch 1.44/3]\n",
       "    </div>\n",
       "    <table border=\"1\" class=\"dataframe\">\n",
       "  <thead>\n",
       "    <tr style=\"text-align: left;\">\n",
       "      <th>Step</th>\n",
       "      <th>Training Loss</th>\n",
       "    </tr>\n",
       "  </thead>\n",
       "  <tbody>\n",
       "  </tbody>\n",
       "</table><p>"
      ],
      "text/plain": [
       "<IPython.core.display.HTML object>"
      ]
     },
     "metadata": {},
     "output_type": "display_data"
    },
    {
     "data": {
      "text/html": [
       "\n",
       "    <div>\n",
       "      \n",
       "      <progress value='156' max='321' style='width:300px; height:20px; vertical-align: middle;'></progress>\n",
       "      [156/321 00:29 < 00:31, 5.30 it/s, Epoch 1.45/3]\n",
       "    </div>\n",
       "    <table border=\"1\" class=\"dataframe\">\n",
       "  <thead>\n",
       "    <tr style=\"text-align: left;\">\n",
       "      <th>Step</th>\n",
       "      <th>Training Loss</th>\n",
       "    </tr>\n",
       "  </thead>\n",
       "  <tbody>\n",
       "  </tbody>\n",
       "</table><p>"
      ],
      "text/plain": [
       "<IPython.core.display.HTML object>"
      ]
     },
     "metadata": {},
     "output_type": "display_data"
    },
    {
     "data": {
      "text/html": [
       "\n",
       "    <div>\n",
       "      \n",
       "      <progress value='157' max='321' style='width:300px; height:20px; vertical-align: middle;'></progress>\n",
       "      [157/321 00:29 < 00:30, 5.30 it/s, Epoch 1.46/3]\n",
       "    </div>\n",
       "    <table border=\"1\" class=\"dataframe\">\n",
       "  <thead>\n",
       "    <tr style=\"text-align: left;\">\n",
       "      <th>Step</th>\n",
       "      <th>Training Loss</th>\n",
       "    </tr>\n",
       "  </thead>\n",
       "  <tbody>\n",
       "  </tbody>\n",
       "</table><p>"
      ],
      "text/plain": [
       "<IPython.core.display.HTML object>"
      ]
     },
     "metadata": {},
     "output_type": "display_data"
    },
    {
     "data": {
      "text/html": [
       "\n",
       "    <div>\n",
       "      \n",
       "      <progress value='158' max='321' style='width:300px; height:20px; vertical-align: middle;'></progress>\n",
       "      [158/321 00:29 < 00:30, 5.30 it/s, Epoch 1.47/3]\n",
       "    </div>\n",
       "    <table border=\"1\" class=\"dataframe\">\n",
       "  <thead>\n",
       "    <tr style=\"text-align: left;\">\n",
       "      <th>Step</th>\n",
       "      <th>Training Loss</th>\n",
       "    </tr>\n",
       "  </thead>\n",
       "  <tbody>\n",
       "  </tbody>\n",
       "</table><p>"
      ],
      "text/plain": [
       "<IPython.core.display.HTML object>"
      ]
     },
     "metadata": {},
     "output_type": "display_data"
    },
    {
     "data": {
      "text/html": [
       "\n",
       "    <div>\n",
       "      \n",
       "      <progress value='159' max='321' style='width:300px; height:20px; vertical-align: middle;'></progress>\n",
       "      [159/321 00:29 < 00:30, 5.30 it/s, Epoch 1.48/3]\n",
       "    </div>\n",
       "    <table border=\"1\" class=\"dataframe\">\n",
       "  <thead>\n",
       "    <tr style=\"text-align: left;\">\n",
       "      <th>Step</th>\n",
       "      <th>Training Loss</th>\n",
       "    </tr>\n",
       "  </thead>\n",
       "  <tbody>\n",
       "  </tbody>\n",
       "</table><p>"
      ],
      "text/plain": [
       "<IPython.core.display.HTML object>"
      ]
     },
     "metadata": {},
     "output_type": "display_data"
    },
    {
     "data": {
      "text/html": [
       "\n",
       "    <div>\n",
       "      \n",
       "      <progress value='160' max='321' style='width:300px; height:20px; vertical-align: middle;'></progress>\n",
       "      [160/321 00:29 < 00:30, 5.30 it/s, Epoch 1.49/3]\n",
       "    </div>\n",
       "    <table border=\"1\" class=\"dataframe\">\n",
       "  <thead>\n",
       "    <tr style=\"text-align: left;\">\n",
       "      <th>Step</th>\n",
       "      <th>Training Loss</th>\n",
       "    </tr>\n",
       "  </thead>\n",
       "  <tbody>\n",
       "  </tbody>\n",
       "</table><p>"
      ],
      "text/plain": [
       "<IPython.core.display.HTML object>"
      ]
     },
     "metadata": {},
     "output_type": "display_data"
    },
    {
     "data": {
      "text/html": [
       "\n",
       "    <div>\n",
       "      \n",
       "      <progress value='161' max='321' style='width:300px; height:20px; vertical-align: middle;'></progress>\n",
       "      [161/321 00:30 < 00:30, 5.28 it/s, Epoch 1.50/3]\n",
       "    </div>\n",
       "    <table border=\"1\" class=\"dataframe\">\n",
       "  <thead>\n",
       "    <tr style=\"text-align: left;\">\n",
       "      <th>Step</th>\n",
       "      <th>Training Loss</th>\n",
       "    </tr>\n",
       "  </thead>\n",
       "  <tbody>\n",
       "  </tbody>\n",
       "</table><p>"
      ],
      "text/plain": [
       "<IPython.core.display.HTML object>"
      ]
     },
     "metadata": {},
     "output_type": "display_data"
    },
    {
     "data": {
      "text/html": [
       "\n",
       "    <div>\n",
       "      \n",
       "      <progress value='162' max='321' style='width:300px; height:20px; vertical-align: middle;'></progress>\n",
       "      [162/321 00:30 < 00:30, 5.28 it/s, Epoch 1.50/3]\n",
       "    </div>\n",
       "    <table border=\"1\" class=\"dataframe\">\n",
       "  <thead>\n",
       "    <tr style=\"text-align: left;\">\n",
       "      <th>Step</th>\n",
       "      <th>Training Loss</th>\n",
       "    </tr>\n",
       "  </thead>\n",
       "  <tbody>\n",
       "  </tbody>\n",
       "</table><p>"
      ],
      "text/plain": [
       "<IPython.core.display.HTML object>"
      ]
     },
     "metadata": {},
     "output_type": "display_data"
    },
    {
     "data": {
      "text/html": [
       "\n",
       "    <div>\n",
       "      \n",
       "      <progress value='163' max='321' style='width:300px; height:20px; vertical-align: middle;'></progress>\n",
       "      [163/321 00:30 < 00:29, 5.28 it/s, Epoch 1.51/3]\n",
       "    </div>\n",
       "    <table border=\"1\" class=\"dataframe\">\n",
       "  <thead>\n",
       "    <tr style=\"text-align: left;\">\n",
       "      <th>Step</th>\n",
       "      <th>Training Loss</th>\n",
       "    </tr>\n",
       "  </thead>\n",
       "  <tbody>\n",
       "  </tbody>\n",
       "</table><p>"
      ],
      "text/plain": [
       "<IPython.core.display.HTML object>"
      ]
     },
     "metadata": {},
     "output_type": "display_data"
    },
    {
     "data": {
      "text/html": [
       "\n",
       "    <div>\n",
       "      \n",
       "      <progress value='164' max='321' style='width:300px; height:20px; vertical-align: middle;'></progress>\n",
       "      [164/321 00:30 < 00:29, 5.28 it/s, Epoch 1.52/3]\n",
       "    </div>\n",
       "    <table border=\"1\" class=\"dataframe\">\n",
       "  <thead>\n",
       "    <tr style=\"text-align: left;\">\n",
       "      <th>Step</th>\n",
       "      <th>Training Loss</th>\n",
       "    </tr>\n",
       "  </thead>\n",
       "  <tbody>\n",
       "  </tbody>\n",
       "</table><p>"
      ],
      "text/plain": [
       "<IPython.core.display.HTML object>"
      ]
     },
     "metadata": {},
     "output_type": "display_data"
    },
    {
     "data": {
      "text/html": [
       "\n",
       "    <div>\n",
       "      \n",
       "      <progress value='165' max='321' style='width:300px; height:20px; vertical-align: middle;'></progress>\n",
       "      [165/321 00:30 < 00:29, 5.28 it/s, Epoch 1.53/3]\n",
       "    </div>\n",
       "    <table border=\"1\" class=\"dataframe\">\n",
       "  <thead>\n",
       "    <tr style=\"text-align: left;\">\n",
       "      <th>Step</th>\n",
       "      <th>Training Loss</th>\n",
       "    </tr>\n",
       "  </thead>\n",
       "  <tbody>\n",
       "  </tbody>\n",
       "</table><p>"
      ],
      "text/plain": [
       "<IPython.core.display.HTML object>"
      ]
     },
     "metadata": {},
     "output_type": "display_data"
    },
    {
     "data": {
      "text/html": [
       "\n",
       "    <div>\n",
       "      \n",
       "      <progress value='166' max='321' style='width:300px; height:20px; vertical-align: middle;'></progress>\n",
       "      [166/321 00:31 < 00:29, 5.28 it/s, Epoch 1.54/3]\n",
       "    </div>\n",
       "    <table border=\"1\" class=\"dataframe\">\n",
       "  <thead>\n",
       "    <tr style=\"text-align: left;\">\n",
       "      <th>Step</th>\n",
       "      <th>Training Loss</th>\n",
       "    </tr>\n",
       "  </thead>\n",
       "  <tbody>\n",
       "  </tbody>\n",
       "</table><p>"
      ],
      "text/plain": [
       "<IPython.core.display.HTML object>"
      ]
     },
     "metadata": {},
     "output_type": "display_data"
    },
    {
     "data": {
      "text/html": [
       "\n",
       "    <div>\n",
       "      \n",
       "      <progress value='167' max='321' style='width:300px; height:20px; vertical-align: middle;'></progress>\n",
       "      [167/321 00:31 < 00:29, 5.28 it/s, Epoch 1.55/3]\n",
       "    </div>\n",
       "    <table border=\"1\" class=\"dataframe\">\n",
       "  <thead>\n",
       "    <tr style=\"text-align: left;\">\n",
       "      <th>Step</th>\n",
       "      <th>Training Loss</th>\n",
       "    </tr>\n",
       "  </thead>\n",
       "  <tbody>\n",
       "  </tbody>\n",
       "</table><p>"
      ],
      "text/plain": [
       "<IPython.core.display.HTML object>"
      ]
     },
     "metadata": {},
     "output_type": "display_data"
    },
    {
     "data": {
      "text/html": [
       "\n",
       "    <div>\n",
       "      \n",
       "      <progress value='168' max='321' style='width:300px; height:20px; vertical-align: middle;'></progress>\n",
       "      [168/321 00:31 < 00:28, 5.28 it/s, Epoch 1.56/3]\n",
       "    </div>\n",
       "    <table border=\"1\" class=\"dataframe\">\n",
       "  <thead>\n",
       "    <tr style=\"text-align: left;\">\n",
       "      <th>Step</th>\n",
       "      <th>Training Loss</th>\n",
       "    </tr>\n",
       "  </thead>\n",
       "  <tbody>\n",
       "  </tbody>\n",
       "</table><p>"
      ],
      "text/plain": [
       "<IPython.core.display.HTML object>"
      ]
     },
     "metadata": {},
     "output_type": "display_data"
    },
    {
     "data": {
      "text/html": [
       "\n",
       "    <div>\n",
       "      \n",
       "      <progress value='169' max='321' style='width:300px; height:20px; vertical-align: middle;'></progress>\n",
       "      [169/321 00:31 < 00:28, 5.28 it/s, Epoch 1.57/3]\n",
       "    </div>\n",
       "    <table border=\"1\" class=\"dataframe\">\n",
       "  <thead>\n",
       "    <tr style=\"text-align: left;\">\n",
       "      <th>Step</th>\n",
       "      <th>Training Loss</th>\n",
       "    </tr>\n",
       "  </thead>\n",
       "  <tbody>\n",
       "  </tbody>\n",
       "</table><p>"
      ],
      "text/plain": [
       "<IPython.core.display.HTML object>"
      ]
     },
     "metadata": {},
     "output_type": "display_data"
    },
    {
     "data": {
      "text/html": [
       "\n",
       "    <div>\n",
       "      \n",
       "      <progress value='170' max='321' style='width:300px; height:20px; vertical-align: middle;'></progress>\n",
       "      [170/321 00:31 < 00:28, 5.28 it/s, Epoch 1.58/3]\n",
       "    </div>\n",
       "    <table border=\"1\" class=\"dataframe\">\n",
       "  <thead>\n",
       "    <tr style=\"text-align: left;\">\n",
       "      <th>Step</th>\n",
       "      <th>Training Loss</th>\n",
       "    </tr>\n",
       "  </thead>\n",
       "  <tbody>\n",
       "  </tbody>\n",
       "</table><p>"
      ],
      "text/plain": [
       "<IPython.core.display.HTML object>"
      ]
     },
     "metadata": {},
     "output_type": "display_data"
    },
    {
     "data": {
      "text/html": [
       "\n",
       "    <div>\n",
       "      \n",
       "      <progress value='171' max='321' style='width:300px; height:20px; vertical-align: middle;'></progress>\n",
       "      [171/321 00:31 < 00:28, 5.28 it/s, Epoch 1.59/3]\n",
       "    </div>\n",
       "    <table border=\"1\" class=\"dataframe\">\n",
       "  <thead>\n",
       "    <tr style=\"text-align: left;\">\n",
       "      <th>Step</th>\n",
       "      <th>Training Loss</th>\n",
       "    </tr>\n",
       "  </thead>\n",
       "  <tbody>\n",
       "  </tbody>\n",
       "</table><p>"
      ],
      "text/plain": [
       "<IPython.core.display.HTML object>"
      ]
     },
     "metadata": {},
     "output_type": "display_data"
    },
    {
     "data": {
      "text/html": [
       "\n",
       "    <div>\n",
       "      \n",
       "      <progress value='172' max='321' style='width:300px; height:20px; vertical-align: middle;'></progress>\n",
       "      [172/321 00:32 < 00:28, 5.28 it/s, Epoch 1.60/3]\n",
       "    </div>\n",
       "    <table border=\"1\" class=\"dataframe\">\n",
       "  <thead>\n",
       "    <tr style=\"text-align: left;\">\n",
       "      <th>Step</th>\n",
       "      <th>Training Loss</th>\n",
       "    </tr>\n",
       "  </thead>\n",
       "  <tbody>\n",
       "  </tbody>\n",
       "</table><p>"
      ],
      "text/plain": [
       "<IPython.core.display.HTML object>"
      ]
     },
     "metadata": {},
     "output_type": "display_data"
    },
    {
     "data": {
      "text/html": [
       "\n",
       "    <div>\n",
       "      \n",
       "      <progress value='173' max='321' style='width:300px; height:20px; vertical-align: middle;'></progress>\n",
       "      [173/321 00:32 < 00:28, 5.28 it/s, Epoch 1.61/3]\n",
       "    </div>\n",
       "    <table border=\"1\" class=\"dataframe\">\n",
       "  <thead>\n",
       "    <tr style=\"text-align: left;\">\n",
       "      <th>Step</th>\n",
       "      <th>Training Loss</th>\n",
       "    </tr>\n",
       "  </thead>\n",
       "  <tbody>\n",
       "  </tbody>\n",
       "</table><p>"
      ],
      "text/plain": [
       "<IPython.core.display.HTML object>"
      ]
     },
     "metadata": {},
     "output_type": "display_data"
    },
    {
     "data": {
      "text/html": [
       "\n",
       "    <div>\n",
       "      \n",
       "      <progress value='174' max='321' style='width:300px; height:20px; vertical-align: middle;'></progress>\n",
       "      [174/321 00:32 < 00:27, 5.28 it/s, Epoch 1.62/3]\n",
       "    </div>\n",
       "    <table border=\"1\" class=\"dataframe\">\n",
       "  <thead>\n",
       "    <tr style=\"text-align: left;\">\n",
       "      <th>Step</th>\n",
       "      <th>Training Loss</th>\n",
       "    </tr>\n",
       "  </thead>\n",
       "  <tbody>\n",
       "  </tbody>\n",
       "</table><p>"
      ],
      "text/plain": [
       "<IPython.core.display.HTML object>"
      ]
     },
     "metadata": {},
     "output_type": "display_data"
    },
    {
     "data": {
      "text/html": [
       "\n",
       "    <div>\n",
       "      \n",
       "      <progress value='175' max='321' style='width:300px; height:20px; vertical-align: middle;'></progress>\n",
       "      [175/321 00:32 < 00:27, 5.29 it/s, Epoch 1.63/3]\n",
       "    </div>\n",
       "    <table border=\"1\" class=\"dataframe\">\n",
       "  <thead>\n",
       "    <tr style=\"text-align: left;\">\n",
       "      <th>Step</th>\n",
       "      <th>Training Loss</th>\n",
       "    </tr>\n",
       "  </thead>\n",
       "  <tbody>\n",
       "  </tbody>\n",
       "</table><p>"
      ],
      "text/plain": [
       "<IPython.core.display.HTML object>"
      ]
     },
     "metadata": {},
     "output_type": "display_data"
    },
    {
     "data": {
      "text/html": [
       "\n",
       "    <div>\n",
       "      \n",
       "      <progress value='176' max='321' style='width:300px; height:20px; vertical-align: middle;'></progress>\n",
       "      [176/321 00:32 < 00:27, 5.29 it/s, Epoch 1.64/3]\n",
       "    </div>\n",
       "    <table border=\"1\" class=\"dataframe\">\n",
       "  <thead>\n",
       "    <tr style=\"text-align: left;\">\n",
       "      <th>Step</th>\n",
       "      <th>Training Loss</th>\n",
       "    </tr>\n",
       "  </thead>\n",
       "  <tbody>\n",
       "  </tbody>\n",
       "</table><p>"
      ],
      "text/plain": [
       "<IPython.core.display.HTML object>"
      ]
     },
     "metadata": {},
     "output_type": "display_data"
    },
    {
     "data": {
      "text/html": [
       "\n",
       "    <div>\n",
       "      \n",
       "      <progress value='177' max='321' style='width:300px; height:20px; vertical-align: middle;'></progress>\n",
       "      [177/321 00:33 < 00:27, 5.29 it/s, Epoch 1.64/3]\n",
       "    </div>\n",
       "    <table border=\"1\" class=\"dataframe\">\n",
       "  <thead>\n",
       "    <tr style=\"text-align: left;\">\n",
       "      <th>Step</th>\n",
       "      <th>Training Loss</th>\n",
       "    </tr>\n",
       "  </thead>\n",
       "  <tbody>\n",
       "  </tbody>\n",
       "</table><p>"
      ],
      "text/plain": [
       "<IPython.core.display.HTML object>"
      ]
     },
     "metadata": {},
     "output_type": "display_data"
    },
    {
     "data": {
      "text/html": [
       "\n",
       "    <div>\n",
       "      \n",
       "      <progress value='178' max='321' style='width:300px; height:20px; vertical-align: middle;'></progress>\n",
       "      [178/321 00:33 < 00:27, 5.29 it/s, Epoch 1.65/3]\n",
       "    </div>\n",
       "    <table border=\"1\" class=\"dataframe\">\n",
       "  <thead>\n",
       "    <tr style=\"text-align: left;\">\n",
       "      <th>Step</th>\n",
       "      <th>Training Loss</th>\n",
       "    </tr>\n",
       "  </thead>\n",
       "  <tbody>\n",
       "  </tbody>\n",
       "</table><p>"
      ],
      "text/plain": [
       "<IPython.core.display.HTML object>"
      ]
     },
     "metadata": {},
     "output_type": "display_data"
    },
    {
     "data": {
      "text/html": [
       "\n",
       "    <div>\n",
       "      \n",
       "      <progress value='179' max='321' style='width:300px; height:20px; vertical-align: middle;'></progress>\n",
       "      [179/321 00:33 < 00:26, 5.29 it/s, Epoch 1.66/3]\n",
       "    </div>\n",
       "    <table border=\"1\" class=\"dataframe\">\n",
       "  <thead>\n",
       "    <tr style=\"text-align: left;\">\n",
       "      <th>Step</th>\n",
       "      <th>Training Loss</th>\n",
       "    </tr>\n",
       "  </thead>\n",
       "  <tbody>\n",
       "  </tbody>\n",
       "</table><p>"
      ],
      "text/plain": [
       "<IPython.core.display.HTML object>"
      ]
     },
     "metadata": {},
     "output_type": "display_data"
    },
    {
     "data": {
      "text/html": [
       "\n",
       "    <div>\n",
       "      \n",
       "      <progress value='180' max='321' style='width:300px; height:20px; vertical-align: middle;'></progress>\n",
       "      [180/321 00:33 < 00:26, 5.29 it/s, Epoch 1.67/3]\n",
       "    </div>\n",
       "    <table border=\"1\" class=\"dataframe\">\n",
       "  <thead>\n",
       "    <tr style=\"text-align: left;\">\n",
       "      <th>Step</th>\n",
       "      <th>Training Loss</th>\n",
       "    </tr>\n",
       "  </thead>\n",
       "  <tbody>\n",
       "  </tbody>\n",
       "</table><p>"
      ],
      "text/plain": [
       "<IPython.core.display.HTML object>"
      ]
     },
     "metadata": {},
     "output_type": "display_data"
    },
    {
     "data": {
      "text/html": [
       "\n",
       "    <div>\n",
       "      \n",
       "      <progress value='181' max='321' style='width:300px; height:20px; vertical-align: middle;'></progress>\n",
       "      [181/321 00:33 < 00:26, 5.29 it/s, Epoch 1.68/3]\n",
       "    </div>\n",
       "    <table border=\"1\" class=\"dataframe\">\n",
       "  <thead>\n",
       "    <tr style=\"text-align: left;\">\n",
       "      <th>Step</th>\n",
       "      <th>Training Loss</th>\n",
       "    </tr>\n",
       "  </thead>\n",
       "  <tbody>\n",
       "  </tbody>\n",
       "</table><p>"
      ],
      "text/plain": [
       "<IPython.core.display.HTML object>"
      ]
     },
     "metadata": {},
     "output_type": "display_data"
    },
    {
     "data": {
      "text/html": [
       "\n",
       "    <div>\n",
       "      \n",
       "      <progress value='182' max='321' style='width:300px; height:20px; vertical-align: middle;'></progress>\n",
       "      [182/321 00:34 < 00:26, 5.29 it/s, Epoch 1.69/3]\n",
       "    </div>\n",
       "    <table border=\"1\" class=\"dataframe\">\n",
       "  <thead>\n",
       "    <tr style=\"text-align: left;\">\n",
       "      <th>Step</th>\n",
       "      <th>Training Loss</th>\n",
       "    </tr>\n",
       "  </thead>\n",
       "  <tbody>\n",
       "  </tbody>\n",
       "</table><p>"
      ],
      "text/plain": [
       "<IPython.core.display.HTML object>"
      ]
     },
     "metadata": {},
     "output_type": "display_data"
    },
    {
     "data": {
      "text/html": [
       "\n",
       "    <div>\n",
       "      \n",
       "      <progress value='183' max='321' style='width:300px; height:20px; vertical-align: middle;'></progress>\n",
       "      [183/321 00:34 < 00:26, 5.29 it/s, Epoch 1.70/3]\n",
       "    </div>\n",
       "    <table border=\"1\" class=\"dataframe\">\n",
       "  <thead>\n",
       "    <tr style=\"text-align: left;\">\n",
       "      <th>Step</th>\n",
       "      <th>Training Loss</th>\n",
       "    </tr>\n",
       "  </thead>\n",
       "  <tbody>\n",
       "  </tbody>\n",
       "</table><p>"
      ],
      "text/plain": [
       "<IPython.core.display.HTML object>"
      ]
     },
     "metadata": {},
     "output_type": "display_data"
    },
    {
     "data": {
      "text/html": [
       "\n",
       "    <div>\n",
       "      \n",
       "      <progress value='184' max='321' style='width:300px; height:20px; vertical-align: middle;'></progress>\n",
       "      [184/321 00:34 < 00:25, 5.29 it/s, Epoch 1.71/3]\n",
       "    </div>\n",
       "    <table border=\"1\" class=\"dataframe\">\n",
       "  <thead>\n",
       "    <tr style=\"text-align: left;\">\n",
       "      <th>Step</th>\n",
       "      <th>Training Loss</th>\n",
       "    </tr>\n",
       "  </thead>\n",
       "  <tbody>\n",
       "  </tbody>\n",
       "</table><p>"
      ],
      "text/plain": [
       "<IPython.core.display.HTML object>"
      ]
     },
     "metadata": {},
     "output_type": "display_data"
    },
    {
     "data": {
      "text/html": [
       "\n",
       "    <div>\n",
       "      \n",
       "      <progress value='185' max='321' style='width:300px; height:20px; vertical-align: middle;'></progress>\n",
       "      [185/321 00:34 < 00:25, 5.29 it/s, Epoch 1.72/3]\n",
       "    </div>\n",
       "    <table border=\"1\" class=\"dataframe\">\n",
       "  <thead>\n",
       "    <tr style=\"text-align: left;\">\n",
       "      <th>Step</th>\n",
       "      <th>Training Loss</th>\n",
       "    </tr>\n",
       "  </thead>\n",
       "  <tbody>\n",
       "  </tbody>\n",
       "</table><p>"
      ],
      "text/plain": [
       "<IPython.core.display.HTML object>"
      ]
     },
     "metadata": {},
     "output_type": "display_data"
    },
    {
     "data": {
      "text/html": [
       "\n",
       "    <div>\n",
       "      \n",
       "      <progress value='186' max='321' style='width:300px; height:20px; vertical-align: middle;'></progress>\n",
       "      [186/321 00:34 < 00:25, 5.29 it/s, Epoch 1.73/3]\n",
       "    </div>\n",
       "    <table border=\"1\" class=\"dataframe\">\n",
       "  <thead>\n",
       "    <tr style=\"text-align: left;\">\n",
       "      <th>Step</th>\n",
       "      <th>Training Loss</th>\n",
       "    </tr>\n",
       "  </thead>\n",
       "  <tbody>\n",
       "  </tbody>\n",
       "</table><p>"
      ],
      "text/plain": [
       "<IPython.core.display.HTML object>"
      ]
     },
     "metadata": {},
     "output_type": "display_data"
    },
    {
     "data": {
      "text/html": [
       "\n",
       "    <div>\n",
       "      \n",
       "      <progress value='187' max='321' style='width:300px; height:20px; vertical-align: middle;'></progress>\n",
       "      [187/321 00:34 < 00:25, 5.29 it/s, Epoch 1.74/3]\n",
       "    </div>\n",
       "    <table border=\"1\" class=\"dataframe\">\n",
       "  <thead>\n",
       "    <tr style=\"text-align: left;\">\n",
       "      <th>Step</th>\n",
       "      <th>Training Loss</th>\n",
       "    </tr>\n",
       "  </thead>\n",
       "  <tbody>\n",
       "  </tbody>\n",
       "</table><p>"
      ],
      "text/plain": [
       "<IPython.core.display.HTML object>"
      ]
     },
     "metadata": {},
     "output_type": "display_data"
    },
    {
     "data": {
      "text/html": [
       "\n",
       "    <div>\n",
       "      \n",
       "      <progress value='188' max='321' style='width:300px; height:20px; vertical-align: middle;'></progress>\n",
       "      [188/321 00:35 < 00:25, 5.29 it/s, Epoch 1.75/3]\n",
       "    </div>\n",
       "    <table border=\"1\" class=\"dataframe\">\n",
       "  <thead>\n",
       "    <tr style=\"text-align: left;\">\n",
       "      <th>Step</th>\n",
       "      <th>Training Loss</th>\n",
       "    </tr>\n",
       "  </thead>\n",
       "  <tbody>\n",
       "  </tbody>\n",
       "</table><p>"
      ],
      "text/plain": [
       "<IPython.core.display.HTML object>"
      ]
     },
     "metadata": {},
     "output_type": "display_data"
    },
    {
     "data": {
      "text/html": [
       "\n",
       "    <div>\n",
       "      \n",
       "      <progress value='189' max='321' style='width:300px; height:20px; vertical-align: middle;'></progress>\n",
       "      [189/321 00:35 < 00:24, 5.29 it/s, Epoch 1.76/3]\n",
       "    </div>\n",
       "    <table border=\"1\" class=\"dataframe\">\n",
       "  <thead>\n",
       "    <tr style=\"text-align: left;\">\n",
       "      <th>Step</th>\n",
       "      <th>Training Loss</th>\n",
       "    </tr>\n",
       "  </thead>\n",
       "  <tbody>\n",
       "  </tbody>\n",
       "</table><p>"
      ],
      "text/plain": [
       "<IPython.core.display.HTML object>"
      ]
     },
     "metadata": {},
     "output_type": "display_data"
    },
    {
     "data": {
      "text/html": [
       "\n",
       "    <div>\n",
       "      \n",
       "      <progress value='190' max='321' style='width:300px; height:20px; vertical-align: middle;'></progress>\n",
       "      [190/321 00:35 < 00:24, 5.29 it/s, Epoch 1.77/3]\n",
       "    </div>\n",
       "    <table border=\"1\" class=\"dataframe\">\n",
       "  <thead>\n",
       "    <tr style=\"text-align: left;\">\n",
       "      <th>Step</th>\n",
       "      <th>Training Loss</th>\n",
       "    </tr>\n",
       "  </thead>\n",
       "  <tbody>\n",
       "  </tbody>\n",
       "</table><p>"
      ],
      "text/plain": [
       "<IPython.core.display.HTML object>"
      ]
     },
     "metadata": {},
     "output_type": "display_data"
    },
    {
     "data": {
      "text/html": [
       "\n",
       "    <div>\n",
       "      \n",
       "      <progress value='191' max='321' style='width:300px; height:20px; vertical-align: middle;'></progress>\n",
       "      [191/321 00:35 < 00:24, 5.30 it/s, Epoch 1.78/3]\n",
       "    </div>\n",
       "    <table border=\"1\" class=\"dataframe\">\n",
       "  <thead>\n",
       "    <tr style=\"text-align: left;\">\n",
       "      <th>Step</th>\n",
       "      <th>Training Loss</th>\n",
       "    </tr>\n",
       "  </thead>\n",
       "  <tbody>\n",
       "  </tbody>\n",
       "</table><p>"
      ],
      "text/plain": [
       "<IPython.core.display.HTML object>"
      ]
     },
     "metadata": {},
     "output_type": "display_data"
    },
    {
     "data": {
      "text/html": [
       "\n",
       "    <div>\n",
       "      \n",
       "      <progress value='192' max='321' style='width:300px; height:20px; vertical-align: middle;'></progress>\n",
       "      [192/321 00:35 < 00:24, 5.30 it/s, Epoch 1.79/3]\n",
       "    </div>\n",
       "    <table border=\"1\" class=\"dataframe\">\n",
       "  <thead>\n",
       "    <tr style=\"text-align: left;\">\n",
       "      <th>Step</th>\n",
       "      <th>Training Loss</th>\n",
       "    </tr>\n",
       "  </thead>\n",
       "  <tbody>\n",
       "  </tbody>\n",
       "</table><p>"
      ],
      "text/plain": [
       "<IPython.core.display.HTML object>"
      ]
     },
     "metadata": {},
     "output_type": "display_data"
    },
    {
     "data": {
      "text/html": [
       "\n",
       "    <div>\n",
       "      \n",
       "      <progress value='193' max='321' style='width:300px; height:20px; vertical-align: middle;'></progress>\n",
       "      [193/321 00:36 < 00:24, 5.27 it/s, Epoch 1.79/3]\n",
       "    </div>\n",
       "    <table border=\"1\" class=\"dataframe\">\n",
       "  <thead>\n",
       "    <tr style=\"text-align: left;\">\n",
       "      <th>Step</th>\n",
       "      <th>Training Loss</th>\n",
       "    </tr>\n",
       "  </thead>\n",
       "  <tbody>\n",
       "  </tbody>\n",
       "</table><p>"
      ],
      "text/plain": [
       "<IPython.core.display.HTML object>"
      ]
     },
     "metadata": {},
     "output_type": "display_data"
    },
    {
     "data": {
      "text/html": [
       "\n",
       "    <div>\n",
       "      \n",
       "      <progress value='194' max='321' style='width:300px; height:20px; vertical-align: middle;'></progress>\n",
       "      [194/321 00:36 < 00:24, 5.28 it/s, Epoch 1.80/3]\n",
       "    </div>\n",
       "    <table border=\"1\" class=\"dataframe\">\n",
       "  <thead>\n",
       "    <tr style=\"text-align: left;\">\n",
       "      <th>Step</th>\n",
       "      <th>Training Loss</th>\n",
       "    </tr>\n",
       "  </thead>\n",
       "  <tbody>\n",
       "  </tbody>\n",
       "</table><p>"
      ],
      "text/plain": [
       "<IPython.core.display.HTML object>"
      ]
     },
     "metadata": {},
     "output_type": "display_data"
    },
    {
     "data": {
      "text/html": [
       "\n",
       "    <div>\n",
       "      \n",
       "      <progress value='195' max='321' style='width:300px; height:20px; vertical-align: middle;'></progress>\n",
       "      [195/321 00:36 < 00:23, 5.28 it/s, Epoch 1.81/3]\n",
       "    </div>\n",
       "    <table border=\"1\" class=\"dataframe\">\n",
       "  <thead>\n",
       "    <tr style=\"text-align: left;\">\n",
       "      <th>Step</th>\n",
       "      <th>Training Loss</th>\n",
       "    </tr>\n",
       "  </thead>\n",
       "  <tbody>\n",
       "  </tbody>\n",
       "</table><p>"
      ],
      "text/plain": [
       "<IPython.core.display.HTML object>"
      ]
     },
     "metadata": {},
     "output_type": "display_data"
    },
    {
     "data": {
      "text/html": [
       "\n",
       "    <div>\n",
       "      \n",
       "      <progress value='196' max='321' style='width:300px; height:20px; vertical-align: middle;'></progress>\n",
       "      [196/321 00:36 < 00:23, 5.28 it/s, Epoch 1.82/3]\n",
       "    </div>\n",
       "    <table border=\"1\" class=\"dataframe\">\n",
       "  <thead>\n",
       "    <tr style=\"text-align: left;\">\n",
       "      <th>Step</th>\n",
       "      <th>Training Loss</th>\n",
       "    </tr>\n",
       "  </thead>\n",
       "  <tbody>\n",
       "  </tbody>\n",
       "</table><p>"
      ],
      "text/plain": [
       "<IPython.core.display.HTML object>"
      ]
     },
     "metadata": {},
     "output_type": "display_data"
    },
    {
     "data": {
      "text/html": [
       "\n",
       "    <div>\n",
       "      \n",
       "      <progress value='197' max='321' style='width:300px; height:20px; vertical-align: middle;'></progress>\n",
       "      [197/321 00:36 < 00:23, 5.28 it/s, Epoch 1.83/3]\n",
       "    </div>\n",
       "    <table border=\"1\" class=\"dataframe\">\n",
       "  <thead>\n",
       "    <tr style=\"text-align: left;\">\n",
       "      <th>Step</th>\n",
       "      <th>Training Loss</th>\n",
       "    </tr>\n",
       "  </thead>\n",
       "  <tbody>\n",
       "  </tbody>\n",
       "</table><p>"
      ],
      "text/plain": [
       "<IPython.core.display.HTML object>"
      ]
     },
     "metadata": {},
     "output_type": "display_data"
    },
    {
     "data": {
      "text/html": [
       "\n",
       "    <div>\n",
       "      \n",
       "      <progress value='198' max='321' style='width:300px; height:20px; vertical-align: middle;'></progress>\n",
       "      [198/321 00:37 < 00:23, 5.28 it/s, Epoch 1.84/3]\n",
       "    </div>\n",
       "    <table border=\"1\" class=\"dataframe\">\n",
       "  <thead>\n",
       "    <tr style=\"text-align: left;\">\n",
       "      <th>Step</th>\n",
       "      <th>Training Loss</th>\n",
       "    </tr>\n",
       "  </thead>\n",
       "  <tbody>\n",
       "  </tbody>\n",
       "</table><p>"
      ],
      "text/plain": [
       "<IPython.core.display.HTML object>"
      ]
     },
     "metadata": {},
     "output_type": "display_data"
    },
    {
     "data": {
      "text/html": [
       "\n",
       "    <div>\n",
       "      \n",
       "      <progress value='199' max='321' style='width:300px; height:20px; vertical-align: middle;'></progress>\n",
       "      [199/321 00:37 < 00:23, 5.28 it/s, Epoch 1.85/3]\n",
       "    </div>\n",
       "    <table border=\"1\" class=\"dataframe\">\n",
       "  <thead>\n",
       "    <tr style=\"text-align: left;\">\n",
       "      <th>Step</th>\n",
       "      <th>Training Loss</th>\n",
       "    </tr>\n",
       "  </thead>\n",
       "  <tbody>\n",
       "  </tbody>\n",
       "</table><p>"
      ],
      "text/plain": [
       "<IPython.core.display.HTML object>"
      ]
     },
     "metadata": {},
     "output_type": "display_data"
    },
    {
     "data": {
      "text/html": [
       "\n",
       "    <div>\n",
       "      \n",
       "      <progress value='200' max='321' style='width:300px; height:20px; vertical-align: middle;'></progress>\n",
       "      [200/321 00:37 < 00:22, 5.28 it/s, Epoch 1.86/3]\n",
       "    </div>\n",
       "    <table border=\"1\" class=\"dataframe\">\n",
       "  <thead>\n",
       "    <tr style=\"text-align: left;\">\n",
       "      <th>Step</th>\n",
       "      <th>Training Loss</th>\n",
       "    </tr>\n",
       "  </thead>\n",
       "  <tbody>\n",
       "  </tbody>\n",
       "</table><p>"
      ],
      "text/plain": [
       "<IPython.core.display.HTML object>"
      ]
     },
     "metadata": {},
     "output_type": "display_data"
    },
    {
     "data": {
      "text/html": [
       "\n",
       "    <div>\n",
       "      \n",
       "      <progress value='201' max='321' style='width:300px; height:20px; vertical-align: middle;'></progress>\n",
       "      [201/321 00:37 < 00:22, 5.28 it/s, Epoch 1.87/3]\n",
       "    </div>\n",
       "    <table border=\"1\" class=\"dataframe\">\n",
       "  <thead>\n",
       "    <tr style=\"text-align: left;\">\n",
       "      <th>Step</th>\n",
       "      <th>Training Loss</th>\n",
       "    </tr>\n",
       "  </thead>\n",
       "  <tbody>\n",
       "  </tbody>\n",
       "</table><p>"
      ],
      "text/plain": [
       "<IPython.core.display.HTML object>"
      ]
     },
     "metadata": {},
     "output_type": "display_data"
    },
    {
     "data": {
      "text/html": [
       "\n",
       "    <div>\n",
       "      \n",
       "      <progress value='202' max='321' style='width:300px; height:20px; vertical-align: middle;'></progress>\n",
       "      [202/321 00:37 < 00:22, 5.28 it/s, Epoch 1.88/3]\n",
       "    </div>\n",
       "    <table border=\"1\" class=\"dataframe\">\n",
       "  <thead>\n",
       "    <tr style=\"text-align: left;\">\n",
       "      <th>Step</th>\n",
       "      <th>Training Loss</th>\n",
       "    </tr>\n",
       "  </thead>\n",
       "  <tbody>\n",
       "  </tbody>\n",
       "</table><p>"
      ],
      "text/plain": [
       "<IPython.core.display.HTML object>"
      ]
     },
     "metadata": {},
     "output_type": "display_data"
    },
    {
     "data": {
      "text/html": [
       "\n",
       "    <div>\n",
       "      \n",
       "      <progress value='203' max='321' style='width:300px; height:20px; vertical-align: middle;'></progress>\n",
       "      [203/321 00:38 < 00:22, 5.28 it/s, Epoch 1.89/3]\n",
       "    </div>\n",
       "    <table border=\"1\" class=\"dataframe\">\n",
       "  <thead>\n",
       "    <tr style=\"text-align: left;\">\n",
       "      <th>Step</th>\n",
       "      <th>Training Loss</th>\n",
       "    </tr>\n",
       "  </thead>\n",
       "  <tbody>\n",
       "  </tbody>\n",
       "</table><p>"
      ],
      "text/plain": [
       "<IPython.core.display.HTML object>"
      ]
     },
     "metadata": {},
     "output_type": "display_data"
    },
    {
     "data": {
      "text/html": [
       "\n",
       "    <div>\n",
       "      \n",
       "      <progress value='204' max='321' style='width:300px; height:20px; vertical-align: middle;'></progress>\n",
       "      [204/321 00:38 < 00:22, 5.28 it/s, Epoch 1.90/3]\n",
       "    </div>\n",
       "    <table border=\"1\" class=\"dataframe\">\n",
       "  <thead>\n",
       "    <tr style=\"text-align: left;\">\n",
       "      <th>Step</th>\n",
       "      <th>Training Loss</th>\n",
       "    </tr>\n",
       "  </thead>\n",
       "  <tbody>\n",
       "  </tbody>\n",
       "</table><p>"
      ],
      "text/plain": [
       "<IPython.core.display.HTML object>"
      ]
     },
     "metadata": {},
     "output_type": "display_data"
    },
    {
     "data": {
      "text/html": [
       "\n",
       "    <div>\n",
       "      \n",
       "      <progress value='205' max='321' style='width:300px; height:20px; vertical-align: middle;'></progress>\n",
       "      [205/321 00:38 < 00:21, 5.28 it/s, Epoch 1.91/3]\n",
       "    </div>\n",
       "    <table border=\"1\" class=\"dataframe\">\n",
       "  <thead>\n",
       "    <tr style=\"text-align: left;\">\n",
       "      <th>Step</th>\n",
       "      <th>Training Loss</th>\n",
       "    </tr>\n",
       "  </thead>\n",
       "  <tbody>\n",
       "  </tbody>\n",
       "</table><p>"
      ],
      "text/plain": [
       "<IPython.core.display.HTML object>"
      ]
     },
     "metadata": {},
     "output_type": "display_data"
    },
    {
     "data": {
      "text/html": [
       "\n",
       "    <div>\n",
       "      \n",
       "      <progress value='206' max='321' style='width:300px; height:20px; vertical-align: middle;'></progress>\n",
       "      [206/321 00:38 < 00:21, 5.28 it/s, Epoch 1.92/3]\n",
       "    </div>\n",
       "    <table border=\"1\" class=\"dataframe\">\n",
       "  <thead>\n",
       "    <tr style=\"text-align: left;\">\n",
       "      <th>Step</th>\n",
       "      <th>Training Loss</th>\n",
       "    </tr>\n",
       "  </thead>\n",
       "  <tbody>\n",
       "  </tbody>\n",
       "</table><p>"
      ],
      "text/plain": [
       "<IPython.core.display.HTML object>"
      ]
     },
     "metadata": {},
     "output_type": "display_data"
    },
    {
     "data": {
      "text/html": [
       "\n",
       "    <div>\n",
       "      \n",
       "      <progress value='207' max='321' style='width:300px; height:20px; vertical-align: middle;'></progress>\n",
       "      [207/321 00:38 < 00:21, 5.28 it/s, Epoch 1.93/3]\n",
       "    </div>\n",
       "    <table border=\"1\" class=\"dataframe\">\n",
       "  <thead>\n",
       "    <tr style=\"text-align: left;\">\n",
       "      <th>Step</th>\n",
       "      <th>Training Loss</th>\n",
       "    </tr>\n",
       "  </thead>\n",
       "  <tbody>\n",
       "  </tbody>\n",
       "</table><p>"
      ],
      "text/plain": [
       "<IPython.core.display.HTML object>"
      ]
     },
     "metadata": {},
     "output_type": "display_data"
    },
    {
     "data": {
      "text/html": [
       "\n",
       "    <div>\n",
       "      \n",
       "      <progress value='208' max='321' style='width:300px; height:20px; vertical-align: middle;'></progress>\n",
       "      [208/321 00:38 < 00:21, 5.28 it/s, Epoch 1.93/3]\n",
       "    </div>\n",
       "    <table border=\"1\" class=\"dataframe\">\n",
       "  <thead>\n",
       "    <tr style=\"text-align: left;\">\n",
       "      <th>Step</th>\n",
       "      <th>Training Loss</th>\n",
       "    </tr>\n",
       "  </thead>\n",
       "  <tbody>\n",
       "  </tbody>\n",
       "</table><p>"
      ],
      "text/plain": [
       "<IPython.core.display.HTML object>"
      ]
     },
     "metadata": {},
     "output_type": "display_data"
    },
    {
     "data": {
      "text/html": [
       "\n",
       "    <div>\n",
       "      \n",
       "      <progress value='209' max='321' style='width:300px; height:20px; vertical-align: middle;'></progress>\n",
       "      [209/321 00:39 < 00:21, 5.29 it/s, Epoch 1.94/3]\n",
       "    </div>\n",
       "    <table border=\"1\" class=\"dataframe\">\n",
       "  <thead>\n",
       "    <tr style=\"text-align: left;\">\n",
       "      <th>Step</th>\n",
       "      <th>Training Loss</th>\n",
       "    </tr>\n",
       "  </thead>\n",
       "  <tbody>\n",
       "  </tbody>\n",
       "</table><p>"
      ],
      "text/plain": [
       "<IPython.core.display.HTML object>"
      ]
     },
     "metadata": {},
     "output_type": "display_data"
    },
    {
     "data": {
      "text/html": [
       "\n",
       "    <div>\n",
       "      \n",
       "      <progress value='210' max='321' style='width:300px; height:20px; vertical-align: middle;'></progress>\n",
       "      [210/321 00:39 < 00:20, 5.29 it/s, Epoch 1.95/3]\n",
       "    </div>\n",
       "    <table border=\"1\" class=\"dataframe\">\n",
       "  <thead>\n",
       "    <tr style=\"text-align: left;\">\n",
       "      <th>Step</th>\n",
       "      <th>Training Loss</th>\n",
       "    </tr>\n",
       "  </thead>\n",
       "  <tbody>\n",
       "  </tbody>\n",
       "</table><p>"
      ],
      "text/plain": [
       "<IPython.core.display.HTML object>"
      ]
     },
     "metadata": {},
     "output_type": "display_data"
    },
    {
     "data": {
      "text/html": [
       "\n",
       "    <div>\n",
       "      \n",
       "      <progress value='211' max='321' style='width:300px; height:20px; vertical-align: middle;'></progress>\n",
       "      [211/321 00:39 < 00:20, 5.29 it/s, Epoch 1.96/3]\n",
       "    </div>\n",
       "    <table border=\"1\" class=\"dataframe\">\n",
       "  <thead>\n",
       "    <tr style=\"text-align: left;\">\n",
       "      <th>Step</th>\n",
       "      <th>Training Loss</th>\n",
       "    </tr>\n",
       "  </thead>\n",
       "  <tbody>\n",
       "  </tbody>\n",
       "</table><p>"
      ],
      "text/plain": [
       "<IPython.core.display.HTML object>"
      ]
     },
     "metadata": {},
     "output_type": "display_data"
    },
    {
     "data": {
      "text/html": [
       "\n",
       "    <div>\n",
       "      \n",
       "      <progress value='212' max='321' style='width:300px; height:20px; vertical-align: middle;'></progress>\n",
       "      [212/321 00:39 < 00:20, 5.29 it/s, Epoch 1.97/3]\n",
       "    </div>\n",
       "    <table border=\"1\" class=\"dataframe\">\n",
       "  <thead>\n",
       "    <tr style=\"text-align: left;\">\n",
       "      <th>Step</th>\n",
       "      <th>Training Loss</th>\n",
       "    </tr>\n",
       "  </thead>\n",
       "  <tbody>\n",
       "  </tbody>\n",
       "</table><p>"
      ],
      "text/plain": [
       "<IPython.core.display.HTML object>"
      ]
     },
     "metadata": {},
     "output_type": "display_data"
    },
    {
     "data": {
      "text/html": [
       "\n",
       "    <div>\n",
       "      \n",
       "      <progress value='213' max='321' style='width:300px; height:20px; vertical-align: middle;'></progress>\n",
       "      [213/321 00:39 < 00:20, 5.29 it/s, Epoch 1.98/3]\n",
       "    </div>\n",
       "    <table border=\"1\" class=\"dataframe\">\n",
       "  <thead>\n",
       "    <tr style=\"text-align: left;\">\n",
       "      <th>Step</th>\n",
       "      <th>Training Loss</th>\n",
       "    </tr>\n",
       "  </thead>\n",
       "  <tbody>\n",
       "  </tbody>\n",
       "</table><p>"
      ],
      "text/plain": [
       "<IPython.core.display.HTML object>"
      ]
     },
     "metadata": {},
     "output_type": "display_data"
    },
    {
     "data": {
      "text/html": [
       "\n",
       "    <div>\n",
       "      \n",
       "      <progress value='214' max='321' style='width:300px; height:20px; vertical-align: middle;'></progress>\n",
       "      [214/321 00:40 < 00:20, 5.29 it/s, Epoch 1.99/3]\n",
       "    </div>\n",
       "    <table border=\"1\" class=\"dataframe\">\n",
       "  <thead>\n",
       "    <tr style=\"text-align: left;\">\n",
       "      <th>Step</th>\n",
       "      <th>Training Loss</th>\n",
       "    </tr>\n",
       "  </thead>\n",
       "  <tbody>\n",
       "  </tbody>\n",
       "</table><p>"
      ],
      "text/plain": [
       "<IPython.core.display.HTML object>"
      ]
     },
     "metadata": {},
     "output_type": "display_data"
    },
    {
     "data": {
      "text/html": [
       "\n",
       "    <div>\n",
       "      \n",
       "      <progress value='215' max='321' style='width:300px; height:20px; vertical-align: middle;'></progress>\n",
       "      [215/321 00:40 < 00:20, 5.29 it/s, Epoch 2/3]\n",
       "    </div>\n",
       "    <table border=\"1\" class=\"dataframe\">\n",
       "  <thead>\n",
       "    <tr style=\"text-align: left;\">\n",
       "      <th>Step</th>\n",
       "      <th>Training Loss</th>\n",
       "    </tr>\n",
       "  </thead>\n",
       "  <tbody>\n",
       "  </tbody>\n",
       "</table><p>"
      ],
      "text/plain": [
       "<IPython.core.display.HTML object>"
      ]
     },
     "metadata": {},
     "output_type": "display_data"
    },
    {
     "data": {
      "text/html": [
       "\n",
       "    <div>\n",
       "      \n",
       "      <progress value='216' max='321' style='width:300px; height:20px; vertical-align: middle;'></progress>\n",
       "      [216/321 00:40 < 00:19, 5.29 it/s, Epoch 2.01/3]\n",
       "    </div>\n",
       "    <table border=\"1\" class=\"dataframe\">\n",
       "  <thead>\n",
       "    <tr style=\"text-align: left;\">\n",
       "      <th>Step</th>\n",
       "      <th>Training Loss</th>\n",
       "    </tr>\n",
       "  </thead>\n",
       "  <tbody>\n",
       "  </tbody>\n",
       "</table><p>"
      ],
      "text/plain": [
       "<IPython.core.display.HTML object>"
      ]
     },
     "metadata": {},
     "output_type": "display_data"
    },
    {
     "data": {
      "text/html": [
       "\n",
       "    <div>\n",
       "      \n",
       "      <progress value='217' max='321' style='width:300px; height:20px; vertical-align: middle;'></progress>\n",
       "      [217/321 00:40 < 00:19, 5.30 it/s, Epoch 2.02/3]\n",
       "    </div>\n",
       "    <table border=\"1\" class=\"dataframe\">\n",
       "  <thead>\n",
       "    <tr style=\"text-align: left;\">\n",
       "      <th>Step</th>\n",
       "      <th>Training Loss</th>\n",
       "    </tr>\n",
       "  </thead>\n",
       "  <tbody>\n",
       "  </tbody>\n",
       "</table><p>"
      ],
      "text/plain": [
       "<IPython.core.display.HTML object>"
      ]
     },
     "metadata": {},
     "output_type": "display_data"
    },
    {
     "data": {
      "text/html": [
       "\n",
       "    <div>\n",
       "      \n",
       "      <progress value='218' max='321' style='width:300px; height:20px; vertical-align: middle;'></progress>\n",
       "      [218/321 00:40 < 00:19, 5.30 it/s, Epoch 2.03/3]\n",
       "    </div>\n",
       "    <table border=\"1\" class=\"dataframe\">\n",
       "  <thead>\n",
       "    <tr style=\"text-align: left;\">\n",
       "      <th>Step</th>\n",
       "      <th>Training Loss</th>\n",
       "    </tr>\n",
       "  </thead>\n",
       "  <tbody>\n",
       "  </tbody>\n",
       "</table><p>"
      ],
      "text/plain": [
       "<IPython.core.display.HTML object>"
      ]
     },
     "metadata": {},
     "output_type": "display_data"
    },
    {
     "data": {
      "text/html": [
       "\n",
       "    <div>\n",
       "      \n",
       "      <progress value='219' max='321' style='width:300px; height:20px; vertical-align: middle;'></progress>\n",
       "      [219/321 00:40 < 00:19, 5.29 it/s, Epoch 2.04/3]\n",
       "    </div>\n",
       "    <table border=\"1\" class=\"dataframe\">\n",
       "  <thead>\n",
       "    <tr style=\"text-align: left;\">\n",
       "      <th>Step</th>\n",
       "      <th>Training Loss</th>\n",
       "    </tr>\n",
       "  </thead>\n",
       "  <tbody>\n",
       "  </tbody>\n",
       "</table><p>"
      ],
      "text/plain": [
       "<IPython.core.display.HTML object>"
      ]
     },
     "metadata": {},
     "output_type": "display_data"
    },
    {
     "data": {
      "text/html": [
       "\n",
       "    <div>\n",
       "      \n",
       "      <progress value='220' max='321' style='width:300px; height:20px; vertical-align: middle;'></progress>\n",
       "      [220/321 00:41 < 00:19, 5.30 it/s, Epoch 2.05/3]\n",
       "    </div>\n",
       "    <table border=\"1\" class=\"dataframe\">\n",
       "  <thead>\n",
       "    <tr style=\"text-align: left;\">\n",
       "      <th>Step</th>\n",
       "      <th>Training Loss</th>\n",
       "    </tr>\n",
       "  </thead>\n",
       "  <tbody>\n",
       "  </tbody>\n",
       "</table><p>"
      ],
      "text/plain": [
       "<IPython.core.display.HTML object>"
      ]
     },
     "metadata": {},
     "output_type": "display_data"
    },
    {
     "data": {
      "text/html": [
       "\n",
       "    <div>\n",
       "      \n",
       "      <progress value='221' max='321' style='width:300px; height:20px; vertical-align: middle;'></progress>\n",
       "      [221/321 00:41 < 00:18, 5.30 it/s, Epoch 2.06/3]\n",
       "    </div>\n",
       "    <table border=\"1\" class=\"dataframe\">\n",
       "  <thead>\n",
       "    <tr style=\"text-align: left;\">\n",
       "      <th>Step</th>\n",
       "      <th>Training Loss</th>\n",
       "    </tr>\n",
       "  </thead>\n",
       "  <tbody>\n",
       "  </tbody>\n",
       "</table><p>"
      ],
      "text/plain": [
       "<IPython.core.display.HTML object>"
      ]
     },
     "metadata": {},
     "output_type": "display_data"
    },
    {
     "data": {
      "text/html": [
       "\n",
       "    <div>\n",
       "      \n",
       "      <progress value='222' max='321' style='width:300px; height:20px; vertical-align: middle;'></progress>\n",
       "      [222/321 00:41 < 00:18, 5.30 it/s, Epoch 2.07/3]\n",
       "    </div>\n",
       "    <table border=\"1\" class=\"dataframe\">\n",
       "  <thead>\n",
       "    <tr style=\"text-align: left;\">\n",
       "      <th>Step</th>\n",
       "      <th>Training Loss</th>\n",
       "    </tr>\n",
       "  </thead>\n",
       "  <tbody>\n",
       "  </tbody>\n",
       "</table><p>"
      ],
      "text/plain": [
       "<IPython.core.display.HTML object>"
      ]
     },
     "metadata": {},
     "output_type": "display_data"
    },
    {
     "data": {
      "text/html": [
       "\n",
       "    <div>\n",
       "      \n",
       "      <progress value='223' max='321' style='width:300px; height:20px; vertical-align: middle;'></progress>\n",
       "      [223/321 00:41 < 00:18, 5.30 it/s, Epoch 2.07/3]\n",
       "    </div>\n",
       "    <table border=\"1\" class=\"dataframe\">\n",
       "  <thead>\n",
       "    <tr style=\"text-align: left;\">\n",
       "      <th>Step</th>\n",
       "      <th>Training Loss</th>\n",
       "    </tr>\n",
       "  </thead>\n",
       "  <tbody>\n",
       "  </tbody>\n",
       "</table><p>"
      ],
      "text/plain": [
       "<IPython.core.display.HTML object>"
      ]
     },
     "metadata": {},
     "output_type": "display_data"
    },
    {
     "data": {
      "text/html": [
       "\n",
       "    <div>\n",
       "      \n",
       "      <progress value='224' max='321' style='width:300px; height:20px; vertical-align: middle;'></progress>\n",
       "      [224/321 00:42 < 00:18, 5.28 it/s, Epoch 2.08/3]\n",
       "    </div>\n",
       "    <table border=\"1\" class=\"dataframe\">\n",
       "  <thead>\n",
       "    <tr style=\"text-align: left;\">\n",
       "      <th>Step</th>\n",
       "      <th>Training Loss</th>\n",
       "    </tr>\n",
       "  </thead>\n",
       "  <tbody>\n",
       "  </tbody>\n",
       "</table><p>"
      ],
      "text/plain": [
       "<IPython.core.display.HTML object>"
      ]
     },
     "metadata": {},
     "output_type": "display_data"
    },
    {
     "data": {
      "text/html": [
       "\n",
       "    <div>\n",
       "      \n",
       "      <progress value='225' max='321' style='width:300px; height:20px; vertical-align: middle;'></progress>\n",
       "      [225/321 00:42 < 00:18, 5.28 it/s, Epoch 2.09/3]\n",
       "    </div>\n",
       "    <table border=\"1\" class=\"dataframe\">\n",
       "  <thead>\n",
       "    <tr style=\"text-align: left;\">\n",
       "      <th>Step</th>\n",
       "      <th>Training Loss</th>\n",
       "    </tr>\n",
       "  </thead>\n",
       "  <tbody>\n",
       "  </tbody>\n",
       "</table><p>"
      ],
      "text/plain": [
       "<IPython.core.display.HTML object>"
      ]
     },
     "metadata": {},
     "output_type": "display_data"
    },
    {
     "data": {
      "text/html": [
       "\n",
       "    <div>\n",
       "      \n",
       "      <progress value='226' max='321' style='width:300px; height:20px; vertical-align: middle;'></progress>\n",
       "      [226/321 00:42 < 00:17, 5.28 it/s, Epoch 2.10/3]\n",
       "    </div>\n",
       "    <table border=\"1\" class=\"dataframe\">\n",
       "  <thead>\n",
       "    <tr style=\"text-align: left;\">\n",
       "      <th>Step</th>\n",
       "      <th>Training Loss</th>\n",
       "    </tr>\n",
       "  </thead>\n",
       "  <tbody>\n",
       "  </tbody>\n",
       "</table><p>"
      ],
      "text/plain": [
       "<IPython.core.display.HTML object>"
      ]
     },
     "metadata": {},
     "output_type": "display_data"
    },
    {
     "data": {
      "text/html": [
       "\n",
       "    <div>\n",
       "      \n",
       "      <progress value='227' max='321' style='width:300px; height:20px; vertical-align: middle;'></progress>\n",
       "      [227/321 00:42 < 00:17, 5.28 it/s, Epoch 2.11/3]\n",
       "    </div>\n",
       "    <table border=\"1\" class=\"dataframe\">\n",
       "  <thead>\n",
       "    <tr style=\"text-align: left;\">\n",
       "      <th>Step</th>\n",
       "      <th>Training Loss</th>\n",
       "    </tr>\n",
       "  </thead>\n",
       "  <tbody>\n",
       "  </tbody>\n",
       "</table><p>"
      ],
      "text/plain": [
       "<IPython.core.display.HTML object>"
      ]
     },
     "metadata": {},
     "output_type": "display_data"
    },
    {
     "data": {
      "text/html": [
       "\n",
       "    <div>\n",
       "      \n",
       "      <progress value='228' max='321' style='width:300px; height:20px; vertical-align: middle;'></progress>\n",
       "      [228/321 00:42 < 00:17, 5.28 it/s, Epoch 2.12/3]\n",
       "    </div>\n",
       "    <table border=\"1\" class=\"dataframe\">\n",
       "  <thead>\n",
       "    <tr style=\"text-align: left;\">\n",
       "      <th>Step</th>\n",
       "      <th>Training Loss</th>\n",
       "    </tr>\n",
       "  </thead>\n",
       "  <tbody>\n",
       "  </tbody>\n",
       "</table><p>"
      ],
      "text/plain": [
       "<IPython.core.display.HTML object>"
      ]
     },
     "metadata": {},
     "output_type": "display_data"
    },
    {
     "data": {
      "text/html": [
       "\n",
       "    <div>\n",
       "      \n",
       "      <progress value='229' max='321' style='width:300px; height:20px; vertical-align: middle;'></progress>\n",
       "      [229/321 00:42 < 00:17, 5.28 it/s, Epoch 2.13/3]\n",
       "    </div>\n",
       "    <table border=\"1\" class=\"dataframe\">\n",
       "  <thead>\n",
       "    <tr style=\"text-align: left;\">\n",
       "      <th>Step</th>\n",
       "      <th>Training Loss</th>\n",
       "    </tr>\n",
       "  </thead>\n",
       "  <tbody>\n",
       "  </tbody>\n",
       "</table><p>"
      ],
      "text/plain": [
       "<IPython.core.display.HTML object>"
      ]
     },
     "metadata": {},
     "output_type": "display_data"
    },
    {
     "data": {
      "text/html": [
       "\n",
       "    <div>\n",
       "      \n",
       "      <progress value='230' max='321' style='width:300px; height:20px; vertical-align: middle;'></progress>\n",
       "      [230/321 00:43 < 00:17, 5.28 it/s, Epoch 2.14/3]\n",
       "    </div>\n",
       "    <table border=\"1\" class=\"dataframe\">\n",
       "  <thead>\n",
       "    <tr style=\"text-align: left;\">\n",
       "      <th>Step</th>\n",
       "      <th>Training Loss</th>\n",
       "    </tr>\n",
       "  </thead>\n",
       "  <tbody>\n",
       "  </tbody>\n",
       "</table><p>"
      ],
      "text/plain": [
       "<IPython.core.display.HTML object>"
      ]
     },
     "metadata": {},
     "output_type": "display_data"
    },
    {
     "data": {
      "text/html": [
       "\n",
       "    <div>\n",
       "      \n",
       "      <progress value='231' max='321' style='width:300px; height:20px; vertical-align: middle;'></progress>\n",
       "      [231/321 00:43 < 00:17, 5.29 it/s, Epoch 2.15/3]\n",
       "    </div>\n",
       "    <table border=\"1\" class=\"dataframe\">\n",
       "  <thead>\n",
       "    <tr style=\"text-align: left;\">\n",
       "      <th>Step</th>\n",
       "      <th>Training Loss</th>\n",
       "    </tr>\n",
       "  </thead>\n",
       "  <tbody>\n",
       "  </tbody>\n",
       "</table><p>"
      ],
      "text/plain": [
       "<IPython.core.display.HTML object>"
      ]
     },
     "metadata": {},
     "output_type": "display_data"
    },
    {
     "data": {
      "text/html": [
       "\n",
       "    <div>\n",
       "      \n",
       "      <progress value='232' max='321' style='width:300px; height:20px; vertical-align: middle;'></progress>\n",
       "      [232/321 00:43 < 00:16, 5.28 it/s, Epoch 2.16/3]\n",
       "    </div>\n",
       "    <table border=\"1\" class=\"dataframe\">\n",
       "  <thead>\n",
       "    <tr style=\"text-align: left;\">\n",
       "      <th>Step</th>\n",
       "      <th>Training Loss</th>\n",
       "    </tr>\n",
       "  </thead>\n",
       "  <tbody>\n",
       "  </tbody>\n",
       "</table><p>"
      ],
      "text/plain": [
       "<IPython.core.display.HTML object>"
      ]
     },
     "metadata": {},
     "output_type": "display_data"
    },
    {
     "data": {
      "text/html": [
       "\n",
       "    <div>\n",
       "      \n",
       "      <progress value='233' max='321' style='width:300px; height:20px; vertical-align: middle;'></progress>\n",
       "      [233/321 00:43 < 00:16, 5.29 it/s, Epoch 2.17/3]\n",
       "    </div>\n",
       "    <table border=\"1\" class=\"dataframe\">\n",
       "  <thead>\n",
       "    <tr style=\"text-align: left;\">\n",
       "      <th>Step</th>\n",
       "      <th>Training Loss</th>\n",
       "    </tr>\n",
       "  </thead>\n",
       "  <tbody>\n",
       "  </tbody>\n",
       "</table><p>"
      ],
      "text/plain": [
       "<IPython.core.display.HTML object>"
      ]
     },
     "metadata": {},
     "output_type": "display_data"
    },
    {
     "data": {
      "text/html": [
       "\n",
       "    <div>\n",
       "      \n",
       "      <progress value='234' max='321' style='width:300px; height:20px; vertical-align: middle;'></progress>\n",
       "      [234/321 00:43 < 00:16, 5.29 it/s, Epoch 2.18/3]\n",
       "    </div>\n",
       "    <table border=\"1\" class=\"dataframe\">\n",
       "  <thead>\n",
       "    <tr style=\"text-align: left;\">\n",
       "      <th>Step</th>\n",
       "      <th>Training Loss</th>\n",
       "    </tr>\n",
       "  </thead>\n",
       "  <tbody>\n",
       "  </tbody>\n",
       "</table><p>"
      ],
      "text/plain": [
       "<IPython.core.display.HTML object>"
      ]
     },
     "metadata": {},
     "output_type": "display_data"
    },
    {
     "data": {
      "text/html": [
       "\n",
       "    <div>\n",
       "      \n",
       "      <progress value='235' max='321' style='width:300px; height:20px; vertical-align: middle;'></progress>\n",
       "      [235/321 00:44 < 00:16, 5.29 it/s, Epoch 2.19/3]\n",
       "    </div>\n",
       "    <table border=\"1\" class=\"dataframe\">\n",
       "  <thead>\n",
       "    <tr style=\"text-align: left;\">\n",
       "      <th>Step</th>\n",
       "      <th>Training Loss</th>\n",
       "    </tr>\n",
       "  </thead>\n",
       "  <tbody>\n",
       "  </tbody>\n",
       "</table><p>"
      ],
      "text/plain": [
       "<IPython.core.display.HTML object>"
      ]
     },
     "metadata": {},
     "output_type": "display_data"
    },
    {
     "data": {
      "text/html": [
       "\n",
       "    <div>\n",
       "      \n",
       "      <progress value='236' max='321' style='width:300px; height:20px; vertical-align: middle;'></progress>\n",
       "      [236/321 00:44 < 00:16, 5.29 it/s, Epoch 2.20/3]\n",
       "    </div>\n",
       "    <table border=\"1\" class=\"dataframe\">\n",
       "  <thead>\n",
       "    <tr style=\"text-align: left;\">\n",
       "      <th>Step</th>\n",
       "      <th>Training Loss</th>\n",
       "    </tr>\n",
       "  </thead>\n",
       "  <tbody>\n",
       "  </tbody>\n",
       "</table><p>"
      ],
      "text/plain": [
       "<IPython.core.display.HTML object>"
      ]
     },
     "metadata": {},
     "output_type": "display_data"
    },
    {
     "data": {
      "text/html": [
       "\n",
       "    <div>\n",
       "      \n",
       "      <progress value='237' max='321' style='width:300px; height:20px; vertical-align: middle;'></progress>\n",
       "      [237/321 00:44 < 00:15, 5.29 it/s, Epoch 2.21/3]\n",
       "    </div>\n",
       "    <table border=\"1\" class=\"dataframe\">\n",
       "  <thead>\n",
       "    <tr style=\"text-align: left;\">\n",
       "      <th>Step</th>\n",
       "      <th>Training Loss</th>\n",
       "    </tr>\n",
       "  </thead>\n",
       "  <tbody>\n",
       "  </tbody>\n",
       "</table><p>"
      ],
      "text/plain": [
       "<IPython.core.display.HTML object>"
      ]
     },
     "metadata": {},
     "output_type": "display_data"
    },
    {
     "data": {
      "text/html": [
       "\n",
       "    <div>\n",
       "      \n",
       "      <progress value='238' max='321' style='width:300px; height:20px; vertical-align: middle;'></progress>\n",
       "      [238/321 00:44 < 00:15, 5.29 it/s, Epoch 2.21/3]\n",
       "    </div>\n",
       "    <table border=\"1\" class=\"dataframe\">\n",
       "  <thead>\n",
       "    <tr style=\"text-align: left;\">\n",
       "      <th>Step</th>\n",
       "      <th>Training Loss</th>\n",
       "    </tr>\n",
       "  </thead>\n",
       "  <tbody>\n",
       "  </tbody>\n",
       "</table><p>"
      ],
      "text/plain": [
       "<IPython.core.display.HTML object>"
      ]
     },
     "metadata": {},
     "output_type": "display_data"
    },
    {
     "data": {
      "text/html": [
       "\n",
       "    <div>\n",
       "      \n",
       "      <progress value='239' max='321' style='width:300px; height:20px; vertical-align: middle;'></progress>\n",
       "      [239/321 00:44 < 00:15, 5.29 it/s, Epoch 2.22/3]\n",
       "    </div>\n",
       "    <table border=\"1\" class=\"dataframe\">\n",
       "  <thead>\n",
       "    <tr style=\"text-align: left;\">\n",
       "      <th>Step</th>\n",
       "      <th>Training Loss</th>\n",
       "    </tr>\n",
       "  </thead>\n",
       "  <tbody>\n",
       "  </tbody>\n",
       "</table><p>"
      ],
      "text/plain": [
       "<IPython.core.display.HTML object>"
      ]
     },
     "metadata": {},
     "output_type": "display_data"
    },
    {
     "data": {
      "text/html": [
       "\n",
       "    <div>\n",
       "      \n",
       "      <progress value='240' max='321' style='width:300px; height:20px; vertical-align: middle;'></progress>\n",
       "      [240/321 00:44 < 00:15, 5.29 it/s, Epoch 2.23/3]\n",
       "    </div>\n",
       "    <table border=\"1\" class=\"dataframe\">\n",
       "  <thead>\n",
       "    <tr style=\"text-align: left;\">\n",
       "      <th>Step</th>\n",
       "      <th>Training Loss</th>\n",
       "    </tr>\n",
       "  </thead>\n",
       "  <tbody>\n",
       "  </tbody>\n",
       "</table><p>"
      ],
      "text/plain": [
       "<IPython.core.display.HTML object>"
      ]
     },
     "metadata": {},
     "output_type": "display_data"
    },
    {
     "data": {
      "text/html": [
       "\n",
       "    <div>\n",
       "      \n",
       "      <progress value='241' max='321' style='width:300px; height:20px; vertical-align: middle;'></progress>\n",
       "      [241/321 00:45 < 00:15, 5.29 it/s, Epoch 2.24/3]\n",
       "    </div>\n",
       "    <table border=\"1\" class=\"dataframe\">\n",
       "  <thead>\n",
       "    <tr style=\"text-align: left;\">\n",
       "      <th>Step</th>\n",
       "      <th>Training Loss</th>\n",
       "    </tr>\n",
       "  </thead>\n",
       "  <tbody>\n",
       "  </tbody>\n",
       "</table><p>"
      ],
      "text/plain": [
       "<IPython.core.display.HTML object>"
      ]
     },
     "metadata": {},
     "output_type": "display_data"
    },
    {
     "data": {
      "text/html": [
       "\n",
       "    <div>\n",
       "      \n",
       "      <progress value='242' max='321' style='width:300px; height:20px; vertical-align: middle;'></progress>\n",
       "      [242/321 00:45 < 00:14, 5.29 it/s, Epoch 2.25/3]\n",
       "    </div>\n",
       "    <table border=\"1\" class=\"dataframe\">\n",
       "  <thead>\n",
       "    <tr style=\"text-align: left;\">\n",
       "      <th>Step</th>\n",
       "      <th>Training Loss</th>\n",
       "    </tr>\n",
       "  </thead>\n",
       "  <tbody>\n",
       "  </tbody>\n",
       "</table><p>"
      ],
      "text/plain": [
       "<IPython.core.display.HTML object>"
      ]
     },
     "metadata": {},
     "output_type": "display_data"
    },
    {
     "data": {
      "text/html": [
       "\n",
       "    <div>\n",
       "      \n",
       "      <progress value='243' max='321' style='width:300px; height:20px; vertical-align: middle;'></progress>\n",
       "      [243/321 00:45 < 00:14, 5.29 it/s, Epoch 2.26/3]\n",
       "    </div>\n",
       "    <table border=\"1\" class=\"dataframe\">\n",
       "  <thead>\n",
       "    <tr style=\"text-align: left;\">\n",
       "      <th>Step</th>\n",
       "      <th>Training Loss</th>\n",
       "    </tr>\n",
       "  </thead>\n",
       "  <tbody>\n",
       "  </tbody>\n",
       "</table><p>"
      ],
      "text/plain": [
       "<IPython.core.display.HTML object>"
      ]
     },
     "metadata": {},
     "output_type": "display_data"
    },
    {
     "data": {
      "text/html": [
       "\n",
       "    <div>\n",
       "      \n",
       "      <progress value='244' max='321' style='width:300px; height:20px; vertical-align: middle;'></progress>\n",
       "      [244/321 00:45 < 00:14, 5.29 it/s, Epoch 2.27/3]\n",
       "    </div>\n",
       "    <table border=\"1\" class=\"dataframe\">\n",
       "  <thead>\n",
       "    <tr style=\"text-align: left;\">\n",
       "      <th>Step</th>\n",
       "      <th>Training Loss</th>\n",
       "    </tr>\n",
       "  </thead>\n",
       "  <tbody>\n",
       "  </tbody>\n",
       "</table><p>"
      ],
      "text/plain": [
       "<IPython.core.display.HTML object>"
      ]
     },
     "metadata": {},
     "output_type": "display_data"
    },
    {
     "data": {
      "text/html": [
       "\n",
       "    <div>\n",
       "      \n",
       "      <progress value='245' max='321' style='width:300px; height:20px; vertical-align: middle;'></progress>\n",
       "      [245/321 00:45 < 00:14, 5.30 it/s, Epoch 2.28/3]\n",
       "    </div>\n",
       "    <table border=\"1\" class=\"dataframe\">\n",
       "  <thead>\n",
       "    <tr style=\"text-align: left;\">\n",
       "      <th>Step</th>\n",
       "      <th>Training Loss</th>\n",
       "    </tr>\n",
       "  </thead>\n",
       "  <tbody>\n",
       "  </tbody>\n",
       "</table><p>"
      ],
      "text/plain": [
       "<IPython.core.display.HTML object>"
      ]
     },
     "metadata": {},
     "output_type": "display_data"
    },
    {
     "data": {
      "text/html": [
       "\n",
       "    <div>\n",
       "      \n",
       "      <progress value='246' max='321' style='width:300px; height:20px; vertical-align: middle;'></progress>\n",
       "      [246/321 00:46 < 00:14, 5.30 it/s, Epoch 2.29/3]\n",
       "    </div>\n",
       "    <table border=\"1\" class=\"dataframe\">\n",
       "  <thead>\n",
       "    <tr style=\"text-align: left;\">\n",
       "      <th>Step</th>\n",
       "      <th>Training Loss</th>\n",
       "    </tr>\n",
       "  </thead>\n",
       "  <tbody>\n",
       "  </tbody>\n",
       "</table><p>"
      ],
      "text/plain": [
       "<IPython.core.display.HTML object>"
      ]
     },
     "metadata": {},
     "output_type": "display_data"
    },
    {
     "data": {
      "text/html": [
       "\n",
       "    <div>\n",
       "      \n",
       "      <progress value='247' max='321' style='width:300px; height:20px; vertical-align: middle;'></progress>\n",
       "      [247/321 00:46 < 00:13, 5.30 it/s, Epoch 2.30/3]\n",
       "    </div>\n",
       "    <table border=\"1\" class=\"dataframe\">\n",
       "  <thead>\n",
       "    <tr style=\"text-align: left;\">\n",
       "      <th>Step</th>\n",
       "      <th>Training Loss</th>\n",
       "    </tr>\n",
       "  </thead>\n",
       "  <tbody>\n",
       "  </tbody>\n",
       "</table><p>"
      ],
      "text/plain": [
       "<IPython.core.display.HTML object>"
      ]
     },
     "metadata": {},
     "output_type": "display_data"
    },
    {
     "data": {
      "text/html": [
       "\n",
       "    <div>\n",
       "      \n",
       "      <progress value='248' max='321' style='width:300px; height:20px; vertical-align: middle;'></progress>\n",
       "      [248/321 00:46 < 00:13, 5.30 it/s, Epoch 2.31/3]\n",
       "    </div>\n",
       "    <table border=\"1\" class=\"dataframe\">\n",
       "  <thead>\n",
       "    <tr style=\"text-align: left;\">\n",
       "      <th>Step</th>\n",
       "      <th>Training Loss</th>\n",
       "    </tr>\n",
       "  </thead>\n",
       "  <tbody>\n",
       "  </tbody>\n",
       "</table><p>"
      ],
      "text/plain": [
       "<IPython.core.display.HTML object>"
      ]
     },
     "metadata": {},
     "output_type": "display_data"
    },
    {
     "data": {
      "text/html": [
       "\n",
       "    <div>\n",
       "      \n",
       "      <progress value='249' max='321' style='width:300px; height:20px; vertical-align: middle;'></progress>\n",
       "      [249/321 00:46 < 00:13, 5.30 it/s, Epoch 2.32/3]\n",
       "    </div>\n",
       "    <table border=\"1\" class=\"dataframe\">\n",
       "  <thead>\n",
       "    <tr style=\"text-align: left;\">\n",
       "      <th>Step</th>\n",
       "      <th>Training Loss</th>\n",
       "    </tr>\n",
       "  </thead>\n",
       "  <tbody>\n",
       "  </tbody>\n",
       "</table><p>"
      ],
      "text/plain": [
       "<IPython.core.display.HTML object>"
      ]
     },
     "metadata": {},
     "output_type": "display_data"
    },
    {
     "data": {
      "text/html": [
       "\n",
       "    <div>\n",
       "      \n",
       "      <progress value='250' max='321' style='width:300px; height:20px; vertical-align: middle;'></progress>\n",
       "      [250/321 00:46 < 00:13, 5.30 it/s, Epoch 2.33/3]\n",
       "    </div>\n",
       "    <table border=\"1\" class=\"dataframe\">\n",
       "  <thead>\n",
       "    <tr style=\"text-align: left;\">\n",
       "      <th>Step</th>\n",
       "      <th>Training Loss</th>\n",
       "    </tr>\n",
       "  </thead>\n",
       "  <tbody>\n",
       "  </tbody>\n",
       "</table><p>"
      ],
      "text/plain": [
       "<IPython.core.display.HTML object>"
      ]
     },
     "metadata": {},
     "output_type": "display_data"
    },
    {
     "data": {
      "text/html": [
       "\n",
       "    <div>\n",
       "      \n",
       "      <progress value='251' max='321' style='width:300px; height:20px; vertical-align: middle;'></progress>\n",
       "      [251/321 00:47 < 00:13, 5.30 it/s, Epoch 2.34/3]\n",
       "    </div>\n",
       "    <table border=\"1\" class=\"dataframe\">\n",
       "  <thead>\n",
       "    <tr style=\"text-align: left;\">\n",
       "      <th>Step</th>\n",
       "      <th>Training Loss</th>\n",
       "    </tr>\n",
       "  </thead>\n",
       "  <tbody>\n",
       "  </tbody>\n",
       "</table><p>"
      ],
      "text/plain": [
       "<IPython.core.display.HTML object>"
      ]
     },
     "metadata": {},
     "output_type": "display_data"
    },
    {
     "data": {
      "text/html": [
       "\n",
       "    <div>\n",
       "      \n",
       "      <progress value='252' max='321' style='width:300px; height:20px; vertical-align: middle;'></progress>\n",
       "      [252/321 00:47 < 00:13, 5.30 it/s, Epoch 2.35/3]\n",
       "    </div>\n",
       "    <table border=\"1\" class=\"dataframe\">\n",
       "  <thead>\n",
       "    <tr style=\"text-align: left;\">\n",
       "      <th>Step</th>\n",
       "      <th>Training Loss</th>\n",
       "    </tr>\n",
       "  </thead>\n",
       "  <tbody>\n",
       "  </tbody>\n",
       "</table><p>"
      ],
      "text/plain": [
       "<IPython.core.display.HTML object>"
      ]
     },
     "metadata": {},
     "output_type": "display_data"
    },
    {
     "data": {
      "text/html": [
       "\n",
       "    <div>\n",
       "      \n",
       "      <progress value='253' max='321' style='width:300px; height:20px; vertical-align: middle;'></progress>\n",
       "      [253/321 00:47 < 00:12, 5.30 it/s, Epoch 2.36/3]\n",
       "    </div>\n",
       "    <table border=\"1\" class=\"dataframe\">\n",
       "  <thead>\n",
       "    <tr style=\"text-align: left;\">\n",
       "      <th>Step</th>\n",
       "      <th>Training Loss</th>\n",
       "    </tr>\n",
       "  </thead>\n",
       "  <tbody>\n",
       "  </tbody>\n",
       "</table><p>"
      ],
      "text/plain": [
       "<IPython.core.display.HTML object>"
      ]
     },
     "metadata": {},
     "output_type": "display_data"
    },
    {
     "data": {
      "text/html": [
       "\n",
       "    <div>\n",
       "      \n",
       "      <progress value='254' max='321' style='width:300px; height:20px; vertical-align: middle;'></progress>\n",
       "      [254/321 00:47 < 00:12, 5.28 it/s, Epoch 2.36/3]\n",
       "    </div>\n",
       "    <table border=\"1\" class=\"dataframe\">\n",
       "  <thead>\n",
       "    <tr style=\"text-align: left;\">\n",
       "      <th>Step</th>\n",
       "      <th>Training Loss</th>\n",
       "    </tr>\n",
       "  </thead>\n",
       "  <tbody>\n",
       "  </tbody>\n",
       "</table><p>"
      ],
      "text/plain": [
       "<IPython.core.display.HTML object>"
      ]
     },
     "metadata": {},
     "output_type": "display_data"
    },
    {
     "data": {
      "text/html": [
       "\n",
       "    <div>\n",
       "      \n",
       "      <progress value='255' max='321' style='width:300px; height:20px; vertical-align: middle;'></progress>\n",
       "      [255/321 00:47 < 00:12, 5.28 it/s, Epoch 2.37/3]\n",
       "    </div>\n",
       "    <table border=\"1\" class=\"dataframe\">\n",
       "  <thead>\n",
       "    <tr style=\"text-align: left;\">\n",
       "      <th>Step</th>\n",
       "      <th>Training Loss</th>\n",
       "    </tr>\n",
       "  </thead>\n",
       "  <tbody>\n",
       "  </tbody>\n",
       "</table><p>"
      ],
      "text/plain": [
       "<IPython.core.display.HTML object>"
      ]
     },
     "metadata": {},
     "output_type": "display_data"
    },
    {
     "data": {
      "text/html": [
       "\n",
       "    <div>\n",
       "      \n",
       "      <progress value='256' max='321' style='width:300px; height:20px; vertical-align: middle;'></progress>\n",
       "      [256/321 00:48 < 00:12, 5.28 it/s, Epoch 2.38/3]\n",
       "    </div>\n",
       "    <table border=\"1\" class=\"dataframe\">\n",
       "  <thead>\n",
       "    <tr style=\"text-align: left;\">\n",
       "      <th>Step</th>\n",
       "      <th>Training Loss</th>\n",
       "    </tr>\n",
       "  </thead>\n",
       "  <tbody>\n",
       "  </tbody>\n",
       "</table><p>"
      ],
      "text/plain": [
       "<IPython.core.display.HTML object>"
      ]
     },
     "metadata": {},
     "output_type": "display_data"
    },
    {
     "data": {
      "text/html": [
       "\n",
       "    <div>\n",
       "      \n",
       "      <progress value='257' max='321' style='width:300px; height:20px; vertical-align: middle;'></progress>\n",
       "      [257/321 00:48 < 00:12, 5.28 it/s, Epoch 2.39/3]\n",
       "    </div>\n",
       "    <table border=\"1\" class=\"dataframe\">\n",
       "  <thead>\n",
       "    <tr style=\"text-align: left;\">\n",
       "      <th>Step</th>\n",
       "      <th>Training Loss</th>\n",
       "    </tr>\n",
       "  </thead>\n",
       "  <tbody>\n",
       "  </tbody>\n",
       "</table><p>"
      ],
      "text/plain": [
       "<IPython.core.display.HTML object>"
      ]
     },
     "metadata": {},
     "output_type": "display_data"
    },
    {
     "data": {
      "text/html": [
       "\n",
       "    <div>\n",
       "      \n",
       "      <progress value='258' max='321' style='width:300px; height:20px; vertical-align: middle;'></progress>\n",
       "      [258/321 00:48 < 00:11, 5.28 it/s, Epoch 2.40/3]\n",
       "    </div>\n",
       "    <table border=\"1\" class=\"dataframe\">\n",
       "  <thead>\n",
       "    <tr style=\"text-align: left;\">\n",
       "      <th>Step</th>\n",
       "      <th>Training Loss</th>\n",
       "    </tr>\n",
       "  </thead>\n",
       "  <tbody>\n",
       "  </tbody>\n",
       "</table><p>"
      ],
      "text/plain": [
       "<IPython.core.display.HTML object>"
      ]
     },
     "metadata": {},
     "output_type": "display_data"
    },
    {
     "data": {
      "text/html": [
       "\n",
       "    <div>\n",
       "      \n",
       "      <progress value='259' max='321' style='width:300px; height:20px; vertical-align: middle;'></progress>\n",
       "      [259/321 00:48 < 00:11, 5.28 it/s, Epoch 2.41/3]\n",
       "    </div>\n",
       "    <table border=\"1\" class=\"dataframe\">\n",
       "  <thead>\n",
       "    <tr style=\"text-align: left;\">\n",
       "      <th>Step</th>\n",
       "      <th>Training Loss</th>\n",
       "    </tr>\n",
       "  </thead>\n",
       "  <tbody>\n",
       "  </tbody>\n",
       "</table><p>"
      ],
      "text/plain": [
       "<IPython.core.display.HTML object>"
      ]
     },
     "metadata": {},
     "output_type": "display_data"
    },
    {
     "data": {
      "text/html": [
       "\n",
       "    <div>\n",
       "      \n",
       "      <progress value='260' max='321' style='width:300px; height:20px; vertical-align: middle;'></progress>\n",
       "      [260/321 00:48 < 00:11, 5.28 it/s, Epoch 2.42/3]\n",
       "    </div>\n",
       "    <table border=\"1\" class=\"dataframe\">\n",
       "  <thead>\n",
       "    <tr style=\"text-align: left;\">\n",
       "      <th>Step</th>\n",
       "      <th>Training Loss</th>\n",
       "    </tr>\n",
       "  </thead>\n",
       "  <tbody>\n",
       "  </tbody>\n",
       "</table><p>"
      ],
      "text/plain": [
       "<IPython.core.display.HTML object>"
      ]
     },
     "metadata": {},
     "output_type": "display_data"
    },
    {
     "data": {
      "text/html": [
       "\n",
       "    <div>\n",
       "      \n",
       "      <progress value='261' max='321' style='width:300px; height:20px; vertical-align: middle;'></progress>\n",
       "      [261/321 00:49 < 00:11, 5.28 it/s, Epoch 2.43/3]\n",
       "    </div>\n",
       "    <table border=\"1\" class=\"dataframe\">\n",
       "  <thead>\n",
       "    <tr style=\"text-align: left;\">\n",
       "      <th>Step</th>\n",
       "      <th>Training Loss</th>\n",
       "    </tr>\n",
       "  </thead>\n",
       "  <tbody>\n",
       "  </tbody>\n",
       "</table><p>"
      ],
      "text/plain": [
       "<IPython.core.display.HTML object>"
      ]
     },
     "metadata": {},
     "output_type": "display_data"
    },
    {
     "data": {
      "text/html": [
       "\n",
       "    <div>\n",
       "      \n",
       "      <progress value='262' max='321' style='width:300px; height:20px; vertical-align: middle;'></progress>\n",
       "      [262/321 00:49 < 00:11, 5.29 it/s, Epoch 2.44/3]\n",
       "    </div>\n",
       "    <table border=\"1\" class=\"dataframe\">\n",
       "  <thead>\n",
       "    <tr style=\"text-align: left;\">\n",
       "      <th>Step</th>\n",
       "      <th>Training Loss</th>\n",
       "    </tr>\n",
       "  </thead>\n",
       "  <tbody>\n",
       "  </tbody>\n",
       "</table><p>"
      ],
      "text/plain": [
       "<IPython.core.display.HTML object>"
      ]
     },
     "metadata": {},
     "output_type": "display_data"
    },
    {
     "data": {
      "text/html": [
       "\n",
       "    <div>\n",
       "      \n",
       "      <progress value='263' max='321' style='width:300px; height:20px; vertical-align: middle;'></progress>\n",
       "      [263/321 00:49 < 00:10, 5.29 it/s, Epoch 2.45/3]\n",
       "    </div>\n",
       "    <table border=\"1\" class=\"dataframe\">\n",
       "  <thead>\n",
       "    <tr style=\"text-align: left;\">\n",
       "      <th>Step</th>\n",
       "      <th>Training Loss</th>\n",
       "    </tr>\n",
       "  </thead>\n",
       "  <tbody>\n",
       "  </tbody>\n",
       "</table><p>"
      ],
      "text/plain": [
       "<IPython.core.display.HTML object>"
      ]
     },
     "metadata": {},
     "output_type": "display_data"
    },
    {
     "data": {
      "text/html": [
       "\n",
       "    <div>\n",
       "      \n",
       "      <progress value='264' max='321' style='width:300px; height:20px; vertical-align: middle;'></progress>\n",
       "      [264/321 00:49 < 00:10, 5.29 it/s, Epoch 2.46/3]\n",
       "    </div>\n",
       "    <table border=\"1\" class=\"dataframe\">\n",
       "  <thead>\n",
       "    <tr style=\"text-align: left;\">\n",
       "      <th>Step</th>\n",
       "      <th>Training Loss</th>\n",
       "    </tr>\n",
       "  </thead>\n",
       "  <tbody>\n",
       "  </tbody>\n",
       "</table><p>"
      ],
      "text/plain": [
       "<IPython.core.display.HTML object>"
      ]
     },
     "metadata": {},
     "output_type": "display_data"
    },
    {
     "data": {
      "text/html": [
       "\n",
       "    <div>\n",
       "      \n",
       "      <progress value='265' max='321' style='width:300px; height:20px; vertical-align: middle;'></progress>\n",
       "      [265/321 00:49 < 00:10, 5.29 it/s, Epoch 2.47/3]\n",
       "    </div>\n",
       "    <table border=\"1\" class=\"dataframe\">\n",
       "  <thead>\n",
       "    <tr style=\"text-align: left;\">\n",
       "      <th>Step</th>\n",
       "      <th>Training Loss</th>\n",
       "    </tr>\n",
       "  </thead>\n",
       "  <tbody>\n",
       "  </tbody>\n",
       "</table><p>"
      ],
      "text/plain": [
       "<IPython.core.display.HTML object>"
      ]
     },
     "metadata": {},
     "output_type": "display_data"
    },
    {
     "data": {
      "text/html": [
       "\n",
       "    <div>\n",
       "      \n",
       "      <progress value='266' max='321' style='width:300px; height:20px; vertical-align: middle;'></progress>\n",
       "      [266/321 00:49 < 00:10, 5.29 it/s, Epoch 2.48/3]\n",
       "    </div>\n",
       "    <table border=\"1\" class=\"dataframe\">\n",
       "  <thead>\n",
       "    <tr style=\"text-align: left;\">\n",
       "      <th>Step</th>\n",
       "      <th>Training Loss</th>\n",
       "    </tr>\n",
       "  </thead>\n",
       "  <tbody>\n",
       "  </tbody>\n",
       "</table><p>"
      ],
      "text/plain": [
       "<IPython.core.display.HTML object>"
      ]
     },
     "metadata": {},
     "output_type": "display_data"
    },
    {
     "data": {
      "text/html": [
       "\n",
       "    <div>\n",
       "      \n",
       "      <progress value='267' max='321' style='width:300px; height:20px; vertical-align: middle;'></progress>\n",
       "      [267/321 00:50 < 00:10, 5.29 it/s, Epoch 2.49/3]\n",
       "    </div>\n",
       "    <table border=\"1\" class=\"dataframe\">\n",
       "  <thead>\n",
       "    <tr style=\"text-align: left;\">\n",
       "      <th>Step</th>\n",
       "      <th>Training Loss</th>\n",
       "    </tr>\n",
       "  </thead>\n",
       "  <tbody>\n",
       "  </tbody>\n",
       "</table><p>"
      ],
      "text/plain": [
       "<IPython.core.display.HTML object>"
      ]
     },
     "metadata": {},
     "output_type": "display_data"
    },
    {
     "data": {
      "text/html": [
       "\n",
       "    <div>\n",
       "      \n",
       "      <progress value='268' max='321' style='width:300px; height:20px; vertical-align: middle;'></progress>\n",
       "      [268/321 00:50 < 00:10, 5.29 it/s, Epoch 2.50/3]\n",
       "    </div>\n",
       "    <table border=\"1\" class=\"dataframe\">\n",
       "  <thead>\n",
       "    <tr style=\"text-align: left;\">\n",
       "      <th>Step</th>\n",
       "      <th>Training Loss</th>\n",
       "    </tr>\n",
       "  </thead>\n",
       "  <tbody>\n",
       "  </tbody>\n",
       "</table><p>"
      ],
      "text/plain": [
       "<IPython.core.display.HTML object>"
      ]
     },
     "metadata": {},
     "output_type": "display_data"
    },
    {
     "data": {
      "text/html": [
       "\n",
       "    <div>\n",
       "      \n",
       "      <progress value='269' max='321' style='width:300px; height:20px; vertical-align: middle;'></progress>\n",
       "      [269/321 00:50 < 00:09, 5.29 it/s, Epoch 2.50/3]\n",
       "    </div>\n",
       "    <table border=\"1\" class=\"dataframe\">\n",
       "  <thead>\n",
       "    <tr style=\"text-align: left;\">\n",
       "      <th>Step</th>\n",
       "      <th>Training Loss</th>\n",
       "    </tr>\n",
       "  </thead>\n",
       "  <tbody>\n",
       "  </tbody>\n",
       "</table><p>"
      ],
      "text/plain": [
       "<IPython.core.display.HTML object>"
      ]
     },
     "metadata": {},
     "output_type": "display_data"
    },
    {
     "data": {
      "text/html": [
       "\n",
       "    <div>\n",
       "      \n",
       "      <progress value='270' max='321' style='width:300px; height:20px; vertical-align: middle;'></progress>\n",
       "      [270/321 00:50 < 00:09, 5.29 it/s, Epoch 2.51/3]\n",
       "    </div>\n",
       "    <table border=\"1\" class=\"dataframe\">\n",
       "  <thead>\n",
       "    <tr style=\"text-align: left;\">\n",
       "      <th>Step</th>\n",
       "      <th>Training Loss</th>\n",
       "    </tr>\n",
       "  </thead>\n",
       "  <tbody>\n",
       "  </tbody>\n",
       "</table><p>"
      ],
      "text/plain": [
       "<IPython.core.display.HTML object>"
      ]
     },
     "metadata": {},
     "output_type": "display_data"
    },
    {
     "data": {
      "text/html": [
       "\n",
       "    <div>\n",
       "      \n",
       "      <progress value='271' max='321' style='width:300px; height:20px; vertical-align: middle;'></progress>\n",
       "      [271/321 00:50 < 00:09, 5.29 it/s, Epoch 2.52/3]\n",
       "    </div>\n",
       "    <table border=\"1\" class=\"dataframe\">\n",
       "  <thead>\n",
       "    <tr style=\"text-align: left;\">\n",
       "      <th>Step</th>\n",
       "      <th>Training Loss</th>\n",
       "    </tr>\n",
       "  </thead>\n",
       "  <tbody>\n",
       "  </tbody>\n",
       "</table><p>"
      ],
      "text/plain": [
       "<IPython.core.display.HTML object>"
      ]
     },
     "metadata": {},
     "output_type": "display_data"
    },
    {
     "data": {
      "text/html": [
       "\n",
       "    <div>\n",
       "      \n",
       "      <progress value='272' max='321' style='width:300px; height:20px; vertical-align: middle;'></progress>\n",
       "      [272/321 00:51 < 00:09, 5.29 it/s, Epoch 2.53/3]\n",
       "    </div>\n",
       "    <table border=\"1\" class=\"dataframe\">\n",
       "  <thead>\n",
       "    <tr style=\"text-align: left;\">\n",
       "      <th>Step</th>\n",
       "      <th>Training Loss</th>\n",
       "    </tr>\n",
       "  </thead>\n",
       "  <tbody>\n",
       "  </tbody>\n",
       "</table><p>"
      ],
      "text/plain": [
       "<IPython.core.display.HTML object>"
      ]
     },
     "metadata": {},
     "output_type": "display_data"
    },
    {
     "data": {
      "text/html": [
       "\n",
       "    <div>\n",
       "      \n",
       "      <progress value='273' max='321' style='width:300px; height:20px; vertical-align: middle;'></progress>\n",
       "      [273/321 00:51 < 00:09, 5.29 it/s, Epoch 2.54/3]\n",
       "    </div>\n",
       "    <table border=\"1\" class=\"dataframe\">\n",
       "  <thead>\n",
       "    <tr style=\"text-align: left;\">\n",
       "      <th>Step</th>\n",
       "      <th>Training Loss</th>\n",
       "    </tr>\n",
       "  </thead>\n",
       "  <tbody>\n",
       "  </tbody>\n",
       "</table><p>"
      ],
      "text/plain": [
       "<IPython.core.display.HTML object>"
      ]
     },
     "metadata": {},
     "output_type": "display_data"
    },
    {
     "data": {
      "text/html": [
       "\n",
       "    <div>\n",
       "      \n",
       "      <progress value='274' max='321' style='width:300px; height:20px; vertical-align: middle;'></progress>\n",
       "      [274/321 00:51 < 00:08, 5.29 it/s, Epoch 2.55/3]\n",
       "    </div>\n",
       "    <table border=\"1\" class=\"dataframe\">\n",
       "  <thead>\n",
       "    <tr style=\"text-align: left;\">\n",
       "      <th>Step</th>\n",
       "      <th>Training Loss</th>\n",
       "    </tr>\n",
       "  </thead>\n",
       "  <tbody>\n",
       "  </tbody>\n",
       "</table><p>"
      ],
      "text/plain": [
       "<IPython.core.display.HTML object>"
      ]
     },
     "metadata": {},
     "output_type": "display_data"
    },
    {
     "data": {
      "text/html": [
       "\n",
       "    <div>\n",
       "      \n",
       "      <progress value='275' max='321' style='width:300px; height:20px; vertical-align: middle;'></progress>\n",
       "      [275/321 00:51 < 00:08, 5.29 it/s, Epoch 2.56/3]\n",
       "    </div>\n",
       "    <table border=\"1\" class=\"dataframe\">\n",
       "  <thead>\n",
       "    <tr style=\"text-align: left;\">\n",
       "      <th>Step</th>\n",
       "      <th>Training Loss</th>\n",
       "    </tr>\n",
       "  </thead>\n",
       "  <tbody>\n",
       "  </tbody>\n",
       "</table><p>"
      ],
      "text/plain": [
       "<IPython.core.display.HTML object>"
      ]
     },
     "metadata": {},
     "output_type": "display_data"
    },
    {
     "data": {
      "text/html": [
       "\n",
       "    <div>\n",
       "      \n",
       "      <progress value='276' max='321' style='width:300px; height:20px; vertical-align: middle;'></progress>\n",
       "      [276/321 00:51 < 00:08, 5.29 it/s, Epoch 2.57/3]\n",
       "    </div>\n",
       "    <table border=\"1\" class=\"dataframe\">\n",
       "  <thead>\n",
       "    <tr style=\"text-align: left;\">\n",
       "      <th>Step</th>\n",
       "      <th>Training Loss</th>\n",
       "    </tr>\n",
       "  </thead>\n",
       "  <tbody>\n",
       "  </tbody>\n",
       "</table><p>"
      ],
      "text/plain": [
       "<IPython.core.display.HTML object>"
      ]
     },
     "metadata": {},
     "output_type": "display_data"
    },
    {
     "data": {
      "text/html": [
       "\n",
       "    <div>\n",
       "      \n",
       "      <progress value='277' max='321' style='width:300px; height:20px; vertical-align: middle;'></progress>\n",
       "      [277/321 00:51 < 00:08, 5.29 it/s, Epoch 2.58/3]\n",
       "    </div>\n",
       "    <table border=\"1\" class=\"dataframe\">\n",
       "  <thead>\n",
       "    <tr style=\"text-align: left;\">\n",
       "      <th>Step</th>\n",
       "      <th>Training Loss</th>\n",
       "    </tr>\n",
       "  </thead>\n",
       "  <tbody>\n",
       "  </tbody>\n",
       "</table><p>"
      ],
      "text/plain": [
       "<IPython.core.display.HTML object>"
      ]
     },
     "metadata": {},
     "output_type": "display_data"
    },
    {
     "data": {
      "text/html": [
       "\n",
       "    <div>\n",
       "      \n",
       "      <progress value='278' max='321' style='width:300px; height:20px; vertical-align: middle;'></progress>\n",
       "      [278/321 00:52 < 00:08, 5.30 it/s, Epoch 2.59/3]\n",
       "    </div>\n",
       "    <table border=\"1\" class=\"dataframe\">\n",
       "  <thead>\n",
       "    <tr style=\"text-align: left;\">\n",
       "      <th>Step</th>\n",
       "      <th>Training Loss</th>\n",
       "    </tr>\n",
       "  </thead>\n",
       "  <tbody>\n",
       "  </tbody>\n",
       "</table><p>"
      ],
      "text/plain": [
       "<IPython.core.display.HTML object>"
      ]
     },
     "metadata": {},
     "output_type": "display_data"
    },
    {
     "data": {
      "text/html": [
       "\n",
       "    <div>\n",
       "      \n",
       "      <progress value='279' max='321' style='width:300px; height:20px; vertical-align: middle;'></progress>\n",
       "      [279/321 00:52 < 00:07, 5.30 it/s, Epoch 2.60/3]\n",
       "    </div>\n",
       "    <table border=\"1\" class=\"dataframe\">\n",
       "  <thead>\n",
       "    <tr style=\"text-align: left;\">\n",
       "      <th>Step</th>\n",
       "      <th>Training Loss</th>\n",
       "    </tr>\n",
       "  </thead>\n",
       "  <tbody>\n",
       "  </tbody>\n",
       "</table><p>"
      ],
      "text/plain": [
       "<IPython.core.display.HTML object>"
      ]
     },
     "metadata": {},
     "output_type": "display_data"
    },
    {
     "data": {
      "text/html": [
       "\n",
       "    <div>\n",
       "      \n",
       "      <progress value='280' max='321' style='width:300px; height:20px; vertical-align: middle;'></progress>\n",
       "      [280/321 00:52 < 00:07, 5.30 it/s, Epoch 2.61/3]\n",
       "    </div>\n",
       "    <table border=\"1\" class=\"dataframe\">\n",
       "  <thead>\n",
       "    <tr style=\"text-align: left;\">\n",
       "      <th>Step</th>\n",
       "      <th>Training Loss</th>\n",
       "    </tr>\n",
       "  </thead>\n",
       "  <tbody>\n",
       "  </tbody>\n",
       "</table><p>"
      ],
      "text/plain": [
       "<IPython.core.display.HTML object>"
      ]
     },
     "metadata": {},
     "output_type": "display_data"
    },
    {
     "data": {
      "text/html": [
       "\n",
       "    <div>\n",
       "      \n",
       "      <progress value='281' max='321' style='width:300px; height:20px; vertical-align: middle;'></progress>\n",
       "      [281/321 00:52 < 00:07, 5.30 it/s, Epoch 2.62/3]\n",
       "    </div>\n",
       "    <table border=\"1\" class=\"dataframe\">\n",
       "  <thead>\n",
       "    <tr style=\"text-align: left;\">\n",
       "      <th>Step</th>\n",
       "      <th>Training Loss</th>\n",
       "    </tr>\n",
       "  </thead>\n",
       "  <tbody>\n",
       "  </tbody>\n",
       "</table><p>"
      ],
      "text/plain": [
       "<IPython.core.display.HTML object>"
      ]
     },
     "metadata": {},
     "output_type": "display_data"
    },
    {
     "data": {
      "text/html": [
       "\n",
       "    <div>\n",
       "      \n",
       "      <progress value='282' max='321' style='width:300px; height:20px; vertical-align: middle;'></progress>\n",
       "      [282/321 00:52 < 00:07, 5.30 it/s, Epoch 2.63/3]\n",
       "    </div>\n",
       "    <table border=\"1\" class=\"dataframe\">\n",
       "  <thead>\n",
       "    <tr style=\"text-align: left;\">\n",
       "      <th>Step</th>\n",
       "      <th>Training Loss</th>\n",
       "    </tr>\n",
       "  </thead>\n",
       "  <tbody>\n",
       "  </tbody>\n",
       "</table><p>"
      ],
      "text/plain": [
       "<IPython.core.display.HTML object>"
      ]
     },
     "metadata": {},
     "output_type": "display_data"
    },
    {
     "data": {
      "text/html": [
       "\n",
       "    <div>\n",
       "      \n",
       "      <progress value='283' max='321' style='width:300px; height:20px; vertical-align: middle;'></progress>\n",
       "      [283/321 00:53 < 00:07, 5.30 it/s, Epoch 2.64/3]\n",
       "    </div>\n",
       "    <table border=\"1\" class=\"dataframe\">\n",
       "  <thead>\n",
       "    <tr style=\"text-align: left;\">\n",
       "      <th>Step</th>\n",
       "      <th>Training Loss</th>\n",
       "    </tr>\n",
       "  </thead>\n",
       "  <tbody>\n",
       "  </tbody>\n",
       "</table><p>"
      ],
      "text/plain": [
       "<IPython.core.display.HTML object>"
      ]
     },
     "metadata": {},
     "output_type": "display_data"
    },
    {
     "data": {
      "text/html": [
       "\n",
       "    <div>\n",
       "      \n",
       "      <progress value='284' max='321' style='width:300px; height:20px; vertical-align: middle;'></progress>\n",
       "      [284/321 00:53 < 00:06, 5.30 it/s, Epoch 2.64/3]\n",
       "    </div>\n",
       "    <table border=\"1\" class=\"dataframe\">\n",
       "  <thead>\n",
       "    <tr style=\"text-align: left;\">\n",
       "      <th>Step</th>\n",
       "      <th>Training Loss</th>\n",
       "    </tr>\n",
       "  </thead>\n",
       "  <tbody>\n",
       "  </tbody>\n",
       "</table><p>"
      ],
      "text/plain": [
       "<IPython.core.display.HTML object>"
      ]
     },
     "metadata": {},
     "output_type": "display_data"
    },
    {
     "data": {
      "text/html": [
       "\n",
       "    <div>\n",
       "      \n",
       "      <progress value='285' max='321' style='width:300px; height:20px; vertical-align: middle;'></progress>\n",
       "      [285/321 00:53 < 00:06, 5.30 it/s, Epoch 2.65/3]\n",
       "    </div>\n",
       "    <table border=\"1\" class=\"dataframe\">\n",
       "  <thead>\n",
       "    <tr style=\"text-align: left;\">\n",
       "      <th>Step</th>\n",
       "      <th>Training Loss</th>\n",
       "    </tr>\n",
       "  </thead>\n",
       "  <tbody>\n",
       "  </tbody>\n",
       "</table><p>"
      ],
      "text/plain": [
       "<IPython.core.display.HTML object>"
      ]
     },
     "metadata": {},
     "output_type": "display_data"
    },
    {
     "data": {
      "text/html": [
       "\n",
       "    <div>\n",
       "      \n",
       "      <progress value='286' max='321' style='width:300px; height:20px; vertical-align: middle;'></progress>\n",
       "      [286/321 00:53 < 00:06, 5.30 it/s, Epoch 2.66/3]\n",
       "    </div>\n",
       "    <table border=\"1\" class=\"dataframe\">\n",
       "  <thead>\n",
       "    <tr style=\"text-align: left;\">\n",
       "      <th>Step</th>\n",
       "      <th>Training Loss</th>\n",
       "    </tr>\n",
       "  </thead>\n",
       "  <tbody>\n",
       "  </tbody>\n",
       "</table><p>"
      ],
      "text/plain": [
       "<IPython.core.display.HTML object>"
      ]
     },
     "metadata": {},
     "output_type": "display_data"
    },
    {
     "data": {
      "text/html": [
       "\n",
       "    <div>\n",
       "      \n",
       "      <progress value='287' max='321' style='width:300px; height:20px; vertical-align: middle;'></progress>\n",
       "      [287/321 00:53 < 00:06, 5.30 it/s, Epoch 2.67/3]\n",
       "    </div>\n",
       "    <table border=\"1\" class=\"dataframe\">\n",
       "  <thead>\n",
       "    <tr style=\"text-align: left;\">\n",
       "      <th>Step</th>\n",
       "      <th>Training Loss</th>\n",
       "    </tr>\n",
       "  </thead>\n",
       "  <tbody>\n",
       "  </tbody>\n",
       "</table><p>"
      ],
      "text/plain": [
       "<IPython.core.display.HTML object>"
      ]
     },
     "metadata": {},
     "output_type": "display_data"
    },
    {
     "data": {
      "text/html": [
       "\n",
       "    <div>\n",
       "      \n",
       "      <progress value='288' max='321' style='width:300px; height:20px; vertical-align: middle;'></progress>\n",
       "      [288/321 00:53 < 00:06, 5.30 it/s, Epoch 2.68/3]\n",
       "    </div>\n",
       "    <table border=\"1\" class=\"dataframe\">\n",
       "  <thead>\n",
       "    <tr style=\"text-align: left;\">\n",
       "      <th>Step</th>\n",
       "      <th>Training Loss</th>\n",
       "    </tr>\n",
       "  </thead>\n",
       "  <tbody>\n",
       "  </tbody>\n",
       "</table><p>"
      ],
      "text/plain": [
       "<IPython.core.display.HTML object>"
      ]
     },
     "metadata": {},
     "output_type": "display_data"
    },
    {
     "data": {
      "text/html": [
       "\n",
       "    <div>\n",
       "      \n",
       "      <progress value='289' max='321' style='width:300px; height:20px; vertical-align: middle;'></progress>\n",
       "      [289/321 00:54 < 00:06, 5.28 it/s, Epoch 2.69/3]\n",
       "    </div>\n",
       "    <table border=\"1\" class=\"dataframe\">\n",
       "  <thead>\n",
       "    <tr style=\"text-align: left;\">\n",
       "      <th>Step</th>\n",
       "      <th>Training Loss</th>\n",
       "    </tr>\n",
       "  </thead>\n",
       "  <tbody>\n",
       "  </tbody>\n",
       "</table><p>"
      ],
      "text/plain": [
       "<IPython.core.display.HTML object>"
      ]
     },
     "metadata": {},
     "output_type": "display_data"
    },
    {
     "data": {
      "text/html": [
       "\n",
       "    <div>\n",
       "      \n",
       "      <progress value='290' max='321' style='width:300px; height:20px; vertical-align: middle;'></progress>\n",
       "      [290/321 00:54 < 00:05, 5.28 it/s, Epoch 2.70/3]\n",
       "    </div>\n",
       "    <table border=\"1\" class=\"dataframe\">\n",
       "  <thead>\n",
       "    <tr style=\"text-align: left;\">\n",
       "      <th>Step</th>\n",
       "      <th>Training Loss</th>\n",
       "    </tr>\n",
       "  </thead>\n",
       "  <tbody>\n",
       "  </tbody>\n",
       "</table><p>"
      ],
      "text/plain": [
       "<IPython.core.display.HTML object>"
      ]
     },
     "metadata": {},
     "output_type": "display_data"
    },
    {
     "data": {
      "text/html": [
       "\n",
       "    <div>\n",
       "      \n",
       "      <progress value='291' max='321' style='width:300px; height:20px; vertical-align: middle;'></progress>\n",
       "      [291/321 00:54 < 00:05, 5.29 it/s, Epoch 2.71/3]\n",
       "    </div>\n",
       "    <table border=\"1\" class=\"dataframe\">\n",
       "  <thead>\n",
       "    <tr style=\"text-align: left;\">\n",
       "      <th>Step</th>\n",
       "      <th>Training Loss</th>\n",
       "    </tr>\n",
       "  </thead>\n",
       "  <tbody>\n",
       "  </tbody>\n",
       "</table><p>"
      ],
      "text/plain": [
       "<IPython.core.display.HTML object>"
      ]
     },
     "metadata": {},
     "output_type": "display_data"
    },
    {
     "data": {
      "text/html": [
       "\n",
       "    <div>\n",
       "      \n",
       "      <progress value='292' max='321' style='width:300px; height:20px; vertical-align: middle;'></progress>\n",
       "      [292/321 00:54 < 00:05, 5.29 it/s, Epoch 2.72/3]\n",
       "    </div>\n",
       "    <table border=\"1\" class=\"dataframe\">\n",
       "  <thead>\n",
       "    <tr style=\"text-align: left;\">\n",
       "      <th>Step</th>\n",
       "      <th>Training Loss</th>\n",
       "    </tr>\n",
       "  </thead>\n",
       "  <tbody>\n",
       "  </tbody>\n",
       "</table><p>"
      ],
      "text/plain": [
       "<IPython.core.display.HTML object>"
      ]
     },
     "metadata": {},
     "output_type": "display_data"
    },
    {
     "data": {
      "text/html": [
       "\n",
       "    <div>\n",
       "      \n",
       "      <progress value='293' max='321' style='width:300px; height:20px; vertical-align: middle;'></progress>\n",
       "      [293/321 00:55 < 00:05, 5.29 it/s, Epoch 2.73/3]\n",
       "    </div>\n",
       "    <table border=\"1\" class=\"dataframe\">\n",
       "  <thead>\n",
       "    <tr style=\"text-align: left;\">\n",
       "      <th>Step</th>\n",
       "      <th>Training Loss</th>\n",
       "    </tr>\n",
       "  </thead>\n",
       "  <tbody>\n",
       "  </tbody>\n",
       "</table><p>"
      ],
      "text/plain": [
       "<IPython.core.display.HTML object>"
      ]
     },
     "metadata": {},
     "output_type": "display_data"
    },
    {
     "data": {
      "text/html": [
       "\n",
       "    <div>\n",
       "      \n",
       "      <progress value='294' max='321' style='width:300px; height:20px; vertical-align: middle;'></progress>\n",
       "      [294/321 00:55 < 00:05, 5.29 it/s, Epoch 2.74/3]\n",
       "    </div>\n",
       "    <table border=\"1\" class=\"dataframe\">\n",
       "  <thead>\n",
       "    <tr style=\"text-align: left;\">\n",
       "      <th>Step</th>\n",
       "      <th>Training Loss</th>\n",
       "    </tr>\n",
       "  </thead>\n",
       "  <tbody>\n",
       "  </tbody>\n",
       "</table><p>"
      ],
      "text/plain": [
       "<IPython.core.display.HTML object>"
      ]
     },
     "metadata": {},
     "output_type": "display_data"
    },
    {
     "data": {
      "text/html": [
       "\n",
       "    <div>\n",
       "      \n",
       "      <progress value='295' max='321' style='width:300px; height:20px; vertical-align: middle;'></progress>\n",
       "      [295/321 00:55 < 00:04, 5.29 it/s, Epoch 2.75/3]\n",
       "    </div>\n",
       "    <table border=\"1\" class=\"dataframe\">\n",
       "  <thead>\n",
       "    <tr style=\"text-align: left;\">\n",
       "      <th>Step</th>\n",
       "      <th>Training Loss</th>\n",
       "    </tr>\n",
       "  </thead>\n",
       "  <tbody>\n",
       "  </tbody>\n",
       "</table><p>"
      ],
      "text/plain": [
       "<IPython.core.display.HTML object>"
      ]
     },
     "metadata": {},
     "output_type": "display_data"
    },
    {
     "data": {
      "text/html": [
       "\n",
       "    <div>\n",
       "      \n",
       "      <progress value='296' max='321' style='width:300px; height:20px; vertical-align: middle;'></progress>\n",
       "      [296/321 00:55 < 00:04, 5.29 it/s, Epoch 2.76/3]\n",
       "    </div>\n",
       "    <table border=\"1\" class=\"dataframe\">\n",
       "  <thead>\n",
       "    <tr style=\"text-align: left;\">\n",
       "      <th>Step</th>\n",
       "      <th>Training Loss</th>\n",
       "    </tr>\n",
       "  </thead>\n",
       "  <tbody>\n",
       "  </tbody>\n",
       "</table><p>"
      ],
      "text/plain": [
       "<IPython.core.display.HTML object>"
      ]
     },
     "metadata": {},
     "output_type": "display_data"
    },
    {
     "data": {
      "text/html": [
       "\n",
       "    <div>\n",
       "      \n",
       "      <progress value='297' max='321' style='width:300px; height:20px; vertical-align: middle;'></progress>\n",
       "      [297/321 00:55 < 00:04, 5.29 it/s, Epoch 2.77/3]\n",
       "    </div>\n",
       "    <table border=\"1\" class=\"dataframe\">\n",
       "  <thead>\n",
       "    <tr style=\"text-align: left;\">\n",
       "      <th>Step</th>\n",
       "      <th>Training Loss</th>\n",
       "    </tr>\n",
       "  </thead>\n",
       "  <tbody>\n",
       "  </tbody>\n",
       "</table><p>"
      ],
      "text/plain": [
       "<IPython.core.display.HTML object>"
      ]
     },
     "metadata": {},
     "output_type": "display_data"
    },
    {
     "data": {
      "text/html": [
       "\n",
       "    <div>\n",
       "      \n",
       "      <progress value='298' max='321' style='width:300px; height:20px; vertical-align: middle;'></progress>\n",
       "      [298/321 00:55 < 00:04, 5.29 it/s, Epoch 2.78/3]\n",
       "    </div>\n",
       "    <table border=\"1\" class=\"dataframe\">\n",
       "  <thead>\n",
       "    <tr style=\"text-align: left;\">\n",
       "      <th>Step</th>\n",
       "      <th>Training Loss</th>\n",
       "    </tr>\n",
       "  </thead>\n",
       "  <tbody>\n",
       "  </tbody>\n",
       "</table><p>"
      ],
      "text/plain": [
       "<IPython.core.display.HTML object>"
      ]
     },
     "metadata": {},
     "output_type": "display_data"
    },
    {
     "data": {
      "text/html": [
       "\n",
       "    <div>\n",
       "      \n",
       "      <progress value='299' max='321' style='width:300px; height:20px; vertical-align: middle;'></progress>\n",
       "      [299/321 00:56 < 00:04, 5.29 it/s, Epoch 2.79/3]\n",
       "    </div>\n",
       "    <table border=\"1\" class=\"dataframe\">\n",
       "  <thead>\n",
       "    <tr style=\"text-align: left;\">\n",
       "      <th>Step</th>\n",
       "      <th>Training Loss</th>\n",
       "    </tr>\n",
       "  </thead>\n",
       "  <tbody>\n",
       "  </tbody>\n",
       "</table><p>"
      ],
      "text/plain": [
       "<IPython.core.display.HTML object>"
      ]
     },
     "metadata": {},
     "output_type": "display_data"
    },
    {
     "data": {
      "text/html": [
       "\n",
       "    <div>\n",
       "      \n",
       "      <progress value='300' max='321' style='width:300px; height:20px; vertical-align: middle;'></progress>\n",
       "      [300/321 00:56 < 00:03, 5.29 it/s, Epoch 2.79/3]\n",
       "    </div>\n",
       "    <table border=\"1\" class=\"dataframe\">\n",
       "  <thead>\n",
       "    <tr style=\"text-align: left;\">\n",
       "      <th>Step</th>\n",
       "      <th>Training Loss</th>\n",
       "    </tr>\n",
       "  </thead>\n",
       "  <tbody>\n",
       "  </tbody>\n",
       "</table><p>"
      ],
      "text/plain": [
       "<IPython.core.display.HTML object>"
      ]
     },
     "metadata": {},
     "output_type": "display_data"
    },
    {
     "data": {
      "text/html": [
       "\n",
       "    <div>\n",
       "      \n",
       "      <progress value='301' max='321' style='width:300px; height:20px; vertical-align: middle;'></progress>\n",
       "      [301/321 00:56 < 00:03, 5.29 it/s, Epoch 2.80/3]\n",
       "    </div>\n",
       "    <table border=\"1\" class=\"dataframe\">\n",
       "  <thead>\n",
       "    <tr style=\"text-align: left;\">\n",
       "      <th>Step</th>\n",
       "      <th>Training Loss</th>\n",
       "    </tr>\n",
       "  </thead>\n",
       "  <tbody>\n",
       "  </tbody>\n",
       "</table><p>"
      ],
      "text/plain": [
       "<IPython.core.display.HTML object>"
      ]
     },
     "metadata": {},
     "output_type": "display_data"
    },
    {
     "data": {
      "text/html": [
       "\n",
       "    <div>\n",
       "      \n",
       "      <progress value='302' max='321' style='width:300px; height:20px; vertical-align: middle;'></progress>\n",
       "      [302/321 00:56 < 00:03, 5.29 it/s, Epoch 2.81/3]\n",
       "    </div>\n",
       "    <table border=\"1\" class=\"dataframe\">\n",
       "  <thead>\n",
       "    <tr style=\"text-align: left;\">\n",
       "      <th>Step</th>\n",
       "      <th>Training Loss</th>\n",
       "    </tr>\n",
       "  </thead>\n",
       "  <tbody>\n",
       "  </tbody>\n",
       "</table><p>"
      ],
      "text/plain": [
       "<IPython.core.display.HTML object>"
      ]
     },
     "metadata": {},
     "output_type": "display_data"
    },
    {
     "data": {
      "text/html": [
       "\n",
       "    <div>\n",
       "      \n",
       "      <progress value='303' max='321' style='width:300px; height:20px; vertical-align: middle;'></progress>\n",
       "      [303/321 00:56 < 00:03, 5.29 it/s, Epoch 2.82/3]\n",
       "    </div>\n",
       "    <table border=\"1\" class=\"dataframe\">\n",
       "  <thead>\n",
       "    <tr style=\"text-align: left;\">\n",
       "      <th>Step</th>\n",
       "      <th>Training Loss</th>\n",
       "    </tr>\n",
       "  </thead>\n",
       "  <tbody>\n",
       "  </tbody>\n",
       "</table><p>"
      ],
      "text/plain": [
       "<IPython.core.display.HTML object>"
      ]
     },
     "metadata": {},
     "output_type": "display_data"
    },
    {
     "data": {
      "text/html": [
       "\n",
       "    <div>\n",
       "      \n",
       "      <progress value='304' max='321' style='width:300px; height:20px; vertical-align: middle;'></progress>\n",
       "      [304/321 00:57 < 00:03, 5.29 it/s, Epoch 2.83/3]\n",
       "    </div>\n",
       "    <table border=\"1\" class=\"dataframe\">\n",
       "  <thead>\n",
       "    <tr style=\"text-align: left;\">\n",
       "      <th>Step</th>\n",
       "      <th>Training Loss</th>\n",
       "    </tr>\n",
       "  </thead>\n",
       "  <tbody>\n",
       "  </tbody>\n",
       "</table><p>"
      ],
      "text/plain": [
       "<IPython.core.display.HTML object>"
      ]
     },
     "metadata": {},
     "output_type": "display_data"
    },
    {
     "data": {
      "text/html": [
       "\n",
       "    <div>\n",
       "      \n",
       "      <progress value='305' max='321' style='width:300px; height:20px; vertical-align: middle;'></progress>\n",
       "      [305/321 00:57 < 00:03, 5.29 it/s, Epoch 2.84/3]\n",
       "    </div>\n",
       "    <table border=\"1\" class=\"dataframe\">\n",
       "  <thead>\n",
       "    <tr style=\"text-align: left;\">\n",
       "      <th>Step</th>\n",
       "      <th>Training Loss</th>\n",
       "    </tr>\n",
       "  </thead>\n",
       "  <tbody>\n",
       "  </tbody>\n",
       "</table><p>"
      ],
      "text/plain": [
       "<IPython.core.display.HTML object>"
      ]
     },
     "metadata": {},
     "output_type": "display_data"
    },
    {
     "data": {
      "text/html": [
       "\n",
       "    <div>\n",
       "      \n",
       "      <progress value='306' max='321' style='width:300px; height:20px; vertical-align: middle;'></progress>\n",
       "      [306/321 00:57 < 00:02, 5.29 it/s, Epoch 2.85/3]\n",
       "    </div>\n",
       "    <table border=\"1\" class=\"dataframe\">\n",
       "  <thead>\n",
       "    <tr style=\"text-align: left;\">\n",
       "      <th>Step</th>\n",
       "      <th>Training Loss</th>\n",
       "    </tr>\n",
       "  </thead>\n",
       "  <tbody>\n",
       "  </tbody>\n",
       "</table><p>"
      ],
      "text/plain": [
       "<IPython.core.display.HTML object>"
      ]
     },
     "metadata": {},
     "output_type": "display_data"
    },
    {
     "data": {
      "text/html": [
       "\n",
       "    <div>\n",
       "      \n",
       "      <progress value='307' max='321' style='width:300px; height:20px; vertical-align: middle;'></progress>\n",
       "      [307/321 00:57 < 00:02, 5.29 it/s, Epoch 2.86/3]\n",
       "    </div>\n",
       "    <table border=\"1\" class=\"dataframe\">\n",
       "  <thead>\n",
       "    <tr style=\"text-align: left;\">\n",
       "      <th>Step</th>\n",
       "      <th>Training Loss</th>\n",
       "    </tr>\n",
       "  </thead>\n",
       "  <tbody>\n",
       "  </tbody>\n",
       "</table><p>"
      ],
      "text/plain": [
       "<IPython.core.display.HTML object>"
      ]
     },
     "metadata": {},
     "output_type": "display_data"
    },
    {
     "data": {
      "text/html": [
       "\n",
       "    <div>\n",
       "      \n",
       "      <progress value='308' max='321' style='width:300px; height:20px; vertical-align: middle;'></progress>\n",
       "      [308/321 00:57 < 00:02, 5.29 it/s, Epoch 2.87/3]\n",
       "    </div>\n",
       "    <table border=\"1\" class=\"dataframe\">\n",
       "  <thead>\n",
       "    <tr style=\"text-align: left;\">\n",
       "      <th>Step</th>\n",
       "      <th>Training Loss</th>\n",
       "    </tr>\n",
       "  </thead>\n",
       "  <tbody>\n",
       "  </tbody>\n",
       "</table><p>"
      ],
      "text/plain": [
       "<IPython.core.display.HTML object>"
      ]
     },
     "metadata": {},
     "output_type": "display_data"
    },
    {
     "data": {
      "text/html": [
       "\n",
       "    <div>\n",
       "      \n",
       "      <progress value='309' max='321' style='width:300px; height:20px; vertical-align: middle;'></progress>\n",
       "      [309/321 00:57 < 00:02, 5.29 it/s, Epoch 2.88/3]\n",
       "    </div>\n",
       "    <table border=\"1\" class=\"dataframe\">\n",
       "  <thead>\n",
       "    <tr style=\"text-align: left;\">\n",
       "      <th>Step</th>\n",
       "      <th>Training Loss</th>\n",
       "    </tr>\n",
       "  </thead>\n",
       "  <tbody>\n",
       "  </tbody>\n",
       "</table><p>"
      ],
      "text/plain": [
       "<IPython.core.display.HTML object>"
      ]
     },
     "metadata": {},
     "output_type": "display_data"
    },
    {
     "data": {
      "text/html": [
       "\n",
       "    <div>\n",
       "      \n",
       "      <progress value='310' max='321' style='width:300px; height:20px; vertical-align: middle;'></progress>\n",
       "      [310/321 00:58 < 00:02, 5.29 it/s, Epoch 2.89/3]\n",
       "    </div>\n",
       "    <table border=\"1\" class=\"dataframe\">\n",
       "  <thead>\n",
       "    <tr style=\"text-align: left;\">\n",
       "      <th>Step</th>\n",
       "      <th>Training Loss</th>\n",
       "    </tr>\n",
       "  </thead>\n",
       "  <tbody>\n",
       "  </tbody>\n",
       "</table><p>"
      ],
      "text/plain": [
       "<IPython.core.display.HTML object>"
      ]
     },
     "metadata": {},
     "output_type": "display_data"
    },
    {
     "data": {
      "text/html": [
       "\n",
       "    <div>\n",
       "      \n",
       "      <progress value='311' max='321' style='width:300px; height:20px; vertical-align: middle;'></progress>\n",
       "      [311/321 00:58 < 00:01, 5.29 it/s, Epoch 2.90/3]\n",
       "    </div>\n",
       "    <table border=\"1\" class=\"dataframe\">\n",
       "  <thead>\n",
       "    <tr style=\"text-align: left;\">\n",
       "      <th>Step</th>\n",
       "      <th>Training Loss</th>\n",
       "    </tr>\n",
       "  </thead>\n",
       "  <tbody>\n",
       "  </tbody>\n",
       "</table><p>"
      ],
      "text/plain": [
       "<IPython.core.display.HTML object>"
      ]
     },
     "metadata": {},
     "output_type": "display_data"
    },
    {
     "data": {
      "text/html": [
       "\n",
       "    <div>\n",
       "      \n",
       "      <progress value='312' max='321' style='width:300px; height:20px; vertical-align: middle;'></progress>\n",
       "      [312/321 00:58 < 00:01, 5.29 it/s, Epoch 2.91/3]\n",
       "    </div>\n",
       "    <table border=\"1\" class=\"dataframe\">\n",
       "  <thead>\n",
       "    <tr style=\"text-align: left;\">\n",
       "      <th>Step</th>\n",
       "      <th>Training Loss</th>\n",
       "    </tr>\n",
       "  </thead>\n",
       "  <tbody>\n",
       "  </tbody>\n",
       "</table><p>"
      ],
      "text/plain": [
       "<IPython.core.display.HTML object>"
      ]
     },
     "metadata": {},
     "output_type": "display_data"
    },
    {
     "data": {
      "text/html": [
       "\n",
       "    <div>\n",
       "      \n",
       "      <progress value='313' max='321' style='width:300px; height:20px; vertical-align: middle;'></progress>\n",
       "      [313/321 00:58 < 00:01, 5.29 it/s, Epoch 2.92/3]\n",
       "    </div>\n",
       "    <table border=\"1\" class=\"dataframe\">\n",
       "  <thead>\n",
       "    <tr style=\"text-align: left;\">\n",
       "      <th>Step</th>\n",
       "      <th>Training Loss</th>\n",
       "    </tr>\n",
       "  </thead>\n",
       "  <tbody>\n",
       "  </tbody>\n",
       "</table><p>"
      ],
      "text/plain": [
       "<IPython.core.display.HTML object>"
      ]
     },
     "metadata": {},
     "output_type": "display_data"
    },
    {
     "data": {
      "text/html": [
       "\n",
       "    <div>\n",
       "      \n",
       "      <progress value='314' max='321' style='width:300px; height:20px; vertical-align: middle;'></progress>\n",
       "      [314/321 00:58 < 00:01, 5.29 it/s, Epoch 2.93/3]\n",
       "    </div>\n",
       "    <table border=\"1\" class=\"dataframe\">\n",
       "  <thead>\n",
       "    <tr style=\"text-align: left;\">\n",
       "      <th>Step</th>\n",
       "      <th>Training Loss</th>\n",
       "    </tr>\n",
       "  </thead>\n",
       "  <tbody>\n",
       "  </tbody>\n",
       "</table><p>"
      ],
      "text/plain": [
       "<IPython.core.display.HTML object>"
      ]
     },
     "metadata": {},
     "output_type": "display_data"
    },
    {
     "data": {
      "text/html": [
       "\n",
       "    <div>\n",
       "      \n",
       "      <progress value='315' max='321' style='width:300px; height:20px; vertical-align: middle;'></progress>\n",
       "      [315/321 00:59 < 00:01, 5.29 it/s, Epoch 2.93/3]\n",
       "    </div>\n",
       "    <table border=\"1\" class=\"dataframe\">\n",
       "  <thead>\n",
       "    <tr style=\"text-align: left;\">\n",
       "      <th>Step</th>\n",
       "      <th>Training Loss</th>\n",
       "    </tr>\n",
       "  </thead>\n",
       "  <tbody>\n",
       "  </tbody>\n",
       "</table><p>"
      ],
      "text/plain": [
       "<IPython.core.display.HTML object>"
      ]
     },
     "metadata": {},
     "output_type": "display_data"
    },
    {
     "data": {
      "text/html": [
       "\n",
       "    <div>\n",
       "      \n",
       "      <progress value='316' max='321' style='width:300px; height:20px; vertical-align: middle;'></progress>\n",
       "      [316/321 00:59 < 00:00, 5.29 it/s, Epoch 2.94/3]\n",
       "    </div>\n",
       "    <table border=\"1\" class=\"dataframe\">\n",
       "  <thead>\n",
       "    <tr style=\"text-align: left;\">\n",
       "      <th>Step</th>\n",
       "      <th>Training Loss</th>\n",
       "    </tr>\n",
       "  </thead>\n",
       "  <tbody>\n",
       "  </tbody>\n",
       "</table><p>"
      ],
      "text/plain": [
       "<IPython.core.display.HTML object>"
      ]
     },
     "metadata": {},
     "output_type": "display_data"
    },
    {
     "data": {
      "text/html": [
       "\n",
       "    <div>\n",
       "      \n",
       "      <progress value='317' max='321' style='width:300px; height:20px; vertical-align: middle;'></progress>\n",
       "      [317/321 00:59 < 00:00, 5.29 it/s, Epoch 2.95/3]\n",
       "    </div>\n",
       "    <table border=\"1\" class=\"dataframe\">\n",
       "  <thead>\n",
       "    <tr style=\"text-align: left;\">\n",
       "      <th>Step</th>\n",
       "      <th>Training Loss</th>\n",
       "    </tr>\n",
       "  </thead>\n",
       "  <tbody>\n",
       "  </tbody>\n",
       "</table><p>"
      ],
      "text/plain": [
       "<IPython.core.display.HTML object>"
      ]
     },
     "metadata": {},
     "output_type": "display_data"
    },
    {
     "data": {
      "text/html": [
       "\n",
       "    <div>\n",
       "      \n",
       "      <progress value='318' max='321' style='width:300px; height:20px; vertical-align: middle;'></progress>\n",
       "      [318/321 00:59 < 00:00, 5.29 it/s, Epoch 2.96/3]\n",
       "    </div>\n",
       "    <table border=\"1\" class=\"dataframe\">\n",
       "  <thead>\n",
       "    <tr style=\"text-align: left;\">\n",
       "      <th>Step</th>\n",
       "      <th>Training Loss</th>\n",
       "    </tr>\n",
       "  </thead>\n",
       "  <tbody>\n",
       "  </tbody>\n",
       "</table><p>"
      ],
      "text/plain": [
       "<IPython.core.display.HTML object>"
      ]
     },
     "metadata": {},
     "output_type": "display_data"
    },
    {
     "data": {
      "text/html": [
       "\n",
       "    <div>\n",
       "      \n",
       "      <progress value='319' max='321' style='width:300px; height:20px; vertical-align: middle;'></progress>\n",
       "      [319/321 00:59 < 00:00, 5.29 it/s, Epoch 2.97/3]\n",
       "    </div>\n",
       "    <table border=\"1\" class=\"dataframe\">\n",
       "  <thead>\n",
       "    <tr style=\"text-align: left;\">\n",
       "      <th>Step</th>\n",
       "      <th>Training Loss</th>\n",
       "    </tr>\n",
       "  </thead>\n",
       "  <tbody>\n",
       "  </tbody>\n",
       "</table><p>"
      ],
      "text/plain": [
       "<IPython.core.display.HTML object>"
      ]
     },
     "metadata": {},
     "output_type": "display_data"
    },
    {
     "data": {
      "text/html": [
       "\n",
       "    <div>\n",
       "      \n",
       "      <progress value='320' max='321' style='width:300px; height:20px; vertical-align: middle;'></progress>\n",
       "      [320/321 01:00 < 00:00, 5.29 it/s, Epoch 2.98/3]\n",
       "    </div>\n",
       "    <table border=\"1\" class=\"dataframe\">\n",
       "  <thead>\n",
       "    <tr style=\"text-align: left;\">\n",
       "      <th>Step</th>\n",
       "      <th>Training Loss</th>\n",
       "    </tr>\n",
       "  </thead>\n",
       "  <tbody>\n",
       "  </tbody>\n",
       "</table><p>"
      ],
      "text/plain": [
       "<IPython.core.display.HTML object>"
      ]
     },
     "metadata": {},
     "output_type": "display_data"
    },
    {
     "data": {
      "text/html": [
       "\n",
       "    <div>\n",
       "      \n",
       "      <progress value='321' max='321' style='width:300px; height:20px; vertical-align: middle;'></progress>\n",
       "      [321/321 01:00, Epoch 2.99/3]\n",
       "    </div>\n",
       "    <table border=\"1\" class=\"dataframe\">\n",
       "  <thead>\n",
       "    <tr style=\"text-align: left;\">\n",
       "      <th>Step</th>\n",
       "      <th>Training Loss</th>\n",
       "    </tr>\n",
       "  </thead>\n",
       "  <tbody>\n",
       "  </tbody>\n",
       "</table><p>"
      ],
      "text/plain": [
       "<IPython.core.display.HTML object>"
      ]
     },
     "metadata": {},
     "output_type": "display_data"
    },
    {
     "data": {
      "text/html": [
       "\n",
       "    <div>\n",
       "      \n",
       "      <progress value='322' max='321' style='width:300px; height:20px; vertical-align: middle;'></progress>\n",
       "      [321/321 01:00, Epoch 3/3]\n",
       "    </div>\n",
       "    <table border=\"1\" class=\"dataframe\">\n",
       "  <thead>\n",
       "    <tr style=\"text-align: left;\">\n",
       "      <th>Step</th>\n",
       "      <th>Training Loss</th>\n",
       "    </tr>\n",
       "  </thead>\n",
       "  <tbody>\n",
       "  </tbody>\n",
       "</table><p>"
      ],
      "text/plain": [
       "<IPython.core.display.HTML object>"
      ]
     },
     "metadata": {},
     "output_type": "display_data"
    },
    {
     "name": "stderr",
     "output_type": "stream",
     "text": [
      "The following columns in the training set  don't have a corresponding argument in `T5ForConditionalGeneration.forward` and have been ignored: text, title.\n",
      "***** Running training *****\n",
      "  Num examples = 425\n",
      "  Num Epochs = 3\n",
      "  Instantaneous batch size per device = 2\n",
      "  Total train batch size (w. parallel, distributed & accumulation) = 4\n",
      "  Gradient Accumulation steps = 1\n",
      "  Total optimization steps = 321\n",
      "\n",
      "\n",
      "Training completed. Do not forget to share your model on huggingface.co/models =)\n",
      "\n",
      "\n"
     ]
    },
    {
     "data": {
      "text/html": [
       "\n",
       "    <div>\n",
       "      \n",
       "      <progress value='321' max='321' style='width:300px; height:20px; vertical-align: middle;'></progress>\n",
       "      [321/321 01:00, Epoch 3/3]\n",
       "    </div>\n",
       "    <table border=\"1\" class=\"dataframe\">\n",
       "  <thead>\n",
       "    <tr style=\"text-align: left;\">\n",
       "      <th>Step</th>\n",
       "      <th>Training Loss</th>\n",
       "    </tr>\n",
       "  </thead>\n",
       "  <tbody>\n",
       "  </tbody>\n",
       "</table><p>"
      ],
      "text/plain": [
       "<IPython.core.display.HTML object>"
      ]
     },
     "metadata": {},
     "output_type": "display_data"
    },
    {
     "data": {
      "text/plain": [
       "TrainOutput(global_step=321, training_loss=9.390902605383568, metrics={'train_runtime': 60.6037, 'train_samples_per_second': 21.038, 'train_steps_per_second': 5.297, 'total_flos': 677081548800000.0, 'train_loss': 9.390902605383568, 'epoch': 3.0})"
      ]
     },
     "execution_count": 29,
     "metadata": {},
     "output_type": "execute_result"
    }
   ],
   "source": [
    "#!g2.2\n",
    "# Обучение модели\n",
    "trainer = Trainer(\n",
    "    model=model,\n",
    "    args=training_args,\n",
    "    train_dataset=dataset_train,\n",
    "    eval_dataset=dataset_test\n",
    ")\n",
    "\n",
    "trainer.train()"
   ]
  },
  {
   "cell_type": "code",
   "execution_count": 30,
   "id": "cb5d95a8",
   "metadata": {
    "cellId": "ojvb4ejq6gs02cmo3punvp6"
   },
   "outputs": [
    {
     "name": "stderr",
     "output_type": "stream",
     "text": [
      "Saving model checkpoint to gazeta/output/model\n",
      "Configuration saved in gazeta/output/model/config.json\n",
      "Model weights saved in gazeta/output/model/pytorch_model.bin\n"
     ]
    }
   ],
   "source": [
    "#!g2.2\n",
    "# Сохранение модели\n",
    "trainer.save_model(output_dir + '/model')"
   ]
  },
  {
   "cell_type": "markdown",
   "id": "72ce1372",
   "metadata": {
    "cellId": "h2evvgxn7kra4dv2x4ham6",
    "execution_id": "6c66247b-e49f-4c27-b07b-90b0eed99cdf"
   },
   "source": [
    "### <a id='Генерация_2_14'>Генерация заголовков статей</a>"
   ]
  },
  {
   "cell_type": "code",
   "execution_count": 31,
   "id": "32374579",
   "metadata": {
    "cellId": "mp27bsjxfre62akbvhp0qn"
   },
   "outputs": [
    {
     "name": "stdout",
     "output_type": "stream",
     "text": [
      "Text:\n",
      "Сегодня утром в районах дагестанских селений Чабанмахи и Карамахи возобновились активные боевые действия подразделений внутренних войск МВД.  Как сообщили \"Интерфаксу\" во временном пресс-центре объединенной группировки Минобороны РФ в Дагестане, они встречают сильное огневое сопротивление со стороны экстремистов. Всего, по имеющимся в пресс-центре сведениям, группировка исламских боевиков в этом районе превышает 500 человек. Вчера в результате ожесточенного боя ими была выведена из строя боевая машина пехоты федеральных сил. Погибли двое и ранены еще двое военнослужащих. Вертолеты федеральных сил вчера нанесли 8 ракетных ударов по позициям боевиков в районах горы Чабан, а также в километре восточнее села Дуранги и в полутора километрах от того села. По боевым позициям исламистов также вела \"сосредоточенный огонь\" артиллерия.Удалось перехватить радиосообщений исламистов, в которых они просят о помощи у своих единомышленников в Чечне и Дагестане. 30 августа при продвижении из района населенного пункта Дуранги в направлении горы Чабан в результате ожесточенного боя противником выведена из строя боевая машина пехоты. Погибли двое и ранены еще двое военнослужащих. 30 августа вертолеты федеральных сил нанесли восемь ракетных ударов по позициям боевиков в районах горы Чабан, а также в километре восточнее села Дуранги и в полутора километрах от того села. По боевым позициям исламистов также вела \"сосредоточенный огонь\" артиллерия. По данным пресс-центра МВД, в боевых действиях у Карамахи и Чабанмахи, а также к югу от Доргели в течение 29-30 августа уничтожена зенитная установка исламистов, миномет с боевым расчетом, 2 склада боеприпасов, подавлены две огневые точки противника. Федеральные силы заняли позиции на высотах южнее населенного пункта Даргели и у перевала \"Волчьи ворота\". Задержан радист боевиков. По информации пресс-центра, за два дня операции потери внутренних войск МВД составили трое погибших и 31 раненый. В Ботлихском районе Дагестана подразделения МВД России во взаимодействии сотрудниками внутренних дел республики и ополченцами контролируют районы населенных пунктов Анди и Харами. Их задача - не допустить проникновения боевиков в эти районы. Продолжается разминирование этого района. За прошедшие сутки инженерными подразделениями обезврежено29 мин, 18 артиллерийских снарядов, 1 авиабомба и 113 гранат. В рамках плановой замены частей из Ботлихского района минувшей ночью была выведена парашютно-десантная часть Минобороны РФ. Во временном пресс-центре еще раз подчеркнули, что части Минобороны непосредственно в боевых действиях участия не принимают, а несут службу на внешних блок-постах. Министерство Обороны РФ открыло с сегодняшнего дня  телефонную \"горячую линию\", по которой с 8.00 до 20.00 можно будет узнавать об убитых, раненных и пропавших без вести в ходе боевых действий в Дагестане.\n",
      "Real title: В горах Дагестана идут активные боевые действия\n",
      "Pred title: В Дагестане возобновились боевые действия. По предварительным данным, в районах республики были убиты двое и ранены еще трое военнослужащих.\n"
     ]
    }
   ],
   "source": [
    "#!g2.2\n",
    "# Тестовые данные\n",
    "INX = 10\n",
    "input_text = dataset_test['text'][INX]\n",
    "input_title = dataset_test['title'][INX]\n",
    "\n",
    "with torch.no_grad():\n",
    "    tokenized_text = tokenizer(input_text, truncation=True, padding=True, return_tensors='pt').to('cuda')\n",
    "\n",
    "    source_ids = tokenized_text['input_ids'].to(dtype = torch.long)\n",
    "    source_mask = tokenized_text['attention_mask'].to(dtype = torch.long)\n",
    "\n",
    "    generated_ids = model.generate(\n",
    "        input_ids = source_ids,\n",
    "        attention_mask = source_mask, \n",
    "        max_length=512,\n",
    "        num_beams=7,\n",
    "        temperature = 1.3,\n",
    "        repetition_penalty=1, \n",
    "        length_penalty=1, \n",
    "        early_stopping=True,\n",
    "        no_repeat_ngram_size=2\n",
    "    )\n",
    "\n",
    "    pred = tokenizer.decode(generated_ids[0], skip_special_tokens=True, clean_up_tokenization_spaces=True)\n",
    "\n",
    "print(\"Text:\\n\" + input_text)\n",
    "print(\"Real title: \" + input_title)\n",
    "print(\"Pred title: \" + pred)"
   ]
  }
 ],
 "metadata": {
  "language_info": {
   "codemirror_mode": {
    "name": "ipython",
    "version": 3
   },
   "file_extension": ".py",
   "mimetype": "text/x-python",
   "name": "python",
   "nbconvert_exporter": "python",
   "pygments_lexer": "ipython3",
   "version": "3.7.7"
  },
  "notebookId": "7c746311-6118-4f08-a09f-12e23f1ac6a6",
  "notebookPath": "14_Transfer_learning/ДЗ_14.ipynb"
 },
 "nbformat": 4,
 "nbformat_minor": 5
}
