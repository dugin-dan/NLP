{
  "nbformat": 4,
  "nbformat_minor": 0,
  "metadata": {
    "colab": {
      "provenance": []
    },
    "kernelspec": {
      "name": "python3",
      "display_name": "Python 3"
    },
    "language_info": {
      "name": "python"
    }
  },
  "cells": [
    {
      "cell_type": "markdown",
      "source": [
        "# Курсовая. Бот"
      ],
      "metadata": {
        "id": "3NsZub5CWV8x"
      }
    },
    {
      "cell_type": "markdown",
      "source": [
        "## <a id='Задание'>Задание</a>\n",
        "\n",
        "- Продумать тему курсового проекта.\n",
        "- Подготовить данные для обучения.\n",
        "- Продумать интенты на которые вы будете обучаться.\n",
        "\n",
        "**Для сдачи задания необходимо написать**\n",
        "\n",
        "- на какую тему бот будет общаться (на каких датасетах планируете обучать модели),\n",
        "- на какие интенты вы будете обучать бота.\n",
        "\n",
        "**Из обязательных (всего обязательно 3-ри интента):**\n",
        "\n",
        "- ваш бот дожен работать в режиме болталка\n",
        "- на ваш выбор"
      ],
      "metadata": {
        "id": "fVcn7EocWbHt"
      }
    },
    {
      "cell_type": "markdown",
      "source": [
        "## <a id='Интенты'>Интенты</a>\n",
        "1. Болталка: чат-бот ведет диалог в стиле Игры престолов.\n",
        "2. Игра \"Угадай персонажа\"\n",
        "3. Генератор тем докладов.\n",
        "4. Прогноз погоды.\n",
        "5. Анализ отзыва о работе бота."
      ],
      "metadata": {
        "id": "qDB12qrvWoEt"
      }
    },
    {
      "cell_type": "code",
      "source": [
        "! pip install pymorphy2\n",
        "! pip install annoy\n",
        "! pip install stop_words\n",
        "!pip install wikipedia"
      ],
      "metadata": {
        "colab": {
          "base_uri": "https://localhost:8080/"
        },
        "id": "niYXvvdgXGN8",
        "outputId": "eda91781-d9d9-4e9c-fdcb-570dc80f0d91"
      },
      "execution_count": 2,
      "outputs": [
        {
          "output_type": "stream",
          "name": "stdout",
          "text": [
            "Looking in indexes: https://pypi.org/simple, https://us-python.pkg.dev/colab-wheels/public/simple/\n",
            "Collecting pymorphy2\n",
            "  Downloading pymorphy2-0.9.1-py3-none-any.whl (55 kB)\n",
            "\u001b[2K     \u001b[90m━━━━━━━━━━━━━━━━━━━━━━━━━━━━━━━━━━━━━━━━\u001b[0m \u001b[32m55.5/55.5 kB\u001b[0m \u001b[31m4.6 MB/s\u001b[0m eta \u001b[36m0:00:00\u001b[0m\n",
            "\u001b[?25hCollecting dawg-python>=0.7.1 (from pymorphy2)\n",
            "  Downloading DAWG_Python-0.7.2-py2.py3-none-any.whl (11 kB)\n",
            "Collecting pymorphy2-dicts-ru<3.0,>=2.4 (from pymorphy2)\n",
            "  Downloading pymorphy2_dicts_ru-2.4.417127.4579844-py2.py3-none-any.whl (8.2 MB)\n",
            "\u001b[2K     \u001b[90m━━━━━━━━━━━━━━━━━━━━━━━━━━━━━━━━━━━━━━━━\u001b[0m \u001b[32m8.2/8.2 MB\u001b[0m \u001b[31m98.7 MB/s\u001b[0m eta \u001b[36m0:00:00\u001b[0m\n",
            "\u001b[?25hCollecting docopt>=0.6 (from pymorphy2)\n",
            "  Downloading docopt-0.6.2.tar.gz (25 kB)\n",
            "  Preparing metadata (setup.py) ... \u001b[?25l\u001b[?25hdone\n",
            "Building wheels for collected packages: docopt\n",
            "  Building wheel for docopt (setup.py) ... \u001b[?25l\u001b[?25hdone\n",
            "  Created wheel for docopt: filename=docopt-0.6.2-py2.py3-none-any.whl size=13707 sha256=6407b5566eb74fb33aa261d1733aa808f1fef8a794adbd4e9b6cb362a1baf7bb\n",
            "  Stored in directory: /root/.cache/pip/wheels/fc/ab/d4/5da2067ac95b36618c629a5f93f809425700506f72c9732fac\n",
            "Successfully built docopt\n",
            "Installing collected packages: pymorphy2-dicts-ru, docopt, dawg-python, pymorphy2\n",
            "Successfully installed dawg-python-0.7.2 docopt-0.6.2 pymorphy2-0.9.1 pymorphy2-dicts-ru-2.4.417127.4579844\n",
            "Looking in indexes: https://pypi.org/simple, https://us-python.pkg.dev/colab-wheels/public/simple/\n",
            "Collecting annoy\n",
            "  Downloading annoy-1.17.3.tar.gz (647 kB)\n",
            "\u001b[2K     \u001b[90m━━━━━━━━━━━━━━━━━━━━━━━━━━━━━━━━━━━━━━\u001b[0m \u001b[32m647.5/647.5 kB\u001b[0m \u001b[31m36.1 MB/s\u001b[0m eta \u001b[36m0:00:00\u001b[0m\n",
            "\u001b[?25h  Preparing metadata (setup.py) ... \u001b[?25l\u001b[?25hdone\n",
            "Building wheels for collected packages: annoy\n",
            "  Building wheel for annoy (setup.py) ... \u001b[?25l\u001b[?25hdone\n",
            "  Created wheel for annoy: filename=annoy-1.17.3-cp310-cp310-linux_x86_64.whl size=583977 sha256=375bb0af0e556a01f1c3907877289020f304ab1151a728ec07070b11d20888ed\n",
            "  Stored in directory: /root/.cache/pip/wheels/64/8a/da/f714bcf46c5efdcfcac0559e63370c21abe961c48e3992465a\n",
            "Successfully built annoy\n",
            "Installing collected packages: annoy\n",
            "Successfully installed annoy-1.17.3\n",
            "Looking in indexes: https://pypi.org/simple, https://us-python.pkg.dev/colab-wheels/public/simple/\n",
            "Collecting stop_words\n",
            "  Downloading stop-words-2018.7.23.tar.gz (31 kB)\n",
            "  Preparing metadata (setup.py) ... \u001b[?25l\u001b[?25hdone\n",
            "Building wheels for collected packages: stop_words\n",
            "  Building wheel for stop_words (setup.py) ... \u001b[?25l\u001b[?25hdone\n",
            "  Created wheel for stop_words: filename=stop_words-2018.7.23-py3-none-any.whl size=32897 sha256=5f42db1b763653ee97444e714cbe7810345c143bc972698ad01bd8af89bd0be4\n",
            "  Stored in directory: /root/.cache/pip/wheels/d0/1a/23/f12552a50cb09bcc1694a5ebb6c2cd5f2a0311de2b8c3d9a89\n",
            "Successfully built stop_words\n",
            "Installing collected packages: stop_words\n",
            "Successfully installed stop_words-2018.7.23\n",
            "Looking in indexes: https://pypi.org/simple, https://us-python.pkg.dev/colab-wheels/public/simple/\n",
            "Collecting wikipedia\n",
            "  Downloading wikipedia-1.4.0.tar.gz (27 kB)\n",
            "  Preparing metadata (setup.py) ... \u001b[?25l\u001b[?25hdone\n",
            "Requirement already satisfied: beautifulsoup4 in /usr/local/lib/python3.10/dist-packages (from wikipedia) (4.11.2)\n",
            "Requirement already satisfied: requests<3.0.0,>=2.0.0 in /usr/local/lib/python3.10/dist-packages (from wikipedia) (2.27.1)\n",
            "Requirement already satisfied: urllib3<1.27,>=1.21.1 in /usr/local/lib/python3.10/dist-packages (from requests<3.0.0,>=2.0.0->wikipedia) (1.26.15)\n",
            "Requirement already satisfied: certifi>=2017.4.17 in /usr/local/lib/python3.10/dist-packages (from requests<3.0.0,>=2.0.0->wikipedia) (2022.12.7)\n",
            "Requirement already satisfied: charset-normalizer~=2.0.0 in /usr/local/lib/python3.10/dist-packages (from requests<3.0.0,>=2.0.0->wikipedia) (2.0.12)\n",
            "Requirement already satisfied: idna<4,>=2.5 in /usr/local/lib/python3.10/dist-packages (from requests<3.0.0,>=2.0.0->wikipedia) (3.4)\n",
            "Requirement already satisfied: soupsieve>1.2 in /usr/local/lib/python3.10/dist-packages (from beautifulsoup4->wikipedia) (2.4.1)\n",
            "Building wheels for collected packages: wikipedia\n",
            "  Building wheel for wikipedia (setup.py) ... \u001b[?25l\u001b[?25hdone\n",
            "  Created wheel for wikipedia: filename=wikipedia-1.4.0-py3-none-any.whl size=11680 sha256=0a1005b23a9c2ee2e9539f3b1c252742c763863717e312c84b76bab89bb6f9ca\n",
            "  Stored in directory: /root/.cache/pip/wheels/5e/b6/c5/93f3dec388ae76edc830cb42901bb0232504dfc0df02fc50de\n",
            "Successfully built wikipedia\n",
            "Installing collected packages: wikipedia\n",
            "Successfully installed wikipedia-1.4.0\n"
          ]
        }
      ]
    },
    {
      "cell_type": "code",
      "execution_count": 3,
      "metadata": {
        "id": "KU9EplfNHhni",
        "colab": {
          "base_uri": "https://localhost:8080/"
        },
        "outputId": "44b3bbac-8647-4e74-e4d8-678c89af4171"
      },
      "outputs": [
        {
          "output_type": "stream",
          "name": "stderr",
          "text": [
            "[nltk_data] Downloading package stopwords to /root/nltk_data...\n",
            "[nltk_data]   Unzipping corpora/stopwords.zip.\n",
            "[nltk_data] Downloading package punkt to /root/nltk_data...\n",
            "[nltk_data]   Unzipping tokenizers/punkt.zip.\n"
          ]
        }
      ],
      "source": [
        "from pathlib import Path\n",
        "import pandas as pd\n",
        "import numpy as np\n",
        "import random\n",
        "from tqdm import tqdm\n",
        "import string\n",
        "import io\n",
        "import chardet\n",
        "import os\n",
        "import codecs\n",
        "\n",
        "# import gensim.downloader as api\n",
        "from gensim.models import Word2Vec, FastText\n",
        "from pymorphy2 import MorphAnalyzer\n",
        "import annoy\n",
        "# import gensim.models\n",
        "\n",
        "from stop_words import get_stop_words\n",
        "import nltk\n",
        "import nltk.data\n",
        "from nltk.corpus import stopwords\n",
        "from nltk.tokenize import word_tokenize\n",
        "\n",
        "nltk.download('stopwords')\n",
        "nltk.download('punkt')\n",
        "\n",
        "import time\n",
        "import wikipedia\n",
        "wikipedia.set_lang(\"ru\")\n",
        "\n",
        "from sklearn.model_selection import train_test_split\n",
        "from string import punctuation\n",
        "from sklearn.preprocessing import LabelEncoder\n",
        "\n",
        "import re\n",
        "import annoy\n",
        "import pickle\n",
        "\n",
        "import tqdm\n",
        "from tqdm import tqdm_notebook"
      ]
    },
    {
      "cell_type": "code",
      "source": [
        "from keras.utils import pad_sequences\n",
        "from keras.utils import to_categorical\n",
        "from keras.losses import SparseCategoricalCrossentropy\n",
        "from keras.models import Sequential, Model\n",
        "from keras.layers import Dense, Dropout, Activation, Input, Embedding, Conv1D, GlobalMaxPool1D, MaxPool1D, SimpleRNN, LSTM, GRU, Masking, Flatten\n",
        "from keras.callbacks import TensorBoard\n",
        "from keras.callbacks import EarlyStopping\n",
        "from keras.preprocessing.text import Tokenizer"
      ],
      "metadata": {
        "id": "7VFLi9UMX9wE"
      },
      "execution_count": 4,
      "outputs": []
    },
    {
      "cell_type": "code",
      "source": [
        "# Преобразование данных\n",
        "\n",
        "morpher = MorphAnalyzer()\n",
        "sw = get_stop_words(\"ru\") + stopwords.words('russian')\n",
        "punkt = list(string.punctuation)\n",
        "exclude = set(string.punctuation)\n",
        "noise = set(sw + punkt)"
      ],
      "metadata": {
        "id": "Cta6xbwDAan3"
      },
      "execution_count": 5,
      "outputs": []
    },
    {
      "cell_type": "markdown",
      "source": [
        "## <a id='Болталка'>Болталка в стиле Игры престолов</a>"
      ],
      "metadata": {
        "id": "e3ku5BAqXg-C"
      }
    },
    {
      "cell_type": "code",
      "source": [
        "# Файл Игра престолов\n",
        "file = '1_igra-prestolov_utf.txt'"
      ],
      "metadata": {
        "id": "-GCQ8zF0ZdMN"
      },
      "execution_count": 4,
      "outputs": []
    },
    {
      "cell_type": "code",
      "source": [
        "# Загружаем данные\n",
        "\n",
        "with open(Path(DATA_PATH).joinpath(file), encoding='utf-8') as f:\n",
        "    data = f.read()"
      ],
      "metadata": {
        "id": "rNVV0xXmXloh"
      },
      "execution_count": 10,
      "outputs": []
    },
    {
      "cell_type": "code",
      "source": [
        "# Загружаем данные и сразу преобразуем их в токены\n",
        "tokenizer = nltk.data.load('tokenizers/punkt/russian.pickle')\n",
        "\n",
        "# Предложения вопросы\n",
        "tokens_q = tokenizer.tokenize(data)\n",
        "print(len(tokens_q)), print(tokens_q[:3])"
      ],
      "metadata": {
        "colab": {
          "base_uri": "https://localhost:8080/"
        },
        "id": "djT4Ypf7ZF1q",
        "outputId": "31014f74-7d94-463e-fb0c-1d1745cec44a"
      },
      "execution_count": 11,
      "outputs": [
        {
          "output_type": "stream",
          "name": "stdout",
          "text": [
            "6021\n",
            "['Джордж Мартин\\nИгра престолов\\nПосвящается Мелинде\\nПролог\\n–\\xa0Надо бы поворачивать,\\xa0– встревожился Гаред, как только лес вокруг них начал темнеть.', '– Одичалые мертвы.', '–\\xa0Неужели ты боишься покойников?']\n"
          ]
        },
        {
          "output_type": "execute_result",
          "data": {
            "text/plain": [
              "(None, None)"
            ]
          },
          "metadata": {},
          "execution_count": 11
        }
      ]
    },
    {
      "cell_type": "code",
      "source": [
        "# Предложения ответы: из получившегося списка вопросов формируем ответы -\n",
        "# каждое последующее предложение является ответом для предыдущего\n",
        "\n",
        "tokens_a = tokens_q[1:]\n",
        "tokens_a.append(tokens_q[:1])\n",
        "print(len(tokens_a)), print(tokens_a[:3])"
      ],
      "metadata": {
        "colab": {
          "base_uri": "https://localhost:8080/"
        },
        "id": "2nmFieFbZOly",
        "outputId": "e13d3787-0f73-4af8-d40e-41613457cc5a"
      },
      "execution_count": 12,
      "outputs": [
        {
          "output_type": "stream",
          "name": "stdout",
          "text": [
            "6021\n",
            "['– Одичалые мертвы.', '–\\xa0Неужели ты боишься покойников?', '– вопросил сир Уэймар Ройс с легким намеком на улыбку.']\n"
          ]
        },
        {
          "output_type": "execute_result",
          "data": {
            "text/plain": [
              "(None, None)"
            ]
          },
          "metadata": {},
          "execution_count": 12
        }
      ]
    },
    {
      "cell_type": "code",
      "source": [
        "df = pd.DataFrame({'question': tokens_q, 'answer': tokens_a})\n",
        "df"
      ],
      "metadata": {
        "colab": {
          "base_uri": "https://localhost:8080/",
          "height": 424
        },
        "id": "S_dAhtPTZRST",
        "outputId": "3829390b-cd77-4d87-c3bf-fc5c0f731bf7"
      },
      "execution_count": 13,
      "outputs": [
        {
          "output_type": "execute_result",
          "data": {
            "text/plain": [
              "                                               question  \\\n",
              "0     Джордж Мартин\\nИгра престолов\\nПосвящается Мел...   \n",
              "1                                    – Одичалые мертвы.   \n",
              "2                      – Неужели ты боишься покойников?   \n",
              "3     – вопросил сир Уэймар Ройс с легким намеком на...   \n",
              "4                           Гаред не попался на крючок.   \n",
              "...                                                 ...   \n",
              "6016  – Здесь и далее примеч. пер.\\n\\n\\n\\n\\n2\\n\\n\\nА...   \n",
              "6017                         3\\n\\n\\nСвободное владение.   \n",
              "6018  4\\n\\n\\n1 стоун = 14 фунтов, около 50 кг.\\n\\n\\n...   \n",
              "6019  6\\n\\n\\nстаринная английская мера длины, около ...   \n",
              "6020                                7\\n\\n\\nоколо 200 м.   \n",
              "\n",
              "                                                 answer  \n",
              "0                                    – Одичалые мертвы.  \n",
              "1                      – Неужели ты боишься покойников?  \n",
              "2     – вопросил сир Уэймар Ройс с легким намеком на...  \n",
              "3                           Гаред не попался на крючок.  \n",
              "4     За свои пятьдесят лет он успел навидаться, как...  \n",
              "...                                                 ...  \n",
              "6016                         3\\n\\n\\nСвободное владение.  \n",
              "6017  4\\n\\n\\n1 стоун = 14 фунтов, около 50 кг.\\n\\n\\n...  \n",
              "6018  6\\n\\n\\nстаринная английская мера длины, около ...  \n",
              "6019                                7\\n\\n\\nоколо 200 м.  \n",
              "6020  [Джордж Мартин\\nИгра престолов\\nПосвящается Ме...  \n",
              "\n",
              "[6021 rows x 2 columns]"
            ],
            "text/html": [
              "\n",
              "  <div id=\"df-5f1d5cb2-eb43-4501-8030-0990b89c2877\">\n",
              "    <div class=\"colab-df-container\">\n",
              "      <div>\n",
              "<style scoped>\n",
              "    .dataframe tbody tr th:only-of-type {\n",
              "        vertical-align: middle;\n",
              "    }\n",
              "\n",
              "    .dataframe tbody tr th {\n",
              "        vertical-align: top;\n",
              "    }\n",
              "\n",
              "    .dataframe thead th {\n",
              "        text-align: right;\n",
              "    }\n",
              "</style>\n",
              "<table border=\"1\" class=\"dataframe\">\n",
              "  <thead>\n",
              "    <tr style=\"text-align: right;\">\n",
              "      <th></th>\n",
              "      <th>question</th>\n",
              "      <th>answer</th>\n",
              "    </tr>\n",
              "  </thead>\n",
              "  <tbody>\n",
              "    <tr>\n",
              "      <th>0</th>\n",
              "      <td>Джордж Мартин\\nИгра престолов\\nПосвящается Мел...</td>\n",
              "      <td>– Одичалые мертвы.</td>\n",
              "    </tr>\n",
              "    <tr>\n",
              "      <th>1</th>\n",
              "      <td>– Одичалые мертвы.</td>\n",
              "      <td>– Неужели ты боишься покойников?</td>\n",
              "    </tr>\n",
              "    <tr>\n",
              "      <th>2</th>\n",
              "      <td>– Неужели ты боишься покойников?</td>\n",
              "      <td>– вопросил сир Уэймар Ройс с легким намеком на...</td>\n",
              "    </tr>\n",
              "    <tr>\n",
              "      <th>3</th>\n",
              "      <td>– вопросил сир Уэймар Ройс с легким намеком на...</td>\n",
              "      <td>Гаред не попался на крючок.</td>\n",
              "    </tr>\n",
              "    <tr>\n",
              "      <th>4</th>\n",
              "      <td>Гаред не попался на крючок.</td>\n",
              "      <td>За свои пятьдесят лет он успел навидаться, как...</td>\n",
              "    </tr>\n",
              "    <tr>\n",
              "      <th>...</th>\n",
              "      <td>...</td>\n",
              "      <td>...</td>\n",
              "    </tr>\n",
              "    <tr>\n",
              "      <th>6016</th>\n",
              "      <td>– Здесь и далее примеч. пер.\\n\\n\\n\\n\\n2\\n\\n\\nА...</td>\n",
              "      <td>3\\n\\n\\nСвободное владение.</td>\n",
              "    </tr>\n",
              "    <tr>\n",
              "      <th>6017</th>\n",
              "      <td>3\\n\\n\\nСвободное владение.</td>\n",
              "      <td>4\\n\\n\\n1 стоун = 14 фунтов, около 50 кг.\\n\\n\\n...</td>\n",
              "    </tr>\n",
              "    <tr>\n",
              "      <th>6018</th>\n",
              "      <td>4\\n\\n\\n1 стоун = 14 фунтов, около 50 кг.\\n\\n\\n...</td>\n",
              "      <td>6\\n\\n\\nстаринная английская мера длины, около ...</td>\n",
              "    </tr>\n",
              "    <tr>\n",
              "      <th>6019</th>\n",
              "      <td>6\\n\\n\\nстаринная английская мера длины, около ...</td>\n",
              "      <td>7\\n\\n\\nоколо 200 м.</td>\n",
              "    </tr>\n",
              "    <tr>\n",
              "      <th>6020</th>\n",
              "      <td>7\\n\\n\\nоколо 200 м.</td>\n",
              "      <td>[Джордж Мартин\\nИгра престолов\\nПосвящается Ме...</td>\n",
              "    </tr>\n",
              "  </tbody>\n",
              "</table>\n",
              "<p>6021 rows × 2 columns</p>\n",
              "</div>\n",
              "      <button class=\"colab-df-convert\" onclick=\"convertToInteractive('df-5f1d5cb2-eb43-4501-8030-0990b89c2877')\"\n",
              "              title=\"Convert this dataframe to an interactive table.\"\n",
              "              style=\"display:none;\">\n",
              "        \n",
              "  <svg xmlns=\"http://www.w3.org/2000/svg\" height=\"24px\"viewBox=\"0 0 24 24\"\n",
              "       width=\"24px\">\n",
              "    <path d=\"M0 0h24v24H0V0z\" fill=\"none\"/>\n",
              "    <path d=\"M18.56 5.44l.94 2.06.94-2.06 2.06-.94-2.06-.94-.94-2.06-.94 2.06-2.06.94zm-11 1L8.5 8.5l.94-2.06 2.06-.94-2.06-.94L8.5 2.5l-.94 2.06-2.06.94zm10 10l.94 2.06.94-2.06 2.06-.94-2.06-.94-.94-2.06-.94 2.06-2.06.94z\"/><path d=\"M17.41 7.96l-1.37-1.37c-.4-.4-.92-.59-1.43-.59-.52 0-1.04.2-1.43.59L10.3 9.45l-7.72 7.72c-.78.78-.78 2.05 0 2.83L4 21.41c.39.39.9.59 1.41.59.51 0 1.02-.2 1.41-.59l7.78-7.78 2.81-2.81c.8-.78.8-2.07 0-2.86zM5.41 20L4 18.59l7.72-7.72 1.47 1.35L5.41 20z\"/>\n",
              "  </svg>\n",
              "      </button>\n",
              "      \n",
              "  <style>\n",
              "    .colab-df-container {\n",
              "      display:flex;\n",
              "      flex-wrap:wrap;\n",
              "      gap: 12px;\n",
              "    }\n",
              "\n",
              "    .colab-df-convert {\n",
              "      background-color: #E8F0FE;\n",
              "      border: none;\n",
              "      border-radius: 50%;\n",
              "      cursor: pointer;\n",
              "      display: none;\n",
              "      fill: #1967D2;\n",
              "      height: 32px;\n",
              "      padding: 0 0 0 0;\n",
              "      width: 32px;\n",
              "    }\n",
              "\n",
              "    .colab-df-convert:hover {\n",
              "      background-color: #E2EBFA;\n",
              "      box-shadow: 0px 1px 2px rgba(60, 64, 67, 0.3), 0px 1px 3px 1px rgba(60, 64, 67, 0.15);\n",
              "      fill: #174EA6;\n",
              "    }\n",
              "\n",
              "    [theme=dark] .colab-df-convert {\n",
              "      background-color: #3B4455;\n",
              "      fill: #D2E3FC;\n",
              "    }\n",
              "\n",
              "    [theme=dark] .colab-df-convert:hover {\n",
              "      background-color: #434B5C;\n",
              "      box-shadow: 0px 1px 3px 1px rgba(0, 0, 0, 0.15);\n",
              "      filter: drop-shadow(0px 1px 2px rgba(0, 0, 0, 0.3));\n",
              "      fill: #FFFFFF;\n",
              "    }\n",
              "  </style>\n",
              "\n",
              "      <script>\n",
              "        const buttonEl =\n",
              "          document.querySelector('#df-5f1d5cb2-eb43-4501-8030-0990b89c2877 button.colab-df-convert');\n",
              "        buttonEl.style.display =\n",
              "          google.colab.kernel.accessAllowed ? 'block' : 'none';\n",
              "\n",
              "        async function convertToInteractive(key) {\n",
              "          const element = document.querySelector('#df-5f1d5cb2-eb43-4501-8030-0990b89c2877');\n",
              "          const dataTable =\n",
              "            await google.colab.kernel.invokeFunction('convertToInteractive',\n",
              "                                                     [key], {});\n",
              "          if (!dataTable) return;\n",
              "\n",
              "          const docLinkHtml = 'Like what you see? Visit the ' +\n",
              "            '<a target=\"_blank\" href=https://colab.research.google.com/notebooks/data_table.ipynb>data table notebook</a>'\n",
              "            + ' to learn more about interactive tables.';\n",
              "          element.innerHTML = '';\n",
              "          dataTable['output_type'] = 'display_data';\n",
              "          await google.colab.output.renderOutput(dataTable, element);\n",
              "          const docLink = document.createElement('div');\n",
              "          docLink.innerHTML = docLinkHtml;\n",
              "          element.appendChild(docLink);\n",
              "        }\n",
              "      </script>\n",
              "    </div>\n",
              "  </div>\n",
              "  "
            ]
          },
          "metadata": {},
          "execution_count": 13
        }
      ]
    },
    {
      "cell_type": "code",
      "source": [
        "# Функция преобразования текста\n",
        "\n",
        "def preprocess_txt(text):\n",
        "    return [t for t in [morpher.parse(token)[0].normal_form\n",
        "                                for token in word_tokenize(text)] if t not in noise]\n",
        "\n",
        "\n",
        "def start_prep(data):\n",
        "    result = []\n",
        "\n",
        "    for text in tqdm(data):\n",
        "      prep = preprocess_txt(text)\n",
        "      result.append(prep)\n",
        "\n",
        "    return result"
      ],
      "metadata": {
        "id": "TAevaYvbZ4E6"
      },
      "execution_count": 14,
      "outputs": []
    },
    {
      "cell_type": "code",
      "source": [
        "# Процедура поиска ближайших вопросов\n",
        "def get_model_index(model):\n",
        "    model_index = annoy.AnnoyIndex(300 ,'angular') # поиск ближайших соседей\n",
        "\n",
        "    index_map = {}\n",
        "    counter = 0\n",
        "\n",
        "    for question in df.question:\n",
        "        n_model = 0\n",
        "        index_map[counter] = question\n",
        "        que_prep = preprocess_txt(question)\n",
        "\n",
        "        vector_model = np.zeros(300) #вектор твита\n",
        "\n",
        "        for word in que_prep:\n",
        "            if word in model:\n",
        "                vector_model += model[word]\n",
        "                n_model += 1\n",
        "\n",
        "        if n_model > 0:\n",
        "            vector_model = vector_model / n_model #нормализуем вектор=\n",
        "\n",
        "        model_index.add_item(counter, vector_model) #добавляем элемент для индексации\n",
        "\n",
        "        counter += 1\n",
        "\n",
        "        if counter > 100000:\n",
        "            break\n",
        "\n",
        "    model_index.build(100) #из индексов создаем кластеры\n",
        "    return model_index, index_map"
      ],
      "metadata": {
        "id": "b_p4iWpMZ7Pb"
      },
      "execution_count": 15,
      "outputs": []
    },
    {
      "cell_type": "code",
      "source": [
        "# Функция поиска ближайших соседей\n",
        "def get_response(que, index, model, index_map, df):\n",
        "    token = preprocess_txt(que)\n",
        "    vector = np.zeros(300)\n",
        "    norm = 0\n",
        "\n",
        "    for word in token:\n",
        "        if word in model:\n",
        "            vector += model[word]\n",
        "            norm += 1\n",
        "    if norm > 0:\n",
        "        vector = vector / norm\n",
        "    similar_que = index.get_nns_by_vector(vector, 15, include_distances=True)\n",
        "\n",
        "    result = pd.DataFrame({'question': [index_map[i]  for i in similar_que[0]],\n",
        "                           'distance' : similar_que[1], 'answer': [df[df.index == i].answer.values[0] for i in similar_que[0]]})\n",
        "\n",
        "\n",
        "    return result"
      ],
      "metadata": {
        "id": "XQjQ6MSjZ-CZ"
      },
      "execution_count": 16,
      "outputs": []
    },
    {
      "cell_type": "code",
      "source": [
        "tokens = start_prep(df.question)\n",
        "modelFT = FastText(sentences=tokens, vector_size=300, min_count=1, window=5, workers=8)\n",
        "ft_index, index_map = get_model_index(modelFT.wv)"
      ],
      "metadata": {
        "colab": {
          "base_uri": "https://localhost:8080/"
        },
        "id": "qR1hTsYuaBSL",
        "outputId": "6c806b97-1424-4f5f-a0db-fe87bd50084a"
      },
      "execution_count": 17,
      "outputs": [
        {
          "output_type": "stream",
          "name": "stderr",
          "text": [
            "100%|██████████| 6021/6021 [00:16<00:00, 367.14it/s]\n"
          ]
        }
      ]
    },
    {
      "cell_type": "markdown",
      "source": [
        "Пример работы модели"
      ],
      "metadata": {
        "id": "xpyXwgtja4PA"
      }
    },
    {
      "cell_type": "code",
      "source": [
        "smp = 'Тирион?'\n",
        "\n",
        "print(smp)\n",
        "# get_response(smp, ft_index, modelFT.wv, index_map, df)\n",
        "\n",
        "# single answer\n",
        "rand = random.randint(0,14)\n",
        "resp = get_response(smp, ft_index, modelFT.wv, index_map, df)\n",
        "print(resp.answer.values[rand])"
      ],
      "metadata": {
        "colab": {
          "base_uri": "https://localhost:8080/"
        },
        "id": "5bTxY89-aDq4",
        "outputId": "661695ff-45da-43b8-b527-ceeebaea4f56"
      },
      "execution_count": 18,
      "outputs": [
        {
          "output_type": "stream",
          "name": "stdout",
          "text": [
            "Тирион?\n",
            "Лорд-командующий выделил ему комнаты в Королевской башне, носившей это имя, несмотря на то что ни один король не посещал ее целый век.\n"
          ]
        }
      ]
    },
    {
      "cell_type": "markdown",
      "source": [
        "## <a id='Угадай_персонажа'>Игра \"Угадай персонажа\"</a>"
      ],
      "metadata": {
        "id": "cyNYnXy_YZS6"
      }
    },
    {
      "cell_type": "markdown",
      "source": [
        "Пользователь вводит описание персонажа, модель делает предсказание, к кому из персонажей это описание может относиться."
      ],
      "metadata": {
        "id": "fbo8FfiLlfWy"
      }
    },
    {
      "cell_type": "code",
      "source": [
        "# В качестве данных возьмем wiki описание персонажей Властелина колец\n",
        "heroes = ['Тирион', 'Бран', 'Дейенерис', 'Эддард (Нед) Старк', 'Джейме', 'Серсея', 'Кейтилин',\n",
        "          'Джон Сноу', 'Арья', 'Санса', 'Петир Бейлиш', 'Варис']\n",
        "\n",
        "heroes_data = {'description': [],\n",
        "               'character': []}\n",
        "\n",
        "for hero in tqdm(heroes):\n",
        "  wiki = wikipedia.search(hero)\n",
        "  ans = wikipedia.page(wiki[0]).content\n",
        "  heroes_data['description'].append(ans)\n",
        "  heroes_data['character'].append(hero)"
      ],
      "metadata": {
        "colab": {
          "base_uri": "https://localhost:8080/"
        },
        "id": "qPsStTdUlbrm",
        "outputId": "8a8e1cfe-de68-4b9b-c7e1-0e68b14201b5"
      },
      "execution_count": 19,
      "outputs": [
        {
          "output_type": "stream",
          "name": "stderr",
          "text": [
            "100%|██████████| 12/12 [00:13<00:00,  1.12s/it]\n"
          ]
        }
      ]
    },
    {
      "cell_type": "code",
      "source": [
        "df_heroes = pd.DataFrame.from_dict(heroes_data)\n",
        "df_heroes.head(2)"
      ],
      "metadata": {
        "colab": {
          "base_uri": "https://localhost:8080/",
          "height": 112
        },
        "id": "KNdSBxU-mxQw",
        "outputId": "5441a9c7-5ba1-4b7c-a4a1-0a1ec2044eb4"
      },
      "execution_count": 20,
      "outputs": [
        {
          "output_type": "execute_result",
          "data": {
            "text/plain": [
              "                                         description character\n",
              "0  Ти́рион Ла́ннистер (англ. Tyrion Lannister) — ...    Тирион\n",
              "1  Замок Бран (рум. Castelul Bran, нем. Törzburg,...      Бран"
            ],
            "text/html": [
              "\n",
              "  <div id=\"df-6acd5272-464f-41c7-9700-509281c49826\">\n",
              "    <div class=\"colab-df-container\">\n",
              "      <div>\n",
              "<style scoped>\n",
              "    .dataframe tbody tr th:only-of-type {\n",
              "        vertical-align: middle;\n",
              "    }\n",
              "\n",
              "    .dataframe tbody tr th {\n",
              "        vertical-align: top;\n",
              "    }\n",
              "\n",
              "    .dataframe thead th {\n",
              "        text-align: right;\n",
              "    }\n",
              "</style>\n",
              "<table border=\"1\" class=\"dataframe\">\n",
              "  <thead>\n",
              "    <tr style=\"text-align: right;\">\n",
              "      <th></th>\n",
              "      <th>description</th>\n",
              "      <th>character</th>\n",
              "    </tr>\n",
              "  </thead>\n",
              "  <tbody>\n",
              "    <tr>\n",
              "      <th>0</th>\n",
              "      <td>Ти́рион Ла́ннистер (англ. Tyrion Lannister) — ...</td>\n",
              "      <td>Тирион</td>\n",
              "    </tr>\n",
              "    <tr>\n",
              "      <th>1</th>\n",
              "      <td>Замок Бран (рум. Castelul Bran, нем. Törzburg,...</td>\n",
              "      <td>Бран</td>\n",
              "    </tr>\n",
              "  </tbody>\n",
              "</table>\n",
              "</div>\n",
              "      <button class=\"colab-df-convert\" onclick=\"convertToInteractive('df-6acd5272-464f-41c7-9700-509281c49826')\"\n",
              "              title=\"Convert this dataframe to an interactive table.\"\n",
              "              style=\"display:none;\">\n",
              "        \n",
              "  <svg xmlns=\"http://www.w3.org/2000/svg\" height=\"24px\"viewBox=\"0 0 24 24\"\n",
              "       width=\"24px\">\n",
              "    <path d=\"M0 0h24v24H0V0z\" fill=\"none\"/>\n",
              "    <path d=\"M18.56 5.44l.94 2.06.94-2.06 2.06-.94-2.06-.94-.94-2.06-.94 2.06-2.06.94zm-11 1L8.5 8.5l.94-2.06 2.06-.94-2.06-.94L8.5 2.5l-.94 2.06-2.06.94zm10 10l.94 2.06.94-2.06 2.06-.94-2.06-.94-.94-2.06-.94 2.06-2.06.94z\"/><path d=\"M17.41 7.96l-1.37-1.37c-.4-.4-.92-.59-1.43-.59-.52 0-1.04.2-1.43.59L10.3 9.45l-7.72 7.72c-.78.78-.78 2.05 0 2.83L4 21.41c.39.39.9.59 1.41.59.51 0 1.02-.2 1.41-.59l7.78-7.78 2.81-2.81c.8-.78.8-2.07 0-2.86zM5.41 20L4 18.59l7.72-7.72 1.47 1.35L5.41 20z\"/>\n",
              "  </svg>\n",
              "      </button>\n",
              "      \n",
              "  <style>\n",
              "    .colab-df-container {\n",
              "      display:flex;\n",
              "      flex-wrap:wrap;\n",
              "      gap: 12px;\n",
              "    }\n",
              "\n",
              "    .colab-df-convert {\n",
              "      background-color: #E8F0FE;\n",
              "      border: none;\n",
              "      border-radius: 50%;\n",
              "      cursor: pointer;\n",
              "      display: none;\n",
              "      fill: #1967D2;\n",
              "      height: 32px;\n",
              "      padding: 0 0 0 0;\n",
              "      width: 32px;\n",
              "    }\n",
              "\n",
              "    .colab-df-convert:hover {\n",
              "      background-color: #E2EBFA;\n",
              "      box-shadow: 0px 1px 2px rgba(60, 64, 67, 0.3), 0px 1px 3px 1px rgba(60, 64, 67, 0.15);\n",
              "      fill: #174EA6;\n",
              "    }\n",
              "\n",
              "    [theme=dark] .colab-df-convert {\n",
              "      background-color: #3B4455;\n",
              "      fill: #D2E3FC;\n",
              "    }\n",
              "\n",
              "    [theme=dark] .colab-df-convert:hover {\n",
              "      background-color: #434B5C;\n",
              "      box-shadow: 0px 1px 3px 1px rgba(0, 0, 0, 0.15);\n",
              "      filter: drop-shadow(0px 1px 2px rgba(0, 0, 0, 0.3));\n",
              "      fill: #FFFFFF;\n",
              "    }\n",
              "  </style>\n",
              "\n",
              "      <script>\n",
              "        const buttonEl =\n",
              "          document.querySelector('#df-6acd5272-464f-41c7-9700-509281c49826 button.colab-df-convert');\n",
              "        buttonEl.style.display =\n",
              "          google.colab.kernel.accessAllowed ? 'block' : 'none';\n",
              "\n",
              "        async function convertToInteractive(key) {\n",
              "          const element = document.querySelector('#df-6acd5272-464f-41c7-9700-509281c49826');\n",
              "          const dataTable =\n",
              "            await google.colab.kernel.invokeFunction('convertToInteractive',\n",
              "                                                     [key], {});\n",
              "          if (!dataTable) return;\n",
              "\n",
              "          const docLinkHtml = 'Like what you see? Visit the ' +\n",
              "            '<a target=\"_blank\" href=https://colab.research.google.com/notebooks/data_table.ipynb>data table notebook</a>'\n",
              "            + ' to learn more about interactive tables.';\n",
              "          element.innerHTML = '';\n",
              "          dataTable['output_type'] = 'display_data';\n",
              "          await google.colab.output.renderOutput(dataTable, element);\n",
              "          const docLink = document.createElement('div');\n",
              "          docLink.innerHTML = docLinkHtml;\n",
              "          element.appendChild(docLink);\n",
              "        }\n",
              "      </script>\n",
              "    </div>\n",
              "  </div>\n",
              "  "
            ]
          },
          "metadata": {},
          "execution_count": 20
        }
      ]
    },
    {
      "cell_type": "code",
      "source": [
        "# Преобразование данных\n",
        "sw = set(get_stop_words(\"ru\"))\n",
        "exclude = set(punctuation)\n",
        "cats = set(df_heroes.character.str.lower().to_list()) # исключаем из обучающих текстов имена самих персонажей\n",
        "morpher = MorphAnalyzer()\n",
        "\n",
        "def preprocess_text(txt):\n",
        "    #print('raw: ', txt)\n",
        "    txt = str(txt)\n",
        "    #print('to str: ', txt)\n",
        "    txt = txt.lower()\n",
        "    #print('lower: ', txt)\n",
        "    txt = ''.join([i for i in txt if not i.isdigit()])\n",
        "    #print('no digits: ', txt)\n",
        "    #txt = ''.join([i for i in txt if i.isalpha()])\n",
        "    txt = re.sub('[()!@#$\"«»/]', '', txt)\n",
        "    #print('no sym: ', txt)\n",
        "    txt = \"\".join(c for c in txt if c not in exclude)\n",
        "    #print('exclude: ', txt)\n",
        "    txt = [morpher.parse(word)[0].normal_form for word in txt.split(' ') if word not in sw]\n",
        "    #print('morpher: ', txt)\n",
        "    txt = \" \".join(c for c in txt if c not in cats)\n",
        "    #print('wo cats: ', txt)\n",
        "    return \"\".join(txt)"
      ],
      "metadata": {
        "id": "DWisxXHUm5DN"
      },
      "execution_count": 21,
      "outputs": []
    },
    {
      "cell_type": "code",
      "source": [
        "tqdm.pandas()\n",
        "df_heroes['description'] = df_heroes['description'].progress_apply(preprocess_text)"
      ],
      "metadata": {
        "colab": {
          "base_uri": "https://localhost:8080/"
        },
        "id": "6BLeIMWCnYkQ",
        "outputId": "ad0950c4-417e-4ea9-8fe7-d4475fe29c56"
      },
      "execution_count": 22,
      "outputs": [
        {
          "output_type": "stream",
          "name": "stderr",
          "text": [
            "100%|██████████| 12/12 [00:03<00:00,  3.97it/s]\n"
          ]
        }
      ]
    },
    {
      "cell_type": "code",
      "source": [
        "df_heroes['description'].sample(2)"
      ],
      "metadata": {
        "colab": {
          "base_uri": "https://localhost:8080/"
        },
        "id": "wPuLQPz1ncUc",
        "outputId": "cbedb06e-7615-44fd-f74b-3bc8339cb181"
      },
      "execution_count": 23,
      "outputs": [
        {
          "output_type": "execute_result",
          "data": {
            "text/plain": [
              "3    э́ддард нед старк  — персонаж роман американск...\n",
              "1    замок браный рум castelul bran törzburg венг t...\n",
              "Name: description, dtype: object"
            ]
          },
          "metadata": {},
          "execution_count": 23
        }
      ]
    },
    {
      "cell_type": "code",
      "source": [
        "# Проведем токенизацию по 3-ем словам\n",
        "upd_df2 = {'description': [],\n",
        "           'character': []}\n",
        "\n",
        "for char in df_heroes.character.unique():\n",
        "  data = df_heroes[df_heroes.character == char].description.to_list()\n",
        "  for d in data:\n",
        "    desc = tokenizer.tokenize(d)\n",
        "    for el in desc:\n",
        "      #print(el)\n",
        "      el = el.replace('—', ' ')\n",
        "      el = re.sub('[a-zA-Z]', '', el)\n",
        "      words = el.split(' ')\n",
        "      words = [word for word in words if word != '']\n",
        "      words = [word for word in words if len(word) >= 3]\n",
        "      #print(words)\n",
        "      n_min = 0\n",
        "      n_max = len(words)\n",
        "\n",
        "      while n_min != n_max-2:\n",
        "        tok = [''.join(word) for word in words[n_min:n_min+3]]\n",
        "        n_min += 1\n",
        "        #print(tok)\n",
        "\n",
        "        upd_df2['description'].append(preprocess_text(tok))\n",
        "        upd_df2['character'].append(char)"
      ],
      "metadata": {
        "id": "x0xW2OPxnxh5"
      },
      "execution_count": 24,
      "outputs": []
    },
    {
      "cell_type": "code",
      "source": [
        "df2 = pd.DataFrame.from_dict(upd_df2)\n",
        "df2.sample(2)"
      ],
      "metadata": {
        "colab": {
          "base_uri": "https://localhost:8080/",
          "height": 112
        },
        "id": "AMbnUXt2n1Jj",
        "outputId": "aced483e-bdec-4921-a127-ac9ec621f862"
      },
      "execution_count": 25,
      "outputs": [
        {
          "output_type": "execute_result",
          "data": {
            "text/plain": [
              "                     description character\n",
              "3218        открытый чёрный рыба    Джейме\n",
              "4897  королевский гавань наёмник    Серсея"
            ],
            "text/html": [
              "\n",
              "  <div id=\"df-174e0122-54d2-4512-80be-96d986dba112\">\n",
              "    <div class=\"colab-df-container\">\n",
              "      <div>\n",
              "<style scoped>\n",
              "    .dataframe tbody tr th:only-of-type {\n",
              "        vertical-align: middle;\n",
              "    }\n",
              "\n",
              "    .dataframe tbody tr th {\n",
              "        vertical-align: top;\n",
              "    }\n",
              "\n",
              "    .dataframe thead th {\n",
              "        text-align: right;\n",
              "    }\n",
              "</style>\n",
              "<table border=\"1\" class=\"dataframe\">\n",
              "  <thead>\n",
              "    <tr style=\"text-align: right;\">\n",
              "      <th></th>\n",
              "      <th>description</th>\n",
              "      <th>character</th>\n",
              "    </tr>\n",
              "  </thead>\n",
              "  <tbody>\n",
              "    <tr>\n",
              "      <th>3218</th>\n",
              "      <td>открытый чёрный рыба</td>\n",
              "      <td>Джейме</td>\n",
              "    </tr>\n",
              "    <tr>\n",
              "      <th>4897</th>\n",
              "      <td>королевский гавань наёмник</td>\n",
              "      <td>Серсея</td>\n",
              "    </tr>\n",
              "  </tbody>\n",
              "</table>\n",
              "</div>\n",
              "      <button class=\"colab-df-convert\" onclick=\"convertToInteractive('df-174e0122-54d2-4512-80be-96d986dba112')\"\n",
              "              title=\"Convert this dataframe to an interactive table.\"\n",
              "              style=\"display:none;\">\n",
              "        \n",
              "  <svg xmlns=\"http://www.w3.org/2000/svg\" height=\"24px\"viewBox=\"0 0 24 24\"\n",
              "       width=\"24px\">\n",
              "    <path d=\"M0 0h24v24H0V0z\" fill=\"none\"/>\n",
              "    <path d=\"M18.56 5.44l.94 2.06.94-2.06 2.06-.94-2.06-.94-.94-2.06-.94 2.06-2.06.94zm-11 1L8.5 8.5l.94-2.06 2.06-.94-2.06-.94L8.5 2.5l-.94 2.06-2.06.94zm10 10l.94 2.06.94-2.06 2.06-.94-2.06-.94-.94-2.06-.94 2.06-2.06.94z\"/><path d=\"M17.41 7.96l-1.37-1.37c-.4-.4-.92-.59-1.43-.59-.52 0-1.04.2-1.43.59L10.3 9.45l-7.72 7.72c-.78.78-.78 2.05 0 2.83L4 21.41c.39.39.9.59 1.41.59.51 0 1.02-.2 1.41-.59l7.78-7.78 2.81-2.81c.8-.78.8-2.07 0-2.86zM5.41 20L4 18.59l7.72-7.72 1.47 1.35L5.41 20z\"/>\n",
              "  </svg>\n",
              "      </button>\n",
              "      \n",
              "  <style>\n",
              "    .colab-df-container {\n",
              "      display:flex;\n",
              "      flex-wrap:wrap;\n",
              "      gap: 12px;\n",
              "    }\n",
              "\n",
              "    .colab-df-convert {\n",
              "      background-color: #E8F0FE;\n",
              "      border: none;\n",
              "      border-radius: 50%;\n",
              "      cursor: pointer;\n",
              "      display: none;\n",
              "      fill: #1967D2;\n",
              "      height: 32px;\n",
              "      padding: 0 0 0 0;\n",
              "      width: 32px;\n",
              "    }\n",
              "\n",
              "    .colab-df-convert:hover {\n",
              "      background-color: #E2EBFA;\n",
              "      box-shadow: 0px 1px 2px rgba(60, 64, 67, 0.3), 0px 1px 3px 1px rgba(60, 64, 67, 0.15);\n",
              "      fill: #174EA6;\n",
              "    }\n",
              "\n",
              "    [theme=dark] .colab-df-convert {\n",
              "      background-color: #3B4455;\n",
              "      fill: #D2E3FC;\n",
              "    }\n",
              "\n",
              "    [theme=dark] .colab-df-convert:hover {\n",
              "      background-color: #434B5C;\n",
              "      box-shadow: 0px 1px 3px 1px rgba(0, 0, 0, 0.15);\n",
              "      filter: drop-shadow(0px 1px 2px rgba(0, 0, 0, 0.3));\n",
              "      fill: #FFFFFF;\n",
              "    }\n",
              "  </style>\n",
              "\n",
              "      <script>\n",
              "        const buttonEl =\n",
              "          document.querySelector('#df-174e0122-54d2-4512-80be-96d986dba112 button.colab-df-convert');\n",
              "        buttonEl.style.display =\n",
              "          google.colab.kernel.accessAllowed ? 'block' : 'none';\n",
              "\n",
              "        async function convertToInteractive(key) {\n",
              "          const element = document.querySelector('#df-174e0122-54d2-4512-80be-96d986dba112');\n",
              "          const dataTable =\n",
              "            await google.colab.kernel.invokeFunction('convertToInteractive',\n",
              "                                                     [key], {});\n",
              "          if (!dataTable) return;\n",
              "\n",
              "          const docLinkHtml = 'Like what you see? Visit the ' +\n",
              "            '<a target=\"_blank\" href=https://colab.research.google.com/notebooks/data_table.ipynb>data table notebook</a>'\n",
              "            + ' to learn more about interactive tables.';\n",
              "          element.innerHTML = '';\n",
              "          dataTable['output_type'] = 'display_data';\n",
              "          await google.colab.output.renderOutput(dataTable, element);\n",
              "          const docLink = document.createElement('div');\n",
              "          docLink.innerHTML = docLinkHtml;\n",
              "          element.appendChild(docLink);\n",
              "        }\n",
              "      </script>\n",
              "    </div>\n",
              "  </div>\n",
              "  "
            ]
          },
          "metadata": {},
          "execution_count": 25
        }
      ]
    },
    {
      "cell_type": "code",
      "source": [
        "df2.shape"
      ],
      "metadata": {
        "colab": {
          "base_uri": "https://localhost:8080/"
        },
        "id": "7dQbDgD7n2uw",
        "outputId": "5a68891a-e69f-475c-c4fe-f891f2b0ce41"
      },
      "execution_count": 26,
      "outputs": [
        {
          "output_type": "execute_result",
          "data": {
            "text/plain": [
              "(12720, 2)"
            ]
          },
          "metadata": {},
          "execution_count": 26
        }
      ]
    },
    {
      "cell_type": "code",
      "source": [
        "df2 = df2.drop_duplicates(subset=['description'], keep='first')\n",
        "df2.shape"
      ],
      "metadata": {
        "colab": {
          "base_uri": "https://localhost:8080/"
        },
        "id": "SBRwRgEsn4Pd",
        "outputId": "05177805-6939-426f-dc74-f212bc4c8743"
      },
      "execution_count": 27,
      "outputs": [
        {
          "output_type": "execute_result",
          "data": {
            "text/plain": [
              "(11964, 2)"
            ]
          },
          "metadata": {},
          "execution_count": 27
        }
      ]
    },
    {
      "cell_type": "code",
      "source": [
        "# Разбиваем на трейн и тест\n",
        "df_train, df_test = train_test_split(df2, test_size=0.10, random_state=42)\n",
        "df_train = df_train.reset_index(drop=True)\n",
        "df_test = df_test.reset_index(drop=True)\n",
        "df_train.shape, df_test.shape"
      ],
      "metadata": {
        "colab": {
          "base_uri": "https://localhost:8080/"
        },
        "id": "yxn2qtyFn8bA",
        "outputId": "25353878-9bfb-417e-aedd-ef91399eeec4"
      },
      "execution_count": 28,
      "outputs": [
        {
          "output_type": "execute_result",
          "data": {
            "text/plain": [
              "((10767, 2), (1197, 2))"
            ]
          },
          "metadata": {},
          "execution_count": 28
        }
      ]
    },
    {
      "cell_type": "code",
      "source": [
        "df_train['description'].sample(5)"
      ],
      "metadata": {
        "colab": {
          "base_uri": "https://localhost:8080/"
        },
        "id": "2Xxk7_RqoAQp",
        "outputId": "ea2410cd-bccf-4244-d25c-49124a07f859"
      },
      "execution_count": 29,
      "outputs": [
        {
          "output_type": "execute_result",
          "data": {
            "text/plain": [
              "9239                  лианный старк мать\n",
              "2408           прозвище мизинец являться\n",
              "5390    поединок потерпеть предсказуемый\n",
              "179                   тирания брат стать\n",
              "2163             выпить получать задание\n",
              "Name: description, dtype: object"
            ]
          },
          "metadata": {},
          "execution_count": 29
        }
      ]
    },
    {
      "cell_type": "code",
      "source": [
        "text_corpus_train = df_train['description'].values\n",
        "text_corpus_test = df_test['description'].values"
      ],
      "metadata": {
        "id": "G4fiOc8-oA8T"
      },
      "execution_count": 30,
      "outputs": []
    },
    {
      "cell_type": "code",
      "source": [
        "# Определяем токенайзер\n",
        "tokenizer = Tokenizer(num_words=None,\n",
        "                     filters='#$%&()*+-<=>@[\\]^_`{|}~\\t\\n',\n",
        "                     lower = False, split = ' ')\n",
        "\n",
        "# Обучаем токенайзер на тренировочном наборе данных - > получаем готовый словарь\n",
        "tokenizer.fit_on_texts(text_corpus_train)"
      ],
      "metadata": {
        "id": "CemYmK4_oMUE"
      },
      "execution_count": 31,
      "outputs": []
    },
    {
      "cell_type": "code",
      "source": [
        "# На основе полученного словаря токены переводятся в их id и сформировываем последовательности sequences\n",
        "\n",
        "sequences_train = tokenizer.texts_to_sequences(text_corpus_train)\n",
        "sequences_test = tokenizer.texts_to_sequences(text_corpus_test)"
      ],
      "metadata": {
        "id": "fJUPdl5PoYwC"
      },
      "execution_count": 32,
      "outputs": []
    },
    {
      "cell_type": "code",
      "source": [
        "# Всего слов в словаре\n",
        "word_count = len(tokenizer.index_word) + 1\n",
        "\n",
        "# Находим максимальную длину будущей последовательности в тренировочном наборе\n",
        "training_length = max([len(i.split()) for i in text_corpus_train])\n",
        "\n",
        "word_count, training_length"
      ],
      "metadata": {
        "colab": {
          "base_uri": "https://localhost:8080/"
        },
        "id": "XA1M_5-qoa3g",
        "outputId": "642fbfb0-f793-4d96-c68a-06ea865a6e9f"
      },
      "execution_count": 33,
      "outputs": [
        {
          "output_type": "execute_result",
          "data": {
            "text/plain": [
              "(3729, 3)"
            ]
          },
          "metadata": {},
          "execution_count": 33
        }
      ]
    },
    {
      "cell_type": "code",
      "source": [
        "X_train = pad_sequences(sequences_train, maxlen=training_length)\n",
        "X_test = pad_sequences(sequences_test, maxlen=training_length)\n",
        "\n",
        "X_train[5]"
      ],
      "metadata": {
        "colab": {
          "base_uri": "https://localhost:8080/"
        },
        "id": "6zZhQlQFog2F",
        "outputId": "5ac797e9-0cff-4925-de90-3b2b09f44554"
      },
      "execution_count": 34,
      "outputs": [
        {
          "output_type": "execute_result",
          "data": {
            "text/plain": [
              "array([681, 402, 132], dtype=int32)"
            ]
          },
          "metadata": {},
          "execution_count": 34
        }
      ]
    },
    {
      "cell_type": "code",
      "source": [
        "# Преобразование значений y\n",
        "le = LabelEncoder()\n",
        "train_enc_labels = le.fit_transform(df_train['character'])\n",
        "test_enc_labels = le.transform(df_test['character'])\n",
        "le.classes_"
      ],
      "metadata": {
        "colab": {
          "base_uri": "https://localhost:8080/"
        },
        "id": "Jd4ls_xkoibh",
        "outputId": "dc39a87b-1a9e-44bd-e79e-8468c498a63f"
      },
      "execution_count": 35,
      "outputs": [
        {
          "output_type": "execute_result",
          "data": {
            "text/plain": [
              "array(['Арья', 'Бран', 'Варис', 'Дейенерис', 'Джейме', 'Джон Сноу',\n",
              "       'Кейтилин', 'Петир Бейлиш', 'Санса', 'Серсея', 'Тирион',\n",
              "       'Эддард (Нед) Старк'], dtype=object)"
            ]
          },
          "metadata": {},
          "execution_count": 35
        }
      ]
    },
    {
      "cell_type": "code",
      "source": [
        "num_classes = df_train['character'].nunique()\n",
        "y_train = to_categorical(train_enc_labels, num_classes)\n",
        "y_test = to_categorical(test_enc_labels, num_classes)"
      ],
      "metadata": {
        "id": "PBZL6QpEoknf"
      },
      "execution_count": 36,
      "outputs": []
    },
    {
      "cell_type": "code",
      "source": [
        "y_train.shape, y_train[3]"
      ],
      "metadata": {
        "colab": {
          "base_uri": "https://localhost:8080/"
        },
        "id": "qets_NBgon99",
        "outputId": "b9815e11-2103-4682-a5ee-fdd4362fd19d"
      },
      "execution_count": 37,
      "outputs": [
        {
          "output_type": "execute_result",
          "data": {
            "text/plain": [
              "((10767, 12),\n",
              " array([0., 0., 0., 1., 0., 0., 0., 0., 0., 0., 0., 0.], dtype=float32))"
            ]
          },
          "metadata": {},
          "execution_count": 37
        }
      ]
    },
    {
      "cell_type": "code",
      "source": [
        "%%time\n",
        "early_stopping=EarlyStopping(monitor='val_loss', patience = 1, mode = 'min')\n",
        "\n",
        "# RNN - > CNN\n",
        "model = Sequential()\n",
        "\n",
        "model.add(Embedding(input_dim=word_count,\n",
        "              input_length=training_length,\n",
        "              output_dim=num_classes,\n",
        "              trainable=True,\n",
        "              mask_zero=True))\n",
        "\n",
        "model.add(Masking(mask_value=0.0))\n",
        "\n",
        "model.add(LSTM(64,recurrent_dropout=0.2, return_sequences=True))\n",
        "model.add(Conv1D(64, 3, padding = 'same', activation = 'relu'))\n",
        "model.add(GlobalMaxPool1D())\n",
        "model.add(Dense(32, activation='relu'))\n",
        "model.add(Dropout(0.5))\n",
        "model.add(Dense(num_classes, activation='softmax'))\n",
        "\n",
        "model.compile(\n",
        "    optimizer='adam',\n",
        "    loss='binary_crossentropy',\n",
        "    metrics=['accuracy'])\n",
        "\n",
        "history = model.fit(X_train, y_train,\n",
        "                    batch_size=25,\n",
        "                    epochs=40,\n",
        "                    verbose=1,\n",
        "                    validation_data = (X_test, y_test),\n",
        "                    callbacks = [early_stopping]\n",
        "                    )"
      ],
      "metadata": {
        "colab": {
          "base_uri": "https://localhost:8080/"
        },
        "id": "22SP9towopfn",
        "outputId": "649e2241-9d1c-4d1a-ac24-3b4fcdfca5db"
      },
      "execution_count": 38,
      "outputs": [
        {
          "output_type": "stream",
          "name": "stdout",
          "text": [
            "Epoch 1/40\n",
            "431/431 [==============================] - 10s 10ms/step - loss: 0.3438 - accuracy: 0.1298 - val_loss: 0.2727 - val_accuracy: 0.1763\n",
            "Epoch 2/40\n",
            "431/431 [==============================] - 4s 9ms/step - loss: 0.2842 - accuracy: 0.1768 - val_loss: 0.2500 - val_accuracy: 0.2222\n",
            "Epoch 3/40\n",
            "431/431 [==============================] - 6s 13ms/step - loss: 0.2537 - accuracy: 0.2552 - val_loss: 0.2285 - val_accuracy: 0.3183\n",
            "Epoch 4/40\n",
            "431/431 [==============================] - 4s 9ms/step - loss: 0.2242 - accuracy: 0.3661 - val_loss: 0.2034 - val_accuracy: 0.4177\n",
            "Epoch 5/40\n",
            "431/431 [==============================] - 4s 9ms/step - loss: 0.1965 - accuracy: 0.4753 - val_loss: 0.1798 - val_accuracy: 0.5280\n",
            "Epoch 6/40\n",
            "431/431 [==============================] - 5s 13ms/step - loss: 0.1708 - accuracy: 0.5739 - val_loss: 0.1627 - val_accuracy: 0.6007\n",
            "Epoch 7/40\n",
            "431/431 [==============================] - 4s 10ms/step - loss: 0.1522 - accuracy: 0.6333 - val_loss: 0.1489 - val_accuracy: 0.6349\n",
            "Epoch 8/40\n",
            "431/431 [==============================] - 4s 9ms/step - loss: 0.1368 - accuracy: 0.6799 - val_loss: 0.1427 - val_accuracy: 0.6416\n",
            "Epoch 9/40\n",
            "431/431 [==============================] - 5s 12ms/step - loss: 0.1278 - accuracy: 0.6997 - val_loss: 0.1370 - val_accuracy: 0.6617\n",
            "Epoch 10/40\n",
            "431/431 [==============================] - 5s 11ms/step - loss: 0.1202 - accuracy: 0.7177 - val_loss: 0.1331 - val_accuracy: 0.6683\n",
            "Epoch 11/40\n",
            "431/431 [==============================] - 4s 9ms/step - loss: 0.1128 - accuracy: 0.7297 - val_loss: 0.1297 - val_accuracy: 0.6926\n",
            "Epoch 12/40\n",
            "431/431 [==============================] - 5s 11ms/step - loss: 0.1094 - accuracy: 0.7364 - val_loss: 0.1291 - val_accuracy: 0.7009\n",
            "Epoch 13/40\n",
            "431/431 [==============================] - 5s 11ms/step - loss: 0.1043 - accuracy: 0.7535 - val_loss: 0.1263 - val_accuracy: 0.7101\n",
            "Epoch 14/40\n",
            "431/431 [==============================] - 4s 9ms/step - loss: 0.1003 - accuracy: 0.7625 - val_loss: 0.1250 - val_accuracy: 0.6992\n",
            "Epoch 15/40\n",
            "431/431 [==============================] - 5s 11ms/step - loss: 0.0966 - accuracy: 0.7711 - val_loss: 0.1243 - val_accuracy: 0.7151\n",
            "Epoch 16/40\n",
            "431/431 [==============================] - 5s 12ms/step - loss: 0.0947 - accuracy: 0.7778 - val_loss: 0.1293 - val_accuracy: 0.7076\n",
            "CPU times: user 1min 38s, sys: 2.2 s, total: 1min 40s\n",
            "Wall time: 1min 19s\n"
          ]
        }
      ]
    },
    {
      "cell_type": "code",
      "source": [
        "predictions = model.predict(X_test)"
      ],
      "metadata": {
        "colab": {
          "base_uri": "https://localhost:8080/"
        },
        "id": "pSAFABH7ov_-",
        "outputId": "bcde896d-c8b9-4d3e-8d37-80885534fe04"
      },
      "execution_count": 39,
      "outputs": [
        {
          "output_type": "stream",
          "name": "stdout",
          "text": [
            "38/38 [==============================] - 1s 4ms/step\n"
          ]
        }
      ]
    },
    {
      "cell_type": "code",
      "source": [
        "preds = []\n",
        "for pred in predictions:\n",
        "    preds.append(pred.argmax())\n",
        "\n",
        "len(preds), preds[:3]"
      ],
      "metadata": {
        "colab": {
          "base_uri": "https://localhost:8080/"
        },
        "id": "ZtpXYGvJoxii",
        "outputId": "8c131496-5ae5-40da-a1ac-cbe3f5ce1bc7"
      },
      "execution_count": 40,
      "outputs": [
        {
          "output_type": "execute_result",
          "data": {
            "text/plain": [
              "(1197, [8, 8, 11])"
            ]
          },
          "metadata": {},
          "execution_count": 40
        }
      ]
    },
    {
      "cell_type": "code",
      "source": [
        "dec_preds = le.inverse_transform(preds)\n",
        "dec_preds[:3]"
      ],
      "metadata": {
        "colab": {
          "base_uri": "https://localhost:8080/"
        },
        "id": "9ypWlNNnozOt",
        "outputId": "16c7982a-1d16-4481-e70a-41ac7d0465cb"
      },
      "execution_count": 41,
      "outputs": [
        {
          "output_type": "execute_result",
          "data": {
            "text/plain": [
              "array(['Санса', 'Санса', 'Эддард (Нед) Старк'], dtype=object)"
            ]
          },
          "metadata": {},
          "execution_count": 41
        }
      ]
    },
    {
      "cell_type": "code",
      "source": [
        "cols = ['description', 'character']\n",
        "vals = df_test[cols]\n",
        "vals['preds'] = dec_preds\n",
        "vals.sample(5)"
      ],
      "metadata": {
        "colab": {
          "base_uri": "https://localhost:8080/",
          "height": 206
        },
        "id": "Yn9DGccDo1Et",
        "outputId": "4a749189-0215-4170-b9bc-393f27ae10f9"
      },
      "execution_count": 42,
      "outputs": [
        {
          "output_type": "execute_result",
          "data": {
            "text/plain": [
              "                  description  character      preds\n",
              "447      встречаться кротовый      Санса      Санса\n",
              "601   помочь попросить старое  Джон Сноу  Джон Сноу\n",
              "1149     вместе тело мирцелла     Серсея     Джейме\n",
              "523      выбрать покои хостер   Кейтилин   Кейтилин\n",
              "913               указ класть     Серсея       Арья"
            ],
            "text/html": [
              "\n",
              "  <div id=\"df-df170bad-d538-4380-9370-2dd13b4770f5\">\n",
              "    <div class=\"colab-df-container\">\n",
              "      <div>\n",
              "<style scoped>\n",
              "    .dataframe tbody tr th:only-of-type {\n",
              "        vertical-align: middle;\n",
              "    }\n",
              "\n",
              "    .dataframe tbody tr th {\n",
              "        vertical-align: top;\n",
              "    }\n",
              "\n",
              "    .dataframe thead th {\n",
              "        text-align: right;\n",
              "    }\n",
              "</style>\n",
              "<table border=\"1\" class=\"dataframe\">\n",
              "  <thead>\n",
              "    <tr style=\"text-align: right;\">\n",
              "      <th></th>\n",
              "      <th>description</th>\n",
              "      <th>character</th>\n",
              "      <th>preds</th>\n",
              "    </tr>\n",
              "  </thead>\n",
              "  <tbody>\n",
              "    <tr>\n",
              "      <th>447</th>\n",
              "      <td>встречаться кротовый</td>\n",
              "      <td>Санса</td>\n",
              "      <td>Санса</td>\n",
              "    </tr>\n",
              "    <tr>\n",
              "      <th>601</th>\n",
              "      <td>помочь попросить старое</td>\n",
              "      <td>Джон Сноу</td>\n",
              "      <td>Джон Сноу</td>\n",
              "    </tr>\n",
              "    <tr>\n",
              "      <th>1149</th>\n",
              "      <td>вместе тело мирцелла</td>\n",
              "      <td>Серсея</td>\n",
              "      <td>Джейме</td>\n",
              "    </tr>\n",
              "    <tr>\n",
              "      <th>523</th>\n",
              "      <td>выбрать покои хостер</td>\n",
              "      <td>Кейтилин</td>\n",
              "      <td>Кейтилин</td>\n",
              "    </tr>\n",
              "    <tr>\n",
              "      <th>913</th>\n",
              "      <td>указ класть</td>\n",
              "      <td>Серсея</td>\n",
              "      <td>Арья</td>\n",
              "    </tr>\n",
              "  </tbody>\n",
              "</table>\n",
              "</div>\n",
              "      <button class=\"colab-df-convert\" onclick=\"convertToInteractive('df-df170bad-d538-4380-9370-2dd13b4770f5')\"\n",
              "              title=\"Convert this dataframe to an interactive table.\"\n",
              "              style=\"display:none;\">\n",
              "        \n",
              "  <svg xmlns=\"http://www.w3.org/2000/svg\" height=\"24px\"viewBox=\"0 0 24 24\"\n",
              "       width=\"24px\">\n",
              "    <path d=\"M0 0h24v24H0V0z\" fill=\"none\"/>\n",
              "    <path d=\"M18.56 5.44l.94 2.06.94-2.06 2.06-.94-2.06-.94-.94-2.06-.94 2.06-2.06.94zm-11 1L8.5 8.5l.94-2.06 2.06-.94-2.06-.94L8.5 2.5l-.94 2.06-2.06.94zm10 10l.94 2.06.94-2.06 2.06-.94-2.06-.94-.94-2.06-.94 2.06-2.06.94z\"/><path d=\"M17.41 7.96l-1.37-1.37c-.4-.4-.92-.59-1.43-.59-.52 0-1.04.2-1.43.59L10.3 9.45l-7.72 7.72c-.78.78-.78 2.05 0 2.83L4 21.41c.39.39.9.59 1.41.59.51 0 1.02-.2 1.41-.59l7.78-7.78 2.81-2.81c.8-.78.8-2.07 0-2.86zM5.41 20L4 18.59l7.72-7.72 1.47 1.35L5.41 20z\"/>\n",
              "  </svg>\n",
              "      </button>\n",
              "      \n",
              "  <style>\n",
              "    .colab-df-container {\n",
              "      display:flex;\n",
              "      flex-wrap:wrap;\n",
              "      gap: 12px;\n",
              "    }\n",
              "\n",
              "    .colab-df-convert {\n",
              "      background-color: #E8F0FE;\n",
              "      border: none;\n",
              "      border-radius: 50%;\n",
              "      cursor: pointer;\n",
              "      display: none;\n",
              "      fill: #1967D2;\n",
              "      height: 32px;\n",
              "      padding: 0 0 0 0;\n",
              "      width: 32px;\n",
              "    }\n",
              "\n",
              "    .colab-df-convert:hover {\n",
              "      background-color: #E2EBFA;\n",
              "      box-shadow: 0px 1px 2px rgba(60, 64, 67, 0.3), 0px 1px 3px 1px rgba(60, 64, 67, 0.15);\n",
              "      fill: #174EA6;\n",
              "    }\n",
              "\n",
              "    [theme=dark] .colab-df-convert {\n",
              "      background-color: #3B4455;\n",
              "      fill: #D2E3FC;\n",
              "    }\n",
              "\n",
              "    [theme=dark] .colab-df-convert:hover {\n",
              "      background-color: #434B5C;\n",
              "      box-shadow: 0px 1px 3px 1px rgba(0, 0, 0, 0.15);\n",
              "      filter: drop-shadow(0px 1px 2px rgba(0, 0, 0, 0.3));\n",
              "      fill: #FFFFFF;\n",
              "    }\n",
              "  </style>\n",
              "\n",
              "      <script>\n",
              "        const buttonEl =\n",
              "          document.querySelector('#df-df170bad-d538-4380-9370-2dd13b4770f5 button.colab-df-convert');\n",
              "        buttonEl.style.display =\n",
              "          google.colab.kernel.accessAllowed ? 'block' : 'none';\n",
              "\n",
              "        async function convertToInteractive(key) {\n",
              "          const element = document.querySelector('#df-df170bad-d538-4380-9370-2dd13b4770f5');\n",
              "          const dataTable =\n",
              "            await google.colab.kernel.invokeFunction('convertToInteractive',\n",
              "                                                     [key], {});\n",
              "          if (!dataTable) return;\n",
              "\n",
              "          const docLinkHtml = 'Like what you see? Visit the ' +\n",
              "            '<a target=\"_blank\" href=https://colab.research.google.com/notebooks/data_table.ipynb>data table notebook</a>'\n",
              "            + ' to learn more about interactive tables.';\n",
              "          element.innerHTML = '';\n",
              "          dataTable['output_type'] = 'display_data';\n",
              "          await google.colab.output.renderOutput(dataTable, element);\n",
              "          const docLink = document.createElement('div');\n",
              "          docLink.innerHTML = docLinkHtml;\n",
              "          element.appendChild(docLink);\n",
              "        }\n",
              "      </script>\n",
              "    </div>\n",
              "  </div>\n",
              "  "
            ]
          },
          "metadata": {},
          "execution_count": 42
        }
      ]
    },
    {
      "cell_type": "markdown",
      "source": [
        "Пример работы модели"
      ],
      "metadata": {
        "id": "XONpoYSro4Xq"
      }
    },
    {
      "cell_type": "code",
      "source": [
        "def prep_input_text(text):\n",
        "  text = preprocess_text(text)\n",
        "  text_list = []\n",
        "  text_list.append(text)\n",
        "  sequences = tokenizer.texts_to_sequences(text_list)\n",
        "  pad = pad_sequences(sequences, maxlen=training_length)\n",
        "  return pad\n",
        "\n",
        "def make_pred(pad):\n",
        "  predictions_single = model.predict(pad)\n",
        "  preds = [predictions_single.argmax()]\n",
        "  return le.inverse_transform(preds)"
      ],
      "metadata": {
        "id": "2T5vV-Ubo3I9"
      },
      "execution_count": 43,
      "outputs": []
    },
    {
      "cell_type": "code",
      "source": [
        "inp = 'интриган'\n",
        "print('Загадайте героя: ', inp)\n",
        "\n",
        "pred = make_pred(prep_input_text(inp))\n",
        "print('Ответ: ', pred)"
      ],
      "metadata": {
        "colab": {
          "base_uri": "https://localhost:8080/"
        },
        "id": "GAcbuCG1o8Ml",
        "outputId": "f396fc70-9650-414e-e3e0-db1c5e22e090"
      },
      "execution_count": 44,
      "outputs": [
        {
          "output_type": "stream",
          "name": "stdout",
          "text": [
            "Загадайте героя:  интриган\n",
            "1/1 [==============================] - 0s 40ms/step\n",
            "Ответ:  ['Эддард (Нед) Старк']\n"
          ]
        }
      ]
    },
    {
      "cell_type": "markdown",
      "source": [
        "## <a id='Генератор_имен'>Генератор имен Песни Льда и Пламени</a>"
      ],
      "metadata": {
        "id": "RIExkKO4xoDk"
      }
    },
    {
      "cell_type": "markdown",
      "source": [
        "Пользователю предлагается задать начальную букву имени, бот в ответ выдаст сгенерированное имя в стиле Песни льда и пламени. Для этой задачи напишем простой алгоритм, который будет основываться на списке имен из Игры престолов и генерировать случайное."
      ],
      "metadata": {
        "id": "XCB4ZlV9x6pz"
      }
    },
    {
      "cell_type": "code",
      "source": [
        "names = set(['Эддард', 'Кейтилин', 'Робб', 'Санса', 'Арья', 'Бран',\n",
        "             'Рикон', 'Бенджен', 'Лианна', 'Теон', 'Русе', 'Рамси',\n",
        "             'Ходор', 'Оша', 'Жойен', 'Мира', 'Жиенна', 'Дейенерис',\n",
        "             'Визерис', 'Рейегар', 'Эйегон', 'Эйерис', 'Джорах',\n",
        "             'Бринден', 'Миссандея', 'Даарио', 'Тайвин', 'Серсея',\n",
        "             'Джейме', 'Джоффри', 'Мирцелла', 'Тирион', 'Томмен',\n",
        "             'Киван', 'Лансель', 'Бронн', 'Григор', 'Сандор', 'Подрик',\n",
        "             'Станнис', 'Селиса', 'Ширен', 'Мелисандра', 'Давос', 'Ренли',\n",
        "             'Бриенна', 'Берик', 'Джендри', 'Бейлон', 'Аша', 'Эурон',\n",
        "             'Петир', 'Варис', 'Виктарион', 'Эйерон', 'Доран', 'Арианна',\n",
        "             'Элия', 'Оберин', 'Эллария', 'Арео', 'Хостер', 'Эдмур',\n",
        "             'Бринден', 'Уолдер', 'Мейс', 'Лорас', 'Маргери', 'Оленна',\n",
        "             'Рендилл', 'Джиор', 'Эйемон', 'Йорен', 'Сэмвелл', 'Янос',\n",
        "             'Аллисер', 'Манс', 'Игритт', 'Боуэн', 'Эддисон', 'Тормунд',\n",
        "             'Пицель', 'Барристан', 'Арис', 'Илин', 'Квиберн', 'Дрого',\n",
        "             'Сирио', 'Якен', 'Иллирио', 'Торос', 'Гиздар', 'Йеццан',\n",
        "             'Тихо', 'Мерибальд', 'Юнелла'\n",
        "             ])"
      ],
      "metadata": {
        "id": "zSw-N24Kxvvw"
      },
      "execution_count": 45,
      "outputs": []
    },
    {
      "cell_type": "code",
      "source": [
        "df_names = pd.DataFrame(list(names), columns=['name'])"
      ],
      "metadata": {
        "id": "s2BS5Dhx9Ttn"
      },
      "execution_count": 46,
      "outputs": []
    },
    {
      "cell_type": "code",
      "source": [
        "# Разобъем имена на фонемы и создадим словарь по первым буквам\n",
        "\n",
        "fons = {'а': [], 'б': [], 'в': [], 'г': [], 'д': [], 'е': [], 'ё': [], 'ж': [], 'з': [], 'и': [], 'й': [], 'к': [], 'л': [], 'м': [], 'н': [],\n",
        "        'о': [], 'п': [], 'р': [], 'с': [], 'т': [], 'у': [], 'ф': [], 'х': [], 'ц': [], 'ч': [], 'ш': [], 'щ': [], 'ы':[], 'ъ':[], 'ь': [], 'э': [], 'ю': [], 'я': [],\n",
        "        '-': []}\n",
        "\n",
        "for name in df_names.name.str.lower().to_list():\n",
        "  #print(name, len(name))\n",
        "  n_min = 0\n",
        "  n_max = len(name)\n",
        "  while n_min != n_max:\n",
        "    fon = name[n_min:n_min+3]\n",
        "    fl = fon[:1]\n",
        "    fons[fl].append(fon)\n",
        "    n_min +=1"
      ],
      "metadata": {
        "id": "L_DHSMYz9j2V"
      },
      "execution_count": 47,
      "outputs": []
    },
    {
      "cell_type": "code",
      "source": [
        "def gen_name(letter):\n",
        "  letter = letter.lower()\n",
        "  vars = fons[letter]\n",
        "  r = random.randint(0, len(vars))\n",
        "  name = vars[r]\n",
        "  name_length = random.randint(1, 3)\n",
        "\n",
        "  while name_length:\n",
        "\n",
        "    try:\n",
        "      nl = random.choice(list(fons.keys()))[0]\n",
        "      var_nl = fons[nl]\n",
        "      r_nl = random.randint(0, len(var_nl))\n",
        "      name += var_nl[r_nl]\n",
        "    except IndexError:\n",
        "      pass\n",
        "\n",
        "    name_length -= 1\n",
        "\n",
        "  return name.title()"
      ],
      "metadata": {
        "id": "MmmP7T8Y9r5D"
      },
      "execution_count": 48,
      "outputs": []
    },
    {
      "cell_type": "code",
      "source": [
        "let = 'о'\n",
        "print('Ваше имя: ', gen_name(let))"
      ],
      "metadata": {
        "colab": {
          "base_uri": "https://localhost:8080/"
        },
        "id": "hIaoWjzU9v2h",
        "outputId": "e23f2f68-c945-4337-9030-273e23101c9a"
      },
      "execution_count": 49,
      "outputs": [
        {
          "output_type": "stream",
          "name": "stdout",
          "text": [
            "Ваше имя:  Ормл\n"
          ]
        }
      ]
    }
  ]
}